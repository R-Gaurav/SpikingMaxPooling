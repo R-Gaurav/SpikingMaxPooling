{
 "cells": [
  {
   "cell_type": "code",
   "execution_count": 1,
   "id": "e785dab4",
   "metadata": {},
   "outputs": [],
   "source": [
    "import nengo\n",
    "import nengo_loihi\n",
    "import nengo_dl\n",
    "import numpy as np\n",
    "\n",
    "import _init_paths\n",
    "from utils.nengo_dl_utils import get_nengo_dl_model\n",
    "from utils.base_utils.data_prep_utils import get_exp_dataset\n",
    "from configs.exp_configs import tf_exp_cfg as tf_cfg, nengo_loihi_cfg as nloihi_cfg\n",
    "from utils.consts.exp_consts import SEED"
   ]
  },
  {
   "cell_type": "code",
   "execution_count": 2,
   "id": "a43563c2",
   "metadata": {
    "scrolled": true
   },
   "outputs": [
    {
     "name": "stdout",
     "output_type": "stream",
     "text": [
      "RG: Input shape: (32, 32, 3)\n",
      "Model: \"model\"\n",
      "_________________________________________________________________\n",
      "Layer (type)                 Output Shape              Param #   \n",
      "=================================================================\n",
      "input_1 (InputLayer)         [(None, 32, 32, 3)]       0         \n",
      "_________________________________________________________________\n",
      "conv2d (Conv2D)              (None, 32, 32, 4)         12        \n",
      "_________________________________________________________________\n",
      "conv2d_1 (Conv2D)            (None, 30, 30, 8)         288       \n",
      "_________________________________________________________________\n",
      "conv2d_2 (Conv2D)            (None, 14, 14, 8)         576       \n",
      "_________________________________________________________________\n",
      "conv2d_3 (Conv2D)            (None, 12, 12, 16)        1152      \n",
      "_________________________________________________________________\n",
      "flatten (Flatten)            (None, 2304)              0         \n",
      "_________________________________________________________________\n",
      "dense (Dense)                (None, 128)               295040    \n",
      "_________________________________________________________________\n",
      "dense_1 (Dense)              (None, 10)                1290      \n",
      "=================================================================\n",
      "Total params: 298,358\n",
      "Trainable params: 298,358\n",
      "Non-trainable params: 0\n",
      "_________________________________________________________________\n"
     ]
    }
   ],
   "source": [
    "inpt_shape, num_clss = (32, 32, 3), 10\n",
    "\n",
    "ndl_model, ngo_probes_lst = get_nengo_dl_model(inpt_shape, tf_cfg, nloihi_cfg, mode=\"test\", num_clss=num_clss)\n",
    "ndl_model.model.summary()"
   ]
  },
  {
   "cell_type": "markdown",
   "id": "6c4c6e09",
   "metadata": {},
   "source": [
    "# Load dataset"
   ]
  },
  {
   "cell_type": "code",
   "execution_count": 3,
   "id": "5b5d6e83",
   "metadata": {},
   "outputs": [
    {
     "name": "stdout",
     "output_type": "stream",
     "text": [
      "Before Flattening:  (75, 32, 32, 3) (75, 10)\n",
      "After Flattening:  (75, 1, 3072)\n",
      "Presentation Time:  0.1\n"
     ]
    }
   ],
   "source": [
    "_, _, test_x, test_y = get_exp_dataset(\n",
    "    nloihi_cfg[\"dataset\"], channels_first=tf_cfg[\"is_channels_first\"],start_idx=75, end_idx=150)\n",
    "print(\"Before Flattening: \", test_x.shape, test_y.shape)\n",
    "test_x = test_x.reshape((test_x.shape[0], 1, -1))\n",
    "print(\"After Flattening: \", test_x.shape)\n",
    "\n",
    "pres_steps = nloihi_cfg[\"test_mode\"][\"n_steps\"]\n",
    "pres_time = nloihi_cfg[\"test_mode\"][\"n_steps\"] * 0.001\n",
    "print(\"Presentation Time: \", pres_time)"
   ]
  },
  {
   "cell_type": "markdown",
   "id": "43dd41cf",
   "metadata": {},
   "source": [
    "# Load the NDL trained weights"
   ]
  },
  {
   "cell_type": "code",
   "execution_count": 4,
   "id": "c1d520b5",
   "metadata": {},
   "outputs": [
    {
     "name": "stdout",
     "output_type": "stream",
     "text": [
      "Build finished in 0:00:00                                                      \n",
      "|#             Optimizing graph: operator simplificaton               | 0:00:00"
     ]
    },
    {
     "name": "stderr",
     "output_type": "stream",
     "text": [
      "/homes/rgaurav/nxsdk_1_nengo_loihi/lib/python3.8/site-packages/nengo_dl/simulator.py:460: UserWarning: No GPU support detected. See https://www.nengo.ai/nengo-dl/installation.html#installing-tensorflow for instructions on setting up TensorFlow with GPU support.\n",
      "  warnings.warn(\n"
     ]
    },
    {
     "name": "stdout",
     "output_type": "stream",
     "text": [
      "Optimization finished in 0:00:00                                               \n",
      "Construction finished in 0:00:00                                               \n"
     ]
    }
   ],
   "source": [
    "nengo_input, nengo_output = ngo_probes_lst[0], ngo_probes_lst[-1]\n",
    "with nengo_dl.Simulator(ndl_model.net, seed=SEED) as ndl_sim:\n",
    "  ndl_sim.load_params(nloihi_cfg[\"trained_model_params\"]+ \"/ndl_trained_params\")\n",
    "  ndl_sim.freeze_params(ndl_model.net)\n",
    "  \n",
    "with ndl_model.net:\n",
    "  nengo_input.output = nengo.processes.PresentInput(test_x, presentation_time=pres_time)\n",
    "  nengo_loihi.add_params(ndl_model.net)\n",
    "  ndl_model.net.config[ndl_model.layers[ndl_model.model.layers[1]].ensemble].on_chip = False"
   ]
  },
  {
   "cell_type": "markdown",
   "id": "32922a8f",
   "metadata": {},
   "source": [
    "# Set Block Shape of Conv Layers"
   ]
  },
  {
   "cell_type": "code",
   "execution_count": 5,
   "id": "554c9197",
   "metadata": {},
   "outputs": [],
   "source": [
    "bls_dict, i = nloihi_cfg[\"layer_blockshapes\"], 0\n",
    "with ndl_model.net:\n",
    "  # Exclude the Conv layer at index 1 since it runs off-chip to create spikes.\n",
    "  for layer in ndl_model.model.layers[2:-1]:\n",
    "    if layer.name.startswith(\"conv\"):\n",
    "      conv_shape = tuple(layer.output.shape[1:])\n",
    "      if np.prod(conv_shape) <= 1024:\n",
    "        continue\n",
    "      ndl_model.net.config[\n",
    "      ndl_model.layers[layer].ensemble].block_shape = (\n",
    "      nengo_loihi.BlockShape(bls_dict[\"conv2d_%s\" % i], conv_shape))\n",
    "      i+=1"
   ]
  },
  {
   "cell_type": "markdown",
   "id": "05fd946d",
   "metadata": {},
   "source": [
    "# Make Predictions"
   ]
  },
  {
   "cell_type": "code",
   "execution_count": 6,
   "id": "0570a2e0",
   "metadata": {},
   "outputs": [
    {
     "name": "stdout",
     "output_type": "stream",
     "text": [
      "\u001b[1;30mINFO\u001b[0m:\u001b[34mDRV\u001b[0m:  SLURM is being run in background\n"
     ]
    },
    {
     "name": "stderr",
     "output_type": "stream",
     "text": [
      "INFO:DRV:SLURM is being run in background\n"
     ]
    },
    {
     "name": "stdout",
     "output_type": "stream",
     "text": [
      "\u001b[1;30mINFO\u001b[0m:\u001b[34mDRV\u001b[0m:  Connecting to 10.212.98.178:33133\n"
     ]
    },
    {
     "name": "stderr",
     "output_type": "stream",
     "text": [
      "INFO:DRV:Connecting to 10.212.98.178:33133\n"
     ]
    },
    {
     "name": "stdout",
     "output_type": "stream",
     "text": [
      "\u001b[1;30mINFO\u001b[0m:\u001b[34mDRV\u001b[0m:      Host server up..............Done 0.86s\n"
     ]
    },
    {
     "name": "stderr",
     "output_type": "stream",
     "text": [
      "INFO:DRV:    Host server up..............Done 0.86s\n"
     ]
    },
    {
     "name": "stdout",
     "output_type": "stream",
     "text": [
      "\u001b[1;30mINFO\u001b[0m:\u001b[34mDRV\u001b[0m:      Encoding axons/synapses.....Done 2.85s\n"
     ]
    },
    {
     "name": "stderr",
     "output_type": "stream",
     "text": [
      "INFO:DRV:    Encoding axons/synapses.....Done 2.85s\n"
     ]
    },
    {
     "name": "stdout",
     "output_type": "stream",
     "text": [
      "\u001b[1;30mINFO\u001b[0m:\u001b[34mDRV\u001b[0m:      Compiling Embedded snips....Done 0.38s\n"
     ]
    },
    {
     "name": "stderr",
     "output_type": "stream",
     "text": [
      "INFO:DRV:    Compiling Embedded snips....Done 0.38s\n"
     ]
    },
    {
     "name": "stdout",
     "output_type": "stream",
     "text": [
      "\u001b[1;30mINFO\u001b[0m:\u001b[34mDRV\u001b[0m:      Compiling MPDS Registers....Done 0.78ms\n"
     ]
    },
    {
     "name": "stderr",
     "output_type": "stream",
     "text": [
      "INFO:DRV:    Compiling MPDS Registers....Done 0.78ms\n"
     ]
    },
    {
     "name": "stdout",
     "output_type": "stream",
     "text": [
      "\u001b[1;30mINFO\u001b[0m:\u001b[34mHST\u001b[0m:  Args chip=0 cpu=0 /homes/rgaurav/nxsdk_1_nengo_loihi/lib/python3.8/site-packages/nxsdk/driver/compilers/../../../temp/1626292621.0461137/launcher_chip0_lmt0.bin --chips=1 --remote-relay=0 \n"
     ]
    },
    {
     "name": "stderr",
     "output_type": "stream",
     "text": [
      "INFO:HST:Args chip=0 cpu=0 /homes/rgaurav/nxsdk_1_nengo_loihi/lib/python3.8/site-packages/nxsdk/driver/compilers/../../../temp/1626292621.0461137/launcher_chip0_lmt0.bin --chips=1 --remote-relay=0 \n"
     ]
    },
    {
     "name": "stdout",
     "output_type": "stream",
     "text": [
      "\u001b[1;30mINFO\u001b[0m:\u001b[34mHST\u001b[0m:  Nx...\n"
     ]
    },
    {
     "name": "stderr",
     "output_type": "stream",
     "text": [
      "INFO:HST:Nx...\n"
     ]
    },
    {
     "name": "stdout",
     "output_type": "stream",
     "text": [
      "\u001b[1;30mINFO\u001b[0m:\u001b[34mDRV\u001b[0m:      Booting up..................Done 1.08s\n"
     ]
    },
    {
     "name": "stderr",
     "output_type": "stream",
     "text": [
      "INFO:DRV:    Booting up..................Done 1.08s\n"
     ]
    },
    {
     "name": "stdout",
     "output_type": "stream",
     "text": [
      "\u001b[1;30mINFO\u001b[0m:\u001b[34mDRV\u001b[0m:      Encoding probes.............Done 0.94ms\n"
     ]
    },
    {
     "name": "stderr",
     "output_type": "stream",
     "text": [
      "INFO:DRV:    Encoding probes.............Done 0.94ms\n"
     ]
    },
    {
     "name": "stdout",
     "output_type": "stream",
     "text": [
      "\u001b[1;30mINFO\u001b[0m:\u001b[34mDRV\u001b[0m:      Transferring probes.........Done 0.05s\n"
     ]
    },
    {
     "name": "stderr",
     "output_type": "stream",
     "text": [
      "INFO:DRV:    Transferring probes.........Done 0.05s\n"
     ]
    },
    {
     "name": "stdout",
     "output_type": "stream",
     "text": [
      "\u001b[1;30mINFO\u001b[0m:\u001b[34mDRV\u001b[0m:      Configuring registers.......Done 0.61s\n"
     ]
    },
    {
     "name": "stderr",
     "output_type": "stream",
     "text": [
      "INFO:DRV:    Configuring registers.......Done 0.61s\n"
     ]
    },
    {
     "name": "stdout",
     "output_type": "stream",
     "text": [
      "\u001b[1;30mINFO\u001b[0m:\u001b[34mDRV\u001b[0m:      Transferring spikes.........Done 821.70s\n"
     ]
    },
    {
     "name": "stderr",
     "output_type": "stream",
     "text": [
      "INFO:DRV:    Transferring spikes.........Done 821.70s\n"
     ]
    },
    {
     "name": "stdout",
     "output_type": "stream",
     "text": [
      "\u001b[1;30mINFO\u001b[0m:\u001b[34mDRV\u001b[0m:      Executing...................Done 54.64s\n"
     ]
    },
    {
     "name": "stderr",
     "output_type": "stream",
     "text": [
      "INFO:DRV:    Executing...................Done 54.64s\n"
     ]
    },
    {
     "name": "stdout",
     "output_type": "stream",
     "text": [
      "\u001b[1;30mINFO\u001b[0m:\u001b[34mDRV\u001b[0m:      Processing timeseries.......Done 0.34s\n"
     ]
    },
    {
     "name": "stderr",
     "output_type": "stream",
     "text": [
      "INFO:DRV:    Processing timeseries.......Done 0.34s\n"
     ]
    },
    {
     "name": "stdout",
     "output_type": "stream",
     "text": [
      "\u001b[1;30mINFO\u001b[0m:\u001b[34mDRV\u001b[0m:  Executor: 7500 timesteps........Done 877.37s\n"
     ]
    },
    {
     "name": "stderr",
     "output_type": "stream",
     "text": [
      "INFO:DRV:Executor: 7500 timesteps........Done 877.37s\n"
     ]
    },
    {
     "name": "stdout",
     "output_type": "stream",
     "text": [
      "\u001b[1;30mINFO\u001b[0m:\u001b[34mHST\u001b[0m:  chip=0 cpu=0 halted, status=0x0\n"
     ]
    },
    {
     "name": "stderr",
     "output_type": "stream",
     "text": [
      "INFO:HST:chip=0 cpu=0 halted, status=0x0\n"
     ]
    }
   ],
   "source": [
    "with nengo_loihi.Simulator(ndl_model.net, seed=SEED, target=\"loihi\", precompute=False) as loihi_sim:\n",
    "  loihi_sim.run(nloihi_cfg[\"test_mode\"][\"n_test\"] * pres_time)"
   ]
  },
  {
   "cell_type": "code",
   "execution_count": 7,
   "id": "e742286d",
   "metadata": {},
   "outputs": [],
   "source": [
    "output = loihi_sim.data[nengo_output]\n",
    "np.save(\"all_conv_loihi_pred_75_150_test_images\", output)"
   ]
  },
  {
   "cell_type": "code",
   "execution_count": 8,
   "id": "d9652c2b",
   "metadata": {},
   "outputs": [
    {
     "name": "stdout",
     "output_type": "stream",
     "text": [
      "57.333333333333336\n"
     ]
    }
   ],
   "source": [
    "loihi_pred_clss = np.argmax(output[pres_steps-1 :: pres_steps], axis=-1)\n",
    "acc = 100 * np.mean(loihi_pred_clss == np.argmax(test_y[:nloihi_cfg[\"test_mode\"][\"n_test\"]], axis=-1))\n",
    "print(acc)"
   ]
  },
  {
   "cell_type": "markdown",
   "id": "a32b58bb",
   "metadata": {},
   "source": [
    "# Calculate predictions of 0 to 100 test images"
   ]
  },
  {
   "cell_type": "code",
   "execution_count": 4,
   "id": "e5829d84",
   "metadata": {},
   "outputs": [],
   "source": [
    "pred_0_75 = np.load(\"all_conv_loihi_pred_0_75_test_images.npy\")\n",
    "pred_75_150 = np.load(\"all_conv_loihi_pred_75_150_test_images.npy\")\n",
    "pred_0_75 = np.argmax(pred_0_75[pres_steps-1 :: pres_steps], axis=-1)\n",
    "pred_75_150 = np.argmax(pred_75_150[pres_steps-1 :: pres_steps], axis=-1)"
   ]
  },
  {
   "cell_type": "code",
   "execution_count": 5,
   "id": "0d7996fb",
   "metadata": {
    "scrolled": true
   },
   "outputs": [
    {
     "name": "stdout",
     "output_type": "stream",
     "text": [
      "59.0\n"
     ]
    }
   ],
   "source": [
    "lst = []\n",
    "lst.extend(pred_0_75)\n",
    "lst.extend(pred_75_150)\n",
    "_, _, _, test_y = get_exp_dataset(\n",
    "    nloihi_cfg[\"dataset\"], channels_first=tf_cfg[\"is_channels_first\"],start_idx=0, end_idx=100)\n",
    "print(100 * np.mean(lst[:100] == np.argmax(test_y[:], axis=-1)))"
   ]
  }
 ],
 "metadata": {
  "kernelspec": {
   "display_name": "Python 3",
   "language": "python",
   "name": "python3"
  },
  "language_info": {
   "codemirror_mode": {
    "name": "ipython",
    "version": 3
   },
   "file_extension": ".py",
   "mimetype": "text/x-python",
   "name": "python",
   "nbconvert_exporter": "python",
   "pygments_lexer": "ipython3",
   "version": "3.8.10"
  }
 },
 "nbformat": 4,
 "nbformat_minor": 5
}
