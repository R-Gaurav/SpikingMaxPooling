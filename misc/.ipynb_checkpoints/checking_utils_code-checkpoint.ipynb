{
 "cells": [
  {
   "cell_type": "code",
   "execution_count": 1,
   "id": "psychological-burton",
   "metadata": {},
   "outputs": [],
   "source": [
    "import _init_paths\n",
    "\n",
    "from configs.exp_configs import tf_exp_cfg\n",
    "from utils.cnn_2d_utils import get_2d_cnn_model\n",
    "from utils.base_utils.exp_utils import get_grouped_slices_2d_pooling"
   ]
  },
  {
   "cell_type": "code",
   "execution_count": 2,
   "id": "former-circus",
   "metadata": {
    "scrolled": true
   },
   "outputs": [
    {
     "name": "stdout",
     "output_type": "stream",
     "text": [
      "Model: \"model\"\n",
      "_________________________________________________________________\n",
      "Layer (type)                 Output Shape              Param #   \n",
      "=================================================================\n",
      "input_1 (InputLayer)         [(None, 3, 256, 256)]     0         \n",
      "_________________________________________________________________\n",
      "conv2d (Conv2D)              (None, 16, 254, 254)      448       \n",
      "_________________________________________________________________\n",
      "max_pooling2d (MaxPooling2D) (None, 16, 127, 127)      0         \n",
      "_________________________________________________________________\n",
      "conv2d_1 (Conv2D)            (None, 24, 125, 125)      3480      \n",
      "_________________________________________________________________\n",
      "max_pooling2d_1 (MaxPooling2 (None, 24, 62, 62)        0         \n",
      "_________________________________________________________________\n",
      "conv2d_2 (Conv2D)            (None, 32, 60, 60)        6944      \n",
      "_________________________________________________________________\n",
      "flatten (Flatten)            (None, 115200)            0         \n",
      "_________________________________________________________________\n",
      "dense (Dense)                (None, 64)                7372864   \n",
      "_________________________________________________________________\n",
      "dense_1 (Dense)              (None, 10)                650       \n",
      "=================================================================\n",
      "Total params: 7,384,386\n",
      "Trainable params: 7,384,386\n",
      "Non-trainable params: 0\n",
      "_________________________________________________________________\n"
     ]
    }
   ],
   "source": [
    "model = get_2d_cnn_model((1, 28, 28), tf_exp_cfg) # Channels first shape (1, 28, 28).\n",
    "model[0].summary()"
   ]
  },
  {
   "cell_type": "code",
   "execution_count": 3,
   "id": "antique-activation",
   "metadata": {},
   "outputs": [],
   "source": [
    "grouped_slices = get_grouped_slices_2d_pooling(pool_size=(2, 2), num_chnls=16, rows=26, cols=26)"
   ]
  },
  {
   "cell_type": "code",
   "execution_count": 4,
   "id": "purple-house",
   "metadata": {
    "scrolled": true
   },
   "outputs": [
    {
     "data": {
      "text/plain": [
       "10816"
      ]
     },
     "execution_count": 4,
     "metadata": {},
     "output_type": "execute_result"
    }
   ],
   "source": [
    "len(grouped_slices) # 10816 == 16 x 26 x 26"
   ]
  },
  {
   "cell_type": "code",
   "execution_count": 5,
   "id": "professional-relations",
   "metadata": {},
   "outputs": [],
   "source": [
    "grouped_slices = get_grouped_slices_2d_pooling(pool_size=(2, 2), num_chnls=24, rows=11, cols=11)"
   ]
  },
  {
   "cell_type": "code",
   "execution_count": 6,
   "id": "sharp-arkansas",
   "metadata": {
    "scrolled": false
   },
   "outputs": [
    {
     "data": {
      "text/plain": [
       "2400"
      ]
     },
     "execution_count": 6,
     "metadata": {},
     "output_type": "execute_result"
    }
   ],
   "source": [
    "len(grouped_slices)# 24 x 11 x 11 = 2904 "
   ]
  }
 ],
 "metadata": {
  "kernelspec": {
   "display_name": "Python 3",
   "language": "python",
   "name": "python3"
  },
  "language_info": {
   "codemirror_mode": {
    "name": "ipython",
    "version": 3
   },
   "file_extension": ".py",
   "mimetype": "text/x-python",
   "name": "python",
   "nbconvert_exporter": "python",
   "pygments_lexer": "ipython3",
   "version": "3.7.7"
  }
 },
 "nbformat": 4,
 "nbformat_minor": 5
}
