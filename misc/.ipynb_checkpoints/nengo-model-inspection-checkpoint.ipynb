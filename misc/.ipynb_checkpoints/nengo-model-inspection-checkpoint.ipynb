{
 "cells": [
  {
   "cell_type": "code",
   "execution_count": 1,
   "metadata": {},
   "outputs": [
    {
     "name": "stderr",
     "output_type": "stream",
     "text": [
      "/home/rgaurav/miniconda3/envs/nengo-tf/lib/python3.7/site-packages/nengo_dl/converter.py:360: UserWarning: Layer '<class 'tensorflow.python.keras.layers.normalization_v2.BatchNormalization'>' already has a converter. Overwriting.\n",
      "  \"Layer '%s' already has a converter. Overwriting.\" % keras_layer\n"
     ]
    }
   ],
   "source": [
    "import _init_paths\n",
    "import nengo\n",
    "import nengo_dl\n",
    "import matplotlib.pyplot as plt\n",
    "import numpy as np\n",
    "import pathlib\n",
    "import pickle\n",
    "\n",
    "from configs.exp_configs import tf_exp_cfg as exp_cfg, nengo_dl_cfg as ngo_cfg\n",
    "from utils.base_utils.data_prep_utils import get_batches_of_cifar_data\n",
    "from utils.base_utils.exp_utils import collect_sim_data_spikes\n",
    "from utils.nengo_dl_utils import get_nengo_dl_model\n",
    "from utils.consts.dir_consts import EXP_OTPT_DIR\n",
    "from utils.consts.exp_consts import SEED"
   ]
  },
  {
   "cell_type": "code",
   "execution_count": 2,
   "metadata": {
    "scrolled": true
   },
   "outputs": [
    {
     "name": "stderr",
     "output_type": "stream",
     "text": [
      "/home/rgaurav/miniconda3/envs/nengo-tf/lib/python3.7/site-packages/nengo_dl/converter.py:555: UserWarning: Activation type <function softmax at 0x2ab3a73d7710> does not have a native Nengo equivalent; falling back to a TensorNode\n",
      "  \"falling back to a TensorNode\" % activation\n"
     ]
    }
   ],
   "source": [
    "batches = get_batches_of_cifar_data(ngo_cfg, is_test=True)\n",
    "nengo_model, nengo_probes_obj_lst = get_nengo_dl_model(\n",
    "    (32, 32, 3), exp_cfg, ngo_cfg)"
   ]
  },
  {
   "cell_type": "code",
   "execution_count": 4,
   "metadata": {},
   "outputs": [
    {
     "name": "stdout",
     "output_type": "stream",
     "text": [
      "Build finished in 0:00:00                                                      \n",
      "Optimization finished in 0:00:00                                               \n",
      "Construction finished in 0:00:02                                               \n"
     ]
    }
   ],
   "source": [
    "ndl_model_otpt = []\n",
    "ndl_model_spks = []\n",
    "\n",
    "with nengo_model.net:\n",
    "  nengo_dl.configure_settings(stateful=False)\n",
    "\n",
    "with nengo_dl.Simulator(\n",
    "  nengo_model.net, minibatch_size=ngo_cfg[\"test_batch_size\"], progress_bar=True, seed=SEED) as sim:\n",
    "  nengo_input = nengo_probes_obj_lst[0]\n",
    "  nengo_output = nengo_probes_obj_lst[-1]\n",
    "  batch_num=1\n",
    "  for batch in batches:\n",
    "    sim_data = sim.predict_on_batch({nengo_input: batch[0]})\n",
    "    for y_true, y_pred in zip(batch[1], sim_data[nengo_output]):\n",
    "      ndl_model_otpt.append((np.argmax([y_true]), np.argmax(y_pred[-1]), y_pred))\n",
    "    if batch_num == 1: # Collect only for one batch, else memory consumption is too high.\n",
    "      mdl_spks = collect_sim_data_spikes(nengo_probes_obj_lst, sim_data)\n",
    "      ndl_model_spks.extend(mdl_spks)\n",
    "    print(\"Batch: %s Done.\" % batch_num)\n",
    "    batch_num += 1\n",
    "    break"
   ]
  },
  {
   "cell_type": "code",
   "execution_count": 65,
   "metadata": {
    "scrolled": false
   },
   "outputs": [
    {
     "name": "stdout",
     "output_type": "stream",
     "text": [
      "['__class__', '__del__', '__delattr__', '__dict__', '__dir__', '__doc__', '__enter__', '__eq__', '__exit__', '__format__', '__ge__', '__getattribute__', '__getstate__', '__gt__', '__hash__', '__init__', '__init_subclass__', '__le__', '__lt__', '__module__', '__ne__', '__new__', '__reduce__', '__reduce_ex__', '__repr__', '__setattr__', '__sizeof__', '__str__', '__subclasshook__', '__weakref__', '_build_keras', '_call_keras', '_check_data', '_closed_attrs', '_device_context', '_generate_inputs', '_graph_context', '_keras_dtype', '_n_steps', '_standardize_data', '_time', '_update_steps', 'check_gradients', 'close', 'closed', 'compile', 'data', 'dt', 'evaluate', 'fit', 'freeze_params', 'get_name', 'get_nengo_params', 'graph', 'keras_model', 'load_params', 'loss', 'minibatch_size', 'model', 'n_steps', 'node_inputs', 'predict', 'predict_on_batch', 'progress_bar', 'reset', 'run', 'run_steps', 'save_params', 'seed', 'soft_reset', 'stateful', 'step', 'tensor_graph', 'time', 'train', 'trange', 'unroll']\n"
     ]
    }
   ],
   "source": [
    "print(dir(sim))\n",
    "ens = list(nengo_model.layers.dict.values())[5].ensemble"
   ]
  },
  {
   "cell_type": "code",
   "execution_count": 68,
   "metadata": {},
   "outputs": [
    {
     "name": "stdout",
     "output_type": "stream",
     "text": [
      "2048 SpikingRectifiedLinear() None <Neurons of <Ensemble \"conv2d_4.0\">>\n",
      "[[-1.]\n",
      " [-1.]\n",
      " [ 1.]\n",
      " ...\n",
      " [-1.]\n",
      " [ 1.]\n",
      " [ 1.]]\n",
      "[[-250.]\n",
      " [-250.]\n",
      " [ 250.]\n",
      " ...\n",
      " [-250.]\n",
      " [ 250.]\n",
      " [ 250.]]\n"
     ]
    }
   ],
   "source": [
    "print(ens.n_neurons, ens.neuron_type, ens.seed, ens.neurons)\n",
    "print(sim.data[ens].encoders)\n",
    "print(sim.data[ens].scaled_encoders)"
   ]
  },
  {
   "cell_type": "code",
   "execution_count": 16,
   "metadata": {
    "scrolled": false
   },
   "outputs": [
    {
     "name": "stderr",
     "output_type": "stream",
     "text": [
      "/home/rgaurav/miniconda3/envs/nengo-tf/lib/python3.7/site-packages/nengo_dl/simulator.py:2218: UserWarning: Checking parameters after simulator is closed; cannot fetch live values, so the initial values will be returned.\n",
      "  \"Checking parameters after simulator is closed; \"\n"
     ]
    },
    {
     "data": {
      "text/plain": [
       "1"
      ]
     },
     "execution_count": 16,
     "metadata": {},
     "output_type": "execute_result"
    },
    {
     "data": {
      "image/png": "[encoded data removed]",
      "text/plain": [
       "<Figure size 432x288 with 1 Axes>"
      ]
     },
     "metadata": {
      "needs_background": "light"
     },
     "output_type": "display_data"
    }
   ],
   "source": [
    "# act_mat is the Tuning Curve matrix.\n",
    "xs, act_mat = nengo.utils.ensemble.tuning_curves(ens, sim, np.linspace(-1, 1, 200).reshape(-1, 1))\n",
    "plt.plot(act_mat[:, 0])"
   ]
  },
  {
   "cell_type": "code",
   "execution_count": 4,
   "metadata": {
    "scrolled": true
   },
   "outputs": [
    {
     "name": "stdout",
     "output_type": "stream",
     "text": [
      "odict_keys([<Probe at 0x2ab74fca1090 of 'output' of <TensorNode \"dense_2.0\">>, <Probe at 0x2ab74fca13d0 of 'output' of <Neurons of <Ensemble \"conv2d.0\">>>, <Probe at 0x2ab7346fef90 of 'output' of <Neurons of <Ensemble \"conv2d_1.0\">>>, <Probe at 0x2ab734b05a90 of 'output' of <Neurons of <Ensemble \"conv2d_2.0\">>>, <Probe at 0x2ab74fca1350 of 'output' of <Neurons of <Ensemble \"conv2d_3.0\">>>, <Probe at 0x2ab74fca12d0 of 'output' of <Neurons of <Ensemble \"conv2d_4.0\">>>, <Probe at 0x2ab74fca1290 of 'output' of <Neurons of <Ensemble \"dense.0\">>>, <Probe at 0x2ab74fca11d0 of 'output' of <Neurons of <Ensemble \"dense_1.0\">>>])\n"
     ]
    }
   ],
   "source": [
    "print(sim_data.keys())"
   ]
  },
  {
   "cell_type": "code",
   "execution_count": 7,
   "metadata": {},
   "outputs": [
    {
     "name": "stdout",
     "output_type": "stream",
     "text": [
      "[0. 0. 0. 0. 0. 0. 0. 0. 0. 0. 0. 0. 0. 0. 0. 0. 0. 0. 0. 0. 0. 0. 0. 0.\n",
      " 0. 0. 0. 0. 0. 0. 0. 0. 0. 0. 0. 0. 0. 0. 0. 0. 0. 0. 0. 0. 0. 0. 0. 0.\n",
      " 0. 0. 0. 0. 0. 0. 0. 0. 0. 0. 0. 0.]\n"
     ]
    }
   ],
   "source": [
    "conv0_p = nengo_probes_obj_lst[1]\n",
    "print(sim_data[conv0_p][0][:, 6])"
   ]
  },
  {
   "cell_type": "code",
   "execution_count": 5,
   "metadata": {},
   "outputs": [
    {
     "name": "stdout",
     "output_type": "stream",
     "text": [
      "['KerasTensorDict', '__class__', '__delattr__', '__dict__', '__dir__', '__doc__', '__eq__', '__format__', '__ge__', '__getattribute__', '__gt__', '__hash__', '__init__', '__init_subclass__', '__le__', '__lt__', '__module__', '__ne__', '__new__', '__reduce__', '__reduce_ex__', '__repr__', '__setattr__', '__sizeof__', '__str__', '__subclasshook__', '__weakref__', '_layer_converters', 'allow_fallback', 'converters', 'get_converter', 'inference_only', 'inputs', 'layer_map', 'layers', 'max_to_avg_pool', 'model', 'net', 'outputs', 'register', 'scale_firing_rates', 'split_shared_weights', 'swap_activations', 'synapse', 'verify']\n"
     ]
    }
   ],
   "source": [
    "print(dir(nengo_model))"
   ]
  },
  {
   "cell_type": "code",
   "execution_count": 12,
   "metadata": {},
   "outputs": [
    {
     "name": "stdout",
     "output_type": "stream",
     "text": [
      "Model: \"model\"\n",
      "_________________________________________________________________\n",
      "Layer (type)                 Output Shape              Param #   \n",
      "=================================================================\n",
      "input_1 (InputLayer)         [(None, 32, 32, 3)]       0         \n",
      "_________________________________________________________________\n",
      "conv2d (Conv2D)              (None, 32, 32, 32)        896       \n",
      "_________________________________________________________________\n",
      "conv2d_1 (Conv2D)            (None, 32, 32, 64)        18496     \n",
      "_________________________________________________________________\n",
      "conv2d_2 (Conv2D)            (None, 16, 16, 64)        36928     \n",
      "_________________________________________________________________\n",
      "conv2d_3 (Conv2D)            (None, 8, 8, 96)          55392     \n",
      "_________________________________________________________________\n",
      "conv2d_4 (Conv2D)            (None, 4, 4, 128)         110720    \n",
      "_________________________________________________________________\n",
      "flatten (Flatten)            (None, 2048)              0         \n",
      "_________________________________________________________________\n",
      "dense (Dense)                (None, 512)               1049088   \n",
      "_________________________________________________________________\n",
      "dense_1 (Dense)              (None, 512)               262656    \n",
      "_________________________________________________________________\n",
      "dense_2 (Dense)              (None, 10)                5130      \n",
      "=================================================================\n",
      "Total params: 1,539,306\n",
      "Trainable params: 1,539,306\n",
      "Non-trainable params: 0\n",
      "_________________________________________________________________\n",
      "None\n"
     ]
    }
   ],
   "source": [
    "print(nengo_model.model.summary())"
   ]
  },
  {
   "cell_type": "code",
   "execution_count": 18,
   "metadata": {},
   "outputs": [
    {
     "name": "stdout",
     "output_type": "stream",
     "text": [
      "['__abstractmethods__', '__class__', '__contains__', '__delattr__', '__dict__', '__dir__', '__doc__', '__eq__', '__format__', '__ge__', '__getattribute__', '__getitem__', '__gt__', '__hash__', '__init__', '__init_subclass__', '__iter__', '__le__', '__len__', '__lt__', '__module__', '__ne__', '__new__', '__reduce__', '__reduce_ex__', '__repr__', '__reversed__', '__setattr__', '__setitem__', '__sizeof__', '__slots__', '__str__', '__subclasshook__', '__weakref__', '_abc_impl', '_get_key', 'dict', 'get', 'items', 'keys', 'values']\n"
     ]
    }
   ],
   "source": [
    "print(dir(nengo_model.layers))"
   ]
  },
  {
   "cell_type": "code",
   "execution_count": 30,
   "metadata": {},
   "outputs": [
    {
     "name": "stdout",
     "output_type": "stream",
     "text": [
      "['__class__', '__delattr__', '__dict__', '__dir__', '__doc__', '__eq__', '__format__', '__ge__', '__getattribute__', '__getitem__', '__getstate__', '__gt__', '__hash__', '__init__', '__init_subclass__', '__le__', '__len__', '__lt__', '__module__', '__ne__', '__new__', '__reduce__', '__reduce_ex__', '__repr__', '__setattr__', '__setstate__', '__sizeof__', '__str__', '__subclasshook__', '__weakref__', '_initialized', '_param_init_order', '_str', 'bias', 'copy', 'dimensions', 'encoders', 'eval_points', 'gain', 'intercepts', 'label', 'max_rates', 'n_eval_points', 'n_neurons', 'neuron_type', 'neurons', 'noise', 'normalize_encoders', 'params', 'probeable', 'radius', 'seed', 'size_in', 'size_out']\n"
     ]
    }
   ],
   "source": [
    "print(dir(list(nengo_model.layers.dict.values())[1].ensemble))"
   ]
  },
  {
   "cell_type": "code",
   "execution_count": 10,
   "metadata": {},
   "outputs": [
    {
     "data": {
      "text/plain": [
       "nengo.ensemble.Ensemble"
      ]
     },
     "execution_count": 10,
     "metadata": {},
     "output_type": "execute_result"
    }
   ],
   "source": [
    "type(list(nengo_model.layers.dict.values())[1].ensemble)"
   ]
  },
  {
   "cell_type": "code",
   "execution_count": 61,
   "metadata": {},
   "outputs": [
    {
     "name": "stdout",
     "output_type": "stream",
     "text": [
      "Build finished in 0:00:00                                                      \n",
      "Optimization finished in 0:00:00                                               \n",
      "Construction finished in 0:00:03                                               \n",
      "['__class__', '__contains__', '__delattr__', '__delitem__', '__dir__', '__doc__', '__eq__', '__format__', '__ge__', '__getattribute__', '__getitem__', '__gt__', '__hash__', '__init__', '__init_subclass__', '__iter__', '__le__', '__len__', '__lt__', '__ne__', '__new__', '__reduce__', '__reduce_ex__', '__repr__', '__setattr__', '__setitem__', '__sizeof__', '__str__', '__subclasshook__', 'clear', 'copy', 'fromkeys', 'get', 'items', 'keys', 'pop', 'popitem', 'setdefault', 'update', 'values']\n"
     ]
    }
   ],
   "source": [
    "# Print dir(sim)\n",
    "#['__class__', '__del__', '__delattr__', '__dict__', '__dir__', '__doc__', '__enter__', '__eq__', '__exit__', \n",
    "#'__format__', '__ge__', '__getattribute__', '__getstate__', '__gt__', '__hash__', '__init__', '__init_subclass__', \n",
    "#'__le__', '__lt__', '__module__', '__ne__', '__new__', '__reduce__', '__reduce_ex__', '__repr__', '__setattr__', \n",
    "#'__sizeof__', '__str__', '__subclasshook__', '__weakref__', '_build_keras', '_call_keras', '_check_data', \n",
    "#'_device_context', '_generate_inputs', '_graph_context', '_keras_dtype', '_n_steps', '_standardize_data', '_time', \n",
    "#'_update_steps', 'check_gradients', 'close', 'closed', 'compile', 'data', 'dt', 'evaluate', 'fit', 'freeze_params', \n",
    "#'get_name', 'get_nengo_params', 'graph', 'keras_model', 'load_params', 'loss', 'minibatch_size', 'model', 'n_steps', \n",
    "#'node_inputs', 'predict', 'predict_on_batch', 'progress_bar', 'reset', 'run', 'run_steps', 'save_params', 'seed', \n",
    "#'soft_reset', 'stateful', 'step', 'tensor_graph', 'time', 'train', 'trange', 'unroll']"
   ]
  },
  {
   "cell_type": "code",
   "execution_count": 9,
   "metadata": {},
   "outputs": [
    {
     "name": "stdout",
     "output_type": "stream",
     "text": [
      "['__class__', '__delattr__', '__dict__', '__dir__', '__doc__', '__eq__', '__format__', '__ge__', '__getattribute__', '__getstate__', '__gt__', '__hash__', '__init__', '__init_subclass__', '__le__', '__lt__', '__module__', '__ne__', '__new__', '__reduce__', '__reduce_ex__', '__repr__', '__setattr__', '__setstate__', '__sizeof__', '__str__', '__subclasshook__', '__weakref__', '_initialized', '_param_init_order', '_str', 'attr', 'copy', 'label', 'obj', 'params', 'sample_every', 'seed', 'size_in', 'size_out', 'slice', 'solver', 'synapse', 'target']\n"
     ]
    }
   ],
   "source": [
    "print(dir(nengo_probes_obj_lst[1]))"
   ]
  },
  {
   "cell_type": "code",
   "execution_count": 10,
   "metadata": {},
   "outputs": [
    {
     "name": "stdout",
     "output_type": "stream",
     "text": [
      "['__class__', '__delattr__', '__dict__', '__dir__', '__doc__', '__eq__', '__format__', '__ge__', '__getattribute__', '__gt__', '__hash__', '__init__', '__init_subclass__', '__le__', '__lt__', '__module__', '__ne__', '__new__', '__reduce__', '__reduce_ex__', '__repr__', '__setattr__', '__sizeof__', '__str__', '__subclasshook__', '__weakref__', 'add_op', 'build', 'build_callback', 'builder', 'config', 'decoder_cache', 'dt', 'fail_fast', 'has_built', 'label', 'operators', 'params', 'probes', 'seeded', 'seeds', 'sig', 'step', 'time', 'toplevel']\n"
     ]
    }
   ],
   "source": [
    "print(dir(sim.model))"
   ]
  },
  {
   "cell_type": "code",
   "execution_count": null,
   "metadata": {},
   "outputs": [],
   "source": []
  }
 ],
 "metadata": {
  "kernelspec": {
   "display_name": "Python 3",
   "language": "python",
   "name": "python3"
  },
  "language_info": {
   "codemirror_mode": {
    "name": "ipython",
    "version": 3
   },
   "file_extension": ".py",
   "mimetype": "text/x-python",
   "name": "python",
   "nbconvert_exporter": "python",
   "pygments_lexer": "ipython3",
   "version": "3.7.7"
  }
 },
 "nbformat": 4,
 "nbformat_minor": 4
}
