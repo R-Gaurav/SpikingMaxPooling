{
 "cells": [
  {
   "cell_type": "code",
   "execution_count": 1,
   "id": "relative-acquisition",
   "metadata": {},
   "outputs": [],
   "source": [
    "# Import libraries\n",
    "import matplotlib\n",
    "import matplotlib.pyplot as plt\n",
    "import nengo\n",
    "import nengo_dl\n",
    "import numpy as np\n",
    "import tensorflow as tf"
   ]
  },
  {
   "cell_type": "code",
   "execution_count": 2,
   "id": "operational-casino",
   "metadata": {},
   "outputs": [],
   "source": [
    "def get_2d_cnn_model(inpt_shape, avg_pooling=False, max_pooling=False, strd_conv=False):\n",
    "  \"\"\"\n",
    "  Returns a 2D-CNN model for image classification.\n",
    "\n",
    "  Args:\n",
    "    input_shape <tuple>: A tuple of 2D image shape e.g. (32, 32, 3)\n",
    "  \"\"\"\n",
    "  def _get_cnn_block(layer, num_filters, layer_objs_lst):\n",
    "    conv = tf.keras.layers.Conv2D(\n",
    "        num_filters, 3, padding=\"same\", activation=\"relu\",\n",
    "        kernel_initializer=\"he_uniform\",\n",
    "        kernel_regularizer=tf.keras.regularizers.l2(0.005))(layer)\n",
    "    if avg_pooling:\n",
    "      pool = tf.keras.layers.AveragePooling2D()(conv)\n",
    "    elif max_pooling:\n",
    "      pool = tf.keras.layers.MaxPooling2D()(conv)\n",
    "    elif strd_conv:\n",
    "      pool = tf.keras.layers.Conv2D(\n",
    "        num_filters, 2, padding=\"same\", #activation=\"relu\",\n",
    "        kernel_initializer=\"he_uniform\", strides=(2, 2),\n",
    "        kernel_regularizer=tf.keras.regularizers.l2(0.005))(conv)\n",
    "      \n",
    "    layer_objs_lst.append(conv)\n",
    "    return pool\n",
    "\n",
    "  layer_objs_lst = [] # To store the layer objects to probe later in Nengo-DL\n",
    "\n",
    "  inpt_layer = tf.keras.Input(shape=inpt_shape)\n",
    "  layer_objs_lst.append(inpt_layer)\n",
    "\n",
    "  layer = _get_cnn_block(inpt_layer, 32, layer_objs_lst)\n",
    "  layer = _get_cnn_block(layer, 64, layer_objs_lst)\n",
    "  layer = _get_cnn_block(layer, 128, layer_objs_lst)\n",
    "\n",
    "  flat = tf.keras.layers.Flatten()(layer)\n",
    "\n",
    "  dense = tf.keras.layers.Dense(\n",
    "      512, activation=\"relu\", kernel_initializer=\"he_uniform\",\n",
    "      kernel_regularizer=tf.keras.regularizers.l2(0.005))(flat)\n",
    "  layer_objs_lst.append(dense)\n",
    "\n",
    "  output_layer = tf.keras.layers.Dense(\n",
    "      10, activation=\"softmax\", kernel_initializer=\"he_uniform\",\n",
    "      kernel_regularizer=tf.keras.regularizers.l2(0.005))(dense)\n",
    "  layer_objs_lst.append(output_layer)\n",
    "\n",
    "  model = tf.keras.Model(inputs=inpt_layer, outputs=output_layer)\n",
    "  return model, layer_objs_lst"
   ]
  },
  {
   "cell_type": "code",
   "execution_count": 3,
   "id": "severe-radical",
   "metadata": {},
   "outputs": [
    {
     "name": "stdout",
     "output_type": "stream",
     "text": [
      "Model: \"model\"\n",
      "_________________________________________________________________\n",
      "Layer (type)                 Output Shape              Param #   \n",
      "=================================================================\n",
      "input_1 (InputLayer)         [(None, 32, 32, 3)]       0         \n",
      "_________________________________________________________________\n",
      "conv2d (Conv2D)              (None, 32, 32, 32)        896       \n",
      "_________________________________________________________________\n",
      "average_pooling2d (AveragePo (None, 16, 16, 32)        0         \n",
      "_________________________________________________________________\n",
      "conv2d_1 (Conv2D)            (None, 16, 16, 64)        18496     \n",
      "_________________________________________________________________\n",
      "average_pooling2d_1 (Average (None, 8, 8, 64)          0         \n",
      "_________________________________________________________________\n",
      "conv2d_2 (Conv2D)            (None, 8, 8, 128)         73856     \n",
      "_________________________________________________________________\n",
      "average_pooling2d_2 (Average (None, 4, 4, 128)         0         \n",
      "_________________________________________________________________\n",
      "flatten (Flatten)            (None, 2048)              0         \n",
      "_________________________________________________________________\n",
      "dense (Dense)                (None, 512)               1049088   \n",
      "_________________________________________________________________\n",
      "dense_1 (Dense)              (None, 10)                5130      \n",
      "=================================================================\n",
      "Total params: 1,147,466\n",
      "Trainable params: 1,147,466\n",
      "Non-trainable params: 0\n",
      "_________________________________________________________________\n"
     ]
    }
   ],
   "source": [
    "model, layer_objs_lst = get_2d_cnn_model((32, 32, 3), avg_pooling=True)\n",
    "model.summary()"
   ]
  },
  {
   "cell_type": "code",
   "execution_count": 6,
   "id": "bored-prince",
   "metadata": {},
   "outputs": [],
   "source": [
    "ndl_model = nengo_dl.Converter(\n",
    "    model,\n",
    "    swap_activations={\n",
    "        tf.keras.activations.relu: nengo.SpikingRectifiedLinear()},\n",
    "    scale_firing_rates=20,\n",
    "    synapse=0.005,\n",
    "    inference_only=True)"
   ]
  },
  {
   "cell_type": "code",
   "execution_count": 7,
   "id": "later-house",
   "metadata": {},
   "outputs": [
    {
     "data": {
      "text/plain": [
       "[<Ensemble \"conv2d.0\" at 0x2b253f1e8510>,\n",
       " <Ensemble \"conv2d_1.0\" at 0x2b253f557e10>,\n",
       " <Ensemble \"conv2d_2.0\" at 0x2b253f3237d0>,\n",
       " <Ensemble \"dense.0\" at 0x2b253f372050>]"
      ]
     },
     "execution_count": 7,
     "metadata": {},
     "output_type": "execute_result"
    }
   ],
   "source": [
    "ndl_model.net.all_ensembles"
   ]
  },
  {
   "cell_type": "code",
   "execution_count": 8,
   "id": "verbal-crystal",
   "metadata": {},
   "outputs": [
    {
     "data": {
      "text/plain": [
       "[<Node \"input_1\" at 0x2b253f557510>,\n",
       " <Node \"conv2d.0.bias\" at 0x2b253f557710>,\n",
       " <Node \"conv2d.0.bias_relay\" at 0x2b253f557750>,\n",
       " <Node \"average_pooling2d.0\" at 0x2b253f557a90>,\n",
       " <Node \"conv2d_1.0.bias\" at 0x2b253f557fd0>,\n",
       " <Node \"conv2d_1.0.bias_relay\" at 0x2b253f323050>,\n",
       " <Node \"average_pooling2d_1.0\" at 0x2b253f3234d0>,\n",
       " <Node \"conv2d_2.0.bias\" at 0x2b253f323990>,\n",
       " <Node \"conv2d_2.0.bias_relay\" at 0x2b253f3239d0>,\n",
       " <Node \"average_pooling2d_2.0\" at 0x2b253f323d50>,\n",
       " <TensorNode \"dense_1.0\" at 0x2b253f3722d0>,\n",
       " <Node \"dense_1.0.bias\" at 0x2b253f372390>]"
      ]
     },
     "execution_count": 8,
     "metadata": {},
     "output_type": "execute_result"
    }
   ],
   "source": [
    "ndl_model.net.all_nodes"
   ]
  },
  {
   "cell_type": "code",
   "execution_count": 3,
   "id": "african-campbell",
   "metadata": {},
   "outputs": [
    {
     "name": "stdout",
     "output_type": "stream",
     "text": [
      "Model: \"model\"\n",
      "_________________________________________________________________\n",
      "Layer (type)                 Output Shape              Param #   \n",
      "=================================================================\n",
      "input_1 (InputLayer)         [(None, 32, 32, 3)]       0         \n",
      "_________________________________________________________________\n",
      "conv2d (Conv2D)              (None, 32, 32, 32)        896       \n",
      "_________________________________________________________________\n",
      "max_pooling2d (MaxPooling2D) (None, 16, 16, 32)        0         \n",
      "_________________________________________________________________\n",
      "conv2d_1 (Conv2D)            (None, 16, 16, 64)        18496     \n",
      "_________________________________________________________________\n",
      "max_pooling2d_1 (MaxPooling2 (None, 8, 8, 64)          0         \n",
      "_________________________________________________________________\n",
      "conv2d_2 (Conv2D)            (None, 8, 8, 128)         73856     \n",
      "_________________________________________________________________\n",
      "max_pooling2d_2 (MaxPooling2 (None, 4, 4, 128)         0         \n",
      "_________________________________________________________________\n",
      "flatten (Flatten)            (None, 2048)              0         \n",
      "_________________________________________________________________\n",
      "dense (Dense)                (None, 512)               1049088   \n",
      "_________________________________________________________________\n",
      "dense_1 (Dense)              (None, 10)                5130      \n",
      "=================================================================\n",
      "Total params: 1,147,466\n",
      "Trainable params: 1,147,466\n",
      "Non-trainable params: 0\n",
      "_________________________________________________________________\n"
     ]
    }
   ],
   "source": [
    "model, layer_objs_lst = get_2d_cnn_model((32, 32, 3), max_pooling=True)\n",
    "model.summary()"
   ]
  },
  {
   "cell_type": "code",
   "execution_count": 4,
   "id": "southeast-member",
   "metadata": {},
   "outputs": [
    {
     "name": "stderr",
     "output_type": "stream",
     "text": [
      "/home/rgaurav/miniconda3/envs/latest-nengo-tf/lib/python3.7/site-packages/nengo_dl/converter.py:326: UserWarning: Cannot convert max pooling layers to native Nengo objects; consider setting max_to_avg_pool=True to use average pooling instead. Falling back to TensorNode.\n",
      "  % (error_msg + \". \" if error_msg else \"\")\n",
      "/home/rgaurav/miniconda3/envs/latest-nengo-tf/lib/python3.7/site-packages/nengo_dl/converter.py:588: UserWarning: Activation type <function softmax at 0x2ad4b0601b00> does not have a native Nengo equivalent; falling back to a TensorNode\n",
      "  \"falling back to a TensorNode\" % activation\n"
     ]
    }
   ],
   "source": [
    "ndl_model = nengo_dl.Converter(\n",
    "    model,\n",
    "    swap_activations={\n",
    "        tf.keras.activations.relu: nengo.SpikingRectifiedLinear()},\n",
    "    scale_firing_rates=20,\n",
    "    synapse=0.005,\n",
    "    inference_only=True)"
   ]
  },
  {
   "cell_type": "code",
   "execution_count": 5,
   "id": "rational-surge",
   "metadata": {},
   "outputs": [
    {
     "data": {
      "text/plain": [
       "[<Ensemble \"conv2d.0\" at 0x2ad4b26bc310>,\n",
       " <Ensemble \"conv2d_1.0\" at 0x2ad4b76b1b90>,\n",
       " <Ensemble \"conv2d_2.0\" at 0x2ad4b748f4d0>,\n",
       " <Ensemble \"dense.0\" at 0x2ad4b7685290>]"
      ]
     },
     "execution_count": 5,
     "metadata": {},
     "output_type": "execute_result"
    }
   ],
   "source": [
    "ndl_model.net.all_ensembles"
   ]
  },
  {
   "cell_type": "code",
   "execution_count": 6,
   "id": "dynamic-serve",
   "metadata": {},
   "outputs": [
    {
     "data": {
      "text/plain": [
       "[<Node \"input_1\" at 0x2ad4b72e1cd0>,\n",
       " <Node \"conv2d.0.bias\" at 0x2ad4b72e1150>,\n",
       " <Node \"conv2d.0.bias_relay\" at 0x2ad4b46dc910>,\n",
       " <TensorNode \"max_pooling2d\" at 0x2ad4b76b1850>,\n",
       " <Node \"conv2d_1.0.bias\" at 0x2ad4b76b1ad0>,\n",
       " <Node \"conv2d_1.0.bias_relay\" at 0x2ad4b76b1c10>,\n",
       " <TensorNode \"max_pooling2d_1\" at 0x2ad4b748f150>,\n",
       " <Node \"conv2d_2.0.bias\" at 0x2ad4b748f810>,\n",
       " <Node \"conv2d_2.0.bias_relay\" at 0x2ad4b748f890>,\n",
       " <TensorNode \"max_pooling2d_2\" at 0x2ad4b748ff50>,\n",
       " <TensorNode \"dense_1.0\" at 0x2ad4b7685450>,\n",
       " <Node \"dense_1.0.bias\" at 0x2ad4b7685510>]"
      ]
     },
     "execution_count": 6,
     "metadata": {},
     "output_type": "execute_result"
    }
   ],
   "source": [
    "ndl_model.net.all_nodes"
   ]
  },
  {
   "cell_type": "code",
   "execution_count": 3,
   "id": "psychological-pollution",
   "metadata": {},
   "outputs": [
    {
     "name": "stdout",
     "output_type": "stream",
     "text": [
      "Model: \"model\"\n",
      "_________________________________________________________________\n",
      "Layer (type)                 Output Shape              Param #   \n",
      "=================================================================\n",
      "input_1 (InputLayer)         [(None, 32, 32, 3)]       0         \n",
      "_________________________________________________________________\n",
      "conv2d (Conv2D)              (None, 32, 32, 32)        896       \n",
      "_________________________________________________________________\n",
      "conv2d_1 (Conv2D)            (None, 16, 16, 32)        4128      \n",
      "_________________________________________________________________\n",
      "conv2d_2 (Conv2D)            (None, 16, 16, 64)        18496     \n",
      "_________________________________________________________________\n",
      "conv2d_3 (Conv2D)            (None, 8, 8, 64)          16448     \n",
      "_________________________________________________________________\n",
      "conv2d_4 (Conv2D)            (None, 8, 8, 128)         73856     \n",
      "_________________________________________________________________\n",
      "conv2d_5 (Conv2D)            (None, 4, 4, 128)         65664     \n",
      "_________________________________________________________________\n",
      "flatten (Flatten)            (None, 2048)              0         \n",
      "_________________________________________________________________\n",
      "dense (Dense)                (None, 512)               1049088   \n",
      "_________________________________________________________________\n",
      "dense_1 (Dense)              (None, 10)                5130      \n",
      "=================================================================\n",
      "Total params: 1,233,706\n",
      "Trainable params: 1,233,706\n",
      "Non-trainable params: 0\n",
      "_________________________________________________________________\n"
     ]
    }
   ],
   "source": [
    "model, layer_objs_lst = get_2d_cnn_model((32, 32, 3), strd_conv=True)\n",
    "model.summary()"
   ]
  },
  {
   "cell_type": "code",
   "execution_count": 4,
   "id": "wicked-thomson",
   "metadata": {},
   "outputs": [
    {
     "name": "stderr",
     "output_type": "stream",
     "text": [
      "/home/rgaurav/miniconda3/envs/latest-nengo-tf/lib/python3.7/site-packages/nengo_dl/converter.py:588: UserWarning: Activation type <function softmax at 0x2b546b843b90> does not have a native Nengo equivalent; falling back to a TensorNode\n",
      "  \"falling back to a TensorNode\" % activation\n"
     ]
    }
   ],
   "source": [
    "ndl_model = nengo_dl.Converter(\n",
    "    model,\n",
    "    swap_activations={\n",
    "        tf.keras.activations.relu: nengo.SpikingRectifiedLinear()},\n",
    "    scale_firing_rates=20,\n",
    "    synapse=0.005,\n",
    "    inference_only=True)"
   ]
  },
  {
   "cell_type": "code",
   "execution_count": 5,
   "id": "forced-chicken",
   "metadata": {},
   "outputs": [
    {
     "data": {
      "text/plain": [
       "[<Ensemble \"conv2d.0\" at 0x2b546f930850>,\n",
       " <Ensemble \"conv2d_2.0\" at 0x2b547656cd10>,\n",
       " <Ensemble \"conv2d_4.0\" at 0x2b5476593950>,\n",
       " <Ensemble \"dense.0\" at 0x2b54765974d0>]"
      ]
     },
     "execution_count": 5,
     "metadata": {},
     "output_type": "execute_result"
    }
   ],
   "source": [
    "ndl_model.net.all_ensembles"
   ]
  },
  {
   "cell_type": "code",
   "execution_count": 6,
   "id": "african-absorption",
   "metadata": {},
   "outputs": [
    {
     "data": {
      "text/plain": [
       "[<Node \"input_1\" at 0x2b546b11d050>,\n",
       " <Node \"conv2d.0.bias\" at 0x2b53eb601310>,\n",
       " <Node \"conv2d.0.bias_relay\" at 0x2b53eb601250>,\n",
       " <Node \"conv2d_1.0\" at 0x2b547654ba10>,\n",
       " <Node \"conv2d_1.0.bias\" at 0x2b547656c7d0>,\n",
       " <Node \"conv2d_1.0.bias_relay\" at 0x2b547656c850>,\n",
       " <Node \"conv2d_2.0.bias\" at 0x2b547656cf10>,\n",
       " <Node \"conv2d_2.0.bias_relay\" at 0x2b547656cf50>,\n",
       " <Node \"conv2d_3.0\" at 0x2b5476593350>,\n",
       " <Node \"conv2d_3.0.bias\" at 0x2b5476593390>,\n",
       " <Node \"conv2d_3.0.bias_relay\" at 0x2b5476593410>,\n",
       " <Node \"conv2d_4.0.bias\" at 0x2b5476593b50>,\n",
       " <Node \"conv2d_4.0.bias_relay\" at 0x2b5476593b90>,\n",
       " <Node \"conv2d_5.0\" at 0x2b5476593f90>,\n",
       " <Node \"conv2d_5.0.bias\" at 0x2b5476597090>,\n",
       " <Node \"conv2d_5.0.bias_relay\" at 0x2b54765970d0>,\n",
       " <TensorNode \"dense_1.0\" at 0x2b5476597890>,\n",
       " <Node \"dense_1.0.bias\" at 0x2b5476551650>]"
      ]
     },
     "execution_count": 6,
     "metadata": {},
     "output_type": "execute_result"
    }
   ],
   "source": [
    "ndl_model.net.all_nodes"
   ]
  },
  {
   "cell_type": "code",
   "execution_count": 2,
   "id": "median-silly",
   "metadata": {},
   "outputs": [],
   "source": [
    "import pandas as pd"
   ]
  },
  {
   "cell_type": "code",
   "execution_count": 3,
   "id": "bright-fiction",
   "metadata": {},
   "outputs": [
    {
     "data": {
      "text/html": [
       "<div>\n",
       "<style scoped>\n",
       "    .dataframe tbody tr th:only-of-type {\n",
       "        vertical-align: middle;\n",
       "    }\n",
       "\n",
       "    .dataframe tbody tr th {\n",
       "        vertical-align: top;\n",
       "    }\n",
       "\n",
       "    .dataframe thead th {\n",
       "        text-align: right;\n",
       "    }\n",
       "</style>\n",
       "<table border=\"1\" class=\"dataframe\">\n",
       "  <thead>\n",
       "    <tr style=\"text-align: right;\">\n",
       "      <th></th>\n",
       "      <th>0</th>\n",
       "      <th>1</th>\n",
       "      <th>2</th>\n",
       "      <th>3</th>\n",
       "      <th>4</th>\n",
       "      <th>5</th>\n",
       "      <th>6</th>\n",
       "      <th>7</th>\n",
       "      <th>8</th>\n",
       "      <th>9</th>\n",
       "      <th>...</th>\n",
       "      <th>118</th>\n",
       "      <th>119</th>\n",
       "      <th>120</th>\n",
       "      <th>121</th>\n",
       "      <th>122</th>\n",
       "      <th>123</th>\n",
       "      <th>124</th>\n",
       "      <th>125</th>\n",
       "      <th>126</th>\n",
       "      <th>127</th>\n",
       "    </tr>\n",
       "  </thead>\n",
       "  <tbody>\n",
       "    <tr>\n",
       "      <th>0</th>\n",
       "      <td>0.087283</td>\n",
       "      <td>0.782991</td>\n",
       "      <td>0.665715</td>\n",
       "      <td>0.357896</td>\n",
       "      <td>0.102169</td>\n",
       "      <td>0.293695</td>\n",
       "      <td>0.868969</td>\n",
       "      <td>0.017429</td>\n",
       "      <td>0.982743</td>\n",
       "      <td>0.823169</td>\n",
       "      <td>...</td>\n",
       "      <td>0.818025</td>\n",
       "      <td>0.894292</td>\n",
       "      <td>0.088888</td>\n",
       "      <td>0.475421</td>\n",
       "      <td>0.542516</td>\n",
       "      <td>0.311578</td>\n",
       "      <td>0.907625</td>\n",
       "      <td>0.059755</td>\n",
       "      <td>0.491837</td>\n",
       "      <td>0.499569</td>\n",
       "    </tr>\n",
       "    <tr>\n",
       "      <th>1</th>\n",
       "      <td>0.040823</td>\n",
       "      <td>0.819690</td>\n",
       "      <td>0.866107</td>\n",
       "      <td>0.461881</td>\n",
       "      <td>0.123532</td>\n",
       "      <td>0.700540</td>\n",
       "      <td>0.624219</td>\n",
       "      <td>0.674540</td>\n",
       "      <td>0.558389</td>\n",
       "      <td>0.577840</td>\n",
       "      <td>...</td>\n",
       "      <td>0.031759</td>\n",
       "      <td>0.217576</td>\n",
       "      <td>0.099962</td>\n",
       "      <td>0.450181</td>\n",
       "      <td>0.861828</td>\n",
       "      <td>0.952853</td>\n",
       "      <td>0.912290</td>\n",
       "      <td>0.711621</td>\n",
       "      <td>0.088972</td>\n",
       "      <td>0.379727</td>\n",
       "    </tr>\n",
       "    <tr>\n",
       "      <th>2</th>\n",
       "      <td>0.645751</td>\n",
       "      <td>0.488221</td>\n",
       "      <td>0.401827</td>\n",
       "      <td>0.848161</td>\n",
       "      <td>0.680695</td>\n",
       "      <td>0.841629</td>\n",
       "      <td>0.454267</td>\n",
       "      <td>0.634815</td>\n",
       "      <td>0.916008</td>\n",
       "      <td>0.711640</td>\n",
       "      <td>...</td>\n",
       "      <td>0.878820</td>\n",
       "      <td>0.200019</td>\n",
       "      <td>0.803358</td>\n",
       "      <td>0.442352</td>\n",
       "      <td>0.599582</td>\n",
       "      <td>0.371533</td>\n",
       "      <td>0.004100</td>\n",
       "      <td>0.519671</td>\n",
       "      <td>0.514014</td>\n",
       "      <td>0.361552</td>\n",
       "    </tr>\n",
       "    <tr>\n",
       "      <th>3</th>\n",
       "      <td>0.277417</td>\n",
       "      <td>0.358397</td>\n",
       "      <td>0.512482</td>\n",
       "      <td>0.743010</td>\n",
       "      <td>0.771769</td>\n",
       "      <td>0.530321</td>\n",
       "      <td>0.329740</td>\n",
       "      <td>0.849723</td>\n",
       "      <td>0.552900</td>\n",
       "      <td>0.747105</td>\n",
       "      <td>...</td>\n",
       "      <td>0.683155</td>\n",
       "      <td>0.960219</td>\n",
       "      <td>0.753082</td>\n",
       "      <td>0.731961</td>\n",
       "      <td>0.504381</td>\n",
       "      <td>0.622890</td>\n",
       "      <td>0.647115</td>\n",
       "      <td>0.010605</td>\n",
       "      <td>0.930330</td>\n",
       "      <td>0.628314</td>\n",
       "    </tr>\n",
       "    <tr>\n",
       "      <th>4</th>\n",
       "      <td>0.025457</td>\n",
       "      <td>0.842973</td>\n",
       "      <td>0.915087</td>\n",
       "      <td>0.390108</td>\n",
       "      <td>0.887931</td>\n",
       "      <td>0.151509</td>\n",
       "      <td>0.120483</td>\n",
       "      <td>0.624571</td>\n",
       "      <td>0.387762</td>\n",
       "      <td>0.212609</td>\n",
       "      <td>...</td>\n",
       "      <td>0.285818</td>\n",
       "      <td>0.361599</td>\n",
       "      <td>0.314519</td>\n",
       "      <td>0.431489</td>\n",
       "      <td>0.922785</td>\n",
       "      <td>0.570151</td>\n",
       "      <td>0.726398</td>\n",
       "      <td>0.668883</td>\n",
       "      <td>0.827345</td>\n",
       "      <td>0.070003</td>\n",
       "    </tr>\n",
       "  </tbody>\n",
       "</table>\n",
       "<p>5 rows × 128 columns</p>\n",
       "</div>"
      ],
      "text/plain": [
       "        0         1         2         3         4         5         6    \\\n",
       "0  0.087283  0.782991  0.665715  0.357896  0.102169  0.293695  0.868969   \n",
       "1  0.040823  0.819690  0.866107  0.461881  0.123532  0.700540  0.624219   \n",
       "2  0.645751  0.488221  0.401827  0.848161  0.680695  0.841629  0.454267   \n",
       "3  0.277417  0.358397  0.512482  0.743010  0.771769  0.530321  0.329740   \n",
       "4  0.025457  0.842973  0.915087  0.390108  0.887931  0.151509  0.120483   \n",
       "\n",
       "        7         8         9    ...       118       119       120       121  \\\n",
       "0  0.017429  0.982743  0.823169  ...  0.818025  0.894292  0.088888  0.475421   \n",
       "1  0.674540  0.558389  0.577840  ...  0.031759  0.217576  0.099962  0.450181   \n",
       "2  0.634815  0.916008  0.711640  ...  0.878820  0.200019  0.803358  0.442352   \n",
       "3  0.849723  0.552900  0.747105  ...  0.683155  0.960219  0.753082  0.731961   \n",
       "4  0.624571  0.387762  0.212609  ...  0.285818  0.361599  0.314519  0.431489   \n",
       "\n",
       "        122       123       124       125       126       127  \n",
       "0  0.542516  0.311578  0.907625  0.059755  0.491837  0.499569  \n",
       "1  0.861828  0.952853  0.912290  0.711621  0.088972  0.379727  \n",
       "2  0.599582  0.371533  0.004100  0.519671  0.514014  0.361552  \n",
       "3  0.504381  0.622890  0.647115  0.010605  0.930330  0.628314  \n",
       "4  0.922785  0.570151  0.726398  0.668883  0.827345  0.070003  \n",
       "\n",
       "[5 rows x 128 columns]"
      ]
     },
     "execution_count": 3,
     "metadata": {},
     "output_type": "execute_result"
    }
   ],
   "source": [
    "df = pd.DataFrame(np.random.rand(100, 128))\n",
    "df.head()"
   ]
  },
  {
   "cell_type": "code",
   "execution_count": 4,
   "id": "posted-township",
   "metadata": {},
   "outputs": [],
   "source": [
    "def generate_signal(t):\n",
    "  \"\"\"\n",
    "  t <float>: The time-step of the simulation, e.g. 0.001, 0.002, etc.\n",
    "  \"\"\"\n",
    "  dt = 1e-3 # The time-step duration in nengo.Simulator().\n",
    "  col_idx = int(t * 1/dt)\n",
    "  return df.iloc[0, col_idx]"
   ]
  },
  {
   "cell_type": "code",
   "execution_count": 22,
   "id": "eastern-gothic",
   "metadata": {},
   "outputs": [
    {
     "data": {
      "application/vdom.v1+json": {
       "attributes": {},
       "tagName": "div"
      },
      "text/html": [
       "\n",
       "                <script>\n",
       "                    if (Jupyter.version.split(\".\")[0] < 5) {\n",
       "                        var pb = document.getElementById(\"1c0cd565-0b26-495b-8794-74a00248ee13\");\n",
       "                        var text = document.createTextNode(\n",
       "                            \"HMTL progress bar requires Jupyter Notebook >= \" +\n",
       "                            \"5.0 or Jupyter Lab. Alternatively, you can use \" +\n",
       "                            \"TerminalProgressBar().\");\n",
       "                        pb.parentNode.insertBefore(text, pb);\n",
       "                    }\n",
       "                </script>\n",
       "                <div id=\"1c0cd565-0b26-495b-8794-74a00248ee13\" style=\"\n",
       "                    width: 100%;\n",
       "                    border: 1px solid #cfcfcf;\n",
       "                    border-radius: 4px;\n",
       "                    text-align: center;\n",
       "                    position: relative;\">\n",
       "                  <div class=\"pb-text\" style=\"\n",
       "                      position: absolute;\n",
       "                      width: 100%;\">\n",
       "                    0%\n",
       "                  </div>\n",
       "                  <div class=\"pb-fill\" style=\"\n",
       "                      background-color: #bdd2e6;\n",
       "                      width: 0%;\">\n",
       "                    <style type=\"text/css\" scoped=\"scoped\">\n",
       "                        @keyframes pb-fill-anim {\n",
       "                            0% { background-position: 0 0; }\n",
       "                            100% { background-position: 100px 0; }\n",
       "                        }\n",
       "                    </style>\n",
       "                    &nbsp;\n",
       "                  </div>\n",
       "                </div>"
      ],
      "text/plain": [
       "HtmlProgressBar cannot be displayed. Please use the TerminalProgressBar. It can be enabled with `nengo.rc['progress']['progress_bar'] = 'nengo.utils.progress.TerminalProgressBar'`."
      ]
     },
     "metadata": {},
     "output_type": "display_data"
    },
    {
     "data": {
      "application/vdom.v1+json": {
       "attributes": {
        "id": "f7c9c077-35ba-4fa2-9f38-7ec09917c7c8",
        "style": {
         "border": "1px solid #cfcfcf",
         "borderRadius": "4px",
         "boxSizing": "border-box",
         "position": "relative",
         "textAlign": "center",
         "width": "100%"
        }
       },
       "children": [
        {
         "attributes": {
          "class": "pb-text",
          "style": {
           "position": "absolute",
           "width": "100%"
          }
         },
         "children": [
          "Build finished in 0:00:01."
         ],
         "tagName": "div"
        },
        {
         "attributes": {
          "class": "pb-fill",
          "style": {
           "animation": "none",
           "backgroundColor": "#bdd2e6",
           "backgroundImage": "none",
           "backgroundSize": "100px 100%",
           "width": "100%"
          }
         },
         "children": [
          {
           "attributes": {
            "scoped": "scoped",
            "type": "text/css"
           },
           "children": [
            "\n                        @keyframes pb-fill-anim {\n                            0% { background-position: 0 0; }\n                            100% { background-position: 100px 0; }\n                        }}"
           ],
           "tagName": "style"
          },
          " "
         ],
         "tagName": "div"
        }
       ],
       "tagName": "div"
      },
      "text/html": [
       "<script>\n",
       "              (function () {\n",
       "                  var root = document.getElementById('1c0cd565-0b26-495b-8794-74a00248ee13');\n",
       "                  var text = root.getElementsByClassName('pb-text')[0];\n",
       "                  var fill = root.getElementsByClassName('pb-fill')[0];\n",
       "\n",
       "                  text.innerHTML = 'Build finished in 0:00:01.';\n",
       "                  \n",
       "            fill.style.width = '100%';\n",
       "            fill.style.animation = 'pb-fill-anim 2s linear infinite';\n",
       "            fill.style.backgroundSize = '100px 100%';\n",
       "            fill.style.backgroundImage = 'repeating-linear-gradient(' +\n",
       "                '90deg, #bdd2e6, #edf2f8 40%, #bdd2e6 80%, #bdd2e6)';\n",
       "        \n",
       "                  \n",
       "                fill.style.animation = 'none';\n",
       "                fill.style.backgroundImage = 'none';\n",
       "            \n",
       "              })();\n",
       "        </script>"
      ]
     },
     "metadata": {},
     "output_type": "display_data"
    },
    {
     "data": {
      "application/vdom.v1+json": {
       "attributes": {},
       "tagName": "div"
      },
      "text/html": [
       "\n",
       "                <script>\n",
       "                    if (Jupyter.version.split(\".\")[0] < 5) {\n",
       "                        var pb = document.getElementById(\"d8a9c9fa-dec1-49ee-96f8-abd16a8de4a7\");\n",
       "                        var text = document.createTextNode(\n",
       "                            \"HMTL progress bar requires Jupyter Notebook >= \" +\n",
       "                            \"5.0 or Jupyter Lab. Alternatively, you can use \" +\n",
       "                            \"TerminalProgressBar().\");\n",
       "                        pb.parentNode.insertBefore(text, pb);\n",
       "                    }\n",
       "                </script>\n",
       "                <div id=\"d8a9c9fa-dec1-49ee-96f8-abd16a8de4a7\" style=\"\n",
       "                    width: 100%;\n",
       "                    border: 1px solid #cfcfcf;\n",
       "                    border-radius: 4px;\n",
       "                    text-align: center;\n",
       "                    position: relative;\">\n",
       "                  <div class=\"pb-text\" style=\"\n",
       "                      position: absolute;\n",
       "                      width: 100%;\">\n",
       "                    0%\n",
       "                  </div>\n",
       "                  <div class=\"pb-fill\" style=\"\n",
       "                      background-color: #bdd2e6;\n",
       "                      width: 0%;\">\n",
       "                    <style type=\"text/css\" scoped=\"scoped\">\n",
       "                        @keyframes pb-fill-anim {\n",
       "                            0% { background-position: 0 0; }\n",
       "                            100% { background-position: 100px 0; }\n",
       "                        }\n",
       "                    </style>\n",
       "                    &nbsp;\n",
       "                  </div>\n",
       "                </div>"
      ],
      "text/plain": [
       "HtmlProgressBar cannot be displayed. Please use the TerminalProgressBar. It can be enabled with `nengo.rc['progress']['progress_bar'] = 'nengo.utils.progress.TerminalProgressBar'`."
      ]
     },
     "metadata": {},
     "output_type": "display_data"
    },
    {
     "data": {
      "application/vdom.v1+json": {
       "attributes": {
        "id": "3fe3a28f-6e9f-4502-b597-ca4f019e6395",
        "style": {
         "border": "1px solid #cfcfcf",
         "borderRadius": "4px",
         "boxSizing": "border-box",
         "position": "relative",
         "textAlign": "center",
         "width": "100%"
        }
       },
       "children": [
        {
         "attributes": {
          "class": "pb-text",
          "style": {
           "position": "absolute",
           "width": "100%"
          }
         },
         "children": [
          "Simulation finished in 0:00:01."
         ],
         "tagName": "div"
        },
        {
         "attributes": {
          "class": "pb-fill",
          "style": {
           "animation": "none",
           "backgroundColor": "#bdd2e6",
           "backgroundImage": "none",
           "transition": "width 0.1s linear",
           "width": "100%"
          }
         },
         "children": [
          {
           "attributes": {
            "scoped": "scoped",
            "type": "text/css"
           },
           "children": [
            "\n                        @keyframes pb-fill-anim {\n                            0% { background-position: 0 0; }\n                            100% { background-position: 100px 0; }\n                        }}"
           ],
           "tagName": "style"
          },
          " "
         ],
         "tagName": "div"
        }
       ],
       "tagName": "div"
      },
      "text/html": [
       "<script>\n",
       "              (function () {\n",
       "                  var root = document.getElementById('d8a9c9fa-dec1-49ee-96f8-abd16a8de4a7');\n",
       "                  var text = root.getElementsByClassName('pb-text')[0];\n",
       "                  var fill = root.getElementsByClassName('pb-fill')[0];\n",
       "\n",
       "                  text.innerHTML = 'Simulation finished in 0:00:01.';\n",
       "                  \n",
       "            if (100.0 > 0.) {\n",
       "                fill.style.transition = 'width 0.1s linear';\n",
       "            } else {\n",
       "                fill.style.transition = 'none';\n",
       "            }\n",
       "\n",
       "            fill.style.width = '100.0%';\n",
       "            fill.style.animation = 'none';\n",
       "            fill.style.backgroundImage = 'none'\n",
       "        \n",
       "                  \n",
       "                fill.style.animation = 'none';\n",
       "                fill.style.backgroundImage = 'none';\n",
       "            \n",
       "              })();\n",
       "        </script>"
      ]
     },
     "metadata": {},
     "output_type": "display_data"
    }
   ],
   "source": [
    "with nengo.Network() as net:\n",
    "  inp_node = nengo.Node(output=generate_signal)\n",
    "  inp_node_probe = nengo.Probe(inp_node)\n",
    "\n",
    "with nengo.Simulator(net, dt=1e-3) as sim:\n",
    "  sim.run(2)"
   ]
  },
  {
   "cell_type": "code",
   "execution_count": 23,
   "id": "instrumental-glucose",
   "metadata": {},
   "outputs": [
    {
     "data": {
      "text/plain": [
       "[<matplotlib.lines.Line2D at 0x2b4bc518f750>]"
      ]
     },
     "execution_count": 23,
     "metadata": {},
     "output_type": "execute_result"
    },
    {
     "data": {
      "image/png": "[encoded data removed]",
      "text/plain": [
       "<Figure size 432x288 with 1 Axes>"
      ]
     },
     "metadata": {
      "needs_background": "light"
     },
     "output_type": "display_data"
    }
   ],
   "source": [
    "plt.plot(sim.data[inp_node_probe])"
   ]
  },
  {
   "cell_type": "code",
   "execution_count": null,
   "id": "chubby-separation",
   "metadata": {},
   "outputs": [],
   "source": []
  }
 ],
 "metadata": {
  "kernelspec": {
   "display_name": "Python 3",
   "language": "python",
   "name": "python3"
  },
  "language_info": {
   "codemirror_mode": {
    "name": "ipython",
    "version": 3
   },
   "file_extension": ".py",
   "mimetype": "text/x-python",
   "name": "python",
   "nbconvert_exporter": "python",
   "pygments_lexer": "ipython3",
   "version": "3.7.7"
  }
 },
 "nbformat": 4,
 "nbformat_minor": 5
}
