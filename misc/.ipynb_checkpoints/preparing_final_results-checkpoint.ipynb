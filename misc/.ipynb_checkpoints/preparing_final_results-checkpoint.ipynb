{
 "cells": [
  {
   "cell_type": "code",
   "execution_count": 1,
   "id": "f3a73fe5",
   "metadata": {},
   "outputs": [],
   "source": [
    "import os\n",
    "\n",
    "import _init_paths\n",
    "\n",
    "import numpy as np\n",
    "import matplotlib.pyplot as plt\n",
    "\n",
    "from utils.results_analysis_utils.analyse_results import (\n",
    "    get_loihi_probes_output, get_layer_probes_output_dict, get_accuracy_via_majority_voting, \n",
    "    read_nengo_loihi_results)\n",
    "from utils.consts.dir_consts import EXP_OTPT_DIR"
   ]
  },
  {
   "cell_type": "code",
   "execution_count": 2,
   "id": "1980cdd3",
   "metadata": {},
   "outputs": [],
   "source": [
    "def get_accuracy_over_all_test_data(dataset, model_name, n_steps, l_steps, directory):\n",
    "  num_timgs, batch_acc = 0, []\n",
    "  pred_scores = np.zeros((10000, n_steps, 10))\n",
    "  \n",
    "  results_dir = (EXP_OTPT_DIR + \"/%s/%s/nengo_loihi_otpts/max_join_op/%s/\" % (dataset, model_name, directory))\n",
    "  files = os.listdir(results_dir)\n",
    "  for f in files:\n",
    "    if f.startswith(\"Layer\") and f.endswith(\"npy\"):\n",
    "      start_idx, end_idx = int(f.split(\"_\")[5]), int(f.split(\"_\")[7].split(\".\")[0])\n",
    "      otpt = get_layer_probes_output_dict(dataset, model_name, start_idx, end_idx, n_steps, directory)\n",
    "      num_timgs += (end_idx-start_idx)\n",
    "      \n",
    "      layers = list(otpt.keys())\n",
    "      assert len(layers) == 1\n",
    "      batch_acc.append(get_accuracy_via_majority_voting(\n",
    "        otpt[layers[0]], l_steps, dataset, start_idx=start_idx, end_idx=end_idx))\n",
    "      pred_scores[start_idx:end_idx] = otpt[layers[0]]\n",
    "  \n",
    "  print(\"Num of Test Images accounted: %s\" % num_timgs)\n",
    "  print(\"All predicted scores shape: {}\".format(np.array(pred_scores).shape))\n",
    "  acc = get_accuracy_via_majority_voting(np.array(pred_scores), l_steps, dataset)\n",
    "  return acc, np.mean(batch_acc)"
   ]
  },
  {
   "cell_type": "markdown",
   "id": "0fae87c1",
   "metadata": {},
   "source": [
    "# MJOP: Get MNIST Results"
   ]
  },
  {
   "cell_type": "code",
   "execution_count": 5,
   "id": "548b61af",
   "metadata": {},
   "outputs": [],
   "source": [
    "dataset = \"mnist\""
   ]
  },
  {
   "cell_type": "markdown",
   "id": "8ddfe0cb",
   "metadata": {},
   "source": [
    "## MODEL_1"
   ]
  },
  {
   "cell_type": "code",
   "execution_count": 4,
   "id": "a1ae0238",
   "metadata": {},
   "outputs": [],
   "source": [
    "n_steps, model_name = 50, \"model_1\""
   ]
  },
  {
   "cell_type": "markdown",
   "id": "dd3f389d",
   "metadata": {},
   "source": [
    "### scale_1_0"
   ]
  },
  {
   "cell_type": "code",
   "execution_count": 26,
   "id": "157cd434",
   "metadata": {},
   "outputs": [
    {
     "name": "stdout",
     "output_type": "stream",
     "text": [
      "Num of Test Images accounted: 10000\n",
      "All predicted scores shape: (10000, 50, 10)\n",
      "Dataset: mnist, Model: model_1, Dir: scale_1_0: ACC: (98.22999999999999, 98.22222222222223)\n",
      "With last timestep ACC: (0.9824, set())\n"
     ]
    }
   ],
   "source": [
    "directory = \"scale_1_0\"\n",
    "print(\"Dataset: {}, Model: {}, Dir: {}: ACC: {}\".format(dataset, model_name, directory, \n",
    "    get_accuracy_over_all_test_data(dataset, model_name, n_steps=n_steps, l_steps=5, directory=directory)))\n",
    "print(\"With last timestep ACC: {}\".format(read_nengo_loihi_results(dataset, model_name, directory)))"
   ]
  },
  {
   "cell_type": "markdown",
   "id": "9b3a1b51",
   "metadata": {},
   "source": [
    "### scale_1_1"
   ]
  },
  {
   "cell_type": "code",
   "execution_count": 27,
   "id": "a50c7e96",
   "metadata": {},
   "outputs": [
    {
     "name": "stdout",
     "output_type": "stream",
     "text": [
      "Num of Test Images accounted: 10000\n",
      "All predicted scores shape: (10000, 50, 10)\n",
      "Dataset: mnist, Model: model_1, Dir: scale_1_1: ACC: (98.24000000000001, 98.24)\n",
      "With last timestep ACC: (0.9823, set())\n"
     ]
    }
   ],
   "source": [
    "directory = \"scale_1_1\"\n",
    "print(\"Dataset: {}, Model: {}, Dir: {}: ACC: {}\".format(dataset, model_name, directory, \n",
    "    get_accuracy_over_all_test_data(dataset, model_name, n_steps=n_steps, l_steps=5, directory=directory)))\n",
    "print(\"With last timestep ACC: {}\".format(read_nengo_loihi_results(dataset, model_name, directory)))"
   ]
  },
  {
   "cell_type": "markdown",
   "id": "7c35381d",
   "metadata": {},
   "source": [
    "### scale_1_2"
   ]
  },
  {
   "cell_type": "code",
   "execution_count": 28,
   "id": "23497a18",
   "metadata": {},
   "outputs": [
    {
     "name": "stdout",
     "output_type": "stream",
     "text": [
      "Num of Test Images accounted: 10000\n",
      "All predicted scores shape: (10000, 50, 10)\n",
      "Dataset: mnist, Model: model_1, Dir: scale_1_2: ACC: (98.15, 98.15)\n",
      "With last timestep ACC: (0.9821, set())\n"
     ]
    }
   ],
   "source": [
    "directory = \"scale_1_2\"\n",
    "print(\"Dataset: {}, Model: {}, Dir: {}: ACC: {}\".format(dataset, model_name, directory, \n",
    "    get_accuracy_over_all_test_data(dataset, model_name, n_steps=n_steps, l_steps=5, directory=directory)))\n",
    "print(\"With last timestep ACC: {}\".format(read_nengo_loihi_results(dataset, model_name, directory)))"
   ]
  },
  {
   "cell_type": "markdown",
   "id": "583272f4",
   "metadata": {},
   "source": [
    "## MODEL_2"
   ]
  },
  {
   "cell_type": "code",
   "execution_count": 6,
   "id": "2bd5a664",
   "metadata": {},
   "outputs": [],
   "source": [
    "n_steps, model_name = 60, \"model_2\""
   ]
  },
  {
   "cell_type": "markdown",
   "id": "20ce61f3",
   "metadata": {},
   "source": [
    "### scale_1_0"
   ]
  },
  {
   "cell_type": "code",
   "execution_count": 7,
   "id": "caccd099",
   "metadata": {},
   "outputs": [
    {
     "name": "stdout",
     "output_type": "stream",
     "text": [
      "Num of Test Images accounted: 10075\n",
      "All predicted scores shape: (10000, 60, 10)\n",
      "Dataset: mnist, Model: model_2, Dir: scale_1_0: ACC: (97.92999999999999, 97.93366500829187)\n",
      "With last timestep ACC: (0.9793548387096774, set())\n"
     ]
    }
   ],
   "source": [
    "directory = \"scale_1_0\"\n",
    "print(\"Dataset: {}, Model: {}, Dir: {}: ACC: {}\".format(dataset, model_name, directory, \n",
    "    get_accuracy_over_all_test_data(dataset, model_name, n_steps=n_steps, l_steps=5, directory=directory)))\n",
    "print(\"With last timestep ACC: {}\".format(read_nengo_loihi_results(dataset, model_name, directory)))"
   ]
  },
  {
   "cell_type": "markdown",
   "id": "e83ff02e",
   "metadata": {},
   "source": [
    "### scale_1_1"
   ]
  },
  {
   "cell_type": "code",
   "execution_count": 9,
   "id": "1f9bb2c4",
   "metadata": {
    "scrolled": true
   },
   "outputs": [
    {
     "name": "stdout",
     "output_type": "stream",
     "text": [
      "Num of Test Images accounted: 10000\n",
      "All predicted scores shape: (10000, 60, 10)\n",
      "Dataset: mnist, Model: model_2, Dir: scale_1_1: ACC: (97.91, 97.91)\n",
      "With last timestep ACC: (0.98, set())\n"
     ]
    }
   ],
   "source": [
    "directory = \"scale_1_1\"\n",
    "print(\"Dataset: {}, Model: {}, Dir: {}: ACC: {}\".format(dataset, model_name, directory, \n",
    "    get_accuracy_over_all_test_data(dataset, model_name, n_steps=n_steps, l_steps=5, directory=directory)))\n",
    "print(\"With last timestep ACC: {}\".format(read_nengo_loihi_results(dataset, model_name, directory)))"
   ]
  },
  {
   "cell_type": "markdown",
   "id": "bf187ae1",
   "metadata": {},
   "source": [
    "### scale_1_2"
   ]
  },
  {
   "cell_type": "code",
   "execution_count": 35,
   "id": "2485eb6d",
   "metadata": {},
   "outputs": [
    {
     "name": "stdout",
     "output_type": "stream",
     "text": [
      "Num of Test Images accounted: 10000\n",
      "All predicted scores shape: (10000, 60, 10)\n",
      "Dataset: mnist, Model: model_2, Dir: scale_1_2: ACC: (97.94, 97.94)\n",
      "With last timestep ACC: (0.9794, set())\n"
     ]
    }
   ],
   "source": [
    "directory = \"scale_1_2\"\n",
    "print(\"Dataset: {}, Model: {}, Dir: {}: ACC: {}\".format(dataset, model_name, directory, \n",
    "    get_accuracy_over_all_test_data(dataset, model_name, n_steps=n_steps, l_steps=5, directory=directory)))\n",
    "print(\"With last timestep ACC: {}\".format(read_nengo_loihi_results(dataset, model_name, directory)))"
   ]
  },
  {
   "cell_type": "markdown",
   "id": "bffc4eb5",
   "metadata": {},
   "source": [
    "# MJOP: Get CIFAR10 Results"
   ]
  },
  {
   "cell_type": "code",
   "execution_count": 12,
   "id": "4b41f72b",
   "metadata": {},
   "outputs": [],
   "source": [
    "dataset = \"cifar10\""
   ]
  },
  {
   "cell_type": "markdown",
   "id": "035c3266",
   "metadata": {},
   "source": [
    "## Model_1 Results"
   ]
  },
  {
   "cell_type": "code",
   "execution_count": 13,
   "id": "5786e22d",
   "metadata": {},
   "outputs": [],
   "source": [
    "n_steps, model_name = 50, \"model_1\""
   ]
  },
  {
   "cell_type": "markdown",
   "id": "deac1c5a",
   "metadata": {
    "scrolled": true
   },
   "source": [
    "### scale_1_0"
   ]
  },
  {
   "cell_type": "code",
   "execution_count": 5,
   "id": "bfe4807a",
   "metadata": {},
   "outputs": [
    {
     "name": "stdout",
     "output_type": "stream",
     "text": [
      "Num of Test Images accounted: 10000\n",
      "All predicted scores shape: (10000, 50, 10)\n",
      "Dataset: cifar10, Model: model_1, Dir: scale_1_0: ACC: (54.96, 54.96)\n",
      "With last timestep ACC: (0.5478, set())\n"
     ]
    }
   ],
   "source": [
    "directory = \"scale_1_0\"\n",
    "print(\"Dataset: {}, Model: {}, Dir: {}: ACC: {}\".format(dataset, model_name, directory, \n",
    "    get_accuracy_over_all_test_data(dataset, model_name, n_steps=n_steps, l_steps=5, directory=directory)))\n",
    "print(\"With last timestep ACC: {}\".format(read_nengo_loihi_results(dataset, model_name, directory)))"
   ]
  },
  {
   "cell_type": "markdown",
   "id": "059dc31c",
   "metadata": {},
   "source": [
    "### scale_2_0"
   ]
  },
  {
   "cell_type": "code",
   "execution_count": 6,
   "id": "9b10bd4d",
   "metadata": {},
   "outputs": [
    {
     "name": "stdout",
     "output_type": "stream",
     "text": [
      "Num of Test Images accounted: 10000\n",
      "All predicted scores shape: (10000, 50, 10)\n",
      "Dataset: cifar10, Model: model_1, Dir: scale_2_0: ACC: (55.11000000000001, 55.11)\n",
      "With last timestep ACC: (0.5483, set())\n"
     ]
    }
   ],
   "source": [
    "directory = \"scale_2_0\"\n",
    "print(\"Dataset: {}, Model: {}, Dir: {}: ACC: {}\".format(dataset, model_name, directory, \n",
    "    get_accuracy_over_all_test_data(dataset, model_name, n_steps=n_steps, l_steps=5, directory=directory)))\n",
    "print(\"With last timestep ACC: {}\".format(read_nengo_loihi_results(dataset, model_name, directory)))"
   ]
  },
  {
   "cell_type": "markdown",
   "id": "446866c1",
   "metadata": {},
   "source": [
    "### scale_5_0"
   ]
  },
  {
   "cell_type": "code",
   "execution_count": 14,
   "id": "cbdeb709",
   "metadata": {},
   "outputs": [
    {
     "name": "stdout",
     "output_type": "stream",
     "text": [
      "Num of Test Images accounted: 10000\n",
      "All predicted scores shape: (10000, 50, 10)\n",
      "Dataset: cifar10, Model: model_1, Dir: scale_5_0: ACC: (51.77, 51.77)\n",
      "With last timestep ACC: (0.517, set())\n"
     ]
    }
   ],
   "source": [
    "directory = \"scale_5_0\"\n",
    "print(\"Dataset: {}, Model: {}, Dir: {}: ACC: {}\".format(dataset, model_name, directory, \n",
    "    get_accuracy_over_all_test_data(dataset, model_name, n_steps=n_steps, l_steps=5, directory=directory)))\n",
    "print(\"With last timestep ACC: {}\".format(read_nengo_loihi_results(dataset, model_name, directory)))"
   ]
  },
  {
   "cell_type": "markdown",
   "id": "d3bf40df",
   "metadata": {},
   "source": [
    "## Model_2 Results"
   ]
  },
  {
   "cell_type": "code",
   "execution_count": 9,
   "id": "c6124923",
   "metadata": {},
   "outputs": [],
   "source": [
    "n_steps, model_name = 60, \"model_2\""
   ]
  },
  {
   "cell_type": "markdown",
   "id": "3427263f",
   "metadata": {},
   "source": [
    "### scale_1_0"
   ]
  },
  {
   "cell_type": "code",
   "execution_count": 10,
   "id": "aa405d9c",
   "metadata": {},
   "outputs": [
    {
     "name": "stdout",
     "output_type": "stream",
     "text": [
      "Num of Test Images accounted: 10000\n",
      "All predicted scores shape: (10000, 60, 10)\n",
      "Dataset: cifar10, Model: model_2, Dir: scale_1_0: ACC: (55.66, 55.66)\n",
      "With last timestep ACC: (0.5566, set())\n"
     ]
    }
   ],
   "source": [
    "directory = \"scale_1_0\"\n",
    "print(\"Dataset: {}, Model: {}, Dir: {}: ACC: {}\".format(dataset, model_name, directory, \n",
    "    get_accuracy_over_all_test_data(dataset, model_name, n_steps=n_steps, l_steps=5, directory=directory)))\n",
    "print(\"With last timestep ACC: {}\".format(read_nengo_loihi_results(dataset, model_name, directory)))"
   ]
  },
  {
   "cell_type": "markdown",
   "id": "8e50cb9e",
   "metadata": {},
   "source": [
    "### scale_2_0"
   ]
  },
  {
   "cell_type": "code",
   "execution_count": 11,
   "id": "dbdb5058",
   "metadata": {},
   "outputs": [
    {
     "name": "stdout",
     "output_type": "stream",
     "text": [
      "Num of Test Images accounted: 10000\n",
      "All predicted scores shape: (10000, 60, 10)\n",
      "Dataset: cifar10, Model: model_2, Dir: scale_2_0: ACC: (51.81, 51.81)\n",
      "With last timestep ACC: (0.5172, set())\n"
     ]
    }
   ],
   "source": [
    "directory = \"scale_2_0\"\n",
    "print(\"Dataset: {}, Model: {}, Dir: {}: ACC: {}\".format(dataset, model_name, directory, \n",
    "    get_accuracy_over_all_test_data(dataset, model_name, n_steps=n_steps, l_steps=5, directory=directory)))\n",
    "print(\"With last timestep ACC: {}\".format(read_nengo_loihi_results(dataset, model_name, directory)))"
   ]
  },
  {
   "cell_type": "code",
   "execution_count": null,
   "id": "acbab877",
   "metadata": {},
   "outputs": [],
   "source": []
  }
 ],
 "metadata": {
  "kernelspec": {
   "display_name": "Python 3",
   "language": "python",
   "name": "python3"
  },
  "language_info": {
   "codemirror_mode": {
    "name": "ipython",
    "version": 3
   },
   "file_extension": ".py",
   "mimetype": "text/x-python",
   "name": "python",
   "nbconvert_exporter": "python",
   "pygments_lexer": "ipython3",
   "version": "3.8.10"
  }
 },
 "nbformat": 4,
 "nbformat_minor": 5
}
