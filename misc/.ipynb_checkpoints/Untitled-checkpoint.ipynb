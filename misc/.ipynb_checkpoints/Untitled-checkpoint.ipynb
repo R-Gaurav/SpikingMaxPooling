{
 "cells": [
  {
   "cell_type": "code",
   "execution_count": 1,
   "id": "e26119a4",
   "metadata": {},
   "outputs": [],
   "source": [
    "import matplotlib.pyplot as plt\n",
    "import nengo\n",
    "import nengo_dl\n",
    "import numpy as np\n",
    "import tensorflow as tf\n",
    "import tensorflow_probability as tfp\n",
    "import collections\n",
    "\n",
    "import nengo_loihi\n",
    "\n",
    "import _init_paths\n",
    "\n",
    "from configs.exp_configs import tf_exp_cfg as tf_cfg, nengo_dl_cfg as ndl_cfg\n",
    "from utils.base_utils.data_prep_utils import get_batches_of_exp_dataset, get_exp_dataset\n",
    "from utils.base_utils.exp_utils import get_shuffled_lists_in_unison\n",
    "from utils.nengo_dl_utils import get_nengo_dl_model"
   ]
  },
  {
   "cell_type": "code",
   "execution_count": 2,
   "id": "459b5494",
   "metadata": {
    "scrolled": true
   },
   "outputs": [
    {
     "name": "stderr",
     "output_type": "stream",
     "text": [
      "/homes/rgaurav/nxsdk_1_nengo_loihi/lib/python3.8/site-packages/nengo_dl/converter.py:324: UserWarning: Cannot convert max pooling layers to native Nengo objects; consider setting max_to_avg_pool=True to use average pooling instead. Falling back to TensorNode.\n",
      "  warnings.warn(\n"
     ]
    }
   ],
   "source": [
    "ndl_model, ngo_probes_lst = get_nengo_dl_model(\n",
    "    (32, 32, 3), tf_cfg, ndl_cfg, mode=\"test\", num_clss=10,\n",
    "    max_to_avg_pool=False, include_layer_probes=True, channels_first=False)"
   ]
  },
  {
   "cell_type": "code",
   "execution_count": 3,
   "id": "e21ca98f",
   "metadata": {},
   "outputs": [
    {
     "name": "stdout",
     "output_type": "stream",
     "text": [
      "<Probe of 'output' of <Neurons of <Ensemble \"conv2d_2.0\">>>\n"
     ]
    }
   ],
   "source": [
    "probe = ngo_probes_lst[1:-1][0]\n",
    "print(probe)"
   ]
  },
  {
   "cell_type": "code",
   "execution_count": 4,
   "id": "8d0525e8",
   "metadata": {},
   "outputs": [
    {
     "data": {
      "text/plain": [
       "'conv2d_2.0'"
      ]
     },
     "execution_count": 4,
     "metadata": {},
     "output_type": "execute_result"
    }
   ],
   "source": [
    "probe.obj.ensemble.label"
   ]
  },
  {
   "cell_type": "code",
   "execution_count": 3,
   "id": "7822c236",
   "metadata": {},
   "outputs": [],
   "source": [
    "train_x, train_y, _, _ = get_exp_dataset(tf_cfg[\"dataset\"])"
   ]
  },
  {
   "cell_type": "code",
   "execution_count": 5,
   "id": "1b54e072",
   "metadata": {},
   "outputs": [],
   "source": [
    "train_idg = tf.keras.preprocessing.image.ImageDataGenerator(\n",
    "    width_shift_range=0.1, height_shift_range=0.1, rotation_range=20,\n",
    "    horizontal_flip=True, data_format=\"channels_first\")\n",
    "train_idg.fit(train_x, seed=0)"
   ]
  },
  {
   "cell_type": "code",
   "execution_count": 3,
   "id": "5136a580",
   "metadata": {},
   "outputs": [],
   "source": [
    "train_batches = get_batches_of_exp_dataset(ndl_cfg, ndl_model, ngo_probes_lst, is_test=False)"
   ]
  },
  {
   "cell_type": "markdown",
   "id": "b7a54376",
   "metadata": {},
   "source": [
    "# ###############################################################"
   ]
  },
  {
   "cell_type": "code",
   "execution_count": 2,
   "id": "36758eab",
   "metadata": {},
   "outputs": [],
   "source": [
    "inp = tf.keras.Input(shape=(1, 28, 28), name=\"input\")\n",
    "\n",
    "to_spikes = tf.keras.layers.Conv2D(\n",
    "  filters=3, # 3 RGB Neurons per pixel.\n",
    "  kernel_size=(1, 1), strides=(1, 1), activation=tf.nn.relu,\n",
    "  use_bias=False, # Default is True.\n",
    "  data_format=\"channels_first\", name=\"to-spikes\")(inp)\n",
    "\n",
    "################################ ON-CHIP LAYERS ##################################\n",
    "conv0 = tf.keras.layers.Conv2D(\n",
    "  filters=8, kernel_size=(3, 3), strides=(1, 1), activation=tf.nn.relu,\n",
    "  use_bias=False, data_format=\"channels_first\", name=\"conv0\")(to_spikes)\n",
    "\n",
    "avgp0 = tf.keras.layers.AveragePooling2D(\n",
    "  pool_size=(2, 2), padding=\"valid\", data_format=\"channels_first\",\n",
    "  name=\"AvgPool0\")(conv0)\n",
    "\n",
    "conv1 = tf.keras.layers.Conv2D(\n",
    "  filters=16, kernel_size=(3, 3), strides=(1, 1), activation=tf.nn.relu,\n",
    "  use_bias=False, data_format=\"channels_first\", name=\"conv1\")(avgp0)\n",
    "\n",
    "flatten = tf.keras.layers.Flatten(name=\"flatten\")(conv1)\n",
    "dense0 = tf.keras.layers.Dense(64, activation=tf.nn.relu, name=\"dense0\")(flatten)"
   ]
  },
  {
   "cell_type": "code",
   "execution_count": 3,
   "id": "0a4f2796",
   "metadata": {},
   "outputs": [
    {
     "name": "stdout",
     "output_type": "stream",
     "text": [
      "Model: \"model\"\n",
      "_________________________________________________________________\n",
      "Layer (type)                 Output Shape              Param #   \n",
      "=================================================================\n",
      "input (InputLayer)           [(None, 1, 28, 28)]       0         \n",
      "_________________________________________________________________\n",
      "to-spikes (Conv2D)           (None, 3, 28, 28)         3         \n",
      "_________________________________________________________________\n",
      "conv0 (Conv2D)               (None, 8, 26, 26)         216       \n",
      "_________________________________________________________________\n",
      "AvgPool0 (AveragePooling2D)  (None, 8, 13, 13)         0         \n",
      "_________________________________________________________________\n",
      "conv1 (Conv2D)               (None, 16, 11, 11)        1152      \n",
      "_________________________________________________________________\n",
      "flatten (Flatten)            (None, 1936)              0         \n",
      "_________________________________________________________________\n",
      "dense0 (Dense)               (None, 64)                123968    \n",
      "_________________________________________________________________\n",
      "dense1 (Dense)               (None, 10)                650       \n",
      "=================================================================\n",
      "Total params: 125,989\n",
      "Trainable params: 125,989\n",
      "Non-trainable params: 0\n",
      "_________________________________________________________________\n"
     ]
    }
   ],
   "source": [
    "dense1 = tf.keras.layers.Dense(10, name=\"dense1\")(dense0)\n",
    "model = tf.keras.Model(inputs=inp, outputs=dense1)\n",
    "model.summary()"
   ]
  },
  {
   "cell_type": "code",
   "execution_count": 7,
   "id": "68f0c99f",
   "metadata": {},
   "outputs": [],
   "source": [
    "nengo_converter = nengo_dl.Converter(\n",
    "    model,\n",
    "    scale_firing_rates=400,\n",
    "    swap_activations={tf.nn.relu: nengo_loihi.neurons.LoihiSpikingRectifiedLinear()},\n",
    "    synapse=0.005,\n",
    ")\n",
    "net = nengo_converter.net"
   ]
  },
  {
   "cell_type": "code",
   "execution_count": 8,
   "id": "ee1dc37c",
   "metadata": {},
   "outputs": [],
   "source": [
    "with net:\n",
    "    nengo_loihi.add_params(net)  # allow on_chip to be set\n",
    "    # Both of the following lines works.\n",
    "    #net.config[nengo_converter.layers[to_spikes].ensemble].on_chip = False\n",
    "    net.config[nengo_converter.layers[nengo_converter.model.layers[1]].ensemble].on_chip = False"
   ]
  },
  {
   "cell_type": "code",
   "execution_count": 12,
   "id": "3bdb6a1a",
   "metadata": {},
   "outputs": [
    {
     "ename": "BuildError",
     "evalue": "Conv2D transforms not supported for off-chip to on-chip connections where `pre` is not a Neurons object.",
     "output_type": "error",
     "traceback": [
      "\u001b[0;31m---------------------------------------------------------------------------\u001b[0m",
      "\u001b[0;31mBuildError\u001b[0m                                Traceback (most recent call last)",
      "\u001b[0;32m<ipython-input-12-c5d59d902428>\u001b[0m in \u001b[0;36m<module>\u001b[0;34m\u001b[0m\n\u001b[0;32m----> 1\u001b[0;31m \u001b[0mloihi_sim\u001b[0m \u001b[0;34m=\u001b[0m \u001b[0mnengo_loihi\u001b[0m\u001b[0;34m.\u001b[0m\u001b[0mSimulator\u001b[0m\u001b[0;34m(\u001b[0m\u001b[0mnet\u001b[0m\u001b[0;34m,\u001b[0m \u001b[0mtarget\u001b[0m\u001b[0;34m=\u001b[0m\u001b[0;34m\"sim\"\u001b[0m\u001b[0;34m,\u001b[0m \u001b[0mremove_passthrough\u001b[0m\u001b[0;34m=\u001b[0m\u001b[0;32mFalse\u001b[0m\u001b[0;34m)\u001b[0m\u001b[0;34m\u001b[0m\u001b[0;34m\u001b[0m\u001b[0m\n\u001b[0m",
      "\u001b[0;32m~/miniconda3/envs/latest-nengo-tf/lib/python3.7/site-packages/nengo_loihi/simulator.py\u001b[0m in \u001b[0;36m__init__\u001b[0;34m(self, network, dt, seed, model, precompute, target, progress_bar, remove_passthrough, hardware_options)\u001b[0m\n\u001b[1;32m    137\u001b[0m             \u001b[0mprecompute\u001b[0m\u001b[0;34m=\u001b[0m\u001b[0mprecompute\u001b[0m\u001b[0;34m,\u001b[0m\u001b[0;34m\u001b[0m\u001b[0;34m\u001b[0m\u001b[0m\n\u001b[1;32m    138\u001b[0m             \u001b[0mremove_passthrough\u001b[0m\u001b[0;34m=\u001b[0m\u001b[0mremove_passthrough\u001b[0m\u001b[0;34m,\u001b[0m\u001b[0;34m\u001b[0m\u001b[0;34m\u001b[0m\u001b[0m\n\u001b[0;32m--> 139\u001b[0;31m             \u001b[0mdiscretize\u001b[0m\u001b[0;34m=\u001b[0m\u001b[0mtarget\u001b[0m \u001b[0;34m!=\u001b[0m \u001b[0;34m\"simreal\"\u001b[0m\u001b[0;34m,\u001b[0m\u001b[0;34m\u001b[0m\u001b[0;34m\u001b[0m\u001b[0m\n\u001b[0m\u001b[1;32m    140\u001b[0m         )\n\u001b[1;32m    141\u001b[0m \u001b[0;34m\u001b[0m\u001b[0m\n",
      "\u001b[0;32m~/miniconda3/envs/latest-nengo-tf/lib/python3.7/site-packages/nengo_loihi/builder/builder.py\u001b[0m in \u001b[0;36mbuild\u001b[0;34m(self, obj, *args, **kwargs)\u001b[0m\n\u001b[1;32m    221\u001b[0m             \u001b[0madd_params\u001b[0m\u001b[0;34m(\u001b[0m\u001b[0mobj\u001b[0m\u001b[0;34m)\u001b[0m\u001b[0;34m\u001b[0m\u001b[0;34m\u001b[0m\u001b[0m\n\u001b[1;32m    222\u001b[0m \u001b[0;34m\u001b[0m\u001b[0m\n\u001b[0;32m--> 223\u001b[0;31m         \u001b[0mbuilt\u001b[0m \u001b[0;34m=\u001b[0m \u001b[0mmodel\u001b[0m\u001b[0;34m.\u001b[0m\u001b[0mbuilder\u001b[0m\u001b[0;34m.\u001b[0m\u001b[0mbuild\u001b[0m\u001b[0;34m(\u001b[0m\u001b[0mmodel\u001b[0m\u001b[0;34m,\u001b[0m \u001b[0mobj\u001b[0m\u001b[0;34m,\u001b[0m \u001b[0;34m*\u001b[0m\u001b[0margs\u001b[0m\u001b[0;34m,\u001b[0m \u001b[0;34m**\u001b[0m\u001b[0mkwargs\u001b[0m\u001b[0;34m)\u001b[0m\u001b[0;34m\u001b[0m\u001b[0;34m\u001b[0m\u001b[0m\n\u001b[0m\u001b[1;32m    224\u001b[0m         \u001b[0;32mif\u001b[0m \u001b[0mself\u001b[0m\u001b[0;34m.\u001b[0m\u001b[0mbuild_callback\u001b[0m \u001b[0;32mis\u001b[0m \u001b[0;32mnot\u001b[0m \u001b[0;32mNone\u001b[0m\u001b[0;34m:\u001b[0m\u001b[0;34m\u001b[0m\u001b[0;34m\u001b[0m\u001b[0m\n\u001b[1;32m    225\u001b[0m             \u001b[0mself\u001b[0m\u001b[0;34m.\u001b[0m\u001b[0mbuild_callback\u001b[0m\u001b[0;34m(\u001b[0m\u001b[0mobj\u001b[0m\u001b[0;34m)\u001b[0m\u001b[0;34m\u001b[0m\u001b[0;34m\u001b[0m\u001b[0m\n",
      "\u001b[0;32m~/miniconda3/envs/latest-nengo-tf/lib/python3.7/site-packages/nengo/builder/builder.py\u001b[0m in \u001b[0;36mbuild\u001b[0;34m(cls, model, obj, *args, **kwargs)\u001b[0m\n\u001b[1;32m    237\u001b[0m         \u001b[0;32mfor\u001b[0m \u001b[0mobj_cls\u001b[0m \u001b[0;32min\u001b[0m \u001b[0mtype\u001b[0m\u001b[0;34m(\u001b[0m\u001b[0mobj\u001b[0m\u001b[0;34m)\u001b[0m\u001b[0;34m.\u001b[0m\u001b[0m__mro__\u001b[0m\u001b[0;34m:\u001b[0m\u001b[0;34m\u001b[0m\u001b[0;34m\u001b[0m\u001b[0m\n\u001b[1;32m    238\u001b[0m             \u001b[0;32mif\u001b[0m \u001b[0mobj_cls\u001b[0m \u001b[0;32min\u001b[0m \u001b[0mcls\u001b[0m\u001b[0;34m.\u001b[0m\u001b[0mbuilders\u001b[0m\u001b[0;34m:\u001b[0m\u001b[0;34m\u001b[0m\u001b[0;34m\u001b[0m\u001b[0m\n\u001b[0;32m--> 239\u001b[0;31m                 \u001b[0;32mreturn\u001b[0m \u001b[0mcls\u001b[0m\u001b[0;34m.\u001b[0m\u001b[0mbuilders\u001b[0m\u001b[0;34m[\u001b[0m\u001b[0mobj_cls\u001b[0m\u001b[0;34m]\u001b[0m\u001b[0;34m(\u001b[0m\u001b[0mmodel\u001b[0m\u001b[0;34m,\u001b[0m \u001b[0mobj\u001b[0m\u001b[0;34m,\u001b[0m \u001b[0;34m*\u001b[0m\u001b[0margs\u001b[0m\u001b[0;34m,\u001b[0m \u001b[0;34m**\u001b[0m\u001b[0mkwargs\u001b[0m\u001b[0;34m)\u001b[0m\u001b[0;34m\u001b[0m\u001b[0;34m\u001b[0m\u001b[0m\n\u001b[0m\u001b[1;32m    240\u001b[0m \u001b[0;34m\u001b[0m\u001b[0m\n\u001b[1;32m    241\u001b[0m         \u001b[0;32mraise\u001b[0m \u001b[0mBuildError\u001b[0m\u001b[0;34m(\u001b[0m\u001b[0;34m\"Cannot build object of type %r\"\u001b[0m \u001b[0;34m%\u001b[0m \u001b[0mtype\u001b[0m\u001b[0;34m(\u001b[0m\u001b[0mobj\u001b[0m\u001b[0;34m)\u001b[0m\u001b[0;34m.\u001b[0m\u001b[0m__name__\u001b[0m\u001b[0;34m)\u001b[0m\u001b[0;34m\u001b[0m\u001b[0;34m\u001b[0m\u001b[0m\n",
      "\u001b[0;32m~/miniconda3/envs/latest-nengo-tf/lib/python3.7/site-packages/nengo_loihi/builder/network.py\u001b[0m in \u001b[0;36mbuild_network\u001b[0;34m(model, network, precompute, remove_passthrough, discretize)\u001b[0m\n\u001b[1;32m     29\u001b[0m \u001b[0;34m\u001b[0m\u001b[0m\n\u001b[1;32m     30\u001b[0m     \u001b[0;31m# Delegate most of the network building to Nengo\u001b[0m\u001b[0;34m\u001b[0m\u001b[0;34m\u001b[0m\u001b[0;34m\u001b[0m\u001b[0m\n\u001b[0;32m---> 31\u001b[0;31m     \u001b[0mnengo_build_network\u001b[0m\u001b[0;34m(\u001b[0m\u001b[0mmodel\u001b[0m\u001b[0;34m,\u001b[0m \u001b[0mnetwork\u001b[0m\u001b[0;34m,\u001b[0m \u001b[0mprogress\u001b[0m\u001b[0;34m=\u001b[0m\u001b[0;32mNone\u001b[0m\u001b[0;34m)\u001b[0m\u001b[0;34m\u001b[0m\u001b[0;34m\u001b[0m\u001b[0m\n\u001b[0m\u001b[1;32m     32\u001b[0m \u001b[0;34m\u001b[0m\u001b[0m\n\u001b[1;32m     33\u001b[0m     \u001b[0;32mif\u001b[0m \u001b[0mnetwork\u001b[0m \u001b[0;32mis\u001b[0m \u001b[0mmodel\u001b[0m\u001b[0;34m.\u001b[0m\u001b[0mtoplevel\u001b[0m\u001b[0;34m:\u001b[0m\u001b[0;34m\u001b[0m\u001b[0;34m\u001b[0m\u001b[0m\n",
      "\u001b[0;32m~/miniconda3/envs/latest-nengo-tf/lib/python3.7/site-packages/nengo/builder/network.py\u001b[0m in \u001b[0;36mbuild_network\u001b[0;34m(model, network, progress)\u001b[0m\n\u001b[1;32m     92\u001b[0m             \u001b[0;31m# TODO: Except perhaps if the connection being learned\u001b[0m\u001b[0;34m\u001b[0m\u001b[0;34m\u001b[0m\u001b[0;34m\u001b[0m\u001b[0m\n\u001b[1;32m     93\u001b[0m             \u001b[0;31m# is in a subnetwork?\u001b[0m\u001b[0;34m\u001b[0m\u001b[0;34m\u001b[0m\u001b[0;34m\u001b[0m\u001b[0m\n\u001b[0;32m---> 94\u001b[0;31m             \u001b[0mmodel\u001b[0m\u001b[0;34m.\u001b[0m\u001b[0mbuild\u001b[0m\u001b[0;34m(\u001b[0m\u001b[0mconn\u001b[0m\u001b[0;34m)\u001b[0m\u001b[0;34m\u001b[0m\u001b[0;34m\u001b[0m\u001b[0m\n\u001b[0m\u001b[1;32m     95\u001b[0m \u001b[0;34m\u001b[0m\u001b[0m\n\u001b[1;32m     96\u001b[0m         \u001b[0mlogger\u001b[0m\u001b[0;34m.\u001b[0m\u001b[0mdebug\u001b[0m\u001b[0;34m(\u001b[0m\u001b[0;34m\"Network step 4: Building probes\"\u001b[0m\u001b[0;34m)\u001b[0m\u001b[0;34m\u001b[0m\u001b[0;34m\u001b[0m\u001b[0m\n",
      "\u001b[0;32m~/miniconda3/envs/latest-nengo-tf/lib/python3.7/site-packages/nengo_loihi/builder/builder.py\u001b[0m in \u001b[0;36mbuild\u001b[0;34m(self, obj, *args, **kwargs)\u001b[0m\n\u001b[1;32m    221\u001b[0m             \u001b[0madd_params\u001b[0m\u001b[0;34m(\u001b[0m\u001b[0mobj\u001b[0m\u001b[0;34m)\u001b[0m\u001b[0;34m\u001b[0m\u001b[0;34m\u001b[0m\u001b[0m\n\u001b[1;32m    222\u001b[0m \u001b[0;34m\u001b[0m\u001b[0m\n\u001b[0;32m--> 223\u001b[0;31m         \u001b[0mbuilt\u001b[0m \u001b[0;34m=\u001b[0m \u001b[0mmodel\u001b[0m\u001b[0;34m.\u001b[0m\u001b[0mbuilder\u001b[0m\u001b[0;34m.\u001b[0m\u001b[0mbuild\u001b[0m\u001b[0;34m(\u001b[0m\u001b[0mmodel\u001b[0m\u001b[0;34m,\u001b[0m \u001b[0mobj\u001b[0m\u001b[0;34m,\u001b[0m \u001b[0;34m*\u001b[0m\u001b[0margs\u001b[0m\u001b[0;34m,\u001b[0m \u001b[0;34m**\u001b[0m\u001b[0mkwargs\u001b[0m\u001b[0;34m)\u001b[0m\u001b[0;34m\u001b[0m\u001b[0;34m\u001b[0m\u001b[0m\n\u001b[0m\u001b[1;32m    224\u001b[0m         \u001b[0;32mif\u001b[0m \u001b[0mself\u001b[0m\u001b[0;34m.\u001b[0m\u001b[0mbuild_callback\u001b[0m \u001b[0;32mis\u001b[0m \u001b[0;32mnot\u001b[0m \u001b[0;32mNone\u001b[0m\u001b[0;34m:\u001b[0m\u001b[0;34m\u001b[0m\u001b[0;34m\u001b[0m\u001b[0m\n\u001b[1;32m    225\u001b[0m             \u001b[0mself\u001b[0m\u001b[0;34m.\u001b[0m\u001b[0mbuild_callback\u001b[0m\u001b[0;34m(\u001b[0m\u001b[0mobj\u001b[0m\u001b[0;34m)\u001b[0m\u001b[0;34m\u001b[0m\u001b[0;34m\u001b[0m\u001b[0m\n",
      "\u001b[0;32m~/miniconda3/envs/latest-nengo-tf/lib/python3.7/site-packages/nengo/builder/builder.py\u001b[0m in \u001b[0;36mbuild\u001b[0;34m(cls, model, obj, *args, **kwargs)\u001b[0m\n\u001b[1;32m    237\u001b[0m         \u001b[0;32mfor\u001b[0m \u001b[0mobj_cls\u001b[0m \u001b[0;32min\u001b[0m \u001b[0mtype\u001b[0m\u001b[0;34m(\u001b[0m\u001b[0mobj\u001b[0m\u001b[0;34m)\u001b[0m\u001b[0;34m.\u001b[0m\u001b[0m__mro__\u001b[0m\u001b[0;34m:\u001b[0m\u001b[0;34m\u001b[0m\u001b[0;34m\u001b[0m\u001b[0m\n\u001b[1;32m    238\u001b[0m             \u001b[0;32mif\u001b[0m \u001b[0mobj_cls\u001b[0m \u001b[0;32min\u001b[0m \u001b[0mcls\u001b[0m\u001b[0;34m.\u001b[0m\u001b[0mbuilders\u001b[0m\u001b[0;34m:\u001b[0m\u001b[0;34m\u001b[0m\u001b[0;34m\u001b[0m\u001b[0m\n\u001b[0;32m--> 239\u001b[0;31m                 \u001b[0;32mreturn\u001b[0m \u001b[0mcls\u001b[0m\u001b[0;34m.\u001b[0m\u001b[0mbuilders\u001b[0m\u001b[0;34m[\u001b[0m\u001b[0mobj_cls\u001b[0m\u001b[0;34m]\u001b[0m\u001b[0;34m(\u001b[0m\u001b[0mmodel\u001b[0m\u001b[0;34m,\u001b[0m \u001b[0mobj\u001b[0m\u001b[0;34m,\u001b[0m \u001b[0;34m*\u001b[0m\u001b[0margs\u001b[0m\u001b[0;34m,\u001b[0m \u001b[0;34m**\u001b[0m\u001b[0mkwargs\u001b[0m\u001b[0;34m)\u001b[0m\u001b[0;34m\u001b[0m\u001b[0;34m\u001b[0m\u001b[0m\n\u001b[0m\u001b[1;32m    240\u001b[0m \u001b[0;34m\u001b[0m\u001b[0m\n\u001b[1;32m    241\u001b[0m         \u001b[0;32mraise\u001b[0m \u001b[0mBuildError\u001b[0m\u001b[0;34m(\u001b[0m\u001b[0;34m\"Cannot build object of type %r\"\u001b[0m \u001b[0;34m%\u001b[0m \u001b[0mtype\u001b[0m\u001b[0;34m(\u001b[0m\u001b[0mobj\u001b[0m\u001b[0;34m)\u001b[0m\u001b[0;34m.\u001b[0m\u001b[0m__name__\u001b[0m\u001b[0;34m)\u001b[0m\u001b[0;34m\u001b[0m\u001b[0;34m\u001b[0m\u001b[0m\n",
      "\u001b[0;32m~/miniconda3/envs/latest-nengo-tf/lib/python3.7/site-packages/nengo_loihi/builder/connection.py\u001b[0m in \u001b[0;36mbuild_connection\u001b[0;34m(model, conn)\u001b[0m\n\u001b[1;32m     80\u001b[0m             \u001b[0mbuild_host_neurons_to_chip\u001b[0m\u001b[0;34m(\u001b[0m\u001b[0mmodel\u001b[0m\u001b[0;34m,\u001b[0m \u001b[0mconn\u001b[0m\u001b[0;34m)\u001b[0m\u001b[0;34m\u001b[0m\u001b[0;34m\u001b[0m\u001b[0m\n\u001b[1;32m     81\u001b[0m         \u001b[0;32melse\u001b[0m\u001b[0;34m:\u001b[0m\u001b[0;34m\u001b[0m\u001b[0;34m\u001b[0m\u001b[0m\n\u001b[0;32m---> 82\u001b[0;31m             \u001b[0mbuild_host_to_chip\u001b[0m\u001b[0;34m(\u001b[0m\u001b[0mmodel\u001b[0m\u001b[0;34m,\u001b[0m \u001b[0mconn\u001b[0m\u001b[0;34m)\u001b[0m\u001b[0;34m\u001b[0m\u001b[0;34m\u001b[0m\u001b[0m\n\u001b[0m\u001b[1;32m     83\u001b[0m \u001b[0;34m\u001b[0m\u001b[0m\n\u001b[1;32m     84\u001b[0m     \u001b[0;32melif\u001b[0m \u001b[0mpre_onchip\u001b[0m \u001b[0;32mand\u001b[0m \u001b[0;32mnot\u001b[0m \u001b[0mpost_onchip\u001b[0m\u001b[0;34m:\u001b[0m\u001b[0;34m\u001b[0m\u001b[0;34m\u001b[0m\u001b[0m\n",
      "\u001b[0;32m~/miniconda3/envs/latest-nengo-tf/lib/python3.7/site-packages/nengo_loihi/builder/connection.py\u001b[0m in \u001b[0;36mbuild_host_to_chip\u001b[0;34m(model, conn)\u001b[0m\n\u001b[1;32m    148\u001b[0m     \u001b[0;32mif\u001b[0m \u001b[0mis_transform_type\u001b[0m\u001b[0;34m(\u001b[0m\u001b[0mconn\u001b[0m\u001b[0;34m.\u001b[0m\u001b[0mtransform\u001b[0m\u001b[0;34m,\u001b[0m \u001b[0;34m\"Convolution\"\u001b[0m\u001b[0;34m)\u001b[0m\u001b[0;34m:\u001b[0m\u001b[0;34m\u001b[0m\u001b[0;34m\u001b[0m\u001b[0m\n\u001b[1;32m    149\u001b[0m         raise BuildError(\n\u001b[0;32m--> 150\u001b[0;31m             \u001b[0;34m\"Conv2D transforms not supported for off-chip to \"\u001b[0m\u001b[0;34m\u001b[0m\u001b[0;34m\u001b[0m\u001b[0m\n\u001b[0m\u001b[1;32m    151\u001b[0m             \u001b[0;34m\"on-chip connections where `pre` is not a Neurons object.\"\u001b[0m\u001b[0;34m\u001b[0m\u001b[0;34m\u001b[0m\u001b[0m\n\u001b[1;32m    152\u001b[0m         )\n",
      "\u001b[0;31mBuildError\u001b[0m: Conv2D transforms not supported for off-chip to on-chip connections where `pre` is not a Neurons object."
     ]
    }
   ],
   "source": [
    "loihi_sim = nengo_loihi.Simulator(net, target=\"sim\", remove_passthrough=False)"
   ]
  },
  {
   "cell_type": "code",
   "execution_count": 5,
   "id": "50287d05",
   "metadata": {},
   "outputs": [],
   "source": [
    "mp_lyr_otpt = np.load(\"/home/rgaurav/projects/def-anarayan/rgaurav/spiking_investigation/experiment_outputs/cifar10/\"\n",
    "                      \"model_1/ndl_train_test_results/ndl_test_only_results/sim_lyr_probes_otpt.npy\", allow_pickle=True)"
   ]
  },
  {
   "cell_type": "code",
   "execution_count": 6,
   "id": "66066160",
   "metadata": {},
   "outputs": [],
   "source": [
    "ti_0_mp_output = mp_lyr_otpt.item()[\"max_pooling2d\"][0]"
   ]
  },
  {
   "cell_type": "code",
   "execution_count": 18,
   "id": "f90c3a84",
   "metadata": {},
   "outputs": [
    {
     "data": {
      "text/plain": [
       "<matplotlib.collections.PathCollection at 0x2ba5ce85ac50>"
      ]
     },
     "execution_count": 18,
     "metadata": {},
     "output_type": "execute_result"
    },
    {
     "data": {
      "image/png": "[encoded data removed]",
      "text/plain": [
       "<Figure size 432x288 with 1 Axes>"
      ]
     },
     "metadata": {
      "needs_background": "light"
     },
     "output_type": "display_data"
    }
   ],
   "source": [
    "ti_mp_output = mp_lyr_otpt.item()[\"max_pooling2d\"][0]\n",
    "plt.scatter(np.arange(0, 1800), np.mean(ti_mp_output[-10:, :], axis=0))"
   ]
  },
  {
   "cell_type": "code",
   "execution_count": 19,
   "id": "09ed88f9",
   "metadata": {},
   "outputs": [
    {
     "data": {
      "text/plain": [
       "<matplotlib.collections.PathCollection at 0x2ba5ce8cb890>"
      ]
     },
     "execution_count": 19,
     "metadata": {},
     "output_type": "execute_result"
    },
    {
     "data": {
      "image/png": "[encoded data removed]",
      "text/plain": [
       "<Figure size 432x288 with 1 Axes>"
      ]
     },
     "metadata": {
      "needs_background": "light"
     },
     "output_type": "display_data"
    }
   ],
   "source": [
    "ti_mp_output = mp_lyr_otpt.item()[\"max_pooling2d\"][1]\n",
    "plt.scatter(np.arange(0, 1800), np.mean(ti_mp_output[-10:, :], axis=0))"
   ]
  },
  {
   "cell_type": "code",
   "execution_count": null,
   "id": "b2dc49fa",
   "metadata": {},
   "outputs": [],
   "source": []
  }
 ],
 "metadata": {
  "kernelspec": {
   "display_name": "Python 3",
   "language": "python",
   "name": "python3"
  },
  "language_info": {
   "codemirror_mode": {
    "name": "ipython",
    "version": 3
   },
   "file_extension": ".py",
   "mimetype": "text/x-python",
   "name": "python",
   "nbconvert_exporter": "python",
   "pygments_lexer": "ipython3",
   "version": "3.8.10"
  }
 },
 "nbformat": 4,
 "nbformat_minor": 5
}
