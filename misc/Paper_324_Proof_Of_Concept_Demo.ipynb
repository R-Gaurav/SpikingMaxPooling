{
 "cells": [
  {
   "cell_type": "markdown",
   "id": "4ce7013b-639d-4b6f-a203-843adaa8c88f",
   "metadata": {},
   "source": [
    "#### This file contains the minimal code for the Proof Of Concept Demonstration of MJOP Net and AVAM Net. \n",
    "#### Note that for running MJOP Net code, access to Loihi is required. AVAM Net code can be run on CPU/GPU, and Loihi."
   ]
  },
  {
   "cell_type": "code",
   "execution_count": 1,
   "id": "399cdf94-6bd6-4473-a437-c4deb243a617",
   "metadata": {},
   "outputs": [],
   "source": [
    "import matplotlib.pyplot as plt\n",
    "import nengo\n",
    "import nengo_dl\n",
    "import numpy as np\n",
    "import collections\n",
    "import pickle\n",
    "import nengo_loihi"
   ]
  },
  {
   "cell_type": "markdown",
   "id": "dd7cda66-39c8-44dd-ab28-383c38d7aa5a",
   "metadata": {},
   "source": [
    "# MJOP Net Creation"
   ]
  },
  {
   "cell_type": "code",
   "execution_count": 2,
   "id": "2aa1a546-776f-4c30-b9aa-8999e098dbe6",
   "metadata": {},
   "outputs": [],
   "source": [
    "def configure_ensemble_for_2x2_max_join_op(loihi_sim, ens):\n",
    "  \"\"\"\n",
    "  Configures a Nengo Ensemble to create multiple Multi-Compartment Neurons with \n",
    "  4 compartments and MAX join-Op between those compartments.\n",
    "  \n",
    "  Args:\n",
    "    loihi_sim <nengo_loihi.simulator.Simulator>: NengoLoihi simulator object.\n",
    "    ens <nengo.ensemble.Ensemble>: The Ensemble whose neurons are supposed to be \n",
    "                                   configured.\n",
    "  \"\"\"\n",
    "  \n",
    "  nxsdk_board = loihi_sim.sims[\"loihi\"].nxsdk_board\n",
    "  board = loihi_sim.sims[\"loihi\"].board\n",
    "\n",
    "  # Get the blocks (which can be many depending on how large the Ensemble `ens`\n",
    "  # is and in how many blocks is it broken).\n",
    "  blocks = loihi_sim.model.objs[ens]\n",
    "  #print(\"Number of (in and out) Blocks for Ensemble %s are: %s and %s.\"\n",
    "  #          % (ens, len(blocks[\"in\"]), len(blocks[\"out\"])))\n",
    "  for block in blocks[\"in\"]:\n",
    "    in_chip_idx, in_core_idx, in_block_idx, in_compartment_idxs, _ = (\n",
    "        board.find_block(block))\n",
    "    nxsdk_core = nxsdk_board.n2Chips[in_chip_idx].n2CoresAsList[in_core_idx]\n",
    "\n",
    "    # Set the cxProfileCfg[0] as the leaf node's profile with `stackOut=3` =>\n",
    "    # it pushes the current U to the top of the stack.\n",
    "    nxsdk_core.cxProfileCfg[0].configure(stackOut=3, bapAction=0, refractDelay=0)\n",
    "    # Set the cxProfileCfg[1] as the intermediate node's profile with `stackIn=2`\n",
    "    # => it pops the element from the stack, `joinOp=2` => it does the MAX joinOp\n",
    "    # with the popped element from stack and its current U, `stackOut=3` => it\n",
    "    # pushes the MAXed current U on the top of the stack,\n",
    "    # `decayU=nxsdk_core.cxProfileCfg[0].decayU` => the decay constant for current\n",
    "    # U is same as that of the cxProfileCfg[0]. If `decayU` is 0, the current due\n",
    "    # incoming spike never decays resulting in constant spiking of the neuron\n",
    "    # and if it is default value, then the current decays instantly.\n",
    "    nxsdk_core.cxProfileCfg[1].configure(\n",
    "        stackIn=2, joinOp=2, stackOut=3, decayU=nxsdk_core.cxProfileCfg[0].decayU)\n",
    "    # Set the root node which will output the spikes corresonding to the MAXed U.\n",
    "    nxsdk_core.cxProfileCfg[2].configure(\n",
    "        stackIn=2, joinOp=2, decayU=nxsdk_core.cxProfileCfg[0].decayU)\n",
    "\n",
    "    # Set the compartments now.\n",
    "    # Since the incoming connection from the previous Conv layer already as the\n",
    "    # inputs in order of grouped slices, they are simply connected to the neuron\n",
    "    # in this Ensembel `ens` from 0 index onwards.\n",
    "    # `in_compartment_idxs` has the mapping of all compartment neurons in a\n",
    "    # specific core, starting from index 0.\n",
    "\n",
    "    # Maximum number of compartment idxs = 1024.\n",
    "    for i in range(0, len(in_compartment_idxs), 4):\n",
    "      c_idx = in_compartment_idxs[i]\n",
    "      # Set a leaf node/compartment.\n",
    "      nxsdk_core.cxCfg[c_idx].configure(cxProfile=0, vthProfile=0)\n",
    "      # Set two intermediate nodes/compartments.\n",
    "      nxsdk_core.cxCfg[c_idx+1].configure(cxProfile=1, vthProfile=0)\n",
    "      nxsdk_core.cxCfg[c_idx+2].configure(cxProfile=1, vthProfile=0)\n",
    "      # Set a root node/compartment to output spikes corresponding to MAX input.\n",
    "      nxsdk_core.cxCfg[c_idx+3].configure(cxProfile=2, vthProfile=0)"
   ]
  },
  {
   "cell_type": "markdown",
   "id": "2483f800-7fd1-476a-8c70-263f493f6ae0",
   "metadata": {},
   "source": [
    "# AVAM Net Creation"
   ]
  },
  {
   "cell_type": "code",
   "execution_count": 3,
   "id": "d7ca9680-f55a-48b0-9d3a-1653ffd2928e",
   "metadata": {},
   "outputs": [],
   "source": [
    "def get_loihi_adapted_avam_net_for_2x2_max_pooling(\n",
    "    seed=0, max_rate=500, radius=0.5, do_max=True, synapse=None):\n",
    "  \"\"\"\n",
    "  Returns a Loihi adapted network for absolute value based associative max pooling.\n",
    "\n",
    "  Args:\n",
    "    seed <int>: Any arbitrary seed value.\n",
    "    max_rate <int>: Max Firing rate of the neurons.\n",
    "    radius <int>: Value at which Maximum Firing rate occurs (\n",
    "                  i.e. the representational radius)\n",
    "    do_max <bool>: Do MaxPooling if True else do AvgPooling.\n",
    "    synapse <float>: Synapic time constant.\n",
    "  \"\"\"\n",
    "  with nengo.Network(seed=seed) as net:\n",
    "    net.inputs = nengo.Node(size_in=4) # 4 dimensional input for 2x2 MaxPooling.\n",
    "\n",
    "    def _get_ensemble():\n",
    "      ens =  nengo.Ensemble(\n",
    "          n_neurons=2, dimensions=1, encoders=[[1], [-1]], intercepts=[0, 0],\n",
    "          max_rates=[max_rate, max_rate], radius=radius,\n",
    "          neuron_type=nengo_loihi.neurons.LoihiSpikingRectifiedLinear())\n",
    "      return ens\n",
    "\n",
    "    ens_12 = _get_ensemble() # Ensemble for max(a, b).\n",
    "    ens_34 = _get_ensemble() # Ensemble for max(c, d).\n",
    "    ens_1234 = _get_ensemble() # Ensemble for max(max(a, b), max(c, d)).\n",
    "\n",
    "    # Intermediate passthrough nodes for summing and outputting the result.\n",
    "    node_12 = nengo.Node(size_in=1) # For max(a, b).\n",
    "    node_34 = nengo.Node(size_in=1) # For max(c, d).\n",
    "    net.otp_node = nengo.Node(size_in=1) # For max(max(a, b), max(c, d)).\n",
    "    \n",
    "    ############################################################################\n",
    "    # Calculate max(a, b) = (a+b)/2 + |a-b|/2.\n",
    "    # Calculate (a+b)/2.\n",
    "    nengo.Connection(net.inputs[0], node_12, synapse=None, transform=1/2)\n",
    "    nengo.Connection(net.inputs[1], node_12, synapse=None, transform=1/2)\n",
    "    \n",
    "    if do_max:\n",
    "      # Calculate |a-b|/2.\n",
    "      nengo.Connection(net.inputs[0], ens_12, synapse=None, transform=1/2)\n",
    "      nengo.Connection(net.inputs[1], ens_12, synapse=None, transform=-1/2)\n",
    "      nengo.Connection(\n",
    "          ens_12.neurons[0], node_12, synapse=synapse, transform=radius/max_rate)\n",
    "      nengo.Connection(\n",
    "          ens_12.neurons[1], node_12, synapse=synapse, transform=radius/max_rate)\n",
    "    ############################################################################\n",
    "\n",
    "    ############################################################################\n",
    "    # Calculate max(c, d) = (c+d)/2 + |c-d|/2.\n",
    "    # Calculate (c+d)/2.\n",
    "    nengo.Connection(net.inputs[2], node_34, synapse=None, transform=1/2)\n",
    "    nengo.Connection(net.inputs[3], node_34, synapse=None, transform=1/2)\n",
    "\n",
    "    if do_max:\n",
    "      # Calculate |c-d|/2.\n",
    "      nengo.Connection(net.inputs[2], ens_34, synapse=None, transform=1/2)\n",
    "      nengo.Connection(net.inputs[3], ens_34, synapse=None, transform=-1/2)\n",
    "      nengo.Connection(\n",
    "          ens_34.neurons[0], node_34, synapse=synapse, transform=radius/max_rate)\n",
    "      nengo.Connection(\n",
    "          ens_34.neurons[1], node_34, synapse=synapse, transform=radius/max_rate)\n",
    "    ############################################################################\n",
    "\n",
    "    ############################################################################\n",
    "    # Calculate max(a, b, c, d) = max(max(a, b), max(c, d)).\n",
    "    # Calculate (node_12 + node_34)/2.\n",
    "    nengo.Connection(node_12, net.otp_node, synapse=synapse, transform=1/2)\n",
    "    nengo.Connection(node_34, net.otp_node, synapse=synapse, transform=1/2)\n",
    "\n",
    "    if do_max:\n",
    "      # Calculate |node_12 - node_34|/2.\n",
    "      nengo.Connection(node_12, ens_1234, synapse=synapse, transform=1/2)\n",
    "      nengo.Connection(node_34, ens_1234, synapse=synapse, transform=-1/2)\n",
    "      nengo.Connection(ens_1234.neurons[0], net.otp_node, synapse=synapse,\n",
    "                       transform=radius/max_rate)\n",
    "      nengo.Connection(ens_1234.neurons[1], net.otp_node, synapse=synapse,\n",
    "                       transform=radius/max_rate)\n",
    "    ############################################################################\n",
    "  return net"
   ]
  },
  {
   "cell_type": "markdown",
   "id": "e7954571-2957-4213-a076-020c2d54903b",
   "metadata": {},
   "source": [
    "# Common Settings"
   ]
  },
  {
   "cell_type": "code",
   "execution_count": 4,
   "id": "8f1b5d54-f899-4e4f-8f82-fce3c87ef913",
   "metadata": {},
   "outputs": [],
   "source": [
    "P1, P2, P3, P4 = 10, 8, 4, 6 # Firing Time Periods i.e. ISI\n",
    "FONTSIZE=16"
   ]
  },
  {
   "cell_type": "markdown",
   "id": "f4fad780-a582-4962-8dc7-05d002ea6d8f",
   "metadata": {},
   "source": [
    "# XXXXXXXXXXXXXXXXXXXXXXXXXXXXXXXXXXXXXXXXXXXXXXXXXX"
   ]
  },
  {
   "cell_type": "markdown",
   "id": "9c67c14f-b53e-4802-a9bc-0856437399f3",
   "metadata": {},
   "source": [
    "# MJOP Net Proof Of Concept"
   ]
  },
  {
   "cell_type": "code",
   "execution_count": 5,
   "id": "9858ccc5-d416-4e03-9b41-57598564af1c",
   "metadata": {},
   "outputs": [],
   "source": [
    "def get_net_for_mjop(scale):\n",
    "  with nengo.Network() as net:\n",
    "    net.ens = nengo.Ensemble(n_neurons=4, dimensions=1, gain=1000*np.ones(4), \n",
    "                             bias=np.zeros(4), seed=0,\n",
    "                             neuron_type= \\\n",
    "                             nengo_loihi.neurons.LoihiSpikingRectifiedLinear(\n",
    "                                  amplitude=scale/1000,\n",
    "                                  initial_state={\"voltage\": np.zeros(4)}))\n",
    "    inpt = nengo.Node(output = lambda t: [1.0 if int(t*1000)%P1 == 0 else 0,\n",
    "                                        1.0 if int(t*1000)%P2 == 0 else 0,\n",
    "                                        1.0 if int(t*1000)%P3 == 0 else 0,\n",
    "                                        1.0 if int(t*1000)%P4 == 0 else 0])\n",
    "  \n",
    "    # In the connection below, you can choose either to synapse or not synapse.\n",
    "    # Accordingly you might need to adjust the `scale` value.\n",
    "    nengo.Connection(inpt, net.ens.neurons, synapse=None)\n",
    "    # Probe soma which is at index 3.\n",
    "    neuron_probe = nengo.Probe(net.ens.neurons[3], synapse=0.01) \n",
    "\n",
    "  return net, neuron_probe"
   ]
  },
  {
   "cell_type": "markdown",
   "id": "06c82904-755e-4e7d-a2de-0e5c097161a9",
   "metadata": {},
   "source": [
    "## Configure and run MJOP Net with $scale=1.0$"
   ]
  },
  {
   "cell_type": "code",
   "execution_count": 6,
   "id": "29757055-f336-4681-a631-9d3dcbda2bf6",
   "metadata": {},
   "outputs": [
    {
     "name": "stdout",
     "output_type": "stream",
     "text": [
      "\u001b[1;30mINFO\u001b[0m:\u001b[34mDRV\u001b[0m:  SLURM is being run in background\n",
      "\u001b[1;30mINFO\u001b[0m:\u001b[34mDRV\u001b[0m:  Connecting to 10.212.98.106:42657\n",
      "\u001b[1;30mINFO\u001b[0m:\u001b[34mDRV\u001b[0m:      Host server up..............Done 0.16s\n",
      "\u001b[1;30mINFO\u001b[0m:\u001b[34mDRV\u001b[0m:      Encoding axons/synapses.....Done 0.97ms\n",
      "\u001b[1;30mINFO\u001b[0m:\u001b[34mDRV\u001b[0m:      Compiling Embedded snips....Done 0.14s\n",
      "\u001b[1;30mINFO\u001b[0m:\u001b[34mDRV\u001b[0m:      Compiling MPDS Registers....Done 0.38ms\n",
      "\u001b[1;30mINFO\u001b[0m:\u001b[34mHST\u001b[0m:  Args chip=0 cpu=0 /homes/rgaurav/nxsdk_1_nengo_loihi/lib/python3.8/site-packages/nxsdk/driver/compilers/../../../temp/1653251942.734542/launcher_chip0_lmt0.bin --chips=1 --remote-relay=1 \n",
      "\u001b[1;30mINFO\u001b[0m:\u001b[34mHST\u001b[0m:  Nx...\n",
      "\u001b[1;30mINFO\u001b[0m:\u001b[34mDRV\u001b[0m:      Booting up..................Done 0.65s\n",
      "\u001b[1;30mINFO\u001b[0m:\u001b[34mDRV\u001b[0m:      Encoding probes.............Done 0.48ms\n",
      "\u001b[1;30mINFO\u001b[0m:\u001b[34mDRV\u001b[0m:      Transferring probes.........Done 2.02ms\n",
      "\u001b[1;30mINFO\u001b[0m:\u001b[34mDRV\u001b[0m:      Configuring registers.......Done 2.43ms\n",
      "\u001b[1;30mINFO\u001b[0m:\u001b[34mDRV\u001b[0m:      Transferring spikes.........Done 4.65ms\n",
      "\u001b[1;30mINFO\u001b[0m:\u001b[34mDRV\u001b[0m:      Executing...................Done 9.10ms\n",
      "\u001b[1;30mINFO\u001b[0m:\u001b[34mDRV\u001b[0m:      Processing timeseries.......Done 1.28ms\n",
      "\u001b[1;30mINFO\u001b[0m:\u001b[34mDRV\u001b[0m:  Executor: 100 timesteps.........Done 0.02s\n",
      "\u001b[1;30mINFO\u001b[0m:\u001b[34mHST\u001b[0m:  chip=0 cpu=0 halted, status=0x0\n"
     ]
    }
   ],
   "source": [
    "net1, net1_probe = get_net_for_mjop(scale=1.0)\n",
    "with nengo_loihi.Simulator(net1) as loihi_sim1:\n",
    "  configure_ensemble_for_2x2_max_join_op(loihi_sim1, net1.ens)\n",
    "  loihi_sim1.run(0.1)"
   ]
  },
  {
   "cell_type": "markdown",
   "id": "486b7261-2a0e-455e-97fb-64f483ab9d91",
   "metadata": {
    "tags": []
   },
   "source": [
    "## Configure and run MJOP Net with $scale=1.1$"
   ]
  },
  {
   "cell_type": "code",
   "execution_count": 7,
   "id": "e8f6f880-df85-4745-9bf2-f1d3e709584f",
   "metadata": {},
   "outputs": [
    {
     "name": "stdout",
     "output_type": "stream",
     "text": [
      "\u001b[1;30mINFO\u001b[0m:\u001b[34mDRV\u001b[0m:  SLURM is being run in background\n",
      "\u001b[1;30mINFO\u001b[0m:\u001b[34mDRV\u001b[0m:  Connecting to 10.212.98.106:45853\n",
      "\u001b[1;30mINFO\u001b[0m:\u001b[34mDRV\u001b[0m:      Host server up..............Done 0.14s\n",
      "\u001b[1;30mINFO\u001b[0m:\u001b[34mDRV\u001b[0m:      Encoding axons/synapses.....Done 1.07ms\n",
      "\u001b[1;30mINFO\u001b[0m:\u001b[34mDRV\u001b[0m:      Compiling Embedded snips....Done 0.14s\n",
      "\u001b[1;30mINFO\u001b[0m:\u001b[34mDRV\u001b[0m:      Compiling MPDS Registers....Done 0.41ms\n",
      "\u001b[1;30mINFO\u001b[0m:\u001b[34mHST\u001b[0m:  Args chip=0 cpu=0 /homes/rgaurav/nxsdk_1_nengo_loihi/lib/python3.8/site-packages/nxsdk/driver/compilers/../../../temp/1653251943.7730558/launcher_chip0_lmt0.bin --chips=1 --remote-relay=1 \n",
      "\u001b[1;30mINFO\u001b[0m:\u001b[34mHST\u001b[0m:  Nx...\n",
      "\u001b[1;30mINFO\u001b[0m:\u001b[34mDRV\u001b[0m:      Booting up..................Done 0.65s\n",
      "\u001b[1;30mINFO\u001b[0m:\u001b[34mDRV\u001b[0m:      Encoding probes.............Done 0.52ms\n",
      "\u001b[1;30mINFO\u001b[0m:\u001b[34mDRV\u001b[0m:      Transferring probes.........Done 2.38ms\n",
      "\u001b[1;30mINFO\u001b[0m:\u001b[34mDRV\u001b[0m:      Configuring registers.......Done 2.64ms\n",
      "\u001b[1;30mINFO\u001b[0m:\u001b[34mDRV\u001b[0m:      Transferring spikes.........Done 6.27ms\n",
      "\u001b[1;30mINFO\u001b[0m:\u001b[34mDRV\u001b[0m:      Executing...................Done 9.04ms\n",
      "\u001b[1;30mINFO\u001b[0m:\u001b[34mDRV\u001b[0m:      Processing timeseries.......Done 1.69ms\n",
      "\u001b[1;30mINFO\u001b[0m:\u001b[34mDRV\u001b[0m:  Executor: 100 timesteps.........Done 0.03s\n",
      "\u001b[1;30mINFO\u001b[0m:\u001b[34mHST\u001b[0m:  chip=0 cpu=0 halted, status=0x0\n"
     ]
    }
   ],
   "source": [
    "net2, net2_probe = get_net_for_mjop(scale=1.1)\n",
    "with nengo_loihi.Simulator(net2) as loihi_sim2:\n",
    "  configure_ensemble_for_2x2_max_join_op(loihi_sim2, net2.ens)\n",
    "  loihi_sim2.run(0.1)"
   ]
  },
  {
   "cell_type": "markdown",
   "id": "1c29bb01-8b14-43c3-a862-c6893c52c17f",
   "metadata": {},
   "source": [
    "## Compute True_Max $U$"
   ]
  },
  {
   "cell_type": "code",
   "execution_count": 8,
   "id": "a3c22356-a838-4f7a-93f1-d4c8a1278022",
   "metadata": {},
   "outputs": [],
   "source": [
    "with nengo.Network() as net_max:\n",
    "  inpt_max = nengo.Node(output = lambda t: [1.0 if int(t*1000)%P1 == 0 else 0,\n",
    "                                        1.0 if int(t*1000)%P2 == 0 else 0,\n",
    "                                        1.0 if int(t*1000)%P3 == 0 else 0,\n",
    "                                        1.0 if int(t*1000)%P4 == 0 else 0])\n",
    "  # Compute the max(U_1, U_2, U_3, U_4)\n",
    "  otpt_max = nengo.Node(output=lambda t, x: max(x), size_in=4) \n",
    "  nengo.Connection(inpt_max, otpt_max, synapse=0.01)\n",
    "  otpt_probe_max = nengo.Probe(otpt_max, synapse=None)"
   ]
  },
  {
   "cell_type": "code",
   "execution_count": 9,
   "id": "2a129cd4-b522-4ffb-be08-47efb8bd78bf",
   "metadata": {},
   "outputs": [
    {
     "data": {
      "application/vdom.v1+json": {
       "attributes": {},
       "tagName": "div"
      },
      "text/html": [
       "\n",
       "                <script>\n",
       "                    if (Jupyter.version.split(\".\")[0] < 5) {\n",
       "                        var pb = document.getElementById(\"331a885d-9c4c-44b5-831d-e9ec594d4792\");\n",
       "                        var text = document.createTextNode(\n",
       "                            \"HMTL progress bar requires Jupyter Notebook >= \" +\n",
       "                            \"5.0 or Jupyter Lab. Alternatively, you can use \" +\n",
       "                            \"TerminalProgressBar().\");\n",
       "                        pb.parentNode.insertBefore(text, pb);\n",
       "                    }\n",
       "                </script>\n",
       "                <div id=\"331a885d-9c4c-44b5-831d-e9ec594d4792\" style=\"\n",
       "                    width: 100%;\n",
       "                    border: 1px solid #cfcfcf;\n",
       "                    border-radius: 4px;\n",
       "                    text-align: center;\n",
       "                    position: relative;\">\n",
       "                  <div class=\"pb-text\" style=\"\n",
       "                      position: absolute;\n",
       "                      width: 100%;\">\n",
       "                    0%\n",
       "                  </div>\n",
       "                  <div class=\"pb-fill\" style=\"\n",
       "                      background-color: #bdd2e6;\n",
       "                      width: 0%;\">\n",
       "                    <style type=\"text/css\" scoped=\"scoped\">\n",
       "                        @keyframes pb-fill-anim {\n",
       "                            0% { background-position: 0 0; }\n",
       "                            100% { background-position: 100px 0; }\n",
       "                        }\n",
       "                    </style>\n",
       "                    &nbsp;\n",
       "                  </div>\n",
       "                </div>"
      ],
      "text/plain": [
       "HtmlProgressBar cannot be displayed. Please use the TerminalProgressBar. It can be enabled with `nengo.rc['progress']['progress_bar'] = 'nengo.utils.progress.TerminalProgressBar'`."
      ]
     },
     "metadata": {},
     "output_type": "display_data"
    },
    {
     "data": {
      "application/vdom.v1+json": {
       "attributes": {
        "id": "65bde6ad-a2b9-480b-8ea9-a32ff48c15c5",
        "style": {
         "border": "1px solid #cfcfcf",
         "borderRadius": "4px",
         "boxSizing": "border-box",
         "position": "relative",
         "textAlign": "center",
         "width": "100%"
        }
       },
       "children": [
        {
         "attributes": {
          "class": "pb-text",
          "style": {
           "position": "absolute",
           "width": "100%"
          }
         },
         "children": [
          "Build finished in 0:00:01."
         ],
         "tagName": "div"
        },
        {
         "attributes": {
          "class": "pb-fill",
          "style": {
           "animation": "none",
           "backgroundColor": "#bdd2e6",
           "backgroundImage": "none",
           "backgroundSize": "100px 100%",
           "width": "100%"
          }
         },
         "children": [
          {
           "attributes": {
            "scoped": "scoped",
            "type": "text/css"
           },
           "children": [
            "\n                        @keyframes pb-fill-anim {\n                            0% { background-position: 0 0; }\n                            100% { background-position: 100px 0; }\n                        }}"
           ],
           "tagName": "style"
          },
          " "
         ],
         "tagName": "div"
        }
       ],
       "tagName": "div"
      },
      "text/html": [
       "<script>\n",
       "              (function () {\n",
       "                  var root = document.getElementById('331a885d-9c4c-44b5-831d-e9ec594d4792');\n",
       "                  var text = root.getElementsByClassName('pb-text')[0];\n",
       "                  var fill = root.getElementsByClassName('pb-fill')[0];\n",
       "\n",
       "                  text.innerHTML = 'Build finished in 0:00:01.';\n",
       "                  \n",
       "            fill.style.width = '100%';\n",
       "            fill.style.animation = 'pb-fill-anim 2s linear infinite';\n",
       "            fill.style.backgroundSize = '100px 100%';\n",
       "            fill.style.backgroundImage = 'repeating-linear-gradient(' +\n",
       "                '90deg, #bdd2e6, #edf2f8 40%, #bdd2e6 80%, #bdd2e6)';\n",
       "        \n",
       "                  \n",
       "                fill.style.animation = 'none';\n",
       "                fill.style.backgroundImage = 'none';\n",
       "            \n",
       "              })();\n",
       "        </script>"
      ]
     },
     "metadata": {},
     "output_type": "display_data"
    },
    {
     "data": {
      "application/vdom.v1+json": {
       "attributes": {},
       "tagName": "div"
      },
      "text/html": [
       "\n",
       "                <script>\n",
       "                    if (Jupyter.version.split(\".\")[0] < 5) {\n",
       "                        var pb = document.getElementById(\"5353afba-eae0-45c7-bab0-f0de316b08ce\");\n",
       "                        var text = document.createTextNode(\n",
       "                            \"HMTL progress bar requires Jupyter Notebook >= \" +\n",
       "                            \"5.0 or Jupyter Lab. Alternatively, you can use \" +\n",
       "                            \"TerminalProgressBar().\");\n",
       "                        pb.parentNode.insertBefore(text, pb);\n",
       "                    }\n",
       "                </script>\n",
       "                <div id=\"5353afba-eae0-45c7-bab0-f0de316b08ce\" style=\"\n",
       "                    width: 100%;\n",
       "                    border: 1px solid #cfcfcf;\n",
       "                    border-radius: 4px;\n",
       "                    text-align: center;\n",
       "                    position: relative;\">\n",
       "                  <div class=\"pb-text\" style=\"\n",
       "                      position: absolute;\n",
       "                      width: 100%;\">\n",
       "                    0%\n",
       "                  </div>\n",
       "                  <div class=\"pb-fill\" style=\"\n",
       "                      background-color: #bdd2e6;\n",
       "                      width: 0%;\">\n",
       "                    <style type=\"text/css\" scoped=\"scoped\">\n",
       "                        @keyframes pb-fill-anim {\n",
       "                            0% { background-position: 0 0; }\n",
       "                            100% { background-position: 100px 0; }\n",
       "                        }\n",
       "                    </style>\n",
       "                    &nbsp;\n",
       "                  </div>\n",
       "                </div>"
      ],
      "text/plain": [
       "HtmlProgressBar cannot be displayed. Please use the TerminalProgressBar. It can be enabled with `nengo.rc['progress']['progress_bar'] = 'nengo.utils.progress.TerminalProgressBar'`."
      ]
     },
     "metadata": {},
     "output_type": "display_data"
    },
    {
     "data": {
      "application/vdom.v1+json": {
       "attributes": {
        "id": "655b6727-d708-445f-a33f-c6dc89198b2a",
        "style": {
         "border": "1px solid #cfcfcf",
         "borderRadius": "4px",
         "boxSizing": "border-box",
         "position": "relative",
         "textAlign": "center",
         "width": "100%"
        }
       },
       "children": [
        {
         "attributes": {
          "class": "pb-text",
          "style": {
           "position": "absolute",
           "width": "100%"
          }
         },
         "children": [
          "Simulation finished in 0:00:01."
         ],
         "tagName": "div"
        },
        {
         "attributes": {
          "class": "pb-fill",
          "style": {
           "animation": "none",
           "backgroundColor": "#bdd2e6",
           "backgroundImage": "none",
           "transition": "width 0.1s linear",
           "width": "100%"
          }
         },
         "children": [
          {
           "attributes": {
            "scoped": "scoped",
            "type": "text/css"
           },
           "children": [
            "\n                        @keyframes pb-fill-anim {\n                            0% { background-position: 0 0; }\n                            100% { background-position: 100px 0; }\n                        }}"
           ],
           "tagName": "style"
          },
          " "
         ],
         "tagName": "div"
        }
       ],
       "tagName": "div"
      },
      "text/html": [
       "<script>\n",
       "              (function () {\n",
       "                  var root = document.getElementById('5353afba-eae0-45c7-bab0-f0de316b08ce');\n",
       "                  var text = root.getElementsByClassName('pb-text')[0];\n",
       "                  var fill = root.getElementsByClassName('pb-fill')[0];\n",
       "\n",
       "                  text.innerHTML = 'Simulation finished in 0:00:01.';\n",
       "                  \n",
       "            if (100.0 > 0.) {\n",
       "                fill.style.transition = 'width 0.1s linear';\n",
       "            } else {\n",
       "                fill.style.transition = 'none';\n",
       "            }\n",
       "\n",
       "            fill.style.width = '100.0%';\n",
       "            fill.style.animation = 'none';\n",
       "            fill.style.backgroundImage = 'none'\n",
       "        \n",
       "                  \n",
       "                fill.style.animation = 'none';\n",
       "                fill.style.backgroundImage = 'none';\n",
       "            \n",
       "              })();\n",
       "        </script>"
      ]
     },
     "metadata": {},
     "output_type": "display_data"
    }
   ],
   "source": [
    "with nengo.Simulator(net_max) as ngo_sim_max:\n",
    "  ngo_sim_max.run(0.1)"
   ]
  },
  {
   "cell_type": "markdown",
   "id": "9cc51229-3100-4c4f-9c92-2b62def9815c",
   "metadata": {},
   "source": [
    "## Compute Average $U$"
   ]
  },
  {
   "cell_type": "code",
   "execution_count": 10,
   "id": "07573734-c94e-4320-b2fe-b5b6b2390865",
   "metadata": {},
   "outputs": [],
   "source": [
    "with nengo.Network() as net_avg:\n",
    "  inpt_avg = nengo.Node(output = lambda t: [1.0 if int(t*1000)%P1 == 0 else 0,\n",
    "                                        1.0 if int(t*1000)%P2 == 0 else 0,\n",
    "                                        1.0 if int(t*1000)%P3 == 0 else 0,\n",
    "                                        1.0 if int(t*1000)%P4 == 0 else 0])\n",
    "  # Compute the mean(U_1, U_2, U_3, U_4)\n",
    "  otpt_avg = nengo.Node(output=lambda t, x: np.mean(x), size_in=4) \n",
    "  nengo.Connection(inpt_avg, otpt_avg, synapse=0.01)\n",
    "  otpt_probe_avg = nengo.Probe(otpt_avg, synapse=None)"
   ]
  },
  {
   "cell_type": "code",
   "execution_count": 11,
   "id": "29de82e1-e3f3-446d-a946-b0d35de0d880",
   "metadata": {},
   "outputs": [
    {
     "data": {
      "application/vdom.v1+json": {
       "attributes": {},
       "tagName": "div"
      },
      "text/html": [
       "\n",
       "                <script>\n",
       "                    if (Jupyter.version.split(\".\")[0] < 5) {\n",
       "                        var pb = document.getElementById(\"3446511d-072b-4f2b-8f45-2d2eca759e31\");\n",
       "                        var text = document.createTextNode(\n",
       "                            \"HMTL progress bar requires Jupyter Notebook >= \" +\n",
       "                            \"5.0 or Jupyter Lab. Alternatively, you can use \" +\n",
       "                            \"TerminalProgressBar().\");\n",
       "                        pb.parentNode.insertBefore(text, pb);\n",
       "                    }\n",
       "                </script>\n",
       "                <div id=\"3446511d-072b-4f2b-8f45-2d2eca759e31\" style=\"\n",
       "                    width: 100%;\n",
       "                    border: 1px solid #cfcfcf;\n",
       "                    border-radius: 4px;\n",
       "                    text-align: center;\n",
       "                    position: relative;\">\n",
       "                  <div class=\"pb-text\" style=\"\n",
       "                      position: absolute;\n",
       "                      width: 100%;\">\n",
       "                    0%\n",
       "                  </div>\n",
       "                  <div class=\"pb-fill\" style=\"\n",
       "                      background-color: #bdd2e6;\n",
       "                      width: 0%;\">\n",
       "                    <style type=\"text/css\" scoped=\"scoped\">\n",
       "                        @keyframes pb-fill-anim {\n",
       "                            0% { background-position: 0 0; }\n",
       "                            100% { background-position: 100px 0; }\n",
       "                        }\n",
       "                    </style>\n",
       "                    &nbsp;\n",
       "                  </div>\n",
       "                </div>"
      ],
      "text/plain": [
       "HtmlProgressBar cannot be displayed. Please use the TerminalProgressBar. It can be enabled with `nengo.rc['progress']['progress_bar'] = 'nengo.utils.progress.TerminalProgressBar'`."
      ]
     },
     "metadata": {},
     "output_type": "display_data"
    },
    {
     "data": {
      "application/vdom.v1+json": {
       "attributes": {
        "id": "cac32416-4cb8-4a46-88f1-2c5b6fa3514c",
        "style": {
         "border": "1px solid #cfcfcf",
         "borderRadius": "4px",
         "boxSizing": "border-box",
         "position": "relative",
         "textAlign": "center",
         "width": "100%"
        }
       },
       "children": [
        {
         "attributes": {
          "class": "pb-text",
          "style": {
           "position": "absolute",
           "width": "100%"
          }
         },
         "children": [
          "Build finished in 0:00:01."
         ],
         "tagName": "div"
        },
        {
         "attributes": {
          "class": "pb-fill",
          "style": {
           "animation": "none",
           "backgroundColor": "#bdd2e6",
           "backgroundImage": "none",
           "backgroundSize": "100px 100%",
           "width": "100%"
          }
         },
         "children": [
          {
           "attributes": {
            "scoped": "scoped",
            "type": "text/css"
           },
           "children": [
            "\n                        @keyframes pb-fill-anim {\n                            0% { background-position: 0 0; }\n                            100% { background-position: 100px 0; }\n                        }}"
           ],
           "tagName": "style"
          },
          " "
         ],
         "tagName": "div"
        }
       ],
       "tagName": "div"
      },
      "text/html": [
       "<script>\n",
       "              (function () {\n",
       "                  var root = document.getElementById('3446511d-072b-4f2b-8f45-2d2eca759e31');\n",
       "                  var text = root.getElementsByClassName('pb-text')[0];\n",
       "                  var fill = root.getElementsByClassName('pb-fill')[0];\n",
       "\n",
       "                  text.innerHTML = 'Build finished in 0:00:01.';\n",
       "                  \n",
       "            fill.style.width = '100%';\n",
       "            fill.style.animation = 'pb-fill-anim 2s linear infinite';\n",
       "            fill.style.backgroundSize = '100px 100%';\n",
       "            fill.style.backgroundImage = 'repeating-linear-gradient(' +\n",
       "                '90deg, #bdd2e6, #edf2f8 40%, #bdd2e6 80%, #bdd2e6)';\n",
       "        \n",
       "                  \n",
       "                fill.style.animation = 'none';\n",
       "                fill.style.backgroundImage = 'none';\n",
       "            \n",
       "              })();\n",
       "        </script>"
      ]
     },
     "metadata": {},
     "output_type": "display_data"
    },
    {
     "data": {
      "application/vdom.v1+json": {
       "attributes": {},
       "tagName": "div"
      },
      "text/html": [
       "\n",
       "                <script>\n",
       "                    if (Jupyter.version.split(\".\")[0] < 5) {\n",
       "                        var pb = document.getElementById(\"1a7af1d1-f03c-401a-9c9d-b3955ffcbc56\");\n",
       "                        var text = document.createTextNode(\n",
       "                            \"HMTL progress bar requires Jupyter Notebook >= \" +\n",
       "                            \"5.0 or Jupyter Lab. Alternatively, you can use \" +\n",
       "                            \"TerminalProgressBar().\");\n",
       "                        pb.parentNode.insertBefore(text, pb);\n",
       "                    }\n",
       "                </script>\n",
       "                <div id=\"1a7af1d1-f03c-401a-9c9d-b3955ffcbc56\" style=\"\n",
       "                    width: 100%;\n",
       "                    border: 1px solid #cfcfcf;\n",
       "                    border-radius: 4px;\n",
       "                    text-align: center;\n",
       "                    position: relative;\">\n",
       "                  <div class=\"pb-text\" style=\"\n",
       "                      position: absolute;\n",
       "                      width: 100%;\">\n",
       "                    0%\n",
       "                  </div>\n",
       "                  <div class=\"pb-fill\" style=\"\n",
       "                      background-color: #bdd2e6;\n",
       "                      width: 0%;\">\n",
       "                    <style type=\"text/css\" scoped=\"scoped\">\n",
       "                        @keyframes pb-fill-anim {\n",
       "                            0% { background-position: 0 0; }\n",
       "                            100% { background-position: 100px 0; }\n",
       "                        }\n",
       "                    </style>\n",
       "                    &nbsp;\n",
       "                  </div>\n",
       "                </div>"
      ],
      "text/plain": [
       "HtmlProgressBar cannot be displayed. Please use the TerminalProgressBar. It can be enabled with `nengo.rc['progress']['progress_bar'] = 'nengo.utils.progress.TerminalProgressBar'`."
      ]
     },
     "metadata": {},
     "output_type": "display_data"
    },
    {
     "data": {
      "application/vdom.v1+json": {
       "attributes": {
        "id": "199e9287-1706-43c4-9cc9-0a8424318ef3",
        "style": {
         "border": "1px solid #cfcfcf",
         "borderRadius": "4px",
         "boxSizing": "border-box",
         "position": "relative",
         "textAlign": "center",
         "width": "100%"
        }
       },
       "children": [
        {
         "attributes": {
          "class": "pb-text",
          "style": {
           "position": "absolute",
           "width": "100%"
          }
         },
         "children": [
          "Simulation finished in 0:00:01."
         ],
         "tagName": "div"
        },
        {
         "attributes": {
          "class": "pb-fill",
          "style": {
           "animation": "none",
           "backgroundColor": "#bdd2e6",
           "backgroundImage": "none",
           "transition": "width 0.1s linear",
           "width": "100%"
          }
         },
         "children": [
          {
           "attributes": {
            "scoped": "scoped",
            "type": "text/css"
           },
           "children": [
            "\n                        @keyframes pb-fill-anim {\n                            0% { background-position: 0 0; }\n                            100% { background-position: 100px 0; }\n                        }}"
           ],
           "tagName": "style"
          },
          " "
         ],
         "tagName": "div"
        }
       ],
       "tagName": "div"
      },
      "text/html": [
       "<script>\n",
       "              (function () {\n",
       "                  var root = document.getElementById('1a7af1d1-f03c-401a-9c9d-b3955ffcbc56');\n",
       "                  var text = root.getElementsByClassName('pb-text')[0];\n",
       "                  var fill = root.getElementsByClassName('pb-fill')[0];\n",
       "\n",
       "                  text.innerHTML = 'Simulation finished in 0:00:01.';\n",
       "                  \n",
       "            if (100.0 > 0.) {\n",
       "                fill.style.transition = 'width 0.1s linear';\n",
       "            } else {\n",
       "                fill.style.transition = 'none';\n",
       "            }\n",
       "\n",
       "            fill.style.width = '100.0%';\n",
       "            fill.style.animation = 'none';\n",
       "            fill.style.backgroundImage = 'none'\n",
       "        \n",
       "                  \n",
       "                fill.style.animation = 'none';\n",
       "                fill.style.backgroundImage = 'none';\n",
       "            \n",
       "              })();\n",
       "        </script>"
      ]
     },
     "metadata": {},
     "output_type": "display_data"
    }
   ],
   "source": [
    "with nengo.Simulator(net_avg) as ngo_sim_avg:\n",
    "  ngo_sim_avg.run(0.1)"
   ]
  },
  {
   "cell_type": "markdown",
   "id": "e1877aaa-a649-4b32-b835-106815fc0911",
   "metadata": {},
   "source": [
    "## Plot the results"
   ]
  },
  {
   "cell_type": "code",
   "execution_count": 12,
   "id": "c6ed4578-aca9-4dca-a1a3-029236fd5304",
   "metadata": {},
   "outputs": [
    {
     "data": {
      "image/png": "[encoded data removed]",
      "text/plain": [
       "<Figure size 432x288 with 1 Axes>"
      ]
     },
     "metadata": {},
     "output_type": "display_data"
    }
   ],
   "source": [
    "plt.figure(facecolor=\"#00FFFF\")\n",
    "plt.plot(loihi_sim1.data[net1_probe], label=\"MJOP Net $U_{out}$\")\n",
    "plt.plot(ngo_sim_max.data[otpt_probe_max], label=\"True Max $U$\")\n",
    "plt.plot(ngo_sim_avg.data[otpt_probe_avg], label=\"Average $U$\")\n",
    "plt.plot(loihi_sim2.data[net2_probe], label=\"Scaled $U_{out}$\")\n",
    "plt.xlabel(\"Timesteps\", fontsize=FONTSIZE)\n",
    "plt.ylabel(\"$U$ Value\", fontsize=FONTSIZE)\n",
    "plt.xticks(fontsize=FONTSIZE)\n",
    "plt.yticks(fontsize=FONTSIZE)\n",
    "plt.legend(framealpha=0.325, fontsize=FONTSIZE)\n",
    "plt.savefig(\"max_jop_poc\", dpi=450, bbox_inches = \"tight\")"
   ]
  },
  {
   "cell_type": "markdown",
   "id": "0627b667-adb3-4dbe-bf4b-1712b3fea918",
   "metadata": {},
   "source": [
    "# XXXXXXXXXXXXXXXXXXXXXXXXXXXXXXXXXXXXXXXXXXXXXXXXXXXXXXX"
   ]
  },
  {
   "cell_type": "markdown",
   "id": "34aac674-26bd-43b5-8576-32b07029d2cc",
   "metadata": {},
   "source": [
    "# AVAM Net Proof Of Concept"
   ]
  },
  {
   "cell_type": "markdown",
   "id": "2cfc5dae-7327-4f0c-bc81-1dbd5fbb70ec",
   "metadata": {},
   "source": [
    "## Execute AVAM Net with $radius=0.25$"
   ]
  },
  {
   "cell_type": "code",
   "execution_count": 13,
   "id": "eb2636c8-c8b3-4c1b-bf4b-a5bba840b793",
   "metadata": {},
   "outputs": [
    {
     "name": "stdout",
     "output_type": "stream",
     "text": [
      "\u001b[1;30mINFO\u001b[0m:\u001b[34mDRV\u001b[0m:  SLURM is being run in background\n"
     ]
    },
    {
     "name": "stderr",
     "output_type": "stream",
     "text": [
      "/homes/rgaurav/nengo-loihi/nengo_loihi/passthrough.py:118: UserWarning: Combining two Lowpass synapses, this may change the behaviour of the network (set `remove_passthrough=False` to avoid this).\n",
      "  warnings.warn(\n",
      "/homes/rgaurav/nengo-loihi/nengo_loihi/block.py:214: UserWarning: tau_s is currently 0.005, which is smaller than 0.01. Overwriting tau_s with 0.01.\n",
      "  warnings.warn(\n",
      "/homes/rgaurav/nengo-loihi/nengo_loihi/block.py:208: UserWarning: tau_s is already set to 0.01, which is larger than 0.005. Using 0.01.\n",
      "  warnings.warn(\n"
     ]
    },
    {
     "name": "stdout",
     "output_type": "stream",
     "text": [
      "\u001b[1;30mINFO\u001b[0m:\u001b[34mDRV\u001b[0m:  Connecting to 10.212.98.106:44381\n",
      "\u001b[1;30mINFO\u001b[0m:\u001b[34mDRV\u001b[0m:      Host server up..............Done 0.15s\n",
      "\u001b[1;30mINFO\u001b[0m:\u001b[34mDRV\u001b[0m:      Encoding axons/synapses.....Done 3.42ms\n",
      "\u001b[1;30mINFO\u001b[0m:\u001b[34mDRV\u001b[0m:      Compiling Embedded snips....Done 0.19s\n",
      "\u001b[1;30mINFO\u001b[0m:\u001b[34mDRV\u001b[0m:      Compiling Host snips........Done 0.54s\n",
      "\u001b[1;30mINFO\u001b[0m:\u001b[34mDRV\u001b[0m:      Compiling MPDS Registers....Done 0.36ms\n",
      "\u001b[1;30mINFO\u001b[0m:\u001b[34mHST\u001b[0m:  Args chip=0 cpu=0 /homes/rgaurav/nxsdk_1_nengo_loihi/lib/python3.8/site-packages/nxsdk/driver/compilers/../../../temp/1653251946.098491/launcher_chip0_lmt0.bin --chips=1 --remote-relay=1 \n",
      "\u001b[1;30mINFO\u001b[0m:\u001b[34mHST\u001b[0m:  Nx...\n",
      "\u001b[1;30mINFO\u001b[0m:\u001b[34mDRV\u001b[0m:      Booting up..................Done 0.65s\n",
      "\u001b[1;30mINFO\u001b[0m:\u001b[34mDRV\u001b[0m:      Encoding probes.............Done 0.46ms\n",
      "\u001b[1;30mINFO\u001b[0m:\u001b[34mDRV\u001b[0m:      Transferring probes.........Done 2.31ms\n",
      "\u001b[1;30mINFO\u001b[0m:\u001b[34mDRV\u001b[0m:      Configuring registers.......Done 6.29ms\n",
      "\u001b[1;30mINFO\u001b[0m:\u001b[34mDRV\u001b[0m:      Transferring spikes.........Done 0.25ms\n",
      "\u001b[1;30mINFO\u001b[0m:\u001b[34mHST\u001b[0m:  [Host] Listening for client\n",
      "\u001b[1;30mINFO\u001b[0m:\u001b[34mHST\u001b[0m:  [Host] Connected to client\n",
      "\u001b[1;30mINFO\u001b[0m:\u001b[34mHST\u001b[0m:  chip=0 cpu=0 time 100\n",
      "\u001b[1;30mINFO\u001b[0m:\u001b[34mHST\u001b[0m:  chip=0 cpu=0 Waited to exit (nonsense sum -13580)\n",
      "\u001b[1;30mINFO\u001b[0m:\u001b[34mDRV\u001b[0m:      Executing...................Done 0.45s\n",
      "\u001b[1;30mINFO\u001b[0m:\u001b[34mDRV\u001b[0m:      Processing timeseries.......Done 0.28ms\n",
      "\u001b[1;30mINFO\u001b[0m:\u001b[34mHST\u001b[0m:  [Host] Received shutdown signal: -1\n",
      "\u001b[1;30mINFO\u001b[0m:\u001b[34mHST\u001b[0m:  [Host] Wrote superhost shutdown signal: 8192 bytes\n",
      "\u001b[1;30mINFO\u001b[0m:\u001b[34mHST\u001b[0m:  [Host] Closing server socket\n",
      "\u001b[1;30mINFO\u001b[0m:\u001b[34mHST\u001b[0m:  chip=0 cpu=0 halted, status=0x0\n"
     ]
    }
   ],
   "source": [
    "net4 = get_loihi_adapted_avam_net_for_2x2_max_pooling(\n",
    "    radius=0.25, max_rate=500, synapse=0.005)\n",
    "with net4:\n",
    "  inpt = nengo.Node(output = lambda t: [1.0 if int(t*1000)%P1 == 0 else 0,\n",
    "                                        1.0 if int(t*1000)%P2 == 0 else 0,\n",
    "                                        1.0 if int(t*1000)%P3 == 0 else 0,\n",
    "                                        1.0 if int(t*1000)%P4 == 0 else 0])\n",
    "  ens4 = nengo.Ensemble(\n",
    "      n_neurons=1, dimensions=1, radius=1, intercepts=[0], max_rates=[250],\n",
    "      neuron_type=nengo_loihi.neurons.LoihiSpikingRectifiedLinear(\n",
    "          amplitude=1/1000)\n",
    "      )\n",
    "  nengo.Connection(inpt, net4.inputs, synapse=0.005)\n",
    "  nengo.Connection(net4.otp_node, ens4.neurons, synapse=None)\n",
    "  # No Synpase since the input is already synapsed.\n",
    "  max_otpt_4 = nengo.Probe(net4.otp_node, synapse=None) \n",
    "\n",
    "with nengo_loihi.Simulator(net4) as loihi_sim_4:\n",
    "  loihi_sim_4.run(0.1)"
   ]
  },
  {
   "cell_type": "markdown",
   "id": "28a31ab7-4c81-4fee-a459-69b97b73be50",
   "metadata": {},
   "source": [
    "## Execute AVAM Net with $radius=0.30$"
   ]
  },
  {
   "cell_type": "code",
   "execution_count": 14,
   "id": "395b008d-a3b9-414d-abbe-0c4a6b73c254",
   "metadata": {},
   "outputs": [
    {
     "name": "stdout",
     "output_type": "stream",
     "text": [
      "\u001b[1;30mINFO\u001b[0m:\u001b[34mDRV\u001b[0m:  SLURM is being run in background\n"
     ]
    },
    {
     "name": "stderr",
     "output_type": "stream",
     "text": [
      "/homes/rgaurav/nengo-loihi/nengo_loihi/passthrough.py:118: UserWarning: Combining two Lowpass synapses, this may change the behaviour of the network (set `remove_passthrough=False` to avoid this).\n",
      "  warnings.warn(\n",
      "/homes/rgaurav/nengo-loihi/nengo_loihi/block.py:208: UserWarning: tau_s is already set to 0.01, which is larger than 0.005. Using 0.01.\n",
      "  warnings.warn(\n"
     ]
    },
    {
     "name": "stdout",
     "output_type": "stream",
     "text": [
      "\u001b[1;30mINFO\u001b[0m:\u001b[34mDRV\u001b[0m:  Connecting to 10.212.98.106:46075\n",
      "\u001b[1;30mINFO\u001b[0m:\u001b[34mDRV\u001b[0m:      Host server up..............Done 0.15s\n",
      "\u001b[1;30mINFO\u001b[0m:\u001b[34mDRV\u001b[0m:      Encoding axons/synapses.....Done 3.11ms\n",
      "\u001b[1;30mINFO\u001b[0m:\u001b[34mDRV\u001b[0m:      Compiling Embedded snips....Done 0.25s\n",
      "\u001b[1;30mINFO\u001b[0m:\u001b[34mDRV\u001b[0m:      Compiling Host snips........Done 0.52s\n",
      "\u001b[1;30mINFO\u001b[0m:\u001b[34mDRV\u001b[0m:      Compiling MPDS Registers....Done 0.58ms\n",
      "\u001b[1;30mINFO\u001b[0m:\u001b[34mHST\u001b[0m:  Args chip=0 cpu=0 /homes/rgaurav/nxsdk_1_nengo_loihi/lib/python3.8/site-packages/nxsdk/driver/compilers/../../../temp/1653251948.6433246/launcher_chip0_lmt0.bin --chips=1 --remote-relay=1 \n",
      "\u001b[1;30mINFO\u001b[0m:\u001b[34mHST\u001b[0m:  Nx...\n",
      "\u001b[1;30mINFO\u001b[0m:\u001b[34mDRV\u001b[0m:      Booting up..................Done 0.65s\n",
      "\u001b[1;30mINFO\u001b[0m:\u001b[34mDRV\u001b[0m:      Encoding probes.............Done 0.41ms\n",
      "\u001b[1;30mINFO\u001b[0m:\u001b[34mDRV\u001b[0m:      Transferring probes.........Done 2.19ms\n",
      "\u001b[1;30mINFO\u001b[0m:\u001b[34mDRV\u001b[0m:      Configuring registers.......Done 0.01s\n",
      "\u001b[1;30mINFO\u001b[0m:\u001b[34mDRV\u001b[0m:      Transferring spikes.........Done 1.10ms\n",
      "\u001b[1;30mINFO\u001b[0m:\u001b[34mHST\u001b[0m:  [Host] Listening for client\n",
      "\u001b[1;30mINFO\u001b[0m:\u001b[34mHST\u001b[0m:  [Host] Connected to client\n",
      "\u001b[1;30mINFO\u001b[0m:\u001b[34mHST\u001b[0m:  chip=0 cpu=0 time 100\n",
      "\u001b[1;30mINFO\u001b[0m:\u001b[34mHST\u001b[0m:  chip=0 cpu=0 Waited to exit (nonsense sum -13580)\n",
      "\u001b[1;30mINFO\u001b[0m:\u001b[34mDRV\u001b[0m:      Executing...................Done 0.45s\n",
      "\u001b[1;30mINFO\u001b[0m:\u001b[34mDRV\u001b[0m:      Processing timeseries.......Done 0.48ms\n",
      "\u001b[1;30mINFO\u001b[0m:\u001b[34mHST\u001b[0m:  [Host] Received shutdown signal: -1\n",
      "\u001b[1;30mINFO\u001b[0m:\u001b[34mHST\u001b[0m:  [Host] Wrote superhost shutdown signal: 8192 bytes\n",
      "\u001b[1;30mINFO\u001b[0m:\u001b[34mHST\u001b[0m:  [Host] Closing server socket\n",
      "\u001b[1;30mINFO\u001b[0m:\u001b[34mHST\u001b[0m:  chip=0 cpu=0 halted, status=0x0\n"
     ]
    }
   ],
   "source": [
    "net5 = get_loihi_adapted_avam_net_for_2x2_max_pooling(\n",
    "    radius=0.30, max_rate=500, synapse=0.005)\n",
    "with net5:\n",
    "  inpt = nengo.Node(output = lambda t: [1.0 if int(t*1000)%P1 == 0 else 0,\n",
    "                                        1.0 if int(t*1000)%P2 == 0 else 0,\n",
    "                                        1.0 if int(t*1000)%P3 == 0 else 0,\n",
    "                                        1.0 if int(t*1000)%P4 == 0 else 0])\n",
    "  ens5 = nengo.Ensemble(\n",
    "      n_neurons=1, dimensions=1, radius=1, intercepts=[0], max_rates=[250],\n",
    "      neuron_type=nengo_loihi.neurons.LoihiSpikingRectifiedLinear(\n",
    "          amplitude=1/1000)\n",
    "      )\n",
    "  nengo.Connection(inpt, net5.inputs, synapse=0.005)\n",
    "  nengo.Connection(net5.otp_node, ens5.neurons, synapse=None)\n",
    "  # No Synpase since the input is already synapsed.\n",
    "  max_otpt_5 = nengo.Probe(net5.otp_node, synapse=None) \n",
    "\n",
    "with nengo_loihi.Simulator(net5) as loihi_sim_5:\n",
    "  loihi_sim_5.run(0.1)"
   ]
  },
  {
   "cell_type": "markdown",
   "id": "8672c6da-2549-4cf1-b527-503ac121f1dc",
   "metadata": {},
   "source": [
    "## Execute AVAM Net with $radius=0.20$"
   ]
  },
  {
   "cell_type": "code",
   "execution_count": 15,
   "id": "90aae57a-c3dd-4332-8d3d-abf823ccef20",
   "metadata": {},
   "outputs": [
    {
     "name": "stdout",
     "output_type": "stream",
     "text": [
      "\u001b[1;30mINFO\u001b[0m:\u001b[34mDRV\u001b[0m:  SLURM is being run in background\n"
     ]
    },
    {
     "name": "stderr",
     "output_type": "stream",
     "text": [
      "/homes/rgaurav/nengo-loihi/nengo_loihi/passthrough.py:118: UserWarning: Combining two Lowpass synapses, this may change the behaviour of the network (set `remove_passthrough=False` to avoid this).\n",
      "  warnings.warn(\n",
      "/homes/rgaurav/nengo-loihi/nengo_loihi/block.py:208: UserWarning: tau_s is already set to 0.01, which is larger than 0.005. Using 0.01.\n",
      "  warnings.warn(\n"
     ]
    },
    {
     "name": "stdout",
     "output_type": "stream",
     "text": [
      "\u001b[1;30mINFO\u001b[0m:\u001b[34mDRV\u001b[0m:  Connecting to 10.212.98.106:44763\n",
      "\u001b[1;30mINFO\u001b[0m:\u001b[34mDRV\u001b[0m:      Host server up..............Done 0.15s\n",
      "\u001b[1;30mINFO\u001b[0m:\u001b[34mDRV\u001b[0m:      Encoding axons/synapses.....Done 3.75ms\n",
      "\u001b[1;30mINFO\u001b[0m:\u001b[34mDRV\u001b[0m:      Compiling Embedded snips....Done 0.27s\n",
      "\u001b[1;30mINFO\u001b[0m:\u001b[34mDRV\u001b[0m:      Compiling Host snips........Done 0.59s\n",
      "\u001b[1;30mINFO\u001b[0m:\u001b[34mDRV\u001b[0m:      Compiling MPDS Registers....Done 0.59ms\n",
      "\u001b[1;30mINFO\u001b[0m:\u001b[34mHST\u001b[0m:  Args chip=0 cpu=0 /homes/rgaurav/nxsdk_1_nengo_loihi/lib/python3.8/site-packages/nxsdk/driver/compilers/../../../temp/1653251951.3650353/launcher_chip0_lmt0.bin --chips=1 --remote-relay=1 \n",
      "\u001b[1;30mINFO\u001b[0m:\u001b[34mHST\u001b[0m:  Nx...\n",
      "\u001b[1;30mINFO\u001b[0m:\u001b[34mDRV\u001b[0m:      Booting up..................Done 0.65s\n",
      "\u001b[1;30mINFO\u001b[0m:\u001b[34mDRV\u001b[0m:      Encoding probes.............Done 0.38ms\n",
      "\u001b[1;30mINFO\u001b[0m:\u001b[34mDRV\u001b[0m:      Transferring probes.........Done 2.08ms\n",
      "\u001b[1;30mINFO\u001b[0m:\u001b[34mDRV\u001b[0m:      Configuring registers.......Done 0.01s\n",
      "\u001b[1;30mINFO\u001b[0m:\u001b[34mDRV\u001b[0m:      Transferring spikes.........Done 0.35ms\n",
      "\u001b[1;30mINFO\u001b[0m:\u001b[34mHST\u001b[0m:  [Host] Listening for client\n",
      "\u001b[1;30mINFO\u001b[0m:\u001b[34mHST\u001b[0m:  [Host] Connected to client\n",
      "\u001b[1;30mINFO\u001b[0m:\u001b[34mHST\u001b[0m:  chip=0 cpu=0 time 100\n",
      "\u001b[1;30mINFO\u001b[0m:\u001b[34mHST\u001b[0m:  chip=0 cpu=0 Waited to exit (nonsense sum -13580)\n",
      "\u001b[1;30mINFO\u001b[0m:\u001b[34mDRV\u001b[0m:      Executing...................Done 0.45s\n",
      "\u001b[1;30mINFO\u001b[0m:\u001b[34mDRV\u001b[0m:      Processing timeseries.......Done 1.00ms\n",
      "\u001b[1;30mINFO\u001b[0m:\u001b[34mHST\u001b[0m:  [Host] Received shutdown signal: -1\n",
      "\u001b[1;30mINFO\u001b[0m:\u001b[34mHST\u001b[0m:  [Host] Wrote superhost shutdown signal: 8192 bytes\n",
      "\u001b[1;30mINFO\u001b[0m:\u001b[34mHST\u001b[0m:  [Host] Closing server socket\n",
      "\u001b[1;30mINFO\u001b[0m:\u001b[34mHST\u001b[0m:  chip=0 cpu=0 halted, status=0x0\n"
     ]
    }
   ],
   "source": [
    "net6 = get_loihi_adapted_avam_net_for_2x2_max_pooling(\n",
    "    radius=0.20, max_rate=500, synapse=0.005)\n",
    "with net6:\n",
    "  inpt = nengo.Node(output = lambda t: [1.0 if int(t*1000)%P1 == 0 else 0,\n",
    "                                        1.0 if int(t*1000)%P2 == 0 else 0,\n",
    "                                        1.0 if int(t*1000)%P3 == 0 else 0,\n",
    "                                        1.0 if int(t*1000)%P4 == 0 else 0])\n",
    "  ens6 = nengo.Ensemble(\n",
    "      n_neurons=1, dimensions=1, radius=1, intercepts=[0], max_rates=[250],\n",
    "      neuron_type=nengo_loihi.neurons.LoihiSpikingRectifiedLinear(\n",
    "          amplitude=1/1000)\n",
    "      )\n",
    "  nengo.Connection(inpt, net6.inputs, synapse=0.005)\n",
    "  nengo.Connection(net6.otp_node, ens6.neurons, synapse=None)\n",
    "  # No Synpase since the input is already synapsed.\n",
    "  max_otpt_6 = nengo.Probe(net6.otp_node, synapse=None) \n",
    "\n",
    "with nengo_loihi.Simulator(net6) as loihi_sim_6:\n",
    "  loihi_sim_6.run(0.1)"
   ]
  },
  {
   "cell_type": "markdown",
   "id": "afbcb9dd-d764-466f-bc4d-5bb4b2f25afc",
   "metadata": {},
   "source": [
    "## Compute True_Max $U$"
   ]
  },
  {
   "cell_type": "code",
   "execution_count": 16,
   "id": "8160c93a-77ab-4be7-8f1c-3b185034e809",
   "metadata": {},
   "outputs": [
    {
     "data": {
      "application/vdom.v1+json": {
       "attributes": {},
       "tagName": "div"
      },
      "text/html": [
       "\n",
       "                <script>\n",
       "                    if (Jupyter.version.split(\".\")[0] < 5) {\n",
       "                        var pb = document.getElementById(\"c6111f67-26d6-4cb7-b3ff-41fd0fe6b91e\");\n",
       "                        var text = document.createTextNode(\n",
       "                            \"HMTL progress bar requires Jupyter Notebook >= \" +\n",
       "                            \"5.0 or Jupyter Lab. Alternatively, you can use \" +\n",
       "                            \"TerminalProgressBar().\");\n",
       "                        pb.parentNode.insertBefore(text, pb);\n",
       "                    }\n",
       "                </script>\n",
       "                <div id=\"c6111f67-26d6-4cb7-b3ff-41fd0fe6b91e\" style=\"\n",
       "                    width: 100%;\n",
       "                    border: 1px solid #cfcfcf;\n",
       "                    border-radius: 4px;\n",
       "                    text-align: center;\n",
       "                    position: relative;\">\n",
       "                  <div class=\"pb-text\" style=\"\n",
       "                      position: absolute;\n",
       "                      width: 100%;\">\n",
       "                    0%\n",
       "                  </div>\n",
       "                  <div class=\"pb-fill\" style=\"\n",
       "                      background-color: #bdd2e6;\n",
       "                      width: 0%;\">\n",
       "                    <style type=\"text/css\" scoped=\"scoped\">\n",
       "                        @keyframes pb-fill-anim {\n",
       "                            0% { background-position: 0 0; }\n",
       "                            100% { background-position: 100px 0; }\n",
       "                        }\n",
       "                    </style>\n",
       "                    &nbsp;\n",
       "                  </div>\n",
       "                </div>"
      ],
      "text/plain": [
       "HtmlProgressBar cannot be displayed. Please use the TerminalProgressBar. It can be enabled with `nengo.rc['progress']['progress_bar'] = 'nengo.utils.progress.TerminalProgressBar'`."
      ]
     },
     "metadata": {},
     "output_type": "display_data"
    },
    {
     "data": {
      "application/vdom.v1+json": {
       "attributes": {
        "id": "fc325805-46cf-4f87-99bf-4e1525126476",
        "style": {
         "border": "1px solid #cfcfcf",
         "borderRadius": "4px",
         "boxSizing": "border-box",
         "position": "relative",
         "textAlign": "center",
         "width": "100%"
        }
       },
       "children": [
        {
         "attributes": {
          "class": "pb-text",
          "style": {
           "position": "absolute",
           "width": "100%"
          }
         },
         "children": [
          "Build finished in 0:00:01."
         ],
         "tagName": "div"
        },
        {
         "attributes": {
          "class": "pb-fill",
          "style": {
           "animation": "none",
           "backgroundColor": "#bdd2e6",
           "backgroundImage": "none",
           "backgroundSize": "100px 100%",
           "width": "100%"
          }
         },
         "children": [
          {
           "attributes": {
            "scoped": "scoped",
            "type": "text/css"
           },
           "children": [
            "\n                        @keyframes pb-fill-anim {\n                            0% { background-position: 0 0; }\n                            100% { background-position: 100px 0; }\n                        }}"
           ],
           "tagName": "style"
          },
          " "
         ],
         "tagName": "div"
        }
       ],
       "tagName": "div"
      },
      "text/html": [
       "<script>\n",
       "              (function () {\n",
       "                  var root = document.getElementById('c6111f67-26d6-4cb7-b3ff-41fd0fe6b91e');\n",
       "                  var text = root.getElementsByClassName('pb-text')[0];\n",
       "                  var fill = root.getElementsByClassName('pb-fill')[0];\n",
       "\n",
       "                  text.innerHTML = 'Build finished in 0:00:01.';\n",
       "                  \n",
       "            fill.style.width = '100%';\n",
       "            fill.style.animation = 'pb-fill-anim 2s linear infinite';\n",
       "            fill.style.backgroundSize = '100px 100%';\n",
       "            fill.style.backgroundImage = 'repeating-linear-gradient(' +\n",
       "                '90deg, #bdd2e6, #edf2f8 40%, #bdd2e6 80%, #bdd2e6)';\n",
       "        \n",
       "                  \n",
       "                fill.style.animation = 'none';\n",
       "                fill.style.backgroundImage = 'none';\n",
       "            \n",
       "              })();\n",
       "        </script>"
      ]
     },
     "metadata": {},
     "output_type": "display_data"
    },
    {
     "data": {
      "application/vdom.v1+json": {
       "attributes": {},
       "tagName": "div"
      },
      "text/html": [
       "\n",
       "                <script>\n",
       "                    if (Jupyter.version.split(\".\")[0] < 5) {\n",
       "                        var pb = document.getElementById(\"50e468eb-2beb-43cb-933a-f1ffd65b03d6\");\n",
       "                        var text = document.createTextNode(\n",
       "                            \"HMTL progress bar requires Jupyter Notebook >= \" +\n",
       "                            \"5.0 or Jupyter Lab. Alternatively, you can use \" +\n",
       "                            \"TerminalProgressBar().\");\n",
       "                        pb.parentNode.insertBefore(text, pb);\n",
       "                    }\n",
       "                </script>\n",
       "                <div id=\"50e468eb-2beb-43cb-933a-f1ffd65b03d6\" style=\"\n",
       "                    width: 100%;\n",
       "                    border: 1px solid #cfcfcf;\n",
       "                    border-radius: 4px;\n",
       "                    text-align: center;\n",
       "                    position: relative;\">\n",
       "                  <div class=\"pb-text\" style=\"\n",
       "                      position: absolute;\n",
       "                      width: 100%;\">\n",
       "                    0%\n",
       "                  </div>\n",
       "                  <div class=\"pb-fill\" style=\"\n",
       "                      background-color: #bdd2e6;\n",
       "                      width: 0%;\">\n",
       "                    <style type=\"text/css\" scoped=\"scoped\">\n",
       "                        @keyframes pb-fill-anim {\n",
       "                            0% { background-position: 0 0; }\n",
       "                            100% { background-position: 100px 0; }\n",
       "                        }\n",
       "                    </style>\n",
       "                    &nbsp;\n",
       "                  </div>\n",
       "                </div>"
      ],
      "text/plain": [
       "HtmlProgressBar cannot be displayed. Please use the TerminalProgressBar. It can be enabled with `nengo.rc['progress']['progress_bar'] = 'nengo.utils.progress.TerminalProgressBar'`."
      ]
     },
     "metadata": {},
     "output_type": "display_data"
    },
    {
     "data": {
      "application/vdom.v1+json": {
       "attributes": {
        "id": "02b490e0-e0b4-4e32-a7eb-7fbe5ed0287d",
        "style": {
         "border": "1px solid #cfcfcf",
         "borderRadius": "4px",
         "boxSizing": "border-box",
         "position": "relative",
         "textAlign": "center",
         "width": "100%"
        }
       },
       "children": [
        {
         "attributes": {
          "class": "pb-text",
          "style": {
           "position": "absolute",
           "width": "100%"
          }
         },
         "children": [
          "Simulation finished in 0:00:01."
         ],
         "tagName": "div"
        },
        {
         "attributes": {
          "class": "pb-fill",
          "style": {
           "animation": "none",
           "backgroundColor": "#bdd2e6",
           "backgroundImage": "none",
           "transition": "width 0.1s linear",
           "width": "100%"
          }
         },
         "children": [
          {
           "attributes": {
            "scoped": "scoped",
            "type": "text/css"
           },
           "children": [
            "\n                        @keyframes pb-fill-anim {\n                            0% { background-position: 0 0; }\n                            100% { background-position: 100px 0; }\n                        }}"
           ],
           "tagName": "style"
          },
          " "
         ],
         "tagName": "div"
        }
       ],
       "tagName": "div"
      },
      "text/html": [
       "<script>\n",
       "              (function () {\n",
       "                  var root = document.getElementById('50e468eb-2beb-43cb-933a-f1ffd65b03d6');\n",
       "                  var text = root.getElementsByClassName('pb-text')[0];\n",
       "                  var fill = root.getElementsByClassName('pb-fill')[0];\n",
       "\n",
       "                  text.innerHTML = 'Simulation finished in 0:00:01.';\n",
       "                  \n",
       "            if (100.0 > 0.) {\n",
       "                fill.style.transition = 'width 0.1s linear';\n",
       "            } else {\n",
       "                fill.style.transition = 'none';\n",
       "            }\n",
       "\n",
       "            fill.style.width = '100.0%';\n",
       "            fill.style.animation = 'none';\n",
       "            fill.style.backgroundImage = 'none'\n",
       "        \n",
       "                  \n",
       "                fill.style.animation = 'none';\n",
       "                fill.style.backgroundImage = 'none';\n",
       "            \n",
       "              })();\n",
       "        </script>"
      ]
     },
     "metadata": {},
     "output_type": "display_data"
    }
   ],
   "source": [
    "with nengo.Network() as net_max:\n",
    "  inpt_max = nengo.Node(output = lambda t: [1.0 if int(t*1000)%P1 == 0 else 0,\n",
    "                                        1.0 if int(t*1000)%P2 == 0 else 0,\n",
    "                                        1.0 if int(t*1000)%P3 == 0 else 0,\n",
    "                                        1.0 if int(t*1000)%P4 == 0 else 0])\n",
    "  # Compute max(U_1, U_2, U_3, U_4)\n",
    "  otpt_max = nengo.Node(output=lambda t, x: max(x), size_in=4) \n",
    "  nengo.Connection(inpt_max, otpt_max, synapse=0.01)\n",
    "  otpt_probe_max = nengo.Probe(otpt_max, synapse=None)\n",
    "  \n",
    "with nengo.Simulator(net_max) as ngo_sim_max:\n",
    "  ngo_sim_max.run(0.1)"
   ]
  },
  {
   "cell_type": "markdown",
   "id": "7124fa4c-565a-4e4c-86e4-3a10f3a6e39b",
   "metadata": {},
   "source": [
    "## Compute Average $U$"
   ]
  },
  {
   "cell_type": "code",
   "execution_count": 17,
   "id": "9acb320c-38a7-445d-b99e-e563d0e513bb",
   "metadata": {},
   "outputs": [
    {
     "data": {
      "application/vdom.v1+json": {
       "attributes": {},
       "tagName": "div"
      },
      "text/html": [
       "\n",
       "                <script>\n",
       "                    if (Jupyter.version.split(\".\")[0] < 5) {\n",
       "                        var pb = document.getElementById(\"e0aa054e-a4d7-4d4b-980a-6ae95c087e74\");\n",
       "                        var text = document.createTextNode(\n",
       "                            \"HMTL progress bar requires Jupyter Notebook >= \" +\n",
       "                            \"5.0 or Jupyter Lab. Alternatively, you can use \" +\n",
       "                            \"TerminalProgressBar().\");\n",
       "                        pb.parentNode.insertBefore(text, pb);\n",
       "                    }\n",
       "                </script>\n",
       "                <div id=\"e0aa054e-a4d7-4d4b-980a-6ae95c087e74\" style=\"\n",
       "                    width: 100%;\n",
       "                    border: 1px solid #cfcfcf;\n",
       "                    border-radius: 4px;\n",
       "                    text-align: center;\n",
       "                    position: relative;\">\n",
       "                  <div class=\"pb-text\" style=\"\n",
       "                      position: absolute;\n",
       "                      width: 100%;\">\n",
       "                    0%\n",
       "                  </div>\n",
       "                  <div class=\"pb-fill\" style=\"\n",
       "                      background-color: #bdd2e6;\n",
       "                      width: 0%;\">\n",
       "                    <style type=\"text/css\" scoped=\"scoped\">\n",
       "                        @keyframes pb-fill-anim {\n",
       "                            0% { background-position: 0 0; }\n",
       "                            100% { background-position: 100px 0; }\n",
       "                        }\n",
       "                    </style>\n",
       "                    &nbsp;\n",
       "                  </div>\n",
       "                </div>"
      ],
      "text/plain": [
       "HtmlProgressBar cannot be displayed. Please use the TerminalProgressBar. It can be enabled with `nengo.rc['progress']['progress_bar'] = 'nengo.utils.progress.TerminalProgressBar'`."
      ]
     },
     "metadata": {},
     "output_type": "display_data"
    },
    {
     "data": {
      "application/vdom.v1+json": {
       "attributes": {
        "id": "0a5cbc82-220d-49ff-892d-00aba8de032e",
        "style": {
         "border": "1px solid #cfcfcf",
         "borderRadius": "4px",
         "boxSizing": "border-box",
         "position": "relative",
         "textAlign": "center",
         "width": "100%"
        }
       },
       "children": [
        {
         "attributes": {
          "class": "pb-text",
          "style": {
           "position": "absolute",
           "width": "100%"
          }
         },
         "children": [
          "Build finished in 0:00:01."
         ],
         "tagName": "div"
        },
        {
         "attributes": {
          "class": "pb-fill",
          "style": {
           "animation": "none",
           "backgroundColor": "#bdd2e6",
           "backgroundImage": "none",
           "backgroundSize": "100px 100%",
           "width": "100%"
          }
         },
         "children": [
          {
           "attributes": {
            "scoped": "scoped",
            "type": "text/css"
           },
           "children": [
            "\n                        @keyframes pb-fill-anim {\n                            0% { background-position: 0 0; }\n                            100% { background-position: 100px 0; }\n                        }}"
           ],
           "tagName": "style"
          },
          " "
         ],
         "tagName": "div"
        }
       ],
       "tagName": "div"
      },
      "text/html": [
       "<script>\n",
       "              (function () {\n",
       "                  var root = document.getElementById('e0aa054e-a4d7-4d4b-980a-6ae95c087e74');\n",
       "                  var text = root.getElementsByClassName('pb-text')[0];\n",
       "                  var fill = root.getElementsByClassName('pb-fill')[0];\n",
       "\n",
       "                  text.innerHTML = 'Build finished in 0:00:01.';\n",
       "                  \n",
       "            fill.style.width = '100%';\n",
       "            fill.style.animation = 'pb-fill-anim 2s linear infinite';\n",
       "            fill.style.backgroundSize = '100px 100%';\n",
       "            fill.style.backgroundImage = 'repeating-linear-gradient(' +\n",
       "                '90deg, #bdd2e6, #edf2f8 40%, #bdd2e6 80%, #bdd2e6)';\n",
       "        \n",
       "                  \n",
       "                fill.style.animation = 'none';\n",
       "                fill.style.backgroundImage = 'none';\n",
       "            \n",
       "              })();\n",
       "        </script>"
      ]
     },
     "metadata": {},
     "output_type": "display_data"
    },
    {
     "data": {
      "application/vdom.v1+json": {
       "attributes": {},
       "tagName": "div"
      },
      "text/html": [
       "\n",
       "                <script>\n",
       "                    if (Jupyter.version.split(\".\")[0] < 5) {\n",
       "                        var pb = document.getElementById(\"a1da8015-e403-4680-a1f0-feb8aa75aca2\");\n",
       "                        var text = document.createTextNode(\n",
       "                            \"HMTL progress bar requires Jupyter Notebook >= \" +\n",
       "                            \"5.0 or Jupyter Lab. Alternatively, you can use \" +\n",
       "                            \"TerminalProgressBar().\");\n",
       "                        pb.parentNode.insertBefore(text, pb);\n",
       "                    }\n",
       "                </script>\n",
       "                <div id=\"a1da8015-e403-4680-a1f0-feb8aa75aca2\" style=\"\n",
       "                    width: 100%;\n",
       "                    border: 1px solid #cfcfcf;\n",
       "                    border-radius: 4px;\n",
       "                    text-align: center;\n",
       "                    position: relative;\">\n",
       "                  <div class=\"pb-text\" style=\"\n",
       "                      position: absolute;\n",
       "                      width: 100%;\">\n",
       "                    0%\n",
       "                  </div>\n",
       "                  <div class=\"pb-fill\" style=\"\n",
       "                      background-color: #bdd2e6;\n",
       "                      width: 0%;\">\n",
       "                    <style type=\"text/css\" scoped=\"scoped\">\n",
       "                        @keyframes pb-fill-anim {\n",
       "                            0% { background-position: 0 0; }\n",
       "                            100% { background-position: 100px 0; }\n",
       "                        }\n",
       "                    </style>\n",
       "                    &nbsp;\n",
       "                  </div>\n",
       "                </div>"
      ],
      "text/plain": [
       "HtmlProgressBar cannot be displayed. Please use the TerminalProgressBar. It can be enabled with `nengo.rc['progress']['progress_bar'] = 'nengo.utils.progress.TerminalProgressBar'`."
      ]
     },
     "metadata": {},
     "output_type": "display_data"
    },
    {
     "data": {
      "application/vdom.v1+json": {
       "attributes": {
        "id": "a5d2bcd6-ebcc-4a17-918d-e25c381e367d",
        "style": {
         "border": "1px solid #cfcfcf",
         "borderRadius": "4px",
         "boxSizing": "border-box",
         "position": "relative",
         "textAlign": "center",
         "width": "100%"
        }
       },
       "children": [
        {
         "attributes": {
          "class": "pb-text",
          "style": {
           "position": "absolute",
           "width": "100%"
          }
         },
         "children": [
          "Simulation finished in 0:00:01."
         ],
         "tagName": "div"
        },
        {
         "attributes": {
          "class": "pb-fill",
          "style": {
           "animation": "none",
           "backgroundColor": "#bdd2e6",
           "backgroundImage": "none",
           "transition": "width 0.1s linear",
           "width": "100%"
          }
         },
         "children": [
          {
           "attributes": {
            "scoped": "scoped",
            "type": "text/css"
           },
           "children": [
            "\n                        @keyframes pb-fill-anim {\n                            0% { background-position: 0 0; }\n                            100% { background-position: 100px 0; }\n                        }}"
           ],
           "tagName": "style"
          },
          " "
         ],
         "tagName": "div"
        }
       ],
       "tagName": "div"
      },
      "text/html": [
       "<script>\n",
       "              (function () {\n",
       "                  var root = document.getElementById('a1da8015-e403-4680-a1f0-feb8aa75aca2');\n",
       "                  var text = root.getElementsByClassName('pb-text')[0];\n",
       "                  var fill = root.getElementsByClassName('pb-fill')[0];\n",
       "\n",
       "                  text.innerHTML = 'Simulation finished in 0:00:01.';\n",
       "                  \n",
       "            if (100.0 > 0.) {\n",
       "                fill.style.transition = 'width 0.1s linear';\n",
       "            } else {\n",
       "                fill.style.transition = 'none';\n",
       "            }\n",
       "\n",
       "            fill.style.width = '100.0%';\n",
       "            fill.style.animation = 'none';\n",
       "            fill.style.backgroundImage = 'none'\n",
       "        \n",
       "                  \n",
       "                fill.style.animation = 'none';\n",
       "                fill.style.backgroundImage = 'none';\n",
       "            \n",
       "              })();\n",
       "        </script>"
      ]
     },
     "metadata": {},
     "output_type": "display_data"
    }
   ],
   "source": [
    "with nengo.Network() as net_avg:\n",
    "  inpt_avg = nengo.Node(output = lambda t: [1.0 if int(t*1000)%P1 == 0 else 0,\n",
    "                                        1.0 if int(t*1000)%P2 == 0 else 0,\n",
    "                                        1.0 if int(t*1000)%P3 == 0 else 0,\n",
    "                                        1.0 if int(t*1000)%P4 == 0 else 0])\n",
    "  # Compute mean(U_1, U_2, U_3, U_4)\n",
    "  otpt_avg = nengo.Node(output=lambda t, x: np.mean(x), size_in=4)\n",
    "  nengo.Connection(inpt_avg, otpt_avg, synapse=0.01)\n",
    "  otpt_probe_avg = nengo.Probe(otpt_avg, synapse=None)\n",
    "  \n",
    "with nengo.Simulator(net_avg) as ngo_sim_avg:\n",
    "  ngo_sim_avg.run(0.1)"
   ]
  },
  {
   "cell_type": "markdown",
   "id": "7184ef61-0fe3-4b2c-a232-96b58c5fd17a",
   "metadata": {},
   "source": [
    "## Plot the results"
   ]
  },
  {
   "cell_type": "code",
   "execution_count": 18,
   "id": "8ebf89f4-f183-4a3f-a570-0500b5c028ef",
   "metadata": {},
   "outputs": [
    {
     "data": {
      "image/png": "[encoded data removed]",
      "text/plain": [
       "<Figure size 432x288 with 1 Axes>"
      ]
     },
     "metadata": {},
     "output_type": "display_data"
    }
   ],
   "source": [
    "plt.figure(facecolor=\"#00FFFF\")\n",
    "plt.plot(loihi_sim_4.data[max_otpt_4], label=\"AVAM Net $U_{out}$ ($r=0.25$)\")\n",
    "plt.plot(loihi_sim_5.data[max_otpt_5], label=\"AVAM Net $U_{out}$ ($r=0.30$)\")\n",
    "plt.plot(loihi_sim_6.data[max_otpt_6], label=\"AVAM Net $U_{out}$ ($r=0.20$)\")\n",
    "plt.plot(ngo_sim_max.data[otpt_probe_max], label=\"True Max $U$\")\n",
    "plt.plot(ngo_sim_avg.data[otpt_probe_avg], label=\"Average $U$\")\n",
    "plt.xticks(fontsize=FONTSIZE)\n",
    "plt.yticks(fontsize=FONTSIZE)\n",
    "plt.xlabel(\"Timesteps\", fontsize=FONTSIZE)\n",
    "plt.ylabel(\"$U$ Value\", fontsize=FONTSIZE)\n",
    "plt.legend(framealpha=0.325, fontsize=FONTSIZE)\n",
    "plt.savefig(\"avam_net_poc\", dpi=450, bbox_inches=\"tight\")"
   ]
  },
  {
   "cell_type": "markdown",
   "id": "2c0bdc7e-f5e8-439d-b8fb-d8b023636a39",
   "metadata": {},
   "source": [
    "# XXXXXXXXXXXXXXXXXXXXXXXXXXXXXXXXXXXXXXXXXXXXXXXXXX"
   ]
  }
 ],
 "metadata": {
  "kernelspec": {
   "display_name": "Python 3",
   "language": "python",
   "name": "python3"
  },
  "language_info": {
   "codemirror_mode": {
    "name": "ipython",
    "version": 3
   },
   "file_extension": ".py",
   "mimetype": "text/x-python",
   "name": "python",
   "nbconvert_exporter": "python",
   "pygments_lexer": "ipython3",
   "version": "3.8.10"
  }
 },
 "nbformat": 4,
 "nbformat_minor": 5
}
