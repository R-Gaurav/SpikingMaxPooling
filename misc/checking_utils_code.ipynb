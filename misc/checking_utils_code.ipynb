{
 "cells": [
  {
   "cell_type": "code",
   "execution_count": 1,
   "id": "psychological-burton",
   "metadata": {},
   "outputs": [],
   "source": [
    "import _init_paths\n",
    "\n",
    "import tensorflow as tf\n",
    "import numpy as np\n",
    "import nengo_dl\n",
    "import nengo \n",
    "\n",
    "from configs.exp_configs import tf_exp_cfg as tf_cfg, nengo_dl_cfg as ndl_cfg\n",
    "from utils.cnn_2d_utils import get_2d_cnn_model\n",
    "from utils.nengo_dl_utils import get_nengo_dl_model\n",
    "from utils.base_utils.exp_utils import get_grouped_slices_2d_pooling\n",
    "from utils.base_utils.data_prep_utils import get_batches_of_exp_dataset, get_exp_dataset"
   ]
  },
  {
   "cell_type": "code",
   "execution_count": 2,
   "id": "polish-walnut",
   "metadata": {
    "scrolled": true
   },
   "outputs": [
    {
     "name": "stdout",
     "output_type": "stream",
     "text": [
      "Model: \"model\"\n",
      "_________________________________________________________________\n",
      "Layer (type)                 Output Shape              Param #   \n",
      "=================================================================\n",
      "input_1 (InputLayer)         [(None, 1, 28, 28)]       0         \n",
      "_________________________________________________________________\n",
      "conv2d (Conv2D)              (None, 16, 26, 26)        160       \n",
      "_________________________________________________________________\n",
      "max_pooling2d (MaxPooling2D) (None, 16, 13, 13)        0         \n",
      "_________________________________________________________________\n",
      "conv2d_1 (Conv2D)            (None, 24, 11, 11)        3480      \n",
      "_________________________________________________________________\n",
      "max_pooling2d_1 (MaxPooling2 (None, 24, 5, 5)          0         \n",
      "_________________________________________________________________\n",
      "conv2d_2 (Conv2D)            (None, 32, 3, 3)          6944      \n",
      "_________________________________________________________________\n",
      "flatten (Flatten)            (None, 288)               0         \n",
      "_________________________________________________________________\n",
      "dense (Dense)                (None, 64)                18496     \n",
      "_________________________________________________________________\n",
      "dense_1 (Dense)              (None, 10)                650       \n",
      "=================================================================\n",
      "Total params: 29,730\n",
      "Trainable params: 29,730\n",
      "Non-trainable params: 0\n",
      "_________________________________________________________________\n"
     ]
    }
   ],
   "source": [
    "model = get_2d_cnn_model((1, 28, 28), tf_cfg) # Channels first shape (1, 28, 28).\n",
    "model[0].summary()"
   ]
  },
  {
   "cell_type": "code",
   "execution_count": 3,
   "id": "alone-opera",
   "metadata": {
    "scrolled": true
   },
   "outputs": [
    {
     "name": "stderr",
     "output_type": "stream",
     "text": [
      "/home/rgaurav/miniconda3/envs/latest-nengo-tf/lib/python3.7/site-packages/nengo_dl/converter.py:326: UserWarning: Cannot convert max pooling layers to native Nengo objects; consider setting max_to_avg_pool=True to use average pooling instead. Falling back to TensorNode.\n",
      "  % (error_msg + \". \" if error_msg else \"\")\n",
      "/home/rgaurav/miniconda3/envs/latest-nengo-tf/lib/python3.7/site-packages/nengo_dl/converter.py:588: UserWarning: Activation type <function softmax at 0x2ab9d2560ef0> does not have a native Nengo equivalent; falling back to a TensorNode\n",
      "  \"falling back to a TensorNode\" % activation\n"
     ]
    }
   ],
   "source": [
    "ndl_model = nengo_dl.Converter(model[0])"
   ]
  },
  {
   "cell_type": "code",
   "execution_count": 5,
   "id": "scenic-atlas",
   "metadata": {
    "scrolled": false
   },
   "outputs": [
    {
     "name": "stdout",
     "output_type": "stream",
     "text": [
      "['KerasTensorDict', 'TrackedDict', '__class__', '__delattr__', '__dict__', '__dir__', '__doc__', '__eq__', '__format__', '__ge__', '__getattribute__', '__gt__', '__hash__', '__init__', '__init_subclass__', '__le__', '__lt__', '__module__', '__ne__', '__new__', '__reduce__', '__reduce_ex__', '__repr__', '__setattr__', '__sizeof__', '__str__', '__subclasshook__', '__weakref__', '_layer_converters', 'allow_fallback', 'converters', 'get_converter', 'inference_only', 'inputs', 'layers', 'max_to_avg_pool', 'model', 'net', 'outputs', 'register', 'scale_firing_rates', 'split_shared_weights', 'swap_activations', 'synapse', 'temporal_model', 'verify']\n"
     ]
    }
   ],
   "source": [
    "print(dir(ndl_model))"
   ]
  },
  {
   "cell_type": "code",
   "execution_count": 8,
   "id": "superb-passion",
   "metadata": {
    "scrolled": true
   },
   "outputs": [
    {
     "name": "stdout",
     "output_type": "stream",
     "text": [
      "(16, 26, 26)\n",
      "(24, 11, 11)\n"
     ]
    }
   ],
   "source": [
    "for lyr in ndl_model.model.layers:\n",
    "  if lyr.name in [\"conv2d\", \"conv2d_1\"]:\n",
    "    print(lyr.output.shape[1:])"
   ]
  },
  {
   "cell_type": "code",
   "execution_count": 20,
   "id": "bridal-recorder",
   "metadata": {},
   "outputs": [
    {
     "data": {
      "text/plain": [
       "'3.4.0'"
      ]
     },
     "execution_count": 20,
     "metadata": {},
     "output_type": "execute_result"
    }
   ],
   "source": [
    "nengo_dl.__version__"
   ]
  },
  {
   "cell_type": "code",
   "execution_count": 3,
   "id": "collaborative-attribute",
   "metadata": {},
   "outputs": [],
   "source": [
    "grouped_slices = get_grouped_slices_2d_pooling(pool_size=(2, 2), num_chnls=16, rows=26, cols=26)"
   ]
  },
  {
   "cell_type": "code",
   "execution_count": 4,
   "id": "federal-memory",
   "metadata": {},
   "outputs": [],
   "source": [
    "len(grouped_slices) # 10816 == 16 x 26 x 26"
   ]
  },
  {
   "cell_type": "code",
   "execution_count": 5,
   "id": "backed-charge",
   "metadata": {},
   "outputs": [],
   "source": [
    "grouped_slices = get_grouped_slices_2d_pooling(pool_size=(2, 2), num_chnls=24, rows=11, cols=11)"
   ]
  },
  {
   "cell_type": "code",
   "execution_count": 6,
   "id": "frequent-robertson",
   "metadata": {},
   "outputs": [],
   "source": [
    "len(grouped_slices)# 24 x 11 x 11 = 2904 "
   ]
  },
  {
   "cell_type": "markdown",
   "id": "talented-irish",
   "metadata": {},
   "source": [
    "# ###############################################################"
   ]
  }
 ],
 "metadata": {
  "kernelspec": {
   "display_name": "Python 3",
   "language": "python",
   "name": "python3"
  },
  "language_info": {
   "codemirror_mode": {
    "name": "ipython",
    "version": 3
   },
   "file_extension": ".py",
   "mimetype": "text/x-python",
   "name": "python",
   "nbconvert_exporter": "python",
   "pygments_lexer": "ipython3",
   "version": "3.7.7"
  }
 },
 "nbformat": 4,
 "nbformat_minor": 5
}
