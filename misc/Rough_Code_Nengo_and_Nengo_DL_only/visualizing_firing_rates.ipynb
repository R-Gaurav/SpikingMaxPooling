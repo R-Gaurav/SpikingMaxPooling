{
 "cells": [
  {
   "cell_type": "code",
   "execution_count": 1,
   "id": "advanced-gentleman",
   "metadata": {},
   "outputs": [],
   "source": [
    "import matplotlib.pyplot as plt\n",
    "import tensorflow as tf\n",
    "import numpy as np\n",
    "import nengo_dl\n",
    "import nengo\n",
    "import nengo_loihi\n",
    "import random"
   ]
  },
  {
   "cell_type": "code",
   "execution_count": 2,
   "id": "distinguished-comment",
   "metadata": {},
   "outputs": [
    {
     "name": "stdout",
     "output_type": "stream",
     "text": [
      "2.2.0 3.4.0 3.1.0 1.0.0\n"
     ]
    }
   ],
   "source": [
    "print(tf.__version__, nengo_dl.__version__, nengo.__version__, nengo_loihi.__version__) # => 2.2.0 3.4.0 3.1.0, 1.0.0\n",
    "random.seed(0)"
   ]
  },
  {
   "cell_type": "markdown",
   "id": "superb-concentrate",
   "metadata": {},
   "source": [
    "## Training and Evaluating TF network"
   ]
  },
  {
   "cell_type": "code",
   "execution_count": 3,
   "id": "threaded-quebec",
   "metadata": {},
   "outputs": [],
   "source": [
    "(train_images, train_labels), (test_images, test_labels) = tf.keras.datasets.mnist.load_data()\n",
    "tf.random.set_seed(0)"
   ]
  },
  {
   "cell_type": "code",
   "execution_count": 4,
   "id": "seven-techno",
   "metadata": {},
   "outputs": [],
   "source": [
    "# input\n",
    "inp = tf.keras.Input(shape=(28, 28, 1))\n",
    "\n",
    "# convolutional layers\n",
    "conv0 = tf.keras.layers.Conv2D(\n",
    "    filters=32,\n",
    "    kernel_size=3,\n",
    "    activation=tf.nn.relu,\n",
    ")(inp)\n",
    "\n",
    "max_pool = tf.keras.layers.MaxPool2D()(conv0)\n",
    "\n",
    "conv1 = tf.keras.layers.Conv2D(\n",
    "    filters=64,\n",
    "    kernel_size=3,\n",
    "    strides=2,\n",
    "    activation=tf.nn.relu,\n",
    ")(max_pool)\n",
    "\n",
    "# fully connected layer\n",
    "flatten = tf.keras.layers.Flatten()(conv1)\n",
    "dense = tf.keras.layers.Dense(units=10, activation=\"softmax\")(flatten)\n",
    "\n",
    "model = tf.keras.Model(inputs=inp, outputs=dense)"
   ]
  },
  {
   "cell_type": "code",
   "execution_count": 5,
   "id": "saved-complement",
   "metadata": {},
   "outputs": [
    {
     "name": "stdout",
     "output_type": "stream",
     "text": [
      "Model: \"model\"\n",
      "_________________________________________________________________\n",
      "Layer (type)                 Output Shape              Param #   \n",
      "=================================================================\n",
      "input_1 (InputLayer)         [(None, 28, 28, 1)]       0         \n",
      "_________________________________________________________________\n",
      "conv2d (Conv2D)              (None, 26, 26, 32)        320       \n",
      "_________________________________________________________________\n",
      "max_pooling2d (MaxPooling2D) (None, 13, 13, 32)        0         \n",
      "_________________________________________________________________\n",
      "conv2d_1 (Conv2D)            (None, 6, 6, 64)          18496     \n",
      "_________________________________________________________________\n",
      "flatten (Flatten)            (None, 2304)              0         \n",
      "_________________________________________________________________\n",
      "dense (Dense)                (None, 10)                23050     \n",
      "=================================================================\n",
      "Total params: 41,866\n",
      "Trainable params: 41,866\n",
      "Non-trainable params: 0\n",
      "_________________________________________________________________\n"
     ]
    }
   ],
   "source": [
    "model.summary()"
   ]
  },
  {
   "cell_type": "code",
   "execution_count": 6,
   "id": "descending-piano",
   "metadata": {},
   "outputs": [
    {
     "name": "stdout",
     "output_type": "stream",
     "text": [
      "Epoch 1/4\n",
      "1875/1875 [==============================] - 4s 2ms/step - loss: 0.2801 - sparse_categorical_accuracy: 0.9439\n",
      "Epoch 2/4\n",
      "1875/1875 [==============================] - 3s 2ms/step - loss: 0.0742 - sparse_categorical_accuracy: 0.9776\n",
      "Epoch 3/4\n",
      "1875/1875 [==============================] - 3s 2ms/step - loss: 0.0572 - sparse_categorical_accuracy: 0.9828\n",
      "Epoch 4/4\n",
      "1875/1875 [==============================] - 3s 2ms/step - loss: 0.0508 - sparse_categorical_accuracy: 0.9844\n"
     ]
    },
    {
     "data": {
      "text/plain": [
       "<tensorflow.python.keras.callbacks.History at 0x2adae2c1ced0>"
      ]
     },
     "execution_count": 6,
     "metadata": {},
     "output_type": "execute_result"
    }
   ],
   "source": [
    "model.compile(\n",
    "  optimizer=tf.optimizers.Adam(0.001),\n",
    "  loss=tf.losses.SparseCategoricalCrossentropy(),\n",
    "  metrics=[tf.metrics.sparse_categorical_accuracy])\n",
    "model.fit(train_images, train_labels, epochs=4)"
   ]
  },
  {
   "cell_type": "code",
   "execution_count": 7,
   "id": "robust-maximum",
   "metadata": {},
   "outputs": [
    {
     "name": "stdout",
     "output_type": "stream",
     "text": [
      "313/313 [==============================] - 1s 4ms/step - loss: 0.0779 - sparse_categorical_accuracy: 0.9800\n"
     ]
    },
    {
     "data": {
      "text/plain": [
       "[0.07794930785894394, 0.9800000190734863]"
      ]
     },
     "execution_count": 7,
     "metadata": {},
     "output_type": "execute_result"
    }
   ],
   "source": [
    "model.evaluate(test_images, test_labels)"
   ]
  },
  {
   "cell_type": "markdown",
   "id": "lesbian-citation",
   "metadata": {},
   "source": [
    "## Converting to NengoDL Network"
   ]
  },
  {
   "cell_type": "code",
   "execution_count": 8,
   "id": "brazilian-coral",
   "metadata": {},
   "outputs": [
    {
     "name": "stderr",
     "output_type": "stream",
     "text": [
      "/home/rgaurav/miniconda3/envs/latest-nengo-tf/lib/python3.7/site-packages/nengo_dl/converter.py:326: UserWarning: Cannot convert max pooling layers to native Nengo objects; consider setting max_to_avg_pool=True to use average pooling instead. Falling back to TensorNode.\n",
      "  % (error_msg + \". \" if error_msg else \"\")\n",
      "/home/rgaurav/miniconda3/envs/latest-nengo-tf/lib/python3.7/site-packages/nengo_dl/converter.py:588: UserWarning: Activation type <function softmax at 0x2adada7e4170> does not have a native Nengo equivalent; falling back to a TensorNode\n",
      "  \"falling back to a TensorNode\" % activation\n"
     ]
    }
   ],
   "source": [
    "n_steps, sfr = 40, 100 # Simulation Timesteps and Scale Firing Rates parameter.\n",
    "\n",
    "np.random.seed(0)\n",
    "ndl_model = nengo_dl.Converter(\n",
    "  model,\n",
    "  swap_activations={tf.nn.relu: nengo.SpikingRectifiedLinear()},\n",
    "  scale_firing_rates=sfr,\n",
    "  synapse=0.005,\n",
    ")\n",
    "\n",
    "with ndl_model.net:\n",
    "  nengo_dl.configure_settings(stateful=False)\n",
    "  \n",
    "  # Probe Conv0 layer.\n",
    "  # Probing ndl_model.layers[conv0].ensemble.neurons is same as Probing ndl_model.layers[conv0]\n",
    "  conv0_lyr_otpt = nengo.Probe(ndl_model.layers[conv0].ensemble.neurons, attr=\"output\", synapse=None)\n",
    "  conv0_lyr_syn_otpt = nengo.Probe(ndl_model.layers[conv0].ensemble.neurons, attr=\"output\", synapse=0.005)"
   ]
  },
  {
   "cell_type": "code",
   "execution_count": 9,
   "id": "developing-ukraine",
   "metadata": {},
   "outputs": [],
   "source": [
    "ndl_test_images = np.tile(\n",
    "  test_images.reshape((test_images.shape[0], 1, -1)), (1, n_steps, 1))\n",
    "ndl_input = ndl_model.inputs[inp]\n",
    "ndl_output = ndl_model.outputs[dense]"
   ]
  },
  {
   "cell_type": "code",
   "execution_count": 10,
   "id": "aboriginal-making",
   "metadata": {
    "scrolled": true
   },
   "outputs": [
    {
     "name": "stdout",
     "output_type": "stream",
     "text": [
      "Build finished in 0:00:00                                                      \n",
      "Optimization finished in 0:00:00                                               \n",
      "Construction finished in 0:00:00                                               \n",
      "Constructing graph: build stage finished in 0:00:00                            \r"
     ]
    }
   ],
   "source": [
    "with nengo_dl.Simulator(\n",
    "  ndl_model.net, minibatch_size=100) as ndl_sim:\n",
    "  data1 = ndl_sim.predict({ndl_input: ndl_test_images[:200]})"
   ]
  },
  {
   "cell_type": "markdown",
   "id": "flexible-session",
   "metadata": {},
   "source": [
    "### Accuracy over first 200 test images"
   ]
  },
  {
   "cell_type": "code",
   "execution_count": 11,
   "id": "crazy-director",
   "metadata": {},
   "outputs": [
    {
     "name": "stdout",
     "output_type": "stream",
     "text": [
      "0.99\n"
     ]
    }
   ],
   "source": [
    "acc = 0\n",
    "for pred, true in zip(data1[ndl_output][:, -1, :], test_labels):\n",
    "  if np.argmax(pred) == true:\n",
    "    acc += 1\n",
    "print(acc/200)"
   ]
  },
  {
   "cell_type": "markdown",
   "id": "outer-damage",
   "metadata": {},
   "source": [
    "### Investigating raw output from Conv0 layer before multiplying with `sfr` and `dt`."
   ]
  },
  {
   "cell_type": "code",
   "execution_count": 12,
   "id": "engaging-federation",
   "metadata": {},
   "outputs": [
    {
     "data": {
      "text/plain": [
       "(200, 40, 21632)"
      ]
     },
     "execution_count": 12,
     "metadata": {},
     "output_type": "execute_result"
    }
   ],
   "source": [
    "conv0_otpt = data1[conv0_lyr_otpt]\n",
    "conv0_otpt.shape"
   ]
  },
  {
   "cell_type": "markdown",
   "id": "fancy-collective",
   "metadata": {},
   "source": [
    "Above probed output of the first Conv layer shows that the matrix `conv0_otpt` contains spike related data of first `200` images, for `40` simulation timesteps of `21632` neurons."
   ]
  },
  {
   "cell_type": "markdown",
   "id": "promising-audio",
   "metadata": {},
   "source": [
    "For a chosen test image say at index 0, not all the neurons in Conv0 layer would have spiked. Therefore choose the neurons which have spiked at least once (in any timestep) for test image at index 0."
   ]
  },
  {
   "cell_type": "code",
   "execution_count": 13,
   "id": "nasty-batch",
   "metadata": {
    "scrolled": false
   },
   "outputs": [],
   "source": [
    "test_image_index, spiked_neurons_index = 0, []\n",
    "for neuron in range(conv0_otpt.shape[-1]):\n",
    "  if np.any(conv0_otpt[test_image_index, :, neuron]):\n",
    "    spiked_neurons_index.append(neuron)"
   ]
  },
  {
   "cell_type": "markdown",
   "id": "medieval-accessory",
   "metadata": {},
   "source": [
    "For the chosen **Target** image at `test_image_index=0`, check which neurons have spiked, and choose a random number of those spiked neurons and calculate their firing rates for plotting them."
   ]
  },
  {
   "cell_type": "code",
   "execution_count": 14,
   "id": "alleged-vanilla",
   "metadata": {},
   "outputs": [
    {
     "name": "stdout",
     "output_type": "stream",
     "text": [
      "Neuron which spiked (in any timestep) for test image of digit 7 are: [12, 44, 45, 53, 60, 76, 85, 97, 108, 109, 111, 143, 149, 161, 172, 173, 204, 205, 268, 271, 301, 335, 348, 353, 364, 365, 428, 460, 463, 481, 495, 545, 559, 588, 620, 652, 655, 684, 716, 719, 725, 737, 748, 780, 783, 813, 815, 821, 844, 860, 876, 879, 908, 917, 940, 943, 961, 975, 1005, 1007, 1037, 1039, 1068, 1100, 1101, 1132, 1165, 1167, 1173, 1196, 1229, 1237, 1263, 1292, 1293, 1295, 1301, 1324, 1325, 1327, 1345, 1356, 1359, 1365, 1388, 1397, 1420, 1421, 1429, 1441, 1452, 1455, 1484, 1487, 1519, 1532, 1551, 1580, 1615, 1645, 1647, 1653, 1692, 1708, 1740, 1772, 1775, 1805, 1820, 1825, 1836, 1845, 1868, 1871, 1877, 1884, 1901, 1903, 1932, 1935, 1964, 1980, 2005, 2012, 2028, 2031, 2076, 2092, 2093, 2095, 2124, 2127, 2156, 2188, 2220, 2223, 2252, 2255, 2284, 2305, 2319, 2332, 2380, 2383, 2401, 2412, 2444, 2453, 2476, 2479, 2485, 2508, 2541, 2604, 2607, 2625, 2636, 2637, 2639, 2645, 2652, 2668, 2671, 2677, 2684, 2700, 2721, 2732, 2764, 2765, 2796, 2812, 2828, 2831, 2860, 2861, 2863, 2925, 2927, 2945, 2956, 2957, 2959, 2972, 2988, 3020, 3023, 3084, 3085, 3087, 3105, 3117, 3148, 3151, 3180, 3181, 3183, 3189, 3201, 3212, 3213, 3215, 3244, 3245, 3247, 3253, 3265, 3340, 3372, 3375, 3381, 3407, 3437, 3439, 3445, 3468, 3469, 3484, 3500, 3509, 3535, 3564, 3567, 3596, 3605, 3617, 3628, 3629, 3631, 3660, 3663, 3669, 3692, 3713, 3724, 3756, 3759, 3809, 3820, 3823, 3852, 3884, 3887, 3916, 3937, 3964, 3980, 3983, 3996, 4012, 4015, 4033, 4044, 4045, 4053, 4060, 4076, 4077, 4079, 4085, 4092, 4111, 4140, 4173, 4193, 4205, 4207, 4225, 4236, 4239, 4268, 4269, 4271, 4277, 4288, 4289, 4290, 4291, 4292, 4297, 4302, 4307, 4309, 4310, 4311, 4320, 4322, 4323, 4324, 4329, 4341, 4342, 4343, 4345, 4352, 4354, 4356, 4365, 4374, 4377, 4380, 4386, 4388, 4397, 4406, 4412, 4418, 4420, 4429, 4438, 4441, 4443, 4444, 4445, 4450, 4452, 4461, 4472, 4475, 4476, 4477, 4482, 4484, 4493, 4507, 4508, 4509, 4513, 4516, 4525, 4536, 4538, 4539, 4540, 4541, 4556, 4565, 4588, 4589, 4591, 4620, 4621, 4623, 4652, 4655, 4684, 4716, 4719, 4732, 4748, 4751, 4780, 4783, 4789, 4815, 4845, 4847, 4853, 4876, 4908, 4943, 4949, 4956, 4972, 4973, 4975, 4981, 5004, 5007, 5037, 5068, 5069, 5123, 5124, 5129, 5139, 5141, 5143, 5152, 5155, 5156, 5161, 5173, 5177, 5188, 5211, 5220, 5243, 5250, 5252, 5261, 5275, 5282, 5284, 5293, 5307, 5314, 5316, 5325, 5334, 5339, 5346, 5348, 5357, 5366, 5372, 5378, 5380, 5389, 5398, 5404, 5410, 5412, 5421, 5430, 5436, 5442, 5444, 5453, 5462, 5468, 5474, 5476, 5485, 5494, 5500, 5506, 5508, 5517, 5526, 5532, 5538, 5540, 5549, 5558, 5564, 5570, 5572, 5581, 5590, 5593, 5596, 5602, 5604, 5613, 5622, 5625, 5627, 5628, 5629, 5634, 5636, 5637, 5645, 5656, 5659, 5660, 5661, 5665, 5668, 5677, 5688, 5690, 5691, 5692, 5693, 5740, 5772, 5775, 5793, 5804, 5813, 5820, 5836, 5839, 5852, 5857, 5868, 5871, 5900, 5901, 5903, 5933, 5935, 5957, 5960, 5961, 5967, 5969, 5971, 5973, 5978, 5979, 5982, 5987, 5993, 6011, 6014, 6015, 6021, 6043, 6047, 6053, 6084, 6085, 6116, 6148, 6171, 6180, 6203, 6212, 6235, 6244, 6267, 6276, 6299, 6308, 6331, 6340, 6363, 6372, 6395, 6404, 6427, 6434, 6436, 6445, 6459, 6461, 6466, 6468, 6477, 6491, 6492, 6493, 6497, 6498, 6500, 6509, 6520, 6523, 6524, 6525, 6540, 6561, 6572, 6573, 6575, 6581, 6604, 6607, 6636, 6639, 6668, 6671, 6701, 6703, 6716, 6721, 6732, 6735, 6748, 6764, 6786, 6792, 6793, 6798, 6801, 6802, 6803, 6808, 6810, 6811, 6814, 6815, 6821, 6822, 6825, 6833, 6834, 6836, 6847, 6853, 6860, 6865, 6866, 6879, 6885, 6892, 6897, 6898, 6917, 6929, 6943, 6949, 6961, 6975, 6979, 6981, 6993, 7013, 7025, 7045, 7077, 7089, 7109, 7141, 7173, 7268, 7269, 7293, 7300, 7301, 7323, 7325, 7330, 7332, 7333, 7335, 7357, 7372, 7375, 7381, 7404, 7407, 7425, 7436, 7437, 7468, 7489, 7500, 7532, 7535, 7548, 7564, 7567, 7596, 7597, 7617, 7618, 7624, 7625, 7630, 7633, 7634, 7635, 7636, 7638, 7640, 7642, 7643, 7646, 7647, 7650, 7657, 7665, 7666, 7668, 7670, 7676, 7679, 7685, 7686, 7692, 7697, 7698, 7700, 7702, 7708, 7709, 7711, 7717, 7724, 7729, 7730, 7734, 7749, 7756, 7761, 7762, 7764, 7766, 7775, 7781, 7793, 7794, 7796, 7798, 7807, 7813, 7825, 7826, 7830, 7839, 7843, 7845, 7852, 7857, 7858, 7862, 7871, 7877, 7884, 7889, 7890, 7909, 7916, 7921, 7922, 7935, 7941, 7948, 7953, 7954, 7973, 7980, 7985, 7986, 8005, 8012, 8017, 8022, 8037, 8049, 8067, 8069, 8101, 8125, 8132, 8133, 8140, 8157, 8164, 8165, 8167, 8172, 8189, 8204, 8207, 8239, 8268, 8300, 8316, 8321, 8335, 8353, 8365, 8396, 8397, 8444, 8460, 8463, 8492, 8493, 8527, 8540, 8557, 8559, 8565, 8577, 8588, 8591, 8604, 8609, 8610, 8616, 8617, 8622, 8625, 8626, 8627, 8628, 8630, 8632, 8638, 8639, 8641, 8642, 8648, 8649, 8654, 8657, 8658, 8660, 8662, 8671, 8675, 8677, 8678, 8681, 8684, 8689, 8690, 8692, 8694, 8700, 8701, 8703, 8706, 8709, 8712, 8721, 8722, 8726, 8741, 8742, 8745, 8748, 8753, 8754, 8756, 8758, 8764, 8765, 8767, 8773, 8780, 8785, 8786, 8788, 8790, 8797, 8805, 8812, 8817, 8818, 8820, 8822, 8835, 8836, 8841, 8855, 8873, 8901, 8923, 8927, 8933, 8957, 8964, 8965, 8967, 8972, 8989, 8997, 8999, 9000, 9002, 9004, 9009, 9015, 9036, 9037, 9039, 9068, 9071, 9100, 9109, 9132, 9148, 9164, 9167, 9185, 9196, 9228, 9231, 9237, 9260, 9263, 9281, 9295, 9301, 9324, 9325, 9327, 9356, 9357, 9365, 9372, 9391, 9409, 9429, 9436, 9452, 9455, 9484, 9487, 9532, 9557, 9569, 9583, 9612, 9615, 9632, 9633, 9635, 9636, 9641, 9651, 9653, 9654, 9655, 9668, 9673, 9685, 9705, 9723, 9755, 9757, 9764, 9765, 9789, 9796, 9797, 9799, 9804, 9821, 9829, 9831, 9832, 9834, 9836, 9840, 9847, 9850, 9868, 9871, 9900, 9921, 9932, 9997, 9999, 10031, 10060, 10061, 10063, 10092, 10093, 10095, 10124, 10159, 10188, 10189, 10191, 10197, 10220, 10223, 10261, 10268, 10284, 10285, 10300, 10316, 10319, 10348, 10364, 10369, 10380, 10383, 10389, 10401, 10412, 10413, 10432, 10433, 10434, 10435, 10436, 10441, 10446, 10451, 10453, 10454, 10455, 10467, 10468, 10473, 10485, 10487, 10505, 10523, 10533, 10555, 10557, 10559, 10564, 10565, 10589, 10596, 10597, 10599, 10604, 10621, 10629, 10631, 10636, 10653, 10668, 10671, 10700, 10703, 10709, 10733, 10735, 10764, 10773, 10796, 10805, 10828, 10831, 10837, 10844, 10895, 10913, 10924, 10925, 10927, 10945, 10956, 10965, 10988, 11020, 11041, 11052, 11053, 11055, 11068, 11085, 11087, 11093, 11116, 11117, 11148, 11164, 11169, 11180, 11183, 11212, 11215, 11267, 11268, 11273, 11283, 11285, 11287, 11305, 11317, 11337, 11355, 11365, 11387, 11389, 11391, 11396, 11397, 11404, 11421, 11429, 11431, 11436, 11441, 11453, 11459, 11461, 11463, 11464, 11466, 11468, 11472, 11473, 11479, 11481, 11482, 11501, 11503, 11532, 11533, 11535, 11541, 11565, 11567, 11596, 11599, 11628, 11631, 11661, 11663, 11676, 11692, 11713, 11725, 11733, 11745, 11756, 11757, 11759, 11765, 11777, 11788, 11789, 11791, 11809, 11820, 11829, 11836, 11855, 11884, 11887, 11900, 11916, 11948, 11951, 11989, 11996, 12013, 12015, 12028, 12044, 12045, 12064, 12065, 12067, 12068, 12076, 12083, 12085, 12086, 12087, 12099, 12100, 12105, 12115, 12117, 12137, 12155, 12165, 12187, 12189, 12191, 12196, 12197, 12221, 12228, 12229, 12231, 12236, 12253, 12261, 12263, 12264, 12266, 12268, 12272, 12273, 12279, 12303, 12316, 12428, 12429, 12437, 12460, 12461, 12463, 12481, 12492, 12493, 12524, 12556, 12572, 12588, 12623, 12629, 12636, 12652, 12655, 12684, 12685, 12687, 12716, 12748, 12780, 12812, 12813, 12815, 12828, 12844, 12845, 12876, 12879, 12896, 12897, 12898, 12899, 12900, 12905, 12910, 12915, 12917, 12918, 12919, 12937, 12949, 12969, 12987, 12997, 13019, 13021, 13023, 13028, 13029, 13036, 13053, 13061, 13063, 13068, 13073, 13085, 13095, 13098, 13100, 13132, 13135, 13180, 13196, 13199, 13217, 13231, 13260, 13263, 13276, 13281, 13292, 13295, 13325, 13327, 13333, 13345, 13356, 13372, 13388, 13409, 13452, 13455, 13487, 13516, 13519, 13548, 13551, 13580, 13581, 13589, 13615, 13644, 13647, 13653, 13676, 13696, 13697, 13698, 13699, 13700, 13705, 13710, 13715, 13717, 13718, 13719, 13731, 13732, 13737, 13749, 13751, 13769, 13787, 13797, 13819, 13821, 13823, 13828, 13829, 13853, 13860, 13861, 13863, 13868, 13885, 13891, 13893, 13895, 13896, 13898, 13900, 13904, 13905, 13911, 13913, 13914, 13935, 13964, 13965, 13967, 13996, 13997, 13999, 14028, 14029, 14060, 14063, 14101, 14108, 14124, 14127, 14157, 14159, 14172, 14188, 14189, 14191, 14220, 14221, 14255, 14273, 14284, 14316, 14319, 14337, 14348, 14364, 14412, 14413, 14415, 14433, 14444, 14447, 14460, 14465, 14476, 14496, 14497, 14498, 14499, 14500, 14505, 14517, 14518, 14519, 14528, 14531, 14532, 14537, 14549, 14551, 14569, 14587, 14619, 14629, 14651, 14653, 14660, 14661, 14668, 14685, 14693, 14695, 14700, 14705, 14717, 14765, 14767, 14785, 14796, 14805, 14817, 14892, 14927, 14959, 14965, 14988, 15004, 15052, 15084, 15087, 15116, 15137, 15148, 15181, 15201, 15215, 15221, 15244, 15247, 15276, 15297, 15308, 15318, 15328, 15329, 15330, 15331, 15332, 15337, 15342, 15347, 15349, 15350, 15351, 15364, 15369, 15381, 15401, 15419, 15429, 15451, 15453, 15455, 15460, 15461, 15468, 15485, 15492, 15493, 15495, 15500, 15517, 15523, 15525, 15527, 15528, 15530, 15532, 15536, 15537, 15543, 15545, 15546, 15567, 15585, 15596, 15631, 15644, 15660, 15661, 15692, 15693, 15695, 15724, 15727, 15745, 15756, 15789, 15791, 15797, 15820, 15823, 15852, 15853, 15855, 15887, 15893, 15916, 15925, 15937, 15948, 15964, 15969, 15980, 15981, 16012, 16013, 16021, 16047, 16065, 16077, 16079, 16085, 16097, 16108, 16111, 16128, 16129, 16130, 16131, 16132, 16137, 16147, 16149, 16150, 16151, 16163, 16164, 16169, 16181, 16201, 16219, 16229, 16251, 16253, 16255, 16261, 16285, 16292, 16293, 16295, 16300, 16317, 16325, 16327, 16328, 16330, 16332, 16337, 16343, 16349, 16353, 16365, 16367, 16373, 16385, 16396, 16397, 16399, 16405, 16431, 16449, 16460, 16461, 16463, 16476, 16492, 16495, 16525, 16545, 16559, 16588, 16589, 16591, 16620, 16623, 16661, 16684, 16687, 16716, 16717, 16725, 16732, 16748, 16751, 16764, 16780, 16783, 16812, 16815, 16844, 16845, 16853, 16860, 16876, 16892, 16909, 16911, 16917, 16928, 16929, 16930, 16931, 16932, 16937, 16942, 16947, 16949, 16950, 16951, 16960, 16962, 16963, 16964, 16969, 16981, 16982, 16983, 17001, 17029, 17033, 17051, 17055, 17061, 17085, 17093, 17100, 17117, 17125, 17127, 17132, 17137, 17149, 17155, 17157, 17159, 17160, 17162, 17164, 17168, 17169, 17170, 17175, 17177, 17178, 17196, 17197, 17199, 17212, 17228, 17231, 17260, 17263, 17292, 17293, 17333, 17365, 17372, 17420, 17452, 17453, 17484, 17505, 17525, 17583, 17601, 17612, 17615, 17628, 17645, 17647, 17660, 17676, 17679, 17708, 17709, 17729, 17740, 17743, 17756, 17760, 17763, 17764, 17769, 17779, 17781, 17783, 17796, 17801, 17813, 17833, 17851, 17883, 17885, 17887, 17893, 17917, 17924, 17925, 17927, 17932, 17949, 17955, 17957, 17959, 17960, 17962, 17964, 17968, 17969, 17975, 17977, 17978, 18005, 18031, 18061, 18076, 18101, 18108, 18125, 18156, 18157, 18159, 18188, 18189, 18191, 18220, 18223, 18252, 18253, 18255, 18284, 18316, 18319, 18348, 18380, 18389, 18412, 18415, 18433, 18444, 18476, 18479, 18492, 18508, 18540, 18543, 18560, 18561, 18562, 18563, 18564, 18569, 18574, 18579, 18581, 18582, 18583, 18595, 18596, 18601, 18613, 18615, 18633, 18651, 18683, 18693, 18717, 18724, 18725, 18749, 18756, 18757, 18759, 18781, 18794, 18796, 18799, 18828, 18831, 18860, 18863, 18893, 18895, 18908, 18924, 18925, 18927, 18956, 18959, 18965, 18972, 18977, 18988, 18997, 19020, 19052, 19053, 19055, 19084, 19093, 19149, 19181, 19189, 19196, 19213, 19244, 19247, 19276, 19308, 19309, 19372, 19395, 19396, 19401, 19411, 19413, 19415, 19433, 19445, 19465, 19483, 19524, 19525, 19549, 19556, 19557, 19581, 19588, 19589, 19591, 19613, 19617, 19628, 19631, 19644, 19660, 19692, 19693, 19695, 19724, 19745, 19756, 19759, 19772, 19788, 19789, 19821, 19823, 19836, 19841, 19861, 19884, 19885, 19887, 19916, 19917, 19964, 19969, 19983, 19996, 20012, 20013, 20028, 20047, 20060, 20076, 20079, 20108, 20109, 20117, 20140, 20143, 20172, 20204, 20205, 20233, 20243, 20245, 20265, 20297, 20315, 20325, 20347, 20349, 20356, 20357, 20364, 20381, 20388, 20389, 20391, 20396, 20413, 20421, 20423, 20428, 20445, 20460, 20463, 20469, 20481, 20492, 20525, 20540, 20556, 20572, 20588, 20597, 20620, 20652, 20684, 20687, 20693, 20716, 20719, 20732, 20749, 20751, 20757, 20780, 20796, 20812, 20813, 20815, 20847, 20876, 20908, 20911, 20924, 20940, 20943, 20961, 20975, 21004, 21007, 21020, 21037, 21045, 21061, 21064, 21065, 21070, 21073, 21074, 21075, 21080, 21082, 21083, 21086, 21087, 21093, 21097, 21105, 21106, 21115, 21118, 21119, 21123, 21125, 21137, 21151, 21157, 21164, 21169, 21172, 21181, 21183, 21189, 21191, 21196, 21201, 21204, 21213, 21219, 21221, 21223, 21226, 21228, 21233, 21239, 21245, 21253, 21255, 21256, 21258, 21260, 21264, 21265, 21271, 21273, 21274, 21292, 21293, 21324, 21325, 21327, 21356, 21359, 21389, 21391, 21421, 21423, 21452, 21455, 21484, 21485, 21487, 21516, 21519, 21548, 21564, 21580, 21589]\n",
      "[ 7793  6732 17883 13095  8927  8609 18749 15148 11169 18925  4291 19415\n",
      " 20079  6993 11759 16255  7013 15495  4450  7909 16343  6636  1421  2860\n",
      " 17525  9015 18444  6500  9000  1263  8642 21233  1884 10485  8540 18757\n",
      " 20652 15855  5628  9036  1645 12969  8540  8703  7676 12636  9789  5485\n",
      " 14159 13898  7857  7618  6561  6540  7973  3937  2508  7734  6212 16147\n",
      "  9452 13028   463  8722  2093  2093 21325 11541 21169 16964 16353  8557\n",
      "  4277  4556  5250 17760 11468 16012  6540  9569  4077 14528 21391   975\n",
      "  4342 20975 12231  8649  5532 11887  1455 21125  5325  7300 17125  9764\n",
      "  7548 21421  1388  3245]\n"
     ]
    }
   ],
   "source": [
    "print(\"Neuron which spiked (in any timestep) for test image of digit %s are: %s\" \n",
    "       %(test_labels[test_image_index], spiked_neurons_index))\n",
    "# Choose 100 random neurons.\n",
    "np.random.seed(0)\n",
    "random_neurons_which_spiked = np.random.choice(spiked_neurons_index, 100)\n",
    "print(random_neurons_which_spiked)"
   ]
  },
  {
   "cell_type": "markdown",
   "id": "pressed-nursery",
   "metadata": {},
   "source": [
    "### Get the Spikes from Conv0 layer after multiplying with `sfr` and `dt` and plot the firing rates"
   ]
  },
  {
   "cell_type": "code",
   "execution_count": 15,
   "id": "liberal-sensitivity",
   "metadata": {},
   "outputs": [],
   "source": [
    "conv0_spikes_matrix = data1[conv0_lyr_otpt] * sfr * 0.001 # dt = 0.001"
   ]
  },
  {
   "cell_type": "code",
   "execution_count": 16,
   "id": "revised-satin",
   "metadata": {
    "scrolled": true
   },
   "outputs": [],
   "source": [
    "firing_rates = []\n",
    "for neuron in random_neurons_which_spiked:\n",
    "  # Calculate firing rates of the random neurons.\n",
    "  firing_rates.append(np.sum(conv0_spikes_matrix[test_image_index, :, neuron])/(n_steps * 0.001))"
   ]
  },
  {
   "cell_type": "markdown",
   "id": "boxed-afghanistan",
   "metadata": {},
   "source": [
    "### Plot the firing rates of those 100  random neurons"
   ]
  },
  {
   "cell_type": "code",
   "execution_count": 17,
   "id": "funky-repair",
   "metadata": {
    "scrolled": true
   },
   "outputs": [
    {
     "data": {
      "image/png": "[encoded data removed]",
      "text/plain": [
       "<Figure size 1152x432 with 1 Axes>"
      ]
     },
     "metadata": {
      "needs_background": "light"
     },
     "output_type": "display_data"
    }
   ],
   "source": [
    "plt.figure(1, figsize=(16, 6))\n",
    "plt.scatter([i for i in range(100)], firing_rates) # Plotting only for 100 random neurons.\n",
    "plt.xticks([i for i in range(100)], random_neurons_which_spiked, rotation=\"vertical\") # Plotting only for 100 random neurons.\n",
    "plt.xlabel(\"Neuron Indices\")\n",
    "plt.ylabel(\"Firing Rates in Hz\")\n",
    "plt.show()"
   ]
  },
  {
   "cell_type": "markdown",
   "id": "competent-congo",
   "metadata": {},
   "source": [
    "Above firing rates are of the 100 random neurons which spiked for the following image."
   ]
  },
  {
   "cell_type": "code",
   "execution_count": 18,
   "id": "brown-faculty",
   "metadata": {
    "scrolled": true
   },
   "outputs": [
    {
     "data": {
      "text/plain": [
       "<matplotlib.image.AxesImage at 0x2adaff70f110>"
      ]
     },
     "execution_count": 18,
     "metadata": {},
     "output_type": "execute_result"
    },
    {
     "data": {
      "image/png": "[encoded data removed]",
      "text/plain": [
       "<Figure size 432x288 with 1 Axes>"
      ]
     },
     "metadata": {
      "needs_background": "light"
     },
     "output_type": "display_data"
    }
   ],
   "source": [
    "plt.imshow(test_images[test_image_index])"
   ]
  },
  {
   "cell_type": "markdown",
   "id": "structured-shift",
   "metadata": {},
   "source": [
    "From the firing rate plot, from inspection I can see that few neurons spike at more than 1000Hz which ideally is not possible, a neuron can spike only once in a timestep, thus in 1000 timesteps, it can spike only for 1000 times => it's firing rate can be maximum at 1000Hz. But it doesn't happen here. Upon printing the related spikes for these neuron, you will see that it spikes more than once in a timestep, i.e. its spike amplitude is more than 1. Set the index of such a neuron in place of <set_index_here>."
   ]
  },
  {
   "cell_type": "code",
   "execution_count": 19,
   "id": "atlantic-bankruptcy",
   "metadata": {
    "scrolled": true
   },
   "outputs": [
    {
     "ename": "SyntaxError",
     "evalue": "invalid syntax (<ipython-input-19-19eaf2aeadfa>, line 1)",
     "output_type": "error",
     "traceback": [
      "\u001b[0;36m  File \u001b[0;32m\"<ipython-input-19-19eaf2aeadfa>\"\u001b[0;36m, line \u001b[0;32m1\u001b[0m\n\u001b[0;31m    firing_rates[<set_index_here>], conv0_spikes_matrix[test_image_index, :, random_neurons_which_spiked[<set_index_here>]]\u001b[0m\n\u001b[0m                 ^\u001b[0m\n\u001b[0;31mSyntaxError\u001b[0m\u001b[0;31m:\u001b[0m invalid syntax\n"
     ]
    }
   ],
   "source": [
    "firing_rates[<set_index_here>], conv0_spikes_matrix[test_image_index, :, random_neurons_which_spiked[<set_index_here>]]"
   ]
  }
 ],
 "metadata": {
  "kernelspec": {
   "display_name": "Python 3",
   "language": "python",
   "name": "python3"
  },
  "language_info": {
   "codemirror_mode": {
    "name": "ipython",
    "version": 3
   },
   "file_extension": ".py",
   "mimetype": "text/x-python",
   "name": "python",
   "nbconvert_exporter": "python",
   "pygments_lexer": "ipython3",
   "version": "3.7.7"
  }
 },
 "nbformat": 4,
 "nbformat_minor": 5
}
