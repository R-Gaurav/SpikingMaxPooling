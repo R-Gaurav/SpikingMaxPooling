{
 "cells": [
  {
   "cell_type": "code",
   "execution_count": 1,
   "id": "9cb50d39",
   "metadata": {},
   "outputs": [],
   "source": [
    "import _init_paths\n",
    "import numpy as np\n",
    "import matplotlib.pyplot as plt\n",
    "import nengo, nengo_loihi\n",
    "\n",
    "from utils.results_analysis_utils.analyse_results import get_loihi_probes_output\n",
    "from utils.base_utils.exp_utils import get_grouped_slices_2d_pooling_cl, get_grouped_slices_2d_pooling_cf"
   ]
  },
  {
   "cell_type": "markdown",
   "id": "0aa49fdb",
   "metadata": {},
   "source": [
    "# ######################################################"
   ]
  },
  {
   "cell_type": "code",
   "execution_count": 2,
   "id": "82e8453a",
   "metadata": {},
   "outputs": [],
   "source": [
    "rows, cols, chnls = 3, 3, 3\n",
    "def get_values(is_cf=False):\n",
    "  np.random.seed(0)\n",
    "  if is_cf:\n",
    "    return np.random.random((chnls, rows, cols))\n",
    "  else:\n",
    "    return np.random.random((rows, cols, chnls))"
   ]
  },
  {
   "cell_type": "code",
   "execution_count": 3,
   "id": "717dd9f4",
   "metadata": {},
   "outputs": [],
   "source": [
    "def get_max(grouped_flattened_arr):\n",
    "  ret = []\n",
    "  def _neurocore_max_over_one_channel(channel_arr):\n",
    "    nc_ret = []\n",
    "    for j in range(0, len(channel_arr), 4):\n",
    "      nc_ret.append(max(channel_arr[j : j+4]))\n",
    "    return nc_ret\n",
    "  \n",
    "  for i in range(0, len(grouped_flattened_arr), rows*cols):\n",
    "    ret.extend(_neurocore_max_over_one_channel(grouped_flattened_arr[i : i+(rows*cols)]))\n",
    "  return ret"
   ]
  },
  {
   "cell_type": "markdown",
   "id": "de05be05",
   "metadata": {},
   "source": [
    "## CHANNELS FIRST"
   ]
  },
  {
   "cell_type": "code",
   "execution_count": 90,
   "id": "f35b3acb",
   "metadata": {},
   "outputs": [
    {
     "name": "stdout",
     "output_type": "stream",
     "text": [
      "(3, 3, 3)\n",
      "[[0.5488135  0.71518937 0.60276338]\n",
      " [0.54488318 0.4236548  0.64589411]\n",
      " [0.43758721 0.891773   0.96366276]]\n",
      "********************\n",
      "[[0.38344152 0.79172504 0.52889492]\n",
      " [0.56804456 0.92559664 0.07103606]\n",
      " [0.0871293  0.0202184  0.83261985]]\n",
      "********************\n",
      "[[0.77815675 0.87001215 0.97861834]\n",
      " [0.79915856 0.46147936 0.78052918]\n",
      " [0.11827443 0.63992102 0.14335329]]\n",
      "********************\n"
     ]
    }
   ],
   "source": [
    "vals = get_values(is_cf=True)\n",
    "print(vals.shape)\n",
    "print(vals[0, :, :])\n",
    "print(\"*\"*20)\n",
    "print(vals[1, :, :])\n",
    "print(\"*\"*20)\n",
    "print(vals[2, :, :])\n",
    "print(\"*\"*20)"
   ]
  },
  {
   "cell_type": "code",
   "execution_count": 91,
   "id": "acf7e67d",
   "metadata": {},
   "outputs": [
    {
     "name": "stdout",
     "output_type": "stream",
     "text": [
      "[0.5488135  0.71518937 0.54488318 0.4236548  0.38344152 0.79172504\n",
      " 0.56804456 0.92559664 0.77815675 0.87001215 0.79915856 0.46147936]\n"
     ]
    }
   ],
   "source": [
    "grouped_slices = get_grouped_slices_2d_pooling_cf(pool_size=(2, 2), num_chnls=chnls, rows=rows, cols=cols)\n",
    "if rows%2 and cols%2:\n",
    "  rows, cols = rows - 1, cols - 1\n",
    "num_neurons = chnls * rows * cols\n",
    "print(vals.flatten()[grouped_slices[:num_neurons]])"
   ]
  },
  {
   "cell_type": "code",
   "execution_count": 92,
   "id": "49784415",
   "metadata": {},
   "outputs": [
    {
     "name": "stdout",
     "output_type": "stream",
     "text": [
      "[0.7151893663724195, 0.925596638292661, 0.8700121482468192]\n",
      "********************\n",
      "[[0.71518937]]\n",
      "********************\n",
      "[[0.92559664]]\n",
      "********************\n",
      "[[0.87001215]]\n",
      "********************\n"
     ]
    }
   ],
   "source": [
    "ret = get_max(vals.flatten()[grouped_slices[:num_neurons]])\n",
    "print(ret)\n",
    "print(\"*\"*20)\n",
    "ret_reshaped = np.array(ret).reshape(3, rows//2, cols//2)\n",
    "print(ret_reshaped[0, :, :])\n",
    "print(\"*\"*20)\n",
    "print(ret_reshaped[1, :, :])\n",
    "print(\"*\"*20)\n",
    "print(ret_reshaped[2, :, :])\n",
    "print(\"*\"*20)"
   ]
  },
  {
   "cell_type": "markdown",
   "id": "d45a957d",
   "metadata": {},
   "source": [
    "## ################## CHANNELS LAST"
   ]
  },
  {
   "cell_type": "code",
   "execution_count": 7,
   "id": "7a3fe71e",
   "metadata": {},
   "outputs": [
    {
     "name": "stdout",
     "output_type": "stream",
     "text": [
      "(3, 3, 3)\n",
      "[[0.5488135  0.54488318 0.43758721]\n",
      " [0.38344152 0.56804456 0.0871293 ]\n",
      " [0.77815675 0.79915856 0.11827443]]\n",
      "********************\n",
      "[[0.71518937 0.4236548  0.891773  ]\n",
      " [0.79172504 0.92559664 0.0202184 ]\n",
      " [0.87001215 0.46147936 0.63992102]]\n",
      "********************\n",
      "[[0.60276338 0.64589411 0.96366276]\n",
      " [0.52889492 0.07103606 0.83261985]\n",
      " [0.97861834 0.78052918 0.14335329]]\n",
      "********************\n"
     ]
    }
   ],
   "source": [
    "rows, cols, chnls = 3, 3, 3\n",
    "vals = get_values(is_cf=False)\n",
    "print(vals.shape)\n",
    "print(vals[:, :, 0])\n",
    "print(\"*\"*20)\n",
    "print(vals[:, :, 1])\n",
    "print(\"*\"*20)\n",
    "print(vals[:, :, 2])\n",
    "print(\"*\"*20)"
   ]
  },
  {
   "cell_type": "code",
   "execution_count": 8,
   "id": "e215bf0f",
   "metadata": {
    "scrolled": true
   },
   "outputs": [
    {
     "name": "stdout",
     "output_type": "stream",
     "text": [
      "[0.5488135  0.54488318 0.38344152 0.56804456 0.71518937 0.4236548\n",
      " 0.79172504 0.92559664 0.60276338 0.64589411 0.52889492 0.07103606]\n"
     ]
    }
   ],
   "source": [
    "grouped_slices_cl = get_grouped_slices_2d_pooling_cl(pool_size=(2, 2), num_chnls=chnls, rows=rows, cols=cols)\n",
    "if rows%2 and cols%2:\n",
    "  rows, cols = rows - 1, cols - 1\n",
    "num_neurons = chnls * rows * cols\n",
    "print(vals.flatten()[grouped_slices_cl[:num_neurons]])"
   ]
  },
  {
   "cell_type": "code",
   "execution_count": 9,
   "id": "89e6fee6",
   "metadata": {
    "scrolled": false
   },
   "outputs": [
    {
     "name": "stdout",
     "output_type": "stream",
     "text": [
      "[0.5680445610939323, 0.925596638292661, 0.6458941130666561]\n",
      "********************\n",
      "[[0.56804456]]\n",
      "********************\n",
      "[[0.92559664]]\n",
      "********************\n",
      "[[0.64589411]]\n",
      "********************\n"
     ]
    }
   ],
   "source": [
    "ret = get_max(vals.flatten()[grouped_slices_cl[:num_neurons]])\n",
    "print(ret)\n",
    "print(\"*\"*20)\n",
    "ret_reshaped = np.array(ret).reshape(rows//2, cols//2, 3)\n",
    "print(ret_reshaped[:, :, 0])\n",
    "print(\"*\"*20)\n",
    "print(ret_reshaped[:, :, 1])\n",
    "print(\"*\"*20)\n",
    "print(ret_reshaped[:, :, 2])\n",
    "print(\"*\"*20)"
   ]
  },
  {
   "cell_type": "markdown",
   "id": "aff90df7",
   "metadata": {},
   "source": [
    "### ##################################################################"
   ]
  },
  {
   "cell_type": "code",
   "execution_count": 267,
   "id": "44b72e64",
   "metadata": {
    "scrolled": true
   },
   "outputs": [
    {
     "name": "stdout",
     "output_type": "stream",
     "text": [
      "[ 0  1  2  3  4  5  6  7  8  9 10 11]\n",
      "[[0 3]\n",
      " [6 9]]\n",
      "[[ 1  4]\n",
      " [ 7 10]]\n",
      "[[ 2  5]\n",
      " [ 8 11]]\n"
     ]
    }
   ],
   "source": [
    "def get_reordered(N=rows*cols*chnls//4):\n",
    "  k = np.arange(N).reshape(3, 2, 2)\n",
    "  m = np.moveaxis(k, 0, -1)\n",
    "  return m.flatten()\n",
    "arr1 = np.arange(12)\n",
    "print(arr1)\n",
    "#slices_cl = get_grouped_slices_2d_pooling_cl(pool_size=(1, 1), num_chnls=3, rows=2, cols=2)\n",
    "# reordered = get_reordered()\n",
    "# arr1 = arr1[reordered]\n",
    "\n",
    "reshaped = arr1.reshape(2, 2, 3)\n",
    "print(reshaped[:, :, 0])\n",
    "print(reshaped[:, :, 1])\n",
    "print(reshaped[:, :, 2])"
   ]
  },
  {
   "cell_type": "code",
   "execution_count": 264,
   "id": "c8577e7c",
   "metadata": {},
   "outputs": [
    {
     "name": "stdout",
     "output_type": "stream",
     "text": [
      "[[ 3  7]\n",
      " [11 15]]\n"
     ]
    }
   ],
   "source": [
    "k = np.array([i for i in range(48) if i%4==3]).reshape(3, 2, 2)\n",
    "m = np.moveaxis(k, 0, -1)\n",
    "print(m.flatten().reshape(2, 2, 3)[:, :, 0])\n",
    "\n",
    "# print(np.array([i for i in range(48) if i%4==3]))\n",
    "# np.array([i for i in range(48) if i%4==3]).reshape(2, 2, 3)[:, :, 0]"
   ]
  },
  {
   "cell_type": "markdown",
   "id": "32503229",
   "metadata": {},
   "source": [
    "# #############################################################"
   ]
  },
  {
   "cell_type": "code",
   "execution_count": 39,
   "id": "2b9182b8",
   "metadata": {},
   "outputs": [
    {
     "data": {
      "text/plain": [
       "array([ 0,  1,  3,  4,  9, 10, 12, 13, 18, 19, 21, 22,  0,  0,  0,  0,  0,\n",
       "        0,  0,  0,  0,  0,  0,  0,  0,  0,  0])"
      ]
     },
     "execution_count": 39,
     "metadata": {},
     "output_type": "execute_result"
    }
   ],
   "source": [
    "grouped_slices = get_grouped_slices_2d_pooling_cf(pool_size=(2, 2), num_chnls=3, rows=3, cols=3)\n",
    "grouped_slices"
   ]
  },
  {
   "cell_type": "code",
   "execution_count": 40,
   "id": "118dd0b1",
   "metadata": {},
   "outputs": [
    {
     "data": {
      "text/plain": [
       "array([ 0,  3,  9, 12,  1,  4, 10, 13,  2,  5, 11, 14,  0,  0,  0,  0,  0,\n",
       "        0,  0,  0,  0,  0,  0,  0,  0,  0,  0])"
      ]
     },
     "execution_count": 40,
     "metadata": {},
     "output_type": "execute_result"
    }
   ],
   "source": [
    "grouped_slices = get_grouped_slices_2d_pooling_cl(pool_size=(2, 2), num_chnls=3, rows=3, cols=3)\n",
    "grouped_slices"
   ]
  },
  {
   "cell_type": "code",
   "execution_count": null,
   "id": "a33cca6b",
   "metadata": {},
   "outputs": [],
   "source": []
  }
 ],
 "metadata": {
  "kernelspec": {
   "display_name": "Python 3",
   "language": "python",
   "name": "python3"
  },
  "language_info": {
   "codemirror_mode": {
    "name": "ipython",
    "version": 3
   },
   "file_extension": ".py",
   "mimetype": "text/x-python",
   "name": "python",
   "nbconvert_exporter": "python",
   "pygments_lexer": "ipython3",
   "version": "3.8.10"
  }
 },
 "nbformat": 4,
 "nbformat_minor": 5
}
