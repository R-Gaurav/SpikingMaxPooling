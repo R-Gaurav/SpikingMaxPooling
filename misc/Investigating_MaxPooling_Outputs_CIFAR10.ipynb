{
 "cells": [
  {
   "cell_type": "code",
   "execution_count": 257,
   "id": "9cb50d39",
   "metadata": {},
   "outputs": [],
   "source": [
    "import _init_paths\n",
    "import numpy as np\n",
    "import matplotlib.pyplot as plt\n",
    "import nengo, nengo_loihi\n",
    "\n",
    "from utils.results_analysis_utils.analyse_results import get_loihi_probes_output\n",
    "from utils.base_utils.exp_utils import get_grouped_slices_2d_pooling_cl, get_grouped_slices_2d_pooling"
   ]
  },
  {
   "cell_type": "code",
   "execution_count": 2,
   "id": "30ef61c8",
   "metadata": {},
   "outputs": [],
   "source": [
    "k = np.load(\"/homes/rgaurav/spiking_investigation/experiment_outputs/mnist/model_1/nengo_loihi_otpts/\"\n",
    "           \"Layer_probes_otpt_batch_start_0_end_10.npy\", allow_pickle=True)"
   ]
  },
  {
   "cell_type": "code",
   "execution_count": 3,
   "id": "e6a9953e",
   "metadata": {},
   "outputs": [],
   "source": [
    "ret = get_loihi_probes_output(k, 50)"
   ]
  },
  {
   "cell_type": "code",
   "execution_count": 4,
   "id": "11c67eb5",
   "metadata": {},
   "outputs": [
    {
     "data": {
      "text/plain": [
       "dict_keys([None])"
      ]
     },
     "execution_count": 4,
     "metadata": {},
     "output_type": "execute_result"
    }
   ],
   "source": [
    "ret.keys()"
   ]
  },
  {
   "cell_type": "code",
   "execution_count": 6,
   "id": "9d27ba3f",
   "metadata": {},
   "outputs": [
    {
     "data": {
      "text/plain": [
       "(50, 1936)"
      ]
     },
     "execution_count": 6,
     "metadata": {},
     "output_type": "execute_result"
    }
   ],
   "source": [
    "ret[None][0].shape"
   ]
  },
  {
   "cell_type": "code",
   "execution_count": 28,
   "id": "9576f53e",
   "metadata": {},
   "outputs": [
    {
     "name": "stdout",
     "output_type": "stream",
     "text": [
      "dict_keys([None])\n",
      "<class 'list'>\n",
      "500\n",
      "(1936,)\n"
     ]
    }
   ],
   "source": [
    "d = k.item()\n",
    "print(d.keys())\n",
    "print(type(d[None]))\n",
    "l = d[None]\n",
    "print(len(l))\n",
    "print(l[0].shape)"
   ]
  },
  {
   "cell_type": "code",
   "execution_count": 24,
   "id": "685859cb",
   "metadata": {},
   "outputs": [
    {
     "name": "stdout",
     "output_type": "stream",
     "text": [
      "500\n",
      "[ 49  99 149 199 249 299 349 399 449 499]\n"
     ]
    }
   ],
   "source": [
    "print(len(d[None]))\n",
    "pres_steps = 50\n",
    "all_tsteps = np.arange(0, 500)\n",
    "end_tsteps = all_tsteps[pres_steps-1 :: pres_steps]\n",
    "print(end_tsteps)"
   ]
  },
  {
   "cell_type": "code",
   "execution_count": 27,
   "id": "a003e6f8",
   "metadata": {},
   "outputs": [
    {
     "name": "stdout",
     "output_type": "stream",
     "text": [
      "(50, 1936)\n"
     ]
    }
   ],
   "source": [
    "ret = np.zeros((pres_steps, len(l[0])))\n",
    "print(ret.shape)"
   ]
  },
  {
   "cell_type": "code",
   "execution_count": 52,
   "id": "50b3379b",
   "metadata": {
    "scrolled": true
   },
   "outputs": [
    {
     "name": "stdout",
     "output_type": "stream",
     "text": [
      "24\n",
      "25\n",
      "26\n",
      "40\n",
      "103\n",
      "104\n",
      "115\n",
      "121\n",
      "122\n",
      "132\n",
      "133\n",
      "134\n",
      "135\n",
      "136\n",
      "137\n",
      "138\n",
      "139\n",
      "140\n",
      "145\n",
      "146\n",
      "147\n",
      "148\n",
      "149\n",
      "150\n",
      "151\n",
      "152\n",
      "233\n",
      "234\n",
      "236\n",
      "237\n",
      "398\n",
      "399\n",
      "402\n",
      "426\n",
      "447\n",
      "457\n",
      "468\n",
      "486\n",
      "535\n",
      "536\n",
      "545\n",
      "546\n",
      "556\n",
      "557\n",
      "566\n",
      "567\n",
      "577\n",
      "578\n",
      "587\n",
      "588\n",
      "627\n",
      "628\n",
      "629\n",
      "630\n",
      "631\n",
      "632\n",
      "640\n",
      "641\n",
      "642\n",
      "643\n",
      "644\n",
      "645\n",
      "646\n",
      "647\n",
      "648\n",
      "658\n",
      "679\n",
      "689\n",
      "700\n",
      "710\n",
      "718\n",
      "720\n",
      "721\n",
      "751\n",
      "752\n",
      "753\n",
      "755\n",
      "858\n",
      "862\n",
      "863\n",
      "864\n",
      "865\n",
      "869\n",
      "870\n",
      "897\n",
      "907\n",
      "918\n",
      "928\n",
      "938\n",
      "939\n",
      "949\n",
      "950\n",
      "959\n",
      "992\n",
      "1006\n",
      "1007\n",
      "1008\n",
      "1009\n",
      "1050\n",
      "1071\n",
      "1082\n",
      "1091\n",
      "1092\n",
      "1093\n",
      "1109\n",
      "1110\n",
      "1122\n",
      "1123\n",
      "1124\n",
      "1125\n",
      "1126\n",
      "1127\n",
      "1128\n",
      "1129\n",
      "1134\n",
      "1135\n",
      "1136\n",
      "1137\n",
      "1138\n",
      "1159\n",
      "1162\n",
      "1180\n",
      "1183\n",
      "1192\n",
      "1193\n",
      "1194\n",
      "1250\n",
      "1251\n",
      "1261\n",
      "1262\n",
      "1271\n",
      "1272\n",
      "1282\n",
      "1292\n",
      "1293\n",
      "1303\n",
      "1313\n",
      "1344\n",
      "1371\n",
      "1372\n",
      "1382\n",
      "1383\n",
      "1503\n",
      "1513\n",
      "1514\n",
      "1523\n",
      "1524\n",
      "1534\n",
      "1544\n",
      "1545\n",
      "1554\n",
      "1555\n",
      "1565\n",
      "1566\n",
      "1595\n",
      "1596\n",
      "1597\n",
      "1598\n",
      "1606\n",
      "1607\n",
      "1608\n",
      "1609\n",
      "1610\n",
      "1611\n",
      "1686\n",
      "1687\n",
      "1816\n",
      "1817\n",
      "1818\n",
      "1828\n",
      "1829\n",
      "1830\n",
      "1831\n",
      "1832\n",
      "1833\n",
      "1834\n",
      "1842\n",
      "1843\n",
      "1844\n",
      "1845\n",
      "1846\n",
      "1850\n",
      "1861\n",
      "1862\n",
      "1863\n",
      "1889\n",
      "1910\n",
      "1920\n",
      "1931\n"
     ]
    }
   ],
   "source": [
    "arr = np.array(l[0:50])\n",
    "for i in range(1936):\n",
    "  if np.mean(arr[-10:, i]) > 0:\n",
    "    print(i)"
   ]
  },
  {
   "cell_type": "code",
   "execution_count": 7,
   "id": "e019f067",
   "metadata": {
    "scrolled": true
   },
   "outputs": [
    {
     "data": {
      "text/plain": [
       "[<matplotlib.lines.Line2D at 0x7f806dd6af70>]"
      ]
     },
     "execution_count": 7,
     "metadata": {},
     "output_type": "execute_result"
    },
    {
     "data": {
      "image/png": "[encoded data removed]",
      "text/plain": [
       "<Figure size 432x288 with 1 Axes>"
      ]
     },
     "metadata": {
      "needs_background": "light"
     },
     "output_type": "display_data"
    }
   ],
   "source": [
    "plt.plot(ret[None][0][:, 1383])"
   ]
  },
  {
   "cell_type": "code",
   "execution_count": 54,
   "id": "613b315c",
   "metadata": {},
   "outputs": [
    {
     "data": {
      "text/plain": [
       "[<matplotlib.lines.Line2D at 0x7f67b9459eb0>]"
      ]
     },
     "execution_count": 54,
     "metadata": {},
     "output_type": "execute_result"
    },
    {
     "data": {
      "image/png": "[encoded data removed]",
      "text/plain": [
       "<Figure size 432x288 with 1 Axes>"
      ]
     },
     "metadata": {
      "needs_background": "light"
     },
     "output_type": "display_data"
    }
   ],
   "source": [
    "plt.plot(arr[:, 1383])"
   ]
  },
  {
   "cell_type": "code",
   "execution_count": 15,
   "id": "c0f44a44",
   "metadata": {},
   "outputs": [
    {
     "data": {
      "text/plain": [
       "[3, 6, 9]"
      ]
     },
     "execution_count": 15,
     "metadata": {},
     "output_type": "execute_result"
    }
   ],
   "source": [
    "lst = [1, 2, 3, 4, 5, 6, 7, 8, 9]\n",
    "lst[2::3]"
   ]
  },
  {
   "cell_type": "code",
   "execution_count": 111,
   "id": "8e4fc880",
   "metadata": {},
   "outputs": [],
   "source": [
    "with nengo.Network(seed=0) as net:\n",
    "  inp = nengo.Node(1)\n",
    "  ens1 = nengo.Ensemble(1, dimensions=1, encoders=[[1]], max_rates=[250], \n",
    "                        neuron_type=nengo_loihi.neurons.LoihiSpikingRectifiedLinear())\n",
    "  ens2 = nengo.Ensemble(1, dimensions=1, encoders=[[1]], max_rates=[250],\n",
    "                       neuron_type=nengo_loihi.neurons.LoihiSpikingRectifiedLinear())\n",
    "  nengo.Connection(inp, ens1, synapse=None)\n",
    "  nengo.Connection(ens1, ens2, synapse=0.005)\n",
    "  \n",
    "  ens2_probe = nengo.Probe(ens2.neurons, attr=\"input\")\n",
    "  ens1_probe = nengo.Probe(ens1.neurons, synapse=0.005)\n",
    "  ens2_probe_otp = nengo.Probe(ens2.neurons, synapse=0.005)"
   ]
  },
  {
   "cell_type": "code",
   "execution_count": 112,
   "id": "4bbf52f7",
   "metadata": {},
   "outputs": [
    {
     "data": {
      "application/vdom.v1+json": {
       "attributes": {},
       "tagName": "div"
      },
      "text/html": [
       "\n",
       "                <script>\n",
       "                    if (Jupyter.version.split(\".\")[0] < 5) {\n",
       "                        var pb = document.getElementById(\"b271db1c-5009-456c-8378-fae4e8efaabe\");\n",
       "                        var text = document.createTextNode(\n",
       "                            \"HMTL progress bar requires Jupyter Notebook >= \" +\n",
       "                            \"5.0 or Jupyter Lab. Alternatively, you can use \" +\n",
       "                            \"TerminalProgressBar().\");\n",
       "                        pb.parentNode.insertBefore(text, pb);\n",
       "                    }\n",
       "                </script>\n",
       "                <div id=\"b271db1c-5009-456c-8378-fae4e8efaabe\" style=\"\n",
       "                    width: 100%;\n",
       "                    border: 1px solid #cfcfcf;\n",
       "                    border-radius: 4px;\n",
       "                    text-align: center;\n",
       "                    position: relative;\">\n",
       "                  <div class=\"pb-text\" style=\"\n",
       "                      position: absolute;\n",
       "                      width: 100%;\">\n",
       "                    0%\n",
       "                  </div>\n",
       "                  <div class=\"pb-fill\" style=\"\n",
       "                      background-color: #bdd2e6;\n",
       "                      width: 0%;\">\n",
       "                    <style type=\"text/css\" scoped=\"scoped\">\n",
       "                        @keyframes pb-fill-anim {\n",
       "                            0% { background-position: 0 0; }\n",
       "                            100% { background-position: 100px 0; }\n",
       "                        }\n",
       "                    </style>\n",
       "                    &nbsp;\n",
       "                  </div>\n",
       "                </div>"
      ],
      "text/plain": [
       "HtmlProgressBar cannot be displayed. Please use the TerminalProgressBar. It can be enabled with `nengo.rc['progress']['progress_bar'] = 'nengo.utils.progress.TerminalProgressBar'`."
      ]
     },
     "metadata": {},
     "output_type": "display_data"
    },
    {
     "data": {
      "application/vdom.v1+json": {
       "attributes": {
        "id": "a9c07102-b91d-420e-89be-70b3e9858d43",
        "style": {
         "border": "1px solid #cfcfcf",
         "borderRadius": "4px",
         "boxSizing": "border-box",
         "position": "relative",
         "textAlign": "center",
         "width": "100%"
        }
       },
       "children": [
        {
         "attributes": {
          "class": "pb-text",
          "style": {
           "position": "absolute",
           "width": "100%"
          }
         },
         "children": [
          "Build finished in 0:00:01."
         ],
         "tagName": "div"
        },
        {
         "attributes": {
          "class": "pb-fill",
          "style": {
           "animation": "none",
           "backgroundColor": "#bdd2e6",
           "backgroundImage": "none",
           "backgroundSize": "100px 100%",
           "width": "100%"
          }
         },
         "children": [
          {
           "attributes": {
            "scoped": "scoped",
            "type": "text/css"
           },
           "children": [
            "\n                        @keyframes pb-fill-anim {\n                            0% { background-position: 0 0; }\n                            100% { background-position: 100px 0; }\n                        }}"
           ],
           "tagName": "style"
          },
          " "
         ],
         "tagName": "div"
        }
       ],
       "tagName": "div"
      },
      "text/html": [
       "<script>\n",
       "              (function () {\n",
       "                  var root = document.getElementById('b271db1c-5009-456c-8378-fae4e8efaabe');\n",
       "                  var text = root.getElementsByClassName('pb-text')[0];\n",
       "                  var fill = root.getElementsByClassName('pb-fill')[0];\n",
       "\n",
       "                  text.innerHTML = 'Build finished in 0:00:01.';\n",
       "                  \n",
       "            fill.style.width = '100%';\n",
       "            fill.style.animation = 'pb-fill-anim 2s linear infinite';\n",
       "            fill.style.backgroundSize = '100px 100%';\n",
       "            fill.style.backgroundImage = 'repeating-linear-gradient(' +\n",
       "                '90deg, #bdd2e6, #edf2f8 40%, #bdd2e6 80%, #bdd2e6)';\n",
       "        \n",
       "                  \n",
       "                fill.style.animation = 'none';\n",
       "                fill.style.backgroundImage = 'none';\n",
       "            \n",
       "              })();\n",
       "        </script>"
      ]
     },
     "metadata": {},
     "output_type": "display_data"
    },
    {
     "data": {
      "application/vdom.v1+json": {
       "attributes": {},
       "tagName": "div"
      },
      "text/html": [
       "\n",
       "                <script>\n",
       "                    if (Jupyter.version.split(\".\")[0] < 5) {\n",
       "                        var pb = document.getElementById(\"8766e907-4c1d-4629-9ba1-ed971b4450c1\");\n",
       "                        var text = document.createTextNode(\n",
       "                            \"HMTL progress bar requires Jupyter Notebook >= \" +\n",
       "                            \"5.0 or Jupyter Lab. Alternatively, you can use \" +\n",
       "                            \"TerminalProgressBar().\");\n",
       "                        pb.parentNode.insertBefore(text, pb);\n",
       "                    }\n",
       "                </script>\n",
       "                <div id=\"8766e907-4c1d-4629-9ba1-ed971b4450c1\" style=\"\n",
       "                    width: 100%;\n",
       "                    border: 1px solid #cfcfcf;\n",
       "                    border-radius: 4px;\n",
       "                    text-align: center;\n",
       "                    position: relative;\">\n",
       "                  <div class=\"pb-text\" style=\"\n",
       "                      position: absolute;\n",
       "                      width: 100%;\">\n",
       "                    0%\n",
       "                  </div>\n",
       "                  <div class=\"pb-fill\" style=\"\n",
       "                      background-color: #bdd2e6;\n",
       "                      width: 0%;\">\n",
       "                    <style type=\"text/css\" scoped=\"scoped\">\n",
       "                        @keyframes pb-fill-anim {\n",
       "                            0% { background-position: 0 0; }\n",
       "                            100% { background-position: 100px 0; }\n",
       "                        }\n",
       "                    </style>\n",
       "                    &nbsp;\n",
       "                  </div>\n",
       "                </div>"
      ],
      "text/plain": [
       "HtmlProgressBar cannot be displayed. Please use the TerminalProgressBar. It can be enabled with `nengo.rc['progress']['progress_bar'] = 'nengo.utils.progress.TerminalProgressBar'`."
      ]
     },
     "metadata": {},
     "output_type": "display_data"
    },
    {
     "data": {
      "application/vdom.v1+json": {
       "attributes": {
        "id": "3ae61292-9931-4cc0-84ba-a6293bd32a08",
        "style": {
         "border": "1px solid #cfcfcf",
         "borderRadius": "4px",
         "boxSizing": "border-box",
         "position": "relative",
         "textAlign": "center",
         "width": "100%"
        }
       },
       "children": [
        {
         "attributes": {
          "class": "pb-text",
          "style": {
           "position": "absolute",
           "width": "100%"
          }
         },
         "children": [
          "Simulation finished in 0:00:01."
         ],
         "tagName": "div"
        },
        {
         "attributes": {
          "class": "pb-fill",
          "style": {
           "animation": "none",
           "backgroundColor": "#bdd2e6",
           "backgroundImage": "none",
           "transition": "width 0.1s linear",
           "width": "100%"
          }
         },
         "children": [
          {
           "attributes": {
            "scoped": "scoped",
            "type": "text/css"
           },
           "children": [
            "\n                        @keyframes pb-fill-anim {\n                            0% { background-position: 0 0; }\n                            100% { background-position: 100px 0; }\n                        }}"
           ],
           "tagName": "style"
          },
          " "
         ],
         "tagName": "div"
        }
       ],
       "tagName": "div"
      },
      "text/html": [
       "<script>\n",
       "              (function () {\n",
       "                  var root = document.getElementById('8766e907-4c1d-4629-9ba1-ed971b4450c1');\n",
       "                  var text = root.getElementsByClassName('pb-text')[0];\n",
       "                  var fill = root.getElementsByClassName('pb-fill')[0];\n",
       "\n",
       "                  text.innerHTML = 'Simulation finished in 0:00:01.';\n",
       "                  \n",
       "            if (100.0 > 0.) {\n",
       "                fill.style.transition = 'width 0.1s linear';\n",
       "            } else {\n",
       "                fill.style.transition = 'none';\n",
       "            }\n",
       "\n",
       "            fill.style.width = '100.0%';\n",
       "            fill.style.animation = 'none';\n",
       "            fill.style.backgroundImage = 'none'\n",
       "        \n",
       "                  \n",
       "                fill.style.animation = 'none';\n",
       "                fill.style.backgroundImage = 'none';\n",
       "            \n",
       "              })();\n",
       "        </script>"
      ]
     },
     "metadata": {},
     "output_type": "display_data"
    },
    {
     "data": {
      "text/plain": [
       "[<matplotlib.lines.Line2D at 0x7f8055d3bdf0>]"
      ]
     },
     "execution_count": 112,
     "metadata": {},
     "output_type": "execute_result"
    },
    {
     "data": {
      "image/png": "[encoded data removed]",
      "text/plain": [
       "<Figure size 432x288 with 1 Axes>"
      ]
     },
     "metadata": {
      "needs_background": "light"
     },
     "output_type": "display_data"
    }
   ],
   "source": [
    "with nengo.Simulator(net, seed=0) as sim:\n",
    "  sim.run(0.1)\n",
    "  \n",
    "#plt.plot(sim.data[ens2_probe])\n",
    "# plt.plot(sim.data[ens1_probe])\n",
    "plt.plot(sim.data[ens2_probe_otp])"
   ]
  },
  {
   "cell_type": "code",
   "execution_count": 113,
   "id": "f09d9181",
   "metadata": {},
   "outputs": [
    {
     "name": "stdout",
     "output_type": "stream",
     "text": [
      "\u001b[1;30mINFO\u001b[0m:\u001b[34mDRV\u001b[0m:  SLURM is being run in background\n",
      "\u001b[1;30mINFO\u001b[0m:\u001b[34mDRV\u001b[0m:  Connecting to 10.212.98.178:34413\n",
      "\u001b[1;30mINFO\u001b[0m:\u001b[34mDRV\u001b[0m:      Host server up..............Done 1.06s\n",
      "\u001b[1;30mINFO\u001b[0m:\u001b[34mDRV\u001b[0m:      Encoding axons/synapses.....Done 3.19ms\n",
      "\u001b[1;30mINFO\u001b[0m:\u001b[34mDRV\u001b[0m:      Compiling Embedded snips....Done 0.32s\n",
      "\u001b[1;30mINFO\u001b[0m:\u001b[34mDRV\u001b[0m:      Compiling MPDS Registers....Done 0.78ms\n",
      "\u001b[1;30mINFO\u001b[0m:\u001b[34mHST\u001b[0m:  Args chip=0 cpu=0 /homes/rgaurav/nxsdk_1_nengo_loihi/lib/python3.8/site-packages/nxsdk/driver/compilers/../../../temp/1625959074.6739228/launcher_chip0_lmt0.bin --chips=1 --remote-relay=0 \n",
      "\u001b[1;30mINFO\u001b[0m:\u001b[34mHST\u001b[0m:  Nx...\n",
      "\u001b[1;30mINFO\u001b[0m:\u001b[34mDRV\u001b[0m:      Booting up..................Done 1.13s\n",
      "\u001b[1;30mINFO\u001b[0m:\u001b[34mDRV\u001b[0m:      Encoding probes.............Done 0.71ms\n",
      "\u001b[1;30mINFO\u001b[0m:\u001b[34mDRV\u001b[0m:      Transferring probes.........Done 0.11s\n",
      "\u001b[1;30mINFO\u001b[0m:\u001b[34mDRV\u001b[0m:      Configuring registers.......Done 0.05s\n",
      "\u001b[1;30mINFO\u001b[0m:\u001b[34mDRV\u001b[0m:      Transferring spikes.........Done 8.24ms\n",
      "\u001b[1;30mINFO\u001b[0m:\u001b[34mDRV\u001b[0m:      Executing...................Done 0.02s\n",
      "\u001b[1;30mINFO\u001b[0m:\u001b[34mDRV\u001b[0m:      Processing timeseries.......Done 0.01s\n",
      "\u001b[1;30mINFO\u001b[0m:\u001b[34mDRV\u001b[0m:  Executor: 100 timesteps.........Done 0.21s\n",
      "\u001b[1;30mINFO\u001b[0m:\u001b[34mHST\u001b[0m:  chip=0 cpu=0 halted, status=0x0\n"
     ]
    }
   ],
   "source": [
    "with nengo_loihi.Simulator(net, target=\"loihi\", seed=0) as loihi_sim:\n",
    "  loihi_sim.run(0.1)"
   ]
  },
  {
   "cell_type": "code",
   "execution_count": 114,
   "id": "ce8def19",
   "metadata": {
    "scrolled": true
   },
   "outputs": [
    {
     "data": {
      "text/plain": [
       "[<matplotlib.lines.Line2D at 0x7f8055cd50a0>]"
      ]
     },
     "execution_count": 114,
     "metadata": {},
     "output_type": "execute_result"
    },
    {
     "data": {
      "image/png": "[encoded data removed]",
      "text/plain": [
       "<Figure size 432x288 with 1 Axes>"
      ]
     },
     "metadata": {
      "needs_background": "light"
     },
     "output_type": "display_data"
    }
   ],
   "source": [
    "#plt.plot(loihi_sim.data[ens2_probe])\n",
    "# plt.plot(loihi_sim.data[ens1_probe])\n",
    "plt.plot(loihi_sim.data[ens2_probe_otp])"
   ]
  },
  {
   "cell_type": "markdown",
   "id": "0aa49fdb",
   "metadata": {},
   "source": [
    "# ######################################################"
   ]
  },
  {
   "cell_type": "code",
   "execution_count": 202,
   "id": "82e8453a",
   "metadata": {},
   "outputs": [],
   "source": [
    "rows, cols, chnls = 4, 4, 3\n",
    "def get_values(is_cf=False):\n",
    "  np.random.seed(0)\n",
    "  if is_cf:\n",
    "    return np.random.random((chnls, rows, cols))\n",
    "  else:\n",
    "    return np.random.random((rows, cols, chnls))"
   ]
  },
  {
   "cell_type": "code",
   "execution_count": 213,
   "id": "717dd9f4",
   "metadata": {},
   "outputs": [],
   "source": [
    "def get_max(grouped_flattened_arr):\n",
    "  ret = []\n",
    "  def _neurocore_max_over_one_channel(channel_arr):\n",
    "    nc_ret = []\n",
    "    for j in range(0, len(channel_arr), 4):\n",
    "      nc_ret.append(max(channel_arr[j : j+4]))\n",
    "    return nc_ret\n",
    "  \n",
    "  for i in range(0, len(grouped_flattened_arr), rows*cols):\n",
    "    ret.extend(_neurocore_max_over_one_channel(grouped_flattened_arr[i : i+(rows*cols)]))\n",
    "  return ret"
   ]
  },
  {
   "cell_type": "markdown",
   "id": "de05be05",
   "metadata": {},
   "source": [
    "###### ################################################"
   ]
  },
  {
   "cell_type": "code",
   "execution_count": 214,
   "id": "f35b3acb",
   "metadata": {},
   "outputs": [
    {
     "name": "stdout",
     "output_type": "stream",
     "text": [
      "(3, 4, 4)\n",
      "[[0.5488135  0.71518937 0.60276338 0.54488318]\n",
      " [0.4236548  0.64589411 0.43758721 0.891773  ]\n",
      " [0.96366276 0.38344152 0.79172504 0.52889492]\n",
      " [0.56804456 0.92559664 0.07103606 0.0871293 ]]\n",
      "********************\n",
      "[[0.0202184  0.83261985 0.77815675 0.87001215]\n",
      " [0.97861834 0.79915856 0.46147936 0.78052918]\n",
      " [0.11827443 0.63992102 0.14335329 0.94466892]\n",
      " [0.52184832 0.41466194 0.26455561 0.77423369]]\n",
      "********************\n",
      "[[0.45615033 0.56843395 0.0187898  0.6176355 ]\n",
      " [0.61209572 0.616934   0.94374808 0.6818203 ]\n",
      " [0.3595079  0.43703195 0.6976312  0.06022547]\n",
      " [0.66676672 0.67063787 0.21038256 0.1289263 ]]\n",
      "********************\n"
     ]
    }
   ],
   "source": [
    "vals = get_values(is_cf=True)\n",
    "print(vals.shape)\n",
    "print(vals[0, :, :])\n",
    "print(\"*\"*20)\n",
    "print(vals[1, :, :])\n",
    "print(\"*\"*20)\n",
    "print(vals[2, :, :])\n",
    "print(\"*\"*20)"
   ]
  },
  {
   "cell_type": "code",
   "execution_count": 222,
   "id": "acf7e67d",
   "metadata": {},
   "outputs": [
    {
     "name": "stdout",
     "output_type": "stream",
     "text": [
      "[0.5488135  0.71518937 0.4236548  0.64589411 0.60276338 0.54488318\n",
      " 0.43758721 0.891773   0.96366276 0.38344152 0.56804456 0.92559664\n",
      " 0.79172504 0.52889492 0.07103606 0.0871293  0.0202184  0.83261985\n",
      " 0.97861834 0.79915856 0.77815675 0.87001215 0.46147936 0.78052918\n",
      " 0.11827443 0.63992102 0.52184832 0.41466194 0.14335329 0.94466892\n",
      " 0.26455561 0.77423369 0.45615033 0.56843395 0.61209572 0.616934\n",
      " 0.0187898  0.6176355  0.94374808 0.6818203  0.3595079  0.43703195\n",
      " 0.66676672 0.67063787 0.6976312  0.06022547 0.21038256 0.1289263 ]\n"
     ]
    }
   ],
   "source": [
    "grouped_slices = get_grouped_slices_2d_pooling(pool_size=(2, 2), num_chnls=chnls, rows=rows, cols=cols)\n",
    "print(vals.flatten()[grouped_slices])"
   ]
  },
  {
   "cell_type": "code",
   "execution_count": 216,
   "id": "49784415",
   "metadata": {},
   "outputs": [
    {
     "name": "stdout",
     "output_type": "stream",
     "text": [
      "[0.7151893663724195, 0.8917730007820798, 0.9636627605010293, 0.7917250380826646, 0.978618342232764, 0.8700121482468192, 0.6399210213275238, 0.9446689170495839, 0.6169339968747569, 0.9437480785146242, 0.6706378696181594, 0.6976311959272649]\n",
      "********************\n",
      "[[0.71518937 0.891773  ]\n",
      " [0.96366276 0.79172504]]\n",
      "********************\n",
      "[[0.97861834 0.87001215]\n",
      " [0.63992102 0.94466892]]\n",
      "********************\n",
      "[[0.616934   0.94374808]\n",
      " [0.67063787 0.6976312 ]]\n",
      "********************\n"
     ]
    }
   ],
   "source": [
    "grouped_slices = get_grouped_slices_2d_pooling(pool_size=(2, 2), num_chnls=chnls, rows=rows, cols=cols)\n",
    "ret = get_max(vals.flatten()[grouped_slices])\n",
    "print(ret)\n",
    "print(\"*\"*20)\n",
    "ret_reshaped = np.array(ret).reshape(3, 2, 2)\n",
    "print(ret_reshaped[0, :, :])\n",
    "print(\"*\"*20)\n",
    "print(ret_reshaped[1, :, :])\n",
    "print(\"*\"*20)\n",
    "print(ret_reshaped[2, :, :])\n",
    "print(\"*\"*20)"
   ]
  },
  {
   "cell_type": "markdown",
   "id": "d45a957d",
   "metadata": {},
   "source": [
    "## ######################################################"
   ]
  },
  {
   "cell_type": "code",
   "execution_count": 217,
   "id": "7a3fe71e",
   "metadata": {},
   "outputs": [
    {
     "name": "stdout",
     "output_type": "stream",
     "text": [
      "(4, 4, 3)\n",
      "[[0.5488135  0.54488318 0.43758721 0.38344152]\n",
      " [0.56804456 0.0871293  0.77815675 0.79915856]\n",
      " [0.11827443 0.94466892 0.26455561 0.56843395]\n",
      " [0.61209572 0.6818203  0.6976312  0.67063787]]\n",
      "********************\n",
      "[[0.71518937 0.4236548  0.891773   0.79172504]\n",
      " [0.92559664 0.0202184  0.87001215 0.46147936]\n",
      " [0.63992102 0.52184832 0.77423369 0.0187898 ]\n",
      " [0.616934   0.3595079  0.06022547 0.21038256]]\n",
      "********************\n",
      "[[0.60276338 0.64589411 0.96366276 0.52889492]\n",
      " [0.07103606 0.83261985 0.97861834 0.78052918]\n",
      " [0.14335329 0.41466194 0.45615033 0.6176355 ]\n",
      " [0.94374808 0.43703195 0.66676672 0.1289263 ]]\n",
      "********************\n"
     ]
    }
   ],
   "source": [
    "vals = get_values(is_cf=False)\n",
    "print(vals.shape)\n",
    "print(vals[:, :, 0])\n",
    "print(\"*\"*20)\n",
    "print(vals[:, :, 1])\n",
    "print(\"*\"*20)\n",
    "print(vals[:, :, 2])\n",
    "print(\"*\"*20)"
   ]
  },
  {
   "cell_type": "code",
   "execution_count": 221,
   "id": "e215bf0f",
   "metadata": {
    "scrolled": true
   },
   "outputs": [
    {
     "name": "stdout",
     "output_type": "stream",
     "text": [
      "[0.5488135  0.54488318 0.56804456 0.0871293  0.43758721 0.38344152\n",
      " 0.77815675 0.79915856 0.11827443 0.94466892 0.61209572 0.6818203\n",
      " 0.26455561 0.56843395 0.6976312  0.67063787 0.71518937 0.4236548\n",
      " 0.92559664 0.0202184  0.891773   0.79172504 0.87001215 0.46147936\n",
      " 0.63992102 0.52184832 0.616934   0.3595079  0.77423369 0.0187898\n",
      " 0.06022547 0.21038256 0.60276338 0.64589411 0.07103606 0.83261985\n",
      " 0.96366276 0.52889492 0.97861834 0.78052918 0.14335329 0.41466194\n",
      " 0.94374808 0.43703195 0.45615033 0.6176355  0.66676672 0.1289263 ]\n"
     ]
    }
   ],
   "source": [
    "grouped_slices_cl = get_grouped_slices_2d_pooling_cl(pool_size=(2, 2), num_chnls=chnls, rows=rows, cols=cols)\n",
    "print(vals.flatten()[grouped_slices_cl])"
   ]
  },
  {
   "cell_type": "code",
   "execution_count": 220,
   "id": "89e6fee6",
   "metadata": {
    "scrolled": false
   },
   "outputs": [
    {
     "name": "stdout",
     "output_type": "stream",
     "text": [
      "[0.5680445610939323, 0.7991585642167236, 0.9446689170495839, 0.6976311959272649, 0.925596638292661, 0.8917730007820798, 0.6399210213275238, 0.7742336894342167, 0.832619845547938, 0.978618342232764, 0.9437480785146242, 0.6667667154456677]\n",
      "********************\n",
      "[[0.56804456 0.6976312 ]\n",
      " [0.63992102 0.97861834]]\n",
      "********************\n",
      "[[0.79915856 0.92559664]\n",
      " [0.77423369 0.94374808]]\n",
      "********************\n",
      "[[0.94466892 0.891773  ]\n",
      " [0.83261985 0.66676672]]\n",
      "********************\n"
     ]
    }
   ],
   "source": [
    "ret = get_max(vals.flatten()[grouped_slices_cl])\n",
    "print(ret)\n",
    "print(\"*\"*20)\n",
    "ret_reshaped = np.array(ret).reshape(2, 2, 3)\n",
    "print(ret_reshaped[:, :, 0])\n",
    "print(\"*\"*20)\n",
    "print(ret_reshaped[:, :, 1])\n",
    "print(\"*\"*20)\n",
    "print(ret_reshaped[:, :, 2])\n",
    "print(\"*\"*20)"
   ]
  },
  {
   "cell_type": "markdown",
   "id": "aff90df7",
   "metadata": {},
   "source": [
    "### ##################################################################"
   ]
  },
  {
   "cell_type": "code",
   "execution_count": 267,
   "id": "44b72e64",
   "metadata": {},
   "outputs": [
    {
     "name": "stdout",
     "output_type": "stream",
     "text": [
      "[ 0  1  2  3  4  5  6  7  8  9 10 11]\n",
      "[[0 3]\n",
      " [6 9]]\n",
      "[[ 1  4]\n",
      " [ 7 10]]\n",
      "[[ 2  5]\n",
      " [ 8 11]]\n"
     ]
    }
   ],
   "source": [
    "def get_reordered(N=rows*cols*chnls//4):\n",
    "  k = np.arange(N).reshape(3, 2, 2)\n",
    "  m = np.moveaxis(k, 0, -1)\n",
    "  return m.flatten()\n",
    "arr1 = np.arange(12)\n",
    "print(arr1)\n",
    "#slices_cl = get_grouped_slices_2d_pooling_cl(pool_size=(1, 1), num_chnls=3, rows=2, cols=2)\n",
    "# reordered = get_reordered()\n",
    "# arr1 = arr1[reordered]\n",
    "\n",
    "reshaped = arr1.reshape(2, 2, 3)\n",
    "print(reshaped[:, :, 0])\n",
    "print(reshaped[:, :, 1])\n",
    "print(reshaped[:, :, 2])"
   ]
  },
  {
   "cell_type": "code",
   "execution_count": 264,
   "id": "c8577e7c",
   "metadata": {},
   "outputs": [
    {
     "name": "stdout",
     "output_type": "stream",
     "text": [
      "[[ 3  7]\n",
      " [11 15]]\n"
     ]
    }
   ],
   "source": [
    "k = np.array([i for i in range(48) if i%4==3]).reshape(3, 2, 2)\n",
    "m = np.moveaxis(k, 0, -1)\n",
    "print(m.flatten().reshape(2, 2, 3)[:, :, 0])\n",
    "\n",
    "# print(np.array([i for i in range(48) if i%4==3]))\n",
    "# np.array([i for i in range(48) if i%4==3]).reshape(2, 2, 3)[:, :, 0]"
   ]
  },
  {
   "cell_type": "markdown",
   "id": "32503229",
   "metadata": {},
   "source": [
    "# #############################################################"
   ]
  },
  {
   "cell_type": "code",
   "execution_count": 180,
   "id": "240868d3",
   "metadata": {},
   "outputs": [
    {
     "name": "stdout",
     "output_type": "stream",
     "text": [
      "(8, 26, 26)\n"
     ]
    }
   ],
   "source": [
    "rows, cols, num_chnls = 26, 26, 8\n",
    "#k = np.arange(0, rows*cols*num_chnls).reshape(num_chnls, rows, cols).flatten()\n",
    "k = np.random.random((num_chnls, rows, cols))\n",
    "m = k.reshape(num_chnls, rows, cols)\n",
    "print(m.shape)"
   ]
  },
  {
   "cell_type": "code",
   "execution_count": 168,
   "id": "f645cb9f",
   "metadata": {},
   "outputs": [
    {
     "name": "stdout",
     "output_type": "stream",
     "text": [
      "[[0.17313833 0.13117718 0.06267288 0.64108377]\n",
      " [0.437989   0.78783104 0.51785339 0.60714252]\n",
      " [0.99854721 0.1466475  0.58004056 0.80909564]\n",
      " [0.9034517  0.50164086 0.56020198 0.85764332]]\n",
      "[[0.38604298 0.69587199 0.53406522 0.64198395]\n",
      " [0.59931887 0.17289414 0.58569971 0.04321468]\n",
      " [0.07912681 0.00834245 0.53502165 0.86709175]\n",
      " [0.23846396 0.84035554 0.51790417 0.03946197]]\n"
     ]
    }
   ],
   "source": [
    "print(m[0, :, :])\n",
    "print(m[1, :, :])"
   ]
  },
  {
   "cell_type": "code",
   "execution_count": 169,
   "id": "a7fb1d50",
   "metadata": {},
   "outputs": [],
   "source": []
  },
  {
   "cell_type": "code",
   "execution_count": 170,
   "id": "188f08be",
   "metadata": {},
   "outputs": [
    {
     "data": {
      "text/plain": [
       "array([ 0,  1,  4,  5,  2,  3,  6,  7,  8,  9, 12, 13])"
      ]
     },
     "execution_count": 170,
     "metadata": {},
     "output_type": "execute_result"
    }
   ],
   "source": [
    "grouped_slices[:12]"
   ]
  },
  {
   "cell_type": "code",
   "execution_count": 172,
   "id": "f0e12976",
   "metadata": {},
   "outputs": [
    {
     "data": {
      "text/plain": [
       "array([0.17313833, 0.13117718, 0.437989  , 0.78783104, 0.06267288,\n",
       "       0.64108377, 0.51785339, 0.60714252, 0.99854721, 0.1466475 ,\n",
       "       0.9034517 , 0.50164086, 0.58004056, 0.80909564, 0.56020198,\n",
       "       0.85764332, 0.38604298, 0.69587199, 0.59931887, 0.17289414,\n",
       "       0.53406522, 0.64198395, 0.58569971, 0.04321468, 0.07912681,\n",
       "       0.00834245, 0.23846396, 0.84035554, 0.53502165, 0.86709175,\n",
       "       0.51790417, 0.03946197, 0.41209153, 0.96042105, 0.35884506,\n",
       "       0.33757144, 0.91706367, 0.53020973, 0.53991091, 0.40885014,\n",
       "       0.32116737, 0.778524  , 0.25066118, 0.11592787, 0.66602295,\n",
       "       0.91339724, 0.26744165, 0.65740226])"
      ]
     },
     "execution_count": 172,
     "metadata": {},
     "output_type": "execute_result"
    }
   ],
   "source": [
    "m.flatten()[grouped_slices]"
   ]
  },
  {
   "cell_type": "code",
   "execution_count": null,
   "id": "75a17979",
   "metadata": {},
   "outputs": [],
   "source": []
  }
 ],
 "metadata": {
  "kernelspec": {
   "display_name": "Python 3",
   "language": "python",
   "name": "python3"
  },
  "language_info": {
   "codemirror_mode": {
    "name": "ipython",
    "version": 3
   },
   "file_extension": ".py",
   "mimetype": "text/x-python",
   "name": "python",
   "nbconvert_exporter": "python",
   "pygments_lexer": "ipython3",
   "version": "3.8.10"
  }
 },
 "nbformat": 4,
 "nbformat_minor": 5
}
