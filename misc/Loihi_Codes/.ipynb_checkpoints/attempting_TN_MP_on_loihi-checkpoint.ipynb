{
 "cells": [
  {
   "cell_type": "code",
   "execution_count": 1,
   "id": "abstract-charity",
   "metadata": {},
   "outputs": [],
   "source": [
    "import numpy as np\n",
    "import nengo\n",
    "import nengo_dl\n",
    "import nengo_loihi\n",
    "import tensorflow as tf\n",
    "\n",
    "np.random.seed(0)\n",
    "tf.random.set_seed(0)"
   ]
  },
  {
   "cell_type": "code",
   "execution_count": 2,
   "id": "committed-consistency",
   "metadata": {},
   "outputs": [],
   "source": [
    "(train_images, train_labels), (test_images, test_labels) = (\n",
    "  tf.keras.datasets.mnist.load_data()\n",
    ")\n",
    "train_images, test_images = np.expand_dims(train_images, -1), np.expand_dims(test_images, -1)\n",
    "train_images, test_images = np.moveaxis(train_images, -1, 1), np.moveaxis(test_images, -1, 1)\n",
    "\n",
    "# Flatten images and add time dimension.\n",
    "train_images = train_images.reshape((train_images.shape[0], 1, -1))\n",
    "train_labels = train_labels.reshape((train_labels.shape[0], 1, -1))\n",
    "test_images = test_images.reshape((test_images.shape[0], 1, -1))\n",
    "test_labels = test_labels.reshape((test_labels.shape[0], 1, -1))"
   ]
  },
  {
   "cell_type": "markdown",
   "id": "prime-timer",
   "metadata": {},
   "source": [
    "# Create the TF Model"
   ]
  },
  {
   "cell_type": "code",
   "execution_count": 3,
   "id": "abroad-tablet",
   "metadata": {
    "scrolled": true
   },
   "outputs": [
    {
     "ename": "NameError",
     "evalue": "name 'dense1' is not defined",
     "output_type": "error",
     "traceback": [
      "\u001b[0;31m---------------------------------------------------------------------------\u001b[0m",
      "\u001b[0;31mNameError\u001b[0m                                 Traceback (most recent call last)",
      "\u001b[0;32m<ipython-input-3-a6375623e150>\u001b[0m in \u001b[0;36m<module>\u001b[0;34m\u001b[0m\n\u001b[1;32m     24\u001b[0m \u001b[0mdense\u001b[0m \u001b[0;34m=\u001b[0m \u001b[0mtf\u001b[0m\u001b[0;34m.\u001b[0m\u001b[0mkeras\u001b[0m\u001b[0;34m.\u001b[0m\u001b[0mlayers\u001b[0m\u001b[0;34m.\u001b[0m\u001b[0mDense\u001b[0m\u001b[0;34m(\u001b[0m\u001b[0;36m10\u001b[0m\u001b[0;34m,\u001b[0m \u001b[0mname\u001b[0m\u001b[0;34m=\u001b[0m\u001b[0;34m\"dense1\"\u001b[0m\u001b[0;34m)\u001b[0m\u001b[0;34m(\u001b[0m\u001b[0mdense0\u001b[0m\u001b[0;34m)\u001b[0m\u001b[0;34m\u001b[0m\u001b[0;34m\u001b[0m\u001b[0m\n\u001b[1;32m     25\u001b[0m \u001b[0;34m\u001b[0m\u001b[0m\n\u001b[0;32m---> 26\u001b[0;31m \u001b[0mmodel\u001b[0m \u001b[0;34m=\u001b[0m \u001b[0mtf\u001b[0m\u001b[0;34m.\u001b[0m\u001b[0mkeras\u001b[0m\u001b[0;34m.\u001b[0m\u001b[0mModel\u001b[0m\u001b[0;34m(\u001b[0m\u001b[0minputs\u001b[0m\u001b[0;34m=\u001b[0m\u001b[0minp\u001b[0m\u001b[0;34m,\u001b[0m \u001b[0moutputs\u001b[0m\u001b[0;34m=\u001b[0m\u001b[0mdense1\u001b[0m\u001b[0;34m)\u001b[0m\u001b[0;34m\u001b[0m\u001b[0;34m\u001b[0m\u001b[0m\n\u001b[0m\u001b[1;32m     27\u001b[0m \u001b[0mmodel\u001b[0m\u001b[0;34m.\u001b[0m\u001b[0msummary\u001b[0m\u001b[0;34m(\u001b[0m\u001b[0;34m)\u001b[0m\u001b[0;34m\u001b[0m\u001b[0;34m\u001b[0m\u001b[0m\n",
      "\u001b[0;31mNameError\u001b[0m: name 'dense1' is not defined"
     ]
    }
   ],
   "source": [
    "inp = tf.keras.Input(shape=(1, 28, 28), name=\"input\")\n",
    "\n",
    "to_spikes = tf.keras.layers.Conv2D(\n",
    "  filters=3, # 3 RGB Neurons per pixel.\n",
    "  kernel_size=(1, 1), strides=(1, 1), activation=tf.nn.relu, use_bias=False, # Default is True.\n",
    "  data_format=\"channels_first\", name=\"to-spikes\")(inp)\n",
    "\n",
    "conv0 = tf.keras.layers.Conv2D(\n",
    "  filters=8, kernel_size=(3, 3), strides=(1, 1), activation=tf.nn.relu, use_bias=False,\n",
    "  data_format=\"channels_first\", name=\"conv0\")(to_spikes)\n",
    "\n",
    "maxp0 = tf.keras.layers.MaxPool2D(\n",
    "  pool_size=(2, 2), padding=\"valid\", data_format=\"channels_first\", name=\"MaxPool0\")(conv0)\n",
    "\n",
    "conv1 = tf.keras.layers.Conv2D(\n",
    "  filters=16, kernel_size=(3, 3), strides=(1, 1), activation=tf.nn.relu, use_bias=False,\n",
    "  data_format=\"channels_first\", name=\"conv1\")(maxp0)\n",
    "\n",
    "flatten = tf.keras.layers.Flatten(name=\"flatten\")(conv1)\n",
    "dense0 = tf.keras.layers.Dense(64, activation=tf.nn.relu, name=\"dense0\")(flatten)\n",
    "\n",
    "#dense1 = tf.keras.layers.Dense(10, activation=\"softmax\", name=\"dense1\")(dense0) # Results in formation of TensorNode\n",
    "                                                                                # which isn't supported on Loihi.\n",
    "dense1 = tf.keras.layers.Dense(10, name=\"dense1\")(dense0)\n",
    "\n",
    "model = tf.keras.Model(inputs=inp, outputs=dense1)\n",
    "model.summary()"
   ]
  },
  {
   "cell_type": "markdown",
   "id": "current-practice",
   "metadata": {},
   "source": [
    "# Convert TF Model to Nengo DL Model"
   ]
  },
  {
   "cell_type": "code",
   "execution_count": null,
   "id": "conscious-apollo",
   "metadata": {},
   "outputs": [],
   "source": [
    "def _get_nengo_dl_model(is_test=False, **kwargs):\n",
    "  converter = nengo_dl.Converter(model, **kwargs)\n",
    "  if is_test:\n",
    "    #converter.net._connections[2].synapse=nengo.Lowpass(0.005)\n",
    "    for conn in converter.net._connections:\n",
    "      print(conn, conn.synapse)\n",
    "  return converter"
   ]
  },
  {
   "cell_type": "code",
   "execution_count": null,
   "id": "aboriginal-furniture",
   "metadata": {},
   "outputs": [],
   "source": [
    "def train(params_file=\"./attempting_TN_MP_loihineurons_8_16\", epochs=1, **kwargs):\n",
    "  converter = _get_nengo_dl_model(**kwargs)\n",
    "  \n",
    "  with nengo_dl.Simulator(converter.net, seed=0, minibatch_size=200) as sim:\n",
    "    sim.compile(\n",
    "      optimizer=tf.optimizers.Adam(0.001),\n",
    "      loss={\n",
    "        converter.outputs[dense1]: tf.losses.SparseCategoricalCrossentropy(from_logits=True)\n",
    "      },\n",
    "      metrics={converter.outputs[dense1]: tf.metrics.sparse_categorical_accuracy},\n",
    "    )\n",
    "    sim.fit(\n",
    "      {converter.inputs[inp]: train_images},\n",
    "      {converter.outputs[dense1]: train_labels},\n",
    "      epochs=epochs,\n",
    "    )\n",
    "    \n",
    "    # save the parameters to file.\n",
    "    sim.save_params(params_file)"
   ]
  },
  {
   "cell_type": "code",
   "execution_count": 4,
   "id": "neutral-fusion",
   "metadata": {},
   "outputs": [],
   "source": [
    "def test_network(activation, params_file=\"./attempting_TN_MP_loihineurons_8_16\", n_steps=30,\n",
    "                 scale_firing_rates=1, synapse=None, n_test=100):\n",
    "  nengo_converter = _get_nengo_dl_model(\n",
    "    is_test=True,\n",
    "    scale_firing_rates=scale_firing_rates, \n",
    "    swap_activations={tf.nn.relu: activation},\n",
    "    synapse=synapse\n",
    "  )\n",
    "  \n",
    "  tiled_test_images = np.tile(test_images[:n_test], (1, n_steps, 1))\n",
    "  # Speed up simulation.\n",
    "  with nengo_converter.net:\n",
    "    nengo_dl.configure_settings(stateful=False)\n",
    "    \n",
    "  # Build network, load in trained weights, do inference.\n",
    "  with nengo_dl.Simulator(\n",
    "      nengo_converter.net, minibatch_size=20, progress_bar=False) as sim:\n",
    "    sim.load_params(params_file)\n",
    "    data = sim.predict({nengo_converter.inputs[inp]: tiled_test_images})\n",
    "    \n",
    "  test_predictions = np.argmax(data[nengo_converter.outputs[dense1]][:, -1], axis=-1)\n",
    "  print(\"Nengo DL Test Acc: %s\" % (100 * np.mean(test_predictions == test_labels[:n_test, 0, 0])))"
   ]
  },
  {
   "cell_type": "markdown",
   "id": "cleared-tiffany",
   "metadata": {},
   "source": [
    "# Train Nengo-DL Model with `LoihiSpikingRectifiedLinear()` neurons"
   ]
  },
  {
   "cell_type": "code",
   "execution_count": 5,
   "id": "fundamental-collins",
   "metadata": {
    "scrolled": true
   },
   "outputs": [
    {
     "ename": "NameError",
     "evalue": "name 'train' is not defined",
     "output_type": "error",
     "traceback": [
      "\u001b[0;31m---------------------------------------------------------------------------\u001b[0m",
      "\u001b[0;31mNameError\u001b[0m                                 Traceback (most recent call last)",
      "\u001b[0;32m<ipython-input-5-03c410f45937>\u001b[0m in \u001b[0;36m<module>\u001b[0;34m\u001b[0m\n\u001b[0;32m----> 1\u001b[0;31m train(\n\u001b[0m\u001b[1;32m      2\u001b[0m   \u001b[0mparams_file\u001b[0m\u001b[0;34m=\u001b[0m\u001b[0;34m\"./attempting_TN_MP_loihineurons_8_16\"\u001b[0m\u001b[0;34m,\u001b[0m\u001b[0;34m\u001b[0m\u001b[0;34m\u001b[0m\u001b[0m\n\u001b[1;32m      3\u001b[0m   \u001b[0mepochs\u001b[0m\u001b[0;34m=\u001b[0m\u001b[0;36m4\u001b[0m\u001b[0;34m,\u001b[0m\u001b[0;34m\u001b[0m\u001b[0;34m\u001b[0m\u001b[0m\n\u001b[1;32m      4\u001b[0m   \u001b[0mswap_activations\u001b[0m\u001b[0;34m=\u001b[0m\u001b[0;34m{\u001b[0m\u001b[0mtf\u001b[0m\u001b[0;34m.\u001b[0m\u001b[0mnn\u001b[0m\u001b[0;34m.\u001b[0m\u001b[0mrelu\u001b[0m\u001b[0;34m:\u001b[0m \u001b[0mnengo_loihi\u001b[0m\u001b[0;34m.\u001b[0m\u001b[0mneurons\u001b[0m\u001b[0;34m.\u001b[0m\u001b[0mLoihiSpikingRectifiedLinear\u001b[0m\u001b[0;34m(\u001b[0m\u001b[0;34m)\u001b[0m\u001b[0;34m}\u001b[0m\u001b[0;34m,\u001b[0m\u001b[0;34m\u001b[0m\u001b[0;34m\u001b[0m\u001b[0m\n\u001b[1;32m      5\u001b[0m   \u001b[0mscale_firing_rates\u001b[0m\u001b[0;34m=\u001b[0m\u001b[0;36m100\u001b[0m\u001b[0;34m,\u001b[0m\u001b[0;34m\u001b[0m\u001b[0;34m\u001b[0m\u001b[0m\n",
      "\u001b[0;31mNameError\u001b[0m: name 'train' is not defined"
     ]
    }
   ],
   "source": [
    "train(\n",
    "  params_file=\"./attempting_TN_MP_loihineurons_8_16\",\n",
    "  epochs=4,\n",
    "  swap_activations={tf.nn.relu: nengo_loihi.neurons.LoihiSpikingRectifiedLinear()},\n",
    "  scale_firing_rates=100,\n",
    ")"
   ]
  },
  {
   "cell_type": "markdown",
   "id": "damaged-rwanda",
   "metadata": {},
   "source": [
    "# Test Nengo-DL Model with `LoihiSpikingRectifiedLinear()` neurons"
   ]
  },
  {
   "cell_type": "code",
   "execution_count": 14,
   "id": "radical-compromise",
   "metadata": {
    "scrolled": true
   },
   "outputs": [
    {
     "name": "stdout",
     "output_type": "stream",
     "text": [
      "<Connection from <Node \"input\"> to <Neurons of <Ensemble \"to-spikes.0\">>> None\n",
      "<Connection from <Neurons of <Ensemble \"to-spikes.0\">> to <Neurons of <Ensemble \"conv0.0\">>> Lowpass(tau=0.005)\n",
      "<Connection from <Neurons of <Ensemble \"conv0.0\">> to <TensorNode \"MaxPool0\">> None\n",
      "<Connection from <TensorNode \"MaxPool0\"> to <Neurons of <Ensemble \"conv1.0\">>> None\n",
      "<Connection from <Neurons of <Ensemble \"conv1.0\">> to <Neurons of <Ensemble \"dense0.0\">>> Lowpass(tau=0.005)\n",
      "<Connection from <Node \"dense1.0.bias\"> to <TensorNode \"dense1.0\">> None\n",
      "<Connection from <Neurons of <Ensemble \"dense0.0\">> to <TensorNode \"dense1.0\">> Lowpass(tau=0.005)\n",
      "Nengo DL Test Acc: 98.0\n"
     ]
    }
   ],
   "source": [
    "test_network(\n",
    "  activation=nengo_loihi.neurons.LoihiSpikingRectifiedLinear(),\n",
    "  scale_firing_rates=100,\n",
    "  synapse=0.005\n",
    ")"
   ]
  },
  {
   "cell_type": "markdown",
   "id": "accepted-forty",
   "metadata": {},
   "source": [
    "# Convert TF Model to NengoLoihi Model"
   ]
  },
  {
   "cell_type": "code",
   "execution_count": 15,
   "id": "vulnerable-grass",
   "metadata": {
    "scrolled": true
   },
   "outputs": [
    {
     "name": "stdout",
     "output_type": "stream",
     "text": [
      "<Connection from <Node \"input\"> to <Neurons of <Ensemble \"to-spikes.0\">>> None\n",
      "<Connection from <Neurons of <Ensemble \"to-spikes.0\">> to <Neurons of <Ensemble \"conv0.0\">>> Lowpass(tau=0.005)\n",
      "<Connection from <Neurons of <Ensemble \"conv0.0\">> to <TensorNode \"MaxPool0\">> None\n",
      "<Connection from <TensorNode \"MaxPool0\"> to <Neurons of <Ensemble \"conv1.0\">>> None\n",
      "<Connection from <Neurons of <Ensemble \"conv1.0\">> to <Neurons of <Ensemble \"dense0.0\">>> Lowpass(tau=0.005)\n",
      "<Connection from <Node \"dense1.0.bias\"> to <TensorNode \"dense1.0\">> None\n",
      "<Connection from <Neurons of <Ensemble \"dense0.0\">> to <TensorNode \"dense1.0\">> Lowpass(tau=0.005)\n",
      "Build finished in 0:00:00                                                      \n",
      "Optimization finished in 0:00:00                                               \n",
      "Construction finished in 0:00:00                                               \n"
     ]
    }
   ],
   "source": [
    "pres_time = 0.03\n",
    "n_test = 5\n",
    "\n",
    "nengo_converter_2 = _get_nengo_dl_model(\n",
    "    is_test=True,\n",
    "    scale_firing_rates=100, \n",
    "    swap_activations={tf.nn.relu: nengo_loihi.neurons.LoihiSpikingRectifiedLinear()},\n",
    "    synapse=0.005\n",
    "  )\n",
    "nengo_input_2 = nengo_converter_2.inputs[inp]\n",
    "nengo_output_2 = nengo_converter_2.outputs[dense1]\n",
    "\n",
    "net_2 = nengo_converter_2.net\n",
    "with nengo_dl.Simulator(net_2) as sim_2:\n",
    "  sim_2.load_params(\"./attempting_TN_MP_loihineurons_8_16\")\n",
    "  sim_2.freeze_params(net_2)"
   ]
  },
  {
   "cell_type": "code",
   "execution_count": 16,
   "id": "forty-seven",
   "metadata": {
    "scrolled": true
   },
   "outputs": [],
   "source": [
    "converter_layers = nengo_converter_2.model.layers"
   ]
  },
  {
   "cell_type": "code",
   "execution_count": 17,
   "id": "progressive-circuit",
   "metadata": {},
   "outputs": [
    {
     "data": {
      "text/plain": [
       "((8, 26, 26), (16, 11, 11), (64,))"
      ]
     },
     "execution_count": 17,
     "metadata": {},
     "output_type": "execute_result"
    }
   ],
   "source": [
    "conv0_shape = converter_layers[2].output.shape[1:]\n",
    "conv1_shape = converter_layers[4].output.shape[1:]\n",
    "dense0_shape = converter_layers[6].output.shape[1:]\n",
    "\n",
    "tuple(conv0_shape), tuple(conv1_shape), tuple(dense0_shape)"
   ]
  },
  {
   "cell_type": "markdown",
   "id": "impaired-greece",
   "metadata": {},
   "source": [
    "# Configure the NengoLoihi settings/block shapes, etc."
   ]
  },
  {
   "cell_type": "code",
   "execution_count": 18,
   "id": "contained-serve",
   "metadata": {},
   "outputs": [],
   "source": [
    "converter_layers = nengo_converter_2.model.layers\n",
    "with net_2:\n",
    "  nengo_input_2.output = nengo.processes.PresentInput(\n",
    "    test_images, presentation_time=pres_time\n",
    "  )\n",
    "  nengo_loihi.add_params(net_2)\n",
    "  \n",
    "  # Set the to_spikes layer Off-Chip.\n",
    "  net_2.config[nengo_converter_2.layers[to_spikes].ensemble].on_chip = False\n",
    "  # Set the maxp0 layer Off-Chip.\n",
    "  # net_2.config[nengo_converter_2.layers[maxp0].ensemble].on_chip = False\n",
    "  \n",
    "  conv0_shape = tuple(converter_layers[2].output.shape[1:])\n",
    "  conv1_shape = tuple(converter_layers[4].output.shape[1:])\n",
    "  dense0_shape = tuple(converter_layers[6].output.shape[1:])\n",
    "  \n",
    "  net_2.config[\n",
    "    nengo_converter_2.layers[conv0].ensemble\n",
    "  ].block_shape = nengo_loihi.BlockShape((4, 16, 16), conv0_shape)\n",
    "  net_2.config[nengo_converter_2.layers[conv1].ensemble].block_shape = (\n",
    "      nengo_loihi.BlockShape((8, 11, 11), conv1_shape))\n",
    "  net_2.config[nengo_converter_2.layers[dense0].ensemble].block_shape = (\n",
    "      nengo_loihi.BlockShape((32,), dense0_shape))"
   ]
  },
  {
   "cell_type": "markdown",
   "id": "invisible-morgan",
   "metadata": {},
   "source": [
    "# Build the NengoLoihi Network and Run it!"
   ]
  },
  {
   "cell_type": "code",
   "execution_count": 19,
   "id": "subtle-eligibility",
   "metadata": {
    "scrolled": true
   },
   "outputs": [
    {
     "ename": "BuildError",
     "evalue": "Conv2D transforms not supported for off-chip to on-chip connections where `pre` is not a Neurons object.",
     "output_type": "error",
     "traceback": [
      "\u001b[0;31m---------------------------------------------------------------------------\u001b[0m",
      "\u001b[0;31mBuildError\u001b[0m                                Traceback (most recent call last)",
      "\u001b[0;32m<ipython-input-19-d0f5e17803a5>\u001b[0m in \u001b[0;36m<module>\u001b[0;34m\u001b[0m\n\u001b[0;32m----> 1\u001b[0;31m \u001b[0;32mwith\u001b[0m \u001b[0mnengo_loihi\u001b[0m\u001b[0;34m.\u001b[0m\u001b[0mSimulator\u001b[0m\u001b[0;34m(\u001b[0m\u001b[0mnet_2\u001b[0m\u001b[0;34m,\u001b[0m \u001b[0mtarget\u001b[0m\u001b[0;34m=\u001b[0m\u001b[0;34m\"sim\"\u001b[0m\u001b[0;34m)\u001b[0m \u001b[0;32mas\u001b[0m \u001b[0mloihi_sim\u001b[0m\u001b[0;34m:\u001b[0m\u001b[0;34m\u001b[0m\u001b[0;34m\u001b[0m\u001b[0m\n\u001b[0m\u001b[1;32m      2\u001b[0m   \u001b[0mloihi_sim\u001b[0m\u001b[0;34m.\u001b[0m\u001b[0mrun\u001b[0m\u001b[0;34m(\u001b[0m\u001b[0mn_test\u001b[0m \u001b[0;34m*\u001b[0m \u001b[0mpres_time\u001b[0m\u001b[0;34m)\u001b[0m\u001b[0;34m\u001b[0m\u001b[0;34m\u001b[0m\u001b[0m\n\u001b[1;32m      3\u001b[0m \u001b[0;34m\u001b[0m\u001b[0m\n\u001b[1;32m      4\u001b[0m   \u001b[0;31m# get output (last timestep of each presentation period)\u001b[0m\u001b[0;34m\u001b[0m\u001b[0;34m\u001b[0m\u001b[0;34m\u001b[0m\u001b[0m\n\u001b[1;32m      5\u001b[0m   \u001b[0mpres_steps\u001b[0m \u001b[0;34m=\u001b[0m \u001b[0mint\u001b[0m\u001b[0;34m(\u001b[0m\u001b[0mround\u001b[0m\u001b[0;34m(\u001b[0m\u001b[0mpres_time\u001b[0m \u001b[0;34m/\u001b[0m \u001b[0mloihi_sim\u001b[0m\u001b[0;34m.\u001b[0m\u001b[0mdt\u001b[0m\u001b[0;34m)\u001b[0m\u001b[0;34m)\u001b[0m\u001b[0;34m\u001b[0m\u001b[0;34m\u001b[0m\u001b[0m\n",
      "\u001b[0;32m~/miniconda3/envs/latest-nengo-tf/lib/python3.7/site-packages/nengo_loihi/simulator.py\u001b[0m in \u001b[0;36m__init__\u001b[0;34m(self, network, dt, seed, model, precompute, target, progress_bar, remove_passthrough, hardware_options)\u001b[0m\n\u001b[1;32m    137\u001b[0m             \u001b[0mprecompute\u001b[0m\u001b[0;34m=\u001b[0m\u001b[0mprecompute\u001b[0m\u001b[0;34m,\u001b[0m\u001b[0;34m\u001b[0m\u001b[0;34m\u001b[0m\u001b[0m\n\u001b[1;32m    138\u001b[0m             \u001b[0mremove_passthrough\u001b[0m\u001b[0;34m=\u001b[0m\u001b[0mremove_passthrough\u001b[0m\u001b[0;34m,\u001b[0m\u001b[0;34m\u001b[0m\u001b[0;34m\u001b[0m\u001b[0m\n\u001b[0;32m--> 139\u001b[0;31m             \u001b[0mdiscretize\u001b[0m\u001b[0;34m=\u001b[0m\u001b[0mtarget\u001b[0m \u001b[0;34m!=\u001b[0m \u001b[0;34m\"simreal\"\u001b[0m\u001b[0;34m,\u001b[0m\u001b[0;34m\u001b[0m\u001b[0;34m\u001b[0m\u001b[0m\n\u001b[0m\u001b[1;32m    140\u001b[0m         )\n\u001b[1;32m    141\u001b[0m \u001b[0;34m\u001b[0m\u001b[0m\n",
      "\u001b[0;32m~/miniconda3/envs/latest-nengo-tf/lib/python3.7/site-packages/nengo_loihi/builder/builder.py\u001b[0m in \u001b[0;36mbuild\u001b[0;34m(self, obj, *args, **kwargs)\u001b[0m\n\u001b[1;32m    221\u001b[0m             \u001b[0madd_params\u001b[0m\u001b[0;34m(\u001b[0m\u001b[0mobj\u001b[0m\u001b[0;34m)\u001b[0m\u001b[0;34m\u001b[0m\u001b[0;34m\u001b[0m\u001b[0m\n\u001b[1;32m    222\u001b[0m \u001b[0;34m\u001b[0m\u001b[0m\n\u001b[0;32m--> 223\u001b[0;31m         \u001b[0mbuilt\u001b[0m \u001b[0;34m=\u001b[0m \u001b[0mmodel\u001b[0m\u001b[0;34m.\u001b[0m\u001b[0mbuilder\u001b[0m\u001b[0;34m.\u001b[0m\u001b[0mbuild\u001b[0m\u001b[0;34m(\u001b[0m\u001b[0mmodel\u001b[0m\u001b[0;34m,\u001b[0m \u001b[0mobj\u001b[0m\u001b[0;34m,\u001b[0m \u001b[0;34m*\u001b[0m\u001b[0margs\u001b[0m\u001b[0;34m,\u001b[0m \u001b[0;34m**\u001b[0m\u001b[0mkwargs\u001b[0m\u001b[0;34m)\u001b[0m\u001b[0;34m\u001b[0m\u001b[0;34m\u001b[0m\u001b[0m\n\u001b[0m\u001b[1;32m    224\u001b[0m         \u001b[0;32mif\u001b[0m \u001b[0mself\u001b[0m\u001b[0;34m.\u001b[0m\u001b[0mbuild_callback\u001b[0m \u001b[0;32mis\u001b[0m \u001b[0;32mnot\u001b[0m \u001b[0;32mNone\u001b[0m\u001b[0;34m:\u001b[0m\u001b[0;34m\u001b[0m\u001b[0;34m\u001b[0m\u001b[0m\n\u001b[1;32m    225\u001b[0m             \u001b[0mself\u001b[0m\u001b[0;34m.\u001b[0m\u001b[0mbuild_callback\u001b[0m\u001b[0;34m(\u001b[0m\u001b[0mobj\u001b[0m\u001b[0;34m)\u001b[0m\u001b[0;34m\u001b[0m\u001b[0;34m\u001b[0m\u001b[0m\n",
      "\u001b[0;32m~/miniconda3/envs/latest-nengo-tf/lib/python3.7/site-packages/nengo/builder/builder.py\u001b[0m in \u001b[0;36mbuild\u001b[0;34m(cls, model, obj, *args, **kwargs)\u001b[0m\n\u001b[1;32m    237\u001b[0m         \u001b[0;32mfor\u001b[0m \u001b[0mobj_cls\u001b[0m \u001b[0;32min\u001b[0m \u001b[0mtype\u001b[0m\u001b[0;34m(\u001b[0m\u001b[0mobj\u001b[0m\u001b[0;34m)\u001b[0m\u001b[0;34m.\u001b[0m\u001b[0m__mro__\u001b[0m\u001b[0;34m:\u001b[0m\u001b[0;34m\u001b[0m\u001b[0;34m\u001b[0m\u001b[0m\n\u001b[1;32m    238\u001b[0m             \u001b[0;32mif\u001b[0m \u001b[0mobj_cls\u001b[0m \u001b[0;32min\u001b[0m \u001b[0mcls\u001b[0m\u001b[0;34m.\u001b[0m\u001b[0mbuilders\u001b[0m\u001b[0;34m:\u001b[0m\u001b[0;34m\u001b[0m\u001b[0;34m\u001b[0m\u001b[0m\n\u001b[0;32m--> 239\u001b[0;31m                 \u001b[0;32mreturn\u001b[0m \u001b[0mcls\u001b[0m\u001b[0;34m.\u001b[0m\u001b[0mbuilders\u001b[0m\u001b[0;34m[\u001b[0m\u001b[0mobj_cls\u001b[0m\u001b[0;34m]\u001b[0m\u001b[0;34m(\u001b[0m\u001b[0mmodel\u001b[0m\u001b[0;34m,\u001b[0m \u001b[0mobj\u001b[0m\u001b[0;34m,\u001b[0m \u001b[0;34m*\u001b[0m\u001b[0margs\u001b[0m\u001b[0;34m,\u001b[0m \u001b[0;34m**\u001b[0m\u001b[0mkwargs\u001b[0m\u001b[0;34m)\u001b[0m\u001b[0;34m\u001b[0m\u001b[0;34m\u001b[0m\u001b[0m\n\u001b[0m\u001b[1;32m    240\u001b[0m \u001b[0;34m\u001b[0m\u001b[0m\n\u001b[1;32m    241\u001b[0m         \u001b[0;32mraise\u001b[0m \u001b[0mBuildError\u001b[0m\u001b[0;34m(\u001b[0m\u001b[0;34m\"Cannot build object of type %r\"\u001b[0m \u001b[0;34m%\u001b[0m \u001b[0mtype\u001b[0m\u001b[0;34m(\u001b[0m\u001b[0mobj\u001b[0m\u001b[0;34m)\u001b[0m\u001b[0;34m.\u001b[0m\u001b[0m__name__\u001b[0m\u001b[0;34m)\u001b[0m\u001b[0;34m\u001b[0m\u001b[0;34m\u001b[0m\u001b[0m\n",
      "\u001b[0;32m~/miniconda3/envs/latest-nengo-tf/lib/python3.7/site-packages/nengo_loihi/builder/network.py\u001b[0m in \u001b[0;36mbuild_network\u001b[0;34m(model, network, precompute, remove_passthrough, discretize)\u001b[0m\n\u001b[1;32m     29\u001b[0m \u001b[0;34m\u001b[0m\u001b[0m\n\u001b[1;32m     30\u001b[0m     \u001b[0;31m# Delegate most of the network building to Nengo\u001b[0m\u001b[0;34m\u001b[0m\u001b[0;34m\u001b[0m\u001b[0;34m\u001b[0m\u001b[0m\n\u001b[0;32m---> 31\u001b[0;31m     \u001b[0mnengo_build_network\u001b[0m\u001b[0;34m(\u001b[0m\u001b[0mmodel\u001b[0m\u001b[0;34m,\u001b[0m \u001b[0mnetwork\u001b[0m\u001b[0;34m,\u001b[0m \u001b[0mprogress\u001b[0m\u001b[0;34m=\u001b[0m\u001b[0;32mNone\u001b[0m\u001b[0;34m)\u001b[0m\u001b[0;34m\u001b[0m\u001b[0;34m\u001b[0m\u001b[0m\n\u001b[0m\u001b[1;32m     32\u001b[0m \u001b[0;34m\u001b[0m\u001b[0m\n\u001b[1;32m     33\u001b[0m     \u001b[0;32mif\u001b[0m \u001b[0mnetwork\u001b[0m \u001b[0;32mis\u001b[0m \u001b[0mmodel\u001b[0m\u001b[0;34m.\u001b[0m\u001b[0mtoplevel\u001b[0m\u001b[0;34m:\u001b[0m\u001b[0;34m\u001b[0m\u001b[0;34m\u001b[0m\u001b[0m\n",
      "\u001b[0;32m~/miniconda3/envs/latest-nengo-tf/lib/python3.7/site-packages/nengo/builder/network.py\u001b[0m in \u001b[0;36mbuild_network\u001b[0;34m(model, network, progress)\u001b[0m\n\u001b[1;32m     92\u001b[0m             \u001b[0;31m# TODO: Except perhaps if the connection being learned\u001b[0m\u001b[0;34m\u001b[0m\u001b[0;34m\u001b[0m\u001b[0;34m\u001b[0m\u001b[0m\n\u001b[1;32m     93\u001b[0m             \u001b[0;31m# is in a subnetwork?\u001b[0m\u001b[0;34m\u001b[0m\u001b[0;34m\u001b[0m\u001b[0;34m\u001b[0m\u001b[0m\n\u001b[0;32m---> 94\u001b[0;31m             \u001b[0mmodel\u001b[0m\u001b[0;34m.\u001b[0m\u001b[0mbuild\u001b[0m\u001b[0;34m(\u001b[0m\u001b[0mconn\u001b[0m\u001b[0;34m)\u001b[0m\u001b[0;34m\u001b[0m\u001b[0;34m\u001b[0m\u001b[0m\n\u001b[0m\u001b[1;32m     95\u001b[0m \u001b[0;34m\u001b[0m\u001b[0m\n\u001b[1;32m     96\u001b[0m         \u001b[0mlogger\u001b[0m\u001b[0;34m.\u001b[0m\u001b[0mdebug\u001b[0m\u001b[0;34m(\u001b[0m\u001b[0;34m\"Network step 4: Building probes\"\u001b[0m\u001b[0;34m)\u001b[0m\u001b[0;34m\u001b[0m\u001b[0;34m\u001b[0m\u001b[0m\n",
      "\u001b[0;32m~/miniconda3/envs/latest-nengo-tf/lib/python3.7/site-packages/nengo_loihi/builder/builder.py\u001b[0m in \u001b[0;36mbuild\u001b[0;34m(self, obj, *args, **kwargs)\u001b[0m\n\u001b[1;32m    221\u001b[0m             \u001b[0madd_params\u001b[0m\u001b[0;34m(\u001b[0m\u001b[0mobj\u001b[0m\u001b[0;34m)\u001b[0m\u001b[0;34m\u001b[0m\u001b[0;34m\u001b[0m\u001b[0m\n\u001b[1;32m    222\u001b[0m \u001b[0;34m\u001b[0m\u001b[0m\n\u001b[0;32m--> 223\u001b[0;31m         \u001b[0mbuilt\u001b[0m \u001b[0;34m=\u001b[0m \u001b[0mmodel\u001b[0m\u001b[0;34m.\u001b[0m\u001b[0mbuilder\u001b[0m\u001b[0;34m.\u001b[0m\u001b[0mbuild\u001b[0m\u001b[0;34m(\u001b[0m\u001b[0mmodel\u001b[0m\u001b[0;34m,\u001b[0m \u001b[0mobj\u001b[0m\u001b[0;34m,\u001b[0m \u001b[0;34m*\u001b[0m\u001b[0margs\u001b[0m\u001b[0;34m,\u001b[0m \u001b[0;34m**\u001b[0m\u001b[0mkwargs\u001b[0m\u001b[0;34m)\u001b[0m\u001b[0;34m\u001b[0m\u001b[0;34m\u001b[0m\u001b[0m\n\u001b[0m\u001b[1;32m    224\u001b[0m         \u001b[0;32mif\u001b[0m \u001b[0mself\u001b[0m\u001b[0;34m.\u001b[0m\u001b[0mbuild_callback\u001b[0m \u001b[0;32mis\u001b[0m \u001b[0;32mnot\u001b[0m \u001b[0;32mNone\u001b[0m\u001b[0;34m:\u001b[0m\u001b[0;34m\u001b[0m\u001b[0;34m\u001b[0m\u001b[0m\n\u001b[1;32m    225\u001b[0m             \u001b[0mself\u001b[0m\u001b[0;34m.\u001b[0m\u001b[0mbuild_callback\u001b[0m\u001b[0;34m(\u001b[0m\u001b[0mobj\u001b[0m\u001b[0;34m)\u001b[0m\u001b[0;34m\u001b[0m\u001b[0;34m\u001b[0m\u001b[0m\n",
      "\u001b[0;32m~/miniconda3/envs/latest-nengo-tf/lib/python3.7/site-packages/nengo/builder/builder.py\u001b[0m in \u001b[0;36mbuild\u001b[0;34m(cls, model, obj, *args, **kwargs)\u001b[0m\n\u001b[1;32m    237\u001b[0m         \u001b[0;32mfor\u001b[0m \u001b[0mobj_cls\u001b[0m \u001b[0;32min\u001b[0m \u001b[0mtype\u001b[0m\u001b[0;34m(\u001b[0m\u001b[0mobj\u001b[0m\u001b[0;34m)\u001b[0m\u001b[0;34m.\u001b[0m\u001b[0m__mro__\u001b[0m\u001b[0;34m:\u001b[0m\u001b[0;34m\u001b[0m\u001b[0;34m\u001b[0m\u001b[0m\n\u001b[1;32m    238\u001b[0m             \u001b[0;32mif\u001b[0m \u001b[0mobj_cls\u001b[0m \u001b[0;32min\u001b[0m \u001b[0mcls\u001b[0m\u001b[0;34m.\u001b[0m\u001b[0mbuilders\u001b[0m\u001b[0;34m:\u001b[0m\u001b[0;34m\u001b[0m\u001b[0;34m\u001b[0m\u001b[0m\n\u001b[0;32m--> 239\u001b[0;31m                 \u001b[0;32mreturn\u001b[0m \u001b[0mcls\u001b[0m\u001b[0;34m.\u001b[0m\u001b[0mbuilders\u001b[0m\u001b[0;34m[\u001b[0m\u001b[0mobj_cls\u001b[0m\u001b[0;34m]\u001b[0m\u001b[0;34m(\u001b[0m\u001b[0mmodel\u001b[0m\u001b[0;34m,\u001b[0m \u001b[0mobj\u001b[0m\u001b[0;34m,\u001b[0m \u001b[0;34m*\u001b[0m\u001b[0margs\u001b[0m\u001b[0;34m,\u001b[0m \u001b[0;34m**\u001b[0m\u001b[0mkwargs\u001b[0m\u001b[0;34m)\u001b[0m\u001b[0;34m\u001b[0m\u001b[0;34m\u001b[0m\u001b[0m\n\u001b[0m\u001b[1;32m    240\u001b[0m \u001b[0;34m\u001b[0m\u001b[0m\n\u001b[1;32m    241\u001b[0m         \u001b[0;32mraise\u001b[0m \u001b[0mBuildError\u001b[0m\u001b[0;34m(\u001b[0m\u001b[0;34m\"Cannot build object of type %r\"\u001b[0m \u001b[0;34m%\u001b[0m \u001b[0mtype\u001b[0m\u001b[0;34m(\u001b[0m\u001b[0mobj\u001b[0m\u001b[0;34m)\u001b[0m\u001b[0;34m.\u001b[0m\u001b[0m__name__\u001b[0m\u001b[0;34m)\u001b[0m\u001b[0;34m\u001b[0m\u001b[0;34m\u001b[0m\u001b[0m\n",
      "\u001b[0;32m~/miniconda3/envs/latest-nengo-tf/lib/python3.7/site-packages/nengo_loihi/builder/connection.py\u001b[0m in \u001b[0;36mbuild_connection\u001b[0;34m(model, conn)\u001b[0m\n\u001b[1;32m     80\u001b[0m             \u001b[0mbuild_host_neurons_to_chip\u001b[0m\u001b[0;34m(\u001b[0m\u001b[0mmodel\u001b[0m\u001b[0;34m,\u001b[0m \u001b[0mconn\u001b[0m\u001b[0;34m)\u001b[0m\u001b[0;34m\u001b[0m\u001b[0;34m\u001b[0m\u001b[0m\n\u001b[1;32m     81\u001b[0m         \u001b[0;32melse\u001b[0m\u001b[0;34m:\u001b[0m\u001b[0;34m\u001b[0m\u001b[0;34m\u001b[0m\u001b[0m\n\u001b[0;32m---> 82\u001b[0;31m             \u001b[0mbuild_host_to_chip\u001b[0m\u001b[0;34m(\u001b[0m\u001b[0mmodel\u001b[0m\u001b[0;34m,\u001b[0m \u001b[0mconn\u001b[0m\u001b[0;34m)\u001b[0m\u001b[0;34m\u001b[0m\u001b[0;34m\u001b[0m\u001b[0m\n\u001b[0m\u001b[1;32m     83\u001b[0m \u001b[0;34m\u001b[0m\u001b[0m\n\u001b[1;32m     84\u001b[0m     \u001b[0;32melif\u001b[0m \u001b[0mpre_onchip\u001b[0m \u001b[0;32mand\u001b[0m \u001b[0;32mnot\u001b[0m \u001b[0mpost_onchip\u001b[0m\u001b[0;34m:\u001b[0m\u001b[0;34m\u001b[0m\u001b[0;34m\u001b[0m\u001b[0m\n",
      "\u001b[0;32m~/miniconda3/envs/latest-nengo-tf/lib/python3.7/site-packages/nengo_loihi/builder/connection.py\u001b[0m in \u001b[0;36mbuild_host_to_chip\u001b[0;34m(model, conn)\u001b[0m\n\u001b[1;32m    148\u001b[0m     \u001b[0;32mif\u001b[0m \u001b[0mis_transform_type\u001b[0m\u001b[0;34m(\u001b[0m\u001b[0mconn\u001b[0m\u001b[0;34m.\u001b[0m\u001b[0mtransform\u001b[0m\u001b[0;34m,\u001b[0m \u001b[0;34m\"Convolution\"\u001b[0m\u001b[0;34m)\u001b[0m\u001b[0;34m:\u001b[0m\u001b[0;34m\u001b[0m\u001b[0;34m\u001b[0m\u001b[0m\n\u001b[1;32m    149\u001b[0m         raise BuildError(\n\u001b[0;32m--> 150\u001b[0;31m             \u001b[0;34m\"Conv2D transforms not supported for off-chip to \"\u001b[0m\u001b[0;34m\u001b[0m\u001b[0;34m\u001b[0m\u001b[0m\n\u001b[0m\u001b[1;32m    151\u001b[0m             \u001b[0;34m\"on-chip connections where `pre` is not a Neurons object.\"\u001b[0m\u001b[0;34m\u001b[0m\u001b[0;34m\u001b[0m\u001b[0m\n\u001b[1;32m    152\u001b[0m         )\n",
      "\u001b[0;31mBuildError\u001b[0m: Conv2D transforms not supported for off-chip to on-chip connections where `pre` is not a Neurons object."
     ]
    }
   ],
   "source": [
    "with nengo_loihi.Simulator(net_2, target=\"sim\") as loihi_sim:\n",
    "  loihi_sim.run(n_test * pres_time)\n",
    "  \n",
    "  # get output (last timestep of each presentation period)\n",
    "  pres_steps = int(round(pres_time / loihi_sim.dt))\n",
    "  output = loihi_sim.data[nengo_output_2][pres_steps - 1 :: pres_steps]\n",
    "  \n",
    "  # compute Loihi accuracy\n",
    "  loihi_predictions = np.argmax(output, axis=-1)\n",
    "  correct = 100 * np.mean(loihi_predictions == test_labels[:n_test, 0, 0])\n",
    "  print(\"Nengo Loihi Accuracy: %s\" % correct)"
   ]
  },
  {
   "cell_type": "code",
   "execution_count": 17,
   "id": "communist-fortune",
   "metadata": {},
   "outputs": [
    {
     "data": {
      "text/plain": [
       "['AlphaRCNoise',\n",
       " 'Choice',\n",
       " 'HAS_TF',\n",
       " 'LIF',\n",
       " 'LIFRate',\n",
       " 'LoihiLIF',\n",
       " 'LoihiSpikingRectifiedLinear',\n",
       " 'LowpassRCNoise',\n",
       " 'NeuronOutputNoise',\n",
       " 'RectifiedLinear',\n",
       " 'RegularSpiking',\n",
       " 'SpikingRectifiedLinear',\n",
       " '__builtins__',\n",
       " '__cached__',\n",
       " '__doc__',\n",
       " '__file__',\n",
       " '__loader__',\n",
       " '__name__',\n",
       " '__package__',\n",
       " '__spec__',\n",
       " '_broadcast_rates_inputs',\n",
       " '_install_dl_builders',\n",
       " 'discretize_tau_rc',\n",
       " 'discretize_tau_ref',\n",
       " 'loihi_lif_rates',\n",
       " 'loihi_rate_functions',\n",
       " 'loihi_rates',\n",
       " 'loihi_regularspiking_rates',\n",
       " 'loihi_spikingrectifiedlinear_rates',\n",
       " 'nengo_rates',\n",
       " 'np',\n",
       " 'tf']"
      ]
     },
     "execution_count": 17,
     "metadata": {},
     "output_type": "execute_result"
    }
   ],
   "source": [
    "dir(nengo_loihi.neurons)"
   ]
  },
  {
   "cell_type": "code",
   "execution_count": null,
   "id": "numeric-transportation",
   "metadata": {},
   "outputs": [],
   "source": []
  }
 ],
 "metadata": {
  "kernelspec": {
   "display_name": "Python 3",
   "language": "python",
   "name": "python3"
  },
  "language_info": {
   "codemirror_mode": {
    "name": "ipython",
    "version": 3
   },
   "file_extension": ".py",
   "mimetype": "text/x-python",
   "name": "python",
   "nbconvert_exporter": "python",
   "pygments_lexer": "ipython3",
   "version": "3.7.7"
  }
 },
 "nbformat": 4,
 "nbformat_minor": 5
}
