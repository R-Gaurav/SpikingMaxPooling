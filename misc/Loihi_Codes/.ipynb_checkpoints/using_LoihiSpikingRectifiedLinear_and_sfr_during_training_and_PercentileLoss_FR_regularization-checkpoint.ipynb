{
 "cells": [
  {
   "cell_type": "markdown",
   "id": "environmental-sacrifice",
   "metadata": {},
   "source": [
    "### With `scale_firing_rates` during training, and with `LoihiSpikingRectifiedLinear()` but  with Percentile Loss firing rate regularization"
   ]
  },
  {
   "cell_type": "markdown",
   "id": "killing-rebel",
   "metadata": {},
   "source": [
    "Do not set `amplitude` and `max_rates` as you are not creating `Ensembles` from scratch, rather, converting a trained TF Model."
   ]
  },
  {
   "cell_type": "code",
   "execution_count": 1,
   "id": "theoretical-bicycle",
   "metadata": {},
   "outputs": [],
   "source": [
    "import numpy as np\n",
    "import nengo\n",
    "import nengo_dl\n",
    "import nengo_loihi\n",
    "import tensorflow as tf\n",
    "import matplotlib.pyplot as plt\n",
    "import tensorflow_probability as tfp\n",
    "\n",
    "from nengo.utils.matplotlib import rasterplot\n",
    "\n",
    "np.random.seed(0)\n",
    "tf.random.set_seed(0)"
   ]
  },
  {
   "cell_type": "markdown",
   "id": "ordinary-conference",
   "metadata": {},
   "source": [
    "# Get the dataset"
   ]
  },
  {
   "cell_type": "code",
   "execution_count": 2,
   "id": "pharmaceutical-concern",
   "metadata": {},
   "outputs": [],
   "source": [
    "(train_images, train_labels), (test_images, test_labels) = (\n",
    "  tf.keras.datasets.mnist.load_data()\n",
    ")\n",
    "# Make it channels_first.\n",
    "train_images, test_images = np.expand_dims(train_images, -1), np.expand_dims(test_images, -1)\n",
    "train_images, test_images = np.moveaxis(train_images, -1, 1), np.moveaxis(test_images, -1, 1)\n",
    "\n",
    "# Flatten images and add time dimension.\n",
    "train_images = train_images.reshape((train_images.shape[0], 1, -1))\n",
    "train_labels = train_labels.reshape((train_labels.shape[0], 1, -1))\n",
    "test_images = test_images.reshape((test_images.shape[0], 1, -1))\n",
    "test_labels = test_labels.reshape((test_labels.shape[0], 1, -1))"
   ]
  },
  {
   "cell_type": "markdown",
   "id": "other-parent",
   "metadata": {},
   "source": [
    "# Design the TF Model"
   ]
  },
  {
   "cell_type": "code",
   "execution_count": 3,
   "id": "found-artwork",
   "metadata": {
    "scrolled": false
   },
   "outputs": [
    {
     "name": "stdout",
     "output_type": "stream",
     "text": [
      "Model: \"model\"\n",
      "_________________________________________________________________\n",
      "Layer (type)                 Output Shape              Param #   \n",
      "=================================================================\n",
      "input (InputLayer)           [(None, 1, 28, 28)]       0         \n",
      "_________________________________________________________________\n",
      "to-spikes (Conv2D)           (None, 3, 28, 28)         3         \n",
      "_________________________________________________________________\n",
      "conv0 (Conv2D)               (None, 8, 26, 26)         216       \n",
      "_________________________________________________________________\n",
      "conv1 (Conv2D)               (None, 16, 24, 24)        1152      \n",
      "_________________________________________________________________\n",
      "max_pooling2d (MaxPooling2D) (None, 16, 12, 12)        0         \n",
      "_________________________________________________________________\n",
      "conv2 (Conv2D)               (None, 24, 10, 10)        3456      \n",
      "_________________________________________________________________\n",
      "conv3 (Conv2D)               (None, 24, 8, 8)          5184      \n",
      "_________________________________________________________________\n",
      "max_pooling2d_1 (MaxPooling2 (None, 24, 4, 4)          0         \n",
      "_________________________________________________________________\n",
      "conv4 (Conv2D)               (None, 32, 2, 2)          6912      \n",
      "_________________________________________________________________\n",
      "flatten (Flatten)            (None, 128)               0         \n",
      "_________________________________________________________________\n",
      "dense0 (Dense)               (None, 64)                8256      \n",
      "_________________________________________________________________\n",
      "dense1 (Dense)               (None, 10)                650       \n",
      "=================================================================\n",
      "Total params: 25,829\n",
      "Trainable params: 25,829\n",
      "Non-trainable params: 0\n",
      "_________________________________________________________________\n"
     ]
    }
   ],
   "source": [
    "inp = tf.keras.Input(shape=(1, 28, 28), name=\"input\")\n",
    "\n",
    "to_spikes = tf.keras.layers.Conv2D(\n",
    "  filters=3, # 3 RGB Neurons per pixel.\n",
    "  kernel_size=(1, 1), strides=(1, 1), activation=tf.nn.relu, use_bias=False, # Default is True.\n",
    "  data_format=\"channels_first\", name=\"to-spikes\")(inp)\n",
    "\n",
    "conv0 = tf.keras.layers.Conv2D(\n",
    "  filters=8, kernel_size=(3, 3), strides=(1, 1), activation=tf.nn.relu, use_bias=False,\n",
    "  data_format=\"channels_first\", name=\"conv0\")(to_spikes)\n",
    "\n",
    "conv1 = tf.keras.layers.Conv2D(\n",
    "  filters=16, kernel_size=(3, 3), strides=(1, 1), activation=tf.nn.relu, use_bias=False,\n",
    "  data_format=\"channels_first\", name=\"conv1\")(conv0)\n",
    "\n",
    "max_pool = tf.keras.layers.MaxPool2D(\n",
    "  pool_size=(2, 2), data_format=\"channels_first\"\n",
    ")(conv1)\n",
    "\n",
    "conv2 = tf.keras.layers.Conv2D(\n",
    "  filters=24, kernel_size=(3, 3), strides=(1, 1), activation=tf.nn.relu, use_bias=False,\n",
    "  data_format=\"channels_first\", name=\"conv2\")(max_pool)\n",
    "\n",
    "conv3 = tf.keras.layers.Conv2D(\n",
    "  filters=24, kernel_size=(3, 3), strides=(1, 1), activation=tf.nn.relu, use_bias=False,\n",
    "  data_format=\"channels_first\", name=\"conv3\")(conv2)\n",
    "\n",
    "max_pool1 = tf.keras.layers.MaxPool2D(\n",
    "  pool_size=(2, 2), data_format=\"channels_first\"\n",
    ")(conv3)\n",
    "\n",
    "conv4 = tf.keras.layers.Conv2D(\n",
    "  filters=32, kernel_size=(3, 3), strides=(1, 1), activation=tf.nn.relu, use_bias=False,\n",
    "  data_format=\"channels_first\", name=\"conv4\")(max_pool1)\n",
    "\n",
    "flatten = tf.keras.layers.Flatten(name=\"flatten\")(conv4)\n",
    "dense0 = tf.keras.layers.Dense(64, activation=tf.nn.relu, name=\"dense0\")(flatten)\n",
    "\n",
    "dense1 = tf.keras.layers.Dense(10, name=\"dense1\")(dense0)\n",
    "\n",
    "model = tf.keras.Model(inputs=inp, outputs=dense1)\n",
    "model.summary()"
   ]
  },
  {
   "cell_type": "code",
   "execution_count": 4,
   "id": "thirty-buying",
   "metadata": {},
   "outputs": [],
   "source": [
    "def _get_nengo_dl_model(set_probes=True, **kwargs):\n",
    "  converter = nengo_dl.Converter(model, **kwargs)\n",
    "  lyr_probes = []\n",
    "  if set_probes:\n",
    "    with converter.net:\n",
    "      probe_conv0 = nengo.Probe(converter.layers[conv0])\n",
    "      probe_conv1 = nengo.Probe(converter.layers[conv1])\n",
    "      probe_dense0 = nengo.Probe(converter.layers[dense0])\n",
    "      lyr_probes.extend([probe_conv0, probe_conv1, probe_dense0])\n",
    "    \n",
    "    # Follwing two lines doesn't help.\n",
    "    #converter.net.config[nengo.Ensemble].max_rates = nengo.dists.Choice([150]) # max_rate=150\n",
    "    #converter.net.config[nengo.Ensemble].intercepts = nengo.dists.Choice([0])\n",
    "   \n",
    "  # Since gains and biases have already been set in the `nengo_dl.Converter()` Following code throws the warning:\n",
    "  # \"NengoWarning: Specifying the gains and biases for <Ensemble \"dense0.0\"> imposes a set of maximum firing rates \n",
    "  # and intercepts. Further specifying either max_rates or intercepts has no effect.\"\n",
    "#   for ens in converter.net.ensembles:\n",
    "#     ens.max_rates = nengo.dists.Choice([150])\n",
    "#     print(\"RG: Ensemble label: %s, Neuron Type: %s, MaxRates: %s\" % (ens.label, ens.neuron_type, ens.max_rates))\n",
    "  return converter, lyr_probes\n",
    "\n",
    "def percentile_l2_loss_range(\n",
    "    y_true, y, sample_weight=None, min_rate=0, max_rate=1, percentile=99.9):\n",
    "  # y axes are (batch examples, time (==1), neurons)\n",
    "  assert len(y.shape) == 3\n",
    "  rates = tfp.stats.percentile(y, percentile, axis=(0, 1))\n",
    "  low_error = tf.maximum(0.0, min_rate - rates)\n",
    "  high_error = tf.maximum(0.0, rates - max_rate)\n",
    "  loss = tf.nn.l2_loss(low_error + high_error)\n",
    "  print(\"percentile_l2_loss_range Function Called.\")\n",
    "  return (sample_weight * loss) if sample_weight is not None else loss\n",
    "\n",
    "def rate_metric(_, outputs):\n",
    "  # take percentile over all examples, for each neuron\n",
    "  top_rates = tfp.stats.percentile(outputs, 99.9, axis=(0, 1)) # percentile = 99.9\n",
    "  return tf.reduce_mean(top_rates) / (1/150) # amp = 1/150"
   ]
  },
  {
   "cell_type": "markdown",
   "id": "informative-hello",
   "metadata": {},
   "source": [
    "# Train the model and save the Params"
   ]
  },
  {
   "cell_type": "code",
   "execution_count": 5,
   "id": "choice-frame",
   "metadata": {
    "scrolled": false
   },
   "outputs": [
    {
     "name": "stdout",
     "output_type": "stream",
     "text": [
      "|####                  Building network (7%)                     | ETA: 0:00:01"
     ]
    },
    {
     "name": "stderr",
     "output_type": "stream",
     "text": [
      "/home/rgaurav/miniconda3/envs/latest-nengo-tf/lib/python3.7/site-packages/nengo_dl/converter.py:326: UserWarning: Cannot convert max pooling layers to native Nengo objects; consider setting max_to_avg_pool=True to use average pooling instead. Falling back to TensorNode.\n",
      "  % (error_msg + \". \" if error_msg else \"\")\n"
     ]
    },
    {
     "name": "stdout",
     "output_type": "stream",
     "text": [
      "Build finished in 0:00:00                                                      \n",
      "Optimization finished in 0:00:00                                               \n",
      "Construction finished in 0:00:00                                               \n",
      "Epoch 1/6\n",
      "300/300 [==============================] - 4s 13ms/step - loss: 0.3509 - probe_loss: 0.3509 - probe_accuracy: 0.8906\n",
      "Epoch 2/6\n",
      "300/300 [==============================] - 4s 12ms/step - loss: 0.0995 - probe_loss: 0.0995 - probe_accuracy: 0.9689\n",
      "Epoch 3/6\n",
      "300/300 [==============================] - 4s 12ms/step - loss: 0.0694 - probe_loss: 0.0694 - probe_accuracy: 0.9786\n",
      "Epoch 4/6\n",
      "300/300 [==============================] - 4s 12ms/step - loss: 0.0577 - probe_loss: 0.0577 - probe_accuracy: 0.9819\n",
      "Epoch 5/6\n",
      "300/300 [==============================] - 4s 12ms/step - loss: 0.0586 - probe_loss: 0.0586 - probe_accuracy: 0.9823\n",
      "Epoch 6/6\n",
      "300/300 [==============================] - 4s 12ms/step - loss: 0.0515 - probe_loss: 0.0515 - probe_accuracy: 0.9841\n",
      "[50. 50. 50. 50. 50. 50. 50. 50. 50. 50. 50. 50. 50. 50. 50. 50. 50. 50.\n",
      " 50. 50. 50. 50. 50. 50. 50. 50. 50. 50. 50. 50. 50. 50. 50. 50. 50. 50.\n",
      " 50. 50. 50. 50. 50. 50. 50. 50. 50. 50. 50. 50. 50. 50. 50. 50. 50. 50.\n",
      " 50. 50. 50. 50. 50. 50. 50. 50. 50. 50.]\n",
      "[ 2.47593084e-03  2.47009145e-03 -2.65643653e-02  8.25720746e-03\n",
      "  2.35569049e-02  1.09224683e-02 -1.62373725e-02  7.62128178e-03\n",
      "  1.10599706e-02  3.10853627e-02 -1.69296507e-02  1.19097270e-02\n",
      "  2.65045837e-02 -2.18490344e-02  1.82083864e-02 -2.14820951e-02\n",
      " -1.50323100e-02  1.22599560e-03  1.60219558e-02 -7.54263718e-04\n",
      "  1.74567364e-02 -1.27476593e-02 -5.16394293e-03 -7.02419598e-03\n",
      "  2.00558752e-02  9.55136435e-04 -4.34705848e-03  1.57255009e-02\n",
      "  2.47967858e-02  2.02155439e-03  3.42588464e-06  1.69961303e-02\n",
      " -1.63162872e-02 -3.40409279e-02  2.72649918e-02  2.21132282e-02\n",
      "  2.35382244e-02 -1.55163314e-02 -1.77508332e-02 -1.34423655e-02\n",
      "  6.74590468e-03 -2.61461791e-02 -8.67211167e-03  2.63166334e-02\n",
      " -2.79485416e-02  1.74980015e-02 -9.20395926e-03 -1.64446663e-02\n",
      " -1.57609116e-02  8.94042198e-03  2.31539626e-02  8.80651642e-03\n",
      " -6.86499150e-03  7.36859348e-03  1.05817002e-04  4.33926005e-03\n",
      " -1.52236875e-02 -3.44975330e-02  1.81744378e-02 -1.27560170e-02\n",
      "  1.86387170e-02  3.39326658e-03  1.26310084e-02  2.03651767e-02]\n",
      "[-4.9518618e-05 -4.9401828e-05  5.3128728e-04 -1.6514416e-04\n",
      " -4.7113810e-04 -2.1844936e-04  3.2474744e-04 -1.5242564e-04\n",
      " -2.2119941e-04 -6.2170724e-04  3.3859300e-04 -2.3819454e-04\n",
      " -5.3009170e-04  4.3698068e-04 -3.6416773e-04  4.2964189e-04\n",
      "  3.0064621e-04 -2.4519912e-05 -3.2043911e-04  1.5085275e-05\n",
      " -3.4913473e-04  2.5495319e-04  1.0327886e-04  1.4048391e-04\n",
      " -4.0111749e-04 -1.9102728e-05  8.6941167e-05 -3.1451002e-04\n",
      " -4.9593573e-04 -4.0431089e-05 -6.8517693e-08 -3.3992261e-04\n",
      "  3.2632574e-04  6.8081857e-04 -5.4529984e-04 -4.4226457e-04\n",
      " -4.7076450e-04  3.1032664e-04  3.5501667e-04  2.6884730e-04\n",
      " -1.3491810e-04  5.2292360e-04  1.7344224e-04 -5.2633265e-04\n",
      "  5.5897085e-04 -3.4996003e-04  1.8407918e-04  3.2889334e-04\n",
      "  3.1521823e-04 -1.7880843e-04 -4.6307925e-04 -1.7613033e-04\n",
      "  1.3729982e-04 -1.4737187e-04 -2.1163401e-06 -8.6785200e-05\n",
      "  3.0447374e-04  6.8995066e-04 -3.6348877e-04  2.5512034e-04\n",
      " -3.7277435e-04 -6.7865330e-05 -2.5262017e-04 -4.0730354e-04]\n",
      "[50.002472 50.00247  49.973434 50.008255 50.023556 50.010918 49.983765\n",
      " 50.00762  50.011063 50.031082 49.98307  50.01191  50.026505 49.978153\n",
      " 50.018208 49.97852  49.984966 50.00123  50.01602  49.999245 50.01746\n",
      " 49.987255 49.994835 49.992977 50.020058 50.000954 49.99565  50.015724\n",
      " 50.024796 50.00202  50.000008 50.016994 49.983685 49.96596  50.027264\n",
      " 50.022114 50.023537 49.984486 49.98225  49.986557 50.00675  49.973854\n",
      " 49.99133  50.026314 49.97205  50.0175   49.9908   49.983555 49.98424\n",
      " 50.00894  50.023155 50.008804 49.993134 50.007366 50.000107 50.00434\n",
      " 49.984776 49.965504 50.018173 49.987244 50.01864  50.00339  50.01263\n",
      " 50.020367]\n"
     ]
    }
   ],
   "source": [
    "params_file, epochs = \"./attempting_TN_MP_loihineurons_8_16\", 6\n",
    "\n",
    "converter, lyr_probes = _get_nengo_dl_model(\n",
    "  #swap_activations={tf.nn.relu: nengo_loihi.neurons.SpikingRectifiedLinear()}, # With this neuron, spike amplitude\n",
    "                                                                                # is more than 1.\n",
    "  swap_activations={tf.nn.relu: nengo_loihi.neurons.LoihiSpikingRectifiedLinear()}, # Spike amplitude is just 1.\n",
    "  # With both, SpikingRectifiedLinear and LoihiSpikingRectifiedLinear, the network is able to reach just 96% acc.\n",
    "  \n",
    "  scale_firing_rates=50 # Without scale_firing_rates, the network learns faster. and it is necessary, else random \n",
    "                         # test accuracy. Usage of `sfr` with percentile_loss produces random test accuracy.\n",
    ")\n",
    "  \n",
    "with nengo_dl.Simulator(converter.net, seed=0, minibatch_size=200) as sim:\n",
    "    losses = {\n",
    "      converter.outputs[dense1]: tf.losses.SparseCategoricalCrossentropy(from_logits=True)\n",
    "    }\n",
    "    \n",
    "    metrics = {\n",
    "      converter.outputs[dense1]: \"accuracy\"\n",
    "    }\n",
    "  \n",
    "# Percentile loss function results in random test accuracy, with and without `sfr` during training.\n",
    "# tf.losses.mse with `sfr` during training leads to same test performance of 95% around (93% to 97%), \n",
    "# thus not very useful.\n",
    "#     for lyr_probe in lyr_probes:\n",
    "#       losses[lyr_probe] = tf.losses.mse\n",
    "#       #losses[lyr_probe] = percentile_l2_loss_range\n",
    "#       metrics[lyr_probe] = rate_metric\n",
    "      \n",
    "    sim.compile(\n",
    "      loss=losses,\n",
    "      optimizer=tf.optimizers.Adam(0.001),\n",
    "      #optimizer=tf.optimizers.RMSprop(0.001),\n",
    "      #metrics={converter.outputs[dense1]: tf.metrics.sparse_categorical_accuracy},\n",
    "      metrics=metrics,\n",
    "      # Loss Weights important, else network doesn't learn.\n",
    "      # Setting the loss weight of converter.outputs[dense1] to 10, increases the learning, \n",
    "      # but it still limits at 98% acc.\n",
    "      #loss_weights={converter.outputs[dense1]: 1, lyr_probes[0]: 1e-3, lyr_probes[1]: 1e-3, lyr_probes[2]: 1e-3},\n",
    "    )\n",
    "    sim.fit(\n",
    "      {converter.inputs[inp]: train_images},\n",
    "      {\n",
    "        converter.outputs[dense1]: train_labels,\n",
    "        \n",
    "        # Following are important for the network to regularize FR. Else, \n",
    "        # probe_1_loss: 0.0000e+00 - probe_2_loss: 0.0000e+00 - probe_3_loss: 0.0000e+00\n",
    "        # is the network output in each epoch. This still happens with `percentile_l2_loss_range`. The values\n",
    "        # change \n",
    "        \n",
    "        # Following three lines work with percentile loss regularization.\n",
    "        \n",
    "#         lyr_probes[0]: np.zeros((train_labels.shape[0], 1, 0), dtype=np.float32),\n",
    "#         lyr_probes[1]: np.zeros((train_labels.shape[0], 1, 0), dtype=np.float32),\n",
    "#         lyr_probes[2]: np.zeros((train_labels.shape[0], 1, 0), dtype=np.float32),\n",
    "        \n",
    "        \n",
    "        # Following three lines work with tf.losses.mse loss regularization and percentile loss regularization.\n",
    "#         lyr_probes[0]: np.zeros((train_labels.shape[0], 1, lyr_probes[0].size_in), dtype=np.float32),\n",
    "#         lyr_probes[1]: np.zeros((train_labels.shape[0], 1, lyr_probes[1].size_in), dtype=np.float32),\n",
    "#         lyr_probes[2]: np.zeros((train_labels.shape[0], 1, lyr_probes[2].size_in), dtype=np.float32),\n",
    "        #lyr_probes[2]: np.ones((train_labels.shape[0], 1, lyr_probes[2].size_in)) * target_rate,\n",
    "      },\n",
    "      epochs=epochs,\n",
    "    )\n",
    "    \n",
    "    print(sim.data[converter.layers[dense0].ensemble].gain)\n",
    "    print(sim.data[converter.layers[dense0].ensemble].bias)\n",
    "    print(sim.data[converter.layers[dense0].ensemble].intercepts)\n",
    "    print(sim.data[converter.layers[dense0].ensemble].max_rates)\n",
    "\n",
    "\n",
    "    # save the parameters to file.\n",
    "    sim.save_params(params_file)"
   ]
  },
  {
   "cell_type": "markdown",
   "id": "failing-german",
   "metadata": {},
   "source": [
    "# Print the `gain`, `bias`, `intercepts`, and `max_rates` of the `Dense0` layer\n",
    "\n",
    "### These values are initial values. To get the acutal values, execute the following code in `with` block as above."
   ]
  },
  {
   "cell_type": "code",
   "execution_count": 6,
   "id": "acting-powell",
   "metadata": {
    "scrolled": false
   },
   "outputs": [
    {
     "name": "stdout",
     "output_type": "stream",
     "text": [
      "[50. 50. 50. 50. 50. 50. 50. 50. 50. 50. 50. 50. 50. 50. 50. 50. 50. 50.\n",
      " 50. 50. 50. 50. 50. 50. 50. 50. 50. 50. 50. 50. 50. 50. 50. 50. 50. 50.\n",
      " 50. 50. 50. 50. 50. 50. 50. 50. 50. 50. 50. 50. 50. 50. 50. 50. 50. 50.\n",
      " 50. 50. 50. 50. 50. 50. 50. 50. 50. 50.]\n",
      "[0. 0. 0. 0. 0. 0. 0. 0. 0. 0. 0. 0. 0. 0. 0. 0. 0. 0. 0. 0. 0. 0. 0. 0.\n",
      " 0. 0. 0. 0. 0. 0. 0. 0. 0. 0. 0. 0. 0. 0. 0. 0. 0. 0. 0. 0. 0. 0. 0. 0.\n",
      " 0. 0. 0. 0. 0. 0. 0. 0. 0. 0. 0. 0. 0. 0. 0. 0.]\n",
      "[-0. -0. -0. -0. -0. -0. -0. -0. -0. -0. -0. -0. -0. -0. -0. -0. -0. -0.\n",
      " -0. -0. -0. -0. -0. -0. -0. -0. -0. -0. -0. -0. -0. -0. -0. -0. -0. -0.\n",
      " -0. -0. -0. -0. -0. -0. -0. -0. -0. -0. -0. -0. -0. -0. -0. -0. -0. -0.\n",
      " -0. -0. -0. -0. -0. -0. -0. -0. -0. -0.]\n",
      "[50. 50. 50. 50. 50. 50. 50. 50. 50. 50. 50. 50. 50. 50. 50. 50. 50. 50.\n",
      " 50. 50. 50. 50. 50. 50. 50. 50. 50. 50. 50. 50. 50. 50. 50. 50. 50. 50.\n",
      " 50. 50. 50. 50. 50. 50. 50. 50. 50. 50. 50. 50. 50. 50. 50. 50. 50. 50.\n",
      " 50. 50. 50. 50. 50. 50. 50. 50. 50. 50.]\n"
     ]
    },
    {
     "name": "stderr",
     "output_type": "stream",
     "text": [
      "/home/rgaurav/miniconda3/envs/latest-nengo-tf/lib/python3.7/site-packages/nengo_dl/simulator.py:2266: UserWarning: Checking parameters after simulator is closed; cannot fetch live values, so the initial values will be returned.\n",
      "  \"Checking parameters after simulator is closed; \"\n"
     ]
    }
   ],
   "source": [
    "print(sim.data[converter.layers[dense0].ensemble].gain)\n",
    "print(sim.data[converter.layers[dense0].ensemble].bias)\n",
    "print(sim.data[converter.layers[dense0].ensemble].intercepts)\n",
    "print(sim.data[converter.layers[dense0].ensemble].max_rates)"
   ]
  },
  {
   "cell_type": "markdown",
   "id": "induced-dream",
   "metadata": {},
   "source": [
    "# Test the NengoDL Model"
   ]
  },
  {
   "cell_type": "code",
   "execution_count": 10,
   "id": "alleged-remark",
   "metadata": {},
   "outputs": [
    {
     "name": "stdout",
     "output_type": "stream",
     "text": [
      "Nengo DL Test Acc: 99.0\n"
     ]
    }
   ],
   "source": [
    "n_steps=50\n",
    "synapse=0.005\n",
    "n_test=100\n",
    "sfr=50\n",
    "\n",
    "nengo_converter, layer_probes = _get_nengo_dl_model(\n",
    "    scale_firing_rates=sfr, \n",
    "    #swap_activations={tf.nn.relu: nengo_loihi.neurons.SpikingRectifiedLinear()}, # With this neuron, spike \n",
    "                                                                                  # amplitude is more than 1.\n",
    "    swap_activations={tf.nn.relu: nengo_loihi.neurons.LoihiSpikingRectifiedLinear()}, # Spike Amplitude is just 1.\n",
    "    synapse=synapse\n",
    ")\n",
    "  \n",
    "tiled_test_images = np.tile(test_images[:n_test], (1, n_steps, 1))\n",
    "# Speed up simulation.\n",
    "with nengo_converter.net:\n",
    "  nengo_dl.configure_settings(stateful=False)\n",
    "    \n",
    "# Build network, load in trained weights, do inference.\n",
    "with nengo_dl.Simulator(\n",
    "    nengo_converter.net, minibatch_size=20, progress_bar=False) as sim:\n",
    "  sim.load_params(params_file)\n",
    "  data = sim.predict({nengo_converter.inputs[inp]: tiled_test_images})\n",
    "    \n",
    "test_predictions = np.argmax(data[nengo_converter.outputs[dense1]][:, -1], axis=-1)\n",
    "print(\"Nengo DL Test Acc: %s\" % (100 * np.mean(test_predictions == test_labels[:n_test, 0, 0])))"
   ]
  },
  {
   "cell_type": "markdown",
   "id": "suitable-lafayette",
   "metadata": {},
   "source": [
    "When `sfr` = 1 and using `percentile_l2_loss_range` and `tf.losses.mse` then none of them achieve beyond random 10% accuracy. `sfr` has to be increased to say 100 to get good accuracies, however it does seem that sparsity increases due to regularization and even with `sfr`=100 it remains fairly sparse, thus achieving good accuracy and better results."
   ]
  },
  {
   "cell_type": "markdown",
   "id": "split-engine",
   "metadata": {},
   "source": [
    "# Plotting the spikes in Conv0 layer"
   ]
  },
  {
   "cell_type": "code",
   "execution_count": 19,
   "id": "written-amazon",
   "metadata": {
    "scrolled": false
   },
   "outputs": [
    {
     "data": {
      "text/plain": [
       "<AxesSubplot:>"
      ]
     },
     "execution_count": 19,
     "metadata": {},
     "output_type": "execute_result"
    },
    {
     "data": {
      "image/png": "[encoded data removed]",
      "text/plain": [
       "<Figure size 1152x576 with 1 Axes>"
      ]
     },
     "metadata": {
      "needs_background": "light"
     },
     "output_type": "display_data"
    }
   ],
   "source": [
    "plt.figure(1, figsize=(16,8))\n",
    "rasterplot(np.arange(0, n_steps), data[layer_probes[0]][0, :, np.random.choice(5408, 512, replace=False)].T)"
   ]
  },
  {
   "cell_type": "markdown",
   "id": "alive-virus",
   "metadata": {},
   "source": [
    "# Print the spikes in `Conv0` layer (only if their amplitude is more than 1)"
   ]
  },
  {
   "cell_type": "code",
   "execution_count": 9,
   "id": "fabulous-hughes",
   "metadata": {
    "scrolled": false
   },
   "outputs": [],
   "source": [
    "conv0_spikes_matrix = data[layer_probes[0]] * sfr * 0.001\n",
    "test_image_index = 0\n",
    "\n",
    "for neuron in range(data[layer_probes[0]].shape[2]):\n",
    "  if np.any(conv0_spikes_matrix[test_image_index, :, neuron]):\n",
    "    spikes=np.round(conv0_spikes_matrix[test_image_index, :, neuron])\n",
    "    if set(np.unique(spikes)) - set([0, 1]):\n",
    "      print(spikes)"
   ]
  },
  {
   "cell_type": "markdown",
   "id": "phantom-respect",
   "metadata": {},
   "source": [
    "# Inferencing with NengoLoihi"
   ]
  },
  {
   "cell_type": "code",
   "execution_count": 10,
   "id": "experimental-africa",
   "metadata": {},
   "outputs": [],
   "source": [
    "nengo_converter1, layer_probes1 = _get_nengo_dl_model(\n",
    "    scale_firing_rates=sfr, \n",
    "    #swap_activations={tf.nn.relu: nengo_loihi.neurons.SpikingRectifiedLinear()}, # With this neuron, spike \n",
    "                                                                                  # amplitude is more than 1.\n",
    "    swap_activations={tf.nn.relu: nengo_loihi.neurons.LoihiSpikingRectifiedLinear()}, # Spike Amplitude is just 1.\n",
    "    synapse=synapse\n",
    ")"
   ]
  },
  {
   "cell_type": "code",
   "execution_count": 11,
   "id": "continental-dollar",
   "metadata": {},
   "outputs": [
    {
     "name": "stdout",
     "output_type": "stream",
     "text": [
      "Build finished in 0:00:00                                                      \n",
      "Optimization finished in 0:00:00                                               \n",
      "Construction finished in 0:00:00                                               \n"
     ]
    }
   ],
   "source": [
    "pres_time = n_steps * 0.001\n",
    "net1 = nengo_converter1.net\n",
    "ndl_input1 = nengo_converter1.inputs[inp]\n",
    "ndl_output1 = nengo_converter1.outputs[dense1]\n",
    "\n",
    "with nengo_dl.Simulator(net1) as ndl_sim1:\n",
    "  ndl_sim1.load_params(params_file)\n",
    "  ndl_sim1.freeze_params(net1)\n",
    "\n",
    "with net1:\n",
    "  ndl_input1.output = nengo.processes.PresentInput(\n",
    "    test_images, presentation_time=pres_time\n",
    "  )\n",
    "  \n",
    "  nengo_loihi.add_params(net1)\n",
    "  net1.config[nengo_converter1.layers[to_spikes].ensemble].on_chip = False"
   ]
  },
  {
   "cell_type": "code",
   "execution_count": 12,
   "id": "heated-robertson",
   "metadata": {},
   "outputs": [
    {
     "name": "stderr",
     "output_type": "stream",
     "text": [
      "/home/rgaurav/miniconda3/envs/latest-nengo-tf/lib/python3.7/site-packages/nengo_loihi/simulator.py:148: UserWarning: Model is precomputable. Setting precompute=False may slow execution.\n",
      "  \"Model is precomputable. Setting precompute=False may slow execution.\"\n"
     ]
    },
    {
     "name": "stdout",
     "output_type": "stream",
     "text": [
      "Loihi accuracy: 95.00%\n"
     ]
    }
   ],
   "source": [
    "with nengo_loihi.Simulator(net1, precompute=False) as loihi_sim: #precompute=False, hardware_options=hw_opts\n",
    "  loihi_sim.run(n_test * pres_time)\n",
    "  \n",
    "  pres_steps = int(round(pres_time / loihi_sim.dt))\n",
    "  output = loihi_sim.data[ndl_output1][pres_steps - 1 :: pres_steps]\n",
    "  \n",
    "  # compute the Loihi accuracy\n",
    "  loihi_predictions = np.argmax(output, axis=-1)\n",
    "  correct = 100 * np.mean(loihi_predictions == test_labels[:n_test, 0, 0])\n",
    "  print(\"Loihi accuracy: %.2f%%\" % correct)"
   ]
  },
  {
   "cell_type": "code",
   "execution_count": 13,
   "id": "affiliated-gothic",
   "metadata": {},
   "outputs": [
    {
     "name": "stdout",
     "output_type": "stream",
     "text": [
      "LoihiSpikingRectifiedLinear(amplitude=0.02)\n",
      "SpikingRectifiedLinear()\n"
     ]
    }
   ],
   "source": [
    "with net1:\n",
    "  print(nengo_converter1.layers[to_spikes].ensemble.neuron_type)\n",
    "  nengo_converter1.layers[to_spikes].ensemble.neuron_type = nengo_loihi.neurons.SpikingRectifiedLinear()\n",
    "  print(nengo_converter1.layers[to_spikes].ensemble.neuron_type)"
   ]
  },
  {
   "cell_type": "code",
   "execution_count": 14,
   "id": "marine-stock",
   "metadata": {},
   "outputs": [
    {
     "data": {
      "text/plain": [
       "<AxesSubplot:>"
      ]
     },
     "execution_count": 14,
     "metadata": {},
     "output_type": "execute_result"
    },
    {
     "data": {
      "image/png": "[encoded data removed]",
      "text/plain": [
       "<Figure size 1152x576 with 1 Axes>"
      ]
     },
     "metadata": {
      "needs_background": "light"
     },
     "output_type": "display_data"
    }
   ],
   "source": [
    "plt.figure(1, figsize=(16,8))\n",
    "rasterplot(np.arange(0, n_steps), loihi_sim.data[layer_probes1[0]][:30, np.random.choice(5408, 512, replace=False)])"
   ]
  }
 ],
 "metadata": {
  "kernelspec": {
   "display_name": "Python 3",
   "language": "python",
   "name": "python3"
  },
  "language_info": {
   "codemirror_mode": {
    "name": "ipython",
    "version": 3
   },
   "file_extension": ".py",
   "mimetype": "text/x-python",
   "name": "python",
   "nbconvert_exporter": "python",
   "pygments_lexer": "ipython3",
   "version": "3.7.7"
  }
 },
 "nbformat": 4,
 "nbformat_minor": 5
}
