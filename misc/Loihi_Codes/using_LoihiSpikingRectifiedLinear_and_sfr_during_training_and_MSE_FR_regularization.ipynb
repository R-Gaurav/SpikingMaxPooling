{
 "cells": [
  {
   "cell_type": "markdown",
   "id": "environmental-sacrifice",
   "metadata": {},
   "source": [
    "### With `scale_firing_rates` during training, and with `LoihiSpikingRectifiedLinear()` but  with Mean Squared Error firing rate regularization"
   ]
  },
  {
   "cell_type": "markdown",
   "id": "killing-rebel",
   "metadata": {},
   "source": [
    "Do not set `amplitude` and `max_rates` as you are not creating `Ensembles` from scratch, rather, converting a trained TF Model.\n",
    "\n",
    "Test accuracy is always poor (less than 91%) with `LoihiSpikingRectifiedLinear()` despite all the variations.\n",
    "\n",
    "When you regularize the firing rates, you shouldn't need the `scale_firing_rates` parameter during inference."
   ]
  },
  {
   "cell_type": "code",
   "execution_count": 1,
   "id": "theoretical-bicycle",
   "metadata": {},
   "outputs": [],
   "source": [
    "import numpy as np\n",
    "import nengo\n",
    "import nengo_dl\n",
    "import nengo_loihi\n",
    "import tensorflow as tf\n",
    "import matplotlib.pyplot as plt\n",
    "\n",
    "from nengo.utils.matplotlib import rasterplot\n",
    "\n",
    "np.random.seed(0)\n",
    "tf.random.set_seed(0)"
   ]
  },
  {
   "cell_type": "markdown",
   "id": "ordinary-conference",
   "metadata": {},
   "source": [
    "# Get the dataset"
   ]
  },
  {
   "cell_type": "code",
   "execution_count": 2,
   "id": "pharmaceutical-concern",
   "metadata": {},
   "outputs": [],
   "source": [
    "(train_images, train_labels), (test_images, test_labels) = (\n",
    "  tf.keras.datasets.mnist.load_data()\n",
    ")\n",
    "# Make it channels_first.\n",
    "train_images, test_images = np.expand_dims(train_images, -1), np.expand_dims(test_images, -1)\n",
    "train_images, test_images = np.moveaxis(train_images, -1, 1), np.moveaxis(test_images, -1, 1)\n",
    "\n",
    "# Flatten images and add time dimension.\n",
    "train_images = train_images.reshape((train_images.shape[0], 1, -1))\n",
    "train_labels = train_labels.reshape((train_labels.shape[0], 1, -1))\n",
    "test_images = test_images.reshape((test_images.shape[0], 1, -1))\n",
    "test_labels = test_labels.reshape((test_labels.shape[0], 1, -1))"
   ]
  },
  {
   "cell_type": "markdown",
   "id": "other-parent",
   "metadata": {},
   "source": [
    "# Design the TF Model"
   ]
  },
  {
   "cell_type": "code",
   "execution_count": 3,
   "id": "found-artwork",
   "metadata": {
    "scrolled": true
   },
   "outputs": [
    {
     "name": "stdout",
     "output_type": "stream",
     "text": [
      "Model: \"model\"\n",
      "_________________________________________________________________\n",
      "Layer (type)                 Output Shape              Param #   \n",
      "=================================================================\n",
      "input (InputLayer)           [(None, 1, 28, 28)]       0         \n",
      "_________________________________________________________________\n",
      "to-spikes (Conv2D)           (None, 3, 28, 28)         3         \n",
      "_________________________________________________________________\n",
      "conv0 (Conv2D)               (None, 8, 26, 26)         216       \n",
      "_________________________________________________________________\n",
      "conv1 (Conv2D)               (None, 16, 12, 12)        1152      \n",
      "_________________________________________________________________\n",
      "flatten (Flatten)            (None, 2304)              0         \n",
      "_________________________________________________________________\n",
      "dense0 (Dense)               (None, 64)                147520    \n",
      "_________________________________________________________________\n",
      "dense1 (Dense)               (None, 10)                650       \n",
      "=================================================================\n",
      "Total params: 149,541\n",
      "Trainable params: 149,541\n",
      "Non-trainable params: 0\n",
      "_________________________________________________________________\n"
     ]
    }
   ],
   "source": [
    "inp = tf.keras.Input(shape=(1, 28, 28), name=\"input\")\n",
    "\n",
    "to_spikes = tf.keras.layers.Conv2D(\n",
    "  filters=3, # 3 RGB Neurons per pixel.\n",
    "  kernel_size=(1, 1), strides=(1, 1), activation=tf.nn.relu, use_bias=False, # Default is True.\n",
    "  data_format=\"channels_first\", name=\"to-spikes\")(inp)\n",
    "\n",
    "conv0 = tf.keras.layers.Conv2D(\n",
    "  filters=8, kernel_size=(3, 3), strides=(1, 1), activation=tf.nn.relu, use_bias=False,\n",
    "  data_format=\"channels_first\", name=\"conv0\")(to_spikes)\n",
    "\n",
    "conv1 = tf.keras.layers.Conv2D(\n",
    "  filters=16, kernel_size=(3, 3), strides=(2, 2), activation=tf.nn.relu, use_bias=False,\n",
    "  data_format=\"channels_first\", name=\"conv1\")(conv0)\n",
    "\n",
    "flatten = tf.keras.layers.Flatten(name=\"flatten\")(conv1)\n",
    "dense0 = tf.keras.layers.Dense(64, activation=tf.nn.relu, name=\"dense0\")(flatten)\n",
    "\n",
    "#dense1 = tf.keras.layers.Dense(10, activation=\"softmax\", name=\"dense1\")(dense0) # Results in formation of TensorNode\n",
    "                                                                                # which isn't supported on Loihi.\n",
    "dense1 = tf.keras.layers.Dense(10, name=\"dense1\")(dense0)\n",
    "\n",
    "model = tf.keras.Model(inputs=inp, outputs=dense1)\n",
    "model.summary()"
   ]
  },
  {
   "cell_type": "code",
   "execution_count": 4,
   "id": "thirty-buying",
   "metadata": {},
   "outputs": [],
   "source": [
    "def _get_nengo_dl_model(**kwargs):\n",
    "  converter = nengo_dl.Converter(model, **kwargs)\n",
    "  lyr_probes = []\n",
    "  with converter.net:\n",
    "    probe_conv0 = nengo.Probe(converter.layers[conv0])\n",
    "    probe_conv1 = nengo.Probe(converter.layers[conv1])\n",
    "    probe_dense0 = nengo.Probe(converter.layers[dense0])\n",
    "    lyr_probes.extend([probe_conv0, probe_conv1, probe_dense0])\n",
    "  return converter, lyr_probes"
   ]
  },
  {
   "cell_type": "markdown",
   "id": "informative-hello",
   "metadata": {},
   "source": [
    "# Train the model and save the Params"
   ]
  },
  {
   "cell_type": "code",
   "execution_count": 23,
   "id": "choice-frame",
   "metadata": {
    "scrolled": false
   },
   "outputs": [
    {
     "name": "stdout",
     "output_type": "stream",
     "text": [
      "Build finished in 0:00:00                                                      \n",
      "Optimization finished in 0:00:00                                               \n",
      "Construction finished in 0:00:00                                               \n",
      "Epoch 1/10\n",
      "300/300 [==============================] - 3s 10ms/step - loss: 151.2926 - probe_loss: 7.5963 - probe_1_loss: 59770.6328 - probe_2_loss: 58305.5469 - probe_3_loss: 25620.0898 - probe_accuracy: 0.8067\n",
      "Epoch 2/10\n",
      "300/300 [==============================] - 3s 10ms/step - loss: 124.6824 - probe_loss: 5.2627 - probe_1_loss: 53777.8008 - probe_2_loss: 57528.1641 - probe_3_loss: 8113.7500 - probe_accuracy: 0.9113\n",
      "Epoch 3/10\n",
      "300/300 [==============================] - 3s 10ms/step - loss: 114.8156 - probe_loss: 4.0747 - probe_1_loss: 50128.6523 - probe_2_loss: 57570.2266 - probe_3_loss: 3042.0632 - probe_accuracy: 0.9342\n",
      "Epoch 4/10\n",
      "300/300 [==============================] - 3s 10ms/step - loss: 112.8298 - probe_loss: 3.8684 - probe_1_loss: 48770.3711 - probe_2_loss: 57293.3945 - probe_3_loss: 2897.7097 - probe_accuracy: 0.9381\n",
      "Epoch 5/10\n",
      "300/300 [==============================] - 3s 10ms/step - loss: 111.4935 - probe_loss: 3.7842 - probe_1_loss: 47830.1680 - probe_2_loss: 56814.9180 - probe_3_loss: 3064.1204 - probe_accuracy: 0.9402\n",
      "Epoch 6/10\n",
      "300/300 [==============================] - 3s 10ms/step - loss: 110.9623 - probe_loss: 3.7524 - probe_1_loss: 47590.3711 - probe_2_loss: 56450.4922 - probe_3_loss: 3169.0718 - probe_accuracy: 0.9446\n",
      "Epoch 7/10\n",
      "300/300 [==============================] - 3s 10ms/step - loss: 109.8575 - probe_loss: 3.7804 - probe_1_loss: 46855.2188 - probe_2_loss: 56029.6094 - probe_3_loss: 3192.2871 - probe_accuracy: 0.9425\n",
      "Epoch 8/10\n",
      "300/300 [==============================] - 3s 10ms/step - loss: 108.9246 - probe_loss: 3.6471 - probe_1_loss: 46258.0430 - probe_2_loss: 55775.5039 - probe_3_loss: 3243.8345 - probe_accuracy: 0.9456\n",
      "Epoch 9/10\n",
      "300/300 [==============================] - 3s 10ms/step - loss: 109.3553 - probe_loss: 3.7684 - probe_1_loss: 46497.7500 - probe_2_loss: 55446.5273 - probe_3_loss: 3642.5161 - probe_accuracy: 0.9444\n",
      "Epoch 10/10\n",
      "300/300 [==============================] - 3s 10ms/step - loss: 108.9646 - probe_loss: 3.6837 - probe_1_loss: 46474.2031 - probe_2_loss: 55290.8867 - probe_3_loss: 3515.7546 - probe_accuracy: 0.9465\n"
     ]
    }
   ],
   "source": [
    "# With FR regularization, you need to train for more epochs.\n",
    "params_file, epochs, target_rate = \"./attempting_TN_MP_loihineurons_8_16\", 10, 250 \n",
    "\n",
    "converter, lyr_probes = _get_nengo_dl_model(\n",
    "  #swap_activations={tf.nn.relu: nengo_loihi.neurons.SpikingRectifiedLinear()}, # With this neuron, spike amplitude\n",
    "                                                                                # is more than 1.\n",
    "  swap_activations={tf.nn.relu: nengo_loihi.neurons.LoihiSpikingRectifiedLinear()}, # Spike amplitude is just 1.\n",
    "  # With both, SpikingRectifiedLinear and LoihiSpikingRectifiedLinear, the network is able to reach just 96% acc.\n",
    "  # when target is set to 250Hz or 150Hz.\n",
    "  \n",
    "  # scale_firing_rates=100 # Without scale_firing_rates, the network learns faster.\n",
    ")\n",
    "  \n",
    "with nengo_dl.Simulator(converter.net, seed=0, minibatch_size=200) as sim:\n",
    "    losses = {\n",
    "      converter.outputs[dense1]: tf.losses.SparseCategoricalCrossentropy(from_logits=True)\n",
    "    }\n",
    "    \n",
    "    metrics = {\n",
    "      converter.outputs[dense1]: \"accuracy\"\n",
    "    }\n",
    "    \n",
    "    for lyr_probe in lyr_probes:\n",
    "      losses[lyr_probe] = tf.losses.mse\n",
    "      \n",
    "    sim.compile(\n",
    "      loss=losses,\n",
    "      # optimizer=tf.optimizers.Adam(0.001),\n",
    "      optimizer=tf.optimizers.RMSprop(0.001),\n",
    "      #metrics={converter.outputs[dense1]: tf.metrics.sparse_categorical_accuracy},\n",
    "      metrics=metrics,\n",
    "      # Loss Weights important, else network doesn't learn.\n",
    "      # Setting the loss weight of converter.outputs[dense1] to 10, increases the learning, \n",
    "      # but it still limits at 98% acc.\n",
    "      loss_weights={converter.outputs[dense1]: 1, lyr_probes[0]: 1e-3, lyr_probes[1]: 1e-3, lyr_probes[2]: 1e-3},\n",
    "    )\n",
    "    sim.fit(\n",
    "      {converter.inputs[inp]: train_images},\n",
    "      {\n",
    "        converter.outputs[dense1]: train_labels,\n",
    "        \n",
    "        # Following are important for the network to regularize FR. Else, \n",
    "        # probe_1_loss: 0.0000e+00 - probe_2_loss: 0.0000e+00 - probe_3_loss: 0.0000e+00\n",
    "        # is the network output in each epoch.\n",
    "        lyr_probes[0]: np.ones((train_labels.shape[0], 1, lyr_probes[0].size_in)) * target_rate,\n",
    "        lyr_probes[1]: np.ones((train_labels.shape[0], 1, lyr_probes[1].size_in)) * target_rate,\n",
    "        lyr_probes[2]: np.ones((train_labels.shape[0], 1, lyr_probes[2].size_in)) * target_rate,\n",
    "      },\n",
    "      epochs=epochs,\n",
    "    )\n",
    "    \n",
    "    # save the parameters to file.\n",
    "    sim.save_params(params_file)"
   ]
  },
  {
   "cell_type": "markdown",
   "id": "failing-german",
   "metadata": {},
   "source": [
    "# Print the `gain`, `bias`, `intercepts`, and `max_rates` of the `Dense0` layer"
   ]
  },
  {
   "cell_type": "code",
   "execution_count": 24,
   "id": "acting-powell",
   "metadata": {
    "scrolled": false
   },
   "outputs": [
    {
     "name": "stdout",
     "output_type": "stream",
     "text": [
      "[1. 1. 1. 1. 1. 1. 1. 1. 1. 1. 1. 1. 1. 1. 1. 1. 1. 1. 1. 1. 1. 1. 1. 1.\n",
      " 1. 1. 1. 1. 1. 1. 1. 1. 1. 1. 1. 1. 1. 1. 1. 1. 1. 1. 1. 1. 1. 1. 1. 1.\n",
      " 1. 1. 1. 1. 1. 1. 1. 1. 1. 1. 1. 1. 1. 1. 1. 1.]\n",
      "[0. 0. 0. 0. 0. 0. 0. 0. 0. 0. 0. 0. 0. 0. 0. 0. 0. 0. 0. 0. 0. 0. 0. 0.\n",
      " 0. 0. 0. 0. 0. 0. 0. 0. 0. 0. 0. 0. 0. 0. 0. 0. 0. 0. 0. 0. 0. 0. 0. 0.\n",
      " 0. 0. 0. 0. 0. 0. 0. 0. 0. 0. 0. 0. 0. 0. 0. 0.]\n",
      "[-0. -0. -0. -0. -0. -0. -0. -0. -0. -0. -0. -0. -0. -0. -0. -0. -0. -0.\n",
      " -0. -0. -0. -0. -0. -0. -0. -0. -0. -0. -0. -0. -0. -0. -0. -0. -0. -0.\n",
      " -0. -0. -0. -0. -0. -0. -0. -0. -0. -0. -0. -0. -0. -0. -0. -0. -0. -0.\n",
      " -0. -0. -0. -0. -0. -0. -0. -0. -0. -0.]\n",
      "[1. 1. 1. 1. 1. 1. 1. 1. 1. 1. 1. 1. 1. 1. 1. 1. 1. 1. 1. 1. 1. 1. 1. 1.\n",
      " 1. 1. 1. 1. 1. 1. 1. 1. 1. 1. 1. 1. 1. 1. 1. 1. 1. 1. 1. 1. 1. 1. 1. 1.\n",
      " 1. 1. 1. 1. 1. 1. 1. 1. 1. 1. 1. 1. 1. 1. 1. 1.]\n"
     ]
    }
   ],
   "source": [
    "print(sim.data[converter.layers[dense0].ensemble].gain)\n",
    "print(sim.data[converter.layers[dense0].ensemble].bias)\n",
    "print(sim.data[converter.layers[dense0].ensemble].intercepts)\n",
    "print(sim.data[converter.layers[dense0].ensemble].max_rates)"
   ]
  },
  {
   "cell_type": "markdown",
   "id": "induced-dream",
   "metadata": {},
   "source": [
    "# Test the NengoDL Model"
   ]
  },
  {
   "cell_type": "code",
   "execution_count": 25,
   "id": "alleged-remark",
   "metadata": {},
   "outputs": [
    {
     "name": "stdout",
     "output_type": "stream",
     "text": [
      "Nengo DL Test Acc: 80.0\n"
     ]
    }
   ],
   "source": [
    "n_steps=30\n",
    "synapse=0.01\n",
    "n_test=100\n",
    "sfr=1\n",
    "\n",
    "nengo_converter, layer_probes = _get_nengo_dl_model(\n",
    "    scale_firing_rates=sfr, \n",
    "    swap_activations={tf.nn.relu: nengo_loihi.neurons.SpikingRectifiedLinear()}, # With this neuron, spike \n",
    "                                                                                  # amplitude is more than 1.\n",
    "    #swap_activations={tf.nn.relu: nengo_loihi.neurons.LoihiSpikingRectifiedLinear()}, # Spike Amplitude is just 1.\n",
    "    synapse=synapse\n",
    ")\n",
    "  \n",
    "tiled_test_images = np.tile(test_images[:n_test], (1, n_steps, 1))\n",
    "# Speed up simulation.\n",
    "with nengo_converter.net:\n",
    "  nengo_dl.configure_settings(stateful=False)\n",
    "    \n",
    "# Build network, load in trained weights, do inference.\n",
    "with nengo_dl.Simulator(\n",
    "    nengo_converter.net, minibatch_size=20, progress_bar=False) as sim:\n",
    "  sim.load_params(params_file)\n",
    "  data = sim.predict({nengo_converter.inputs[inp]: tiled_test_images})\n",
    "    \n",
    "test_predictions = np.argmax(data[nengo_converter.outputs[dense1]][:, -1], axis=-1)\n",
    "print(\"Nengo DL Test Acc: %s\" % (100 * np.mean(test_predictions == test_labels[:n_test, 0, 0])))"
   ]
  },
  {
   "cell_type": "markdown",
   "id": "ready-indicator",
   "metadata": {},
   "source": [
    "No matter which neuron you use while training: `relu`, or `nengo.RectifedLinear()`, or `nengo_loihi.neurons.LoihiSpikingRectifiedLinear()`, in the absence of `scale_firing_rates`, the network performs very poorly (9%, 17% etc.) when `target_rate` is set to 1.0; in case of FR regularization, the `scale_firing_rates` should ideally be one. \n",
    "\n",
    "When `target_rate` is set to 250 for FR regularization and the `scale_firing_rates` is set to 1, the test accuracy is far better than the above case (e.g. 80%) when the training neuron is `nengo_loihi.neurons.LoihiSpikingRectifiedLinear()`."
   ]
  },
  {
   "cell_type": "markdown",
   "id": "split-engine",
   "metadata": {},
   "source": [
    "# Plotting the spikes in Conv0 layer"
   ]
  },
  {
   "cell_type": "code",
   "execution_count": 8,
   "id": "written-amazon",
   "metadata": {
    "scrolled": false
   },
   "outputs": [
    {
     "data": {
      "text/plain": [
       "<AxesSubplot:>"
      ]
     },
     "execution_count": 8,
     "metadata": {},
     "output_type": "execute_result"
    },
    {
     "data": {
      "image/png": "[encoded data removed]",
      "text/plain": [
       "<Figure size 1152x576 with 1 Axes>"
      ]
     },
     "metadata": {
      "needs_background": "light"
     },
     "output_type": "display_data"
    }
   ],
   "source": [
    "plt.figure(1, figsize=(16,8))\n",
    "rasterplot(np.arange(0, n_steps), data[layer_probes[0]][0, :, np.random.choice(5408, 512, replace=False)].T)"
   ]
  },
  {
   "cell_type": "markdown",
   "id": "alive-virus",
   "metadata": {},
   "source": [
    "# Print the spikes in `Conv0` layer (only if their amplitude is more than 1)"
   ]
  },
  {
   "cell_type": "code",
   "execution_count": 9,
   "id": "fabulous-hughes",
   "metadata": {
    "scrolled": false
   },
   "outputs": [],
   "source": [
    "conv0_spikes_matrix = data[layer_probes[0]] * sfr * 0.001\n",
    "test_image_index = 0\n",
    "\n",
    "for neuron in range(data[layer_probes[0]].shape[2]):\n",
    "  if np.any(conv0_spikes_matrix[test_image_index, :, neuron]):\n",
    "    spikes=np.round(conv0_spikes_matrix[test_image_index, :, neuron])\n",
    "    if set(np.unique(spikes)) - set([0, 1]):\n",
    "      print(spikes)"
   ]
  }
 ],
 "metadata": {
  "kernelspec": {
   "display_name": "Python 3",
   "language": "python",
   "name": "python3"
  },
  "language_info": {
   "codemirror_mode": {
    "name": "ipython",
    "version": 3
   },
   "file_extension": ".py",
   "mimetype": "text/x-python",
   "name": "python",
   "nbconvert_exporter": "python",
   "pygments_lexer": "ipython3",
   "version": "3.7.7"
  }
 },
 "nbformat": 4,
 "nbformat_minor": 5
}
