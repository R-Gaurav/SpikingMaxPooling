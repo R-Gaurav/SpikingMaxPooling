{
 "cells": [
  {
   "cell_type": "code",
   "execution_count": 1,
   "id": "proud-spencer",
   "metadata": {},
   "outputs": [],
   "source": [
    "import collections\n",
    "import warnings\n",
    "import os\n",
    "\n",
    "import nengo\n",
    "import nengo_dl\n",
    "import numpy as np\n",
    "import matplotlib.pyplot as plt\n",
    "import tensorflow as tf\n",
    "import nengo_loihi\n",
    "\n",
    "# ignore NengoDL warning about no GPU\n",
    "warnings.filterwarnings(\"ignore\", message=\"No GPU\", module=\"nengo_dl\")\n",
    "\n",
    "# The results in this notebook should be reproducible across many random seeds.\n",
    "# However, some seed values may cause problems, particularly in the `to-spikes` layer\n",
    "# where poor initialization can result in no information being sent to the chip. We set\n",
    "# the seed to ensure that good results are reproducible without having to re-train.\n",
    "np.random.seed(0)\n",
    "tf.random.set_seed(0)"
   ]
  },
  {
   "cell_type": "code",
   "execution_count": 2,
   "id": "color-identity",
   "metadata": {},
   "outputs": [
    {
     "data": {
      "text/plain": [
       "('2.2.0', '3.4.0', '1.0.0')"
      ]
     },
     "execution_count": 2,
     "metadata": {},
     "output_type": "execute_result"
    }
   ],
   "source": [
    "tf.__version__, nengo_dl.__version__, nengo_loihi.__version__"
   ]
  },
  {
   "cell_type": "code",
   "execution_count": 3,
   "id": "surrounded-chart",
   "metadata": {
    "scrolled": true
   },
   "outputs": [],
   "source": [
    "# load mnist dataset\n",
    "(train_images, train_labels), (\n",
    "    test_images,\n",
    "    test_labels,\n",
    ") = tf.keras.datasets.mnist.load_data()\n",
    "\n",
    "# flatten images and add time dimension\n",
    "train_images = train_images.reshape((train_images.shape[0], 1, -1))\n",
    "train_labels = train_labels.reshape((train_labels.shape[0], 1, -1))\n",
    "test_images = test_images.reshape((test_images.shape[0], 1, -1))\n",
    "test_labels = test_labels.reshape((test_labels.shape[0], 1, -1))"
   ]
  },
  {
   "cell_type": "code",
   "execution_count": 4,
   "id": "moral-hostel",
   "metadata": {},
   "outputs": [
    {
     "name": "stdout",
     "output_type": "stream",
     "text": [
      "Model: \"model\"\n",
      "_________________________________________________________________\n",
      "Layer (type)                 Output Shape              Param #   \n",
      "=================================================================\n",
      "input (InputLayer)           [(None, 28, 28, 1)]       0         \n",
      "_________________________________________________________________\n",
      "to-spikes (Conv2D)           (None, 28, 28, 3)         3         \n",
      "_________________________________________________________________\n",
      "conv0 (Conv2D)               (None, 13, 13, 32)        864       \n",
      "_________________________________________________________________\n",
      "conv1 (Conv2D)               (None, 6, 6, 64)          18432     \n",
      "_________________________________________________________________\n",
      "flatten (Flatten)            (None, 2304)              0         \n",
      "_________________________________________________________________\n",
      "dense0 (Dense)               (None, 100)               230500    \n",
      "_________________________________________________________________\n",
      "dense1 (Dense)               (None, 10)                1010      \n",
      "=================================================================\n",
      "Total params: 250,809\n",
      "Trainable params: 250,809\n",
      "Non-trainable params: 0\n",
      "_________________________________________________________________\n"
     ]
    }
   ],
   "source": [
    "inp = tf.keras.Input(shape=(28, 28, 1), name=\"input\")\n",
    "\n",
    "\n",
    "#################### OFF-CHIP INPUT LAYER ###########################\n",
    "# transform input signal to spikes using trainable 1x1 convolutional layer\n",
    "to_spikes_layer = tf.keras.layers.Conv2D(\n",
    "    filters=3,  # 3 neurons per pixel\n",
    "    kernel_size=1,\n",
    "    strides=1,\n",
    "    activation=tf.nn.relu,\n",
    "    use_bias=False,\n",
    "    name=\"to-spikes\",\n",
    ")\n",
    "to_spikes = to_spikes_layer(inp)\n",
    "\n",
    "################################ ON-CHIP LAYERS ##################################\n",
    "# on-chip convolutional layers\n",
    "conv0_layer = tf.keras.layers.Conv2D(\n",
    "    filters=32,\n",
    "    kernel_size=3,\n",
    "    strides=2,\n",
    "    activation=tf.nn.relu,\n",
    "    use_bias=False,\n",
    "    name=\"conv0\",\n",
    ")\n",
    "conv0 = conv0_layer(to_spikes)\n",
    "\n",
    "conv1_layer = tf.keras.layers.Conv2D(\n",
    "    filters=64,\n",
    "    kernel_size=3,\n",
    "    strides=2,\n",
    "    activation=tf.nn.relu,\n",
    "    use_bias=False,\n",
    "    name=\"conv1\",\n",
    ")\n",
    "conv1 = conv1_layer(conv0)\n",
    "\n",
    "flatten = tf.keras.layers.Flatten(name=\"flatten\")(conv1)\n",
    "dense0_layer = tf.keras.layers.Dense(units=100, activation=tf.nn.relu, name=\"dense0\")\n",
    "dense0 = dense0_layer(flatten)\n",
    "\n",
    "############################ OFF-CHIP OUTPUT LAYER #########################\n",
    "# since this final output layer has no activation function,\n",
    "# it will be converted to a `nengo.Node` and run off-chip\n",
    "dense1 = tf.keras.layers.Dense(units=10, name=\"dense1\")(dense0)\n",
    "\n",
    "model = tf.keras.Model(inputs=inp, outputs=dense1)\n",
    "model.summary()"
   ]
  },
  {
   "cell_type": "code",
   "execution_count": 5,
   "id": "broad-congress",
   "metadata": {},
   "outputs": [],
   "source": [
    "pres_time = 0.03  # how long to present each input, in seconds\n",
    "n_test = 5  # how many images to test\n",
    "\n",
    "# convert the keras model to a nengo network\n",
    "nengo_converter = nengo_dl.Converter(\n",
    "    model,\n",
    "    scale_firing_rates=400,\n",
    "    swap_activations={tf.nn.relu: nengo_loihi.neurons.LoihiSpikingRectifiedLinear()},\n",
    "    synapse=0.005,\n",
    ")\n",
    "net = nengo_converter.net\n",
    "\n",
    "# get input/output objects\n",
    "nengo_input = nengo_converter.inputs[inp]\n",
    "nengo_output = nengo_converter.outputs[dense1]"
   ]
  },
  {
   "cell_type": "code",
   "execution_count": 6,
   "id": "altered-steel",
   "metadata": {
    "scrolled": true
   },
   "outputs": [
    {
     "name": "stdout",
     "output_type": "stream",
     "text": [
      "Build finished in 0:00:00                                                      \n",
      "Optimization finished in 0:00:00                                               \n",
      "Construction finished in 0:00:00                                               \n"
     ]
    }
   ],
   "source": [
    "# build network, load in trained weights, save to network\n",
    "with nengo_dl.Simulator(net) as nengo_sim:\n",
    "    nengo_sim.load_params(\"keras_to_loihi_loihineuron_params_32_64\")\n",
    "    nengo_sim.freeze_params(net)"
   ]
  },
  {
   "cell_type": "code",
   "execution_count": 7,
   "id": "stylish-resolution",
   "metadata": {},
   "outputs": [],
   "source": [
    "with net:\n",
    "    nengo_input.output = nengo.processes.PresentInput(\n",
    "        test_images, presentation_time=pres_time\n",
    "    )\n",
    "\n",
    "with net:\n",
    "    nengo_loihi.add_params(net)  # allow on_chip to be set\n",
    "    net.config[nengo_converter.layers[to_spikes].ensemble].on_chip = False"
   ]
  },
  {
   "cell_type": "code",
   "execution_count": 10,
   "id": "executive-professional",
   "metadata": {},
   "outputs": [],
   "source": [
    "# Set the Block Shapes on Loihi Cores. \n",
    "# (Nengo Loihi allocates one block per neurocore. Src: https://forum.nengo.ai/t/how-many-blocks-per-loihi-chip/1732)\n",
    "# Ensembles can be distributed across one or more blocks => Ensembles are mapped to one or more neurocores.\n",
    "# This implies that models with many small ensembles will fill up the chip more quickly (due to core segmentation).\n",
    "#\n",
    "# Therefore have Ensembles which can be split in groups/blocks such that they max out each core. E.g. an Ensemble \n",
    "# with 1025 neurons gets split across two cores, but would be using about half the neurons on each, whereas an \n",
    "# Ensemble with 2048 neurons would also take two cores and be using all neurons on each (1 neurocore has 1024 neurons).\n",
    "# Above assumes that Ensembles don't need to be split across more cores because they are maxing out other resources,\n",
    "# like: axons or synapse memory.\n",
    "#\n",
    "# A Loihi neurocore has just over a million bits to store all synapse information (\n",
    "# Src: https://forum.nengo.ai/t/trying-to-understand-network-restrictions/927). In NengoLoihi, 8 bits per synapse\n",
    "# is used => 1000000 / 8 = 125K synapses can be mapped to a Loihi neurocore. For an all to all Dense connection, you\n",
    "# cannot go much larger than 300 x 300 weights. \n",
    "with net:\n",
    "    conv0_shape = conv0_layer.output_shape[1:]\n",
    "    net.config[\n",
    "        nengo_converter.layers[conv0].ensemble\n",
    "    ].block_shape = nengo_loihi.BlockShape((16, 16, 4), conv0_shape)\n",
    "\n",
    "    conv1_shape = conv1_layer.output_shape[1:]\n",
    "    net.config[\n",
    "        nengo_converter.layers[conv1].ensemble\n",
    "    ].block_shape = nengo_loihi.BlockShape((8, 8, 16), conv1_shape)\n",
    "\n",
    "    dense0_shape = dense0_layer.output_shape[1:]\n",
    "    net.config[\n",
    "        nengo_converter.layers[dense0].ensemble\n",
    "    ].block_shape = nengo_loihi.BlockShape((50,), dense0_shape)"
   ]
  },
  {
   "cell_type": "code",
   "execution_count": 9,
   "id": "advised-parish",
   "metadata": {},
   "outputs": [
    {
     "name": "stdout",
     "output_type": "stream",
     "text": [
      "Loihi accuracy: 100.00%\n"
     ]
    }
   ],
   "source": [
    "# build NengoLoihi Simulator and run network\n",
    "with nengo_loihi.Simulator(net, target=\"sim\") as loihi_sim:\n",
    "    loihi_sim.run(n_test * pres_time)\n",
    "\n",
    "    # get output (last timestep of each presentation period)\n",
    "    pres_steps = int(round(pres_time / loihi_sim.dt))\n",
    "    output = loihi_sim.data[nengo_output][pres_steps - 1 :: pres_steps]\n",
    "\n",
    "    # compute the Loihi accuracy\n",
    "    loihi_predictions = np.argmax(output, axis=-1)\n",
    "    correct = 100 * np.mean(loihi_predictions == test_labels[:n_test, 0, 0])\n",
    "    print(\"Loihi accuracy: %.2f%%\" % correct)"
   ]
  }
 ],
 "metadata": {
  "kernelspec": {
   "display_name": "Python 3",
   "language": "python",
   "name": "python3"
  },
  "language_info": {
   "codemirror_mode": {
    "name": "ipython",
    "version": 3
   },
   "file_extension": ".py",
   "mimetype": "text/x-python",
   "name": "python",
   "nbconvert_exporter": "python",
   "pygments_lexer": "ipython3",
   "version": "3.7.7"
  }
 },
 "nbformat": 4,
 "nbformat_minor": 5
}
