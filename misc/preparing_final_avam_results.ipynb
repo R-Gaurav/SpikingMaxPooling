{
 "cells": [
  {
   "cell_type": "code",
   "execution_count": 1,
   "id": "grand-reference",
   "metadata": {},
   "outputs": [],
   "source": [
    "import os\n",
    "\n",
    "import _init_paths\n",
    "\n",
    "import numpy as np\n",
    "import matplotlib.pyplot as plt\n",
    "\n",
    "from utils.results_analysis_utils.analyse_results import (\n",
    "    get_loihi_probes_output, get_layer_probes_output_dict, get_accuracy_via_majority_voting, \n",
    "    read_nengo_loihi_results)\n",
    "from utils.consts.dir_consts import EXP_OTPT_DIR"
   ]
  },
  {
   "cell_type": "code",
   "execution_count": null,
   "id": "premier-atmosphere",
   "metadata": {},
   "outputs": [],
   "source": []
  }
 ],
 "metadata": {
  "kernelspec": {
   "display_name": "Python 3",
   "language": "python",
   "name": "python3"
  },
  "language_info": {
   "codemirror_mode": {
    "name": "ipython",
    "version": 3
   },
   "file_extension": ".py",
   "mimetype": "text/x-python",
   "name": "python",
   "nbconvert_exporter": "python",
   "pygments_lexer": "ipython3",
   "version": "3.7.7"
  }
 },
 "nbformat": 4,
 "nbformat_minor": 5
}
