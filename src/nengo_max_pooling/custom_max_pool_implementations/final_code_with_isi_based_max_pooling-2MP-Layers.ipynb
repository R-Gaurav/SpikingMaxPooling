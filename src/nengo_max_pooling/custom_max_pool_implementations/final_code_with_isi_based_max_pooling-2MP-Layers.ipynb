{
 "cells": [
  {
   "cell_type": "code",
   "execution_count": 1,
   "id": "civic-swing",
   "metadata": {},
   "outputs": [],
   "source": [
    "import tensorflow as tf\n",
    "import numpy as np\n",
    "import nengo_dl\n",
    "import nengo\n",
    "import matplotlib.pyplot as plt\n",
    "from nengo.utils.matplotlib import rasterplot"
   ]
  },
  {
   "cell_type": "code",
   "execution_count": 2,
   "id": "static-chinese",
   "metadata": {},
   "outputs": [],
   "source": [
    "(train_images, train_labels), (test_images, test_labels) = tf.keras.datasets.mnist.load_data()"
   ]
  },
  {
   "cell_type": "code",
   "execution_count": 3,
   "id": "classical-poison",
   "metadata": {},
   "outputs": [
    {
     "name": "stdout",
     "output_type": "stream",
     "text": [
      "(60000, 28, 28) (60000,) (10000, 28, 28) (10000,)\n"
     ]
    }
   ],
   "source": [
    "print(train_images.shape, train_labels.shape, test_images.shape, test_labels.shape)"
   ]
  },
  {
   "cell_type": "markdown",
   "id": "handy-sight",
   "metadata": {},
   "source": [
    "# TF Model definition"
   ]
  },
  {
   "cell_type": "code",
   "execution_count": 4,
   "id": "weird-sheep",
   "metadata": {},
   "outputs": [],
   "source": [
    "# input\n",
    "inp = tf.keras.Input(shape=(1, 28, 28)) # Channels first.\n",
    "\n",
    "# convolutional layers\n",
    "conv0 = tf.keras.layers.Conv2D(\n",
    "    filters=8,\n",
    "    kernel_size=3,\n",
    "    activation=tf.nn.relu,\n",
    "    data_format=\"channels_first\"\n",
    ")(inp)\n",
    "\n",
    "# Default pool_size = (2,2), padding = \"valid\", data_format = \"channels_last\".\n",
    "max_pool = tf.keras.layers.MaxPool2D(data_format = \"channels_first\")(conv0) \n",
    "\n",
    "conv1 = tf.keras.layers.Conv2D(\n",
    "    filters=16,\n",
    "    kernel_size=3,\n",
    "    strides=1,\n",
    "    activation=tf.nn.relu,\n",
    "    data_format=\"channels_first\"\n",
    ")(max_pool)\n",
    "\n",
    "# Default pool_size = (2,2), padding = \"valid\", data_format = \"channels_last\".\n",
    "max_pool_1 = tf.keras.layers.MaxPool2D(data_format = \"channels_first\")(conv1) \n",
    "\n",
    "conv2 = tf.keras.layers.Conv2D(\n",
    "    filters=24,\n",
    "    kernel_size=3,\n",
    "    strides=1,\n",
    "    activation=tf.nn.relu,\n",
    "    data_format=\"channels_first\"\n",
    ")(max_pool_1)\n",
    "\n",
    "# fully connected layer\n",
    "flatten = tf.keras.layers.Flatten()(conv2)\n",
    "dense = tf.keras.layers.Dense(units=10, activation=\"softmax\")(flatten)\n",
    "\n",
    "model = tf.keras.Model(inputs=inp, outputs=dense)"
   ]
  },
  {
   "cell_type": "code",
   "execution_count": 5,
   "id": "charged-class",
   "metadata": {},
   "outputs": [
    {
     "name": "stdout",
     "output_type": "stream",
     "text": [
      "Model: \"model\"\n",
      "_________________________________________________________________\n",
      "Layer (type)                 Output Shape              Param #   \n",
      "=================================================================\n",
      "input_1 (InputLayer)         [(None, 1, 28, 28)]       0         \n",
      "_________________________________________________________________\n",
      "conv2d (Conv2D)              (None, 8, 26, 26)         80        \n",
      "_________________________________________________________________\n",
      "max_pooling2d (MaxPooling2D) (None, 8, 13, 13)         0         \n",
      "_________________________________________________________________\n",
      "conv2d_1 (Conv2D)            (None, 16, 11, 11)        1168      \n",
      "_________________________________________________________________\n",
      "max_pooling2d_1 (MaxPooling2 (None, 16, 5, 5)          0         \n",
      "_________________________________________________________________\n",
      "conv2d_2 (Conv2D)            (None, 24, 3, 3)          3480      \n",
      "_________________________________________________________________\n",
      "flatten (Flatten)            (None, 216)               0         \n",
      "_________________________________________________________________\n",
      "dense (Dense)                (None, 10)                2170      \n",
      "=================================================================\n",
      "Total params: 6,898\n",
      "Trainable params: 6,898\n",
      "Non-trainable params: 0\n",
      "_________________________________________________________________\n"
     ]
    }
   ],
   "source": [
    "model.summary()"
   ]
  },
  {
   "cell_type": "markdown",
   "id": "equivalent-stylus",
   "metadata": {},
   "source": [
    "# TF Model Compilation and Fitting"
   ]
  },
  {
   "cell_type": "code",
   "execution_count": 6,
   "id": "worldwide-amazon",
   "metadata": {
    "scrolled": true
   },
   "outputs": [
    {
     "name": "stdout",
     "output_type": "stream",
     "text": [
      "(60000, 1, 28, 28) (10000, 1, 28, 28)\n"
     ]
    }
   ],
   "source": [
    "# Channels first coding.\n",
    "train_images = train_images.reshape([train_images.shape[0], 1] + list(train_images.shape[1:])) # (60000, 1, 28, 28)\n",
    "test_images = test_images.reshape([test_images.shape[0], 1] + list(test_images.shape[1:]))\n",
    "\n",
    "print(train_images.shape, test_images.shape)"
   ]
  },
  {
   "cell_type": "code",
   "execution_count": 7,
   "id": "cloudy-sociology",
   "metadata": {},
   "outputs": [
    {
     "name": "stdout",
     "output_type": "stream",
     "text": [
      "Epoch 1/4\n",
      "1875/1875 [==============================] - 4s 2ms/step - loss: 0.4815 - sparse_categorical_accuracy: 0.8772\n",
      "Epoch 2/4\n",
      "1875/1875 [==============================] - 4s 2ms/step - loss: 0.1173 - sparse_categorical_accuracy: 0.9638\n",
      "Epoch 3/4\n",
      "1875/1875 [==============================] - 4s 2ms/step - loss: 0.0826 - sparse_categorical_accuracy: 0.9742\n",
      "Epoch 4/4\n",
      "1875/1875 [==============================] - 4s 2ms/step - loss: 0.0653 - sparse_categorical_accuracy: 0.9798\n"
     ]
    },
    {
     "data": {
      "text/plain": [
       "<tensorflow.python.keras.callbacks.History at 0x2ac7efeaa950>"
      ]
     },
     "execution_count": 7,
     "metadata": {},
     "output_type": "execute_result"
    }
   ],
   "source": [
    "model.compile(\n",
    "  optimizer=tf.optimizers.Adam(0.001),\n",
    "  loss=tf.losses.SparseCategoricalCrossentropy(),\n",
    "  metrics=[tf.metrics.sparse_categorical_accuracy])\n",
    "model.fit(train_images, train_labels, epochs=4)"
   ]
  },
  {
   "cell_type": "markdown",
   "id": "forward-housing",
   "metadata": {},
   "source": [
    "# TF Model evalution"
   ]
  },
  {
   "cell_type": "code",
   "execution_count": 8,
   "id": "included-separation",
   "metadata": {},
   "outputs": [
    {
     "name": "stdout",
     "output_type": "stream",
     "text": [
      "313/313 [==============================] - 2s 7ms/step - loss: 0.0842 - sparse_categorical_accuracy: 0.9742\n"
     ]
    },
    {
     "data": {
      "text/plain": [
       "[0.08421820402145386, 0.9742000102996826]"
      ]
     },
     "execution_count": 8,
     "metadata": {},
     "output_type": "execute_result"
    }
   ],
   "source": [
    "model.evaluate(test_images, test_labels)"
   ]
  },
  {
   "cell_type": "markdown",
   "id": "oriental-breach",
   "metadata": {},
   "source": [
    "# Conversion from TF to spiking Nengo DL model"
   ]
  },
  {
   "cell_type": "code",
   "execution_count": 9,
   "id": "loose-lancaster",
   "metadata": {
    "scrolled": true
   },
   "outputs": [
    {
     "name": "stderr",
     "output_type": "stream",
     "text": [
      "/home/rgaurav/miniconda3/envs/latest-nengo-tf/lib/python3.7/site-packages/nengo_dl/converter.py:326: UserWarning: Cannot convert max pooling layers to native Nengo objects; consider setting max_to_avg_pool=True to use average pooling instead. Falling back to TensorNode.\n",
      "  % (error_msg + \". \" if error_msg else \"\")\n",
      "/home/rgaurav/miniconda3/envs/latest-nengo-tf/lib/python3.7/site-packages/nengo_dl/converter.py:588: UserWarning: Activation type <function softmax at 0x2ac7d193f8c0> does not have a native Nengo equivalent; falling back to a TensorNode\n",
      "  \"falling back to a TensorNode\" % activation\n"
     ]
    }
   ],
   "source": [
    "n_steps, sfr = 40, 25\n",
    "np.random.seed(100)\n",
    "ndl_model = nengo_dl.Converter(model, \n",
    "                               swap_activations={tf.nn.relu: nengo.SpikingRectifiedLinear()},\n",
    "                               #scale_firing_rates=25, # ISI Nengo DL Acc: 73.5, 74.5\n",
    "                               #scale_firing_rates=50, # ISI Nengo DL Acc: 74\n",
    "                               #scale_firing_rates=100, # ISI Nengo DL Acc: 72.5\n",
    "                               scale_firing_rates=sfr, # ISI Nengo DL Acc: 75.5\n",
    "                               synapse=0.005)\n",
    "\n",
    "with ndl_model.net:\n",
    "  nengo_dl.configure_settings(stateful=False)\n",
    "  conv0_probe = nengo.Probe(ndl_model.layers[conv0]) # Probe All Neurons.\n",
    "  conv1_probe = nengo.Probe(ndl_model.layers[conv1])\n",
    "  conv2_probe = nengo.Probe(ndl_model.layers[conv2])"
   ]
  },
  {
   "cell_type": "code",
   "execution_count": 10,
   "id": "aggressive-empty",
   "metadata": {},
   "outputs": [
    {
     "name": "stdout",
     "output_type": "stream",
     "text": [
      "<Connection from <Node \"conv2d.0.bias\"> to <Node \"conv2d.0.bias_relay\">>  | SYNAPSE:  None\n",
      "<Connection from <Node \"conv2d.0.bias_relay\"> to <Neurons of <Ensemble \"conv2d.0\">>>  | SYNAPSE:  None\n",
      "<Connection from <Node \"input_1\"> to <Neurons of <Ensemble \"conv2d.0\">>>  | SYNAPSE:  None\n",
      "<Connection from <Neurons of <Ensemble \"conv2d.0\">> to <TensorNode \"max_pooling2d\">>  | SYNAPSE:  None\n",
      "<Connection from <Node \"conv2d_1.0.bias\"> to <Node \"conv2d_1.0.bias_relay\">>  | SYNAPSE:  None\n",
      "<Connection from <Node \"conv2d_1.0.bias_relay\"> to <Neurons of <Ensemble \"conv2d_1.0\">>>  | SYNAPSE:  None\n",
      "<Connection from <TensorNode \"max_pooling2d\"> to <Neurons of <Ensemble \"conv2d_1.0\">>>  | SYNAPSE:  None\n",
      "<Connection from <Neurons of <Ensemble \"conv2d_1.0\">> to <TensorNode \"max_pooling2d_1\">>  | SYNAPSE:  None\n",
      "<Connection from <Node \"conv2d_2.0.bias\"> to <Node \"conv2d_2.0.bias_relay\">>  | SYNAPSE:  None\n",
      "<Connection from <Node \"conv2d_2.0.bias_relay\"> to <Neurons of <Ensemble \"conv2d_2.0\">>>  | SYNAPSE:  None\n",
      "<Connection from <TensorNode \"max_pooling2d_1\"> to <Neurons of <Ensemble \"conv2d_2.0\">>>  | SYNAPSE:  None\n",
      "<Connection from <Node \"dense.0.bias\"> to <TensorNode \"dense.0\">>  | SYNAPSE:  None\n",
      "<Connection from <Neurons of <Ensemble \"conv2d_2.0\">> to <TensorNode \"dense.0\">>  | SYNAPSE:  Lowpass(tau=0.005)\n"
     ]
    }
   ],
   "source": [
    "for conn in ndl_model.net._connections:\n",
    "  print(conn, \" | SYNAPSE: \", conn.synapse)"
   ]
  },
  {
   "cell_type": "code",
   "execution_count": 11,
   "id": "educational-review",
   "metadata": {},
   "outputs": [],
   "source": [
    "ndl_model.net._connections[6].synapse = nengo.Lowpass(0.005)\n",
    "ndl_model.net._connections[10].synapse = nengo.Lowpass(0.005)"
   ]
  },
  {
   "cell_type": "code",
   "execution_count": 12,
   "id": "grave-workplace",
   "metadata": {},
   "outputs": [
    {
     "name": "stdout",
     "output_type": "stream",
     "text": [
      "<Connection from <Node \"conv2d.0.bias\"> to <Node \"conv2d.0.bias_relay\">>  | SYNAPSE:  None\n",
      "<Connection from <Node \"conv2d.0.bias_relay\"> to <Neurons of <Ensemble \"conv2d.0\">>>  | SYNAPSE:  None\n",
      "<Connection from <Node \"input_1\"> to <Neurons of <Ensemble \"conv2d.0\">>>  | SYNAPSE:  None\n",
      "<Connection from <Neurons of <Ensemble \"conv2d.0\">> to <TensorNode \"max_pooling2d\">>  | SYNAPSE:  None\n",
      "<Connection from <Node \"conv2d_1.0.bias\"> to <Node \"conv2d_1.0.bias_relay\">>  | SYNAPSE:  None\n",
      "<Connection from <Node \"conv2d_1.0.bias_relay\"> to <Neurons of <Ensemble \"conv2d_1.0\">>>  | SYNAPSE:  None\n",
      "<Connection from <TensorNode \"max_pooling2d\"> to <Neurons of <Ensemble \"conv2d_1.0\">>>  | SYNAPSE:  Lowpass(tau=0.005)\n",
      "<Connection from <Neurons of <Ensemble \"conv2d_1.0\">> to <TensorNode \"max_pooling2d_1\">>  | SYNAPSE:  None\n",
      "<Connection from <Node \"conv2d_2.0.bias\"> to <Node \"conv2d_2.0.bias_relay\">>  | SYNAPSE:  None\n",
      "<Connection from <Node \"conv2d_2.0.bias_relay\"> to <Neurons of <Ensemble \"conv2d_2.0\">>>  | SYNAPSE:  None\n",
      "<Connection from <TensorNode \"max_pooling2d_1\"> to <Neurons of <Ensemble \"conv2d_2.0\">>>  | SYNAPSE:  Lowpass(tau=0.005)\n",
      "<Connection from <Node \"dense.0.bias\"> to <TensorNode \"dense.0\">>  | SYNAPSE:  None\n",
      "<Connection from <Neurons of <Ensemble \"conv2d_2.0\">> to <TensorNode \"dense.0\">>  | SYNAPSE:  Lowpass(tau=0.005)\n"
     ]
    }
   ],
   "source": [
    "for conn in ndl_model.net._connections:\n",
    "  print(conn, \" | SYNAPSE: \", conn.synapse)"
   ]
  },
  {
   "cell_type": "markdown",
   "id": "animated-weather",
   "metadata": {},
   "source": [
    "# Nengo-DL model test data creation and inference"
   ]
  },
  {
   "cell_type": "code",
   "execution_count": 13,
   "id": "industrial-folder",
   "metadata": {},
   "outputs": [],
   "source": [
    "ndl_test_images = np.tile(\n",
    "  test_images.reshape((test_images.shape[0], 1, -1)), (1, n_steps, 1))\n",
    "ndl_input = ndl_model.inputs[inp]\n",
    "ndl_output = ndl_model.outputs[dense]"
   ]
  },
  {
   "cell_type": "code",
   "execution_count": 14,
   "id": "ancient-capture",
   "metadata": {},
   "outputs": [
    {
     "name": "stdout",
     "output_type": "stream",
     "text": [
      "Build finished in 0:00:00                                                      \n",
      "Optimization finished in 0:00:00                                               \n",
      "Construction finished in 0:00:00                                               \n",
      "Constructing graph: build stage finished in 0:00:00                            \r"
     ]
    }
   ],
   "source": [
    "with nengo_dl.Simulator(\n",
    "  ndl_model.net, minibatch_size=100) as sim:\n",
    "  data1 = sim.predict({ndl_input: ndl_test_images[:200]})"
   ]
  },
  {
   "cell_type": "markdown",
   "id": "satellite-twins",
   "metadata": {},
   "source": [
    "# Nengo-DL model accuracy (first 200 images)"
   ]
  },
  {
   "cell_type": "code",
   "execution_count": 15,
   "id": "reliable-description",
   "metadata": {},
   "outputs": [
    {
     "name": "stdout",
     "output_type": "stream",
     "text": [
      "0.99\n"
     ]
    }
   ],
   "source": [
    "acc = 0\n",
    "for pred, true in zip(data1[ndl_output][:, -1, :], test_labels):\n",
    "  if np.argmax(pred) == true:\n",
    "    acc += 1\n",
    "print(acc/200)"
   ]
  },
  {
   "cell_type": "markdown",
   "id": "objective-collect",
   "metadata": {},
   "source": [
    "## Plot the spike output of `Conv0`, `Conv1`, `Conv2`"
   ]
  },
  {
   "cell_type": "code",
   "execution_count": 29,
   "id": "empty-batch",
   "metadata": {
    "scrolled": false
   },
   "outputs": [
    {
     "data": {
      "text/plain": [
       "<AxesSubplot:>"
      ]
     },
     "execution_count": 29,
     "metadata": {},
     "output_type": "execute_result"
    },
    {
     "data": {
      "image/png": "[encoded data removed]",
      "text/plain": [
       "<Figure size 1152x432 with 1 Axes>"
      ]
     },
     "metadata": {
      "needs_background": "light"
     },
     "output_type": "display_data"
    }
   ],
   "source": [
    "conv0_spikes = data1[conv0_probe]\n",
    "\n",
    "test_samples, sim_steps, n_neurons = conv0_spikes.shape\n",
    "random_neurons = np.random.choice(n_neurons, 64, replace=False)\n",
    "plt.figure(figsize=(16, 6))\n",
    "rasterplot(np.arange(0, sim_steps)*1e-3, conv0_spikes[0, :, random_neurons].T*sfr*0.001) # For test_sample: 0"
   ]
  },
  {
   "cell_type": "code",
   "execution_count": 32,
   "id": "ongoing-sitting",
   "metadata": {},
   "outputs": [
    {
     "data": {
      "text/plain": [
       "<AxesSubplot:>"
      ]
     },
     "execution_count": 32,
     "metadata": {},
     "output_type": "execute_result"
    },
    {
     "data": {
      "image/png": "[encoded data removed]",
      "text/plain": [
       "<Figure size 1152x432 with 1 Axes>"
      ]
     },
     "metadata": {
      "needs_background": "light"
     },
     "output_type": "display_data"
    }
   ],
   "source": [
    "conv1_spikes = data1[conv1_probe]\n",
    "\n",
    "test_samples, sim_steps, n_neurons = conv1_spikes.shape\n",
    "random_neurons = np.random.choice(n_neurons, 64, replace=False)\n",
    "plt.figure(figsize=(16, 6))\n",
    "rasterplot(np.arange(0, sim_steps)*1e-3, conv1_spikes[0, :, random_neurons].T*sfr*0.001) # For test_sample: 0"
   ]
  },
  {
   "cell_type": "code",
   "execution_count": 35,
   "id": "banned-tablet",
   "metadata": {},
   "outputs": [
    {
     "data": {
      "text/plain": [
       "<AxesSubplot:>"
      ]
     },
     "execution_count": 35,
     "metadata": {},
     "output_type": "execute_result"
    },
    {
     "data": {
      "image/png": "[encoded data removed]",
      "text/plain": [
       "<Figure size 1152x432 with 1 Axes>"
      ]
     },
     "metadata": {
      "needs_background": "light"
     },
     "output_type": "display_data"
    }
   ],
   "source": [
    "conv2_spikes = data1[conv2_probe]\n",
    "\n",
    "test_samples, sim_steps, n_neurons = conv2_spikes.shape\n",
    "random_neurons = np.random.choice(n_neurons, 64, replace=False)\n",
    "plt.figure(figsize=(16, 6))\n",
    "rasterplot(np.arange(0, sim_steps)*1e-3, conv2_spikes[0, :, random_neurons].T*sfr*0.001) # For test_sample: 0"
   ]
  },
  {
   "cell_type": "markdown",
   "id": "variable-resolution",
   "metadata": {},
   "source": [
    "# ###################################################################"
   ]
  },
  {
   "cell_type": "markdown",
   "id": "compliant-cleaner",
   "metadata": {},
   "source": [
    "# Nengo-DL model modification (Replacing MaxPooling TensorNode with Custom Node)"
   ]
  },
  {
   "cell_type": "code",
   "execution_count": 36,
   "id": "optimum-little",
   "metadata": {},
   "outputs": [],
   "source": [
    "num_x = 4\n",
    "NEURONS_LAST_SPIKED_TS_1, NEURONS_LATEST_ISI_1 = np.zeros((8, 26, 26)), np.ones((8, 26, 26))*np.inf\n",
    "MAX_POOL_MASK_1 = np.ones((8, 26, 26))/num_x\n",
    "\n",
    "def isi_based_max_pooling_mp_1(t, inp):\n",
    "  inp = inp.reshape(8, 26, 26) # Channels first.\n",
    "  ret = np.zeros((8, 13, 13)) # Channels first.\n",
    "  \n",
    "  ##################### Normal MaxPooling with np.max() function. #####################\n",
    "  for chnl in range(inp.shape[0]): # For each channel, calculate the MaxPooled values.\n",
    "    for r in range(13):\n",
    "      for c in range(13):\n",
    "        ret[chnl, r, c] = np.max(inp[chnl, r*2:r*2+2, c*2:c*2+2]) # Channels first\n",
    "#   #####################################################################################\n",
    "  \n",
    "  \n",
    "#   ##################### MaxPooling with ISI based method. ##############################\n",
    "  \n",
    "#   def _isi_max_pool_algorithm(t, x, r1, r2, c1, c2, chnl):\n",
    "#     int_t = int(t*1000.0)\n",
    "#     # Get the local copies of updated NEURONS_LAST_SPIKED_TS, NEURONS_LATEST_ISI, and MAX_POOL_MASK for\n",
    "#     # each timestep.\n",
    "#     neurons_last_spiked_ts = NEURONS_LAST_SPIKED_TS_1[chnl, r1:r2, c1:c2].flatten()\n",
    "#     neurons_latest_isi = NEURONS_LATEST_ISI_1[chnl, r1:r2, c1:c2].flatten()\n",
    "#     max_pool_mask = MAX_POOL_MASK_1[chnl, r1:r2, c1:c2].flatten()\n",
    "    \n",
    "#     spiked_neurons_mask = np.logical_not(np.isin(x, 0))\n",
    "#     if np.all(spiked_neurons_mask == False):\n",
    "#       return 0\n",
    "    \n",
    "#     if np.any(neurons_last_spiked_ts[spiked_neurons_mask]):\n",
    "#       neurons_last_spiked_ts_mask = np.logical_not(np.isin(neurons_last_spiked_ts, 0))\n",
    "#       neurons_isi_to_be_updated = neurons_last_spiked_ts_mask & spiked_neurons_mask\n",
    "#       neurons_latest_isi[neurons_isi_to_be_updated] = int_t - neurons_last_spiked_ts[neurons_isi_to_be_updated]\n",
    "#       max_pool_mask[:] = np.zeros(num_x)\n",
    "#       max_pool_mask[np.argmin(neurons_latest_isi)] = 1.0\n",
    "#       neurons_last_spiked_ts[spiked_neurons_mask] = int_t\n",
    "      \n",
    "#       NEURONS_LAST_SPIKED_TS_1[chnl, r1:r2, c1:c2] = neurons_last_spiked_ts.reshape(2, 2)\n",
    "#       NEURONS_LATEST_ISI_1[chnl, r1:r2, c1:c2] = neurons_latest_isi.reshape(2, 2)\n",
    "#       MAX_POOL_MASK_1[chnl, r1:r2, c1:c2] = max_pool_mask.reshape(2, 2)\n",
    "      \n",
    "#       return np.dot(max_pool_mask, x)\n",
    "    \n",
    "#     else:\n",
    "#       if np.min(neurons_latest_isi) != np.inf:\n",
    "#         max_pool_mask[:] = np.zeros(num_x)\n",
    "#         max_pool_mask[np.argmin(neurons_latest_isi)] = 1.0\n",
    "#         neurons_last_spiked_ts[spiked_neurons_mask] = int_t\n",
    "#       else:\n",
    "#         if np.any(neurons_last_spiked_ts):\n",
    "#           neurons_last_spiked_ts_mask = np.logical_not(np.isin(neurons_last_spiked_ts, 0))\n",
    "#           minimum_last_spiked_ts = np.min(neurons_last_spiked_ts[neurons_last_spiked_ts_mask])\n",
    "#           first_spike_neuron_index = np.where(neurons_last_spiked_ts == minimum_last_spiked_ts)[0][0]\n",
    "#           max_pool_mask[:] = np.zeros(num_x)\n",
    "#           max_pool_mask[first_spike_neuron_index] = 1.0\n",
    "#           neurons_last_spiked_ts[spiked_neurons_mask] = int_t\n",
    "#         else:\n",
    "#           neurons_last_spiked_ts[spiked_neurons_mask] = int_t\n",
    "#           max_pool_mask[:] = np.zeros(num_x)\n",
    "#           max_pool_mask[np.where(neurons_last_spiked_ts)[0][0]] = 1.0\n",
    "       \n",
    "#       NEURONS_LAST_SPIKED_TS_1[chnl, r1:r2, c1:c2] = neurons_last_spiked_ts.reshape(2, 2)\n",
    "#       NEURONS_LATEST_ISI_1[chnl, r1:r2, c1:c2] = neurons_latest_isi.reshape(2, 2)\n",
    "#       MAX_POOL_MASK_1[chnl, r1:r2, c1:c2] = max_pool_mask.reshape(2, 2)\n",
    "#       return np.dot(max_pool_mask, x)\n",
    "    \n",
    "#   for chnl in range(inp.shape[0]):\n",
    "#     for r in range(13):\n",
    "#       for c in range(13):\n",
    "#         ret[chnl, r, c] = _isi_max_pool_algorithm(\n",
    "#             t, inp[chnl, r*2:r*2+2, c*2:c*2+2].flatten(), r*2, r*2+2, c*2, c*2+2, chnl)\n",
    "  \n",
    "  return ret.flatten()\n",
    "#   #return x[:5408]"
   ]
  },
  {
   "cell_type": "code",
   "execution_count": null,
   "id": "informed-editing",
   "metadata": {},
   "outputs": [],
   "source": [
    "def simplified_isi_based_max_pooling():"
   ]
  },
  {
   "cell_type": "code",
   "execution_count": 37,
   "id": "anticipated-catch",
   "metadata": {},
   "outputs": [],
   "source": [
    "num_x = 4\n",
    "NEURONS_LAST_SPIKED_TS_2, NEURONS_LATEST_ISI_2 = np.zeros((16, 11, 11)), np.ones((16, 11, 11))*np.inf\n",
    "MAX_POOL_MASK_2 = np.ones((16, 11, 11))/num_x\n",
    "\n",
    "def isi_based_max_pooling_mp_2(t, inp):\n",
    "  inp = inp.reshape(16, 11, 11) # Channels first.\n",
    "  ret = np.zeros((16, 5, 5)) # Channels first.\n",
    "  \n",
    "  ##################### Normal MaxPooling with np.max() function. #####################\n",
    "  for chnl in range(inp.shape[0]): # For each channel, calculate the MaxPooled values.\n",
    "    for r in range(5):\n",
    "      for c in range(5):\n",
    "        ret[chnl, r, c] = np.max(inp[chnl, r*2:r*2+2, c*2:c*2+2]) # Channels first\n",
    "  #####################################################################################\n",
    "  \n",
    "  \n",
    "#   ##################### MaxPooling with ISI based method. ##############################\n",
    "  \n",
    "#   def _isi_max_pool_algorithm(t, x, r1, r2, c1, c2, chnl):\n",
    "#     int_t = int(t*1000.0)\n",
    "#     # Get the local copies of updated NEURONS_LAST_SPIKED_TS, NEURONS_LATEST_ISI, and MAX_POOL_MASK for\n",
    "#     # each timestep.\n",
    "#     neurons_last_spiked_ts = NEURONS_LAST_SPIKED_TS_2[chnl, r1:r2, c1:c2].flatten()\n",
    "#     neurons_latest_isi = NEURONS_LATEST_ISI_2[chnl, r1:r2, c1:c2].flatten()\n",
    "#     max_pool_mask = MAX_POOL_MASK_2[chnl, r1:r2, c1:c2].flatten()\n",
    "    \n",
    "#     spiked_neurons_mask = np.logical_not(np.isin(x, 0))\n",
    "#     if np.all(spiked_neurons_mask == False):\n",
    "#       return 0\n",
    "    \n",
    "#     if np.any(neurons_last_spiked_ts[spiked_neurons_mask]):\n",
    "#       neurons_last_spiked_ts_mask = np.logical_not(np.isin(neurons_last_spiked_ts, 0))\n",
    "#       neurons_isi_to_be_updated = neurons_last_spiked_ts_mask & spiked_neurons_mask\n",
    "#       neurons_latest_isi[neurons_isi_to_be_updated] = int_t - neurons_last_spiked_ts[neurons_isi_to_be_updated]\n",
    "#       max_pool_mask[:] = np.zeros(num_x)\n",
    "#       max_pool_mask[np.argmin(neurons_latest_isi)] = 1.0\n",
    "#       neurons_last_spiked_ts[spiked_neurons_mask] = int_t\n",
    "      \n",
    "#       NEURONS_LAST_SPIKED_TS_2[chnl, r1:r2, c1:c2] = neurons_last_spiked_ts.reshape(2, 2)\n",
    "#       NEURONS_LATEST_ISI_2[chnl, r1:r2, c1:c2] = neurons_latest_isi.reshape(2, 2)\n",
    "#       MAX_POOL_MASK_2[chnl, r1:r2, c1:c2] = max_pool_mask.reshape(2, 2)\n",
    "      \n",
    "#       return np.dot(max_pool_mask, x)\n",
    "    \n",
    "#     else:\n",
    "#       if np.min(neurons_latest_isi) != np.inf:\n",
    "#         max_pool_mask[:] = np.zeros(num_x)\n",
    "#         max_pool_mask[np.argmin(neurons_latest_isi)] = 1.0\n",
    "#         neurons_last_spiked_ts[spiked_neurons_mask] = int_t\n",
    "#       else:\n",
    "#         if np.any(neurons_last_spiked_ts):\n",
    "#           neurons_last_spiked_ts_mask = np.logical_not(np.isin(neurons_last_spiked_ts, 0))\n",
    "#           minimum_last_spiked_ts = np.min(neurons_last_spiked_ts[neurons_last_spiked_ts_mask])\n",
    "#           first_spike_neuron_index = np.where(neurons_last_spiked_ts == minimum_last_spiked_ts)[0][0]\n",
    "#           max_pool_mask[:] = np.zeros(num_x)\n",
    "#           max_pool_mask[first_spike_neuron_index] = 1.0\n",
    "#           neurons_last_spiked_ts[spiked_neurons_mask] = int_t\n",
    "#         else:\n",
    "#           neurons_last_spiked_ts[spiked_neurons_mask] = int_t\n",
    "#           max_pool_mask[:] = np.zeros(num_x)\n",
    "#           max_pool_mask[np.where(neurons_last_spiked_ts)[0][0]] = 1.0\n",
    "       \n",
    "#       NEURONS_LAST_SPIKED_TS_2[chnl, r1:r2, c1:c2] = neurons_last_spiked_ts.reshape(2, 2)\n",
    "#       NEURONS_LATEST_ISI_2[chnl, r1:r2, c1:c2] = neurons_latest_isi.reshape(2, 2)\n",
    "#       MAX_POOL_MASK_2[chnl, r1:r2, c1:c2] = max_pool_mask.reshape(2, 2)\n",
    "#       return np.dot(max_pool_mask, x)\n",
    "    \n",
    "#   for chnl in range(inp.shape[0]):\n",
    "#     for r in range(5):\n",
    "#       for c in range(5):\n",
    "#         ret[chnl, r, c] = _isi_max_pool_algorithm(\n",
    "#             t, inp[chnl, r*2:r*2+2, c*2:c*2+2].flatten(), r*2, r*2+2, c*2, c*2+2, chnl)\n",
    "  \n",
    "  return ret.flatten()\n",
    "#   #return x[:5408]"
   ]
  },
  {
   "cell_type": "code",
   "execution_count": 38,
   "id": "acquired-portsmouth",
   "metadata": {},
   "outputs": [],
   "source": [
    "with ndl_model.net:\n",
    "  # Create Custom Node.\n",
    "  new_node_1 = nengo.Node(output=isi_based_max_pooling_mp_1, size_in=5408, label=\"Custom Node\")\n",
    "  new_node_2 = nengo.Node(output=isi_based_max_pooling_mp_2, size_in=1936, label=\"Custom Node\")\n",
    "\n",
    "  conn_from_conv0_to_max_node_1 = ndl_model.net.all_connections[3]\n",
    "  # COnnection from Conv0 to MaxPool node.\n",
    "  nengo.Connection(\n",
    "    conn_from_conv0_to_max_node_1.pre_obj,\n",
    "    new_node_1,\n",
    "    transform=conn_from_conv0_to_max_node_1.transform,\n",
    "    synapse=conn_from_conv0_to_max_node_1.synapse,\n",
    "    function=conn_from_conv0_to_max_node_1.function)\n",
    "\n",
    "  # Connection from MaxPool node to Conv1.\n",
    "  conn_from_max_node_1_to_conv1 = ndl_model.net.all_connections[6]\n",
    "  nengo.Connection(\n",
    "    new_node_1,\n",
    "    conn_from_max_node_1_to_conv1.post_obj,\n",
    "    transform=conn_from_max_node_1_to_conv1.transform,\n",
    "    synapse=conn_from_max_node_1_to_conv1.synapse,\n",
    "    function=conn_from_max_node_1_to_conv1.function)\n",
    "  \n",
    "  #################################################################\n",
    "  \n",
    "  conn_from_conv0_to_max_node_2 = ndl_model.net.all_connections[7]\n",
    "  # COnnection from Conv0 to MaxPool node.\n",
    "  nengo.Connection(\n",
    "    conn_from_conv0_to_max_node_2.pre_obj,\n",
    "    new_node_2,\n",
    "    transform=conn_from_conv0_to_max_node_2.transform,\n",
    "    synapse=conn_from_conv0_to_max_node_2.synapse,\n",
    "    function=conn_from_conv0_to_max_node_2.function)\n",
    "\n",
    "  # Connection from MaxPool node to Conv1.\n",
    "  conn_from_max_node_2_to_conv1 = ndl_model.net.all_connections[10]\n",
    "  nengo.Connection(\n",
    "    new_node_2,\n",
    "    conn_from_max_node_2_to_conv1.post_obj,\n",
    "    transform=conn_from_max_node_2_to_conv1.transform,\n",
    "    synapse=conn_from_max_node_2_to_conv1.synapse,\n",
    "    function=conn_from_max_node_2_to_conv1.function)\n",
    "\n",
    "  # Remove the old connection to MaxPool node and from MaxPool node, MaxPool node.\n",
    "  ndl_model.net._connections.remove(conn_from_conv0_to_max_node_1)\n",
    "  ndl_model.net._connections.remove(conn_from_max_node_1_to_conv1)\n",
    "  ndl_model.net._nodes.remove(conn_from_conv0_to_max_node_1.post_obj)\n",
    "  \n",
    "  ndl_model.net._connections.remove(conn_from_conv0_to_max_node_2)\n",
    "  ndl_model.net._connections.remove(conn_from_max_node_2_to_conv1)\n",
    "  ndl_model.net._nodes.remove(conn_from_conv0_to_max_node_2.post_obj)"
   ]
  },
  {
   "cell_type": "markdown",
   "id": "alternate-difference",
   "metadata": {},
   "source": [
    "# Check if modification of connection was successful"
   ]
  },
  {
   "cell_type": "code",
   "execution_count": 39,
   "id": "jewish-folks",
   "metadata": {
    "scrolled": true
   },
   "outputs": [
    {
     "name": "stdout",
     "output_type": "stream",
     "text": [
      "<Connection from <Node \"conv2d.0.bias\"> to <Node \"conv2d.0.bias_relay\">> None\n",
      "<Connection from <Node \"conv2d.0.bias_relay\"> to <Neurons of <Ensemble \"conv2d.0\">>> None\n",
      "<Connection from <Node \"input_1\"> to <Neurons of <Ensemble \"conv2d.0\">>> None\n",
      "<Connection from <Node \"conv2d_1.0.bias\"> to <Node \"conv2d_1.0.bias_relay\">> None\n",
      "<Connection from <Node \"conv2d_1.0.bias_relay\"> to <Neurons of <Ensemble \"conv2d_1.0\">>> None\n",
      "<Connection from <Node \"conv2d_2.0.bias\"> to <Node \"conv2d_2.0.bias_relay\">> None\n",
      "<Connection from <Node \"conv2d_2.0.bias_relay\"> to <Neurons of <Ensemble \"conv2d_2.0\">>> None\n",
      "<Connection from <Node \"dense.0.bias\"> to <TensorNode \"dense.0\">> None\n",
      "<Connection from <Neurons of <Ensemble \"conv2d_2.0\">> to <TensorNode \"dense.0\">> Lowpass(tau=0.005)\n",
      "<Connection from <Neurons of <Ensemble \"conv2d.0\">> to <Node \"Custom Node\">> None\n",
      "<Connection from <Node \"Custom Node\"> to <Neurons of <Ensemble \"conv2d_1.0\">>> Lowpass(tau=0.005)\n",
      "<Connection from <Neurons of <Ensemble \"conv2d_1.0\">> to <Node \"Custom Node\">> None\n",
      "<Connection from <Node \"Custom Node\"> to <Neurons of <Ensemble \"conv2d_2.0\">>> Lowpass(tau=0.005)\n"
     ]
    }
   ],
   "source": [
    "for conn in ndl_model.net.all_connections:\n",
    "  print(conn, conn.synapse)"
   ]
  },
  {
   "cell_type": "code",
   "execution_count": 40,
   "id": "opposed-yugoslavia",
   "metadata": {
    "scrolled": false
   },
   "outputs": [
    {
     "name": "stdout",
     "output_type": "stream",
     "text": [
      "Build finished in 0:00:00                                                      \n",
      "Optimization finished in 0:00:00                                               \n",
      "Construction finished in 0:00:00                                               \n",
      "Constructing graph: build stage finished in 0:00:00                            \r"
     ]
    }
   ],
   "source": [
    "with nengo_dl.Simulator(\n",
    "  ndl_model.net, minibatch_size=100) as sim:\n",
    "  data2 = sim.predict({ndl_input: ndl_test_images[:200]})"
   ]
  },
  {
   "cell_type": "code",
   "execution_count": 41,
   "id": "successful-defendant",
   "metadata": {
    "scrolled": true
   },
   "outputs": [
    {
     "name": "stdout",
     "output_type": "stream",
     "text": [
      "0.99\n"
     ]
    }
   ],
   "source": [
    "acc = 0\n",
    "for pred, true in zip(data2[ndl_output][:, -1, :], test_labels):\n",
    "  if np.argmax(pred) == true:\n",
    "    acc += 1\n",
    "print(acc/200)"
   ]
  }
 ],
 "metadata": {
  "kernelspec": {
   "display_name": "Python 3",
   "language": "python",
   "name": "python3"
  },
  "language_info": {
   "codemirror_mode": {
    "name": "ipython",
    "version": 3
   },
   "file_extension": ".py",
   "mimetype": "text/x-python",
   "name": "python",
   "nbconvert_exporter": "python",
   "pygments_lexer": "ipython3",
   "version": "3.7.7"
  }
 },
 "nbformat": 4,
 "nbformat_minor": 5
}
