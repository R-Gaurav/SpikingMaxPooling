{
 "cells": [
  {
   "cell_type": "code",
   "execution_count": 2,
   "id": "synthetic-president",
   "metadata": {},
   "outputs": [],
   "source": [
    "import matplotlib.pyplot as plt\n",
    "import nengo\n",
    "import numpy as np\n",
    "SEED = 0"
   ]
  },
  {
   "cell_type": "code",
   "execution_count": 3,
   "id": "spatial-decade",
   "metadata": {},
   "outputs": [],
   "source": [
    "def plot_signals(y_lst, legend_lst):\n",
    "  fig, ax = plt.subplots(figsize=(16, 6))\n",
    "  for y, legend in zip(y_lst, legend_lst):\n",
    "    ax.plot(y, label=legend)\n",
    "  ax.set_xlabel(\"Time in $ms$\")\n",
    "  ax.set_ylabel(\"Signal Value\")\n",
    "  ax.legend()\n",
    "  ax.grid()"
   ]
  },
  {
   "cell_type": "markdown",
   "id": "freelance-switch",
   "metadata": {},
   "source": [
    "# Compute Additive Functions (e.g. Average)"
   ]
  },
  {
   "cell_type": "code",
   "execution_count": 6,
   "id": "minute-resolution",
   "metadata": {},
   "outputs": [],
   "source": [
    "def compute_neural_sum_or_avg_function(inp_args=[20, 100, 30, 40], compute_func=lambda x: x/4, \n",
    "                            neuron_type=nengo.SpikingRectifiedLinear(amplitude=1), \n",
    "                            radius=1, sim_time=0.06, num_neurons=50):\n",
    "  \"\"\"\n",
    "  It applies the function `compute_func` on all the constant arguments passed in `inp_args` \n",
    "  and adds them up. Therefore if the `compute_func` is `lambda x: x/<number of elements in \n",
    "  inp_args>`, it will be computing the average.\n",
    "  \"\"\"\n",
    "  # `compute_function` will operate on four operands, therefore create four ensembles to\n",
    "  # represent input values and another ensemble to output the computed spikes. The \n",
    "  # connection from each of the four \"input\" ensembles to the \"output\" ensemble will\n",
    "  # compute the function `compute_func`.\n",
    "  \n",
    "  net = nengo.Network(seed=SEED)  \n",
    "  with net:\n",
    "    inp_ens_1 = nengo.Ensemble(n_neurons=num_neurons, dimensions=1, \n",
    "                               radius=radius, intercepts=nengo.dists.Uniform(-radius, radius),\n",
    "                               neuron_type=neuron_type, seed=SEED)\n",
    "    inp_node_1 = nengo.Node(output=lambda t: inp_args[0])\n",
    "    nengo.Connection(inp_node_1, inp_ens_1, seed=SEED)\n",
    "  \n",
    "    inp_ens_2 = nengo.Ensemble(n_neurons=num_neurons, dimensions=1, \n",
    "                               radius=radius, intercepts=nengo.dists.Uniform(-radius, radius),\n",
    "                               neuron_type=neuron_type, seed=SEED)\n",
    "    inp_node_2 = nengo.Node(output=lambda t: inp_args[1])\n",
    "    nengo.Connection(inp_node_2, inp_ens_2, seed=SEED)\n",
    "    \n",
    "    inp_ens_3 = nengo.Ensemble(n_neurons=num_neurons, dimensions=1, \n",
    "                               radius=radius, intercepts=nengo.dists.Uniform(-radius, radius),\n",
    "                               neuron_type=neuron_type, seed=SEED)\n",
    "    inp_node_3 = nengo.Node(output=lambda t: inp_args[2])\n",
    "    nengo.Connection(inp_node_3, inp_ens_3, seed=SEED)\n",
    "    \n",
    "    inp_ens_4 = nengo.Ensemble(n_neurons=num_neurons, dimensions=1, \n",
    "                               radius=radius, intercepts=nengo.dists.Uniform(-radius, radius),\n",
    "                               neuron_type=neuron_type, seed=SEED)\n",
    "    inp_node_4 = nengo.Node(output=lambda t: inp_args[3])\n",
    "    nengo.Connection(inp_node_4, inp_ens_4, seed=SEED)\n",
    "    \n",
    "    otp_ensemble = nengo.Ensemble(n_neurons=num_neurons, dimensions=1, radius=radius,\n",
    "                                 intercepts=nengo.dists.Uniform(-radius, radius),\n",
    "                                 neuron_type=neuron_type, seed=SEED)\n",
    "    \n",
    "    nengo.Connection(inp_ens_1, otp_ensemble, function=compute_func, seed=SEED)\n",
    "    nengo.Connection(inp_ens_2, otp_ensemble, function=compute_func, seed=SEED)\n",
    "    nengo.Connection(inp_ens_3, otp_ensemble, function=compute_func, seed=SEED)\n",
    "    nengo.Connection(inp_ens_4, otp_ensemble, function=compute_func, seed=SEED)\n",
    "    \n",
    "\n",
    "    # Get the function output through a probe.\n",
    "    otp_probe = nengo.Probe(otp_ensemble, attr=\"decoded_output\", synapse=nengo.Lowpass(0.005))\n",
    "  \n",
    "  with nengo.Simulator(net) as sim:\n",
    "    sim.run(sim_time)\n",
    "  \n",
    "  return sim, otp_probe"
   ]
  },
  {
   "cell_type": "markdown",
   "id": "conscious-sodium",
   "metadata": {},
   "source": [
    "# Computing Sum of 4 numbers"
   ]
  },
  {
   "cell_type": "code",
   "execution_count": 5,
   "id": "cheap-pursuit",
   "metadata": {},
   "outputs": [
    {
     "data": {
      "application/vdom.v1+json": {
       "attributes": {},
       "tagName": "div"
      },
      "text/html": [
       "\n",
       "                <script>\n",
       "                    if (Jupyter.version.split(\".\")[0] < 5) {\n",
       "                        var pb = document.getElementById(\"e30af06e-284f-4ccc-8608-d0a99d5d2591\");\n",
       "                        var text = document.createTextNode(\n",
       "                            \"HMTL progress bar requires Jupyter Notebook >= \" +\n",
       "                            \"5.0 or Jupyter Lab. Alternatively, you can use \" +\n",
       "                            \"TerminalProgressBar().\");\n",
       "                        pb.parentNode.insertBefore(text, pb);\n",
       "                    }\n",
       "                </script>\n",
       "                <div id=\"e30af06e-284f-4ccc-8608-d0a99d5d2591\" style=\"\n",
       "                    width: 100%;\n",
       "                    border: 1px solid #cfcfcf;\n",
       "                    border-radius: 4px;\n",
       "                    text-align: center;\n",
       "                    position: relative;\">\n",
       "                  <div class=\"pb-text\" style=\"\n",
       "                      position: absolute;\n",
       "                      width: 100%;\">\n",
       "                    0%\n",
       "                  </div>\n",
       "                  <div class=\"pb-fill\" style=\"\n",
       "                      background-color: #bdd2e6;\n",
       "                      width: 0%;\">\n",
       "                    <style type=\"text/css\" scoped=\"scoped\">\n",
       "                        @keyframes pb-fill-anim {\n",
       "                            0% { background-position: 0 0; }\n",
       "                            100% { background-position: 100px 0; }\n",
       "                        }\n",
       "                    </style>\n",
       "                    &nbsp;\n",
       "                  </div>\n",
       "                </div>"
      ],
      "text/plain": [
       "HtmlProgressBar cannot be displayed. Please use the TerminalProgressBar. It can be enabled with `nengo.rc['progress']['progress_bar'] = 'nengo.utils.progress.TerminalProgressBar'`."
      ]
     },
     "metadata": {},
     "output_type": "display_data"
    },
    {
     "data": {
      "application/vdom.v1+json": {
       "attributes": {
        "id": "d58ce0cc-604a-4885-b183-bfa7638e6b83",
        "style": {
         "border": "1px solid #cfcfcf",
         "borderRadius": "4px",
         "boxSizing": "border-box",
         "position": "relative",
         "textAlign": "center",
         "width": "100%"
        }
       },
       "children": [
        {
         "attributes": {
          "class": "pb-text",
          "style": {
           "position": "absolute",
           "width": "100%"
          }
         },
         "children": [
          "Build finished in 0:00:01."
         ],
         "tagName": "div"
        },
        {
         "attributes": {
          "class": "pb-fill",
          "style": {
           "animation": "none",
           "backgroundColor": "#bdd2e6",
           "backgroundImage": "none",
           "backgroundSize": "100px 100%",
           "width": "100%"
          }
         },
         "children": [
          {
           "attributes": {
            "scoped": "scoped",
            "type": "text/css"
           },
           "children": [
            "\n                        @keyframes pb-fill-anim {\n                            0% { background-position: 0 0; }\n                            100% { background-position: 100px 0; }\n                        }}"
           ],
           "tagName": "style"
          },
          " "
         ],
         "tagName": "div"
        }
       ],
       "tagName": "div"
      },
      "text/html": [
       "<script>\n",
       "              (function () {\n",
       "                  var root = document.getElementById('e30af06e-284f-4ccc-8608-d0a99d5d2591');\n",
       "                  var text = root.getElementsByClassName('pb-text')[0];\n",
       "                  var fill = root.getElementsByClassName('pb-fill')[0];\n",
       "\n",
       "                  text.innerHTML = 'Build finished in 0:00:01.';\n",
       "                  \n",
       "            fill.style.width = '100%';\n",
       "            fill.style.animation = 'pb-fill-anim 2s linear infinite';\n",
       "            fill.style.backgroundSize = '100px 100%';\n",
       "            fill.style.backgroundImage = 'repeating-linear-gradient(' +\n",
       "                '90deg, #bdd2e6, #edf2f8 40%, #bdd2e6 80%, #bdd2e6)';\n",
       "        \n",
       "                  \n",
       "                fill.style.animation = 'none';\n",
       "                fill.style.backgroundImage = 'none';\n",
       "            \n",
       "              })();\n",
       "        </script>"
      ]
     },
     "metadata": {},
     "output_type": "display_data"
    },
    {
     "data": {
      "application/vdom.v1+json": {
       "attributes": {},
       "tagName": "div"
      },
      "text/html": [
       "\n",
       "                <script>\n",
       "                    if (Jupyter.version.split(\".\")[0] < 5) {\n",
       "                        var pb = document.getElementById(\"31b623f8-cb57-40c0-9efa-5fa0c8c39641\");\n",
       "                        var text = document.createTextNode(\n",
       "                            \"HMTL progress bar requires Jupyter Notebook >= \" +\n",
       "                            \"5.0 or Jupyter Lab. Alternatively, you can use \" +\n",
       "                            \"TerminalProgressBar().\");\n",
       "                        pb.parentNode.insertBefore(text, pb);\n",
       "                    }\n",
       "                </script>\n",
       "                <div id=\"31b623f8-cb57-40c0-9efa-5fa0c8c39641\" style=\"\n",
       "                    width: 100%;\n",
       "                    border: 1px solid #cfcfcf;\n",
       "                    border-radius: 4px;\n",
       "                    text-align: center;\n",
       "                    position: relative;\">\n",
       "                  <div class=\"pb-text\" style=\"\n",
       "                      position: absolute;\n",
       "                      width: 100%;\">\n",
       "                    0%\n",
       "                  </div>\n",
       "                  <div class=\"pb-fill\" style=\"\n",
       "                      background-color: #bdd2e6;\n",
       "                      width: 0%;\">\n",
       "                    <style type=\"text/css\" scoped=\"scoped\">\n",
       "                        @keyframes pb-fill-anim {\n",
       "                            0% { background-position: 0 0; }\n",
       "                            100% { background-position: 100px 0; }\n",
       "                        }\n",
       "                    </style>\n",
       "                    &nbsp;\n",
       "                  </div>\n",
       "                </div>"
      ],
      "text/plain": [
       "HtmlProgressBar cannot be displayed. Please use the TerminalProgressBar. It can be enabled with `nengo.rc['progress']['progress_bar'] = 'nengo.utils.progress.TerminalProgressBar'`."
      ]
     },
     "metadata": {},
     "output_type": "display_data"
    },
    {
     "data": {
      "application/vdom.v1+json": {
       "attributes": {
        "id": "8a97065d-b56e-4d01-9d93-b9ebe2458be8",
        "style": {
         "border": "1px solid #cfcfcf",
         "borderRadius": "4px",
         "boxSizing": "border-box",
         "position": "relative",
         "textAlign": "center",
         "width": "100%"
        }
       },
       "children": [
        {
         "attributes": {
          "class": "pb-text",
          "style": {
           "position": "absolute",
           "width": "100%"
          }
         },
         "children": [
          "Simulation finished in 0:00:01."
         ],
         "tagName": "div"
        },
        {
         "attributes": {
          "class": "pb-fill",
          "style": {
           "animation": "none",
           "backgroundColor": "#bdd2e6",
           "backgroundImage": "none",
           "transition": "width 0.1s linear",
           "width": "100%"
          }
         },
         "children": [
          {
           "attributes": {
            "scoped": "scoped",
            "type": "text/css"
           },
           "children": [
            "\n                        @keyframes pb-fill-anim {\n                            0% { background-position: 0 0; }\n                            100% { background-position: 100px 0; }\n                        }}"
           ],
           "tagName": "style"
          },
          " "
         ],
         "tagName": "div"
        }
       ],
       "tagName": "div"
      },
      "text/html": [
       "<script>\n",
       "              (function () {\n",
       "                  var root = document.getElementById('31b623f8-cb57-40c0-9efa-5fa0c8c39641');\n",
       "                  var text = root.getElementsByClassName('pb-text')[0];\n",
       "                  var fill = root.getElementsByClassName('pb-fill')[0];\n",
       "\n",
       "                  text.innerHTML = 'Simulation finished in 0:00:01.';\n",
       "                  \n",
       "            if (100.0 > 0.) {\n",
       "                fill.style.transition = 'width 0.1s linear';\n",
       "            } else {\n",
       "                fill.style.transition = 'none';\n",
       "            }\n",
       "\n",
       "            fill.style.width = '100.0%';\n",
       "            fill.style.animation = 'none';\n",
       "            fill.style.backgroundImage = 'none'\n",
       "        \n",
       "                  \n",
       "                fill.style.animation = 'none';\n",
       "                fill.style.backgroundImage = 'none';\n",
       "            \n",
       "              })();\n",
       "        </script>"
      ]
     },
     "metadata": {},
     "output_type": "display_data"
    },
    {
     "data": {
      "image/png": "[encoded data removed]",
      "text/plain": [
       "<Figure size 1152x432 with 1 Axes>"
      ]
     },
     "metadata": {
      "needs_background": "light"
     },
     "output_type": "display_data"
    }
   ],
   "source": [
    "inp_args = [2, 4, 6, 4]\n",
    "compute_func = lambda x: x\n",
    "sim_time = 0.06 # in seconds\n",
    "actual_output = np.sum(inp_args) * np.ones(int(sim_time*1000))\n",
    "\n",
    "\n",
    "sim, otp_probe = compute_neural_sum_or_avg_function(\n",
    "    inp_args=inp_args, compute_func=compute_func, num_neurons=100, sim_time=sim_time)\n",
    "plot_signals([actual_output.tolist(), sim.data[otp_probe]], [\"Actual Output\", \"SN Computed Output\"])"
   ]
  },
  {
   "cell_type": "markdown",
   "id": "athletic-adelaide",
   "metadata": {},
   "source": [
    "# Computing Average of 4 numbers"
   ]
  },
  {
   "cell_type": "code",
   "execution_count": 10,
   "id": "comfortable-vertical",
   "metadata": {
    "scrolled": false
   },
   "outputs": [
    {
     "data": {
      "application/vdom.v1+json": {
       "attributes": {},
       "tagName": "div"
      },
      "text/html": [
       "\n",
       "                <script>\n",
       "                    if (Jupyter.version.split(\".\")[0] < 5) {\n",
       "                        var pb = document.getElementById(\"6d0c6fee-4f33-4b2c-ba9a-b2a8f029119d\");\n",
       "                        var text = document.createTextNode(\n",
       "                            \"HMTL progress bar requires Jupyter Notebook >= \" +\n",
       "                            \"5.0 or Jupyter Lab. Alternatively, you can use \" +\n",
       "                            \"TerminalProgressBar().\");\n",
       "                        pb.parentNode.insertBefore(text, pb);\n",
       "                    }\n",
       "                </script>\n",
       "                <div id=\"6d0c6fee-4f33-4b2c-ba9a-b2a8f029119d\" style=\"\n",
       "                    width: 100%;\n",
       "                    border: 1px solid #cfcfcf;\n",
       "                    border-radius: 4px;\n",
       "                    text-align: center;\n",
       "                    position: relative;\">\n",
       "                  <div class=\"pb-text\" style=\"\n",
       "                      position: absolute;\n",
       "                      width: 100%;\">\n",
       "                    0%\n",
       "                  </div>\n",
       "                  <div class=\"pb-fill\" style=\"\n",
       "                      background-color: #bdd2e6;\n",
       "                      width: 0%;\">\n",
       "                    <style type=\"text/css\" scoped=\"scoped\">\n",
       "                        @keyframes pb-fill-anim {\n",
       "                            0% { background-position: 0 0; }\n",
       "                            100% { background-position: 100px 0; }\n",
       "                        }\n",
       "                    </style>\n",
       "                    &nbsp;\n",
       "                  </div>\n",
       "                </div>"
      ],
      "text/plain": [
       "HtmlProgressBar cannot be displayed. Please use the TerminalProgressBar. It can be enabled with `nengo.rc['progress']['progress_bar'] = 'nengo.utils.progress.TerminalProgressBar'`."
      ]
     },
     "metadata": {},
     "output_type": "display_data"
    },
    {
     "data": {
      "application/vdom.v1+json": {
       "attributes": {
        "id": "9497e7d1-e47a-4c73-af09-edaa1d1249b1",
        "style": {
         "border": "1px solid #cfcfcf",
         "borderRadius": "4px",
         "boxSizing": "border-box",
         "position": "relative",
         "textAlign": "center",
         "width": "100%"
        }
       },
       "children": [
        {
         "attributes": {
          "class": "pb-text",
          "style": {
           "position": "absolute",
           "width": "100%"
          }
         },
         "children": [
          "Build finished in 0:00:01."
         ],
         "tagName": "div"
        },
        {
         "attributes": {
          "class": "pb-fill",
          "style": {
           "animation": "none",
           "backgroundColor": "#bdd2e6",
           "backgroundImage": "none",
           "backgroundSize": "100px 100%",
           "width": "100%"
          }
         },
         "children": [
          {
           "attributes": {
            "scoped": "scoped",
            "type": "text/css"
           },
           "children": [
            "\n                        @keyframes pb-fill-anim {\n                            0% { background-position: 0 0; }\n                            100% { background-position: 100px 0; }\n                        }}"
           ],
           "tagName": "style"
          },
          " "
         ],
         "tagName": "div"
        }
       ],
       "tagName": "div"
      },
      "text/html": [
       "<script>\n",
       "              (function () {\n",
       "                  var root = document.getElementById('6d0c6fee-4f33-4b2c-ba9a-b2a8f029119d');\n",
       "                  var text = root.getElementsByClassName('pb-text')[0];\n",
       "                  var fill = root.getElementsByClassName('pb-fill')[0];\n",
       "\n",
       "                  text.innerHTML = 'Build finished in 0:00:01.';\n",
       "                  \n",
       "            fill.style.width = '100%';\n",
       "            fill.style.animation = 'pb-fill-anim 2s linear infinite';\n",
       "            fill.style.backgroundSize = '100px 100%';\n",
       "            fill.style.backgroundImage = 'repeating-linear-gradient(' +\n",
       "                '90deg, #bdd2e6, #edf2f8 40%, #bdd2e6 80%, #bdd2e6)';\n",
       "        \n",
       "                  \n",
       "                fill.style.animation = 'none';\n",
       "                fill.style.backgroundImage = 'none';\n",
       "            \n",
       "              })();\n",
       "        </script>"
      ]
     },
     "metadata": {},
     "output_type": "display_data"
    },
    {
     "data": {
      "application/vdom.v1+json": {
       "attributes": {},
       "tagName": "div"
      },
      "text/html": [
       "\n",
       "                <script>\n",
       "                    if (Jupyter.version.split(\".\")[0] < 5) {\n",
       "                        var pb = document.getElementById(\"1eed2c36-c160-44a3-8ced-ee4d76d4c180\");\n",
       "                        var text = document.createTextNode(\n",
       "                            \"HMTL progress bar requires Jupyter Notebook >= \" +\n",
       "                            \"5.0 or Jupyter Lab. Alternatively, you can use \" +\n",
       "                            \"TerminalProgressBar().\");\n",
       "                        pb.parentNode.insertBefore(text, pb);\n",
       "                    }\n",
       "                </script>\n",
       "                <div id=\"1eed2c36-c160-44a3-8ced-ee4d76d4c180\" style=\"\n",
       "                    width: 100%;\n",
       "                    border: 1px solid #cfcfcf;\n",
       "                    border-radius: 4px;\n",
       "                    text-align: center;\n",
       "                    position: relative;\">\n",
       "                  <div class=\"pb-text\" style=\"\n",
       "                      position: absolute;\n",
       "                      width: 100%;\">\n",
       "                    0%\n",
       "                  </div>\n",
       "                  <div class=\"pb-fill\" style=\"\n",
       "                      background-color: #bdd2e6;\n",
       "                      width: 0%;\">\n",
       "                    <style type=\"text/css\" scoped=\"scoped\">\n",
       "                        @keyframes pb-fill-anim {\n",
       "                            0% { background-position: 0 0; }\n",
       "                            100% { background-position: 100px 0; }\n",
       "                        }\n",
       "                    </style>\n",
       "                    &nbsp;\n",
       "                  </div>\n",
       "                </div>"
      ],
      "text/plain": [
       "HtmlProgressBar cannot be displayed. Please use the TerminalProgressBar. It can be enabled with `nengo.rc['progress']['progress_bar'] = 'nengo.utils.progress.TerminalProgressBar'`."
      ]
     },
     "metadata": {},
     "output_type": "display_data"
    },
    {
     "data": {
      "application/vdom.v1+json": {
       "attributes": {
        "id": "bc507ff1-921b-466a-b4c1-d58ff072970c",
        "style": {
         "border": "1px solid #cfcfcf",
         "borderRadius": "4px",
         "boxSizing": "border-box",
         "position": "relative",
         "textAlign": "center",
         "width": "100%"
        }
       },
       "children": [
        {
         "attributes": {
          "class": "pb-text",
          "style": {
           "position": "absolute",
           "width": "100%"
          }
         },
         "children": [
          "Simulation finished in 0:00:01."
         ],
         "tagName": "div"
        },
        {
         "attributes": {
          "class": "pb-fill",
          "style": {
           "animation": "none",
           "backgroundColor": "#bdd2e6",
           "backgroundImage": "none",
           "transition": "width 0.1s linear",
           "width": "100%"
          }
         },
         "children": [
          {
           "attributes": {
            "scoped": "scoped",
            "type": "text/css"
           },
           "children": [
            "\n                        @keyframes pb-fill-anim {\n                            0% { background-position: 0 0; }\n                            100% { background-position: 100px 0; }\n                        }}"
           ],
           "tagName": "style"
          },
          " "
         ],
         "tagName": "div"
        }
       ],
       "tagName": "div"
      },
      "text/html": [
       "<script>\n",
       "              (function () {\n",
       "                  var root = document.getElementById('1eed2c36-c160-44a3-8ced-ee4d76d4c180');\n",
       "                  var text = root.getElementsByClassName('pb-text')[0];\n",
       "                  var fill = root.getElementsByClassName('pb-fill')[0];\n",
       "\n",
       "                  text.innerHTML = 'Simulation finished in 0:00:01.';\n",
       "                  \n",
       "            if (100.0 > 0.) {\n",
       "                fill.style.transition = 'width 0.1s linear';\n",
       "            } else {\n",
       "                fill.style.transition = 'none';\n",
       "            }\n",
       "\n",
       "            fill.style.width = '100.0%';\n",
       "            fill.style.animation = 'none';\n",
       "            fill.style.backgroundImage = 'none'\n",
       "        \n",
       "                  \n",
       "                fill.style.animation = 'none';\n",
       "                fill.style.backgroundImage = 'none';\n",
       "            \n",
       "              })();\n",
       "        </script>"
      ]
     },
     "metadata": {},
     "output_type": "display_data"
    },
    {
     "data": {
      "image/png": "[encoded data removed]",
      "text/plain": [
       "<Figure size 1152x432 with 1 Axes>"
      ]
     },
     "metadata": {
      "needs_background": "light"
     },
     "output_type": "display_data"
    }
   ],
   "source": [
    "inp_args = [2, 4, 6, 4]\n",
    "compute_func = lambda x: x / len(inp_args)\n",
    "sim_time = 0.06 # in seconds\n",
    "actual_output = np.mean(inp_args) * np.ones(int(sim_time*1000))\n",
    "\n",
    "\n",
    "sim, otp_probe = compute_neural_sum_or_avg_function(\n",
    "    inp_args=inp_args, compute_func=compute_func, num_neurons=100, sim_time=sim_time)\n",
    "plot_signals([actual_output.tolist(), sim.data[otp_probe]], [\"Actual Output\", \"SN Computed Output\"])"
   ]
  },
  {
   "cell_type": "code",
   "execution_count": 12,
   "id": "israeli-panel",
   "metadata": {
    "scrolled": true
   },
   "outputs": [
    {
     "data": {
      "application/vdom.v1+json": {
       "attributes": {},
       "tagName": "div"
      },
      "text/html": [
       "\n",
       "                <script>\n",
       "                    if (Jupyter.version.split(\".\")[0] < 5) {\n",
       "                        var pb = document.getElementById(\"063c24ed-29e2-43b7-a85c-7dfc4fbcaee5\");\n",
       "                        var text = document.createTextNode(\n",
       "                            \"HMTL progress bar requires Jupyter Notebook >= \" +\n",
       "                            \"5.0 or Jupyter Lab. Alternatively, you can use \" +\n",
       "                            \"TerminalProgressBar().\");\n",
       "                        pb.parentNode.insertBefore(text, pb);\n",
       "                    }\n",
       "                </script>\n",
       "                <div id=\"063c24ed-29e2-43b7-a85c-7dfc4fbcaee5\" style=\"\n",
       "                    width: 100%;\n",
       "                    border: 1px solid #cfcfcf;\n",
       "                    border-radius: 4px;\n",
       "                    text-align: center;\n",
       "                    position: relative;\">\n",
       "                  <div class=\"pb-text\" style=\"\n",
       "                      position: absolute;\n",
       "                      width: 100%;\">\n",
       "                    0%\n",
       "                  </div>\n",
       "                  <div class=\"pb-fill\" style=\"\n",
       "                      background-color: #bdd2e6;\n",
       "                      width: 0%;\">\n",
       "                    <style type=\"text/css\" scoped=\"scoped\">\n",
       "                        @keyframes pb-fill-anim {\n",
       "                            0% { background-position: 0 0; }\n",
       "                            100% { background-position: 100px 0; }\n",
       "                        }\n",
       "                    </style>\n",
       "                    &nbsp;\n",
       "                  </div>\n",
       "                </div>"
      ],
      "text/plain": [
       "HtmlProgressBar cannot be displayed. Please use the TerminalProgressBar. It can be enabled with `nengo.rc['progress']['progress_bar'] = 'nengo.utils.progress.TerminalProgressBar'`."
      ]
     },
     "metadata": {},
     "output_type": "display_data"
    },
    {
     "data": {
      "application/vdom.v1+json": {
       "attributes": {
        "id": "cf63b2d5-8f0b-4022-8933-3af027097773",
        "style": {
         "border": "1px solid #cfcfcf",
         "borderRadius": "4px",
         "boxSizing": "border-box",
         "position": "relative",
         "textAlign": "center",
         "width": "100%"
        }
       },
       "children": [
        {
         "attributes": {
          "class": "pb-text",
          "style": {
           "position": "absolute",
           "width": "100%"
          }
         },
         "children": [
          "Build finished in 0:00:01."
         ],
         "tagName": "div"
        },
        {
         "attributes": {
          "class": "pb-fill",
          "style": {
           "animation": "none",
           "backgroundColor": "#bdd2e6",
           "backgroundImage": "none",
           "backgroundSize": "100px 100%",
           "width": "100%"
          }
         },
         "children": [
          {
           "attributes": {
            "scoped": "scoped",
            "type": "text/css"
           },
           "children": [
            "\n                        @keyframes pb-fill-anim {\n                            0% { background-position: 0 0; }\n                            100% { background-position: 100px 0; }\n                        }}"
           ],
           "tagName": "style"
          },
          " "
         ],
         "tagName": "div"
        }
       ],
       "tagName": "div"
      },
      "text/html": [
       "<script>\n",
       "              (function () {\n",
       "                  var root = document.getElementById('063c24ed-29e2-43b7-a85c-7dfc4fbcaee5');\n",
       "                  var text = root.getElementsByClassName('pb-text')[0];\n",
       "                  var fill = root.getElementsByClassName('pb-fill')[0];\n",
       "\n",
       "                  text.innerHTML = 'Build finished in 0:00:01.';\n",
       "                  \n",
       "            fill.style.width = '100%';\n",
       "            fill.style.animation = 'pb-fill-anim 2s linear infinite';\n",
       "            fill.style.backgroundSize = '100px 100%';\n",
       "            fill.style.backgroundImage = 'repeating-linear-gradient(' +\n",
       "                '90deg, #bdd2e6, #edf2f8 40%, #bdd2e6 80%, #bdd2e6)';\n",
       "        \n",
       "                  \n",
       "                fill.style.animation = 'none';\n",
       "                fill.style.backgroundImage = 'none';\n",
       "            \n",
       "              })();\n",
       "        </script>"
      ]
     },
     "metadata": {},
     "output_type": "display_data"
    },
    {
     "data": {
      "application/vdom.v1+json": {
       "attributes": {},
       "tagName": "div"
      },
      "text/html": [
       "\n",
       "                <script>\n",
       "                    if (Jupyter.version.split(\".\")[0] < 5) {\n",
       "                        var pb = document.getElementById(\"7ee54aa2-a6a1-41c8-a9e5-5df7147cca27\");\n",
       "                        var text = document.createTextNode(\n",
       "                            \"HMTL progress bar requires Jupyter Notebook >= \" +\n",
       "                            \"5.0 or Jupyter Lab. Alternatively, you can use \" +\n",
       "                            \"TerminalProgressBar().\");\n",
       "                        pb.parentNode.insertBefore(text, pb);\n",
       "                    }\n",
       "                </script>\n",
       "                <div id=\"7ee54aa2-a6a1-41c8-a9e5-5df7147cca27\" style=\"\n",
       "                    width: 100%;\n",
       "                    border: 1px solid #cfcfcf;\n",
       "                    border-radius: 4px;\n",
       "                    text-align: center;\n",
       "                    position: relative;\">\n",
       "                  <div class=\"pb-text\" style=\"\n",
       "                      position: absolute;\n",
       "                      width: 100%;\">\n",
       "                    0%\n",
       "                  </div>\n",
       "                  <div class=\"pb-fill\" style=\"\n",
       "                      background-color: #bdd2e6;\n",
       "                      width: 0%;\">\n",
       "                    <style type=\"text/css\" scoped=\"scoped\">\n",
       "                        @keyframes pb-fill-anim {\n",
       "                            0% { background-position: 0 0; }\n",
       "                            100% { background-position: 100px 0; }\n",
       "                        }\n",
       "                    </style>\n",
       "                    &nbsp;\n",
       "                  </div>\n",
       "                </div>"
      ],
      "text/plain": [
       "HtmlProgressBar cannot be displayed. Please use the TerminalProgressBar. It can be enabled with `nengo.rc['progress']['progress_bar'] = 'nengo.utils.progress.TerminalProgressBar'`."
      ]
     },
     "metadata": {},
     "output_type": "display_data"
    },
    {
     "data": {
      "application/vdom.v1+json": {
       "attributes": {
        "id": "aa4f6013-562e-47a6-bd3b-915da8f2c93d",
        "style": {
         "border": "1px solid #cfcfcf",
         "borderRadius": "4px",
         "boxSizing": "border-box",
         "position": "relative",
         "textAlign": "center",
         "width": "100%"
        }
       },
       "children": [
        {
         "attributes": {
          "class": "pb-text",
          "style": {
           "position": "absolute",
           "width": "100%"
          }
         },
         "children": [
          "Simulation finished in 0:00:01."
         ],
         "tagName": "div"
        },
        {
         "attributes": {
          "class": "pb-fill",
          "style": {
           "animation": "none",
           "backgroundColor": "#bdd2e6",
           "backgroundImage": "none",
           "transition": "width 0.1s linear",
           "width": "100%"
          }
         },
         "children": [
          {
           "attributes": {
            "scoped": "scoped",
            "type": "text/css"
           },
           "children": [
            "\n                        @keyframes pb-fill-anim {\n                            0% { background-position: 0 0; }\n                            100% { background-position: 100px 0; }\n                        }}"
           ],
           "tagName": "style"
          },
          " "
         ],
         "tagName": "div"
        }
       ],
       "tagName": "div"
      },
      "text/html": [
       "<script>\n",
       "              (function () {\n",
       "                  var root = document.getElementById('7ee54aa2-a6a1-41c8-a9e5-5df7147cca27');\n",
       "                  var text = root.getElementsByClassName('pb-text')[0];\n",
       "                  var fill = root.getElementsByClassName('pb-fill')[0];\n",
       "\n",
       "                  text.innerHTML = 'Simulation finished in 0:00:01.';\n",
       "                  \n",
       "            if (100.0 > 0.) {\n",
       "                fill.style.transition = 'width 0.1s linear';\n",
       "            } else {\n",
       "                fill.style.transition = 'none';\n",
       "            }\n",
       "\n",
       "            fill.style.width = '100.0%';\n",
       "            fill.style.animation = 'none';\n",
       "            fill.style.backgroundImage = 'none'\n",
       "        \n",
       "                  \n",
       "                fill.style.animation = 'none';\n",
       "                fill.style.backgroundImage = 'none';\n",
       "            \n",
       "              })();\n",
       "        </script>"
      ]
     },
     "metadata": {},
     "output_type": "display_data"
    },
    {
     "data": {
      "image/png": "[encoded data removed]",
      "text/plain": [
       "<Figure size 1152x432 with 1 Axes>"
      ]
     },
     "metadata": {
      "needs_background": "light"
     },
     "output_type": "display_data"
    }
   ],
   "source": [
    "inp_args = [20, 100, 30, 40]\n",
    "compute_func = lambda x: x / len(inp_args)\n",
    "sim_time = 0.06 # in seconds\n",
    "actual_output = np.mean(inp_args) * np.ones(int(sim_time*1000))\n",
    "\n",
    "\n",
    "sim, otp_probe = compute_neural_sum_or_avg_function(\n",
    "    inp_args=inp_args, compute_func=compute_func, num_neurons=100, sim_time=sim_time)\n",
    "plot_signals([actual_output.tolist(), sim.data[otp_probe]], [\"Actual Output\", \"SN Computed Output\"])"
   ]
  },
  {
   "cell_type": "markdown",
   "id": "comparable-dragon",
   "metadata": {},
   "source": [
    "# Compute MaxPooling function"
   ]
  },
  {
   "cell_type": "code",
   "execution_count": 11,
   "id": "unable-davis",
   "metadata": {},
   "outputs": [],
   "source": [
    "def compute_neural_max_function(inp_args=[20, 100, 30, 40],\n",
    "                            neuron_type=nengo.SpikingRectifiedLinear(amplitude=1), \n",
    "                            radius=1, sim_time=0.06, num_neurons=50):\n",
    "  \"\"\"\n",
    "  It compute the trivial max function over 4 inputs in `inp_args`.\n",
    "  \"\"\"\n",
    "  net = nengo.Network(seed=SEED)  \n",
    "  with net:\n",
    "    # Contruct the neural representation of each number.\n",
    "    inp_ens_1 = nengo.Ensemble(n_neurons=num_neurons, dimensions=1, \n",
    "                               radius=radius, intercepts=nengo.dists.Uniform(-radius, radius),\n",
    "                               neuron_type=neuron_type, seed=SEED)\n",
    "    inp_node_1 = nengo.Node(output=lambda t: inp_args[0])\n",
    "    nengo.Connection(inp_node_1, inp_ens_1, seed=SEED)\n",
    "  \n",
    "    inp_ens_2 = nengo.Ensemble(n_neurons=num_neurons, dimensions=1, \n",
    "                               radius=radius, intercepts=nengo.dists.Uniform(-radius, radius),\n",
    "                               neuron_type=neuron_type, seed=SEED)\n",
    "    inp_node_2 = nengo.Node(output=lambda t: inp_args[1])\n",
    "    nengo.Connection(inp_node_2, inp_ens_2, seed=SEED)\n",
    "    \n",
    "    inp_ens_3 = nengo.Ensemble(n_neurons=num_neurons, dimensions=1, \n",
    "                               radius=radius, intercepts=nengo.dists.Uniform(-radius, radius),\n",
    "                               neuron_type=neuron_type, seed=SEED)\n",
    "    inp_node_3 = nengo.Node(output=lambda t: inp_args[2])\n",
    "    nengo.Connection(inp_node_3, inp_ens_3, seed=SEED)\n",
    "    \n",
    "    inp_ens_4 = nengo.Ensemble(n_neurons=num_neurons, dimensions=1, \n",
    "                               radius=radius, intercepts=nengo.dists.Uniform(-radius, radius),\n",
    "                               neuron_type=neuron_type, seed=SEED)\n",
    "    inp_node_4 = nengo.Node(output=lambda t: inp_args[3])\n",
    "    nengo.Connection(inp_node_4, inp_ens_4, seed=SEED)\n",
    "    \n",
    "    # Construct the representation of four dimensional vector.\n",
    "    max_ensemble = nengo.Ensemble(n_neurons=4*num_neurons, dimensions=4, radius=radius,\n",
    "                                 intercepts=nengo.dists.Uniform(-radius, radius),\n",
    "                                 neuron_type=neuron_type, seed=SEED)\n",
    "    \n",
    "    # Connect the input ensembles to each dimension of max_ensemble.\n",
    "    nengo.Connection(inp_ens_1, max_ensemble[0], seed=SEED)\n",
    "    nengo.Connection(inp_ens_2, max_ensemble[1], seed=SEED)\n",
    "    nengo.Connection(inp_ens_3, max_ensemble[2], seed=SEED)\n",
    "    nengo.Connection(inp_ens_4, max_ensemble[3], seed=SEED)\n",
    "    \n",
    "    \n",
    "    # Construct the output ensemble.\n",
    "    otp_ensemble = nengo.Ensemble(n_neurons=num_neurons, dimensions=1, radius=radius,\n",
    "                                 intercepts=nengo.dists.Uniform(-radius, radius),\n",
    "                                 neuron_type=neuron_type, seed=SEED)\n",
    "    nengo.Connection(max_ensemble, otp_ensemble, function=lambda x: max(x[0], x[1], x[2], x[3]),\n",
    "                    seed=SEED)\n",
    "    \n",
    "    # Get the function output through a probe.\n",
    "    otp_probe = nengo.Probe(otp_ensemble, attr=\"decoded_output\", synapse=nengo.Lowpass(0.005))\n",
    "  \n",
    "  with nengo.Simulator(net) as sim:\n",
    "    sim.run(sim_time)\n",
    "  \n",
    "  return sim, otp_probe"
   ]
  },
  {
   "cell_type": "code",
   "execution_count": 14,
   "id": "gorgeous-breed",
   "metadata": {},
   "outputs": [
    {
     "data": {
      "application/vdom.v1+json": {
       "attributes": {},
       "tagName": "div"
      },
      "text/html": [
       "\n",
       "                <script>\n",
       "                    if (Jupyter.version.split(\".\")[0] < 5) {\n",
       "                        var pb = document.getElementById(\"3a34f536-68e2-4be9-9bd4-3396e99c985f\");\n",
       "                        var text = document.createTextNode(\n",
       "                            \"HMTL progress bar requires Jupyter Notebook >= \" +\n",
       "                            \"5.0 or Jupyter Lab. Alternatively, you can use \" +\n",
       "                            \"TerminalProgressBar().\");\n",
       "                        pb.parentNode.insertBefore(text, pb);\n",
       "                    }\n",
       "                </script>\n",
       "                <div id=\"3a34f536-68e2-4be9-9bd4-3396e99c985f\" style=\"\n",
       "                    width: 100%;\n",
       "                    border: 1px solid #cfcfcf;\n",
       "                    border-radius: 4px;\n",
       "                    text-align: center;\n",
       "                    position: relative;\">\n",
       "                  <div class=\"pb-text\" style=\"\n",
       "                      position: absolute;\n",
       "                      width: 100%;\">\n",
       "                    0%\n",
       "                  </div>\n",
       "                  <div class=\"pb-fill\" style=\"\n",
       "                      background-color: #bdd2e6;\n",
       "                      width: 0%;\">\n",
       "                    <style type=\"text/css\" scoped=\"scoped\">\n",
       "                        @keyframes pb-fill-anim {\n",
       "                            0% { background-position: 0 0; }\n",
       "                            100% { background-position: 100px 0; }\n",
       "                        }\n",
       "                    </style>\n",
       "                    &nbsp;\n",
       "                  </div>\n",
       "                </div>"
      ],
      "text/plain": [
       "HtmlProgressBar cannot be displayed. Please use the TerminalProgressBar. It can be enabled with `nengo.rc['progress']['progress_bar'] = 'nengo.utils.progress.TerminalProgressBar'`."
      ]
     },
     "metadata": {},
     "output_type": "display_data"
    },
    {
     "data": {
      "application/vdom.v1+json": {
       "attributes": {
        "id": "bb0ec2b2-e42a-4959-943c-96481b1e889b",
        "style": {
         "border": "1px solid #cfcfcf",
         "borderRadius": "4px",
         "boxSizing": "border-box",
         "position": "relative",
         "textAlign": "center",
         "width": "100%"
        }
       },
       "children": [
        {
         "attributes": {
          "class": "pb-text",
          "style": {
           "position": "absolute",
           "width": "100%"
          }
         },
         "children": [
          "Build finished in 0:00:01."
         ],
         "tagName": "div"
        },
        {
         "attributes": {
          "class": "pb-fill",
          "style": {
           "animation": "none",
           "backgroundColor": "#bdd2e6",
           "backgroundImage": "none",
           "backgroundSize": "100px 100%",
           "width": "100%"
          }
         },
         "children": [
          {
           "attributes": {
            "scoped": "scoped",
            "type": "text/css"
           },
           "children": [
            "\n                        @keyframes pb-fill-anim {\n                            0% { background-position: 0 0; }\n                            100% { background-position: 100px 0; }\n                        }}"
           ],
           "tagName": "style"
          },
          " "
         ],
         "tagName": "div"
        }
       ],
       "tagName": "div"
      },
      "text/html": [
       "<script>\n",
       "              (function () {\n",
       "                  var root = document.getElementById('3a34f536-68e2-4be9-9bd4-3396e99c985f');\n",
       "                  var text = root.getElementsByClassName('pb-text')[0];\n",
       "                  var fill = root.getElementsByClassName('pb-fill')[0];\n",
       "\n",
       "                  text.innerHTML = 'Build finished in 0:00:01.';\n",
       "                  \n",
       "            fill.style.width = '100%';\n",
       "            fill.style.animation = 'pb-fill-anim 2s linear infinite';\n",
       "            fill.style.backgroundSize = '100px 100%';\n",
       "            fill.style.backgroundImage = 'repeating-linear-gradient(' +\n",
       "                '90deg, #bdd2e6, #edf2f8 40%, #bdd2e6 80%, #bdd2e6)';\n",
       "        \n",
       "                  \n",
       "                fill.style.animation = 'none';\n",
       "                fill.style.backgroundImage = 'none';\n",
       "            \n",
       "              })();\n",
       "        </script>"
      ]
     },
     "metadata": {},
     "output_type": "display_data"
    },
    {
     "data": {
      "application/vdom.v1+json": {
       "attributes": {},
       "tagName": "div"
      },
      "text/html": [
       "\n",
       "                <script>\n",
       "                    if (Jupyter.version.split(\".\")[0] < 5) {\n",
       "                        var pb = document.getElementById(\"0dea188d-946b-4e67-8439-75428a12260c\");\n",
       "                        var text = document.createTextNode(\n",
       "                            \"HMTL progress bar requires Jupyter Notebook >= \" +\n",
       "                            \"5.0 or Jupyter Lab. Alternatively, you can use \" +\n",
       "                            \"TerminalProgressBar().\");\n",
       "                        pb.parentNode.insertBefore(text, pb);\n",
       "                    }\n",
       "                </script>\n",
       "                <div id=\"0dea188d-946b-4e67-8439-75428a12260c\" style=\"\n",
       "                    width: 100%;\n",
       "                    border: 1px solid #cfcfcf;\n",
       "                    border-radius: 4px;\n",
       "                    text-align: center;\n",
       "                    position: relative;\">\n",
       "                  <div class=\"pb-text\" style=\"\n",
       "                      position: absolute;\n",
       "                      width: 100%;\">\n",
       "                    0%\n",
       "                  </div>\n",
       "                  <div class=\"pb-fill\" style=\"\n",
       "                      background-color: #bdd2e6;\n",
       "                      width: 0%;\">\n",
       "                    <style type=\"text/css\" scoped=\"scoped\">\n",
       "                        @keyframes pb-fill-anim {\n",
       "                            0% { background-position: 0 0; }\n",
       "                            100% { background-position: 100px 0; }\n",
       "                        }\n",
       "                    </style>\n",
       "                    &nbsp;\n",
       "                  </div>\n",
       "                </div>"
      ],
      "text/plain": [
       "HtmlProgressBar cannot be displayed. Please use the TerminalProgressBar. It can be enabled with `nengo.rc['progress']['progress_bar'] = 'nengo.utils.progress.TerminalProgressBar'`."
      ]
     },
     "metadata": {},
     "output_type": "display_data"
    },
    {
     "data": {
      "application/vdom.v1+json": {
       "attributes": {
        "id": "f65793bf-52df-4903-a3d5-4060ec56c178",
        "style": {
         "border": "1px solid #cfcfcf",
         "borderRadius": "4px",
         "boxSizing": "border-box",
         "position": "relative",
         "textAlign": "center",
         "width": "100%"
        }
       },
       "children": [
        {
         "attributes": {
          "class": "pb-text",
          "style": {
           "position": "absolute",
           "width": "100%"
          }
         },
         "children": [
          "Simulation finished in 0:00:01."
         ],
         "tagName": "div"
        },
        {
         "attributes": {
          "class": "pb-fill",
          "style": {
           "animation": "none",
           "backgroundColor": "#bdd2e6",
           "backgroundImage": "none",
           "transition": "width 0.1s linear",
           "width": "100%"
          }
         },
         "children": [
          {
           "attributes": {
            "scoped": "scoped",
            "type": "text/css"
           },
           "children": [
            "\n                        @keyframes pb-fill-anim {\n                            0% { background-position: 0 0; }\n                            100% { background-position: 100px 0; }\n                        }}"
           ],
           "tagName": "style"
          },
          " "
         ],
         "tagName": "div"
        }
       ],
       "tagName": "div"
      },
      "text/html": [
       "<script>\n",
       "              (function () {\n",
       "                  var root = document.getElementById('0dea188d-946b-4e67-8439-75428a12260c');\n",
       "                  var text = root.getElementsByClassName('pb-text')[0];\n",
       "                  var fill = root.getElementsByClassName('pb-fill')[0];\n",
       "\n",
       "                  text.innerHTML = 'Simulation finished in 0:00:01.';\n",
       "                  \n",
       "            if (100.0 > 0.) {\n",
       "                fill.style.transition = 'width 0.1s linear';\n",
       "            } else {\n",
       "                fill.style.transition = 'none';\n",
       "            }\n",
       "\n",
       "            fill.style.width = '100.0%';\n",
       "            fill.style.animation = 'none';\n",
       "            fill.style.backgroundImage = 'none'\n",
       "        \n",
       "                  \n",
       "                fill.style.animation = 'none';\n",
       "                fill.style.backgroundImage = 'none';\n",
       "            \n",
       "              })();\n",
       "        </script>"
      ]
     },
     "metadata": {},
     "output_type": "display_data"
    },
    {
     "data": {
      "image/png": "[encoded data removed]",
      "text/plain": [
       "<Figure size 1152x432 with 1 Axes>"
      ]
     },
     "metadata": {
      "needs_background": "light"
     },
     "output_type": "display_data"
    }
   ],
   "source": [
    "inp_args = [20, 100, 30, 40]\n",
    "sim_time = 0.06 # in seconds\n",
    "actual_output = max(inp_args) * np.ones(int(sim_time*1000))\n",
    "\n",
    "\n",
    "sim, otp_probe = compute_neural_max_function(\n",
    "    inp_args=inp_args, num_neurons=200, sim_time=sim_time)\n",
    "plot_signals([actual_output.tolist(), sim.data[otp_probe]], [\"Actual Output\", \"SN Computed Output\"])"
   ]
  },
  {
   "cell_type": "markdown",
   "id": "dressed-turkey",
   "metadata": {},
   "source": [
    "# Computing p-norm max (i.e. infinity norm)"
   ]
  },
  {
   "cell_type": "code",
   "execution_count": 4,
   "id": "residential-simulation",
   "metadata": {},
   "outputs": [],
   "source": [
    "def compute_neural_p_norm_function(inp_args=[20, 100, 30, 40], p=2,\n",
    "                            neuron_type=nengo.SpikingRectifiedLinear(amplitude=1), \n",
    "                            radius=1, sim_time=0.06, num_neurons=50):\n",
    "  \n",
    "  def _p_norm(x):\n",
    "    return (x[0]**p + x[1]**p + x[2]**p + x[2]**p)**(1/p)\n",
    "  \n",
    "  \"\"\"\n",
    "  It compute the trivial max function over 4 inputs in `inp_args`.\n",
    "  \"\"\"\n",
    "  net = nengo.Network(seed=SEED)  \n",
    "  with net:\n",
    "    # Contruct the neural representation of each number.\n",
    "    inp_ens_1 = nengo.Ensemble(n_neurons=num_neurons, dimensions=1, \n",
    "                               radius=radius, intercepts=nengo.dists.Uniform(-radius, radius),\n",
    "                               neuron_type=neuron_type, seed=SEED)\n",
    "    inp_node_1 = nengo.Node(output=lambda t: inp_args[0])\n",
    "    nengo.Connection(inp_node_1, inp_ens_1, seed=SEED)\n",
    "  \n",
    "    inp_ens_2 = nengo.Ensemble(n_neurons=num_neurons, dimensions=1, \n",
    "                               radius=radius, intercepts=nengo.dists.Uniform(-radius, radius),\n",
    "                               neuron_type=neuron_type, seed=SEED)\n",
    "    inp_node_2 = nengo.Node(output=lambda t: inp_args[1])\n",
    "    nengo.Connection(inp_node_2, inp_ens_2, seed=SEED)\n",
    "    \n",
    "    inp_ens_3 = nengo.Ensemble(n_neurons=num_neurons, dimensions=1, \n",
    "                               radius=radius, intercepts=nengo.dists.Uniform(-radius, radius),\n",
    "                               neuron_type=neuron_type, seed=SEED)\n",
    "    inp_node_3 = nengo.Node(output=lambda t: inp_args[2])\n",
    "    nengo.Connection(inp_node_3, inp_ens_3, seed=SEED)\n",
    "    \n",
    "    inp_ens_4 = nengo.Ensemble(n_neurons=num_neurons, dimensions=1, \n",
    "                               radius=radius, intercepts=nengo.dists.Uniform(-radius, radius),\n",
    "                               neuron_type=neuron_type, seed=SEED)\n",
    "    inp_node_4 = nengo.Node(output=lambda t: inp_args[3])\n",
    "    nengo.Connection(inp_node_4, inp_ens_4, seed=SEED)\n",
    "    \n",
    "    # Construct the representation of four dimensional vector.\n",
    "    max_ensemble = nengo.Ensemble(n_neurons=4*num_neurons, dimensions=4, radius=radius,\n",
    "                                 intercepts=nengo.dists.Uniform(-radius, radius),\n",
    "                                 neuron_type=neuron_type, seed=SEED)\n",
    "    \n",
    "    # Connect the input ensembles to each dimension of max_ensemble.\n",
    "    nengo.Connection(inp_ens_1, max_ensemble[0], seed=SEED)\n",
    "    nengo.Connection(inp_ens_2, max_ensemble[1], seed=SEED)\n",
    "    nengo.Connection(inp_ens_3, max_ensemble[2], seed=SEED)\n",
    "    nengo.Connection(inp_ens_4, max_ensemble[3], seed=SEED)\n",
    "    \n",
    "    \n",
    "    # Construct the output ensemble.\n",
    "    otp_ensemble = nengo.Ensemble(n_neurons=num_neurons, dimensions=1, radius=radius,\n",
    "                                 intercepts=nengo.dists.Uniform(-radius, radius),\n",
    "                                 neuron_type=neuron_type, seed=SEED)\n",
    "    nengo.Connection(max_ensemble, otp_ensemble, function=_p_norm,\n",
    "                    seed=SEED)\n",
    "    \n",
    "    # Get the function output through a probe.\n",
    "    otp_probe = nengo.Probe(otp_ensemble, attr=\"decoded_output\", synapse=nengo.Lowpass(0.005))\n",
    "  \n",
    "  with nengo.Simulator(net) as sim:\n",
    "    sim.run(sim_time)\n",
    "  \n",
    "  return sim, otp_probe"
   ]
  },
  {
   "cell_type": "code",
   "execution_count": 26,
   "id": "billion-average",
   "metadata": {},
   "outputs": [
    {
     "data": {
      "application/vdom.v1+json": {
       "attributes": {},
       "tagName": "div"
      },
      "text/html": [
       "\n",
       "                <script>\n",
       "                    if (Jupyter.version.split(\".\")[0] < 5) {\n",
       "                        var pb = document.getElementById(\"f5c3937b-c726-4a62-8600-9f4b895c9978\");\n",
       "                        var text = document.createTextNode(\n",
       "                            \"HMTL progress bar requires Jupyter Notebook >= \" +\n",
       "                            \"5.0 or Jupyter Lab. Alternatively, you can use \" +\n",
       "                            \"TerminalProgressBar().\");\n",
       "                        pb.parentNode.insertBefore(text, pb);\n",
       "                    }\n",
       "                </script>\n",
       "                <div id=\"f5c3937b-c726-4a62-8600-9f4b895c9978\" style=\"\n",
       "                    width: 100%;\n",
       "                    border: 1px solid #cfcfcf;\n",
       "                    border-radius: 4px;\n",
       "                    text-align: center;\n",
       "                    position: relative;\">\n",
       "                  <div class=\"pb-text\" style=\"\n",
       "                      position: absolute;\n",
       "                      width: 100%;\">\n",
       "                    0%\n",
       "                  </div>\n",
       "                  <div class=\"pb-fill\" style=\"\n",
       "                      background-color: #bdd2e6;\n",
       "                      width: 0%;\">\n",
       "                    <style type=\"text/css\" scoped=\"scoped\">\n",
       "                        @keyframes pb-fill-anim {\n",
       "                            0% { background-position: 0 0; }\n",
       "                            100% { background-position: 100px 0; }\n",
       "                        }\n",
       "                    </style>\n",
       "                    &nbsp;\n",
       "                  </div>\n",
       "                </div>"
      ],
      "text/plain": [
       "HtmlProgressBar cannot be displayed. Please use the TerminalProgressBar. It can be enabled with `nengo.rc['progress']['progress_bar'] = 'nengo.utils.progress.TerminalProgressBar'`."
      ]
     },
     "metadata": {},
     "output_type": "display_data"
    },
    {
     "data": {
      "application/vdom.v1+json": {
       "attributes": {
        "id": "0b9464ab-034a-4fa4-87f8-6fa7a2420615",
        "style": {
         "border": "1px solid #cfcfcf",
         "borderRadius": "4px",
         "boxSizing": "border-box",
         "position": "relative",
         "textAlign": "center",
         "width": "100%"
        }
       },
       "children": [
        {
         "attributes": {
          "class": "pb-text",
          "style": {
           "position": "absolute",
           "width": "100%"
          }
         },
         "children": [
          "Build finished in 0:00:01."
         ],
         "tagName": "div"
        },
        {
         "attributes": {
          "class": "pb-fill",
          "style": {
           "animation": "none",
           "backgroundColor": "#bdd2e6",
           "backgroundImage": "none",
           "backgroundSize": "100px 100%",
           "width": "100%"
          }
         },
         "children": [
          {
           "attributes": {
            "scoped": "scoped",
            "type": "text/css"
           },
           "children": [
            "\n                        @keyframes pb-fill-anim {\n                            0% { background-position: 0 0; }\n                            100% { background-position: 100px 0; }\n                        }}"
           ],
           "tagName": "style"
          },
          " "
         ],
         "tagName": "div"
        }
       ],
       "tagName": "div"
      },
      "text/html": [
       "<script>\n",
       "              (function () {\n",
       "                  var root = document.getElementById('f5c3937b-c726-4a62-8600-9f4b895c9978');\n",
       "                  var text = root.getElementsByClassName('pb-text')[0];\n",
       "                  var fill = root.getElementsByClassName('pb-fill')[0];\n",
       "\n",
       "                  text.innerHTML = 'Build finished in 0:00:01.';\n",
       "                  \n",
       "            fill.style.width = '100%';\n",
       "            fill.style.animation = 'pb-fill-anim 2s linear infinite';\n",
       "            fill.style.backgroundSize = '100px 100%';\n",
       "            fill.style.backgroundImage = 'repeating-linear-gradient(' +\n",
       "                '90deg, #bdd2e6, #edf2f8 40%, #bdd2e6 80%, #bdd2e6)';\n",
       "        \n",
       "                  \n",
       "                fill.style.animation = 'none';\n",
       "                fill.style.backgroundImage = 'none';\n",
       "            \n",
       "              })();\n",
       "        </script>"
      ]
     },
     "metadata": {},
     "output_type": "display_data"
    },
    {
     "data": {
      "application/vdom.v1+json": {
       "attributes": {},
       "tagName": "div"
      },
      "text/html": [
       "\n",
       "                <script>\n",
       "                    if (Jupyter.version.split(\".\")[0] < 5) {\n",
       "                        var pb = document.getElementById(\"f24457e4-69ff-4d6a-9b76-b7df0c21d74d\");\n",
       "                        var text = document.createTextNode(\n",
       "                            \"HMTL progress bar requires Jupyter Notebook >= \" +\n",
       "                            \"5.0 or Jupyter Lab. Alternatively, you can use \" +\n",
       "                            \"TerminalProgressBar().\");\n",
       "                        pb.parentNode.insertBefore(text, pb);\n",
       "                    }\n",
       "                </script>\n",
       "                <div id=\"f24457e4-69ff-4d6a-9b76-b7df0c21d74d\" style=\"\n",
       "                    width: 100%;\n",
       "                    border: 1px solid #cfcfcf;\n",
       "                    border-radius: 4px;\n",
       "                    text-align: center;\n",
       "                    position: relative;\">\n",
       "                  <div class=\"pb-text\" style=\"\n",
       "                      position: absolute;\n",
       "                      width: 100%;\">\n",
       "                    0%\n",
       "                  </div>\n",
       "                  <div class=\"pb-fill\" style=\"\n",
       "                      background-color: #bdd2e6;\n",
       "                      width: 0%;\">\n",
       "                    <style type=\"text/css\" scoped=\"scoped\">\n",
       "                        @keyframes pb-fill-anim {\n",
       "                            0% { background-position: 0 0; }\n",
       "                            100% { background-position: 100px 0; }\n",
       "                        }\n",
       "                    </style>\n",
       "                    &nbsp;\n",
       "                  </div>\n",
       "                </div>"
      ],
      "text/plain": [
       "HtmlProgressBar cannot be displayed. Please use the TerminalProgressBar. It can be enabled with `nengo.rc['progress']['progress_bar'] = 'nengo.utils.progress.TerminalProgressBar'`."
      ]
     },
     "metadata": {},
     "output_type": "display_data"
    },
    {
     "data": {
      "application/vdom.v1+json": {
       "attributes": {
        "id": "e29fa6f8-3c72-46da-a08f-deee8577c827",
        "style": {
         "border": "1px solid #cfcfcf",
         "borderRadius": "4px",
         "boxSizing": "border-box",
         "position": "relative",
         "textAlign": "center",
         "width": "100%"
        }
       },
       "children": [
        {
         "attributes": {
          "class": "pb-text",
          "style": {
           "position": "absolute",
           "width": "100%"
          }
         },
         "children": [
          "Simulation finished in 0:00:01."
         ],
         "tagName": "div"
        },
        {
         "attributes": {
          "class": "pb-fill",
          "style": {
           "animation": "none",
           "backgroundColor": "#bdd2e6",
           "backgroundImage": "none",
           "transition": "width 0.1s linear",
           "width": "100%"
          }
         },
         "children": [
          {
           "attributes": {
            "scoped": "scoped",
            "type": "text/css"
           },
           "children": [
            "\n                        @keyframes pb-fill-anim {\n                            0% { background-position: 0 0; }\n                            100% { background-position: 100px 0; }\n                        }}"
           ],
           "tagName": "style"
          },
          " "
         ],
         "tagName": "div"
        }
       ],
       "tagName": "div"
      },
      "text/html": [
       "<script>\n",
       "              (function () {\n",
       "                  var root = document.getElementById('f24457e4-69ff-4d6a-9b76-b7df0c21d74d');\n",
       "                  var text = root.getElementsByClassName('pb-text')[0];\n",
       "                  var fill = root.getElementsByClassName('pb-fill')[0];\n",
       "\n",
       "                  text.innerHTML = 'Simulation finished in 0:00:01.';\n",
       "                  \n",
       "            if (100.0 > 0.) {\n",
       "                fill.style.transition = 'width 0.1s linear';\n",
       "            } else {\n",
       "                fill.style.transition = 'none';\n",
       "            }\n",
       "\n",
       "            fill.style.width = '100.0%';\n",
       "            fill.style.animation = 'none';\n",
       "            fill.style.backgroundImage = 'none'\n",
       "        \n",
       "                  \n",
       "                fill.style.animation = 'none';\n",
       "                fill.style.backgroundImage = 'none';\n",
       "            \n",
       "              })();\n",
       "        </script>"
      ]
     },
     "metadata": {},
     "output_type": "display_data"
    },
    {
     "data": {
      "image/png": "[encoded data removed]",
      "text/plain": [
       "<Figure size 1152x432 with 1 Axes>"
      ]
     },
     "metadata": {
      "needs_background": "light"
     },
     "output_type": "display_data"
    }
   ],
   "source": [
    "def p_norm(x, p=2):\n",
    "  return (x[0]**p + x[1]**p + x[2]**p + x[3]**p)**(1/p)\n",
    "\n",
    "#inp_args = [20, 100, 30, 40]\n",
    "inp_args = [2, 4, 6, 4]\n",
    "sim_time = 0.06 # in seconds\n",
    "p = 10\n",
    "actual_output = p_norm(inp_args, p) * np.ones(int(sim_time*1000))\n",
    "\n",
    "\n",
    "sim, otp_probe = compute_neural_p_norm_function(\n",
    "    inp_args=inp_args, p=p, num_neurons=50, sim_time=sim_time)\n",
    "plot_signals([actual_output.tolist(), sim.data[otp_probe]], [\"Actual Output\", \"SN Computed Output\"])"
   ]
  },
  {
   "cell_type": "code",
   "execution_count": null,
   "id": "touched-equality",
   "metadata": {},
   "outputs": [],
   "source": []
  }
 ],
 "metadata": {
  "kernelspec": {
   "display_name": "Python 3",
   "language": "python",
   "name": "python3"
  },
  "language_info": {
   "codemirror_mode": {
    "name": "ipython",
    "version": 3
   },
   "file_extension": ".py",
   "mimetype": "text/x-python",
   "name": "python",
   "nbconvert_exporter": "python",
   "pygments_lexer": "ipython3",
   "version": "3.7.7"
  }
 },
 "nbformat": 4,
 "nbformat_minor": 5
}
