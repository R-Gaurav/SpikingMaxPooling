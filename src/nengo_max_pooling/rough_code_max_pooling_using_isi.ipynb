{
 "cells": [
  {
   "cell_type": "code",
   "execution_count": null,
   "id": "honest-wrist",
   "metadata": {},
   "outputs": [],
   "source": [
    "#neurons_prev_spk_time = [0, 0]\n",
    "\n",
    "\n",
    "#prev_spk_time =[0, 0]\n",
    "#isi = np.zeros((1, 2))\n",
    "##################################################################################################\n",
    "#   if np.any(spiked_neurons_mask): # One or more neurons have spiked at the current timestep.\n",
    "    \n",
    "#     # Enter the following block if none of the neurons had spiked previously i.e. the current\n",
    "#     # timestep's spiking is the first time spiking.\n",
    "#     if not np.any(neurons_prev_spk_time): # np.any([0, 0]) -> False\n",
    "#       # Get the timestep of its first spike.\n",
    "#       neurons_prev_spk_time[:] = spiked_neurons_mask*int_t\n",
    "#       # If more than one neuron have spiked, choose any (Winner Take All method based on first spike).\n",
    "#       # (although np.argmax returns the index of the first highest element).\n",
    "#       max_pool_mask[np.argmax(neurons_prev_spk_time)] = 1.0\n",
    "#       print(\"Int t\", int_t)\n",
    "#       print(\"MaxPool Mask\", max_pool_mask)\n",
    "#       print(\"X\", x)\n",
    "#       print(\"neurons_prev_spk_time\", neurons_prev_spk_time)\n",
    "#       print(\"*\"*80)\n",
    "    \n",
    "#     # One or more neurons had spiked previously, now some neurons (could be just one neuron) \n",
    "#     # have spiked for the first time or again in the current timestep.\n",
    "#     else:\n",
    "#       # Calculate the ISI, few elements in `neurons_isi` will be negative for those neurons \n",
    "#       # which had spiked earlier, but didn't spike in current timestep.\n",
    "#       neurons_isi = spiked_neurons_mask*int_t - neurons_prev_spk_time\n",
    "      \n",
    "#       # Check if any neuron has spiked earlier, if the same neuron spiked again in this timestep\n",
    "#       # then calculate its ISI and set the max_pool_mask to the minimum ISI.\n",
    "#       previously_spiked_mask = np.logical_not(np.isin(neurons_prev_spk_time, 0))\n",
    "#       same_neurons_spiked_mask = previously_spiked_mask & spiked_neurons_mask\n",
    "#       # Mask the non-same neurons (i.e. null their contribution) and calculate the index of \n",
    "#       # the minimum ISI and set the max_pool_mask.\n",
    "#       print(\"Int t => Any of the neurons spiked at time: \", int_t)\n",
    "#       print(\"X\", x)\n",
    "#       print(\"neurons_prev_spk_time\", neurons_prev_spk_time)\n",
    "#       print(\"Neurons ISI:\", neurons_isi)\n",
    "#       if np.any(same_neurons_spiked_mask):\n",
    "#         max_pool_mask[:] = np.zeros(num_x) # Re-initialize the max_pool_mask to all 0s.\n",
    "#         max_pool_mask[np.argmin(\n",
    "#             nma.masked_array(neurons_isi, np.logical_not(same_neurons_spiked_mask)))] = 1.0\n",
    "#         print(\"same_neurons_spiked_mask\", same_neurons_spiked_mask)\n",
    "#         print(\"*\"*80)\n",
    "      \n",
    "#       # Update `neurons_prev_spk_time`.\n",
    "#       neurons_prev_spk_time[:] += np.where(neurons_isi > 0, neurons_isi, neurons_isi*0)\n",
    "#       print(\"MaxPool Mask\", max_pool_mask)\n",
    "#       print(\"Updated neurons_prev_spk_time\", neurons_prev_spk_time)\n",
    "#       print(\"#\"*80)\n",
    "####################################################################################\n",
    "        \n",
    "###############################################################################      \n",
    "#   if prev_spk_time[0] == 0 and x[0] == 1000.0:\n",
    "#       prev_spk_time[0] = int_t\n",
    "#       isi[0, 0] = int_t\n",
    "#   elif x[0] == 1000.0:\n",
    "#       print(\"ISI 1st Neuron: \", int_t - prev_spk_time[0])\n",
    "#       isi[0, 0] = int_t - prev_spk_time[0]\n",
    "#       prev_spk_time[0] = int_t\n",
    "  \n",
    "#   if prev_spk_time[1] == 0 and x[1] == 1000.0:\n",
    "#       prev_spk_time[1] = int_t\n",
    "#       isi[0, 1] = int_t\n",
    "#   elif x[1] == 1000.0:\n",
    "#       print(\"ISI 2nd Neuron: \", int_t - prev_spk_time[1])\n",
    "#       isi[0, 1] = int_t - prev_spk_time[1]\n",
    "#       prev_spk_time[1] = int_t\n",
    "  \n",
    "#   # If any of the element in `isi` is non-zero it evaluates to True, thus supports TTFS method as well.\n",
    "#   print(\"ISI: %s\" % isi)\n",
    "#   max_val_idx = np.argmin(isi)\n",
    "#   max_pool_mask = np.array([1 if max_val_idx == 0 else 0, 1 if max_val_idx == 1 else 0])\n",
    "#   print(\"MP Mask: \", max_pool_mask)\n",
    "#   return np.dot(max_pool_mask, x)\n",
    "##############################################################################"
   ]
  },
  {
   "cell_type": "code",
   "execution_count": 1,
   "id": "southwest-moldova",
   "metadata": {},
   "outputs": [],
   "source": [
    "import _init_paths\n",
    "from utils.cnn_2d_utils import get_2d_cnn_model\n",
    "from utils.nengo_dl_utils import get_nengo_dl_model\n",
    "from configs.exp_configs import tf_exp_cfg, nengo_dl_cfg\n",
    "from utils.consts.exp_consts import NEURONS_LAST_SPIKED_TS, NEURONS_LATEST_ISI, MAX_POOL_MASK, ISI_BASED_MP_PARAMS\n",
    "from utils.base_utils.exp_utils import get_isi_based_max_pooling_params"
   ]
  },
  {
   "cell_type": "code",
   "execution_count": 2,
   "id": "cutting-treasure",
   "metadata": {},
   "outputs": [],
   "source": [
    "model = get_2d_cnn_model((1, 28, 28), tf_exp_cfg)"
   ]
  },
  {
   "cell_type": "code",
   "execution_count": 3,
   "id": "amazing-gentleman",
   "metadata": {},
   "outputs": [
    {
     "name": "stdout",
     "output_type": "stream",
     "text": [
      "Model: \"model\"\n",
      "_________________________________________________________________\n",
      "Layer (type)                 Output Shape              Param #   \n",
      "=================================================================\n",
      "input_1 (InputLayer)         [(None, 1, 28, 28)]       0         \n",
      "_________________________________________________________________\n",
      "conv2d (Conv2D)              (None, 16, 26, 26)        160       \n",
      "_________________________________________________________________\n",
      "max_pooling2d (MaxPooling2D) (None, 16, 13, 13)        0         \n",
      "_________________________________________________________________\n",
      "conv2d_1 (Conv2D)            (None, 24, 11, 11)        3480      \n",
      "_________________________________________________________________\n",
      "max_pooling2d_1 (MaxPooling2 (None, 24, 5, 5)          0         \n",
      "_________________________________________________________________\n",
      "conv2d_2 (Conv2D)            (None, 32, 3, 3)          6944      \n",
      "_________________________________________________________________\n",
      "flatten (Flatten)            (None, 288)               0         \n",
      "_________________________________________________________________\n",
      "dense (Dense)                (None, 64)                18496     \n",
      "_________________________________________________________________\n",
      "dense_1 (Dense)              (None, 10)                650       \n",
      "=================================================================\n",
      "Total params: 29,730\n",
      "Trainable params: 29,730\n",
      "Non-trainable params: 0\n",
      "_________________________________________________________________\n"
     ]
    }
   ],
   "source": [
    "model[0].summary()"
   ]
  },
  {
   "cell_type": "code",
   "execution_count": 2,
   "id": "expired-start",
   "metadata": {
    "scrolled": true
   },
   "outputs": [
    {
     "name": "stderr",
     "output_type": "stream",
     "text": [
      "/home/rgaurav/miniconda3/envs/latest-nengo-tf/lib/python3.7/site-packages/nengo_dl/converter.py:326: UserWarning: Cannot convert max pooling layers to native Nengo objects; consider setting max_to_avg_pool=True to use average pooling instead. Falling back to TensorNode.\n",
      "  % (error_msg + \". \" if error_msg else \"\")\n",
      "/home/rgaurav/miniconda3/envs/latest-nengo-tf/lib/python3.7/site-packages/nengo_dl/converter.py:588: UserWarning: Activation type <function softmax at 0x2b67d58c7ef0> does not have a native Nengo equivalent; falling back to a TensorNode\n",
      "  \"falling back to a TensorNode\" % activation\n"
     ]
    }
   ],
   "source": [
    "ndl_model, ndl_probes = get_nengo_dl_model((1, 28, 28), tf_exp_cfg, nengo_dl_cfg)"
   ]
  },
  {
   "cell_type": "code",
   "execution_count": 3,
   "id": "nervous-wellington",
   "metadata": {},
   "outputs": [
    {
     "data": {
      "text/plain": [
       "<Connection at 0x2b67f54bb790 from <Neurons of <Ensemble \"conv2d.0\">> to <TensorNode \"max_pooling2d\">>"
      ]
     },
     "execution_count": 3,
     "metadata": {},
     "output_type": "execute_result"
    }
   ],
   "source": [
    "conn = ndl_model.net.all_connections[3]\n",
    "conn"
   ]
  },
  {
   "cell_type": "code",
   "execution_count": 4,
   "id": "comic-notice",
   "metadata": {},
   "outputs": [
    {
     "data": {
      "text/plain": [
       "10816"
      ]
     },
     "execution_count": 4,
     "metadata": {},
     "output_type": "execute_result"
    }
   ],
   "source": [
    "conn.post_obj.size_in"
   ]
  },
  {
   "cell_type": "code",
   "execution_count": 5,
   "id": "motivated-modeling",
   "metadata": {},
   "outputs": [],
   "source": [
    "get_isi_based_max_pooling_params(\"JKJK\", ndl_model.model.layers)"
   ]
  },
  {
   "cell_type": "code",
   "execution_count": 11,
   "id": "informal-julian",
   "metadata": {},
   "outputs": [
    {
     "data": {
      "text/plain": [
       "array([0., 0., 0., 0.])"
      ]
     },
     "execution_count": 11,
     "metadata": {},
     "output_type": "execute_result"
    }
   ],
   "source": [
    "NEURONS_LAST_SPIKED_TS[10816][15, 2:4, 2:4].flatten()"
   ]
  },
  {
   "cell_type": "code",
   "execution_count": 2,
   "id": "neural-closer",
   "metadata": {},
   "outputs": [],
   "source": [
    "def _get_conv_layer_output_shape(layer_name):\n",
    "  for layer in ndl_model.model.layers:\n",
    "    if layer.name == layer_name.split(\".\")[0]:\n",
    "      return layer.output.shape[1:] # (num_chnls, rows, cols)"
   ]
  },
  {
   "cell_type": "code",
   "execution_count": 23,
   "id": "breeding-tactics",
   "metadata": {},
   "outputs": [
    {
     "name": "stdout",
     "output_type": "stream",
     "text": [
      "(16, 13, 13)\n"
     ]
    }
   ],
   "source": [
    "print(_get_conv_layer_output_shape(\"max_pooling2d_4\"))"
   ]
  },
  {
   "cell_type": "code",
   "execution_count": 22,
   "id": "variable-quantity",
   "metadata": {
    "scrolled": true
   },
   "outputs": [
    {
     "data": {
      "text/plain": [
       "'max_pooling2d_4'"
      ]
     },
     "execution_count": 22,
     "metadata": {},
     "output_type": "execute_result"
    }
   ],
   "source": [
    "ndl_model.model.layers[2].name"
   ]
  },
  {
   "cell_type": "code",
   "execution_count": 13,
   "id": "numerical-petersburg",
   "metadata": {},
   "outputs": [
    {
     "data": {
      "text/plain": [
       "2"
      ]
     },
     "execution_count": 13,
     "metadata": {},
     "output_type": "execute_result"
    }
   ],
   "source": [
    "5//2"
   ]
  },
  {
   "cell_type": "code",
   "execution_count": null,
   "id": "sensitive-arctic",
   "metadata": {},
   "outputs": [],
   "source": []
  }
 ],
 "metadata": {
  "kernelspec": {
   "display_name": "Python 3",
   "language": "python",
   "name": "python3"
  },
  "language_info": {
   "codemirror_mode": {
    "name": "ipython",
    "version": 3
   },
   "file_extension": ".py",
   "mimetype": "text/x-python",
   "name": "python",
   "nbconvert_exporter": "python",
   "pygments_lexer": "ipython3",
   "version": "3.7.7"
  }
 },
 "nbformat": 4,
 "nbformat_minor": 5
}
