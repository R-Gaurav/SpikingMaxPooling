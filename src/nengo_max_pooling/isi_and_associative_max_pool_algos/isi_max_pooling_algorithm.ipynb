{
 "cells": [
  {
   "cell_type": "markdown",
   "id": "incorporated-hypothesis",
   "metadata": {},
   "source": [
    "The idea for max pooling is to maintain a running estimate of Inter Spike Intervals (ISI) and take minimum of each ensemble's (where each ensemble is composed of just one neuron) ISI at every timestep. The ensemble with minimum ISI would be representing the max value.\n",
    "\n",
    "Actually, one does not need to keep a running estimate of min ISI; rather in first few timesteps (say 5 to 10 timesteps) one can accurately (or close to it) determine the min ISI, since the spiking pattern remains consistent throughout the simulation. For the ones, whose min ISI couldn't be determined in first few timesteps, a default of AveragePooling filter can be used, or a Winner Take All (based on first spike) method can also be used - depending on the depth of the network.\n",
    "\n",
    "Below lies the exact implementation of my algorithm for determining the max value in the input of 4 scalars. Each input ensemble is composed of just one neuron. Four input nodes are connected to the individual ensembles and then a 4D `max_node` receives spiking input from the four ensmebles, thereby calculating the `max_pool_mask` to output the spikes of the maximally spiking ensemble (i.e. the maximally spiking neuron)."
   ]
  },
  {
   "cell_type": "code",
   "execution_count": null,
   "id": "incorrect-resort",
   "metadata": {},
   "outputs": [],
   "source": [
    "import nengo\n",
    "import matplotlib.pyplot as plt\n",
    "import numpy as np\n",
    "import numpy.ma as nma\n",
    "from nengo.utils.ensemble import response_curves, tuning_curves"
   ]
  },
  {
   "cell_type": "markdown",
   "id": "higher-education",
   "metadata": {},
   "source": [
    "# Code/Algorithm for Max Pool using ISI"
   ]
  },
  {
   "cell_type": "code",
   "execution_count": null,
   "id": "composite-geneva",
   "metadata": {},
   "outputs": [],
   "source": [
    "num_x = 4 # Number of input scalars from which max value has to be determined.\n",
    "neurons_last_spiked_ts, neurons_latest_isi = np.zeros(num_x), np.ones(num_x)*np.inf\n",
    "max_pool_mask = np.ones(num_x)/num_x # Keep AveragePooling mask in case MaxPool mask couldn't be calculated for deeper\n",
    "                                     # layers when the calculation is stopped prematurely to save execution time.\n",
    "\n",
    "\n",
    "def get_maximally_spiking_output(t, x):\n",
    "  \"\"\"\n",
    "  Args:\n",
    "    x <np.array>: Spike amplitudes of neurons. e.g. [0.0, 0.0, 1000.0, 1000.0] => First\n",
    "                  two neurons didn't spike and last two neurons spiked for timestep `t`.\n",
    "  \"\"\"  \n",
    "  #print(\"t: \", t)\n",
    "  int_t = int(t*1000.0)\n",
    "  # Check if any neuron has spiked, more than one neuron can also spike at one timestep.\n",
    "  spiked_neurons_mask = np.logical_not(np.isin(x, 0)) # np.isin([0, 1000.0], 0) -> [True, False]\n",
    "  \n",
    "  # None of the neurons spiked in current timestep i.e. spiked_neurons_mask is all False\n",
    "  if np.all(spiked_neurons_mask == False): # i.e. none of the neurons spiked in current timestep.\n",
    "    # None of the neurons spiked in this timestep, implies no change in max_pool_mask, and since no neurons \n",
    "    # spiked, no data is transferred to the next layer with resect to the concerned group of neurons, thus\n",
    "    # no role of max_pool_mask.\n",
    "    #print(\"x: \", x)\n",
    "    #print(\"int_t: \", int_t)\n",
    "    #print(\"neurons_last_spiked_ts: \", neurons_last_spiked_ts)\n",
    "    #print(\"neurons_latest_isi: \", neurons_latest_isi)\n",
    "    #print(\"max_pool_mask: \", max_pool_mask)\n",
    "    #print(\"*\"*80)\n",
    "    return 0\n",
    "  \n",
    "  # Check if the currently spiked neurons spiked previously?\n",
    "  if np.any(neurons_last_spiked_ts[spiked_neurons_mask]):\n",
    "    # Few or all of the currently spiked neurons spiked previously too. Therefore update their latest ISI \n",
    "    # (only of those current neurons which spiked earlier too). i.e. latest ISI = int_t - neurons_last_spiked_ts\n",
    "    # Therefore take bitwise `&` operation between currently spiked_neurons_mask and neurons_last_spiked_ts_mask.\n",
    "    neurons_last_spiked_ts_mask = np.logical_not(np.isin(neurons_last_spiked_ts, 0))\n",
    "    neurons_isi_to_be_updated = neurons_last_spiked_ts_mask & spiked_neurons_mask\n",
    "    # Update the latest ISI of selected neurons whose isi has to be updated.\n",
    "    neurons_latest_isi[neurons_isi_to_be_updated] = int_t - neurons_last_spiked_ts[neurons_isi_to_be_updated]\n",
    "    # Create the max_pool_mask, consider all the isi values obtained so far.\n",
    "    max_pool_mask[:] = np.zeros(num_x)\n",
    "    max_pool_mask[np.argmin(neurons_latest_isi)] = 1.0\n",
    "    # Update the neurons_last_spiked_ts\n",
    "    neurons_last_spiked_ts[spiked_neurons_mask] = int_t\n",
    "    \n",
    "    #print(\"x: \", x)\n",
    "    #print(\"int_t: \", int_t)\n",
    "    #print(\"neurons_last_spiked_ts: \", neurons_last_spiked_ts)\n",
    "    #print(\"neurons_latest_isi: \", neurons_latest_isi)\n",
    "    #print(\"max_pool_mask: \", max_pool_mask)\n",
    "    #print(\"*\"*80)\n",
    "    return np.dot(max_pool_mask, x)\n",
    "    \n",
    "  \n",
    "  # None of the currently spiked neurons spiked earlier i.e. neurons_last_spiked_ts is all 0 for the \n",
    "  # currently spiked neurons and all the currently spiked neurons have spiked for the first time. This \n",
    "  # could lead to two possible situations. First: There might be a few neurons who could have spiked \n",
    "  # twice or more earlier and did not spike in this current timestep and thus, currently spiked neurons \n",
    "  # spiked for the first time after a number of timesteps. Second: There have been no neurons which \n",
    "  # have spiked twice so far and currently spiked neurons are the ones among the neurons which have \n",
    "  # spiked for the first time (there could be other neurons as well which spiked for the first time \n",
    "  # and did not spike again so far including this current timestep). If this is the case then we output \n",
    "  # the max_pool_mask with 1.0 for the neuron which spiked first so far up till this current timestep, \n",
    "  # with 0.0 for rest of the neurons i.e. Winner Take All based on spiking time.\n",
    "  #elif np.any(spiked_neurons_mask):\n",
    "  else:\n",
    "    # Check for the neurons_latest_isi.\n",
    "    if np.min(neurons_latest_isi) != np.inf:\n",
    "      # Some of neurons have spiked twice or more, thus np.min(neurons_latest_isi) is not np.inf. This implies \n",
    "      # that the current neurons which have spiked for the first time are late in spiking, thus their values\n",
    "      # cannot be the max value, rather the ones which spiked twice or more up till now can represent max value.\n",
    "      max_pool_mask[:] = np.zeros(num_x)\n",
    "      max_pool_mask[np.argmin(neurons_latest_isi)] = 1.0 # Choose the smalled index of the twice spiking neuron if\n",
    "                                                         # more than one minimum value.\n",
    "      neurons_last_spiked_ts[spiked_neurons_mask] = int_t\n",
    "    else: # Minimum value of `neurons_latest_isi` is np.inf.\n",
    "      # There are no neurons which have spiked twice or more, else their ISI would have been calculated.\n",
    "      # All the values ISI are np.inf, i.e. none of the neurons have spiked twice or more so far. Choose \n",
    "      # the index of the neuron which spiked first and set 1.0 for it in max_pool_mask and rest 0.0.\n",
    "      \n",
    "      # Check if any of neurons have spiked once earlier.\n",
    "      if np.any(neurons_last_spiked_ts):\n",
    "        # Found one or more neuron which recorded a spike earlier than the current timestep.\n",
    "        neurons_last_spiked_ts_mask = np.logical_not(np.isin(neurons_last_spiked_ts, 0)) # Choose only neurons\n",
    "                                                                                         # indices which spiked.\n",
    "        minimum_last_spiked_ts = np.min(neurons_last_spiked_ts[neurons_last_spiked_ts_mask])\n",
    "        first_spike_neuron_index = np.where(neurons_last_spiked_ts == minimum_last_spiked_ts)\n",
    "        max_pool_mask[:] = np.zeros(num_x)\n",
    "        max_pool_mask[first_spike_neuron_index] = 1.0\n",
    "        neurons_last_spiked_ts[spiked_neurons_mask] = int_t\n",
    "      else:\n",
    "        # None of the neurons has spiked previously even once and currently spiked neurons are the first among all\n",
    "        # to spike. Set the index of any of the first spiking neurons to be 1.0 and rest 0.0. (Winner take All).\n",
    "        #neurons_last_spiked_ts[:] = spiked_neurons_mask * int_t\n",
    "        neurons_last_spiked_ts[spiked_neurons_mask] = int_t\n",
    "        max_pool_mask[:] = np.zeros(num_x)\n",
    "        #max_pool_mask[np.argmin(neurons_last_spiked_ts[spiked_neurons_mask])] = 1.0 # Choose the smallest index of first spiking neurons.\n",
    "        max_pool_mask[np.where(neurons_last_spiked_ts)[0]] = 1.0 # Choose the smallest index of first spiking neurons.\n",
    "    \n",
    "    #print(\"x: \", x)\n",
    "    #print(\"int_t: \", int_t)\n",
    "    #print(\"neurons_last_spiked_ts: \", neurons_last_spiked_ts)\n",
    "    #print(\"neurons_latest_isi: \", neurons_latest_isi)\n",
    "    #print(\"max_pool_mask: \", max_pool_mask)\n",
    "    #print(\"*\"*80)\n",
    "    return np.dot(max_pool_mask, x)"
   ]
  },
  {
   "cell_type": "markdown",
   "id": "incident-shadow",
   "metadata": {},
   "source": [
    "# Create 4 Ensembles of 1 neuron each and get the maximally spiking output"
   ]
  },
  {
   "cell_type": "code",
   "execution_count": null,
   "id": "alert-elephant",
   "metadata": {
    "scrolled": false
   },
   "outputs": [],
   "source": [
    "SEED = 89\n",
    "#SEED = 98\n",
    "x1, x2, x3, x4 = 0.99, 0.80, 0.75, 0.70 # Input scalar from which Max Value i.e. 0.99 has to be determined.\n",
    "    \n",
    "with nengo.Network(seed=SEED) as net:  \n",
    "  # Create Input Nodes.\n",
    "  inp_node1 = nengo.Node(x1)\n",
    "  inp_node2 = nengo.Node(x2)\n",
    "  inp_node3 = nengo.Node(x3)\n",
    "  inp_node4 = nengo.Node(x4)\n",
    "  \n",
    "  # Create Input Ensembles.\n",
    "  ens1 = nengo.Ensemble(n_neurons=1, \n",
    "                        #neuron_type=nengo.SpikingRectifiedLinear(), \n",
    "                        dimensions=1, seed=SEED, radius=1)\n",
    "  ens2 = nengo.Ensemble(n_neurons=1, \n",
    "                        #neuron_type=nengo.SpikingRectifiedLinear(), \n",
    "                        dimensions=1, seed=SEED, radius=1)\n",
    "  ens3 = nengo.Ensemble(n_neurons=1, \n",
    "                        #neuron_type=nengo.SpikingRectifiedLinear(), \n",
    "                        dimensions=1, seed=SEED, radius=1)\n",
    "  ens4 = nengo.Ensemble(n_neurons=1, \n",
    "                        #neuron_type=nengo.SpikingRectifiedLinear(), \n",
    "                        dimensions=1, seed=SEED, radius=1)\n",
    "  \n",
    "  # Create the MaxPool Node.\n",
    "  max_node = nengo.Node(output=get_maximally_spiking_output, size_in=4)\n",
    "  \n",
    "  \n",
    "  # Output Ensemble.\n",
    "  otpt = nengo.Ensemble(n_neurons=1,\n",
    "                       dimensions=1, seed=SEED, radius=1)\n",
    "  \n",
    "  \n",
    "  # Connect the Input nodes to the Input ensembles.\n",
    "  nengo.Connection(inp_node1, ens1, synapse=None) # Default Synapse is Lowpass(0.005)\n",
    "  nengo.Connection(inp_node2, ens2, synapse=None) # Default Synapse is Lowpass(0.005)\n",
    "  nengo.Connection(inp_node3, ens3, synapse=None)\n",
    "  nengo.Connection(inp_node4, ens4, synapse=None)\n",
    "  \n",
    "  # Connect the Input ensembles to the MaxPool node.\n",
    "  nengo.Connection(ens1.neurons, max_node[:1], synapse=None)\n",
    "  nengo.Connection(ens2.neurons, max_node[1:2], synapse=None)\n",
    "  nengo.Connection(ens3.neurons, max_node[2:3], synapse=None)\n",
    "  nengo.Connection(ens4.neurons, max_node[3:], synapse=None)\n",
    "  \n",
    "  # Connect the MaxPool node `max_node` to the `otpt` Ensemble.\n",
    "  nengo.Connection(max_node, otpt, synapse=None)\n",
    "  \n",
    "  # Probe the `otpt` Ensemble with a synapse to get the max_pooled output.\n",
    "  output = nengo.Probe(otpt, synapse=nengo.Lowpass(0.005))\n",
    "  \n",
    "  # Check the representation of inputs.\n",
    "  probe1 = nengo.Probe(ens1, synapse=nengo.Lowpass(0.005))\n",
    "  probe2 = nengo.Probe(ens2, synapse=nengo.Lowpass(0.005))\n",
    "  probe3 = nengo.Probe(ens3, synapse=nengo.Lowpass(0.005))\n",
    "  probe4 = nengo.Probe(ens4, synapse=nengo.Lowpass(0.005))\n",
    "\n",
    "  # Check the spiking pattern.\n",
    "  spikes1 = nengo.Probe(ens1.neurons) # Default synpase is None\n",
    "  spikes2 = nengo.Probe(ens2.neurons) # Default synpase is None\n",
    "  spikes3 = nengo.Probe(ens3.neurons) # Default synpase is None\n",
    "  spikes4 = nengo.Probe(ens4.neurons) # Default synpase is None\n",
    "  \n",
    "  \n",
    "with nengo.Simulator(net) as sim:  \n",
    "  sim.run(1)\n",
    "  vctr_points_1, activities1 = tuning_curves(ens1, sim)\n",
    "  vctr_points_2, activities2 = tuning_curves(ens2, sim)"
   ]
  },
  {
   "cell_type": "markdown",
   "id": "rental-involvement",
   "metadata": {},
   "source": [
    "# Plot tuning curves and response curves"
   ]
  },
  {
   "cell_type": "code",
   "execution_count": null,
   "id": "effective-religious",
   "metadata": {
    "scrolled": true
   },
   "outputs": [],
   "source": [
    "plt.plot(vctr_points_1, activities1)"
   ]
  },
  {
   "cell_type": "code",
   "execution_count": null,
   "id": "orange-mistress",
   "metadata": {
    "scrolled": true
   },
   "outputs": [],
   "source": [
    "plt.plot(vctr_points_2, activities2)"
   ]
  },
  {
   "cell_type": "markdown",
   "id": "armed-customer",
   "metadata": {},
   "source": [
    "# Plot the output of input ensembles representing each input scalar."
   ]
  },
  {
   "cell_type": "code",
   "execution_count": null,
   "id": "determined-bosnia",
   "metadata": {
    "scrolled": false
   },
   "outputs": [],
   "source": [
    "plt.plot(sim.data[probe1])"
   ]
  },
  {
   "cell_type": "code",
   "execution_count": null,
   "id": "supported-failure",
   "metadata": {
    "scrolled": false
   },
   "outputs": [],
   "source": [
    "plt.plot(sim.data[probe2])"
   ]
  },
  {
   "cell_type": "code",
   "execution_count": null,
   "id": "constitutional-emerald",
   "metadata": {},
   "outputs": [],
   "source": [
    "plt.plot(sim.data[probe3])"
   ]
  },
  {
   "cell_type": "code",
   "execution_count": null,
   "id": "incoming-bankruptcy",
   "metadata": {},
   "outputs": [],
   "source": [
    "plt.plot(sim.data[probe4])"
   ]
  },
  {
   "cell_type": "markdown",
   "id": "alert-bunch",
   "metadata": {},
   "source": [
    "# Plot the output spikes of input ensembles."
   ]
  },
  {
   "cell_type": "code",
   "execution_count": null,
   "id": "varying-crash",
   "metadata": {
    "scrolled": false
   },
   "outputs": [],
   "source": [
    "plt.plot(sim.data[spikes1])"
   ]
  },
  {
   "cell_type": "code",
   "execution_count": null,
   "id": "solar-atlantic",
   "metadata": {
    "scrolled": false
   },
   "outputs": [],
   "source": [
    "plt.plot(sim.data[spikes2])"
   ]
  },
  {
   "cell_type": "code",
   "execution_count": null,
   "id": "pediatric-illinois",
   "metadata": {},
   "outputs": [],
   "source": [
    "plt.plot(sim.data[spikes3])"
   ]
  },
  {
   "cell_type": "code",
   "execution_count": null,
   "id": "floral-depth",
   "metadata": {},
   "outputs": [],
   "source": [
    "plt.plot(sim.data[spikes4])"
   ]
  },
  {
   "cell_type": "markdown",
   "id": "systematic-momentum",
   "metadata": {},
   "source": [
    "# Plot the smoothed output of the `max_node` representing the max value."
   ]
  },
  {
   "cell_type": "code",
   "execution_count": null,
   "id": "active-uniform",
   "metadata": {},
   "outputs": [],
   "source": [
    "plt.plot(sim.data[output]) # Max value is 0.99"
   ]
  }
 ],
 "metadata": {
  "kernelspec": {
   "display_name": "Python 3",
   "language": "python",
   "name": "python3"
  },
  "language_info": {
   "codemirror_mode": {
    "name": "ipython",
    "version": 3
   },
   "file_extension": ".py",
   "mimetype": "text/x-python",
   "name": "python",
   "nbconvert_exporter": "python",
   "pygments_lexer": "ipython3",
   "version": "3.7.7"
  }
 },
 "nbformat": 4,
 "nbformat_minor": 5
}
