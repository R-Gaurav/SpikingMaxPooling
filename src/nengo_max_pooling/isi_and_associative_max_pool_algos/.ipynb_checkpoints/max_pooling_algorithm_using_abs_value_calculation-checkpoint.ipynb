{
 "cells": [
  {
   "cell_type": "code",
   "execution_count": 34,
   "id": "injured-botswana",
   "metadata": {},
   "outputs": [],
   "source": [
    "import nengo\n",
    "from nengo.utils.ensemble import tuning_curves\n",
    "import numpy as np\n",
    "import matplotlib.pyplot as plt"
   ]
  },
  {
   "cell_type": "markdown",
   "id": "revised-strand",
   "metadata": {},
   "source": [
    "# Calculating |x| from two neurons"
   ]
  },
  {
   "cell_type": "code",
   "execution_count": 35,
   "id": "homeless-circus",
   "metadata": {},
   "outputs": [],
   "source": [
    "x = -10\n",
    "# The `radius` should be equal to the abs(`x`) for optimum representation in the ensemble.\n",
    "max_rate, radius = 250, np.abs(x) \n",
    "with nengo.Network(seed=90) as net1:  \n",
    "  #######################################################################\n",
    "  # Create input_node to represent the number `x`.\n",
    "  input_node = nengo.Node(x)\n",
    "  # Create an ensemble of 2 neurons, with given `max_rate` and radius = `x`. \n",
    "  ens = nengo.Ensemble(\n",
    "      n_neurons=2,\n",
    "      dimensions=1,\n",
    "      encoders = [[1], [-1]],\n",
    "      intercepts = [0, 0],\n",
    "      max_rates = [max_rate, max_rate],\n",
    "      radius = radius,\n",
    "      neuron_type=nengo.SpikingRectifiedLinear()\n",
    "      #neuron_type=nengo.LIF()\n",
    "  )\n",
    "  # Create the output node which will be probed for the final output.\n",
    "  otpt_node = nengo.Node(size_in=1)\n",
    "  #######################################################################\n",
    "  \n",
    "  # Connect the `input_node` to the `ens` containing two neurons.\n",
    "  nengo.Connection(input_node, ens, synapse=None)\n",
    "  \n",
    "  # Connect the first neuron of the `ens` to the `otpt_node` with connection weight = 1*radius/max_rate\n",
    "  nengo.Connection(ens.neurons[0], otpt_node, transform=radius/max_rate)\n",
    "  # Connect the second neuron of the `ens` to the `otpt_node` with connection weight = 1*radius/max_rate\n",
    "  nengo.Connection(ens.neurons[1], otpt_node, transform=radius/max_rate)\n",
    "  #######################################################################\n",
    "  \n",
    "  # Probe the `otpt_node`.\n",
    "  otpt_probe = nengo.Probe(otpt_node, synapse=0.005)\n",
    "  ens_probe = nengo.Probe(ens)\n",
    "  ens_neruon1_probe = nengo.Probe(ens.neurons[0])\n",
    "  ens_neuron2_probe = nengo.Probe(ens.neurons[1])"
   ]
  },
  {
   "cell_type": "markdown",
   "id": "greenhouse-official",
   "metadata": {},
   "source": [
    "# Plot the Tuning Curves"
   ]
  },
  {
   "cell_type": "code",
   "execution_count": 36,
   "id": "difficult-generator",
   "metadata": {},
   "outputs": [
    {
     "data": {
      "application/vdom.v1+json": {
       "attributes": {},
       "tagName": "div"
      },
      "text/html": [
       "\n",
       "                <script>\n",
       "                    if (Jupyter.version.split(\".\")[0] < 5) {\n",
       "                        var pb = document.getElementById(\"3c436a86-1621-48fc-8877-9edc7b9d2b0a\");\n",
       "                        var text = document.createTextNode(\n",
       "                            \"HMTL progress bar requires Jupyter Notebook >= \" +\n",
       "                            \"5.0 or Jupyter Lab. Alternatively, you can use \" +\n",
       "                            \"TerminalProgressBar().\");\n",
       "                        pb.parentNode.insertBefore(text, pb);\n",
       "                    }\n",
       "                </script>\n",
       "                <div id=\"3c436a86-1621-48fc-8877-9edc7b9d2b0a\" style=\"\n",
       "                    width: 100%;\n",
       "                    border: 1px solid #cfcfcf;\n",
       "                    border-radius: 4px;\n",
       "                    text-align: center;\n",
       "                    position: relative;\">\n",
       "                  <div class=\"pb-text\" style=\"\n",
       "                      position: absolute;\n",
       "                      width: 100%;\">\n",
       "                    0%\n",
       "                  </div>\n",
       "                  <div class=\"pb-fill\" style=\"\n",
       "                      background-color: #bdd2e6;\n",
       "                      width: 0%;\">\n",
       "                    <style type=\"text/css\" scoped=\"scoped\">\n",
       "                        @keyframes pb-fill-anim {\n",
       "                            0% { background-position: 0 0; }\n",
       "                            100% { background-position: 100px 0; }\n",
       "                        }\n",
       "                    </style>\n",
       "                    &nbsp;\n",
       "                  </div>\n",
       "                </div>"
      ],
      "text/plain": [
       "HtmlProgressBar cannot be displayed. Please use the TerminalProgressBar. It can be enabled with `nengo.rc['progress']['progress_bar'] = 'nengo.utils.progress.TerminalProgressBar'`."
      ]
     },
     "metadata": {},
     "output_type": "display_data"
    },
    {
     "data": {
      "application/vdom.v1+json": {
       "attributes": {
        "id": "72d7e2f4-4b58-4d29-98b0-59abe79f6c68",
        "style": {
         "border": "1px solid #cfcfcf",
         "borderRadius": "4px",
         "boxSizing": "border-box",
         "position": "relative",
         "textAlign": "center",
         "width": "100%"
        }
       },
       "children": [
        {
         "attributes": {
          "class": "pb-text",
          "style": {
           "position": "absolute",
           "width": "100%"
          }
         },
         "children": [
          "Build finished in 0:00:01."
         ],
         "tagName": "div"
        },
        {
         "attributes": {
          "class": "pb-fill",
          "style": {
           "animation": "none",
           "backgroundColor": "#bdd2e6",
           "backgroundImage": "none",
           "backgroundSize": "100px 100%",
           "width": "100%"
          }
         },
         "children": [
          {
           "attributes": {
            "scoped": "scoped",
            "type": "text/css"
           },
           "children": [
            "\n                        @keyframes pb-fill-anim {\n                            0% { background-position: 0 0; }\n                            100% { background-position: 100px 0; }\n                        }}"
           ],
           "tagName": "style"
          },
          " "
         ],
         "tagName": "div"
        }
       ],
       "tagName": "div"
      },
      "text/html": [
       "<script>\n",
       "              (function () {\n",
       "                  var root = document.getElementById('3c436a86-1621-48fc-8877-9edc7b9d2b0a');\n",
       "                  var text = root.getElementsByClassName('pb-text')[0];\n",
       "                  var fill = root.getElementsByClassName('pb-fill')[0];\n",
       "\n",
       "                  text.innerHTML = 'Build finished in 0:00:01.';\n",
       "                  \n",
       "            fill.style.width = '100%';\n",
       "            fill.style.animation = 'pb-fill-anim 2s linear infinite';\n",
       "            fill.style.backgroundSize = '100px 100%';\n",
       "            fill.style.backgroundImage = 'repeating-linear-gradient(' +\n",
       "                '90deg, #bdd2e6, #edf2f8 40%, #bdd2e6 80%, #bdd2e6)';\n",
       "        \n",
       "                  \n",
       "                fill.style.animation = 'none';\n",
       "                fill.style.backgroundImage = 'none';\n",
       "            \n",
       "              })();\n",
       "        </script>"
      ]
     },
     "metadata": {},
     "output_type": "display_data"
    },
    {
     "data": {
      "text/plain": [
       "[<matplotlib.lines.Line2D at 0x2b4639413650>,\n",
       " <matplotlib.lines.Line2D at 0x2b462f4cc390>]"
      ]
     },
     "execution_count": 36,
     "metadata": {},
     "output_type": "execute_result"
    },
    {
     "data": {
      "image/png": "[encoded data removed]",
      "text/plain": [
       "<Figure size 432x288 with 1 Axes>"
      ]
     },
     "metadata": {},
     "output_type": "display_data"
    }
   ],
   "source": [
    "with nengo.Simulator(net1) as sim:\n",
    "  eval_points, activities = tuning_curves(ens, sim)\n",
    "plt.subplots(facecolor=\"#00FFFF\")\n",
    "plt.plot(eval_points, activities)"
   ]
  },
  {
   "cell_type": "markdown",
   "id": "engaging-announcement",
   "metadata": {},
   "source": [
    "# Run the simulation for 1s to find the |x| value"
   ]
  },
  {
   "cell_type": "code",
   "execution_count": 39,
   "id": "million-sector",
   "metadata": {
    "scrolled": true
   },
   "outputs": [
    {
     "data": {
      "application/vdom.v1+json": {
       "attributes": {},
       "tagName": "div"
      },
      "text/html": [
       "\n",
       "                <script>\n",
       "                    if (Jupyter.version.split(\".\")[0] < 5) {\n",
       "                        var pb = document.getElementById(\"0fa39cea-4cd2-4db2-b9f0-e0bf4101c631\");\n",
       "                        var text = document.createTextNode(\n",
       "                            \"HMTL progress bar requires Jupyter Notebook >= \" +\n",
       "                            \"5.0 or Jupyter Lab. Alternatively, you can use \" +\n",
       "                            \"TerminalProgressBar().\");\n",
       "                        pb.parentNode.insertBefore(text, pb);\n",
       "                    }\n",
       "                </script>\n",
       "                <div id=\"0fa39cea-4cd2-4db2-b9f0-e0bf4101c631\" style=\"\n",
       "                    width: 100%;\n",
       "                    border: 1px solid #cfcfcf;\n",
       "                    border-radius: 4px;\n",
       "                    text-align: center;\n",
       "                    position: relative;\">\n",
       "                  <div class=\"pb-text\" style=\"\n",
       "                      position: absolute;\n",
       "                      width: 100%;\">\n",
       "                    0%\n",
       "                  </div>\n",
       "                  <div class=\"pb-fill\" style=\"\n",
       "                      background-color: #bdd2e6;\n",
       "                      width: 0%;\">\n",
       "                    <style type=\"text/css\" scoped=\"scoped\">\n",
       "                        @keyframes pb-fill-anim {\n",
       "                            0% { background-position: 0 0; }\n",
       "                            100% { background-position: 100px 0; }\n",
       "                        }\n",
       "                    </style>\n",
       "                    &nbsp;\n",
       "                  </div>\n",
       "                </div>"
      ],
      "text/plain": [
       "HtmlProgressBar cannot be displayed. Please use the TerminalProgressBar. It can be enabled with `nengo.rc['progress']['progress_bar'] = 'nengo.utils.progress.TerminalProgressBar'`."
      ]
     },
     "metadata": {},
     "output_type": "display_data"
    },
    {
     "data": {
      "application/vdom.v1+json": {
       "attributes": {
        "id": "da492c8f-9da7-4e2f-9099-da884e006a3e",
        "style": {
         "border": "1px solid #cfcfcf",
         "borderRadius": "4px",
         "boxSizing": "border-box",
         "position": "relative",
         "textAlign": "center",
         "width": "100%"
        }
       },
       "children": [
        {
         "attributes": {
          "class": "pb-text",
          "style": {
           "position": "absolute",
           "width": "100%"
          }
         },
         "children": [
          "Build finished in 0:00:01."
         ],
         "tagName": "div"
        },
        {
         "attributes": {
          "class": "pb-fill",
          "style": {
           "animation": "none",
           "backgroundColor": "#bdd2e6",
           "backgroundImage": "none",
           "backgroundSize": "100px 100%",
           "width": "100%"
          }
         },
         "children": [
          {
           "attributes": {
            "scoped": "scoped",
            "type": "text/css"
           },
           "children": [
            "\n                        @keyframes pb-fill-anim {\n                            0% { background-position: 0 0; }\n                            100% { background-position: 100px 0; }\n                        }}"
           ],
           "tagName": "style"
          },
          " "
         ],
         "tagName": "div"
        }
       ],
       "tagName": "div"
      },
      "text/html": [
       "<script>\n",
       "              (function () {\n",
       "                  var root = document.getElementById('0fa39cea-4cd2-4db2-b9f0-e0bf4101c631');\n",
       "                  var text = root.getElementsByClassName('pb-text')[0];\n",
       "                  var fill = root.getElementsByClassName('pb-fill')[0];\n",
       "\n",
       "                  text.innerHTML = 'Build finished in 0:00:01.';\n",
       "                  \n",
       "            fill.style.width = '100%';\n",
       "            fill.style.animation = 'pb-fill-anim 2s linear infinite';\n",
       "            fill.style.backgroundSize = '100px 100%';\n",
       "            fill.style.backgroundImage = 'repeating-linear-gradient(' +\n",
       "                '90deg, #bdd2e6, #edf2f8 40%, #bdd2e6 80%, #bdd2e6)';\n",
       "        \n",
       "                  \n",
       "                fill.style.animation = 'none';\n",
       "                fill.style.backgroundImage = 'none';\n",
       "            \n",
       "              })();\n",
       "        </script>"
      ]
     },
     "metadata": {},
     "output_type": "display_data"
    },
    {
     "data": {
      "application/vdom.v1+json": {
       "attributes": {},
       "tagName": "div"
      },
      "text/html": [
       "\n",
       "                <script>\n",
       "                    if (Jupyter.version.split(\".\")[0] < 5) {\n",
       "                        var pb = document.getElementById(\"59ab1e95-19ac-4fb0-bc6f-94e2c2b6cf1c\");\n",
       "                        var text = document.createTextNode(\n",
       "                            \"HMTL progress bar requires Jupyter Notebook >= \" +\n",
       "                            \"5.0 or Jupyter Lab. Alternatively, you can use \" +\n",
       "                            \"TerminalProgressBar().\");\n",
       "                        pb.parentNode.insertBefore(text, pb);\n",
       "                    }\n",
       "                </script>\n",
       "                <div id=\"59ab1e95-19ac-4fb0-bc6f-94e2c2b6cf1c\" style=\"\n",
       "                    width: 100%;\n",
       "                    border: 1px solid #cfcfcf;\n",
       "                    border-radius: 4px;\n",
       "                    text-align: center;\n",
       "                    position: relative;\">\n",
       "                  <div class=\"pb-text\" style=\"\n",
       "                      position: absolute;\n",
       "                      width: 100%;\">\n",
       "                    0%\n",
       "                  </div>\n",
       "                  <div class=\"pb-fill\" style=\"\n",
       "                      background-color: #bdd2e6;\n",
       "                      width: 0%;\">\n",
       "                    <style type=\"text/css\" scoped=\"scoped\">\n",
       "                        @keyframes pb-fill-anim {\n",
       "                            0% { background-position: 0 0; }\n",
       "                            100% { background-position: 100px 0; }\n",
       "                        }\n",
       "                    </style>\n",
       "                    &nbsp;\n",
       "                  </div>\n",
       "                </div>"
      ],
      "text/plain": [
       "HtmlProgressBar cannot be displayed. Please use the TerminalProgressBar. It can be enabled with `nengo.rc['progress']['progress_bar'] = 'nengo.utils.progress.TerminalProgressBar'`."
      ]
     },
     "metadata": {},
     "output_type": "display_data"
    },
    {
     "data": {
      "application/vdom.v1+json": {
       "attributes": {
        "id": "4c8ffca8-8887-47fb-97e8-3046cc9217cc",
        "style": {
         "border": "1px solid #cfcfcf",
         "borderRadius": "4px",
         "boxSizing": "border-box",
         "position": "relative",
         "textAlign": "center",
         "width": "100%"
        }
       },
       "children": [
        {
         "attributes": {
          "class": "pb-text",
          "style": {
           "position": "absolute",
           "width": "100%"
          }
         },
         "children": [
          "Simulation finished in 0:00:01."
         ],
         "tagName": "div"
        },
        {
         "attributes": {
          "class": "pb-fill",
          "style": {
           "animation": "none",
           "backgroundColor": "#bdd2e6",
           "backgroundImage": "none",
           "transition": "width 0.1s linear",
           "width": "100%"
          }
         },
         "children": [
          {
           "attributes": {
            "scoped": "scoped",
            "type": "text/css"
           },
           "children": [
            "\n                        @keyframes pb-fill-anim {\n                            0% { background-position: 0 0; }\n                            100% { background-position: 100px 0; }\n                        }}"
           ],
           "tagName": "style"
          },
          " "
         ],
         "tagName": "div"
        }
       ],
       "tagName": "div"
      },
      "text/html": [
       "<script>\n",
       "              (function () {\n",
       "                  var root = document.getElementById('59ab1e95-19ac-4fb0-bc6f-94e2c2b6cf1c');\n",
       "                  var text = root.getElementsByClassName('pb-text')[0];\n",
       "                  var fill = root.getElementsByClassName('pb-fill')[0];\n",
       "\n",
       "                  text.innerHTML = 'Simulation finished in 0:00:01.';\n",
       "                  \n",
       "            if (100.0 > 0.) {\n",
       "                fill.style.transition = 'width 0.1s linear';\n",
       "            } else {\n",
       "                fill.style.transition = 'none';\n",
       "            }\n",
       "\n",
       "            fill.style.width = '100.0%';\n",
       "            fill.style.animation = 'none';\n",
       "            fill.style.backgroundImage = 'none'\n",
       "        \n",
       "                  \n",
       "                fill.style.animation = 'none';\n",
       "                fill.style.backgroundImage = 'none';\n",
       "            \n",
       "              })();\n",
       "        </script>"
      ]
     },
     "metadata": {},
     "output_type": "display_data"
    },
    {
     "data": {
      "text/plain": [
       "<matplotlib.legend.Legend at 0x2b462f51ddd0>"
      ]
     },
     "execution_count": 39,
     "metadata": {},
     "output_type": "execute_result"
    },
    {
     "data": {
      "image/png": "[encoded data removed]",
      "text/plain": [
       "<Figure size 432x288 with 1 Axes>"
      ]
     },
     "metadata": {},
     "output_type": "display_data"
    }
   ],
   "source": [
    "with nengo.Simulator(net1) as sim:\n",
    "  sim.run(0.06)\n",
    "plt.subplots(facecolor=\"#00FFFF\")\n",
    "plt.plot(sim.data[otpt_probe], label=\"Probed Output\")\n",
    "plt.plot(np.repeat(x, 60), label=\"Input\")\n",
    "plt.legend()"
   ]
  },
  {
   "cell_type": "code",
   "execution_count": 40,
   "id": "great-yacht",
   "metadata": {
    "scrolled": true
   },
   "outputs": [
    {
     "data": {
      "text/plain": [
       "[<matplotlib.lines.Line2D at 0x2b4639750510>]"
      ]
     },
     "execution_count": 40,
     "metadata": {},
     "output_type": "execute_result"
    },
    {
     "data": {
      "image/png": "[encoded data removed]",
      "text/plain": [
       "<Figure size 432x288 with 1 Axes>"
      ]
     },
     "metadata": {
      "needs_background": "light"
     },
     "output_type": "display_data"
    }
   ],
   "source": [
    "plt.plot(sim.data[ens_probe]) # Decoded Output"
   ]
  },
  {
   "cell_type": "code",
   "execution_count": 42,
   "id": "phantom-cooper",
   "metadata": {},
   "outputs": [
    {
     "data": {
      "text/plain": [
       "[<matplotlib.lines.Line2D at 0x2b463984b510>]"
      ]
     },
     "execution_count": 42,
     "metadata": {},
     "output_type": "execute_result"
    },
    {
     "data": {
      "image/png": "[encoded data removed]",
      "text/plain": [
       "<Figure size 432x288 with 1 Axes>"
      ]
     },
     "metadata": {
      "needs_background": "light"
     },
     "output_type": "display_data"
    }
   ],
   "source": [
    "plt.plot(sim.data[ens_neruon1_probe])"
   ]
  },
  {
   "cell_type": "code",
   "execution_count": 43,
   "id": "enclosed-french",
   "metadata": {},
   "outputs": [
    {
     "data": {
      "text/plain": [
       "[<matplotlib.lines.Line2D at 0x2b46398b2d10>]"
      ]
     },
     "execution_count": 43,
     "metadata": {},
     "output_type": "execute_result"
    },
    {
     "data": {
      "image/png": "[encoded data removed]",
      "text/plain": [
       "<Figure size 432x288 with 1 Axes>"
      ]
     },
     "metadata": {
      "needs_background": "light"
     },
     "output_type": "display_data"
    }
   ],
   "source": [
    "plt.plot(sim.data[ens_neuron2_probe])"
   ]
  },
  {
   "cell_type": "markdown",
   "id": "recognized-triangle",
   "metadata": {},
   "source": [
    "# Max of 2 Numbers"
   ]
  },
  {
   "cell_type": "code",
   "execution_count": 5,
   "id": "durable-kentucky",
   "metadata": {},
   "outputs": [],
   "source": [
    "x1, x2 = 10, 0\n",
    "# The `radius` should be equal to the abs(`x1` - `x2`) for optimum representation in the ensemble.\n",
    "max_rate, radius = 250, 5 #np.abs(x1 - x2)\n",
    "\n",
    "with nengo.Network(seed=90) as net2:  \n",
    "  #######################################################################\n",
    "  # Create `input_node_1` to represent the number `x1`.\n",
    "  input_node_1 = nengo.Node(x1)\n",
    "  # Create `input_node_2` to represent the number `x2`.\n",
    "  input_node_2 = nengo.Node(x2)\n",
    "  \n",
    "  # Create an ensemble of 2 neurons, with given `max_rate` and radius = `x`. \n",
    "  ens = nengo.Ensemble(\n",
    "      n_neurons=2,\n",
    "      dimensions=1,\n",
    "      encoders = [[1], [-1]],\n",
    "      intercepts = [0, 0],\n",
    "      max_rates = [max_rate, max_rate],\n",
    "      radius = radius,\n",
    "      neuron_type=nengo.SpikingRectifiedLinear()\n",
    "      #neuron_type=nengo.LIF()\n",
    "  )\n",
    "  # Create the output node which will be probed for the final output.\n",
    "  otpt_node = nengo.Node(size_in=1)\n",
    "  #########################################################################\n",
    "  \n",
    "  # Calculate (x1 + x2) / 2.\n",
    "  # Connect the `input_node_1` to `otpt_node` with transform 1/2.\n",
    "  nengo.Connection(input_node_1, otpt_node, synapse=None, transform=1/2)\n",
    "  # Connect the `input_node_2` to `otpt_node` with transform 1/2.\n",
    "  nengo.Connection(input_node_2, otpt_node, synapse=None, transform=1/2)\n",
    "  \n",
    "  # Calculate (x1 - x2) / 2.\n",
    "  # Connect the `input_node_1` to the `ens` with transform 1/2.\n",
    "  nengo.Connection(input_node_1, ens, synapse=None, transform=1/2)\n",
    "  # Connect the `input_node_2` to the `ens` with transform -1/2\n",
    "  nengo.Connection(input_node_2, ens, synapse=None, transform=-1/2)\n",
    "  \n",
    "  # Connect the first neuron of the `ens` to the `otpt_node` with connection weight = 1*radius/max_rate\n",
    "  nengo.Connection(ens.neurons[0], otpt_node, transform=1*radius/max_rate)\n",
    "  # Connect the second neuron of the `ens` to the `otpt_node` with connection weight = 1*radius/max_rate\n",
    "  nengo.Connection(ens.neurons[1], otpt_node, transform=1*radius/max_rate)\n",
    "  #######################################################################\n",
    "  \n",
    "  # Probe the `otpt_node`.\n",
    "  otpt_probe = nengo.Probe(otpt_node, synapse=0.005)"
   ]
  },
  {
   "cell_type": "code",
   "execution_count": 6,
   "id": "coordinated-appliance",
   "metadata": {
    "scrolled": false
   },
   "outputs": [
    {
     "data": {
      "application/vdom.v1+json": {
       "attributes": {},
       "tagName": "div"
      },
      "text/html": [
       "\n",
       "                <script>\n",
       "                    if (Jupyter.version.split(\".\")[0] < 5) {\n",
       "                        var pb = document.getElementById(\"3541ba7c-0bde-4e32-b8df-2f0663fa057b\");\n",
       "                        var text = document.createTextNode(\n",
       "                            \"HMTL progress bar requires Jupyter Notebook >= \" +\n",
       "                            \"5.0 or Jupyter Lab. Alternatively, you can use \" +\n",
       "                            \"TerminalProgressBar().\");\n",
       "                        pb.parentNode.insertBefore(text, pb);\n",
       "                    }\n",
       "                </script>\n",
       "                <div id=\"3541ba7c-0bde-4e32-b8df-2f0663fa057b\" style=\"\n",
       "                    width: 100%;\n",
       "                    border: 1px solid #cfcfcf;\n",
       "                    border-radius: 4px;\n",
       "                    text-align: center;\n",
       "                    position: relative;\">\n",
       "                  <div class=\"pb-text\" style=\"\n",
       "                      position: absolute;\n",
       "                      width: 100%;\">\n",
       "                    0%\n",
       "                  </div>\n",
       "                  <div class=\"pb-fill\" style=\"\n",
       "                      background-color: #bdd2e6;\n",
       "                      width: 0%;\">\n",
       "                    <style type=\"text/css\" scoped=\"scoped\">\n",
       "                        @keyframes pb-fill-anim {\n",
       "                            0% { background-position: 0 0; }\n",
       "                            100% { background-position: 100px 0; }\n",
       "                        }\n",
       "                    </style>\n",
       "                    &nbsp;\n",
       "                  </div>\n",
       "                </div>"
      ],
      "text/plain": [
       "HtmlProgressBar cannot be displayed. Please use the TerminalProgressBar. It can be enabled with `nengo.rc['progress']['progress_bar'] = 'nengo.utils.progress.TerminalProgressBar'`."
      ]
     },
     "metadata": {},
     "output_type": "display_data"
    },
    {
     "data": {
      "application/vdom.v1+json": {
       "attributes": {
        "id": "34319555-8efd-4ffe-9495-f2a6680fb5c7",
        "style": {
         "border": "1px solid #cfcfcf",
         "borderRadius": "4px",
         "boxSizing": "border-box",
         "position": "relative",
         "textAlign": "center",
         "width": "100%"
        }
       },
       "children": [
        {
         "attributes": {
          "class": "pb-text",
          "style": {
           "position": "absolute",
           "width": "100%"
          }
         },
         "children": [
          "Build finished in 0:00:01."
         ],
         "tagName": "div"
        },
        {
         "attributes": {
          "class": "pb-fill",
          "style": {
           "animation": "none",
           "backgroundColor": "#bdd2e6",
           "backgroundImage": "none",
           "backgroundSize": "100px 100%",
           "width": "100%"
          }
         },
         "children": [
          {
           "attributes": {
            "scoped": "scoped",
            "type": "text/css"
           },
           "children": [
            "\n                        @keyframes pb-fill-anim {\n                            0% { background-position: 0 0; }\n                            100% { background-position: 100px 0; }\n                        }}"
           ],
           "tagName": "style"
          },
          " "
         ],
         "tagName": "div"
        }
       ],
       "tagName": "div"
      },
      "text/html": [
       "<script>\n",
       "              (function () {\n",
       "                  var root = document.getElementById('3541ba7c-0bde-4e32-b8df-2f0663fa057b');\n",
       "                  var text = root.getElementsByClassName('pb-text')[0];\n",
       "                  var fill = root.getElementsByClassName('pb-fill')[0];\n",
       "\n",
       "                  text.innerHTML = 'Build finished in 0:00:01.';\n",
       "                  \n",
       "            fill.style.width = '100%';\n",
       "            fill.style.animation = 'pb-fill-anim 2s linear infinite';\n",
       "            fill.style.backgroundSize = '100px 100%';\n",
       "            fill.style.backgroundImage = 'repeating-linear-gradient(' +\n",
       "                '90deg, #bdd2e6, #edf2f8 40%, #bdd2e6 80%, #bdd2e6)';\n",
       "        \n",
       "                  \n",
       "                fill.style.animation = 'none';\n",
       "                fill.style.backgroundImage = 'none';\n",
       "            \n",
       "              })();\n",
       "        </script>"
      ]
     },
     "metadata": {},
     "output_type": "display_data"
    },
    {
     "data": {
      "application/vdom.v1+json": {
       "attributes": {},
       "tagName": "div"
      },
      "text/html": [
       "\n",
       "                <script>\n",
       "                    if (Jupyter.version.split(\".\")[0] < 5) {\n",
       "                        var pb = document.getElementById(\"f6825c91-0d9e-4ff4-b196-eba6387052d4\");\n",
       "                        var text = document.createTextNode(\n",
       "                            \"HMTL progress bar requires Jupyter Notebook >= \" +\n",
       "                            \"5.0 or Jupyter Lab. Alternatively, you can use \" +\n",
       "                            \"TerminalProgressBar().\");\n",
       "                        pb.parentNode.insertBefore(text, pb);\n",
       "                    }\n",
       "                </script>\n",
       "                <div id=\"f6825c91-0d9e-4ff4-b196-eba6387052d4\" style=\"\n",
       "                    width: 100%;\n",
       "                    border: 1px solid #cfcfcf;\n",
       "                    border-radius: 4px;\n",
       "                    text-align: center;\n",
       "                    position: relative;\">\n",
       "                  <div class=\"pb-text\" style=\"\n",
       "                      position: absolute;\n",
       "                      width: 100%;\">\n",
       "                    0%\n",
       "                  </div>\n",
       "                  <div class=\"pb-fill\" style=\"\n",
       "                      background-color: #bdd2e6;\n",
       "                      width: 0%;\">\n",
       "                    <style type=\"text/css\" scoped=\"scoped\">\n",
       "                        @keyframes pb-fill-anim {\n",
       "                            0% { background-position: 0 0; }\n",
       "                            100% { background-position: 100px 0; }\n",
       "                        }\n",
       "                    </style>\n",
       "                    &nbsp;\n",
       "                  </div>\n",
       "                </div>"
      ],
      "text/plain": [
       "HtmlProgressBar cannot be displayed. Please use the TerminalProgressBar. It can be enabled with `nengo.rc['progress']['progress_bar'] = 'nengo.utils.progress.TerminalProgressBar'`."
      ]
     },
     "metadata": {},
     "output_type": "display_data"
    },
    {
     "data": {
      "application/vdom.v1+json": {
       "attributes": {
        "id": "49ccaeb1-6e98-47ad-84c5-424ecbf1cfa1",
        "style": {
         "border": "1px solid #cfcfcf",
         "borderRadius": "4px",
         "boxSizing": "border-box",
         "position": "relative",
         "textAlign": "center",
         "width": "100%"
        }
       },
       "children": [
        {
         "attributes": {
          "class": "pb-text",
          "style": {
           "position": "absolute",
           "width": "100%"
          }
         },
         "children": [
          "Simulation finished in 0:00:01."
         ],
         "tagName": "div"
        },
        {
         "attributes": {
          "class": "pb-fill",
          "style": {
           "animation": "none",
           "backgroundColor": "#bdd2e6",
           "backgroundImage": "none",
           "transition": "width 0.1s linear",
           "width": "100%"
          }
         },
         "children": [
          {
           "attributes": {
            "scoped": "scoped",
            "type": "text/css"
           },
           "children": [
            "\n                        @keyframes pb-fill-anim {\n                            0% { background-position: 0 0; }\n                            100% { background-position: 100px 0; }\n                        }}"
           ],
           "tagName": "style"
          },
          " "
         ],
         "tagName": "div"
        }
       ],
       "tagName": "div"
      },
      "text/html": [
       "<script>\n",
       "              (function () {\n",
       "                  var root = document.getElementById('f6825c91-0d9e-4ff4-b196-eba6387052d4');\n",
       "                  var text = root.getElementsByClassName('pb-text')[0];\n",
       "                  var fill = root.getElementsByClassName('pb-fill')[0];\n",
       "\n",
       "                  text.innerHTML = 'Simulation finished in 0:00:01.';\n",
       "                  \n",
       "            if (100.0 > 0.) {\n",
       "                fill.style.transition = 'width 0.1s linear';\n",
       "            } else {\n",
       "                fill.style.transition = 'none';\n",
       "            }\n",
       "\n",
       "            fill.style.width = '100.0%';\n",
       "            fill.style.animation = 'none';\n",
       "            fill.style.backgroundImage = 'none'\n",
       "        \n",
       "                  \n",
       "                fill.style.animation = 'none';\n",
       "                fill.style.backgroundImage = 'none';\n",
       "            \n",
       "              })();\n",
       "        </script>"
      ]
     },
     "metadata": {},
     "output_type": "display_data"
    },
    {
     "data": {
      "text/plain": [
       "<matplotlib.legend.Legend at 0x2b8b39625510>"
      ]
     },
     "execution_count": 6,
     "metadata": {},
     "output_type": "execute_result"
    },
    {
     "data": {
      "image/png": "[encoded data removed]",
      "text/plain": [
       "<Figure size 432x288 with 1 Axes>"
      ]
     },
     "metadata": {},
     "output_type": "display_data"
    }
   ],
   "source": [
    "with nengo.Simulator(net2) as sim:\n",
    "  sim.run(1)\n",
    "plt.subplots(facecolor=\"#00FFFF\")\n",
    "plt.plot(sim.data[otpt_probe], label=\"Probed Output\")\n",
    "plt.plot(np.repeat(x1, 1000), label=\"Input 1\")\n",
    "plt.plot(np.repeat(x2, 1000), label=\"Input 2\")\n",
    "plt.legend()"
   ]
  },
  {
   "cell_type": "markdown",
   "id": "north-hearts",
   "metadata": {},
   "source": [
    "# Max of 4 numbers"
   ]
  },
  {
   "cell_type": "code",
   "execution_count": 7,
   "id": "processed-timeline",
   "metadata": {},
   "outputs": [],
   "source": [
    "x1, x2, x3, x4 = 0, 0, 10, 10\n",
    "max_rate, radius = 250, 10\n",
    "\n",
    "with nengo.Network(seed=90) as net3:  \n",
    "  #######################################################################\n",
    "  # Create `input_node_1` to represent the number `x1`.\n",
    "  input_node_1 = nengo.Node(x1)\n",
    "  # Create `input_node_2` to represent the number `x2`.\n",
    "  input_node_2 = nengo.Node(x2)\n",
    "  # Create `input_node_3` to represent the number `x3`.\n",
    "  input_node_3 = nengo.Node(x3)\n",
    "  # Create `input_node_4` to represent the number `x4`.\n",
    "  input_node_4 = nengo.Node(x4)\n",
    "  \n",
    "  # Create an ensemble of 2 neurons, with given `max_rate` and `radius` to find max(x1, x2).\n",
    "  ens1 = nengo.Ensemble(\n",
    "      n_neurons=2,\n",
    "      dimensions=1,\n",
    "      encoders = [[1], [-1]],\n",
    "      intercepts = [0, 0],\n",
    "      max_rates = [max_rate, max_rate],\n",
    "      radius = radius,\n",
    "      neuron_type=nengo.SpikingRectifiedLinear()\n",
    "      #neuron_type=nengo.LIF()\n",
    "  )\n",
    "  \n",
    "  # Create another ensemble of 2 neurons with given `max_rate` and `radius` to find max(x3, x4).\n",
    "  ens2 = nengo.Ensemble(\n",
    "      n_neurons=2,\n",
    "      dimensions=1,\n",
    "      encoders=[[1], [-1]],\n",
    "      intercepts = [0, 0],\n",
    "      max_rates=[max_rate, max_rate],\n",
    "      radius=radius,\n",
    "      neuron_type=nengo.SpikingRectifiedLinear(),\n",
    "  )\n",
    "  \n",
    "  # Create another ensemble of 2 neurons with given `max_rate` and `radius` to find max(max(x1, x2), max(x3, x4)).\n",
    "  ens3 = nengo.Ensemble(\n",
    "      n_neurons=2,\n",
    "      dimensions=1,\n",
    "      encoders=[[1], [-1]],\n",
    "      intercepts=[0, 0],\n",
    "      max_rates=[max_rate, max_rate],\n",
    "      radius=radius,\n",
    "      neuron_type=nengo.SpikingRectifiedLinear(),\n",
    "  )\n",
    "  \n",
    "  # Create the output node which will represent max(x1, x2).\n",
    "  otpt_node_12 = nengo.Node(size_in=1)\n",
    "  # Create another output node which will represent max(x3, x4).\n",
    "  otpt_node_34 = nengo.Node(size_in=1)\n",
    "  # Create final output node which will represent max(max(x1, x2), max(x3, x4)).\n",
    "  otpt_node = nengo.Node(size_in=1)\n",
    "  \n",
    "  ########################   max(x1, x2)   ###############################\n",
    "  \n",
    "  # Calculate (x1 + x2) / 2.\n",
    "  # Connect the `input_node_1` to `otpt_node_12` with transform 1/2.\n",
    "  nengo.Connection(input_node_1, otpt_node_12, synapse=None, transform=1/2)\n",
    "  # Connect the `input_node_2` to `otpt_node_12` with transform 1/2.\n",
    "  nengo.Connection(input_node_2, otpt_node_12, synapse=None, transform=1/2)\n",
    "  \n",
    "  # Calculate (x1 - x2) / 2.\n",
    "  # Connect the `input_node_1` to the `ens1` with transform 1/2.\n",
    "  nengo.Connection(input_node_1, ens1, synapse=None, transform=1/2)\n",
    "  # Connect the `input_node_2` to the `ens1` with transform -1/2\n",
    "  nengo.Connection(input_node_2, ens1, synapse=None, transform=-1/2)\n",
    "  \n",
    "  # Connect the first neuron of the `ens1` to the `otpt_node_12` with connection weight = 1*radius/max_rate\n",
    "  nengo.Connection(ens1.neurons[0], otpt_node_12, transform=1*radius/max_rate)\n",
    "  # Connect the second neuron of the `ens1` to the `otpt_node_12` with connection weight = 1*radius/max_rate\n",
    "  nengo.Connection(ens1.neurons[1], otpt_node_12, transform=1*radius/max_rate)\n",
    "  #######################################################################\n",
    "  \n",
    "  \n",
    "  \n",
    "  \n",
    "  ########################   max(x3, x4)   ###############################\n",
    "  # Calculate (x3 + x4) / 2.\n",
    "  # Connect the `input_node_3` to `otpt_node_34` with transform 1/2.\n",
    "  nengo.Connection(input_node_3, otpt_node_34, synapse=None, transform=1/2)\n",
    "  # Connect the `input_node_4` to `otpt_node_34` with transform 1/2.\n",
    "  nengo.Connection(input_node_4, otpt_node_34, synapse=None, transform=1/2)\n",
    "  \n",
    "  # Calculate (x3 - x4) / 2.\n",
    "  # Connect the `input_node_3` to `ens2` with transform 1/2.\n",
    "  nengo.Connection(input_node_3, ens2, synapse=None, transform=1/2)\n",
    "  # Connect the `input_node_4` to `ens3` with transform -1/2.\n",
    "  nengo.Connection(input_node_4, ens2, synapse=None, transform=-1/2)\n",
    "  \n",
    "  # Connect the first neuron of `ens2` to the `otpt_node_34` with connection weight = 1*radius/max_rate.\n",
    "  nengo.Connection(ens2.neurons[0], otpt_node_34, transform=1*radius/max_rate)\n",
    "  # Connect the second neuron of `ens2` to the `otpt_node_34` with connection weight = 1*radius/max_rate.\n",
    "  nengo.Connection(ens2.neurons[1], otpt_node_34, transform=1*radius/max_rate)\n",
    "  #######################################################################\n",
    "  \n",
    "  \n",
    "  \n",
    "  \n",
    "  ###################  max(max(x1, x2), max(x3, x4))  ######################\n",
    "  \n",
    "  # Calculate (otpt_node_12 + otpt_node_34) / 2.\n",
    "  # Connect the `otpt_node_12` to `otpt_node` with transform 1/2\n",
    "  nengo.Connection(otpt_node_12, otpt_node, transform=1/2) #, synapse=None)\n",
    "  # Connect the `otpt_node_34` to `otpt_node` with transform 1/2\n",
    "  nengo.Connection(otpt_node_34, otpt_node, transform=1/2) #, synapse=None)\n",
    "  \n",
    "  # Calculate (otpt_node_12 - otpt_node_34) / 2.\n",
    "  # Connect the `otpt_node_12` to `ens3` with transform 1/2.\n",
    "  nengo.Connection(otpt_node_12, ens3, transform=1/2) #, synapse=None)\n",
    "  # Connect the `otpt_node_34` to `ens4` with transform -1/2.\n",
    "  nengo.Connection(otpt_node_34, ens3, transform=-1/2) #, synapse=None)\n",
    "  \n",
    "  # Connect the first neuron of `ens3` to the `otpt_node` with connection weight = 1*radius/max_rate.\n",
    "  nengo.Connection(ens3.neurons[0], otpt_node, transform=1*radius/max_rate)\n",
    "  # Connect the second neuron of `ens3` to the `otpt_node` with connection weight = 1*radius/max_rate.\n",
    "  nengo.Connection(ens3.neurons[1], otpt_node, transform=1*radius/max_rate)\n",
    "  \n",
    "  # Probe the `otpt_node`.\n",
    "  otpt_probe = nengo.Probe(otpt_node, synapse=0.005)\n",
    "  otpt_12_probe = nengo.Probe(otpt_node_12, synapse=0.005)\n",
    "  otpt_34_probe = nengo.Probe(otpt_node_34, synapse=0.005)"
   ]
  },
  {
   "cell_type": "code",
   "execution_count": 8,
   "id": "apart-stylus",
   "metadata": {
    "scrolled": true
   },
   "outputs": [
    {
     "data": {
      "application/vdom.v1+json": {
       "attributes": {},
       "tagName": "div"
      },
      "text/html": [
       "\n",
       "                <script>\n",
       "                    if (Jupyter.version.split(\".\")[0] < 5) {\n",
       "                        var pb = document.getElementById(\"7429e916-b9d6-42db-94b2-e11c788b7fef\");\n",
       "                        var text = document.createTextNode(\n",
       "                            \"HMTL progress bar requires Jupyter Notebook >= \" +\n",
       "                            \"5.0 or Jupyter Lab. Alternatively, you can use \" +\n",
       "                            \"TerminalProgressBar().\");\n",
       "                        pb.parentNode.insertBefore(text, pb);\n",
       "                    }\n",
       "                </script>\n",
       "                <div id=\"7429e916-b9d6-42db-94b2-e11c788b7fef\" style=\"\n",
       "                    width: 100%;\n",
       "                    border: 1px solid #cfcfcf;\n",
       "                    border-radius: 4px;\n",
       "                    text-align: center;\n",
       "                    position: relative;\">\n",
       "                  <div class=\"pb-text\" style=\"\n",
       "                      position: absolute;\n",
       "                      width: 100%;\">\n",
       "                    0%\n",
       "                  </div>\n",
       "                  <div class=\"pb-fill\" style=\"\n",
       "                      background-color: #bdd2e6;\n",
       "                      width: 0%;\">\n",
       "                    <style type=\"text/css\" scoped=\"scoped\">\n",
       "                        @keyframes pb-fill-anim {\n",
       "                            0% { background-position: 0 0; }\n",
       "                            100% { background-position: 100px 0; }\n",
       "                        }\n",
       "                    </style>\n",
       "                    &nbsp;\n",
       "                  </div>\n",
       "                </div>"
      ],
      "text/plain": [
       "HtmlProgressBar cannot be displayed. Please use the TerminalProgressBar. It can be enabled with `nengo.rc['progress']['progress_bar'] = 'nengo.utils.progress.TerminalProgressBar'`."
      ]
     },
     "metadata": {},
     "output_type": "display_data"
    },
    {
     "data": {
      "application/vdom.v1+json": {
       "attributes": {
        "id": "a030cc6d-20b5-4e9f-915d-bb53f2fb6aed",
        "style": {
         "border": "1px solid #cfcfcf",
         "borderRadius": "4px",
         "boxSizing": "border-box",
         "position": "relative",
         "textAlign": "center",
         "width": "100%"
        }
       },
       "children": [
        {
         "attributes": {
          "class": "pb-text",
          "style": {
           "position": "absolute",
           "width": "100%"
          }
         },
         "children": [
          "Build finished in 0:00:01."
         ],
         "tagName": "div"
        },
        {
         "attributes": {
          "class": "pb-fill",
          "style": {
           "animation": "none",
           "backgroundColor": "#bdd2e6",
           "backgroundImage": "none",
           "backgroundSize": "100px 100%",
           "width": "100%"
          }
         },
         "children": [
          {
           "attributes": {
            "scoped": "scoped",
            "type": "text/css"
           },
           "children": [
            "\n                        @keyframes pb-fill-anim {\n                            0% { background-position: 0 0; }\n                            100% { background-position: 100px 0; }\n                        }}"
           ],
           "tagName": "style"
          },
          " "
         ],
         "tagName": "div"
        }
       ],
       "tagName": "div"
      },
      "text/html": [
       "<script>\n",
       "              (function () {\n",
       "                  var root = document.getElementById('7429e916-b9d6-42db-94b2-e11c788b7fef');\n",
       "                  var text = root.getElementsByClassName('pb-text')[0];\n",
       "                  var fill = root.getElementsByClassName('pb-fill')[0];\n",
       "\n",
       "                  text.innerHTML = 'Build finished in 0:00:01.';\n",
       "                  \n",
       "            fill.style.width = '100%';\n",
       "            fill.style.animation = 'pb-fill-anim 2s linear infinite';\n",
       "            fill.style.backgroundSize = '100px 100%';\n",
       "            fill.style.backgroundImage = 'repeating-linear-gradient(' +\n",
       "                '90deg, #bdd2e6, #edf2f8 40%, #bdd2e6 80%, #bdd2e6)';\n",
       "        \n",
       "                  \n",
       "                fill.style.animation = 'none';\n",
       "                fill.style.backgroundImage = 'none';\n",
       "            \n",
       "              })();\n",
       "        </script>"
      ]
     },
     "metadata": {},
     "output_type": "display_data"
    },
    {
     "data": {
      "application/vdom.v1+json": {
       "attributes": {},
       "tagName": "div"
      },
      "text/html": [
       "\n",
       "                <script>\n",
       "                    if (Jupyter.version.split(\".\")[0] < 5) {\n",
       "                        var pb = document.getElementById(\"520c6689-c233-4735-9ae9-c23c302b02b4\");\n",
       "                        var text = document.createTextNode(\n",
       "                            \"HMTL progress bar requires Jupyter Notebook >= \" +\n",
       "                            \"5.0 or Jupyter Lab. Alternatively, you can use \" +\n",
       "                            \"TerminalProgressBar().\");\n",
       "                        pb.parentNode.insertBefore(text, pb);\n",
       "                    }\n",
       "                </script>\n",
       "                <div id=\"520c6689-c233-4735-9ae9-c23c302b02b4\" style=\"\n",
       "                    width: 100%;\n",
       "                    border: 1px solid #cfcfcf;\n",
       "                    border-radius: 4px;\n",
       "                    text-align: center;\n",
       "                    position: relative;\">\n",
       "                  <div class=\"pb-text\" style=\"\n",
       "                      position: absolute;\n",
       "                      width: 100%;\">\n",
       "                    0%\n",
       "                  </div>\n",
       "                  <div class=\"pb-fill\" style=\"\n",
       "                      background-color: #bdd2e6;\n",
       "                      width: 0%;\">\n",
       "                    <style type=\"text/css\" scoped=\"scoped\">\n",
       "                        @keyframes pb-fill-anim {\n",
       "                            0% { background-position: 0 0; }\n",
       "                            100% { background-position: 100px 0; }\n",
       "                        }\n",
       "                    </style>\n",
       "                    &nbsp;\n",
       "                  </div>\n",
       "                </div>"
      ],
      "text/plain": [
       "HtmlProgressBar cannot be displayed. Please use the TerminalProgressBar. It can be enabled with `nengo.rc['progress']['progress_bar'] = 'nengo.utils.progress.TerminalProgressBar'`."
      ]
     },
     "metadata": {},
     "output_type": "display_data"
    },
    {
     "data": {
      "application/vdom.v1+json": {
       "attributes": {
        "id": "e28c0985-ca39-4f73-9fad-f97a36af8fff",
        "style": {
         "border": "1px solid #cfcfcf",
         "borderRadius": "4px",
         "boxSizing": "border-box",
         "position": "relative",
         "textAlign": "center",
         "width": "100%"
        }
       },
       "children": [
        {
         "attributes": {
          "class": "pb-text",
          "style": {
           "position": "absolute",
           "width": "100%"
          }
         },
         "children": [
          "Simulation finished in 0:00:01."
         ],
         "tagName": "div"
        },
        {
         "attributes": {
          "class": "pb-fill",
          "style": {
           "animation": "none",
           "backgroundColor": "#bdd2e6",
           "backgroundImage": "none",
           "transition": "width 0.1s linear",
           "width": "100%"
          }
         },
         "children": [
          {
           "attributes": {
            "scoped": "scoped",
            "type": "text/css"
           },
           "children": [
            "\n                        @keyframes pb-fill-anim {\n                            0% { background-position: 0 0; }\n                            100% { background-position: 100px 0; }\n                        }}"
           ],
           "tagName": "style"
          },
          " "
         ],
         "tagName": "div"
        }
       ],
       "tagName": "div"
      },
      "text/html": [
       "<script>\n",
       "              (function () {\n",
       "                  var root = document.getElementById('520c6689-c233-4735-9ae9-c23c302b02b4');\n",
       "                  var text = root.getElementsByClassName('pb-text')[0];\n",
       "                  var fill = root.getElementsByClassName('pb-fill')[0];\n",
       "\n",
       "                  text.innerHTML = 'Simulation finished in 0:00:01.';\n",
       "                  \n",
       "            if (100.0 > 0.) {\n",
       "                fill.style.transition = 'width 0.1s linear';\n",
       "            } else {\n",
       "                fill.style.transition = 'none';\n",
       "            }\n",
       "\n",
       "            fill.style.width = '100.0%';\n",
       "            fill.style.animation = 'none';\n",
       "            fill.style.backgroundImage = 'none'\n",
       "        \n",
       "                  \n",
       "                fill.style.animation = 'none';\n",
       "                fill.style.backgroundImage = 'none';\n",
       "            \n",
       "              })();\n",
       "        </script>"
      ]
     },
     "metadata": {},
     "output_type": "display_data"
    },
    {
     "data": {
      "text/plain": [
       "<matplotlib.legend.Legend at 0x2b8b3a0ed950>"
      ]
     },
     "execution_count": 8,
     "metadata": {},
     "output_type": "execute_result"
    },
    {
     "data": {
      "image/png": "[encoded data removed]",
      "text/plain": [
       "<Figure size 432x288 with 1 Axes>"
      ]
     },
     "metadata": {},
     "output_type": "display_data"
    }
   ],
   "source": [
    "with nengo.Simulator(net3) as sim:\n",
    "  sim.run(1)\n",
    "plt.subplots(facecolor=\"#00FFFF\")\n",
    "plt.plot(sim.data[otpt_probe], label=\"Final Max Probed Output\")\n",
    "plt.plot(sim.data[otpt_12_probe], label=\"First Max Probed Output\")\n",
    "plt.plot(sim.data[otpt_34_probe], label=\"Second Max Probed Output\")\n",
    "plt.legend()"
   ]
  },
  {
   "cell_type": "markdown",
   "id": "novel-connectivity",
   "metadata": {},
   "source": [
    "# Calculating max(a, b) with alternating values of a and b (unfiltered spikes)"
   ]
  },
  {
   "cell_type": "code",
   "execution_count": 9,
   "id": "durable-secretary",
   "metadata": {},
   "outputs": [],
   "source": [
    "x1, x2 = 10, 0\n",
    "# The `radius` should be equal to the abs(`x1` - `x2`) for optimum representation in the ensemble.\n",
    "max_rate, radius = 250, 5 #np.abs(x1 - x2)\n",
    "\n",
    "\n",
    "# Alternate every other timestep i.e. [10, 0], [0, 10], [10, 0], [0, 10] ....\n",
    "# def get_x1(t):\n",
    "#   if int(t*1000.0)%2:\n",
    "#     return x1\n",
    "#   else:\n",
    "#     return 0\n",
    "\n",
    "# def get_x2(t):\n",
    "#   if int(t*1000.0)%2:\n",
    "#     return 0\n",
    "#   else:\n",
    "#     return x1\n",
    "#################################################################################\n",
    "\n",
    "# Alternate every nth timestep i.e. [0, 0], [0, 0], [10, 0], [0, 0], [0, 10], [10, 0], [0, 0], [0, 0], [10, 0], [0, 10]...\n",
    "# i.e. the first neuron spikes at every 3rd timestep, the second neuron spikes every 5th timestep.\n",
    "def get_x1(t):\n",
    "  if int(t*1000.0)%5==0:\n",
    "    return x1*2\n",
    "  else:\n",
    "    return 0\n",
    "\n",
    "def get_x2(t):\n",
    "  if int(t*1000.0)%3==0:\n",
    "    return x1*2\n",
    "  else:\n",
    "    return 0\n",
    "\n",
    "with nengo.Network(seed=90) as net4:  \n",
    "  #######################################################################\n",
    "  # Create `input_node_1` to represent the number `x1`.\n",
    "  input_node_1 = nengo.Node(get_x1)\n",
    "  # Create `input_node_2` to represent the number `x2`.\n",
    "  input_node_2 = nengo.Node(get_x2)\n",
    "  \n",
    "  # Create an ensemble of 2 neurons, with given `max_rate` and radius = `x`. \n",
    "  ens = nengo.Ensemble(\n",
    "      n_neurons=2,\n",
    "      dimensions=1,\n",
    "      encoders = [[1], [-1]],\n",
    "      intercepts = [0, 0],\n",
    "      max_rates = [max_rate, max_rate],\n",
    "      radius = radius,\n",
    "      neuron_type=nengo.SpikingRectifiedLinear()\n",
    "      #neuron_type=nengo.LIF()\n",
    "  )\n",
    "  # Create the output node which will be probed for the final output.\n",
    "  otpt_node = nengo.Node(size_in=1)\n",
    "  #########################################################################\n",
    "  \n",
    "  # Calculate (x1 + x2) / 2.\n",
    "  # Connect the `input_node_1` to `otpt_node` with transform 1/2.\n",
    "  nengo.Connection(input_node_1, otpt_node, synapse=None, transform=1/2)\n",
    "  # Connect the `input_node_2` to `otpt_node` with transform 1/2.\n",
    "  nengo.Connection(input_node_2, otpt_node, synapse=None, transform=1/2)\n",
    "  \n",
    "  # Calculate (x1 - x2) / 2.\n",
    "  # Connect the `input_node_1` to the `ens` with transform 1/2.\n",
    "  nengo.Connection(input_node_1, ens, synapse=None, transform=1/2)\n",
    "  # Connect the `input_node_2` to the `ens` with transform -1/2\n",
    "  nengo.Connection(input_node_2, ens, synapse=None, transform=-1/2)\n",
    "  \n",
    "  # Connect the first neuron of the `ens` to the `otpt_node` with connection weight = 1*radius/max_rate\n",
    "  nengo.Connection(ens.neurons[0], otpt_node, transform=1*radius/max_rate)\n",
    "  # Connect the second neuron of the `ens` to the `otpt_node` with connection weight = 1*radius/max_rate\n",
    "  nengo.Connection(ens.neurons[1], otpt_node, transform=1*radius/max_rate)\n",
    "  #######################################################################\n",
    "  \n",
    "  # Probe the `otpt_node`.\n",
    "  otpt_probe = nengo.Probe(otpt_node, synapse=0.005)"
   ]
  },
  {
   "cell_type": "code",
   "execution_count": 10,
   "id": "large-classification",
   "metadata": {
    "scrolled": true
   },
   "outputs": [
    {
     "data": {
      "application/vdom.v1+json": {
       "attributes": {},
       "tagName": "div"
      },
      "text/html": [
       "\n",
       "                <script>\n",
       "                    if (Jupyter.version.split(\".\")[0] < 5) {\n",
       "                        var pb = document.getElementById(\"0505cecc-def0-4c16-8980-d7a27ef40305\");\n",
       "                        var text = document.createTextNode(\n",
       "                            \"HMTL progress bar requires Jupyter Notebook >= \" +\n",
       "                            \"5.0 or Jupyter Lab. Alternatively, you can use \" +\n",
       "                            \"TerminalProgressBar().\");\n",
       "                        pb.parentNode.insertBefore(text, pb);\n",
       "                    }\n",
       "                </script>\n",
       "                <div id=\"0505cecc-def0-4c16-8980-d7a27ef40305\" style=\"\n",
       "                    width: 100%;\n",
       "                    border: 1px solid #cfcfcf;\n",
       "                    border-radius: 4px;\n",
       "                    text-align: center;\n",
       "                    position: relative;\">\n",
       "                  <div class=\"pb-text\" style=\"\n",
       "                      position: absolute;\n",
       "                      width: 100%;\">\n",
       "                    0%\n",
       "                  </div>\n",
       "                  <div class=\"pb-fill\" style=\"\n",
       "                      background-color: #bdd2e6;\n",
       "                      width: 0%;\">\n",
       "                    <style type=\"text/css\" scoped=\"scoped\">\n",
       "                        @keyframes pb-fill-anim {\n",
       "                            0% { background-position: 0 0; }\n",
       "                            100% { background-position: 100px 0; }\n",
       "                        }\n",
       "                    </style>\n",
       "                    &nbsp;\n",
       "                  </div>\n",
       "                </div>"
      ],
      "text/plain": [
       "HtmlProgressBar cannot be displayed. Please use the TerminalProgressBar. It can be enabled with `nengo.rc['progress']['progress_bar'] = 'nengo.utils.progress.TerminalProgressBar'`."
      ]
     },
     "metadata": {},
     "output_type": "display_data"
    },
    {
     "data": {
      "application/vdom.v1+json": {
       "attributes": {
        "id": "05468808-6382-4312-a1f6-9a67b5283fff",
        "style": {
         "border": "1px solid #cfcfcf",
         "borderRadius": "4px",
         "boxSizing": "border-box",
         "position": "relative",
         "textAlign": "center",
         "width": "100%"
        }
       },
       "children": [
        {
         "attributes": {
          "class": "pb-text",
          "style": {
           "position": "absolute",
           "width": "100%"
          }
         },
         "children": [
          "Build finished in 0:00:01."
         ],
         "tagName": "div"
        },
        {
         "attributes": {
          "class": "pb-fill",
          "style": {
           "animation": "none",
           "backgroundColor": "#bdd2e6",
           "backgroundImage": "none",
           "backgroundSize": "100px 100%",
           "width": "100%"
          }
         },
         "children": [
          {
           "attributes": {
            "scoped": "scoped",
            "type": "text/css"
           },
           "children": [
            "\n                        @keyframes pb-fill-anim {\n                            0% { background-position: 0 0; }\n                            100% { background-position: 100px 0; }\n                        }}"
           ],
           "tagName": "style"
          },
          " "
         ],
         "tagName": "div"
        }
       ],
       "tagName": "div"
      },
      "text/html": [
       "<script>\n",
       "              (function () {\n",
       "                  var root = document.getElementById('0505cecc-def0-4c16-8980-d7a27ef40305');\n",
       "                  var text = root.getElementsByClassName('pb-text')[0];\n",
       "                  var fill = root.getElementsByClassName('pb-fill')[0];\n",
       "\n",
       "                  text.innerHTML = 'Build finished in 0:00:01.';\n",
       "                  \n",
       "            fill.style.width = '100%';\n",
       "            fill.style.animation = 'pb-fill-anim 2s linear infinite';\n",
       "            fill.style.backgroundSize = '100px 100%';\n",
       "            fill.style.backgroundImage = 'repeating-linear-gradient(' +\n",
       "                '90deg, #bdd2e6, #edf2f8 40%, #bdd2e6 80%, #bdd2e6)';\n",
       "        \n",
       "                  \n",
       "                fill.style.animation = 'none';\n",
       "                fill.style.backgroundImage = 'none';\n",
       "            \n",
       "              })();\n",
       "        </script>"
      ]
     },
     "metadata": {},
     "output_type": "display_data"
    },
    {
     "data": {
      "application/vdom.v1+json": {
       "attributes": {},
       "tagName": "div"
      },
      "text/html": [
       "\n",
       "                <script>\n",
       "                    if (Jupyter.version.split(\".\")[0] < 5) {\n",
       "                        var pb = document.getElementById(\"b53a64e6-9d89-4e9a-8328-f696ef3cd687\");\n",
       "                        var text = document.createTextNode(\n",
       "                            \"HMTL progress bar requires Jupyter Notebook >= \" +\n",
       "                            \"5.0 or Jupyter Lab. Alternatively, you can use \" +\n",
       "                            \"TerminalProgressBar().\");\n",
       "                        pb.parentNode.insertBefore(text, pb);\n",
       "                    }\n",
       "                </script>\n",
       "                <div id=\"b53a64e6-9d89-4e9a-8328-f696ef3cd687\" style=\"\n",
       "                    width: 100%;\n",
       "                    border: 1px solid #cfcfcf;\n",
       "                    border-radius: 4px;\n",
       "                    text-align: center;\n",
       "                    position: relative;\">\n",
       "                  <div class=\"pb-text\" style=\"\n",
       "                      position: absolute;\n",
       "                      width: 100%;\">\n",
       "                    0%\n",
       "                  </div>\n",
       "                  <div class=\"pb-fill\" style=\"\n",
       "                      background-color: #bdd2e6;\n",
       "                      width: 0%;\">\n",
       "                    <style type=\"text/css\" scoped=\"scoped\">\n",
       "                        @keyframes pb-fill-anim {\n",
       "                            0% { background-position: 0 0; }\n",
       "                            100% { background-position: 100px 0; }\n",
       "                        }\n",
       "                    </style>\n",
       "                    &nbsp;\n",
       "                  </div>\n",
       "                </div>"
      ],
      "text/plain": [
       "HtmlProgressBar cannot be displayed. Please use the TerminalProgressBar. It can be enabled with `nengo.rc['progress']['progress_bar'] = 'nengo.utils.progress.TerminalProgressBar'`."
      ]
     },
     "metadata": {},
     "output_type": "display_data"
    },
    {
     "data": {
      "application/vdom.v1+json": {
       "attributes": {
        "id": "8ca13ad4-376d-4304-a432-0d2d3876bef6",
        "style": {
         "border": "1px solid #cfcfcf",
         "borderRadius": "4px",
         "boxSizing": "border-box",
         "position": "relative",
         "textAlign": "center",
         "width": "100%"
        }
       },
       "children": [
        {
         "attributes": {
          "class": "pb-text",
          "style": {
           "position": "absolute",
           "width": "100%"
          }
         },
         "children": [
          "Simulation finished in 0:00:01."
         ],
         "tagName": "div"
        },
        {
         "attributes": {
          "class": "pb-fill",
          "style": {
           "animation": "none",
           "backgroundColor": "#bdd2e6",
           "backgroundImage": "none",
           "transition": "width 0.1s linear",
           "width": "100%"
          }
         },
         "children": [
          {
           "attributes": {
            "scoped": "scoped",
            "type": "text/css"
           },
           "children": [
            "\n                        @keyframes pb-fill-anim {\n                            0% { background-position: 0 0; }\n                            100% { background-position: 100px 0; }\n                        }}"
           ],
           "tagName": "style"
          },
          " "
         ],
         "tagName": "div"
        }
       ],
       "tagName": "div"
      },
      "text/html": [
       "<script>\n",
       "              (function () {\n",
       "                  var root = document.getElementById('b53a64e6-9d89-4e9a-8328-f696ef3cd687');\n",
       "                  var text = root.getElementsByClassName('pb-text')[0];\n",
       "                  var fill = root.getElementsByClassName('pb-fill')[0];\n",
       "\n",
       "                  text.innerHTML = 'Simulation finished in 0:00:01.';\n",
       "                  \n",
       "            if (100.0 > 0.) {\n",
       "                fill.style.transition = 'width 0.1s linear';\n",
       "            } else {\n",
       "                fill.style.transition = 'none';\n",
       "            }\n",
       "\n",
       "            fill.style.width = '100.0%';\n",
       "            fill.style.animation = 'none';\n",
       "            fill.style.backgroundImage = 'none'\n",
       "        \n",
       "                  \n",
       "                fill.style.animation = 'none';\n",
       "                fill.style.backgroundImage = 'none';\n",
       "            \n",
       "              })();\n",
       "        </script>"
      ]
     },
     "metadata": {},
     "output_type": "display_data"
    },
    {
     "data": {
      "text/plain": [
       "<matplotlib.legend.Legend at 0x2b8b3a111090>"
      ]
     },
     "execution_count": 10,
     "metadata": {},
     "output_type": "execute_result"
    },
    {
     "data": {
      "image/png": "[encoded data removed]",
      "text/plain": [
       "<Figure size 432x288 with 1 Axes>"
      ]
     },
     "metadata": {},
     "output_type": "display_data"
    }
   ],
   "source": [
    "with nengo.Simulator(net4) as sim:\n",
    "  sim.run(1)\n",
    "plt.subplots(facecolor=\"#00FFFF\")\n",
    "plt.plot(sim.data[otpt_probe], label=\"Probed Output\")\n",
    "plt.plot(np.repeat(x1, 1000), label=\"Input 1\")\n",
    "plt.plot(np.repeat(x2, 1000), label=\"Input 2\")\n",
    "plt.legend()"
   ]
  },
  {
   "cell_type": "code",
   "execution_count": 11,
   "id": "arranged-coalition",
   "metadata": {
    "scrolled": true
   },
   "outputs": [
    {
     "name": "stdout",
     "output_type": "stream",
     "text": [
      "[[ 0.        ]\n",
      " [ 0.        ]\n",
      " [ 0.        ]\n",
      " [ 1.81269247]\n",
      " [ 2.14127787]\n",
      " [ 4.10386845]\n",
      " [ 6.27034133]\n",
      " [ 6.03243021]\n",
      " [ 5.67473676]\n",
      " [ 7.06119658]\n",
      " [ 8.74430397]\n",
      " [ 8.10109247]\n",
      " [ 9.2164373 ]\n",
      " [ 8.17712956]\n",
      " [ 7.21177221]\n",
      " [ 9.95309046]\n",
      " [ 8.49539287]\n",
      " [ 7.23912275]\n",
      " [ 7.97184518]\n",
      " [ 7.37412424]\n",
      " [ 8.54384943]\n",
      " [10.03295745]\n",
      " [ 9.217361  ]\n",
      " [ 8.36778133]\n",
      " [ 9.33603044]\n",
      " [10.66405509]\n",
      " [ 9.71974429]\n",
      " [10.58006969]\n",
      " [ 9.32501035]\n",
      " [ 8.17731268]\n",
      " [10.76467831]\n",
      " [ 9.17711561]\n",
      " [ 7.81139389]\n",
      " [ 8.45194471]\n",
      " [ 7.77666393]\n",
      " [ 8.88117234]\n",
      " [10.3154803 ]\n",
      " [ 9.45386699]\n",
      " [ 8.56567006]\n",
      " [ 9.5015309 ]\n",
      " [10.80240695]\n",
      " [ 9.83535185]\n",
      " [10.6766326 ]\n",
      " [ 9.40563433]\n",
      " [ 8.24460329]\n",
      " [10.82082023]\n",
      " [ 9.22393959]\n",
      " [ 7.8504333 ]\n",
      " [ 8.48448319]\n",
      " [ 7.80377555]\n",
      " [ 8.90375536]\n",
      " [10.33428568]\n",
      " [ 9.46952222]\n",
      " [ 8.57869926]\n",
      " [ 9.51237172]\n",
      " [10.81142463]\n",
      " [ 9.84285114]\n",
      " [10.68286767]\n",
      " [ 9.41081708]\n",
      " [ 8.24891036]]\n"
     ]
    }
   ],
   "source": [
    "print(sim.data[otpt_probe][:60])"
   ]
  },
  {
   "cell_type": "markdown",
   "id": "together-holocaust",
   "metadata": {},
   "source": [
    "# Calculating max(a, b) with alternating values of a and b (filtered spikes)"
   ]
  },
  {
   "cell_type": "code",
   "execution_count": 12,
   "id": "romance-values",
   "metadata": {},
   "outputs": [],
   "source": [
    "x1, x2 = 10, 0\n",
    "# The `radius` should be equal to the abs(`x1` - `x2`) for optimum representation in the ensemble.\n",
    "max_rate, radius = 250, 5 #np.abs(x1 - x2)\n",
    "\n",
    "\n",
    "# Alternate every other timestep i.e. [10, 0], [0, 10], [10, 0], [0, 10] ....\n",
    "# def get_x1(t):\n",
    "#   if int(t*1000.0)%2:\n",
    "#     return x1\n",
    "#   else:\n",
    "#     return 0\n",
    "\n",
    "# def get_x2(t):\n",
    "#   if int(t*1000.0)%2:\n",
    "#     return 0\n",
    "#   else:\n",
    "#     return x1\n",
    "#################################################################################\n",
    "\n",
    "# Alternate every nth timestep i.e. [0, 0], [0, 0], [10, 0], [0, 0], [0, 10], [10, 0], [0, 0], [0, 0], [10, 0], [0, 10]...\n",
    "# i.e. the first neuron spikes at every 3rd timestep, the second neuron spikes every 5th timestep.\n",
    "def get_x1(t):\n",
    "  if int(t*1000.0)%5==0:\n",
    "    return x1*3\n",
    "  else:\n",
    "    return 0\n",
    "\n",
    "def get_x2(t):\n",
    "  if int(t*1000.0)%3==0:\n",
    "    return x1*3\n",
    "  else:\n",
    "    return 0\n",
    "\n",
    "with nengo.Network(seed=90) as net5:  \n",
    "  #######################################################################\n",
    "  # Create `input_node_1` to represent the number `x1`.\n",
    "  input_node_1 = nengo.Node(get_x1)\n",
    "  # Create `input_node_2` to represent the number `x2`.\n",
    "  input_node_2 = nengo.Node(get_x2)\n",
    "  \n",
    "  # Create an ensemble of 2 neurons, with given `max_rate` and radius = `x`. \n",
    "  ens = nengo.Ensemble(\n",
    "      n_neurons=2,\n",
    "      dimensions=1,\n",
    "      encoders = [[1], [-1]],\n",
    "      intercepts = [0, 0],\n",
    "      max_rates = [max_rate, max_rate],\n",
    "      radius = radius,\n",
    "      neuron_type=nengo.SpikingRectifiedLinear()\n",
    "      #neuron_type=nengo.LIF()\n",
    "  )\n",
    "  # Create the output node which will be probed for the final output.\n",
    "  otpt_node = nengo.Node(size_in=1)\n",
    "  #########################################################################\n",
    "  \n",
    "  # Calculate (x1 + x2) / 2.\n",
    "  # Connect the `input_node_1` to `otpt_node` with transform 1/2.\n",
    "  nengo.Connection(input_node_1, otpt_node, synapse=0.005, transform=1/2)\n",
    "  # Connect the `input_node_2` to `otpt_node` with transform 1/2.\n",
    "  nengo.Connection(input_node_2, otpt_node, synapse=0.005, transform=1/2)\n",
    "  \n",
    "  # Calculate (x1 - x2) / 2.\n",
    "  # Connect the `input_node_1` to the `ens` with transform 1/2.\n",
    "  nengo.Connection(input_node_1, ens, synapse=0.005, transform=1/2)\n",
    "  # Connect the `input_node_2` to the `ens` with transform -1/2\n",
    "  nengo.Connection(input_node_2, ens, synapse=0.005, transform=-1/2)\n",
    "  \n",
    "  # Connect the first neuron of the `ens` to the `otpt_node` with connection weight = 1*radius/max_rate\n",
    "  nengo.Connection(ens.neurons[0], otpt_node, transform=1*radius/max_rate)\n",
    "  # Connect the second neuron of the `ens` to the `otpt_node` with connection weight = 1*radius/max_rate\n",
    "  nengo.Connection(ens.neurons[1], otpt_node, transform=1*radius/max_rate)\n",
    "  #######################################################################\n",
    "  \n",
    "  # Probe the `otpt_node`.\n",
    "  otpt_probe = nengo.Probe(otpt_node, synapse=0.005)"
   ]
  },
  {
   "cell_type": "code",
   "execution_count": 13,
   "id": "decimal-lucas",
   "metadata": {
    "scrolled": false
   },
   "outputs": [
    {
     "data": {
      "application/vdom.v1+json": {
       "attributes": {},
       "tagName": "div"
      },
      "text/html": [
       "\n",
       "                <script>\n",
       "                    if (Jupyter.version.split(\".\")[0] < 5) {\n",
       "                        var pb = document.getElementById(\"39a83d05-6f73-49ad-a38d-84fd8778b787\");\n",
       "                        var text = document.createTextNode(\n",
       "                            \"HMTL progress bar requires Jupyter Notebook >= \" +\n",
       "                            \"5.0 or Jupyter Lab. Alternatively, you can use \" +\n",
       "                            \"TerminalProgressBar().\");\n",
       "                        pb.parentNode.insertBefore(text, pb);\n",
       "                    }\n",
       "                </script>\n",
       "                <div id=\"39a83d05-6f73-49ad-a38d-84fd8778b787\" style=\"\n",
       "                    width: 100%;\n",
       "                    border: 1px solid #cfcfcf;\n",
       "                    border-radius: 4px;\n",
       "                    text-align: center;\n",
       "                    position: relative;\">\n",
       "                  <div class=\"pb-text\" style=\"\n",
       "                      position: absolute;\n",
       "                      width: 100%;\">\n",
       "                    0%\n",
       "                  </div>\n",
       "                  <div class=\"pb-fill\" style=\"\n",
       "                      background-color: #bdd2e6;\n",
       "                      width: 0%;\">\n",
       "                    <style type=\"text/css\" scoped=\"scoped\">\n",
       "                        @keyframes pb-fill-anim {\n",
       "                            0% { background-position: 0 0; }\n",
       "                            100% { background-position: 100px 0; }\n",
       "                        }\n",
       "                    </style>\n",
       "                    &nbsp;\n",
       "                  </div>\n",
       "                </div>"
      ],
      "text/plain": [
       "HtmlProgressBar cannot be displayed. Please use the TerminalProgressBar. It can be enabled with `nengo.rc['progress']['progress_bar'] = 'nengo.utils.progress.TerminalProgressBar'`."
      ]
     },
     "metadata": {},
     "output_type": "display_data"
    },
    {
     "data": {
      "application/vdom.v1+json": {
       "attributes": {
        "id": "c511e228-4d1f-4d76-8909-5a5b78ceead4",
        "style": {
         "border": "1px solid #cfcfcf",
         "borderRadius": "4px",
         "boxSizing": "border-box",
         "position": "relative",
         "textAlign": "center",
         "width": "100%"
        }
       },
       "children": [
        {
         "attributes": {
          "class": "pb-text",
          "style": {
           "position": "absolute",
           "width": "100%"
          }
         },
         "children": [
          "Build finished in 0:00:01."
         ],
         "tagName": "div"
        },
        {
         "attributes": {
          "class": "pb-fill",
          "style": {
           "animation": "none",
           "backgroundColor": "#bdd2e6",
           "backgroundImage": "none",
           "backgroundSize": "100px 100%",
           "width": "100%"
          }
         },
         "children": [
          {
           "attributes": {
            "scoped": "scoped",
            "type": "text/css"
           },
           "children": [
            "\n                        @keyframes pb-fill-anim {\n                            0% { background-position: 0 0; }\n                            100% { background-position: 100px 0; }\n                        }}"
           ],
           "tagName": "style"
          },
          " "
         ],
         "tagName": "div"
        }
       ],
       "tagName": "div"
      },
      "text/html": [
       "<script>\n",
       "              (function () {\n",
       "                  var root = document.getElementById('39a83d05-6f73-49ad-a38d-84fd8778b787');\n",
       "                  var text = root.getElementsByClassName('pb-text')[0];\n",
       "                  var fill = root.getElementsByClassName('pb-fill')[0];\n",
       "\n",
       "                  text.innerHTML = 'Build finished in 0:00:01.';\n",
       "                  \n",
       "            fill.style.width = '100%';\n",
       "            fill.style.animation = 'pb-fill-anim 2s linear infinite';\n",
       "            fill.style.backgroundSize = '100px 100%';\n",
       "            fill.style.backgroundImage = 'repeating-linear-gradient(' +\n",
       "                '90deg, #bdd2e6, #edf2f8 40%, #bdd2e6 80%, #bdd2e6)';\n",
       "        \n",
       "                  \n",
       "                fill.style.animation = 'none';\n",
       "                fill.style.backgroundImage = 'none';\n",
       "            \n",
       "              })();\n",
       "        </script>"
      ]
     },
     "metadata": {},
     "output_type": "display_data"
    },
    {
     "data": {
      "application/vdom.v1+json": {
       "attributes": {},
       "tagName": "div"
      },
      "text/html": [
       "\n",
       "                <script>\n",
       "                    if (Jupyter.version.split(\".\")[0] < 5) {\n",
       "                        var pb = document.getElementById(\"0c1a14c8-e1b5-4a9d-a398-027954f1f5e7\");\n",
       "                        var text = document.createTextNode(\n",
       "                            \"HMTL progress bar requires Jupyter Notebook >= \" +\n",
       "                            \"5.0 or Jupyter Lab. Alternatively, you can use \" +\n",
       "                            \"TerminalProgressBar().\");\n",
       "                        pb.parentNode.insertBefore(text, pb);\n",
       "                    }\n",
       "                </script>\n",
       "                <div id=\"0c1a14c8-e1b5-4a9d-a398-027954f1f5e7\" style=\"\n",
       "                    width: 100%;\n",
       "                    border: 1px solid #cfcfcf;\n",
       "                    border-radius: 4px;\n",
       "                    text-align: center;\n",
       "                    position: relative;\">\n",
       "                  <div class=\"pb-text\" style=\"\n",
       "                      position: absolute;\n",
       "                      width: 100%;\">\n",
       "                    0%\n",
       "                  </div>\n",
       "                  <div class=\"pb-fill\" style=\"\n",
       "                      background-color: #bdd2e6;\n",
       "                      width: 0%;\">\n",
       "                    <style type=\"text/css\" scoped=\"scoped\">\n",
       "                        @keyframes pb-fill-anim {\n",
       "                            0% { background-position: 0 0; }\n",
       "                            100% { background-position: 100px 0; }\n",
       "                        }\n",
       "                    </style>\n",
       "                    &nbsp;\n",
       "                  </div>\n",
       "                </div>"
      ],
      "text/plain": [
       "HtmlProgressBar cannot be displayed. Please use the TerminalProgressBar. It can be enabled with `nengo.rc['progress']['progress_bar'] = 'nengo.utils.progress.TerminalProgressBar'`."
      ]
     },
     "metadata": {},
     "output_type": "display_data"
    },
    {
     "data": {
      "application/vdom.v1+json": {
       "attributes": {
        "id": "9dad6f2a-d4d5-4859-a099-eec02246a92f",
        "style": {
         "border": "1px solid #cfcfcf",
         "borderRadius": "4px",
         "boxSizing": "border-box",
         "position": "relative",
         "textAlign": "center",
         "width": "100%"
        }
       },
       "children": [
        {
         "attributes": {
          "class": "pb-text",
          "style": {
           "position": "absolute",
           "width": "100%"
          }
         },
         "children": [
          "Simulation finished in 0:00:01."
         ],
         "tagName": "div"
        },
        {
         "attributes": {
          "class": "pb-fill",
          "style": {
           "animation": "none",
           "backgroundColor": "#bdd2e6",
           "backgroundImage": "none",
           "transition": "width 0.1s linear",
           "width": "100%"
          }
         },
         "children": [
          {
           "attributes": {
            "scoped": "scoped",
            "type": "text/css"
           },
           "children": [
            "\n                        @keyframes pb-fill-anim {\n                            0% { background-position: 0 0; }\n                            100% { background-position: 100px 0; }\n                        }}"
           ],
           "tagName": "style"
          },
          " "
         ],
         "tagName": "div"
        }
       ],
       "tagName": "div"
      },
      "text/html": [
       "<script>\n",
       "              (function () {\n",
       "                  var root = document.getElementById('0c1a14c8-e1b5-4a9d-a398-027954f1f5e7');\n",
       "                  var text = root.getElementsByClassName('pb-text')[0];\n",
       "                  var fill = root.getElementsByClassName('pb-fill')[0];\n",
       "\n",
       "                  text.innerHTML = 'Simulation finished in 0:00:01.';\n",
       "                  \n",
       "            if (100.0 > 0.) {\n",
       "                fill.style.transition = 'width 0.1s linear';\n",
       "            } else {\n",
       "                fill.style.transition = 'none';\n",
       "            }\n",
       "\n",
       "            fill.style.width = '100.0%';\n",
       "            fill.style.animation = 'none';\n",
       "            fill.style.backgroundImage = 'none'\n",
       "        \n",
       "                  \n",
       "                fill.style.animation = 'none';\n",
       "                fill.style.backgroundImage = 'none';\n",
       "            \n",
       "              })();\n",
       "        </script>"
      ]
     },
     "metadata": {},
     "output_type": "display_data"
    },
    {
     "data": {
      "text/plain": [
       "<matplotlib.legend.Legend at 0x2b8b3a1bb610>"
      ]
     },
     "execution_count": 13,
     "metadata": {},
     "output_type": "execute_result"
    },
    {
     "data": {
      "image/png": "[encoded data removed]",
      "text/plain": [
       "<Figure size 432x288 with 1 Axes>"
      ]
     },
     "metadata": {},
     "output_type": "display_data"
    }
   ],
   "source": [
    "with nengo.Simulator(net5) as sim:\n",
    "  sim.run(1)\n",
    "plt.subplots(facecolor=\"#00FFFF\")\n",
    "plt.plot(sim.data[otpt_probe], label=\"Probed Output\")\n",
    "plt.plot(np.repeat(x1, 1000), label=\"Input 1\")\n",
    "plt.plot(np.repeat(x2, 1000), label=\"Input 2\")\n",
    "plt.legend()"
   ]
  },
  {
   "cell_type": "code",
   "execution_count": 14,
   "id": "signal-concert",
   "metadata": {
    "scrolled": true
   },
   "outputs": [
    {
     "name": "stdout",
     "output_type": "stream",
     "text": [
      "[[ 0.        ]\n",
      " [ 0.        ]\n",
      " [ 0.        ]\n",
      " [ 0.        ]\n",
      " [ 0.4928781 ]\n",
      " [ 0.80706891]\n",
      " [ 1.48403631]\n",
      " [ 2.38193595]\n",
      " [ 2.90554915]\n",
      " [ 3.16106547]\n",
      " [ 4.37852408]\n",
      " [ 5.54361718]\n",
      " [ 6.14244727]\n",
      " [ 6.83490134]\n",
      " [ 7.0744823 ]\n",
      " [ 7.00262107]\n",
      " [ 7.71011133]\n",
      " [ 7.93101324]\n",
      " [ 7.8184867 ]\n",
      " [ 7.97903195]\n",
      " [ 7.82446931]\n",
      " [ 8.61381113]\n",
      " [ 9.35276362]\n",
      " [ 9.54078012]\n",
      " [ 9.35331526]\n",
      " [ 9.41319561]\n",
      " [ 9.63690885]\n",
      " [ 9.47021356]\n",
      " [ 9.54017508]\n",
      " [ 9.27359546]\n",
      " [ 8.790185  ]\n",
      " [ 9.82023962]\n",
      " [10.18802715]\n",
      " [10.0997988 ]\n",
      " [10.20167103]\n",
      " [ 9.93474601]\n",
      " [ 9.92225767]\n",
      " [10.08073369]\n",
      " [ 9.85572515]\n",
      " [ 9.38105267]\n",
      " [ 9.24750061]\n",
      " [10.0041675 ]\n",
      " [10.18265416]\n",
      " [10.46058829]\n",
      " [10.30317345]\n",
      " [ 9.8591079 ]\n",
      " [10.22324216]\n",
      " [10.13140784]\n",
      " [ 9.73694619]\n",
      " [ 9.6454669 ]\n",
      " [ 9.92438134]\n",
      " [10.2781207 ]\n",
      " [10.67039334]\n",
      " [10.58272801]\n",
      " [10.17623119]\n",
      " [10.06225023]\n",
      " [10.14809375]\n",
      " [ 9.87218484]\n",
      " [ 9.85573008]\n",
      " [ 9.52085523]]\n"
     ]
    }
   ],
   "source": [
    "print(sim.data[otpt_probe][:60])"
   ]
  },
  {
   "cell_type": "markdown",
   "id": "complex-richards",
   "metadata": {},
   "source": [
    "# Computing simple max(a, b) as done in TensorNode"
   ]
  },
  {
   "cell_type": "code",
   "execution_count": 15,
   "id": "immediate-moment",
   "metadata": {},
   "outputs": [],
   "source": [
    "x1, x2 = 10, 0\n",
    "# The `radius` should be equal to the abs(`x1` - `x2`) for optimum representation in the ensemble.\n",
    "max_rate, radius = 250, 5 #np.abs(x1 - x2)\n",
    "\n",
    "\n",
    "# Alternate every other timestep i.e. [10, 0], [0, 10], [10, 0], [0, 10] ....\n",
    "# def get_x1(t):\n",
    "#   if int(t*1000.0)%2:\n",
    "#     return x1\n",
    "#   else:\n",
    "#     return 0\n",
    "\n",
    "# def get_x2(t):\n",
    "#   if int(t*1000.0)%2:\n",
    "#     return 0\n",
    "#   else:\n",
    "#     return x1\n",
    "#################################################################################\n",
    "\n",
    "# Alternate every nth timestep i.e. [0, 0], [0, 0], [10, 0], [0, 0], [0, 10], [10, 0], [0, 0], [0, 0], [10, 0], [0, 10]...\n",
    "# i.e. the first neuron spikes at every 3rd timestep, the second neuron spikes every 5th timestep.\n",
    "def get_x1(t):\n",
    "  if int(t*1000.0)%5==0:\n",
    "    return x1\n",
    "  else:\n",
    "    return 0\n",
    "\n",
    "def get_x2(t):\n",
    "  if int(t*1000.0)%3==0:\n",
    "    return x1\n",
    "  else:\n",
    "    return 0\n",
    "  \n",
    "def do_max(t, x):\n",
    "  return max(x[0], x[1])\n",
    "\n",
    "with nengo.Network(seed=90) as net6:  \n",
    "  #######################################################################\n",
    "  # Create `input_node_1` to represent the number `x1`.\n",
    "  input_node_1 = nengo.Node(get_x1)\n",
    "  # Create `input_node_2` to represent the number `x2`.\n",
    "  input_node_2 = nengo.Node(get_x2)\n",
    "\n",
    "  # Create the output node which will be probed for the final output.\n",
    "  otpt_node = nengo.Node(do_max, size_in=2)\n",
    "  #########################################################################\n",
    "  \n",
    "  nengo.Connection(input_node_1, otpt_node[0], synapse=None)\n",
    "  nengo.Connection(input_node_2, otpt_node[1], synapse=None)\n",
    "  \n",
    "  #######################################################################\n",
    "  \n",
    "  # Probe the `otpt_node`.\n",
    "  otpt_probe = nengo.Probe(otpt_node, synapse=None)"
   ]
  },
  {
   "cell_type": "code",
   "execution_count": 16,
   "id": "light-decision",
   "metadata": {
    "scrolled": true
   },
   "outputs": [
    {
     "data": {
      "application/vdom.v1+json": {
       "attributes": {},
       "tagName": "div"
      },
      "text/html": [
       "\n",
       "                <script>\n",
       "                    if (Jupyter.version.split(\".\")[0] < 5) {\n",
       "                        var pb = document.getElementById(\"3215e321-717d-4249-bda5-169320cde616\");\n",
       "                        var text = document.createTextNode(\n",
       "                            \"HMTL progress bar requires Jupyter Notebook >= \" +\n",
       "                            \"5.0 or Jupyter Lab. Alternatively, you can use \" +\n",
       "                            \"TerminalProgressBar().\");\n",
       "                        pb.parentNode.insertBefore(text, pb);\n",
       "                    }\n",
       "                </script>\n",
       "                <div id=\"3215e321-717d-4249-bda5-169320cde616\" style=\"\n",
       "                    width: 100%;\n",
       "                    border: 1px solid #cfcfcf;\n",
       "                    border-radius: 4px;\n",
       "                    text-align: center;\n",
       "                    position: relative;\">\n",
       "                  <div class=\"pb-text\" style=\"\n",
       "                      position: absolute;\n",
       "                      width: 100%;\">\n",
       "                    0%\n",
       "                  </div>\n",
       "                  <div class=\"pb-fill\" style=\"\n",
       "                      background-color: #bdd2e6;\n",
       "                      width: 0%;\">\n",
       "                    <style type=\"text/css\" scoped=\"scoped\">\n",
       "                        @keyframes pb-fill-anim {\n",
       "                            0% { background-position: 0 0; }\n",
       "                            100% { background-position: 100px 0; }\n",
       "                        }\n",
       "                    </style>\n",
       "                    &nbsp;\n",
       "                  </div>\n",
       "                </div>"
      ],
      "text/plain": [
       "HtmlProgressBar cannot be displayed. Please use the TerminalProgressBar. It can be enabled with `nengo.rc['progress']['progress_bar'] = 'nengo.utils.progress.TerminalProgressBar'`."
      ]
     },
     "metadata": {},
     "output_type": "display_data"
    },
    {
     "data": {
      "application/vdom.v1+json": {
       "attributes": {
        "id": "325e517c-5a90-4b65-bfb0-9bac6fcf41f5",
        "style": {
         "border": "1px solid #cfcfcf",
         "borderRadius": "4px",
         "boxSizing": "border-box",
         "position": "relative",
         "textAlign": "center",
         "width": "100%"
        }
       },
       "children": [
        {
         "attributes": {
          "class": "pb-text",
          "style": {
           "position": "absolute",
           "width": "100%"
          }
         },
         "children": [
          "Build finished in 0:00:01."
         ],
         "tagName": "div"
        },
        {
         "attributes": {
          "class": "pb-fill",
          "style": {
           "animation": "none",
           "backgroundColor": "#bdd2e6",
           "backgroundImage": "none",
           "backgroundSize": "100px 100%",
           "width": "100%"
          }
         },
         "children": [
          {
           "attributes": {
            "scoped": "scoped",
            "type": "text/css"
           },
           "children": [
            "\n                        @keyframes pb-fill-anim {\n                            0% { background-position: 0 0; }\n                            100% { background-position: 100px 0; }\n                        }}"
           ],
           "tagName": "style"
          },
          " "
         ],
         "tagName": "div"
        }
       ],
       "tagName": "div"
      },
      "text/html": [
       "<script>\n",
       "              (function () {\n",
       "                  var root = document.getElementById('3215e321-717d-4249-bda5-169320cde616');\n",
       "                  var text = root.getElementsByClassName('pb-text')[0];\n",
       "                  var fill = root.getElementsByClassName('pb-fill')[0];\n",
       "\n",
       "                  text.innerHTML = 'Build finished in 0:00:01.';\n",
       "                  \n",
       "            fill.style.width = '100%';\n",
       "            fill.style.animation = 'pb-fill-anim 2s linear infinite';\n",
       "            fill.style.backgroundSize = '100px 100%';\n",
       "            fill.style.backgroundImage = 'repeating-linear-gradient(' +\n",
       "                '90deg, #bdd2e6, #edf2f8 40%, #bdd2e6 80%, #bdd2e6)';\n",
       "        \n",
       "                  \n",
       "                fill.style.animation = 'none';\n",
       "                fill.style.backgroundImage = 'none';\n",
       "            \n",
       "              })();\n",
       "        </script>"
      ]
     },
     "metadata": {},
     "output_type": "display_data"
    },
    {
     "data": {
      "application/vdom.v1+json": {
       "attributes": {},
       "tagName": "div"
      },
      "text/html": [
       "\n",
       "                <script>\n",
       "                    if (Jupyter.version.split(\".\")[0] < 5) {\n",
       "                        var pb = document.getElementById(\"a28ae15f-97e7-4ee7-966e-cbfd9aed09cd\");\n",
       "                        var text = document.createTextNode(\n",
       "                            \"HMTL progress bar requires Jupyter Notebook >= \" +\n",
       "                            \"5.0 or Jupyter Lab. Alternatively, you can use \" +\n",
       "                            \"TerminalProgressBar().\");\n",
       "                        pb.parentNode.insertBefore(text, pb);\n",
       "                    }\n",
       "                </script>\n",
       "                <div id=\"a28ae15f-97e7-4ee7-966e-cbfd9aed09cd\" style=\"\n",
       "                    width: 100%;\n",
       "                    border: 1px solid #cfcfcf;\n",
       "                    border-radius: 4px;\n",
       "                    text-align: center;\n",
       "                    position: relative;\">\n",
       "                  <div class=\"pb-text\" style=\"\n",
       "                      position: absolute;\n",
       "                      width: 100%;\">\n",
       "                    0%\n",
       "                  </div>\n",
       "                  <div class=\"pb-fill\" style=\"\n",
       "                      background-color: #bdd2e6;\n",
       "                      width: 0%;\">\n",
       "                    <style type=\"text/css\" scoped=\"scoped\">\n",
       "                        @keyframes pb-fill-anim {\n",
       "                            0% { background-position: 0 0; }\n",
       "                            100% { background-position: 100px 0; }\n",
       "                        }\n",
       "                    </style>\n",
       "                    &nbsp;\n",
       "                  </div>\n",
       "                </div>"
      ],
      "text/plain": [
       "HtmlProgressBar cannot be displayed. Please use the TerminalProgressBar. It can be enabled with `nengo.rc['progress']['progress_bar'] = 'nengo.utils.progress.TerminalProgressBar'`."
      ]
     },
     "metadata": {},
     "output_type": "display_data"
    },
    {
     "data": {
      "application/vdom.v1+json": {
       "attributes": {
        "id": "8a9c1fcf-9006-4945-ba81-0910c13707ea",
        "style": {
         "border": "1px solid #cfcfcf",
         "borderRadius": "4px",
         "boxSizing": "border-box",
         "position": "relative",
         "textAlign": "center",
         "width": "100%"
        }
       },
       "children": [
        {
         "attributes": {
          "class": "pb-text",
          "style": {
           "position": "absolute",
           "width": "100%"
          }
         },
         "children": [
          "Simulation finished in 0:00:01."
         ],
         "tagName": "div"
        },
        {
         "attributes": {
          "class": "pb-fill",
          "style": {
           "animation": "none",
           "backgroundColor": "#bdd2e6",
           "backgroundImage": "none",
           "transition": "width 0.1s linear",
           "width": "100%"
          }
         },
         "children": [
          {
           "attributes": {
            "scoped": "scoped",
            "type": "text/css"
           },
           "children": [
            "\n                        @keyframes pb-fill-anim {\n                            0% { background-position: 0 0; }\n                            100% { background-position: 100px 0; }\n                        }}"
           ],
           "tagName": "style"
          },
          " "
         ],
         "tagName": "div"
        }
       ],
       "tagName": "div"
      },
      "text/html": [
       "<script>\n",
       "              (function () {\n",
       "                  var root = document.getElementById('a28ae15f-97e7-4ee7-966e-cbfd9aed09cd');\n",
       "                  var text = root.getElementsByClassName('pb-text')[0];\n",
       "                  var fill = root.getElementsByClassName('pb-fill')[0];\n",
       "\n",
       "                  text.innerHTML = 'Simulation finished in 0:00:01.';\n",
       "                  \n",
       "            if (100.0 > 0.) {\n",
       "                fill.style.transition = 'width 0.1s linear';\n",
       "            } else {\n",
       "                fill.style.transition = 'none';\n",
       "            }\n",
       "\n",
       "            fill.style.width = '100.0%';\n",
       "            fill.style.animation = 'none';\n",
       "            fill.style.backgroundImage = 'none'\n",
       "        \n",
       "                  \n",
       "                fill.style.animation = 'none';\n",
       "                fill.style.backgroundImage = 'none';\n",
       "            \n",
       "              })();\n",
       "        </script>"
      ]
     },
     "metadata": {},
     "output_type": "display_data"
    },
    {
     "data": {
      "text/plain": [
       "<matplotlib.legend.Legend at 0x2b8b3a24ff10>"
      ]
     },
     "execution_count": 16,
     "metadata": {},
     "output_type": "execute_result"
    },
    {
     "data": {
      "image/png": "[encoded data removed]",
      "text/plain": [
       "<Figure size 432x288 with 1 Axes>"
      ]
     },
     "metadata": {},
     "output_type": "display_data"
    }
   ],
   "source": [
    "with nengo.Simulator(net6) as sim:\n",
    "  sim.run(1)\n",
    "plt.subplots(facecolor=\"#00FFFF\")\n",
    "plt.plot(sim.data[otpt_probe], label=\"Probed Output\")\n",
    "plt.plot(np.repeat(x1, 1000), label=\"Input 1\")\n",
    "plt.plot(np.repeat(x2, 1000), label=\"Input 2\")\n",
    "plt.legend()"
   ]
  },
  {
   "cell_type": "code",
   "execution_count": 17,
   "id": "norwegian-invitation",
   "metadata": {
    "scrolled": true
   },
   "outputs": [
    {
     "name": "stdout",
     "output_type": "stream",
     "text": [
      "[[ 0.]\n",
      " [ 0.]\n",
      " [10.]\n",
      " [ 0.]\n",
      " [10.]\n",
      " [10.]\n",
      " [ 0.]\n",
      " [ 0.]\n",
      " [10.]\n",
      " [10.]\n",
      " [ 0.]\n",
      " [10.]\n",
      " [ 0.]\n",
      " [ 0.]\n",
      " [10.]\n",
      " [ 0.]\n",
      " [ 0.]\n",
      " [10.]\n",
      " [ 0.]\n",
      " [10.]\n",
      " [10.]\n",
      " [ 0.]\n",
      " [ 0.]\n",
      " [10.]\n",
      " [10.]\n",
      " [ 0.]\n",
      " [10.]\n",
      " [ 0.]\n",
      " [ 0.]\n",
      " [10.]\n",
      " [ 0.]\n",
      " [ 0.]\n",
      " [10.]\n",
      " [ 0.]\n",
      " [10.]\n",
      " [10.]\n",
      " [ 0.]\n",
      " [ 0.]\n",
      " [10.]\n",
      " [10.]\n",
      " [ 0.]\n",
      " [10.]\n",
      " [ 0.]\n",
      " [ 0.]\n",
      " [10.]\n",
      " [ 0.]\n",
      " [ 0.]\n",
      " [10.]\n",
      " [ 0.]\n",
      " [10.]\n",
      " [10.]\n",
      " [ 0.]\n",
      " [ 0.]\n",
      " [10.]\n",
      " [10.]\n",
      " [ 0.]\n",
      " [10.]\n",
      " [ 0.]\n",
      " [ 0.]\n",
      " [10.]]\n"
     ]
    }
   ],
   "source": [
    "print(sim.data[otpt_probe][:60])"
   ]
  },
  {
   "cell_type": "markdown",
   "id": "informational-level",
   "metadata": {},
   "source": [
    "# Max of 4 numbers with periodic values of a, b, c, d (unfiltered spikes)"
   ]
  },
  {
   "cell_type": "code",
   "execution_count": 13,
   "id": "short-director",
   "metadata": {},
   "outputs": [],
   "source": [
    "x1, scl = 10.0, 3\n",
    "max_rate, radius = 250, 10.0\n",
    "\n",
    "def get_x1(t):\n",
    "  if int(t*1000.0)%7==0:\n",
    "    return x1*scl\n",
    "  else:\n",
    "    return 0\n",
    "\n",
    "def get_x2(t):\n",
    "  if int(t*1000.0)%10==0:\n",
    "    return x1*scl\n",
    "  else:\n",
    "    return 0\n",
    "\n",
    "def get_x3(t):\n",
    "  if int(t*1000.0)%12==0:\n",
    "    return x1*scl\n",
    "  else:\n",
    "    return 0\n",
    "\n",
    "def get_x4(t):\n",
    "  if int(t*1000.0)%5==0:\n",
    "    return x1*scl\n",
    "  else:\n",
    "    return 0"
   ]
  },
  {
   "cell_type": "code",
   "execution_count": 14,
   "id": "foreign-executive",
   "metadata": {},
   "outputs": [],
   "source": [
    "with nengo.Network(seed=90) as net7:  \n",
    "  #######################################################################\n",
    "  # Create `input_node_1` to represent the number `x1`.\n",
    "  input_node_1 = nengo.Node(get_x1)\n",
    "  # Create `input_node_2` to represent the number `x2`.\n",
    "  input_node_2 = nengo.Node(get_x2)\n",
    "  # Create `input_node_3` to represent the number `x3`.\n",
    "  input_node_3 = nengo.Node(get_x3)\n",
    "  # Create `input_node_4` to represent the number `x4`.\n",
    "  input_node_4 = nengo.Node(get_x4)\n",
    "  \n",
    "  # Create an ensemble of 2 neurons, with given `max_rate` and `radius` to find max(x1, x2).\n",
    "  ens1 = nengo.Ensemble(\n",
    "      n_neurons=2,\n",
    "      dimensions=1,\n",
    "      encoders = [[1], [-1]],\n",
    "      intercepts = [0, 0],\n",
    "      max_rates = [max_rate, max_rate],\n",
    "      radius = radius,\n",
    "      neuron_type=nengo.SpikingRectifiedLinear()\n",
    "      #neuron_type=nengo.LIF()\n",
    "  )\n",
    "  \n",
    "  # Create another ensemble of 2 neurons with given `max_rate` and `radius` to find max(x3, x4).\n",
    "  ens2 = nengo.Ensemble(\n",
    "      n_neurons=2,\n",
    "      dimensions=1,\n",
    "      encoders=[[1], [-1]],\n",
    "      intercepts = [0, 0],\n",
    "      max_rates=[max_rate, max_rate],\n",
    "      radius=radius,\n",
    "      neuron_type=nengo.SpikingRectifiedLinear(),\n",
    "  )\n",
    "  \n",
    "  # Create another ensemble of 2 neurons with given `max_rate` and `radius` to find max(max(x1, x2), max(x3, x4)).\n",
    "  ens3 = nengo.Ensemble(\n",
    "      n_neurons=2,\n",
    "      dimensions=1,\n",
    "      encoders=[[1], [-1]],\n",
    "      intercepts=[0, 0],\n",
    "      max_rates=[max_rate, max_rate],\n",
    "      radius=radius,\n",
    "      neuron_type=nengo.SpikingRectifiedLinear(),\n",
    "  )\n",
    "  \n",
    "  # Create the output node which will represent max(x1, x2).\n",
    "  otpt_node_12 = nengo.Node(size_in=1)\n",
    "  # Create another output node which will represent max(x3, x4).\n",
    "  otpt_node_34 = nengo.Node(size_in=1)\n",
    "  # Create final output node which will represent max(max(x1, x2), max(x3, x4)).\n",
    "  otpt_node = nengo.Node(size_in=1)\n",
    "  \n",
    "  ########################   max(x1, x2)   ###############################\n",
    "  \n",
    "  # Calculate (x1 + x2) / 2.\n",
    "  # Connect the `input_node_1` to `otpt_node_12` with transform 1/2.\n",
    "  nengo.Connection(input_node_1, otpt_node_12, synapse=None, transform=1/2)\n",
    "  # Connect the `input_node_2` to `otpt_node_12` with transform 1/2.\n",
    "  nengo.Connection(input_node_2, otpt_node_12, synapse=None, transform=1/2)\n",
    "  \n",
    "  # Calculate (x1 - x2) / 2.\n",
    "  # Connect the `input_node_1` to the `ens1` with transform 1/2.\n",
    "  nengo.Connection(input_node_1, ens1, synapse=None, transform=1/2)\n",
    "  # Connect the `input_node_2` to the `ens1` with transform -1/2\n",
    "  nengo.Connection(input_node_2, ens1, synapse=None, transform=-1/2)\n",
    "  \n",
    "  # Connect the first neuron of the `ens1` to the `otpt_node_12` with connection weight = 1*radius/max_rate\n",
    "  nengo.Connection(ens1.neurons[0], otpt_node_12, transform=1*radius/max_rate)\n",
    "  # Connect the second neuron of the `ens1` to the `otpt_node_12` with connection weight = 1*radius/max_rate\n",
    "  nengo.Connection(ens1.neurons[1], otpt_node_12, transform=1*radius/max_rate)\n",
    "  #######################################################################\n",
    "  \n",
    "  \n",
    "  \n",
    "  \n",
    "  ########################   max(x3, x4)   ###############################\n",
    "  # Calculate (x3 + x4) / 2.\n",
    "  # Connect the `input_node_3` to `otpt_node_34` with transform 1/2.\n",
    "  nengo.Connection(input_node_3, otpt_node_34, synapse=None, transform=1/2)\n",
    "  # Connect the `input_node_4` to `otpt_node_34` with transform 1/2.\n",
    "  nengo.Connection(input_node_4, otpt_node_34, synapse=None, transform=1/2)\n",
    "  \n",
    "  # Calculate (x3 - x4) / 2.\n",
    "  # Connect the `input_node_3` to `ens2` with transform 1/2.\n",
    "  nengo.Connection(input_node_3, ens2, synapse=None, transform=1/2)\n",
    "  # Connect the `input_node_4` to `ens3` with transform -1/2.\n",
    "  nengo.Connection(input_node_4, ens2, synapse=None, transform=-1/2)\n",
    "  \n",
    "  # Connect the first neuron of `ens2` to the `otpt_node_34` with connection weight = 1*radius/max_rate.\n",
    "  nengo.Connection(ens2.neurons[0], otpt_node_34, transform=1*radius/max_rate)\n",
    "  # Connect the second neuron of `ens2` to the `otpt_node_34` with connection weight = 1*radius/max_rate.\n",
    "  nengo.Connection(ens2.neurons[1], otpt_node_34, transform=1*radius/max_rate)\n",
    "  #######################################################################\n",
    "  \n",
    "  \n",
    "  \n",
    "  \n",
    "  ###################  max(max(x1, x2), max(x3, x4))  ######################\n",
    "  \n",
    "  # Calculate (otpt_node_12 + otpt_node_34) / 2.\n",
    "  # Connect the `otpt_node_12` to `otpt_node` with transform 1/2\n",
    "  nengo.Connection(otpt_node_12, otpt_node, transform=1/2) #, synapse=None)\n",
    "  # Connect the `otpt_node_34` to `otpt_node` with transform 1/2\n",
    "  nengo.Connection(otpt_node_34, otpt_node, transform=1/2) #, synapse=None)\n",
    "  \n",
    "  # Calculate (otpt_node_12 - otpt_node_34) / 2.\n",
    "  # Connect the `otpt_node_12` to `ens3` with transform 1/2.\n",
    "  nengo.Connection(otpt_node_12, ens3, transform=1/2) #, synapse=None)\n",
    "  # Connect the `otpt_node_34` to `ens4` with transform -1/2.\n",
    "  nengo.Connection(otpt_node_34, ens3, transform=-1/2) #, synapse=None)\n",
    "  \n",
    "  # Connect the first neuron of `ens3` to the `otpt_node` with connection weight = 1*radius/max_rate.\n",
    "  nengo.Connection(ens3.neurons[0], otpt_node, transform=1*radius/max_rate)\n",
    "  # Connect the second neuron of `ens3` to the `otpt_node` with connection weight = 1*radius/max_rate.\n",
    "  nengo.Connection(ens3.neurons[1], otpt_node, transform=1*radius/max_rate)\n",
    "  \n",
    "  # Probe the `otpt_node`.\n",
    "  otpt_probe = nengo.Probe(otpt_node, synapse=0.005)\n",
    "  otpt_12_probe = nengo.Probe(otpt_node_12, synapse=0.005)\n",
    "  otpt_34_probe = nengo.Probe(otpt_node_34, synapse=0.005)"
   ]
  },
  {
   "cell_type": "code",
   "execution_count": 15,
   "id": "ethical-ivory",
   "metadata": {},
   "outputs": [
    {
     "data": {
      "application/vdom.v1+json": {
       "attributes": {},
       "tagName": "div"
      },
      "text/html": [
       "\n",
       "                <script>\n",
       "                    if (Jupyter.version.split(\".\")[0] < 5) {\n",
       "                        var pb = document.getElementById(\"b17f7f3f-d2ba-443f-9265-154fdc25fc2d\");\n",
       "                        var text = document.createTextNode(\n",
       "                            \"HMTL progress bar requires Jupyter Notebook >= \" +\n",
       "                            \"5.0 or Jupyter Lab. Alternatively, you can use \" +\n",
       "                            \"TerminalProgressBar().\");\n",
       "                        pb.parentNode.insertBefore(text, pb);\n",
       "                    }\n",
       "                </script>\n",
       "                <div id=\"b17f7f3f-d2ba-443f-9265-154fdc25fc2d\" style=\"\n",
       "                    width: 100%;\n",
       "                    border: 1px solid #cfcfcf;\n",
       "                    border-radius: 4px;\n",
       "                    text-align: center;\n",
       "                    position: relative;\">\n",
       "                  <div class=\"pb-text\" style=\"\n",
       "                      position: absolute;\n",
       "                      width: 100%;\">\n",
       "                    0%\n",
       "                  </div>\n",
       "                  <div class=\"pb-fill\" style=\"\n",
       "                      background-color: #bdd2e6;\n",
       "                      width: 0%;\">\n",
       "                    <style type=\"text/css\" scoped=\"scoped\">\n",
       "                        @keyframes pb-fill-anim {\n",
       "                            0% { background-position: 0 0; }\n",
       "                            100% { background-position: 100px 0; }\n",
       "                        }\n",
       "                    </style>\n",
       "                    &nbsp;\n",
       "                  </div>\n",
       "                </div>"
      ],
      "text/plain": [
       "HtmlProgressBar cannot be displayed. Please use the TerminalProgressBar. It can be enabled with `nengo.rc['progress']['progress_bar'] = 'nengo.utils.progress.TerminalProgressBar'`."
      ]
     },
     "metadata": {},
     "output_type": "display_data"
    },
    {
     "data": {
      "application/vdom.v1+json": {
       "attributes": {
        "id": "b1d715f5-e60b-4946-8b69-d34ca41ba8a9",
        "style": {
         "border": "1px solid #cfcfcf",
         "borderRadius": "4px",
         "boxSizing": "border-box",
         "position": "relative",
         "textAlign": "center",
         "width": "100%"
        }
       },
       "children": [
        {
         "attributes": {
          "class": "pb-text",
          "style": {
           "position": "absolute",
           "width": "100%"
          }
         },
         "children": [
          "Build finished in 0:00:01."
         ],
         "tagName": "div"
        },
        {
         "attributes": {
          "class": "pb-fill",
          "style": {
           "animation": "none",
           "backgroundColor": "#bdd2e6",
           "backgroundImage": "none",
           "backgroundSize": "100px 100%",
           "width": "100%"
          }
         },
         "children": [
          {
           "attributes": {
            "scoped": "scoped",
            "type": "text/css"
           },
           "children": [
            "\n                        @keyframes pb-fill-anim {\n                            0% { background-position: 0 0; }\n                            100% { background-position: 100px 0; }\n                        }}"
           ],
           "tagName": "style"
          },
          " "
         ],
         "tagName": "div"
        }
       ],
       "tagName": "div"
      },
      "text/html": [
       "<script>\n",
       "              (function () {\n",
       "                  var root = document.getElementById('b17f7f3f-d2ba-443f-9265-154fdc25fc2d');\n",
       "                  var text = root.getElementsByClassName('pb-text')[0];\n",
       "                  var fill = root.getElementsByClassName('pb-fill')[0];\n",
       "\n",
       "                  text.innerHTML = 'Build finished in 0:00:01.';\n",
       "                  \n",
       "            fill.style.width = '100%';\n",
       "            fill.style.animation = 'pb-fill-anim 2s linear infinite';\n",
       "            fill.style.backgroundSize = '100px 100%';\n",
       "            fill.style.backgroundImage = 'repeating-linear-gradient(' +\n",
       "                '90deg, #bdd2e6, #edf2f8 40%, #bdd2e6 80%, #bdd2e6)';\n",
       "        \n",
       "                  \n",
       "                fill.style.animation = 'none';\n",
       "                fill.style.backgroundImage = 'none';\n",
       "            \n",
       "              })();\n",
       "        </script>"
      ]
     },
     "metadata": {},
     "output_type": "display_data"
    },
    {
     "data": {
      "application/vdom.v1+json": {
       "attributes": {},
       "tagName": "div"
      },
      "text/html": [
       "\n",
       "                <script>\n",
       "                    if (Jupyter.version.split(\".\")[0] < 5) {\n",
       "                        var pb = document.getElementById(\"e7f67867-010a-4203-b073-a6114ed00fb4\");\n",
       "                        var text = document.createTextNode(\n",
       "                            \"HMTL progress bar requires Jupyter Notebook >= \" +\n",
       "                            \"5.0 or Jupyter Lab. Alternatively, you can use \" +\n",
       "                            \"TerminalProgressBar().\");\n",
       "                        pb.parentNode.insertBefore(text, pb);\n",
       "                    }\n",
       "                </script>\n",
       "                <div id=\"e7f67867-010a-4203-b073-a6114ed00fb4\" style=\"\n",
       "                    width: 100%;\n",
       "                    border: 1px solid #cfcfcf;\n",
       "                    border-radius: 4px;\n",
       "                    text-align: center;\n",
       "                    position: relative;\">\n",
       "                  <div class=\"pb-text\" style=\"\n",
       "                      position: absolute;\n",
       "                      width: 100%;\">\n",
       "                    0%\n",
       "                  </div>\n",
       "                  <div class=\"pb-fill\" style=\"\n",
       "                      background-color: #bdd2e6;\n",
       "                      width: 0%;\">\n",
       "                    <style type=\"text/css\" scoped=\"scoped\">\n",
       "                        @keyframes pb-fill-anim {\n",
       "                            0% { background-position: 0 0; }\n",
       "                            100% { background-position: 100px 0; }\n",
       "                        }\n",
       "                    </style>\n",
       "                    &nbsp;\n",
       "                  </div>\n",
       "                </div>"
      ],
      "text/plain": [
       "HtmlProgressBar cannot be displayed. Please use the TerminalProgressBar. It can be enabled with `nengo.rc['progress']['progress_bar'] = 'nengo.utils.progress.TerminalProgressBar'`."
      ]
     },
     "metadata": {},
     "output_type": "display_data"
    },
    {
     "data": {
      "application/vdom.v1+json": {
       "attributes": {
        "id": "6f64a4f7-3056-4208-b670-a84470350a74",
        "style": {
         "border": "1px solid #cfcfcf",
         "borderRadius": "4px",
         "boxSizing": "border-box",
         "position": "relative",
         "textAlign": "center",
         "width": "100%"
        }
       },
       "children": [
        {
         "attributes": {
          "class": "pb-text",
          "style": {
           "position": "absolute",
           "width": "100%"
          }
         },
         "children": [
          "Simulation finished in 0:00:01."
         ],
         "tagName": "div"
        },
        {
         "attributes": {
          "class": "pb-fill",
          "style": {
           "animation": "none",
           "backgroundColor": "#bdd2e6",
           "backgroundImage": "none",
           "transition": "width 0.1s linear",
           "width": "100%"
          }
         },
         "children": [
          {
           "attributes": {
            "scoped": "scoped",
            "type": "text/css"
           },
           "children": [
            "\n                        @keyframes pb-fill-anim {\n                            0% { background-position: 0 0; }\n                            100% { background-position: 100px 0; }\n                        }}"
           ],
           "tagName": "style"
          },
          " "
         ],
         "tagName": "div"
        }
       ],
       "tagName": "div"
      },
      "text/html": [
       "<script>\n",
       "              (function () {\n",
       "                  var root = document.getElementById('e7f67867-010a-4203-b073-a6114ed00fb4');\n",
       "                  var text = root.getElementsByClassName('pb-text')[0];\n",
       "                  var fill = root.getElementsByClassName('pb-fill')[0];\n",
       "\n",
       "                  text.innerHTML = 'Simulation finished in 0:00:01.';\n",
       "                  \n",
       "            if (100.0 > 0.) {\n",
       "                fill.style.transition = 'width 0.1s linear';\n",
       "            } else {\n",
       "                fill.style.transition = 'none';\n",
       "            }\n",
       "\n",
       "            fill.style.width = '100.0%';\n",
       "            fill.style.animation = 'none';\n",
       "            fill.style.backgroundImage = 'none'\n",
       "        \n",
       "                  \n",
       "                fill.style.animation = 'none';\n",
       "                fill.style.backgroundImage = 'none';\n",
       "            \n",
       "              })();\n",
       "        </script>"
      ]
     },
     "metadata": {},
     "output_type": "display_data"
    },
    {
     "data": {
      "text/plain": [
       "<matplotlib.legend.Legend at 0x2ab03424e6d0>"
      ]
     },
     "execution_count": 15,
     "metadata": {},
     "output_type": "execute_result"
    },
    {
     "data": {
      "image/png": "[encoded data removed]",
      "text/plain": [
       "<Figure size 432x288 with 1 Axes>"
      ]
     },
     "metadata": {},
     "output_type": "display_data"
    }
   ],
   "source": [
    "with nengo.Simulator(net7) as sim:\n",
    "  sim.run(1)\n",
    "plt.subplots(facecolor=\"#00FFFF\")\n",
    "plt.plot(sim.data[otpt_probe], label=\"Final Max Probed Output\")\n",
    "#plt.plot(sim.data[otpt_12_probe], label=\"First Max Probed Output\")\n",
    "#plt.plot(sim.data[otpt_34_probe], label=\"Second Max Probed Output\")\n",
    "plt.legend()"
   ]
  },
  {
   "cell_type": "code",
   "execution_count": 16,
   "id": "copyrighted-moses",
   "metadata": {},
   "outputs": [
    {
     "name": "stdout",
     "output_type": "stream",
     "text": [
      "[[ 0.        ]\n",
      " [ 0.        ]\n",
      " [ 0.        ]\n",
      " [ 0.        ]\n",
      " [ 0.        ]\n",
      " [ 0.        ]\n",
      " [ 0.24643905]\n",
      " [ 0.40353446]\n",
      " [ 0.74201815]\n",
      " [ 0.94452893]\n",
      " [ 1.04924012]\n",
      " [ 1.57783173]\n",
      " [ 1.88031203]\n",
      " [ 2.26772539]\n",
      " [ 2.45290218]\n",
      " [ 2.74287016]\n",
      " [ 3.2126787 ]\n",
      " [ 3.6386929 ]\n",
      " [ 3.98207958]\n",
      " [ 4.22664212]\n",
      " [ 4.37059936]\n",
      " [ 4.9137132 ]\n",
      " [ 5.56158306]\n",
      " [ 5.97590444]\n",
      " [ 6.19055138]\n",
      " [ 6.4865793 ]\n",
      " [ 6.80765152]\n",
      " [ 6.99145283]\n",
      " [ 7.04234667]\n",
      " [ 7.22038185]\n",
      " [ 7.32711587]\n",
      " [ 7.8347051 ]\n",
      " [ 8.06809919]\n",
      " [ 8.08272958]\n",
      " [ 7.92788929]\n",
      " [ 8.96058163]\n",
      " [ 9.91892415]\n",
      " [10.53723473]\n",
      " [10.7699424 ]\n",
      " [10.70671112]\n",
      " [10.42277317]\n",
      " [10.4731133 ]\n",
      " [10.47488136]\n",
      " [10.63388738]\n",
      " [10.60030222]\n",
      " [10.4007934 ]\n",
      " [10.31200321]\n",
      " [10.02848349]\n",
      " [ 9.60293258]\n",
      " [ 9.32555452]\n",
      " [ 9.14266045]\n",
      " [ 9.38325029]\n",
      " [ 9.37597938]\n",
      " [ 9.17746412]\n",
      " [ 8.83653249]\n",
      " [ 8.39435476]\n",
      " [ 8.13137274]\n",
      " [ 8.1048905 ]\n",
      " [ 7.9604552 ]\n",
      " [ 7.71638871]]\n"
     ]
    }
   ],
   "source": [
    "print(sim.data[otpt_probe][:60])"
   ]
  },
  {
   "cell_type": "markdown",
   "id": "historic-cardiff",
   "metadata": {},
   "source": [
    "# ####################################################################"
   ]
  },
  {
   "cell_type": "code",
   "execution_count": 18,
   "id": "forbidden-halifax",
   "metadata": {},
   "outputs": [],
   "source": [
    "k = np.random.rand(2, 3, 4)"
   ]
  },
  {
   "cell_type": "code",
   "execution_count": 19,
   "id": "accessory-hormone",
   "metadata": {},
   "outputs": [
    {
     "data": {
      "text/plain": [
       "(2, 3, 4)"
      ]
     },
     "execution_count": 19,
     "metadata": {},
     "output_type": "execute_result"
    }
   ],
   "source": [
    "k.shape"
   ]
  },
  {
   "cell_type": "code",
   "execution_count": 20,
   "id": "smaller-calendar",
   "metadata": {},
   "outputs": [
    {
     "data": {
      "text/plain": [
       "array([[[0.70543562, 0.20774795, 0.60822183, 0.39494634],\n",
       "        [0.64798712, 0.05927314, 0.58509559, 0.59871356],\n",
       "        [0.37002945, 0.60151783, 0.88022054, 0.98013679]],\n",
       "\n",
       "       [[0.86436176, 0.90896055, 0.16155986, 0.67898703],\n",
       "        [0.92104637, 0.81818123, 0.11942745, 0.42287202],\n",
       "        [0.76949038, 0.80276793, 0.11852096, 0.20342822]]])"
      ]
     },
     "execution_count": 20,
     "metadata": {},
     "output_type": "execute_result"
    }
   ],
   "source": [
    "k"
   ]
  },
  {
   "cell_type": "code",
   "execution_count": 21,
   "id": "small-personality",
   "metadata": {},
   "outputs": [
    {
     "name": "stdout",
     "output_type": "stream",
     "text": [
      "(2, 3, 4)\n",
      "(24,)\n"
     ]
    }
   ],
   "source": [
    "m = k.flatten()\n",
    "print(k.shape)\n",
    "print(m.shape)"
   ]
  },
  {
   "cell_type": "code",
   "execution_count": 22,
   "id": "instrumental-sauce",
   "metadata": {},
   "outputs": [
    {
     "data": {
      "text/plain": [
       "array([0.70543562, 0.20774795, 0.60822183, 0.39494634, 0.64798712,\n",
       "       0.05927314, 0.58509559, 0.59871356, 0.37002945, 0.60151783,\n",
       "       0.88022054, 0.98013679, 0.86436176, 0.90896055, 0.16155986,\n",
       "       0.67898703, 0.92104637, 0.81818123, 0.11942745, 0.42287202,\n",
       "       0.76949038, 0.80276793, 0.11852096, 0.20342822])"
      ]
     },
     "execution_count": 22,
     "metadata": {},
     "output_type": "execute_result"
    }
   ],
   "source": [
    "m"
   ]
  },
  {
   "cell_type": "code",
   "execution_count": 23,
   "id": "temporal-photography",
   "metadata": {},
   "outputs": [
    {
     "name": "stdout",
     "output_type": "stream",
     "text": [
      "[[[0.70543562 0.20774795 0.60822183 0.39494634]\n",
      "  [0.64798712 0.05927314 0.58509559 0.59871356]\n",
      "  [0.37002945 0.60151783 0.88022054 0.98013679]]\n",
      "\n",
      " [[0.86436176 0.90896055 0.16155986 0.67898703]\n",
      "  [0.92104637 0.81818123 0.11942745 0.42287202]\n",
      "  [0.76949038 0.80276793 0.11852096 0.20342822]]]\n",
      "[[[0.70543562 0.20774795 0.60822183 0.39494634]\n",
      "  [0.64798712 0.05927314 0.58509559 0.59871356]\n",
      "  [0.37002945 0.60151783 0.88022054 0.98013679]]\n",
      "\n",
      " [[0.86436176 0.90896055 0.16155986 0.67898703]\n",
      "  [0.92104637 0.81818123 0.11942745 0.42287202]\n",
      "  [0.76949038 0.80276793 0.11852096 0.20342822]]]\n"
     ]
    }
   ],
   "source": [
    "n = m.reshape(2, 3, 4)\n",
    "print(n)\n",
    "print(k)"
   ]
  },
  {
   "cell_type": "code",
   "execution_count": null,
   "id": "lonely-print",
   "metadata": {},
   "outputs": [],
   "source": []
  }
 ],
 "metadata": {
  "kernelspec": {
   "display_name": "Python 3",
   "language": "python",
   "name": "python3"
  },
  "language_info": {
   "codemirror_mode": {
    "name": "ipython",
    "version": 3
   },
   "file_extension": ".py",
   "mimetype": "text/x-python",
   "name": "python",
   "nbconvert_exporter": "python",
   "pygments_lexer": "ipython3",
   "version": "3.7.7"
  }
 },
 "nbformat": 4,
 "nbformat_minor": 5
}
