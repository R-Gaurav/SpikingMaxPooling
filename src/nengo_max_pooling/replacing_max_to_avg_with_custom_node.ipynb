{
 "cells": [
  {
   "cell_type": "code",
   "execution_count": 1,
   "id": "democratic-taxation",
   "metadata": {},
   "outputs": [],
   "source": [
    "import tensorflow as tf\n",
    "import numpy as np\n",
    "import nengo_dl\n",
    "import nengo\n",
    "import random\n",
    "import _init_paths\n",
    "import matplotlib.pyplot as plt\n",
    "\n",
    "#tf.reset_default_graph()\n",
    "tf.random.set_seed(0)\n",
    "random.seed(0)\n",
    "np.random.seed(0)"
   ]
  },
  {
   "cell_type": "code",
   "execution_count": 2,
   "id": "postal-slope",
   "metadata": {},
   "outputs": [],
   "source": [
    "(train_images, train_labels), (test_images, test_labels) = tf.keras.datasets.mnist.load_data()"
   ]
  },
  {
   "cell_type": "code",
   "execution_count": 3,
   "id": "logical-milan",
   "metadata": {},
   "outputs": [
    {
     "name": "stdout",
     "output_type": "stream",
     "text": [
      "(60000, 28, 28) (60000,) (10000, 28, 28) (10000,)\n"
     ]
    }
   ],
   "source": [
    "print(train_images.shape, train_labels.shape, test_images.shape, test_labels.shape)"
   ]
  },
  {
   "cell_type": "markdown",
   "id": "parallel-procedure",
   "metadata": {},
   "source": [
    "# TF Model definition"
   ]
  },
  {
   "cell_type": "code",
   "execution_count": 25,
   "id": "complicated-dispute",
   "metadata": {},
   "outputs": [],
   "source": [
    "# input\n",
    "inp = tf.keras.Input(shape=(28, 28, 1))\n",
    "\n",
    "# convolutional layers\n",
    "conv0 = tf.keras.layers.Conv2D(\n",
    "    filters=32,\n",
    "    kernel_size=3,\n",
    "    activation=tf.nn.relu,\n",
    ")(inp)\n",
    "\n",
    "# Default pool_size = (2,2), padding = \"valid\", data_format = \"channels_last\".\n",
    "max_pool0 = tf.keras.layers.MaxPool2D()(conv0) \n",
    "\n",
    "conv1 = tf.keras.layers.Conv2D(\n",
    "    filters=64,\n",
    "    kernel_size=3,\n",
    "    strides=2,\n",
    "    activation=tf.nn.relu,\n",
    ")(max_pool0)\n",
    "\n",
    "# max_pool1 = tf.keras.layers.MaxPool2D()(conv1) \n",
    "\n",
    "# conv2 = tf.keras.layers.Conv2D(\n",
    "#     filters=64,\n",
    "#     kernel_size=3,\n",
    "#     strides=2,\n",
    "#     activation=tf.nn.relu,\n",
    "# )(max_pool1)\n",
    "\n",
    "\n",
    "# fully connected layer\n",
    "flatten = tf.keras.layers.Flatten()(conv1)\n",
    "dense = tf.keras.layers.Dense(units=10, activation=\"softmax\")(flatten)\n",
    "\n",
    "model = tf.keras.Model(inputs=inp, outputs=dense)"
   ]
  },
  {
   "cell_type": "code",
   "execution_count": 26,
   "id": "technical-authentication",
   "metadata": {
    "scrolled": true
   },
   "outputs": [
    {
     "name": "stdout",
     "output_type": "stream",
     "text": [
      "Model: \"model_1\"\n",
      "_________________________________________________________________\n",
      "Layer (type)                 Output Shape              Param #   \n",
      "=================================================================\n",
      "input_2 (InputLayer)         [(None, 28, 28, 1)]       0         \n",
      "_________________________________________________________________\n",
      "conv2d_2 (Conv2D)            (None, 26, 26, 32)        320       \n",
      "_________________________________________________________________\n",
      "max_pooling2d_1 (MaxPooling2 (None, 13, 13, 32)        0         \n",
      "_________________________________________________________________\n",
      "conv2d_3 (Conv2D)            (None, 6, 6, 64)          18496     \n",
      "_________________________________________________________________\n",
      "flatten_1 (Flatten)          (None, 2304)              0         \n",
      "_________________________________________________________________\n",
      "dense_1 (Dense)              (None, 10)                23050     \n",
      "=================================================================\n",
      "Total params: 41,866\n",
      "Trainable params: 41,866\n",
      "Non-trainable params: 0\n",
      "_________________________________________________________________\n"
     ]
    }
   ],
   "source": [
    "model.summary()"
   ]
  },
  {
   "cell_type": "markdown",
   "id": "unexpected-governor",
   "metadata": {},
   "source": [
    "## TF Model Compilation and Evaluation"
   ]
  },
  {
   "cell_type": "code",
   "execution_count": 27,
   "id": "consecutive-colors",
   "metadata": {},
   "outputs": [
    {
     "name": "stdout",
     "output_type": "stream",
     "text": [
      "Epoch 1/4\n",
      "1875/1875 [==============================] - 3s 2ms/step - loss: 0.2801 - sparse_categorical_accuracy: 0.9434\n",
      "Epoch 2/4\n",
      "1875/1875 [==============================] - 3s 2ms/step - loss: 0.0725 - sparse_categorical_accuracy: 0.9784\n",
      "Epoch 3/4\n",
      "1875/1875 [==============================] - 3s 2ms/step - loss: 0.0585 - sparse_categorical_accuracy: 0.9822\n",
      "Epoch 4/4\n",
      "1875/1875 [==============================] - 3s 2ms/step - loss: 0.0505 - sparse_categorical_accuracy: 0.9840\n"
     ]
    },
    {
     "data": {
      "text/plain": [
       "<tensorflow.python.keras.callbacks.History at 0x2b836f961890>"
      ]
     },
     "execution_count": 27,
     "metadata": {},
     "output_type": "execute_result"
    }
   ],
   "source": [
    "model.compile(\n",
    "  optimizer=tf.optimizers.Adam(0.001),\n",
    "  loss=tf.losses.SparseCategoricalCrossentropy(),\n",
    "  metrics=[tf.metrics.sparse_categorical_accuracy])\n",
    "model.fit(train_images, train_labels, epochs=4)"
   ]
  },
  {
   "cell_type": "code",
   "execution_count": 28,
   "id": "english-arctic",
   "metadata": {
    "scrolled": false
   },
   "outputs": [
    {
     "name": "stdout",
     "output_type": "stream",
     "text": [
      "313/313 [==============================] - 0s 2ms/step - loss: 0.0639 - sparse_categorical_accuracy: 0.9815\n"
     ]
    },
    {
     "data": {
      "text/plain": [
       "[0.06394093483686447, 0.9815000295639038]"
      ]
     },
     "execution_count": 28,
     "metadata": {},
     "output_type": "execute_result"
    }
   ],
   "source": [
    "model.evaluate(test_images, test_labels)\n",
    "# [0.06594502180814743, 0.9804999828338623]"
   ]
  },
  {
   "cell_type": "markdown",
   "id": "twelve-mattress",
   "metadata": {},
   "source": [
    "# Check Nengo DL MaxPool"
   ]
  },
  {
   "cell_type": "code",
   "execution_count": 30,
   "id": "changing-mixture",
   "metadata": {},
   "outputs": [],
   "source": [
    "n_steps = 40\n",
    "np.random.seed(100)\n",
    "ndl_model_3 = nengo_dl.Converter(model, \n",
    "                               swap_activations={tf.nn.relu: nengo.SpikingRectifiedLinear()},\n",
    "                               scale_firing_rates=5,\n",
    "                               max_to_avg_pool=False,\n",
    "                               synapse=0.005)\n",
    "\n",
    "with ndl_model_3.net:\n",
    "  nengo_dl.configure_settings(stateful=False)"
   ]
  },
  {
   "cell_type": "code",
   "execution_count": 9,
   "id": "younger-international",
   "metadata": {},
   "outputs": [],
   "source": [
    "ndl_test_images = np.tile(\n",
    "  test_images.reshape((test_images.shape[0], 1, -1)), (1, n_steps, 1))\n",
    "ndl_input_3 = ndl_model_3.inputs[inp]\n",
    "ndl_output_3 = ndl_model_3.outputs[dense]"
   ]
  },
  {
   "cell_type": "code",
   "execution_count": 10,
   "id": "representative-block",
   "metadata": {},
   "outputs": [
    {
     "name": "stdout",
     "output_type": "stream",
     "text": [
      "Build finished in 0:00:00                                                      \n",
      "Optimization finished in 0:00:00                                               \n",
      "Construction finished in 0:00:00                                               \n",
      "Constructing graph: build stage finished in 0:00:00                            \r"
     ]
    }
   ],
   "source": [
    "with nengo_dl.Simulator(\n",
    "  ndl_model_3.net, minibatch_size=100) as sim:\n",
    "  data3 = sim.predict({ndl_input_3: ndl_test_images[:200]})"
   ]
  },
  {
   "cell_type": "code",
   "execution_count": 11,
   "id": "identical-dance",
   "metadata": {},
   "outputs": [
    {
     "name": "stdout",
     "output_type": "stream",
     "text": [
      "0.735\n"
     ]
    }
   ],
   "source": [
    "acc = 0\n",
    "for pred, true in zip(data3[ndl_output_3][:, -1, :], test_labels):\n",
    "  if np.argmax(pred) == true:\n",
    "    acc += 1\n",
    "print(acc/200)"
   ]
  },
  {
   "cell_type": "markdown",
   "id": "caring-plenty",
   "metadata": {},
   "source": [
    "# Conversion from TF to spiking Nengo DL model with custom max to avg Node"
   ]
  },
  {
   "cell_type": "code",
   "execution_count": 12,
   "id": "textile-driving",
   "metadata": {
    "scrolled": false
   },
   "outputs": [
    {
     "name": "stderr",
     "output_type": "stream",
     "text": [
      "/home/rgaurav/miniconda3/envs/latest-nengo-tf/lib/python3.7/site-packages/nengo_dl/converter.py:326: UserWarning: Cannot convert max pooling layers to native Nengo objects; consider setting max_to_avg_pool=True to use average pooling instead. Falling back to TensorNode.\n",
      "  % (error_msg + \". \" if error_msg else \"\")\n"
     ]
    }
   ],
   "source": [
    "n_steps = 40\n",
    "np.random.seed(100)\n",
    "ndl_model_4 = nengo_dl.Converter(model, \n",
    "                               swap_activations={tf.nn.relu: nengo.SpikingRectifiedLinear()},\n",
    "                               scale_firing_rates=5,\n",
    "                               synapse=0.005)\n",
    "\n",
    "with ndl_model_4.net:\n",
    "  nengo_dl.configure_settings(stateful=False)"
   ]
  },
  {
   "cell_type": "markdown",
   "id": "developed-voluntary",
   "metadata": {},
   "source": [
    "## Check connections before replacing"
   ]
  },
  {
   "cell_type": "code",
   "execution_count": 13,
   "id": "convinced-jason",
   "metadata": {
    "scrolled": true
   },
   "outputs": [
    {
     "data": {
      "text/plain": [
       "([<Node \"input_1\" at 0x2b83bf4512d0>,\n",
       "  <Node \"conv2d.0.bias\" at 0x2b83bf326910>,\n",
       "  <Node \"conv2d.0.bias_relay\" at 0x2b83bf326cd0>,\n",
       "  <TensorNode \"max_pooling2d\" at 0x2b836f97df50>,\n",
       "  <Node \"conv2d_1.0.bias\" at 0x2b83bf2faf10>,\n",
       "  <Node \"conv2d_1.0.bias_relay\" at 0x2b83bf2fae50>,\n",
       "  <TensorNode \"dense.0\" at 0x2b83bf300bd0>,\n",
       "  <Node \"dense.0.bias\" at 0x2b83bf300410>],\n",
       " [<Ensemble \"conv2d.0\" at 0x2b83bf30dd50>,\n",
       "  <Ensemble \"conv2d_1.0\" at 0x2b83bf450910>],\n",
       " [<Connection at 0x2b83bf451310 from <Node \"conv2d.0.bias\"> to <Node \"conv2d.0.bias_relay\">>,\n",
       "  <Connection at 0x2b8357e14550 from <Node \"conv2d.0.bias_relay\"> to <Neurons of <Ensemble \"conv2d.0\">>>,\n",
       "  <Connection at 0x2b836f9b5fd0 from <Node \"input_1\"> to <Neurons of <Ensemble \"conv2d.0\">>>,\n",
       "  <Connection at 0x2b82d33a8e10 from <Neurons of <Ensemble \"conv2d.0\">> to <TensorNode \"max_pooling2d\">>,\n",
       "  <Connection at 0x2b83bf2fae90 from <Node \"conv2d_1.0.bias\"> to <Node \"conv2d_1.0.bias_relay\">>,\n",
       "  <Connection at 0x2b83bf2fad50 from <Node \"conv2d_1.0.bias_relay\"> to <Neurons of <Ensemble \"conv2d_1.0\">>>,\n",
       "  <Connection at 0x2b83bf300850 from <TensorNode \"max_pooling2d\"> to <Neurons of <Ensemble \"conv2d_1.0\">>>,\n",
       "  <Connection at 0x2b83bf300e10 from <Node \"dense.0.bias\"> to <TensorNode \"dense.0\">>,\n",
       "  <Connection at 0x2b83bf300e90 from <Neurons of <Ensemble \"conv2d_1.0\">> to <TensorNode \"dense.0\">>])"
      ]
     },
     "execution_count": 13,
     "metadata": {},
     "output_type": "execute_result"
    }
   ],
   "source": [
    "ndl_model_4.net.all_nodes, ndl_model_4.net.all_ensembles, ndl_model_4.net.all_connections"
   ]
  },
  {
   "cell_type": "code",
   "execution_count": 14,
   "id": "inclusive-gauge",
   "metadata": {},
   "outputs": [
    {
     "name": "stdout",
     "output_type": "stream",
     "text": [
      "<Neurons of <Ensemble \"conv2d.0\">> <Node \"max_pooling2d.0\">\n",
      "<Node \"max_pooling2d.0\"> <Neurons of <Ensemble \"conv2d_1.0\">>\n"
     ]
    }
   ],
   "source": [
    "conn_from_conv0_to_max_node0 = ndl_model_3.net.all_connections[3]\n",
    "print(conn_from_conv0_to_max_node0.pre_obj, conn_from_conv0_to_max_node0.post_obj)\n",
    "conn_from_max_node0_to_conv1 = ndl_model_3.net.all_connections[6]\n",
    "print(conn_from_max_node0_to_conv1.pre_obj, conn_from_max_node0_to_conv1.post_obj)"
   ]
  },
  {
   "cell_type": "code",
   "execution_count": 15,
   "id": "sufficient-revision",
   "metadata": {},
   "outputs": [],
   "source": [
    "# conn_from_conv1_to_max_node1 = ndl_model_3.net.all_connections[7]\n",
    "# print(conn_from_conv1_to_max_node1.pre_obj, conn_from_conv1_to_max_node1.post_obj)\n",
    "# conn_from_max_node1_to_conv2 = ndl_model_3.net.all_connections[10]\n",
    "# print(conn_from_max_node1_to_conv2.pre_obj, conn_from_max_node1_to_conv2.post_obj)"
   ]
  },
  {
   "cell_type": "markdown",
   "id": "figured-approval",
   "metadata": {},
   "source": [
    "## Replacing the Max Node with Custom Avg Node"
   ]
  },
  {
   "cell_type": "code",
   "execution_count": 16,
   "id": "processed-scale",
   "metadata": {},
   "outputs": [],
   "source": [
    "def compute_max_to_average_conv0(t, inp):\n",
    "  inp = inp.reshape(26, 26, 32)\n",
    "  ret = np.zeros((13, 13, 32))\n",
    "  \n",
    "  for chnl in range(inp.shape[2]): \n",
    "    for r in range(13):\n",
    "      for c in range(13):\n",
    "        ret[r, c, chnl] = np.mean(inp[r*2:r*2+2, c*2:c*2+2, chnl])\n",
    "  \n",
    "  return ret.flatten()\n",
    "        \n",
    "def compute_max_to_average_conv1(t, inp):\n",
    "  inp = inp.reshape(6, 6, 64)\n",
    "  ret = np.zeros((3, 3, 64))\n",
    "  \n",
    "  for chnl in range(inp.shape[2]):\n",
    "    for r in range(3):\n",
    "      for c in range(3):\n",
    "        ret[r, c, chnl] = np.mean(inp[r*2:r*2+2, c*2:c*2+2, chnl])\n",
    "        \n",
    "  return ret.flatten()"
   ]
  },
  {
   "cell_type": "code",
   "execution_count": 17,
   "id": "great-leeds",
   "metadata": {},
   "outputs": [],
   "source": [
    "with ndl_model_4.net:\n",
    "  new_node0 = nengo.Node(compute_max_to_average_conv0, size_in=21632, label=\"Custom Node 0\")  \n",
    "  #new_node1 = nengo.Node(compute_max_to_average_conv1, size_in=2304, label=\"Custom Node 1\")\n",
    "  \n",
    "  # Connection from Conv0 to custom new_node0\n",
    "  conn_from_conv0_to_max_node0 = ndl_model_4.net.all_connections[3]\n",
    "  nengo.Connection(\n",
    "    conn_from_conv0_to_max_node0.pre_obj,\n",
    "    new_node0,\n",
    "    transform=conn_from_conv0_to_max_node0.transform,\n",
    "    synapse=conn_from_conv0_to_max_node0.synapse,\n",
    "    #synapse=nengo.Lowpass(0.005),\n",
    "    function=conn_from_conv0_to_max_node0.function\n",
    "  )\n",
    "  \n",
    "  # Connection from new_node0 to Conv1\n",
    "  conn_from_max_node0_to_conv1 = ndl_model_4.net.all_connections[6]\n",
    "  nengo.Connection(\n",
    "    new_node0,\n",
    "    conn_from_max_node0_to_conv1.post_obj,\n",
    "    transform=conn_from_max_node0_to_conv1.transform,\n",
    "    #synapse=conn_from_max_node0_to_conv1.synapse,\n",
    "    synapse=nengo.Lowpass(0.005),\n",
    "    function=conn_from_max_node0_to_conv1.function\n",
    "  )\n",
    "  \n",
    "  #################################################\n",
    "  \n",
    "#   # Connection from Conv1 to custom new_node1\n",
    "#   conn_from_conv1_to_max_node1 = ndl_model_3.net.all_connections[7]\n",
    "#   nengo.Connection(\n",
    "#     conn_from_conv1_to_max_node1.pre_obj,\n",
    "#     new_node1,\n",
    "#     transform=conn_from_conv1_to_max_node1.transform,\n",
    "#     synapse=conn_from_conv1_to_max_node1.synapse,\n",
    "#     function=conn_from_conv1_to_max_node1.function\n",
    "#     )\n",
    "  \n",
    "#   # Connection from custom new_node1 to Conv2.\n",
    "#   conn_from_max_node1_to_conv2 = ndl_model_3.net.all_connections[10]\n",
    "#   nengo.Connection(\n",
    "#     new_node1,\n",
    "#     conn_from_max_node1_to_conv2.post_obj,\n",
    "#     transform=conn_from_max_node1_to_conv2.transform,\n",
    "#     synapse=conn_from_max_node1_to_conv2.synapse,\n",
    "#     function=conn_from_max_node1_to_conv2.function\n",
    "#   )\n",
    "  \n",
    "  # Delete old connections.\n",
    "  ndl_model_4.net._connections.remove(conn_from_conv0_to_max_node0)\n",
    "  ndl_model_4.net._connections.remove(conn_from_max_node0_to_conv1)\n",
    "  \n",
    "  #ndl_model_3.net._connections.remove(conn_from_conv1_to_max_node1)\n",
    "  #ndl_model_3.net._connections.remove(conn_from_max_node1_to_conv2)\n",
    "  \n",
    "  # Delete the two TensorNodes.\n",
    "  ndl_model_4.net._nodes.remove(conn_from_conv0_to_max_node0.post_obj)\n",
    "  #ndl_model_3.net._nodes.remove(conn_from_conv1_to_max_node1.post_obj)"
   ]
  },
  {
   "cell_type": "markdown",
   "id": "vital-habitat",
   "metadata": {},
   "source": [
    "# Check if connection was successful"
   ]
  },
  {
   "cell_type": "code",
   "execution_count": 18,
   "id": "ordinary-incidence",
   "metadata": {},
   "outputs": [
    {
     "data": {
      "text/plain": [
       "([<Connection at 0x2b83bf451310 from <Node \"conv2d.0.bias\"> to <Node \"conv2d.0.bias_relay\">>,\n",
       "  <Connection at 0x2b8357e14550 from <Node \"conv2d.0.bias_relay\"> to <Neurons of <Ensemble \"conv2d.0\">>>,\n",
       "  <Connection at 0x2b836f9b5fd0 from <Node \"input_1\"> to <Neurons of <Ensemble \"conv2d.0\">>>,\n",
       "  <Connection at 0x2b83bf2fae90 from <Node \"conv2d_1.0.bias\"> to <Node \"conv2d_1.0.bias_relay\">>,\n",
       "  <Connection at 0x2b83bf2fad50 from <Node \"conv2d_1.0.bias_relay\"> to <Neurons of <Ensemble \"conv2d_1.0\">>>,\n",
       "  <Connection at 0x2b83bf300e10 from <Node \"dense.0.bias\"> to <TensorNode \"dense.0\">>,\n",
       "  <Connection at 0x2b83bf300e90 from <Neurons of <Ensemble \"conv2d_1.0\">> to <TensorNode \"dense.0\">>,\n",
       "  <Connection at 0x2b83bf2faed0 from <Neurons of <Ensemble \"conv2d.0\">> to <Node \"Custom Node 0\">>,\n",
       "  <Connection at 0x2b83bf30d110 from <Node \"Custom Node 0\"> to <Neurons of <Ensemble \"conv2d_1.0\">>>],\n",
       " [<Node \"input_1\" at 0x2b83bf4512d0>,\n",
       "  <Node \"conv2d.0.bias\" at 0x2b83bf326910>,\n",
       "  <Node \"conv2d.0.bias_relay\" at 0x2b83bf326cd0>,\n",
       "  <Node \"conv2d_1.0.bias\" at 0x2b83bf2faf10>,\n",
       "  <Node \"conv2d_1.0.bias_relay\" at 0x2b83bf2fae50>,\n",
       "  <TensorNode \"dense.0\" at 0x2b83bf300bd0>,\n",
       "  <Node \"dense.0.bias\" at 0x2b83bf300410>,\n",
       "  <Node \"Custom Node 0\" at 0x2b83bf461110>])"
      ]
     },
     "execution_count": 18,
     "metadata": {},
     "output_type": "execute_result"
    }
   ],
   "source": [
    "ndl_model_4.net.all_connections, ndl_model_4.net._nodes"
   ]
  },
  {
   "cell_type": "code",
   "execution_count": 19,
   "id": "superior-characterization",
   "metadata": {},
   "outputs": [],
   "source": [
    "ndl_test_images = np.tile(\n",
    "  test_images.reshape((test_images.shape[0], 1, -1)), (1, n_steps, 1))\n",
    "ndl_input_4 = ndl_model_4.inputs[inp]\n",
    "ndl_output_4 = ndl_model_4.outputs[dense]"
   ]
  },
  {
   "cell_type": "code",
   "execution_count": 20,
   "id": "nervous-argument",
   "metadata": {},
   "outputs": [
    {
     "name": "stdout",
     "output_type": "stream",
     "text": [
      "Build finished in 0:00:00                                                      \n",
      "Optimization finished in 0:00:00                                               \n",
      "Construction finished in 0:00:00                                               \n",
      "Constructing graph: build stage finished in 0:00:00                            \r"
     ]
    }
   ],
   "source": [
    "with nengo_dl.Simulator(\n",
    "  ndl_model_4.net, minibatch_size=100) as sim:\n",
    "  data4 = sim.predict({ndl_input_4: ndl_test_images[:200]})"
   ]
  },
  {
   "cell_type": "code",
   "execution_count": 21,
   "id": "agreed-occasion",
   "metadata": {},
   "outputs": [
    {
     "name": "stdout",
     "output_type": "stream",
     "text": [
      "0.735\n"
     ]
    }
   ],
   "source": [
    "acc = 0\n",
    "for pred, true in zip(data4[ndl_output_4][:, -1, :], test_labels):\n",
    "  if np.argmax(pred) == true:\n",
    "    acc += 1\n",
    "print(acc/200)"
   ]
  },
  {
   "cell_type": "markdown",
   "id": "prostate-error",
   "metadata": {},
   "source": [
    "# ################################################################"
   ]
  },
  {
   "cell_type": "code",
   "execution_count": 32,
   "id": "logical-basketball",
   "metadata": {},
   "outputs": [
    {
     "data": {
      "text/plain": [
       "[<Ensemble \"conv2d_2.0\" at 0x2b835abcdc90>,\n",
       " <Ensemble \"conv2d_3.0\" at 0x2b835abddc10>]"
      ]
     },
     "execution_count": 32,
     "metadata": {},
     "output_type": "execute_result"
    }
   ],
   "source": [
    "ndl_model_3.net.all_ensembles"
   ]
  },
  {
   "cell_type": "code",
   "execution_count": 33,
   "id": "supported-timber",
   "metadata": {},
   "outputs": [
    {
     "data": {
      "text/plain": [
       "[<Ensemble \"conv2d_2.0\" at 0x2b835abcdc90>,\n",
       " <Ensemble \"conv2d_3.0\" at 0x2b835abddc10>]"
      ]
     },
     "execution_count": 33,
     "metadata": {},
     "output_type": "execute_result"
    }
   ],
   "source": [
    "ndl_model_3.net.ensembles"
   ]
  },
  {
   "cell_type": "code",
   "execution_count": 47,
   "id": "executive-aspect",
   "metadata": {},
   "outputs": [
    {
     "ename": "AttributeError",
     "evalue": "'Neurons' object has no attribute 'reshape'",
     "output_type": "error",
     "traceback": [
      "\u001b[0;31m---------------------------------------------------------------------------\u001b[0m",
      "\u001b[0;31mAttributeError\u001b[0m                            Traceback (most recent call last)",
      "\u001b[0;32m<ipython-input-47-667354be18cc>\u001b[0m in \u001b[0;36m<module>\u001b[0;34m\u001b[0m\n\u001b[0;32m----> 1\u001b[0;31m \u001b[0mndl_model_3\u001b[0m\u001b[0;34m.\u001b[0m\u001b[0mnet\u001b[0m\u001b[0;34m.\u001b[0m\u001b[0mensembles\u001b[0m\u001b[0;34m[\u001b[0m\u001b[0;36m0\u001b[0m\u001b[0;34m]\u001b[0m\u001b[0;34m.\u001b[0m\u001b[0mneurons\u001b[0m\u001b[0;34m.\u001b[0m\u001b[0mreshape\u001b[0m\u001b[0;34m(\u001b[0m\u001b[0;36m26\u001b[0m\u001b[0;34m,\u001b[0m \u001b[0;36m26\u001b[0m\u001b[0;34m,\u001b[0m \u001b[0;36m32\u001b[0m\u001b[0;34m)\u001b[0m\u001b[0;34m\u001b[0m\u001b[0;34m\u001b[0m\u001b[0m\n\u001b[0m",
      "\u001b[0;31mAttributeError\u001b[0m: 'Neurons' object has no attribute 'reshape'"
     ]
    }
   ],
   "source": [
    "ndl_model_3.net.ensembles[0].neurons.reshape(26, 26, 32)"
   ]
  },
  {
   "cell_type": "code",
   "execution_count": 50,
   "id": "liable-booking",
   "metadata": {},
   "outputs": [
    {
     "data": {
      "text/plain": [
       "['__class__',\n",
       " '__delattr__',\n",
       " '__dict__',\n",
       " '__dir__',\n",
       " '__doc__',\n",
       " '__eq__',\n",
       " '__format__',\n",
       " '__ge__',\n",
       " '__getattribute__',\n",
       " '__gt__',\n",
       " '__hash__',\n",
       " '__init__',\n",
       " '__init_subclass__',\n",
       " '__le__',\n",
       " '__len__',\n",
       " '__lt__',\n",
       " '__module__',\n",
       " '__ne__',\n",
       " '__new__',\n",
       " '__reduce__',\n",
       " '__reduce_ex__',\n",
       " '__repr__',\n",
       " '__setattr__',\n",
       " '__sizeof__',\n",
       " '__str__',\n",
       " '__subclasshook__',\n",
       " '__weakref__',\n",
       " '_slice_string',\n",
       " 'copy',\n",
       " 'obj',\n",
       " 'size_in',\n",
       " 'size_out',\n",
       " 'slice']"
      ]
     },
     "execution_count": 50,
     "metadata": {},
     "output_type": "execute_result"
    }
   ],
   "source": [
    "dir(ndl_model_3.net.ensembles[0].neurons[1])"
   ]
  },
  {
   "cell_type": "code",
   "execution_count": 60,
   "id": "working-metallic",
   "metadata": {},
   "outputs": [
    {
     "ename": "AttributeError",
     "evalue": "'ObjView' object has no attribute 'reshape'",
     "output_type": "error",
     "traceback": [
      "\u001b[0;31m---------------------------------------------------------------------------\u001b[0m",
      "\u001b[0;31mAttributeError\u001b[0m                            Traceback (most recent call last)",
      "\u001b[0;32m<ipython-input-60-a688c943e35a>\u001b[0m in \u001b[0;36m<module>\u001b[0;34m\u001b[0m\n\u001b[0;32m----> 1\u001b[0;31m \u001b[0mndl_model_3\u001b[0m\u001b[0;34m.\u001b[0m\u001b[0mnet\u001b[0m\u001b[0;34m.\u001b[0m\u001b[0mensembles\u001b[0m\u001b[0;34m[\u001b[0m\u001b[0;36m0\u001b[0m\u001b[0;34m]\u001b[0m\u001b[0;34m.\u001b[0m\u001b[0mneurons\u001b[0m\u001b[0;34m[\u001b[0m\u001b[0;36m2\u001b[0m\u001b[0;34m:\u001b[0m\u001b[0;36m100\u001b[0m\u001b[0;34m]\u001b[0m\u001b[0;34m.\u001b[0m\u001b[0mreshape\u001b[0m\u001b[0;34m(\u001b[0m\u001b[0;36m898\u001b[0m\u001b[0;34m)\u001b[0m\u001b[0;34m\u001b[0m\u001b[0;34m\u001b[0m\u001b[0m\n\u001b[0m",
      "\u001b[0;31mAttributeError\u001b[0m: 'ObjView' object has no attribute 'reshape'"
     ]
    }
   ],
   "source": [
    "ndl_model_3.net.ensembles[0].neurons[2:100]"
   ]
  },
  {
   "cell_type": "code",
   "execution_count": 2,
   "id": "listed-fifteen",
   "metadata": {},
   "outputs": [
    {
     "data": {
      "text/plain": [
       "array([[[0., 0., 0., 0.],\n",
       "        [0., 0., 0., 0.],\n",
       "        [0., 0., 0., 0.],\n",
       "        [0., 0., 0., 0.]],\n",
       "\n",
       "       [[0., 0., 0., 0.],\n",
       "        [0., 0., 0., 0.],\n",
       "        [0., 0., 0., 0.],\n",
       "        [0., 0., 0., 0.]],\n",
       "\n",
       "       [[0., 0., 0., 0.],\n",
       "        [0., 0., 0., 0.],\n",
       "        [0., 0., 0., 0.],\n",
       "        [0., 0., 0., 0.]]])"
      ]
     },
     "execution_count": 2,
     "metadata": {},
     "output_type": "execute_result"
    }
   ],
   "source": [
    "k = np.zeros((3, 4, 4))\n",
    "k"
   ]
  },
  {
   "cell_type": "code",
   "execution_count": 3,
   "id": "numerical-psychology",
   "metadata": {},
   "outputs": [],
   "source": [
    "for i in range(3):\n",
    "  for j in range(4):\n",
    "    for m in range(4):\n",
    "      k[i, j, m] = 16*i+4*j+m"
   ]
  },
  {
   "cell_type": "code",
   "execution_count": 4,
   "id": "plain-session",
   "metadata": {},
   "outputs": [
    {
     "name": "stdout",
     "output_type": "stream",
     "text": [
      "[[[ 0.  1.  2.  3.]\n",
      "  [ 4.  5.  6.  7.]\n",
      "  [ 8.  9. 10. 11.]\n",
      "  [12. 13. 14. 15.]]\n",
      "\n",
      " [[16. 17. 18. 19.]\n",
      "  [20. 21. 22. 23.]\n",
      "  [24. 25. 26. 27.]\n",
      "  [28. 29. 30. 31.]]\n",
      "\n",
      " [[32. 33. 34. 35.]\n",
      "  [36. 37. 38. 39.]\n",
      "  [40. 41. 42. 43.]\n",
      "  [44. 45. 46. 47.]]]\n"
     ]
    }
   ],
   "source": [
    "print(k)"
   ]
  },
  {
   "cell_type": "code",
   "execution_count": 5,
   "id": "outer-correction",
   "metadata": {},
   "outputs": [
    {
     "data": {
      "text/plain": [
       "array([ 0.,  1.,  2.,  3.,  4.,  5.,  6.,  7.,  8.,  9., 10., 11., 12.,\n",
       "       13., 14., 15., 16., 17., 18., 19., 20., 21., 22., 23., 24., 25.,\n",
       "       26., 27., 28., 29., 30., 31., 32., 33., 34., 35., 36., 37., 38.,\n",
       "       39., 40., 41., 42., 43., 44., 45., 46., 47.])"
      ]
     },
     "execution_count": 5,
     "metadata": {},
     "output_type": "execute_result"
    }
   ],
   "source": [
    "k.flatten()"
   ]
  },
  {
   "cell_type": "code",
   "execution_count": 12,
   "id": "imposed-message",
   "metadata": {},
   "outputs": [],
   "source": [
    "from utils.base_utils.exp_utils import get_grouped_slices_2d_pooling"
   ]
  },
  {
   "cell_type": "code",
   "execution_count": 7,
   "id": "environmental-amber",
   "metadata": {},
   "outputs": [],
   "source": [
    "slices = get_grouped_slices_2d_pooling(pool_size=(2, 2), rows=4, cols=4, num_chnls=3)"
   ]
  },
  {
   "cell_type": "code",
   "execution_count": 8,
   "id": "enclosed-windows",
   "metadata": {},
   "outputs": [
    {
     "data": {
      "text/plain": [
       "array([ 0,  1,  4,  5,  2,  3,  6,  7,  8,  9, 12, 13, 10, 11, 14, 15, 16,\n",
       "       17, 20, 21, 18, 19, 22, 23, 24, 25, 28, 29, 26, 27, 30, 31, 32, 33,\n",
       "       36, 37, 34, 35, 38, 39, 40, 41, 44, 45, 42, 43, 46, 47])"
      ]
     },
     "execution_count": 8,
     "metadata": {},
     "output_type": "execute_result"
    }
   ],
   "source": [
    "slices"
   ]
  },
  {
   "cell_type": "code",
   "execution_count": 9,
   "id": "homeless-monitoring",
   "metadata": {},
   "outputs": [],
   "source": [
    "matrix = np.arange(4 * 4 * 3).reshape((3, 4, 4))"
   ]
  },
  {
   "cell_type": "code",
   "execution_count": 10,
   "id": "surprising-religion",
   "metadata": {},
   "outputs": [
    {
     "data": {
      "text/plain": [
       "(3, 4, 4)"
      ]
     },
     "execution_count": 10,
     "metadata": {},
     "output_type": "execute_result"
    }
   ],
   "source": [
    "matrix.shape"
   ]
  },
  {
   "cell_type": "code",
   "execution_count": 11,
   "id": "shaped-province",
   "metadata": {
    "scrolled": true
   },
   "outputs": [
    {
     "data": {
      "text/plain": [
       "array([[ 0,  1,  2,  3],\n",
       "       [ 4,  5,  6,  7],\n",
       "       [ 8,  9, 10, 11],\n",
       "       [12, 13, 14, 15]])"
      ]
     },
     "execution_count": 11,
     "metadata": {},
     "output_type": "execute_result"
    }
   ],
   "source": [
    "matrix[0, :, :]"
   ]
  },
  {
   "cell_type": "markdown",
   "id": "attempted-vision",
   "metadata": {},
   "source": [
    "# ###########################"
   ]
  },
  {
   "cell_type": "code",
   "execution_count": 2,
   "id": "demographic-exhibit",
   "metadata": {},
   "outputs": [],
   "source": [
    "(train_images, train_labels), (test_images, test_labels) = tf.keras.datasets.cifar10.load_data()"
   ]
  },
  {
   "cell_type": "code",
   "execution_count": 3,
   "id": "rubber-casting",
   "metadata": {
    "scrolled": true
   },
   "outputs": [
    {
     "data": {
      "text/plain": [
       "<matplotlib.image.AxesImage at 0x2b66fc4f1ad0>"
      ]
     },
     "execution_count": 3,
     "metadata": {},
     "output_type": "execute_result"
    },
    {
     "data": {
      "image/png": "[encoded data removed]",
      "text/plain": [
       "<Figure size 432x288 with 1 Axes>"
      ]
     },
     "metadata": {
      "needs_background": "light"
     },
     "output_type": "display_data"
    }
   ],
   "source": [
    "import matplotlib.pyplot as plt\n",
    "plt.imshow(train_images[0])"
   ]
  },
  {
   "cell_type": "code",
   "execution_count": 4,
   "id": "remarkable-accuracy",
   "metadata": {
    "scrolled": true
   },
   "outputs": [
    {
     "data": {
      "text/plain": [
       "(50000, 32, 32, 3)"
      ]
     },
     "execution_count": 4,
     "metadata": {},
     "output_type": "execute_result"
    }
   ],
   "source": [
    "train_images.shape"
   ]
  },
  {
   "cell_type": "code",
   "execution_count": 5,
   "id": "secondary-swedish",
   "metadata": {},
   "outputs": [
    {
     "data": {
      "text/plain": [
       "(50000, 3, 32, 32)"
      ]
     },
     "execution_count": 5,
     "metadata": {},
     "output_type": "execute_result"
    }
   ],
   "source": [
    "train_images = np.moveaxis(train_images, 3, 1)\n",
    "train_images.shape"
   ]
  },
  {
   "cell_type": "code",
   "execution_count": 6,
   "id": "accredited-tucson",
   "metadata": {},
   "outputs": [
    {
     "data": {
      "text/plain": [
       "(3072,)"
      ]
     },
     "execution_count": 6,
     "metadata": {},
     "output_type": "execute_result"
    }
   ],
   "source": [
    "flat = train_images[0].flatten()\n",
    "flat.shape"
   ]
  },
  {
   "cell_type": "code",
   "execution_count": 9,
   "id": "indirect-exemption",
   "metadata": {
    "scrolled": true
   },
   "outputs": [
    {
     "name": "stdout",
     "output_type": "stream",
     "text": [
      "[ 59  43  50  68  98 119 139 145 149 149 131 125 142 144 137 129 137 134\n",
      " 124 139 139 133 136 139 152 163 168 159 158 158 152 148]\n",
      "[ 16   0  18  51  88 120 128 127 126 116 106 101 105 113 109 112 119 109\n",
      " 105 125 127 122 131 124 121 131 132 133 133 123 119 122]\n",
      "[ 25  16  49  83 110 129 130 121 113 112 112 106 105 128 124 130 127 122\n",
      " 115 120 130 131 139 127 126 127 130 142 130 118 120 109]\n",
      "[ 33  38  87 106 115 117 114 105 107 121 125 109 113 146 133 127 118 117\n",
      " 127 122 132 137 136 131 124 130 132 135 130 125 121  94]\n",
      "[ 50  59 102 127 124 121 120 114 107 125 129 106 108 124 121 108  98 110\n",
      " 117 120 134 140 131 141 135 127 121 119 103  87  75  67]\n",
      "[ 71  84 110 129 136 131 129 119 108 122 123 105 107 111 108  98  94  97\n",
      "  83  88 102  97  88 118 140 136 120 107  88  67  35  32]\n",
      "[ 97 111 123 130 136 132 122 121 127 138 124 120 107  80  68  74 101 105\n",
      "  65  58  63  78 136 122 139 151 129 108  95  96  89  66]\n",
      "[115 119 130 140 133 127 138 137 131 133 134 108  72  51  41  72 181 209\n",
      " 125  68  64  82 123 112 135 151 137 114 105 101 126 102]\n",
      "[137 128 132 128 119 123 128 130 121 137 131  74  54  50  44  86 203 217\n",
      " 162 100  77  75  74  76 107 135 135 129 127 119 125 134]\n",
      "[154 154 156 140 123 125 126 127 133 132  90  63  62  70  79 103 152 148\n",
      " 141 121 101  96  86  75 101 136 136 134 133 132 128 133]\n",
      "[154 155 156 147 133 137 139 134 141 121  80  97  90  98 137 139 148 134\n",
      " 138 134 140 175 142 102 108 135 131 133 138 136 130 134]\n",
      "[145 146 146 135 127 129 117 103 130 120 111 146 136 163 169 152 161 148\n",
      " 177 161 195 209 189 125 108 140 137 132 136 133 132 133]\n",
      "[142 141 140 144 147 121  84  88 109 101 138 213 178 191 211 189 205 207\n",
      " 213 191 199 188 161 130 124 131 130 131 134 135 136 133]\n",
      "[158 154 142 143 132  90  72  81  84 107 165 229 183 191 239 219 228 225\n",
      " 214 216 210 200 189 174 161 139 134 126 131 142 136 138]\n",
      "[145 149 147 147 136  80  89 105  96 129 192 185 145 203 223 242 244 238\n",
      " 241 227 225 235 219 224 215 156 128 129 131 133 128 130]\n",
      "[148 146 145 147 133  63  66  88 113 182 220 138 162 206 196 247 255 255\n",
      " 245 236 230 215 231 250 241 158 125 126 124 125 126 124]\n",
      "[149 143 144 151 132  64  84 112 163 223 206 145 196 204 220 243 245 239\n",
      " 234 231 195 150 208 250 227 163 145 143 140 136 121 114]\n",
      "[147 134 140 148 135 100 108 144 210 248 175 175 220 226 230 233 224 201\n",
      " 184 181 190 170 179 231 223 162 146 140 139 145 142 128]\n",
      "[152 117 114 123 126 122  93 179 238 248 170 185 241 230 187 180 166 146\n",
      " 149 157 184 216 212 236 236 166 136 134 130 127 137 151]\n",
      "[145 127 128 133 132 135 171 237 252 229 173 169 220 194 123 135 127 151\n",
      " 165 132 151 202 240 240 222 156 119 120 112 100  99 140]\n",
      "[143 127 129 129 130 140 219 244 210 193 166 153 191 179 128 147 149 172\n",
      " 147 128 141 173 202 190 198 152 100 109 119 121 108 136]\n",
      "[143 125 131 128 123 153 148 166 188 182 171 165 195 190 152 143 152 153\n",
      " 142 141 135 136 148 141 141 138 111 111 121 129 138 179]\n",
      "[141 131 139 139 138 151 128 136 175 173 189 205 201 168 151 145 146 149\n",
      " 153 149 144 144 145 143 129 123 124 113 108 113 148 199]\n",
      "[143 139 138 149 160 150 147 151 169 167 179 212 203 207 149 139 144 137\n",
      " 151 155 152 140 107  91  84 105 132 118  96 102 159 190]\n",
      "[149 133 136 147 150 153 157 162 175 190 166 202 224 197 192 180 146 126\n",
      " 141 156 153 115  77  79  93 126 133 119 113 140 187 154]\n",
      "[172 144 135 136 135 139 153 163 166 184 166 150 184 156 158 168 149 135\n",
      " 130 132 128 127 135 143 139 136 127 121 135 189 211 136]\n",
      "[202 187 151 128 122 134 142 150 153 148 135 127 153 166 143 130 128 151\n",
      " 152 135 139 155 161 154 154 143 130 132 171 215 186 117]\n",
      "[216 193 168 151 131 126 138 144 142 137 120 131 145 144 137 127 126 139\n",
      " 153 149 140 135 147 148 149 149 137 143 203 206 124  71]\n",
      "[220 201 186 172 156 142 142 153 150 139 126 136 148 141 131 126 127 138\n",
      " 150 154 149 124 126 141 145 147 127 114 186 173  56  33]\n",
      "[208 201 198 191 183 171 159 147 135 130 139 147 144 145 137 136 137 148\n",
      " 152 150 155 138 120 128 142 135  90  50 137 160  56  53]\n",
      "[180 173 186 194 198 201 189 173 156 139 142 145 141 141 139 140 143 139\n",
      " 138 143 146 135 117 112 122 104  58  34 131 184  97  83]\n",
      "[177 168 179 188 202 218 218 207 191 175 166 163 163 161 153 159 162 149\n",
      " 140 148 161 144 112 119 130 120  92 103 170 216 151 123]\n",
      "********************************************************************************\n",
      "[ 62  46  48  54  73  91 107 110 117 120 103  99 115 112 105  97 106 106\n",
      "  97 113 112 105 105 108 120 131 136 129 130 132 125 124]\n",
      "[20  0  8 27 51 82 89 86 87 79 70 67 70 74 70 72 79 71 69 89 92 85 89 82\n",
      " 79 89 91 94 96 88 83 87]\n",
      "[ 24   7  27  50  72  92  93  82  77  78  79  75  73  92  87  92  89  85\n",
      "  79  85  95  96 102  90  89  89  92 105  94  84  84  73]\n",
      "[ 25  20  54  63  70  74  72  62  68  84  90  75  77 105  91  84  76  76\n",
      "  87  81  92  99  99  93  86  91  90  93  90  87  85  62]\n",
      "[ 32  32  65  79  77  77  78  74  72  88  89  68  71  83  78  68  65  74\n",
      "  80  80  93 106  95  98  92  84  79  79  67  57  47  42]\n",
      "[48 53 73 82 88 84 84 77 70 82 81 65 72 77 74 65 62 63 56 58 68 69 54 74\n",
      " 96 97 80 68 54 39 10 13]\n",
      "[ 69  75  85  84  88  83  74  74  83  94  79  79  71  50  43  41  51  56\n",
      "  37  36  37  51  93  68  86 106  87  68  59  63  61  47]\n",
      "[ 82  76  90  97  88  81  90  89  86  89  91  70  39  26  22  31 102 127\n",
      "  76  40  38  53  77  56  81 103  95  76  69  66  92  74]\n",
      "[100  82  91  87  81  82  85  85  80  97  94  42  25  29  29  39 106 109\n",
      "  90  58  42  43  39  35  67  96  97  91  89  83  86  95]\n",
      "[120 112 114 100  89  86  86  91  97  97  60  35  33  39  50  53  70  64\n",
      "  79  75  58  54  48  38  63  91  92  93  93  93  86  92]\n",
      "[122 117 117 108 100 100 102 102 111  87  40  53  45  56  91  84  87  73\n",
      "  82  85  92 129  99  61  67  90  87  91  97  95  86  93]\n",
      "[114 109 109  97  92  94  84  74 103  83  60  86  78 116 115 100 116  97\n",
      " 121 110 150 167 146  78  63  96  95  93  95  90  87  92]\n",
      "[115 106 105 105 110  89  56  61  80  57  79 150 123 150 169 148 164 162\n",
      " 164 143 158 151 121  83  77  87  91  93  93  91  89  91]\n",
      "[131 119 107 102  92  59  44  52  47  55 106 176 137 158 216 192 188 188\n",
      " 177 174 171 169 162 137 118  95  96  90  92  98  89  97]\n",
      "[115 109 108 105  95  47  57  68  51  81 152 148 101 162 200 227 227 220\n",
      " 219 197 191 209 206 208 192 118  89  95  95  97  89  92]\n",
      "[116 100 100 100  96  42  43  50  65 146 191  94 105 156 166 234 253 252\n",
      " 234 217 208 196 217 241 229 132  95  97  92  91  88  88]\n",
      "[115  95  97  99  87  40  59  69 121 204 182  90 133 157 188 226 237 233\n",
      " 224 217 181 137 193 241 216 142 127 129 123 116  95  82]\n",
      "[111  88  99 103  89  64  73 104 181 243 147 119 176 197 207 218 212 186\n",
      " 163 158 171 157 167 218 206 133 116 115 116 123 119 102]\n",
      "[114  75  80  90  91  83  58 154 226 243 134 132 214 218 169 160 146 119\n",
      " 116 124 157 195 198 221 212 125  85  81  83  86 105 128]\n",
      "[105  82  90  92  89  95 145 227 247 213 136 121 182 169  89  98  91 114\n",
      " 127  99 126 183 228 225 196 117  76  75  66  65  74 121]\n",
      "[104  80  86  85  86 102 196 232 199 173 129 104 146 145  86 102 106 131\n",
      " 108  94 113 150 183 171 175 124  72  81  88  92  82 119]\n",
      "[104  76  85  81  81 117 118 141 166 156 134 115 148 153 108  95 105 110\n",
      " 102 102 101 101 110 106 111 113 100 111 118 116 116 162]\n",
      "[102  80  89  87  90 111  91  97 136 136 151 160 157 131 108  97 101 106\n",
      " 110 108 104 105 104 102  96 103 126 135 133 122 136 184]\n",
      "[103  87  89  96 109 106 104 104 121 123 141 174 168 177 112  96 102  94\n",
      " 107 111 109 101  76  60  61  99 142 141 121 113 149 174]\n",
      "[107  80  88  99 104 109 112 117 131 145 124 168 197 175 165 144 106  82\n",
      "  97 112 109  74  43  50  73 117 134 116  99 121 165 132]\n",
      "[128  88  85  88  90  94 108 117 120 136 118 110 149 121 123 130 109  91\n",
      "  85  88  84  83  92 105 108 112 105  92 102 159 181 107]\n",
      "[157 129 100  79  76  88  98 106 106  99  87  82 109 121  99  88  87 108\n",
      " 106  90  95 110 113 107 112 105  93  90 131 183 155  86]\n",
      "[174 136 122 111  88  82  94 100  95  92  78  87  99 101  94  83  82  94\n",
      " 108 104  95  91 103 105 108 109 101 107 167 173  93  48]\n",
      "[182 150 148 139 120 103 100 108 105  98  88  92 102 101  89  82  81  88\n",
      " 100 104 101  78  85 101 107 112 101  87 155 144  29  19]\n",
      "[170 153 161 157 146 135 121 107  95  87  93  98  95  99  91  89  90 102\n",
      " 106 103 110  94  76  84 102 103  69  24 105 133  31  34]\n",
      "[139 123 144 153 158 164 153 137 118  99  97  97  92  93  91  91  95  99\n",
      "  98  96  93  84  80  72  81  67  31   5  94 148  62  53]\n",
      "[144 129 142 149 168 189 191 181 163 143 132 128 127 123 114 120 124 116\n",
      " 104 103 105  95  90  91  96  87  67  78 140 184 118  92]\n",
      "********************************************************************************\n",
      "[ 63  45  43  42  52  63  75  80  89  93  77  76  91  86  79  71  79  76\n",
      "  64  78  75  69  74  77  89 100 108 102 104 108 102 103]\n",
      "[20  0  0  8 21 43 45 44 50 44 37 35 36 35 33 37 44 33 27 46 46 39 47 41\n",
      " 37 48 53 58 60 55 50 57]\n",
      "[21  0  8 23 41 54 55 47 43 44 46 45 38 48 47 56 56 51 43 47 54 55 62 51\n",
      " 49 50 53 68 58 50 50 42]\n",
      "[17  4 25 28 33 35 37 33 33 45 53 40 38 58 47 45 40 41 52 43 51 58 57 52\n",
      " 44 50 49 51 50 50 48 35]\n",
      "[21 11 34 39 36 36 40 39 34 49 51 31 33 42 39 29 23 37 49 41 50 66 58 66\n",
      " 51 45 41 40 32 27 23 25]\n",
      "[29 24 37 38 45 42 43 37 33 44 39 25 31 31 34 27 21 32 38 36 42 46 36 72\n",
      " 79 64 45 34 24 15  0  4]\n",
      "[40 36 43 38 44 40 30 31 46 54 34 39 34 14 17 17 21 23 16 19 18 31 83 80\n",
      " 79 69 49 36 29 37 38 30]\n",
      "[49 33 47 53 48 40 47 46 48 46 46 39 19 10 14 17 69 81 47 23 17 30 62 55\n",
      " 60 61 54 39 34 33 59 46]\n",
      "[68 41 51 48 44 43 44 44 40 54 53 20 16 16 18 15 56 62 71 49 27 24 24 22\n",
      " 36 59 58 49 48 43 45 56]\n",
      "[89 77 82 65 53 50 48 52 60 68 30  9 16 20 30 26 33 37 61 57 41 33 24 21\n",
      " 32 53 53 50 52 52 45 55]\n",
      "[ 94  82  82  70  64  66  68  66  81  68  13  17  17  30  57  49  54  37\n",
      "  46  57  76 106  53  26  25  41  45  51  57  55  46  57]\n",
      "[ 89  73  69  55  57  65  55  42  70  55  14  22  23  77  69  52  73  57\n",
      "  82  71 113 123  94  40  25  52  59  56  57  51  46  56]\n",
      "[ 86  69  68  64  74  65  34  33  44  23  19  59  41  98 122  99 110 115\n",
      " 118  91  97  88  76  50  38  51  61  60  57  52  48  56]\n",
      "[ 98  82  74  65  59  36  22  24  19  25  50  92  57 103 176 149 128 120\n",
      " 112 112 110 109 114 100  76  57  66  59  56  60  48  61]\n",
      "[ 79  66  68  65  62  21  32  40  26  45 113 107  51 121 170 196 186 165\n",
      " 163 144 139 157 164 181 156  78  57  62  60  60  50  56]\n",
      "[ 79  54  55  51  54  21  31  34  37 110 169  71  63 112 135 212 232 219\n",
      " 197 180 170 160 197 229 195  78  49  58  52  49  46  54]\n",
      "[ 79  49  51  51  49  21  41  37  75 166 157  56  84 110 156 208 226 215\n",
      " 201 192 152 100 154 216 173  78  60  62  55  46  30  40]\n",
      "[ 76  47  61  66  60  38  43  66 140 212 115  73 129 164 179 196 195 166\n",
      " 138 128 136 105 105 181 161  71  43  34  33  38  35  41]\n",
      "[ 80  37  48  57  56  48  32 138 212 229 104  88 177 195 142 131 115  85\n",
      "  79  83 110 141 152 197 176  63  16  13  13  16  27  54]\n",
      "[ 72  41  51  53  49  51 110 205 235 194 100  73 138 135  55  60  48  63\n",
      "  74  50  79 142 203 210 169  64  12  16  14  15  19  54]\n",
      "[ 66  38  49  46  45  59 161 210 186 151  92  55  96 105  47  58  59  78\n",
      "  54  45  67 112 160 147 146  86  26  34  43  50  36  50]\n",
      "[ 64  32  48  43  39  76  85 118 147 132  99  69  99 110  66  49  56  58\n",
      "  51  54  55  60  74  65  68  71  37  31  35  39  45  83]\n",
      "[ 65  35  46  44  50  71  52  61 104 107 118 120 113  89  65  53  52  57\n",
      "  61  61  59  59  59  60  48  39  30  14   8  10  44 102]\n",
      "[ 72  44  42  52  72  64  58  57  81  87 105 138 132 141  74  55  56  47\n",
      "  61  65  63  55  38  34  23  25  34  20   4   9  63  99]\n",
      "[ 74  37  48  59  63  62  67  78  96 107  84 133 168 148 133 107  64  40\n",
      "  52  66  61  29  14  25  33  47  39  31  24  42  91  75]\n",
      "[ 76  18  35  48  45  49  68  83  82 100  88  75 110  86  87  92  71  51\n",
      "  43  43  37  36  52  66  62  52  39  39  44  87 114  58]\n",
      "[ 82  26  25  34  41  49  53  56  58  63  59  44  60  77  59  51  52  70\n",
      "  65  48  50  63  65  63  67  54  44  46  70 106  91  48]\n",
      "[ 87  16  19  35  34  35  49  53  53  51  34  41  52  57  54  48  51  60\n",
      "  69  63  53  46  57  59  62  63  54  57 102 105  49  26]\n",
      "[91 22 24 28 26 30 51 75 73 57 38 47 62 60 51 49 51 52 60 65 60 36 41 55\n",
      " 61 68 59 46 98 87  9  9]\n",
      "[96 34 26 27 34 32 42 52 49 46 57 62 55 57 51 52 54 58 60 61 64 46 33 39\n",
      " 58 62 40 11 60 70  7 20]\n",
      "[96 42 30 25 34 36 32 32 38 38 49 56 52 52 51 53 58 60 60 56 43 33 38 29\n",
      " 39 30 11  0 57 94 34 34]\n",
      "[116  94  87  67  68  76  72  70  79  82  86  92  94  92  84  90  93  91\n",
      "  83  77  69  55  59  58  65  59  46  57 104 140  84  72]\n",
      "********************************************************************************\n"
     ]
    }
   ],
   "source": [
    "for chnl in range(3):\n",
    "  for row in range(32):\n",
    "    print(train_images[0][chnl, row, :])\n",
    "  print(\"*\"*80)"
   ]
  },
  {
   "cell_type": "code",
   "execution_count": 11,
   "id": "celtic-income",
   "metadata": {},
   "outputs": [
    {
     "name": "stdout",
     "output_type": "stream",
     "text": [
      "[ 59  43  50  68  98 119 139 145 149 149 131 125 142 144 137 129 137 134\n",
      " 124 139 139 133 136 139 152 163 168 159 158 158 152 148  16   0  18  51\n",
      "  88 120 128 127 126 116 106 101 105 113 109 112 119 109 105 125 127 122\n",
      " 131 124 121 131 132 133 133 123 119 122  25  16  49  83 110 129 130 121\n",
      " 113 112 112 106 105 128 124 130 127 122 115 120 130 131 139 127 126 127\n",
      " 130 142 130 118 120 109  33  38  87 106 115 117 114 105 107 121 125 109\n",
      " 113 146 133 127 118 117 127 122 132 137 136 131 124 130 132 135 130 125\n",
      " 121  94  50  59 102 127 124 121 120 114 107 125 129 106 108 124 121 108\n",
      "  98 110 117 120 134 140 131 141 135 127 121 119 103  87  75  67  71  84\n",
      " 110 129 136 131 129 119 108 122 123 105 107 111 108  98  94  97  83  88\n",
      " 102  97  88 118 140 136 120 107  88  67  35  32  97 111 123 130 136 132\n",
      " 122 121]\n"
     ]
    }
   ],
   "source": [
    "print(flat[:200])"
   ]
  },
  {
   "cell_type": "code",
   "execution_count": 13,
   "id": "cosmetic-senegal",
   "metadata": {},
   "outputs": [],
   "source": [
    "slices = get_grouped_slices_2d_pooling(pool_size=(2, 2), rows=32, cols=32, num_chnls=3)"
   ]
  },
  {
   "cell_type": "code",
   "execution_count": 17,
   "id": "missing-looking",
   "metadata": {
    "scrolled": false
   },
   "outputs": [
    {
     "data": {
      "text/plain": [
       "array([ 59,  43,  16,   0,  50,  68,  18,  51,  98, 119,  88, 120, 139,\n",
       "       145, 128, 127, 149, 149, 126, 116, 131, 125, 106, 101, 142, 144,\n",
       "       105, 113, 137, 129, 109, 112, 137, 134, 119, 109, 124, 139, 105,\n",
       "       125, 139, 133, 127, 122, 136, 139, 131, 124, 152, 163, 121, 131,\n",
       "       168, 159, 132, 133, 158, 158, 133, 123, 152, 148, 119, 122,  25,\n",
       "        16,  33,  38,  49,  83,  87, 106, 110, 129, 115, 117, 130, 121,\n",
       "       114, 105, 113, 112, 107, 121, 112, 106, 125, 109, 105, 128, 113,\n",
       "       146, 124, 130, 133, 127, 127, 122, 118, 117, 115, 120, 127, 122,\n",
       "       130, 131, 132, 137, 139, 127, 136, 131, 126, 127, 124, 130, 130,\n",
       "       142, 132, 135, 130, 118, 130, 125, 120, 109, 121,  94,  50,  59,\n",
       "        71,  84, 102, 127, 110, 129, 124, 121, 136, 131, 120, 114, 129,\n",
       "       119, 107, 125, 108, 122, 129, 106, 123, 105, 108, 124, 107, 111,\n",
       "       121, 108, 108,  98,  98, 110,  94,  97, 117, 120,  83,  88, 134,\n",
       "       140, 102,  97, 131, 141,  88, 118, 135, 127, 140, 136, 121, 119,\n",
       "       120, 107, 103,  87,  88,  67,  75,  67,  35,  32,  97, 111, 115,\n",
       "       119, 123, 130, 130, 140], dtype=uint8)"
      ]
     },
     "execution_count": 17,
     "metadata": {},
     "output_type": "execute_result"
    }
   ],
   "source": [
    "flat[slices][:200]"
   ]
  },
  {
   "cell_type": "code",
   "execution_count": 19,
   "id": "sonic-policy",
   "metadata": {},
   "outputs": [],
   "source": [
    "with nengo.Network() as net:\n",
    "  net.input = nengo.Node(size_in=4)"
   ]
  },
  {
   "cell_type": "code",
   "execution_count": 20,
   "id": "hawaiian-cylinder",
   "metadata": {},
   "outputs": [
    {
     "data": {
      "text/plain": [
       "<Node (unlabeled) at 0x2b66fe3dcc50>[0:1]"
      ]
     },
     "execution_count": 20,
     "metadata": {},
     "output_type": "execute_result"
    }
   ],
   "source": [
    "net.input[0]"
   ]
  },
  {
   "cell_type": "code",
   "execution_count": 21,
   "id": "refined-hebrew",
   "metadata": {},
   "outputs": [
    {
     "data": {
      "text/plain": [
       "<Node (unlabeled) at 0x2b66fe3dcc50>[1:2]"
      ]
     },
     "execution_count": 21,
     "metadata": {},
     "output_type": "execute_result"
    }
   ],
   "source": [
    "net.input[1]"
   ]
  },
  {
   "cell_type": "code",
   "execution_count": 3,
   "id": "specified-swiss",
   "metadata": {},
   "outputs": [],
   "source": [
    "from utils.nengo_dl_utils import get_network_for_2x2_max_pooling"
   ]
  },
  {
   "cell_type": "code",
   "execution_count": 5,
   "id": "relative-renewal",
   "metadata": {},
   "outputs": [],
   "source": [
    "def get_x1(t):\n",
    "  if int(t*1000.0)%7==0:\n",
    "    return 10\n",
    "  else:\n",
    "    return 0\n",
    "\n",
    "def get_x2(t):\n",
    "  if int(t*1000.0)%10==0:\n",
    "    return 10\n",
    "  else:\n",
    "    return 0\n",
    "\n",
    "def get_x3(t):\n",
    "  if int(t*1000.0)%12==0:\n",
    "    return 10\n",
    "  else:\n",
    "    return 0\n",
    "\n",
    "def get_x4(t):\n",
    "  if int(t*1000.0)%5==0:\n",
    "    return 10\n",
    "  else:\n",
    "    return 0\n",
    "  \n",
    "def get_xall(t):\n",
    "  t = int(t*1000.0)\n",
    "  ret = [10 if t%7==0 else 0, 10 if t%10==0 else 0, 10 if t%12==0 else 0, 10 if t%5==0 else 0]\n",
    "  #print(ret)\n",
    "  return ret"
   ]
  },
  {
   "cell_type": "code",
   "execution_count": 6,
   "id": "warming-dating",
   "metadata": {},
   "outputs": [
    {
     "data": {
      "application/vdom.v1+json": {
       "attributes": {},
       "tagName": "div"
      },
      "text/html": [
       "\n",
       "                <script>\n",
       "                    if (Jupyter.version.split(\".\")[0] < 5) {\n",
       "                        var pb = document.getElementById(\"99efaa3c-2c98-4ef4-b7fd-04e21228fa6d\");\n",
       "                        var text = document.createTextNode(\n",
       "                            \"HMTL progress bar requires Jupyter Notebook >= \" +\n",
       "                            \"5.0 or Jupyter Lab. Alternatively, you can use \" +\n",
       "                            \"TerminalProgressBar().\");\n",
       "                        pb.parentNode.insertBefore(text, pb);\n",
       "                    }\n",
       "                </script>\n",
       "                <div id=\"99efaa3c-2c98-4ef4-b7fd-04e21228fa6d\" style=\"\n",
       "                    width: 100%;\n",
       "                    border: 1px solid #cfcfcf;\n",
       "                    border-radius: 4px;\n",
       "                    text-align: center;\n",
       "                    position: relative;\">\n",
       "                  <div class=\"pb-text\" style=\"\n",
       "                      position: absolute;\n",
       "                      width: 100%;\">\n",
       "                    0%\n",
       "                  </div>\n",
       "                  <div class=\"pb-fill\" style=\"\n",
       "                      background-color: #bdd2e6;\n",
       "                      width: 0%;\">\n",
       "                    <style type=\"text/css\" scoped=\"scoped\">\n",
       "                        @keyframes pb-fill-anim {\n",
       "                            0% { background-position: 0 0; }\n",
       "                            100% { background-position: 100px 0; }\n",
       "                        }\n",
       "                    </style>\n",
       "                    &nbsp;\n",
       "                  </div>\n",
       "                </div>"
      ],
      "text/plain": [
       "HtmlProgressBar cannot be displayed. Please use the TerminalProgressBar. It can be enabled with `nengo.rc['progress']['progress_bar'] = 'nengo.utils.progress.TerminalProgressBar'`."
      ]
     },
     "metadata": {},
     "output_type": "display_data"
    },
    {
     "data": {
      "application/vdom.v1+json": {
       "attributes": {
        "id": "93822a48-e6a7-45e5-bb9b-ce06f6a17129",
        "style": {
         "border": "1px solid #cfcfcf",
         "borderRadius": "4px",
         "boxSizing": "border-box",
         "position": "relative",
         "textAlign": "center",
         "width": "100%"
        }
       },
       "children": [
        {
         "attributes": {
          "class": "pb-text",
          "style": {
           "position": "absolute",
           "width": "100%"
          }
         },
         "children": [
          "Build finished in 0:00:01."
         ],
         "tagName": "div"
        },
        {
         "attributes": {
          "class": "pb-fill",
          "style": {
           "animation": "none",
           "backgroundColor": "#bdd2e6",
           "backgroundImage": "none",
           "backgroundSize": "100px 100%",
           "width": "100%"
          }
         },
         "children": [
          {
           "attributes": {
            "scoped": "scoped",
            "type": "text/css"
           },
           "children": [
            "\n                        @keyframes pb-fill-anim {\n                            0% { background-position: 0 0; }\n                            100% { background-position: 100px 0; }\n                        }}"
           ],
           "tagName": "style"
          },
          " "
         ],
         "tagName": "div"
        }
       ],
       "tagName": "div"
      },
      "text/html": [
       "<script>\n",
       "              (function () {\n",
       "                  var root = document.getElementById('99efaa3c-2c98-4ef4-b7fd-04e21228fa6d');\n",
       "                  var text = root.getElementsByClassName('pb-text')[0];\n",
       "                  var fill = root.getElementsByClassName('pb-fill')[0];\n",
       "\n",
       "                  text.innerHTML = 'Build finished in 0:00:01.';\n",
       "                  \n",
       "            fill.style.width = '100%';\n",
       "            fill.style.animation = 'pb-fill-anim 2s linear infinite';\n",
       "            fill.style.backgroundSize = '100px 100%';\n",
       "            fill.style.backgroundImage = 'repeating-linear-gradient(' +\n",
       "                '90deg, #bdd2e6, #edf2f8 40%, #bdd2e6 80%, #bdd2e6)';\n",
       "        \n",
       "                  \n",
       "                fill.style.animation = 'none';\n",
       "                fill.style.backgroundImage = 'none';\n",
       "            \n",
       "              })();\n",
       "        </script>"
      ]
     },
     "metadata": {},
     "output_type": "display_data"
    },
    {
     "data": {
      "application/vdom.v1+json": {
       "attributes": {},
       "tagName": "div"
      },
      "text/html": [
       "\n",
       "                <script>\n",
       "                    if (Jupyter.version.split(\".\")[0] < 5) {\n",
       "                        var pb = document.getElementById(\"678bea9f-d853-4b6b-afb3-1ef1df827edd\");\n",
       "                        var text = document.createTextNode(\n",
       "                            \"HMTL progress bar requires Jupyter Notebook >= \" +\n",
       "                            \"5.0 or Jupyter Lab. Alternatively, you can use \" +\n",
       "                            \"TerminalProgressBar().\");\n",
       "                        pb.parentNode.insertBefore(text, pb);\n",
       "                    }\n",
       "                </script>\n",
       "                <div id=\"678bea9f-d853-4b6b-afb3-1ef1df827edd\" style=\"\n",
       "                    width: 100%;\n",
       "                    border: 1px solid #cfcfcf;\n",
       "                    border-radius: 4px;\n",
       "                    text-align: center;\n",
       "                    position: relative;\">\n",
       "                  <div class=\"pb-text\" style=\"\n",
       "                      position: absolute;\n",
       "                      width: 100%;\">\n",
       "                    0%\n",
       "                  </div>\n",
       "                  <div class=\"pb-fill\" style=\"\n",
       "                      background-color: #bdd2e6;\n",
       "                      width: 0%;\">\n",
       "                    <style type=\"text/css\" scoped=\"scoped\">\n",
       "                        @keyframes pb-fill-anim {\n",
       "                            0% { background-position: 0 0; }\n",
       "                            100% { background-position: 100px 0; }\n",
       "                        }\n",
       "                    </style>\n",
       "                    &nbsp;\n",
       "                  </div>\n",
       "                </div>"
      ],
      "text/plain": [
       "HtmlProgressBar cannot be displayed. Please use the TerminalProgressBar. It can be enabled with `nengo.rc['progress']['progress_bar'] = 'nengo.utils.progress.TerminalProgressBar'`."
      ]
     },
     "metadata": {},
     "output_type": "display_data"
    },
    {
     "data": {
      "application/vdom.v1+json": {
       "attributes": {
        "id": "b20c6cc9-6f7a-4407-99cf-8bf1b2ac8a72",
        "style": {
         "border": "1px solid #cfcfcf",
         "borderRadius": "4px",
         "boxSizing": "border-box",
         "position": "relative",
         "textAlign": "center",
         "width": "100%"
        }
       },
       "children": [
        {
         "attributes": {
          "class": "pb-text",
          "style": {
           "position": "absolute",
           "width": "100%"
          }
         },
         "children": [
          "Simulation finished in 0:00:01."
         ],
         "tagName": "div"
        },
        {
         "attributes": {
          "class": "pb-fill",
          "style": {
           "animation": "none",
           "backgroundColor": "#bdd2e6",
           "backgroundImage": "none",
           "transition": "width 0.1s linear",
           "width": "100%"
          }
         },
         "children": [
          {
           "attributes": {
            "scoped": "scoped",
            "type": "text/css"
           },
           "children": [
            "\n                        @keyframes pb-fill-anim {\n                            0% { background-position: 0 0; }\n                            100% { background-position: 100px 0; }\n                        }}"
           ],
           "tagName": "style"
          },
          " "
         ],
         "tagName": "div"
        }
       ],
       "tagName": "div"
      },
      "text/html": [
       "<script>\n",
       "              (function () {\n",
       "                  var root = document.getElementById('678bea9f-d853-4b6b-afb3-1ef1df827edd');\n",
       "                  var text = root.getElementsByClassName('pb-text')[0];\n",
       "                  var fill = root.getElementsByClassName('pb-fill')[0];\n",
       "\n",
       "                  text.innerHTML = 'Simulation finished in 0:00:01.';\n",
       "                  \n",
       "            if (100.0 > 0.) {\n",
       "                fill.style.transition = 'width 0.1s linear';\n",
       "            } else {\n",
       "                fill.style.transition = 'none';\n",
       "            }\n",
       "\n",
       "            fill.style.width = '100.0%';\n",
       "            fill.style.animation = 'none';\n",
       "            fill.style.backgroundImage = 'none'\n",
       "        \n",
       "                  \n",
       "                fill.style.animation = 'none';\n",
       "                fill.style.backgroundImage = 'none';\n",
       "            \n",
       "              })();\n",
       "        </script>"
      ]
     },
     "metadata": {},
     "output_type": "display_data"
    },
    {
     "data": {
      "text/plain": [
       "<matplotlib.legend.Legend at 0x2b88a7ceed10>"
      ]
     },
     "execution_count": 6,
     "metadata": {},
     "output_type": "execute_result"
    },
    {
     "data": {
      "image/png": "[encoded data removed]",
      "text/plain": [
       "<Figure size 1152x864 with 1 Axes>"
      ]
     },
     "metadata": {
      "needs_background": "light"
     },
     "output_type": "display_data"
    }
   ],
   "source": [
    "# See how the signals vary and stabilize after some time.\n",
    "with nengo.Network(seed=90) as net:\n",
    "  n1 = nengo.Node(get_x1)\n",
    "  n2 = nengo.Node(get_x2)\n",
    "  n3 = nengo.Node(get_x3)\n",
    "  n4 = nengo.Node(get_x4)\n",
    "  max_node = nengo.Node(lambda t, x: np.max(x), size_in=4)\n",
    "  \n",
    "  o1, o2, o3, o4 = nengo.Node(size_in=1), nengo.Node(size_in=1), nengo.Node(size_in=1), nengo.Node(size_in=1)\n",
    "  nengo.Connection(n1, o1)\n",
    "  nengo.Connection(n2, o2)\n",
    "  nengo.Connection(n3, o3)\n",
    "  nengo.Connection(n4, o4)\n",
    "  \n",
    "  nengo.Connection(o1, max_node[0], synapse=None)\n",
    "  nengo.Connection(o2, max_node[1], synapse=None)\n",
    "  nengo.Connection(o3, max_node[2], synapse=None)\n",
    "  nengo.Connection(o4, max_node[3], synapse=None)\n",
    "  \n",
    "  mp = nengo.Probe(max_node)\n",
    "  p1, p2, p3, p4 = nengo.Probe(o1), nengo.Probe(o2), nengo.Probe(o3), nengo.Probe(o4)\n",
    "  \n",
    "with nengo.Simulator(net) as sim:\n",
    "  sim.run(0.100)\n",
    "\n",
    "plt.figure(figsize=(16, 12))\n",
    "plt.plot(sim.data[p1], label=\"x1\", marker=\"o\")\n",
    "plt.plot(sim.data[p2], label=\"x2\", marker=\"o\")\n",
    "plt.plot(sim.data[p3], label=\"x3\", marker=\"o\")\n",
    "plt.plot(sim.data[p4], label=\"x4\", marker=\"o\")\n",
    "plt.plot(sim.data[mp], label=\"max\", color=\"black\")\n",
    "plt.legend()"
   ]
  },
  {
   "cell_type": "code",
   "execution_count": 33,
   "id": "fantastic-rental",
   "metadata": {},
   "outputs": [],
   "source": [
    "with nengo.Network(seed=90) as net:\n",
    "  max_net = get_network_for_2x2_max_pooling(radius=2, sf=1.2, do_max=True, synapse=0.001)\n",
    "  #inp_node = nengo.Node([x1, x2, x3, x4])\n",
    "  #inp_node = nengo.Node(get_xall)\n",
    "  n1 = nengo.Node(get_x1)\n",
    "  n2 = nengo.Node(get_x2)\n",
    "  n3 = nengo.Node(get_x3)\n",
    "  n4 = nengo.Node(get_x4)\n",
    "  \n",
    "  nengo.Connection(n1, max_net.input[0], synapse=0.005)\n",
    "  nengo.Connection(n2, max_net.input[1], synapse=0.005)\n",
    "  nengo.Connection(n3, max_net.input[2], synapse=0.005)\n",
    "  nengo.Connection(n4, max_net.input[3], synapse=0.005)\n",
    "  \n",
    "  #nengo.Connection(inp_node, max_net.input, synapse=0.005)\n",
    "  otp_probe = nengo.Probe(max_net.output, synapse=0.005)"
   ]
  },
  {
   "cell_type": "code",
   "execution_count": 34,
   "id": "precise-glasgow",
   "metadata": {
    "scrolled": false
   },
   "outputs": [
    {
     "data": {
      "application/vdom.v1+json": {
       "attributes": {},
       "tagName": "div"
      },
      "text/html": [
       "\n",
       "                <script>\n",
       "                    if (Jupyter.version.split(\".\")[0] < 5) {\n",
       "                        var pb = document.getElementById(\"3fd44c65-bede-475e-bdbd-4f1cac6f83fe\");\n",
       "                        var text = document.createTextNode(\n",
       "                            \"HMTL progress bar requires Jupyter Notebook >= \" +\n",
       "                            \"5.0 or Jupyter Lab. Alternatively, you can use \" +\n",
       "                            \"TerminalProgressBar().\");\n",
       "                        pb.parentNode.insertBefore(text, pb);\n",
       "                    }\n",
       "                </script>\n",
       "                <div id=\"3fd44c65-bede-475e-bdbd-4f1cac6f83fe\" style=\"\n",
       "                    width: 100%;\n",
       "                    border: 1px solid #cfcfcf;\n",
       "                    border-radius: 4px;\n",
       "                    text-align: center;\n",
       "                    position: relative;\">\n",
       "                  <div class=\"pb-text\" style=\"\n",
       "                      position: absolute;\n",
       "                      width: 100%;\">\n",
       "                    0%\n",
       "                  </div>\n",
       "                  <div class=\"pb-fill\" style=\"\n",
       "                      background-color: #bdd2e6;\n",
       "                      width: 0%;\">\n",
       "                    <style type=\"text/css\" scoped=\"scoped\">\n",
       "                        @keyframes pb-fill-anim {\n",
       "                            0% { background-position: 0 0; }\n",
       "                            100% { background-position: 100px 0; }\n",
       "                        }\n",
       "                    </style>\n",
       "                    &nbsp;\n",
       "                  </div>\n",
       "                </div>"
      ],
      "text/plain": [
       "HtmlProgressBar cannot be displayed. Please use the TerminalProgressBar. It can be enabled with `nengo.rc['progress']['progress_bar'] = 'nengo.utils.progress.TerminalProgressBar'`."
      ]
     },
     "metadata": {},
     "output_type": "display_data"
    },
    {
     "data": {
      "application/vdom.v1+json": {
       "attributes": {
        "id": "d457b4bf-edbf-419d-bf10-9c889f721685",
        "style": {
         "border": "1px solid #cfcfcf",
         "borderRadius": "4px",
         "boxSizing": "border-box",
         "position": "relative",
         "textAlign": "center",
         "width": "100%"
        }
       },
       "children": [
        {
         "attributes": {
          "class": "pb-text",
          "style": {
           "position": "absolute",
           "width": "100%"
          }
         },
         "children": [
          "Build finished in 0:00:01."
         ],
         "tagName": "div"
        },
        {
         "attributes": {
          "class": "pb-fill",
          "style": {
           "animation": "none",
           "backgroundColor": "#bdd2e6",
           "backgroundImage": "none",
           "backgroundSize": "100px 100%",
           "width": "100%"
          }
         },
         "children": [
          {
           "attributes": {
            "scoped": "scoped",
            "type": "text/css"
           },
           "children": [
            "\n                        @keyframes pb-fill-anim {\n                            0% { background-position: 0 0; }\n                            100% { background-position: 100px 0; }\n                        }}"
           ],
           "tagName": "style"
          },
          " "
         ],
         "tagName": "div"
        }
       ],
       "tagName": "div"
      },
      "text/html": [
       "<script>\n",
       "              (function () {\n",
       "                  var root = document.getElementById('3fd44c65-bede-475e-bdbd-4f1cac6f83fe');\n",
       "                  var text = root.getElementsByClassName('pb-text')[0];\n",
       "                  var fill = root.getElementsByClassName('pb-fill')[0];\n",
       "\n",
       "                  text.innerHTML = 'Build finished in 0:00:01.';\n",
       "                  \n",
       "            fill.style.width = '100%';\n",
       "            fill.style.animation = 'pb-fill-anim 2s linear infinite';\n",
       "            fill.style.backgroundSize = '100px 100%';\n",
       "            fill.style.backgroundImage = 'repeating-linear-gradient(' +\n",
       "                '90deg, #bdd2e6, #edf2f8 40%, #bdd2e6 80%, #bdd2e6)';\n",
       "        \n",
       "                  \n",
       "                fill.style.animation = 'none';\n",
       "                fill.style.backgroundImage = 'none';\n",
       "            \n",
       "              })();\n",
       "        </script>"
      ]
     },
     "metadata": {},
     "output_type": "display_data"
    },
    {
     "data": {
      "application/vdom.v1+json": {
       "attributes": {},
       "tagName": "div"
      },
      "text/html": [
       "\n",
       "                <script>\n",
       "                    if (Jupyter.version.split(\".\")[0] < 5) {\n",
       "                        var pb = document.getElementById(\"4ae61db1-4d53-4054-8868-31d9dd9e90cd\");\n",
       "                        var text = document.createTextNode(\n",
       "                            \"HMTL progress bar requires Jupyter Notebook >= \" +\n",
       "                            \"5.0 or Jupyter Lab. Alternatively, you can use \" +\n",
       "                            \"TerminalProgressBar().\");\n",
       "                        pb.parentNode.insertBefore(text, pb);\n",
       "                    }\n",
       "                </script>\n",
       "                <div id=\"4ae61db1-4d53-4054-8868-31d9dd9e90cd\" style=\"\n",
       "                    width: 100%;\n",
       "                    border: 1px solid #cfcfcf;\n",
       "                    border-radius: 4px;\n",
       "                    text-align: center;\n",
       "                    position: relative;\">\n",
       "                  <div class=\"pb-text\" style=\"\n",
       "                      position: absolute;\n",
       "                      width: 100%;\">\n",
       "                    0%\n",
       "                  </div>\n",
       "                  <div class=\"pb-fill\" style=\"\n",
       "                      background-color: #bdd2e6;\n",
       "                      width: 0%;\">\n",
       "                    <style type=\"text/css\" scoped=\"scoped\">\n",
       "                        @keyframes pb-fill-anim {\n",
       "                            0% { background-position: 0 0; }\n",
       "                            100% { background-position: 100px 0; }\n",
       "                        }\n",
       "                    </style>\n",
       "                    &nbsp;\n",
       "                  </div>\n",
       "                </div>"
      ],
      "text/plain": [
       "HtmlProgressBar cannot be displayed. Please use the TerminalProgressBar. It can be enabled with `nengo.rc['progress']['progress_bar'] = 'nengo.utils.progress.TerminalProgressBar'`."
      ]
     },
     "metadata": {},
     "output_type": "display_data"
    },
    {
     "data": {
      "application/vdom.v1+json": {
       "attributes": {
        "id": "7214f362-5c4e-4884-ae29-cd90fc0aad0c",
        "style": {
         "border": "1px solid #cfcfcf",
         "borderRadius": "4px",
         "boxSizing": "border-box",
         "position": "relative",
         "textAlign": "center",
         "width": "100%"
        }
       },
       "children": [
        {
         "attributes": {
          "class": "pb-text",
          "style": {
           "position": "absolute",
           "width": "100%"
          }
         },
         "children": [
          "Simulation finished in 0:00:01."
         ],
         "tagName": "div"
        },
        {
         "attributes": {
          "class": "pb-fill",
          "style": {
           "animation": "none",
           "backgroundColor": "#bdd2e6",
           "backgroundImage": "none",
           "transition": "width 0.1s linear",
           "width": "100%"
          }
         },
         "children": [
          {
           "attributes": {
            "scoped": "scoped",
            "type": "text/css"
           },
           "children": [
            "\n                        @keyframes pb-fill-anim {\n                            0% { background-position: 0 0; }\n                            100% { background-position: 100px 0; }\n                        }}"
           ],
           "tagName": "style"
          },
          " "
         ],
         "tagName": "div"
        }
       ],
       "tagName": "div"
      },
      "text/html": [
       "<script>\n",
       "              (function () {\n",
       "                  var root = document.getElementById('4ae61db1-4d53-4054-8868-31d9dd9e90cd');\n",
       "                  var text = root.getElementsByClassName('pb-text')[0];\n",
       "                  var fill = root.getElementsByClassName('pb-fill')[0];\n",
       "\n",
       "                  text.innerHTML = 'Simulation finished in 0:00:01.';\n",
       "                  \n",
       "            if (100.0 > 0.) {\n",
       "                fill.style.transition = 'width 0.1s linear';\n",
       "            } else {\n",
       "                fill.style.transition = 'none';\n",
       "            }\n",
       "\n",
       "            fill.style.width = '100.0%';\n",
       "            fill.style.animation = 'none';\n",
       "            fill.style.backgroundImage = 'none'\n",
       "        \n",
       "                  \n",
       "                fill.style.animation = 'none';\n",
       "                fill.style.backgroundImage = 'none';\n",
       "            \n",
       "              })();\n",
       "        </script>"
      ]
     },
     "metadata": {},
     "output_type": "display_data"
    }
   ],
   "source": [
    "with nengo.Simulator(net) as sim:\n",
    "  sim.run(0.100)"
   ]
  },
  {
   "cell_type": "code",
   "execution_count": 36,
   "id": "ready-press",
   "metadata": {},
   "outputs": [
    {
     "data": {
      "text/plain": [
       "[<matplotlib.lines.Line2D at 0x2ac1c52b3a10>]"
      ]
     },
     "execution_count": 36,
     "metadata": {},
     "output_type": "execute_result"
    },
    {
     "data": {
      "image/png": "[encoded data removed]",
      "text/plain": [
       "<Figure size 432x288 with 1 Axes>"
      ]
     },
     "metadata": {
      "needs_background": "light"
     },
     "output_type": "display_data"
    }
   ],
   "source": [
    "import matplotlib.pyplot as plt\n",
    "plt.plot(sim.data[otp_probe], marker=\"o\", color=\"black\")"
   ]
  },
  {
   "cell_type": "code",
   "execution_count": null,
   "id": "muslim-carbon",
   "metadata": {},
   "outputs": [],
   "source": []
  }
 ],
 "metadata": {
  "kernelspec": {
   "display_name": "Python 3",
   "language": "python",
   "name": "python3"
  },
  "language_info": {
   "codemirror_mode": {
    "name": "ipython",
    "version": 3
   },
   "file_extension": ".py",
   "mimetype": "text/x-python",
   "name": "python",
   "nbconvert_exporter": "python",
   "pygments_lexer": "ipython3",
   "version": "3.7.7"
  }
 },
 "nbformat": 4,
 "nbformat_minor": 5
}
