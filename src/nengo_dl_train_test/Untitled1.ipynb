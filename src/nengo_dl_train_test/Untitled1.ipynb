{
 "cells": [
  {
   "cell_type": "code",
   "execution_count": 1,
   "id": "played-basics",
   "metadata": {},
   "outputs": [],
   "source": [
    "import _init_paths\n",
    "import nengo_dl\n",
    "\n",
    "from utils.cnn_2d_utils import get_2d_cnn_model\n",
    "from utils.nengo_dl_utils import get_nengo_dl_model\n",
    "from configs.exp_configs import tf_exp_cfg as exp_cfg, nengo_dl_cfg as ngo_cfg\n",
    "from utils.consts.exp_consts import SEED"
   ]
  },
  {
   "cell_type": "code",
   "execution_count": null,
   "id": "spatial-exhibit",
   "metadata": {},
   "outputs": [],
   "source": [
    "model, model_layer_objs = get_2d_cnn_model((32, 32, 3), exp_cfg)\n",
    "model.summary(), model_layer_objs"
   ]
  },
  {
   "cell_type": "code",
   "execution_count": 3,
   "id": "frozen-coach",
   "metadata": {},
   "outputs": [
    {
     "name": "stderr",
     "output_type": "stream",
     "text": [
      "/home/rgaurav/miniconda3/envs/latest-nengo-tf/lib/python3.7/site-packages/nengo_dl/converter.py:588: UserWarning: Activation type <function softmax at 0x2b5e62ce2e60> does not have a native Nengo equivalent; falling back to a TensorNode\n",
      "  \"falling back to a TensorNode\" % activation\n"
     ]
    }
   ],
   "source": [
    "ndl_model, ndl_mdl_probes = get_nengo_dl_model((32, 32, 3), exp_cfg, ngo_cfg, mode=\"train\", load_weights=False)"
   ]
  },
  {
   "cell_type": "code",
   "execution_count": 4,
   "id": "nominated-button",
   "metadata": {},
   "outputs": [
    {
     "data": {
      "text/plain": [
       "[<Node \"input_2\" at 0x2b5ec3c68a90>,\n",
       " <Probe at 0x2b5ec3c88410 of 'output' of <Neurons of <Ensemble \"conv2d_5.0\">>>,\n",
       " <Probe at 0x2b5ec3c88490 of 'output' of <Neurons of <Ensemble \"conv2d_6.0\">>>,\n",
       " <Probe at 0x2b5ec3c88510 of 'output' of <Neurons of <Ensemble \"conv2d_7.0\">>>,\n",
       " <Probe at 0x2b5ec3c88590 of 'output' of <Neurons of <Ensemble \"conv2d_8.0\">>>,\n",
       " <Probe at 0x2b5ec3c88690 of 'output' of <Neurons of <Ensemble \"conv2d_9.0\">>>,\n",
       " <Probe at 0x2b5ec3c88710 of 'output' of <Neurons of <Ensemble \"dense_3.0\">>>,\n",
       " <Probe at 0x2b5ec3c88790 of 'output' of <Neurons of <Ensemble \"dense_4.0\">>>,\n",
       " <Probe at 0x2b5f003f2f50 of 'output' of <TensorNode \"dense_5.0\">>]"
      ]
     },
     "execution_count": 4,
     "metadata": {},
     "output_type": "execute_result"
    }
   ],
   "source": [
    "#ndl_mdl_probes"
   ]
  },
  {
   "cell_type": "code",
   "execution_count": 5,
   "id": "accomplished-commission",
   "metadata": {},
   "outputs": [
    {
     "data": {
      "text/plain": [
       "[<Node \"input_2\" at 0x2b5ec3c68a90>,\n",
       " <Node \"conv2d_5.0.bias\" at 0x2b5ec3c68b10>,\n",
       " <Node \"conv2d_5.0.bias_relay\" at 0x2b5ec3c68c50>,\n",
       " <Node \"conv2d_6.0.bias\" at 0x2b5f00002290>,\n",
       " <Node \"conv2d_6.0.bias_relay\" at 0x2b5f000022d0>,\n",
       " <Node \"conv2d_7.0.bias\" at 0x2b5f00002990>,\n",
       " <Node \"conv2d_7.0.bias_relay\" at 0x2b5f000029d0>,\n",
       " <Node \"conv2d_8.0.bias\" at 0x2b5f00002fd0>,\n",
       " <Node \"conv2d_8.0.bias_relay\" at 0x2b5ec3d2e050>,\n",
       " <Node \"conv2d_9.0.bias\" at 0x2b5ec3d2e690>,\n",
       " <Node \"conv2d_9.0.bias_relay\" at 0x2b5ec3d2e6d0>,\n",
       " <TensorNode \"dense_5.0\" at 0x2b5ec3d2efd0>,\n",
       " <Node \"dense_5.0.bias\" at 0x2b5f00008150>]"
      ]
     },
     "execution_count": 5,
     "metadata": {},
     "output_type": "execute_result"
    }
   ],
   "source": [
    "#ndl_model.net.all_nodes"
   ]
  },
  {
   "cell_type": "code",
   "execution_count": 2,
   "id": "fleet-affairs",
   "metadata": {},
   "outputs": [
    {
     "name": "stderr",
     "output_type": "stream",
     "text": [
      "/home/rgaurav/miniconda3/envs/latest-nengo-tf/lib/python3.7/site-packages/nengo_dl/converter.py:588: UserWarning: Activation type <function softmax at 0x2ae6748e2e60> does not have a native Nengo equivalent; falling back to a TensorNode\n",
      "  \"falling back to a TensorNode\" % activation\n"
     ]
    }
   ],
   "source": [
    "ndl_model, ndl_mdl_probes = get_nengo_dl_model((32, 32, 3), exp_cfg, ngo_cfg, mode=\"test\", load_weights=False)"
   ]
  },
  {
   "cell_type": "code",
   "execution_count": 3,
   "id": "domestic-wesley",
   "metadata": {},
   "outputs": [],
   "source": [
    "#ndl_mdl_probes"
   ]
  },
  {
   "cell_type": "code",
   "execution_count": 4,
   "id": "connected-taxation",
   "metadata": {},
   "outputs": [],
   "source": [
    "#ndl_model.net.all_nodes"
   ]
  },
  {
   "cell_type": "code",
   "execution_count": 3,
   "id": "dominican-island",
   "metadata": {},
   "outputs": [
    {
     "name": "stdout",
     "output_type": "stream",
     "text": [
      "Build finished in 0:00:01                                                      \n",
      "Optimization finished in 0:00:00                                               \n",
      "Construction finished in 0:00:01                                               \n"
     ]
    }
   ],
   "source": [
    "with ndl_model.net:\n",
    "    nengo_dl.configure_settings(stateful=False)\n",
    "    \n",
    "with nengo_dl.Simulator(\n",
    "        ndl_model.net, minibatch_size=ngo_cfg[\"test_batch_size\"], progress_bar=True, seed=SEED) as sim:\n",
    "    sim.load_params(\"./keras_to_snn_params_percentile_regularized\")"
   ]
  },
  {
   "cell_type": "code",
   "execution_count": null,
   "id": "acoustic-richardson",
   "metadata": {},
   "outputs": [],
   "source": []
  }
 ],
 "metadata": {
  "kernelspec": {
   "display_name": "Python 3",
   "language": "python",
   "name": "python3"
  },
  "language_info": {
   "codemirror_mode": {
    "name": "ipython",
    "version": 3
   },
   "file_extension": ".py",
   "mimetype": "text/x-python",
   "name": "python",
   "nbconvert_exporter": "python",
   "pygments_lexer": "ipython3",
   "version": "3.7.7"
  }
 },
 "nbformat": 4,
 "nbformat_minor": 5
}
