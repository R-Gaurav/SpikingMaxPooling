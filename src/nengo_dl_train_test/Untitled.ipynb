{
 "cells": [
  {
   "cell_type": "code",
   "execution_count": 1,
   "metadata": {
    "scrolled": true
   },
   "outputs": [],
   "source": [
    "import nengo\n",
    "import numpy as np\n",
    "import tensorflow as tf\n",
    "\n",
    "import nengo_dl\n",
    "\n",
    "seed = 0\n",
    "np.random.seed(seed)\n",
    "tf.random.set_seed(seed)\n",
    "\n",
    "def get_model(include_kr=False):\n",
    "    inp = tf.keras.Input(shape=(28, 28, 1))\n",
    "    \n",
    "    # convolutional layers\n",
    "    if include_kr:\n",
    "        conv0 = tf.keras.layers.Conv2D(\n",
    "            filters=32,\n",
    "            kernel_size=3,\n",
    "            activation=tf.nn.relu,\n",
    "            kernel_regularizer=tf.keras.regularizers.l2(1e-3),\n",
    "        )(inp)\n",
    "        \n",
    "        conv1 = tf.keras.layers.Conv2D(\n",
    "            filters=64,\n",
    "            kernel_size=3,\n",
    "            strides=2,\n",
    "            activation=tf.nn.relu,\n",
    "            kernel_regularizer=tf.keras.regularizers.l2(1e-3),\n",
    "        )(conv0)\n",
    "    else:\n",
    "        conv0 = tf.keras.layers.Conv2D(\n",
    "            filters=32,\n",
    "            kernel_size=3,\n",
    "            activation=tf.nn.relu,\n",
    "        )(inp)\n",
    "        \n",
    "        conv1 = tf.keras.layers.Conv2D(\n",
    "            filters=64,\n",
    "            kernel_size=3,\n",
    "            strides=2,\n",
    "            activation=tf.nn.relu,\n",
    "        )(conv0)\n",
    "    \n",
    "    flatten = tf.keras.layers.Flatten()(conv1)\n",
    "    \n",
    "    # fully connected layer.\n",
    "    if include_kr:\n",
    "      dense = tf.keras.layers.Dense(units=32, activation=\"relu\",\n",
    "                                    kernel_regularizer=tf.keras.regularizers.l2(1e-3))(flatten)\n",
    "      dense = tf.keras.layers.Dense(units=64, activation=\"relu\", \n",
    "                                    kernel_regularizer=tf.keras.regularizers.l2(1e-3))(dense)\n",
    "    else:\n",
    "      dense = tf.keras.layers.Dense(units=32, activation=\"relu\")(flatten)\n",
    "      dense = tf.keras.layers.Dense(units=64, activation=\"relu\")(dense)\n",
    "      \n",
    "    # output layer.\n",
    "    dense = tf.keras.layers.Dense(units=10, activation=\"softmax\")(dense)\n",
    "    \n",
    "    model = tf.keras.Model(inputs=inp, outputs=dense)\n",
    "    model.summary()\n",
    "    return model"
   ]
  },
  {
   "cell_type": "code",
   "execution_count": 2,
   "metadata": {
    "scrolled": false
   },
   "outputs": [
    {
     "name": "stdout",
     "output_type": "stream",
     "text": [
      "Model: \"model\"\n",
      "_________________________________________________________________\n",
      "Layer (type)                 Output Shape              Param #   \n",
      "=================================================================\n",
      "input_1 (InputLayer)         [(None, 28, 28, 1)]       0         \n",
      "_________________________________________________________________\n",
      "conv2d (Conv2D)              (None, 26, 26, 32)        320       \n",
      "_________________________________________________________________\n",
      "conv2d_1 (Conv2D)            (None, 12, 12, 64)        18496     \n",
      "_________________________________________________________________\n",
      "flatten (Flatten)            (None, 9216)              0         \n",
      "_________________________________________________________________\n",
      "dense (Dense)                (None, 32)                294944    \n",
      "_________________________________________________________________\n",
      "dense_1 (Dense)              (None, 64)                2112      \n",
      "_________________________________________________________________\n",
      "dense_2 (Dense)              (None, 10)                650       \n",
      "=================================================================\n",
      "Total params: 316,522\n",
      "Trainable params: 316,522\n",
      "Non-trainable params: 0\n",
      "_________________________________________________________________\n"
     ]
    },
    {
     "name": "stderr",
     "output_type": "stream",
     "text": [
      "/home/rgaurav/miniconda3/envs/latest-nengo-tf/lib/python3.7/site-packages/nengo_dl/converter.py:588: UserWarning: Activation type <function softmax at 0x2abeec96be60> does not have a native Nengo equivalent; falling back to a TensorNode\n",
      "  \"falling back to a TensorNode\" % activation\n"
     ]
    },
    {
     "data": {
      "text/plain": [
       "[<Node \"input_1\" at 0x2abef3fa8150>,\n",
       " <Node \"conv2d.0.bias\" at 0x2abef157c410>,\n",
       " <Node \"conv2d.0.bias_relay\" at 0x2abef3fc64d0>,\n",
       " <Node \"conv2d_1.0.bias\" at 0x2abef3fc6a50>,\n",
       " <Node \"conv2d_1.0.bias_relay\" at 0x2abef3fc6ad0>,\n",
       " <TensorNode \"dense_2.0\" at 0x2abef154d110>,\n",
       " <Node \"dense_2.0.bias\" at 0x2abefff284d0>]"
      ]
     },
     "execution_count": 2,
     "metadata": {},
     "output_type": "execute_result"
    }
   ],
   "source": [
    "model = get_model()\n",
    "converter = nengo_dl.Converter(model)\n",
    "converter.net.all_nodes"
   ]
  },
  {
   "cell_type": "code",
   "execution_count": 2,
   "metadata": {},
   "outputs": [
    {
     "name": "stdout",
     "output_type": "stream",
     "text": [
      "Model: \"model\"\n",
      "_________________________________________________________________\n",
      "Layer (type)                 Output Shape              Param #   \n",
      "=================================================================\n",
      "input_1 (InputLayer)         [(None, 28, 28, 1)]       0         \n",
      "_________________________________________________________________\n",
      "conv2d (Conv2D)              (None, 26, 26, 32)        320       \n",
      "_________________________________________________________________\n",
      "conv2d_1 (Conv2D)            (None, 12, 12, 64)        18496     \n",
      "_________________________________________________________________\n",
      "flatten (Flatten)            (None, 9216)              0         \n",
      "_________________________________________________________________\n",
      "dense (Dense)                (None, 32)                294944    \n",
      "_________________________________________________________________\n",
      "dense_1 (Dense)              (None, 64)                2112      \n",
      "_________________________________________________________________\n",
      "dense_2 (Dense)              (None, 10)                650       \n",
      "=================================================================\n",
      "Total params: 316,522\n",
      "Trainable params: 316,522\n",
      "Non-trainable params: 0\n",
      "_________________________________________________________________\n"
     ]
    },
    {
     "name": "stderr",
     "output_type": "stream",
     "text": [
      "/home/rgaurav/miniconda3/envs/latest-nengo-tf/lib/python3.7/site-packages/nengo_dl/converter.py:326: UserWarning: conv2d.kernel_regularizer has value <tensorflow.python.keras.regularizers.L1L2 object at 0x2b993ab53cd0> != None, which is not supported (unless inference_only=True). Falling back to TensorNode.\n",
      "  % (error_msg + \". \" if error_msg else \"\")\n",
      "/home/rgaurav/miniconda3/envs/latest-nengo-tf/lib/python3.7/site-packages/nengo_dl/converter.py:326: UserWarning: conv2d_1.kernel_regularizer has value <tensorflow.python.keras.regularizers.L1L2 object at 0x2b98b8bc5fd0> != None, which is not supported (unless inference_only=True). Falling back to TensorNode.\n",
      "  % (error_msg + \". \" if error_msg else \"\")\n",
      "/home/rgaurav/miniconda3/envs/latest-nengo-tf/lib/python3.7/site-packages/nengo_dl/converter.py:326: UserWarning: dense.kernel_regularizer has value <tensorflow.python.keras.regularizers.L1L2 object at 0x2b993ab862d0> != None, which is not supported (unless inference_only=True). Falling back to TensorNode.\n",
      "  % (error_msg + \". \" if error_msg else \"\")\n",
      "/home/rgaurav/miniconda3/envs/latest-nengo-tf/lib/python3.7/site-packages/nengo_dl/converter.py:326: UserWarning: dense_1.kernel_regularizer has value <tensorflow.python.keras.regularizers.L1L2 object at 0x2b993ab86890> != None, which is not supported (unless inference_only=True). Falling back to TensorNode.\n",
      "  % (error_msg + \". \" if error_msg else \"\")\n",
      "/home/rgaurav/miniconda3/envs/latest-nengo-tf/lib/python3.7/site-packages/nengo_dl/converter.py:588: UserWarning: Activation type <function softmax at 0x2b9935f8a0e0> does not have a native Nengo equivalent; falling back to a TensorNode\n",
      "  \"falling back to a TensorNode\" % activation\n"
     ]
    },
    {
     "data": {
      "text/plain": [
       "[<Node \"input_1\" at 0x2b993bee9910>,\n",
       " <TensorNode \"conv2d\" at 0x2b993bf29d10>,\n",
       " <TensorNode \"conv2d_1\" at 0x2b993bf4b2d0>,\n",
       " <TensorNode \"dense\" at 0x2b993bf4bcd0>,\n",
       " <TensorNode \"dense_1\" at 0x2b993bf4bd50>,\n",
       " <TensorNode \"dense_2.0\" at 0x2b993bf55390>,\n",
       " <Node \"dense_2.0.bias\" at 0x2b993bf559d0>]"
      ]
     },
     "execution_count": 2,
     "metadata": {},
     "output_type": "execute_result"
    }
   ],
   "source": [
    "model = get_model(include_kr=True)\n",
    "converter = nengo_dl.Converter(model)\n",
    "converter.net.all_nodes"
   ]
  },
  {
   "cell_type": "code",
   "execution_count": 4,
   "metadata": {},
   "outputs": [
    {
     "name": "stdout",
     "output_type": "stream",
     "text": [
      "Model: \"model_2\"\n",
      "_________________________________________________________________\n",
      "Layer (type)                 Output Shape              Param #   \n",
      "=================================================================\n",
      "input_3 (InputLayer)         [(None, 28, 28, 1)]       0         \n",
      "_________________________________________________________________\n",
      "conv2d_4 (Conv2D)            (None, 26, 26, 32)        320       \n",
      "_________________________________________________________________\n",
      "conv2d_5 (Conv2D)            (None, 12, 12, 64)        18496     \n",
      "_________________________________________________________________\n",
      "flatten_2 (Flatten)          (None, 9216)              0         \n",
      "_________________________________________________________________\n",
      "dense_6 (Dense)              (None, 32)                294944    \n",
      "_________________________________________________________________\n",
      "dense_7 (Dense)              (None, 64)                2112      \n",
      "_________________________________________________________________\n",
      "dense_8 (Dense)              (None, 10)                650       \n",
      "=================================================================\n",
      "Total params: 316,522\n",
      "Trainable params: 316,522\n",
      "Non-trainable params: 0\n",
      "_________________________________________________________________\n"
     ]
    },
    {
     "data": {
      "text/plain": [
       "[<Node \"input_3\" at 0x2abf650ef910>,\n",
       " <Node \"conv2d_4.0.bias\" at 0x2abf650e9dd0>,\n",
       " <Node \"conv2d_4.0.bias_relay\" at 0x2abf650e9fd0>,\n",
       " <Node \"conv2d_5.0.bias\" at 0x2abf650ef450>,\n",
       " <Node \"conv2d_5.0.bias_relay\" at 0x2abf650ef350>,\n",
       " <TensorNode \"dense_8.0\" at 0x2abf65100350>,\n",
       " <Node \"dense_8.0.bias\" at 0x2abf65100410>]"
      ]
     },
     "execution_count": 4,
     "metadata": {},
     "output_type": "execute_result"
    }
   ],
   "source": [
    "model = get_model(include_kr=True)\n",
    "converter = nengo_dl.Converter(model, inference_only=True)\n",
    "converter.net.all_nodes"
   ]
  }
 ],
 "metadata": {
  "kernelspec": {
   "display_name": "Python 3",
   "language": "python",
   "name": "python3"
  },
  "language_info": {
   "codemirror_mode": {
    "name": "ipython",
    "version": 3
   },
   "file_extension": ".py",
   "mimetype": "text/x-python",
   "name": "python",
   "nbconvert_exporter": "python",
   "pygments_lexer": "ipython3",
   "version": "3.7.7"
  }
 },
 "nbformat": 4,
 "nbformat_minor": 4
}
