{
 "cells": [
  {
   "cell_type": "code",
   "execution_count": 25,
   "id": "severe-impossible",
   "metadata": {},
   "outputs": [],
   "source": [
    "import _init_paths\n",
    "from utils.nengo_dl_utils import get_nengo_dl_model\n",
    "from utils.cnn_2d_utils import get_2d_cnn_model\n",
    "from configs.exp_configs import (nengo_dl_cfg as ndl_cfg, tf_exp_cfg as tf_cfg, asctv_max_cfg as am_cfg)\n",
    "from utils.base_utils.data_prep_utils import get_exp_dataset\n",
    "import numpy as np"
   ]
  },
  {
   "cell_type": "code",
   "execution_count": 2,
   "id": "considered-karen",
   "metadata": {},
   "outputs": [
    {
     "name": "stderr",
     "output_type": "stream",
     "text": [
      "/home/rgaurav/miniconda3/envs/latest-nengo-tf/lib/python3.7/site-packages/nengo_dl/converter.py:326: UserWarning: Cannot convert max pooling layers to native Nengo objects; consider setting max_to_avg_pool=True to use average pooling instead. Falling back to TensorNode.\n",
      "  % (error_msg + \". \" if error_msg else \"\")\n",
      "/home/rgaurav/miniconda3/envs/latest-nengo-tf/lib/python3.7/site-packages/nengo_dl/converter.py:588: UserWarning: Activation type <function softmax at 0x2b4ad7ca1b90> does not have a native Nengo equivalent; falling back to a TensorNode\n",
      "  \"falling back to a TensorNode\" % activation\n"
     ]
    }
   ],
   "source": [
    "ndl_model, ngo_probes_lst = get_nengo_dl_model(\n",
    "    (1, 28, 28), tf_cfg, ndl_cfg, mode=\"test\", num_clss=10, max_to_avg_pool=False)"
   ]
  },
  {
   "cell_type": "code",
   "execution_count": 3,
   "id": "chronic-welcome",
   "metadata": {},
   "outputs": [],
   "source": [
    "model, layer_objs_lst = get_2d_cnn_model((1, 28, 28), tf_cfg, 10)"
   ]
  },
  {
   "cell_type": "code",
   "execution_count": 4,
   "id": "unnecessary-parliament",
   "metadata": {
    "scrolled": true
   },
   "outputs": [
    {
     "data": {
      "text/plain": [
       "[<tf.Tensor 'input_2:0' shape=(None, 1, 28, 28) dtype=float32>,\n",
       " <tf.Tensor 'conv2d_3/Identity:0' shape=(None, 16, 26, 26) dtype=float32>,\n",
       " <tf.Tensor 'max_pooling2d_2/Identity:0' shape=(None, 16, 13, 13) dtype=float32>,\n",
       " <tf.Tensor 'conv2d_4/Identity:0' shape=(None, 24, 11, 11) dtype=float32>,\n",
       " <tf.Tensor 'max_pooling2d_3/Identity:0' shape=(None, 24, 5, 5) dtype=float32>,\n",
       " <tf.Tensor 'conv2d_5/Identity:0' shape=(None, 32, 3, 3) dtype=float32>,\n",
       " <tf.Tensor 'dense_2/Identity:0' shape=(None, 64) dtype=float32>,\n",
       " <tf.Tensor 'dense_3/Identity:0' shape=(None, 10) dtype=float32>]"
      ]
     },
     "execution_count": 4,
     "metadata": {},
     "output_type": "execute_result"
    }
   ],
   "source": [
    "layer_objs_lst"
   ]
  },
  {
   "cell_type": "code",
   "execution_count": 6,
   "id": "mighty-regular",
   "metadata": {
    "scrolled": true
   },
   "outputs": [
    {
     "data": {
      "text/plain": [
       "[<tensorflow.python.keras.engine.input_layer.InputLayer at 0x2b4ae4d827d0>,\n",
       " <tensorflow.python.keras.layers.convolutional.Conv2D at 0x2b4ae461cb90>,\n",
       " <tensorflow.python.keras.layers.pooling.MaxPooling2D at 0x2b4ae4d86250>,\n",
       " <tensorflow.python.keras.layers.convolutional.Conv2D at 0x2b4ae530d5d0>,\n",
       " <tensorflow.python.keras.layers.pooling.MaxPooling2D at 0x2b4ae50ce190>,\n",
       " <tensorflow.python.keras.layers.convolutional.Conv2D at 0x2b4ae6539450>,\n",
       " <tensorflow.python.keras.layers.core.Flatten at 0x2b4ae654c8d0>,\n",
       " <tensorflow.python.keras.layers.core.Dense at 0x2b4ae654cf50>,\n",
       " <tensorflow.python.keras.layers.core.Dense at 0x2b4ae461cd90>]"
      ]
     },
     "execution_count": 6,
     "metadata": {},
     "output_type": "execute_result"
    }
   ],
   "source": [
    "ndl_model.model.layers"
   ]
  },
  {
   "cell_type": "code",
   "execution_count": 18,
   "id": "leading-glory",
   "metadata": {},
   "outputs": [
    {
     "name": "stdout",
     "output_type": "stream",
     "text": [
      "max_pooling2d <class 'tensorflow.python.framework.tensor_shape.TensorShape'>\n",
      "conv2d_1 <class 'tensorflow.python.framework.tensor_shape.TensorShape'>\n",
      "max_pooling2d_1 <class 'tensorflow.python.framework.tensor_shape.TensorShape'>\n",
      "conv2d_2 <class 'tensorflow.python.framework.tensor_shape.TensorShape'>\n",
      "flatten <class 'tensorflow.python.framework.tensor_shape.TensorShape'>\n",
      "dense <class 'tensorflow.python.framework.tensor_shape.TensorShape'>\n"
     ]
    }
   ],
   "source": [
    "for layer in ndl_model.model.layers[2:-1]:\n",
    "  print(layer.name, type(layer.output.shape[1:]))"
   ]
  },
  {
   "cell_type": "code",
   "execution_count": 6,
   "id": "deluxe-psychiatry",
   "metadata": {},
   "outputs": [
    {
     "data": {
      "text/plain": [
       "<Ensemble \"conv2d.0\" at 0x2b705e880610>"
      ]
     },
     "execution_count": 6,
     "metadata": {},
     "output_type": "execute_result"
    }
   ],
   "source": [
    "ndl_model.layers[ndl_model.model.layers[1]].ensemble"
   ]
  },
  {
   "cell_type": "code",
   "execution_count": 19,
   "id": "dependent-future",
   "metadata": {},
   "outputs": [],
   "source": [
    "ndl_model, ngo_probes_lst = get_nengo_dl_model(\n",
    "    (1, 28, 28), tf_cfg, ndl_cfg, mode=\"test\", num_clss=10, max_to_avg_pool=False)"
   ]
  },
  {
   "cell_type": "code",
   "execution_count": 20,
   "id": "wrapped-capture",
   "metadata": {},
   "outputs": [
    {
     "name": "stdout",
     "output_type": "stream",
     "text": [
      "max_pooling2d_4 <class 'tensorflow.python.framework.tensor_shape.TensorShape'>\n",
      "conv2d_7 <class 'tensorflow.python.framework.tensor_shape.TensorShape'>\n",
      "max_pooling2d_5 <class 'tensorflow.python.framework.tensor_shape.TensorShape'>\n",
      "conv2d_8 <class 'tensorflow.python.framework.tensor_shape.TensorShape'>\n",
      "flatten_2 <class 'tensorflow.python.framework.tensor_shape.TensorShape'>\n",
      "dense_4 <class 'tensorflow.python.framework.tensor_shape.TensorShape'>\n"
     ]
    }
   ],
   "source": [
    "for layer in ndl_model.model.layers[2:-1]:\n",
    "  print(layer.name, type(layer.output.shape[1:]))"
   ]
  },
  {
   "cell_type": "code",
   "execution_count": 22,
   "id": "english-brief",
   "metadata": {},
   "outputs": [],
   "source": [
    "_, _, test_x, test_y = get_exp_dataset(\"mnist\")"
   ]
  },
  {
   "cell_type": "code",
   "execution_count": 31,
   "id": "painful-armenia",
   "metadata": {},
   "outputs": [
    {
     "data": {
      "text/plain": [
       "array([7, 2, 1, 0, 4, 1, 4, 9, 5, 9])"
      ]
     },
     "execution_count": 31,
     "metadata": {},
     "output_type": "execute_result"
    }
   ],
   "source": [
    "np.argmax(test_y[:10], axis=-1)"
   ]
  },
  {
   "cell_type": "code",
   "execution_count": 29,
   "id": "prescribed-convention",
   "metadata": {},
   "outputs": [
    {
     "data": {
      "text/plain": [
       "array([[0., 0., 0., ..., 1., 0., 0.],\n",
       "       [0., 0., 1., ..., 0., 0., 0.],\n",
       "       [0., 1., 0., ..., 0., 0., 0.],\n",
       "       ...,\n",
       "       [0., 0., 0., ..., 0., 0., 0.],\n",
       "       [0., 0., 0., ..., 0., 0., 0.],\n",
       "       [0., 0., 0., ..., 0., 0., 0.]], dtype=float32)"
      ]
     },
     "execution_count": 29,
     "metadata": {},
     "output_type": "execute_result"
    }
   ],
   "source": [
    "test_y"
   ]
  },
  {
   "cell_type": "code",
   "execution_count": null,
   "id": "detailed-caution",
   "metadata": {},
   "outputs": [],
   "source": []
  }
 ],
 "metadata": {
  "kernelspec": {
   "display_name": "Python 3",
   "language": "python",
   "name": "python3"
  },
  "language_info": {
   "codemirror_mode": {
    "name": "ipython",
    "version": 3
   },
   "file_extension": ".py",
   "mimetype": "text/x-python",
   "name": "python",
   "nbconvert_exporter": "python",
   "pygments_lexer": "ipython3",
   "version": "3.7.7"
  }
 },
 "nbformat": 4,
 "nbformat_minor": 5
}
