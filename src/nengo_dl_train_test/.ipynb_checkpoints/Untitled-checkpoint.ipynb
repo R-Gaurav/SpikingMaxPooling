{
 "cells": [
  {
   "cell_type": "code",
   "execution_count": 1,
   "id": "severe-impossible",
   "metadata": {},
   "outputs": [],
   "source": [
    "import _init_paths\n",
    "from utils.nengo_dl_utils import get_nengo_dl_model\n",
    "from utils.cnn_2d_utils import get_2d_cnn_model\n",
    "from configs.exp_configs import (nengo_dl_cfg as ndl_cfg, tf_exp_cfg as tf_cfg, asctv_max_cfg as am_cfg)"
   ]
  },
  {
   "cell_type": "code",
   "execution_count": 2,
   "id": "considered-karen",
   "metadata": {},
   "outputs": [
    {
     "name": "stderr",
     "output_type": "stream",
     "text": [
      "/home/rgaurav/miniconda3/envs/latest-nengo-tf/lib/python3.7/site-packages/nengo_dl/converter.py:326: UserWarning: Cannot convert max pooling layers to native Nengo objects; consider setting max_to_avg_pool=True to use average pooling instead. Falling back to TensorNode.\n",
      "  % (error_msg + \". \" if error_msg else \"\")\n",
      "/home/rgaurav/miniconda3/envs/latest-nengo-tf/lib/python3.7/site-packages/nengo_dl/converter.py:588: UserWarning: Activation type <function softmax at 0x2b4ad7ca1b90> does not have a native Nengo equivalent; falling back to a TensorNode\n",
      "  \"falling back to a TensorNode\" % activation\n"
     ]
    }
   ],
   "source": [
    "ndl_model, ngo_probes_lst = get_nengo_dl_model(\n",
    "    (1, 28, 28), tf_cfg, ndl_cfg, mode=\"test\", num_clss=10, max_to_avg_pool=False)"
   ]
  },
  {
   "cell_type": "code",
   "execution_count": 3,
   "id": "chronic-welcome",
   "metadata": {},
   "outputs": [],
   "source": [
    "model, layer_objs_lst = get_2d_cnn_model((1, 28, 28), tf_cfg, 10)"
   ]
  },
  {
   "cell_type": "code",
   "execution_count": 4,
   "id": "unnecessary-parliament",
   "metadata": {
    "scrolled": true
   },
   "outputs": [
    {
     "data": {
      "text/plain": [
       "[<tf.Tensor 'input_2:0' shape=(None, 1, 28, 28) dtype=float32>,\n",
       " <tf.Tensor 'conv2d_3/Identity:0' shape=(None, 16, 26, 26) dtype=float32>,\n",
       " <tf.Tensor 'max_pooling2d_2/Identity:0' shape=(None, 16, 13, 13) dtype=float32>,\n",
       " <tf.Tensor 'conv2d_4/Identity:0' shape=(None, 24, 11, 11) dtype=float32>,\n",
       " <tf.Tensor 'max_pooling2d_3/Identity:0' shape=(None, 24, 5, 5) dtype=float32>,\n",
       " <tf.Tensor 'conv2d_5/Identity:0' shape=(None, 32, 3, 3) dtype=float32>,\n",
       " <tf.Tensor 'dense_2/Identity:0' shape=(None, 64) dtype=float32>,\n",
       " <tf.Tensor 'dense_3/Identity:0' shape=(None, 10) dtype=float32>]"
      ]
     },
     "execution_count": 4,
     "metadata": {},
     "output_type": "execute_result"
    }
   ],
   "source": [
    "layer_objs_lst"
   ]
  },
  {
   "cell_type": "code",
   "execution_count": 6,
   "id": "mighty-regular",
   "metadata": {
    "scrolled": true
   },
   "outputs": [
    {
     "data": {
      "text/plain": [
       "[<tensorflow.python.keras.engine.input_layer.InputLayer at 0x2b4ae4d827d0>,\n",
       " <tensorflow.python.keras.layers.convolutional.Conv2D at 0x2b4ae461cb90>,\n",
       " <tensorflow.python.keras.layers.pooling.MaxPooling2D at 0x2b4ae4d86250>,\n",
       " <tensorflow.python.keras.layers.convolutional.Conv2D at 0x2b4ae530d5d0>,\n",
       " <tensorflow.python.keras.layers.pooling.MaxPooling2D at 0x2b4ae50ce190>,\n",
       " <tensorflow.python.keras.layers.convolutional.Conv2D at 0x2b4ae6539450>,\n",
       " <tensorflow.python.keras.layers.core.Flatten at 0x2b4ae654c8d0>,\n",
       " <tensorflow.python.keras.layers.core.Dense at 0x2b4ae654cf50>,\n",
       " <tensorflow.python.keras.layers.core.Dense at 0x2b4ae461cd90>]"
      ]
     },
     "execution_count": 6,
     "metadata": {},
     "output_type": "execute_result"
    }
   ],
   "source": [
    "ndl_model.model.layers"
   ]
  },
  {
   "cell_type": "code",
   "execution_count": 17,
   "id": "tamil-authorization",
   "metadata": {},
   "outputs": [
    {
     "name": "stdout",
     "output_type": "stream",
     "text": [
      "<class 'tensorflow.python.framework.tensor_shape.TensorShape'>\n",
      "<class 'tensorflow.python.framework.tensor_shape.TensorShape'>\n",
      "<class 'tensorflow.python.framework.tensor_shape.TensorShape'>\n",
      "<class 'tensorflow.python.framework.tensor_shape.TensorShape'>\n",
      "<class 'tensorflow.python.framework.tensor_shape.TensorShape'>\n",
      "<class 'tensorflow.python.framework.tensor_shape.TensorShape'>\n"
     ]
    }
   ],
   "source": [
    "for layer in ndl_model.model.layers[2:-1]:\n",
    "  print(layer.name, type(layer.output.shape[1:]))"
   ]
  },
  {
   "cell_type": "code",
   "execution_count": 6,
   "id": "deluxe-psychiatry",
   "metadata": {},
   "outputs": [
    {
     "data": {
      "text/plain": [
       "<Ensemble \"conv2d.0\" at 0x2b705e880610>"
      ]
     },
     "execution_count": 6,
     "metadata": {},
     "output_type": "execute_result"
    }
   ],
   "source": [
    "ndl_model.layers[ndl_model.model.layers[1]].ensemble"
   ]
  },
  {
   "cell_type": "code",
   "execution_count": 7,
   "id": "dependent-future",
   "metadata": {},
   "outputs": [
    {
     "ename": "KeyError",
     "evalue": "(<Reference wrapping <tf.Tensor 'conv2d_3/Identity:0' shape=(None, 16, 26, 26) dtype=float32>>,)",
     "output_type": "error",
     "traceback": [
      "\u001b[0;31m---------------------------------------------------------------------------\u001b[0m",
      "\u001b[0;31mKeyError\u001b[0m                                  Traceback (most recent call last)",
      "\u001b[0;32m<ipython-input-7-d6ca312f6f1c>\u001b[0m in \u001b[0;36m<module>\u001b[0;34m\u001b[0m\n\u001b[0;32m----> 1\u001b[0;31m \u001b[0mndl_model\u001b[0m\u001b[0;34m.\u001b[0m\u001b[0mlayers\u001b[0m\u001b[0;34m[\u001b[0m\u001b[0mlayer_objs_lst\u001b[0m\u001b[0;34m[\u001b[0m\u001b[0;36m1\u001b[0m\u001b[0;34m]\u001b[0m\u001b[0;34m]\u001b[0m\u001b[0;34m.\u001b[0m\u001b[0mensemble\u001b[0m\u001b[0;34m\u001b[0m\u001b[0;34m\u001b[0m\u001b[0m\n\u001b[0m",
      "\u001b[0;32m~/miniconda3/envs/latest-nengo-tf/lib/python3.7/site-packages/nengo_dl/converter.py\u001b[0m in \u001b[0;36m__getitem__\u001b[0;34m(self, key)\u001b[0m\n\u001b[1;32m    399\u001b[0m \u001b[0;34m\u001b[0m\u001b[0m\n\u001b[1;32m    400\u001b[0m         \u001b[0;32mdef\u001b[0m \u001b[0m__getitem__\u001b[0m\u001b[0;34m(\u001b[0m\u001b[0mself\u001b[0m\u001b[0;34m,\u001b[0m \u001b[0mkey\u001b[0m\u001b[0;34m)\u001b[0m\u001b[0;34m:\u001b[0m\u001b[0;34m\u001b[0m\u001b[0;34m\u001b[0m\u001b[0m\n\u001b[0;32m--> 401\u001b[0;31m             \u001b[0;32mreturn\u001b[0m \u001b[0mself\u001b[0m\u001b[0;34m.\u001b[0m\u001b[0mdict\u001b[0m\u001b[0;34m[\u001b[0m\u001b[0mself\u001b[0m\u001b[0;34m.\u001b[0m\u001b[0m_get_key\u001b[0m\u001b[0;34m(\u001b[0m\u001b[0mkey\u001b[0m\u001b[0;34m)\u001b[0m\u001b[0;34m]\u001b[0m\u001b[0;34m\u001b[0m\u001b[0;34m\u001b[0m\u001b[0m\n\u001b[0m\u001b[1;32m    402\u001b[0m \u001b[0;34m\u001b[0m\u001b[0m\n\u001b[1;32m    403\u001b[0m         \u001b[0;32mdef\u001b[0m \u001b[0m__iter__\u001b[0m\u001b[0;34m(\u001b[0m\u001b[0mself\u001b[0m\u001b[0;34m)\u001b[0m\u001b[0;34m:\u001b[0m\u001b[0;34m\u001b[0m\u001b[0;34m\u001b[0m\u001b[0m\n",
      "\u001b[0;31mKeyError\u001b[0m: (<Reference wrapping <tf.Tensor 'conv2d_3/Identity:0' shape=(None, 16, 26, 26) dtype=float32>>,)"
     ]
    }
   ],
   "source": [
    "ndl_model.layers[layer_objs_lst[1]].ensemble"
   ]
  },
  {
   "cell_type": "code",
   "execution_count": null,
   "id": "wrapped-capture",
   "metadata": {},
   "outputs": [],
   "source": []
  }
 ],
 "metadata": {
  "kernelspec": {
   "display_name": "Python 3",
   "language": "python",
   "name": "python3"
  },
  "language_info": {
   "codemirror_mode": {
    "name": "ipython",
    "version": 3
   },
   "file_extension": ".py",
   "mimetype": "text/x-python",
   "name": "python",
   "nbconvert_exporter": "python",
   "pygments_lexer": "ipython3",
   "version": "3.7.7"
  }
 },
 "nbformat": 4,
 "nbformat_minor": 5
}
