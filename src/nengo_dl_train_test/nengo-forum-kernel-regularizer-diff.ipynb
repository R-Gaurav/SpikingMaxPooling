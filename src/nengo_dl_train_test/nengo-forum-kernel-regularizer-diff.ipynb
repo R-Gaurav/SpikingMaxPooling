{
 "cells": [
  {
   "cell_type": "code",
   "execution_count": 9,
   "metadata": {
    "scrolled": true
   },
   "outputs": [],
   "source": [
    "import nengo\n",
    "import numpy as np\n",
    "import tensorflow as tf\n",
    "\n",
    "import nengo_dl\n",
    "\n",
    "seed = 0\n",
    "np.random.seed(seed)\n",
    "tf.random.set_seed(seed)\n",
    "\n",
    "def get_model(include_kr=False):\n",
    "    inp = tf.keras.Input(shape=(28, 28, 1))\n",
    "    \n",
    "    # convolutional layers\n",
    "    if include_kr:\n",
    "        conv0 = tf.keras.layers.Conv2D(\n",
    "            filters=32,\n",
    "            kernel_size=3,\n",
    "            activation=tf.nn.relu,\n",
    "            kernel_regularizer=tf.keras.regularizers.l2(1e-3),\n",
    "        )(inp)\n",
    "        \n",
    "        conv1 = tf.keras.layers.Conv2D(\n",
    "            filters=64,\n",
    "            kernel_size=3,\n",
    "            strides=2,\n",
    "            activation=tf.nn.relu,\n",
    "            kernel_regularizer=tf.keras.regularizers.l2(1e-3),\n",
    "        )(conv0)\n",
    "    else:\n",
    "        conv0 = tf.keras.layers.Conv2D(\n",
    "            filters=32,\n",
    "            kernel_size=3,\n",
    "            activation=tf.nn.relu,\n",
    "        )(inp)\n",
    "        \n",
    "        conv1 = tf.keras.layers.Conv2D(\n",
    "            filters=64,\n",
    "            kernel_size=3,\n",
    "            strides=2,\n",
    "            activation=tf.nn.relu,\n",
    "        )(conv0)\n",
    "    \n",
    "    flatten = tf.keras.layers.Flatten()(conv1)\n",
    "    \n",
    "    # fully connected layer.\n",
    "    if include_kr:\n",
    "      dense = tf.keras.layers.Dense(units=32, activation=\"relu\",\n",
    "                                    kernel_regularizer=tf.keras.regularizers.l2(1e-3))(flatten)\n",
    "      dense = tf.keras.layers.Dense(units=64, activation=\"relu\", \n",
    "                                    kernel_regularizer=tf.keras.regularizers.l2(1e-3))(dense)\n",
    "    else:\n",
    "      dense = tf.keras.layers.Dense(units=32, activation=\"relu\")(flatten)\n",
    "      dense = tf.keras.layers.Dense(units=64, activation=\"relu\")(dense)\n",
    "      \n",
    "    # output layer.\n",
    "    dense = tf.keras.layers.Dense(units=10, activation=\"softmax\")(dense)\n",
    "    \n",
    "    model = tf.keras.Model(inputs=inp, outputs=dense)\n",
    "    model.summary()\n",
    "    return model, inp, dense"
   ]
  },
  {
   "cell_type": "code",
   "execution_count": 2,
   "metadata": {},
   "outputs": [],
   "source": [
    "# Download MNIST data.\n",
    "(train_x, train_y), (test_x, test_y) = tf.keras.datasets.mnist.load_data()\n",
    "train_y = np.eye(10)[train_y]\n",
    "train_x = np.tile(\n",
    "    train_x.reshape((train_x.shape[0], 1, -1)), (1, 1, 1)) # (1, n_steps = 1, 1)\n",
    "test_x = np.tile(\n",
    "    test_x.reshape((test_x.shape[0], 1, -1)), (1, 30, 1)) # (1, n_steps=30, 1)\n",
    "train_y = train_y.reshape((train_y.shape[0], 1, -1))"
   ]
  },
  {
   "cell_type": "code",
   "execution_count": 3,
   "metadata": {},
   "outputs": [
    {
     "data": {
      "text/plain": [
       "((60000, 1, 784), (60000, 1, 10), (10000, 30, 784), (10000,))"
      ]
     },
     "execution_count": 3,
     "metadata": {},
     "output_type": "execute_result"
    }
   ],
   "source": [
    "train_x.shape, train_y.shape, test_x.shape, test_y.shape"
   ]
  },
  {
   "cell_type": "code",
   "execution_count": 4,
   "metadata": {},
   "outputs": [],
   "source": [
    "def get_batch_generator(is_test=True, batch_size=64):\n",
    "  if is_test:\n",
    "    for i in range(0, test_x.shape[0], batch_size):\n",
    "      if i+batch_size > test_x.shape[0]:\n",
    "        continue\n",
    "      yield(test_x[i:i+batch_size], test_y[i:i+batch_size])\n",
    "  else:\n",
    "    for i in range(0, train_x.shape[0], batch_size):\n",
    "      if i+batch_size > train_x.shape[0]:\n",
    "        continue\n",
    "      input_dict = {\n",
    "        \"input_1\": train_x[i:i+batch_size],\n",
    "        \"n_steps\": np.ones((batch_size, 1)),\n",
    "        \"conv2d.0.bias\": np.ones((batch_size, 32, 1)),\n",
    "        \"conv2d_1.0.bias\": np.ones((batch_size, 64, 1)),\n",
    "        \"dense_2.0.bias\": np.ones((batch_size, 10, 1)),\n",
    "      }\n",
    "      output_dict = {\n",
    "        \"probe\": train_y[i:i+batch_size]\n",
    "      }\n",
    "      yield(input_dict, output_dict)"
   ]
  },
  {
   "cell_type": "markdown",
   "metadata": {},
   "source": [
    "# Train the Model in Nengo-DL with ReLU neurons"
   ]
  },
  {
   "cell_type": "code",
   "execution_count": 5,
   "metadata": {},
   "outputs": [
    {
     "name": "stdout",
     "output_type": "stream",
     "text": [
      "Model: \"model\"\n",
      "_________________________________________________________________\n",
      "Layer (type)                 Output Shape              Param #   \n",
      "=================================================================\n",
      "input_1 (InputLayer)         [(None, 28, 28, 1)]       0         \n",
      "_________________________________________________________________\n",
      "conv2d (Conv2D)              (None, 26, 26, 32)        320       \n",
      "_________________________________________________________________\n",
      "conv2d_1 (Conv2D)            (None, 12, 12, 64)        18496     \n",
      "_________________________________________________________________\n",
      "flatten (Flatten)            (None, 9216)              0         \n",
      "_________________________________________________________________\n",
      "dense (Dense)                (None, 32)                294944    \n",
      "_________________________________________________________________\n",
      "dense_1 (Dense)              (None, 64)                2112      \n",
      "_________________________________________________________________\n",
      "dense_2 (Dense)              (None, 10)                650       \n",
      "=================================================================\n",
      "Total params: 316,522\n",
      "Trainable params: 316,522\n",
      "Non-trainable params: 0\n",
      "_________________________________________________________________\n",
      "[<Node \"input_1\" at 0x2b45d067e550>, <Node \"conv2d.0.bias\" at 0x2b45d066af50>, <Node \"conv2d.0.bias_relay\" at 0x2b45d066ae50>, <Node \"conv2d_1.0.bias\" at 0x2b45d067ea90>, <Node \"conv2d_1.0.bias_relay\" at 0x2b45d067ead0>, <TensorNode \"dense_2.0\" at 0x2b45e3f784d0>, <Node \"dense_2.0.bias\" at 0x2b45e3f78650>]\n",
      "[<Ensemble \"conv2d.0\" at 0x2b45c42e5810>, <Ensemble \"conv2d_1.0\" at 0x2b45d067e8d0>, <Ensemble \"dense.0\" at 0x2b45d067ef10>, <Ensemble \"dense_1.0\" at 0x2b45e3f78250>]\n"
     ]
    },
    {
     "name": "stderr",
     "output_type": "stream",
     "text": [
      "/home/rgaurav/miniconda3/envs/latest-nengo-tf/lib/python3.7/site-packages/nengo_dl/converter.py:588: UserWarning: Activation type <function softmax at 0x2b45c8605ef0> does not have a native Nengo equivalent; falling back to a TensorNode\n",
      "  \"falling back to a TensorNode\" % activation\n"
     ]
    }
   ],
   "source": [
    "model, _, _ = get_model()\n",
    "converter = nengo_dl.Converter(model)\n",
    "print(converter.net.all_nodes)\n",
    "print(converter.net.all_ensembles)"
   ]
  },
  {
   "cell_type": "code",
   "execution_count": 6,
   "metadata": {
    "scrolled": false
   },
   "outputs": [
    {
     "name": "stdout",
     "output_type": "stream",
     "text": [
      "Build finished in 0:00:00                                                      \n",
      "Optimization finished in 0:00:00                                               \n",
      "Construction finished in 0:00:00                                               \n",
      "300/300 [==============================] - 6s 21ms/step - loss: 0.4420 - probe_loss: 0.4420 - probe_accuracy: 0.8915\n",
      "300/300 [==============================] - 6s 21ms/step - loss: 0.0701 - probe_loss: 0.0701 - probe_accuracy: 0.9792\n",
      "300/300 [==============================] - 6s 21ms/step - loss: 0.0419 - probe_loss: 0.0419 - probe_accuracy: 0.9871\n",
      "300/300 [==============================] - 6s 21ms/step - loss: 0.0289 - probe_loss: 0.0289 - probe_accuracy: 0.9909\n"
     ]
    }
   ],
   "source": [
    "with nengo_dl.Simulator(converter.net, minibatch_size=200, seed=0) as sim:\n",
    "  sim.compile(\n",
    "    loss=tf.keras.losses.CategoricalCrossentropy(),\n",
    "    metrics=[\"accuracy\"],\n",
    "    optimizer=tf.keras.optimizers.Adam(lr=1e-3)\n",
    "  )\n",
    "  for epoch in range(4):\n",
    "    batches = get_batch_generator(is_test=False, batch_size=200)\n",
    "    sim.fit(batches, epochs=1, steps_per_epoch=300)\n",
    "  sim.save_params(\"./keras_to_snn_mnist\")"
   ]
  },
  {
   "cell_type": "markdown",
   "metadata": {},
   "source": [
    "# Test the Model in Nengo-DL with Spiking ReLU neurons"
   ]
  },
  {
   "cell_type": "code",
   "execution_count": 7,
   "metadata": {},
   "outputs": [
    {
     "name": "stdout",
     "output_type": "stream",
     "text": [
      "Model: \"model_1\"\n",
      "_________________________________________________________________\n",
      "Layer (type)                 Output Shape              Param #   \n",
      "=================================================================\n",
      "input_2 (InputLayer)         [(None, 28, 28, 1)]       0         \n",
      "_________________________________________________________________\n",
      "conv2d_2 (Conv2D)            (None, 26, 26, 32)        320       \n",
      "_________________________________________________________________\n",
      "conv2d_3 (Conv2D)            (None, 12, 12, 64)        18496     \n",
      "_________________________________________________________________\n",
      "flatten_1 (Flatten)          (None, 9216)              0         \n",
      "_________________________________________________________________\n",
      "dense_3 (Dense)              (None, 32)                294944    \n",
      "_________________________________________________________________\n",
      "dense_4 (Dense)              (None, 64)                2112      \n",
      "_________________________________________________________________\n",
      "dense_5 (Dense)              (None, 10)                650       \n",
      "=================================================================\n",
      "Total params: 316,522\n",
      "Trainable params: 316,522\n",
      "Non-trainable params: 0\n",
      "_________________________________________________________________\n"
     ]
    }
   ],
   "source": [
    "model, inp, otp = get_model()\n",
    "ndl_model = nengo_dl.Converter(\n",
    "  model,\n",
    "  swap_activations={tf.keras.activations.relu: nengo.SpikingRectifiedLinear()},\n",
    "  scale_firing_rates=20,\n",
    "  synapse=0.005\n",
    ")"
   ]
  },
  {
   "cell_type": "code",
   "execution_count": 8,
   "metadata": {},
   "outputs": [
    {
     "name": "stdout",
     "output_type": "stream",
     "text": [
      "Build finished in 0:00:00                                                      \n",
      "Optimization finished in 0:00:00                                               \n",
      "Construction finished in 0:00:00                                               \n",
      "ACC: 0.9471g graph: build stage finished in 0:00:00                            \n"
     ]
    }
   ],
   "source": [
    "ndl_mdl_input = ndl_model.inputs[inp]\n",
    "ndl_mdl_output = ndl_model.outputs[otp]\n",
    "with ndl_model.net:\n",
    "  nengo_dl.configure_settings(stateful=False)\n",
    "  \n",
    "with nengo_dl.Simulator(ndl_model.net, minibatch_size=100, seed=0) as sim:\n",
    "  sim.load_params(\"./keras_to_snn_mnist\")\n",
    "  batches = get_batch_generator(batch_size=100)\n",
    "  acc = 0\n",
    "  for batch in batches:\n",
    "    data = sim.predict_on_batch({ndl_mdl_input: batch[0]})\n",
    "    for y_true, y_pred in zip(batch[1], data[ndl_mdl_output]):\n",
    "      if y_true == np.argmax(y_pred[-1]):\n",
    "        acc +=1 \n",
    "\n",
    "print(\"ACC: %s\" % (acc/test_y.shape[0]))"
   ]
  },
  {
   "cell_type": "code",
   "execution_count": 11,
   "metadata": {},
   "outputs": [
    {
     "data": {
      "text/plain": [
       "('3.1.0', '3.4.0', '2.2.0')"
      ]
     },
     "execution_count": 11,
     "metadata": {},
     "output_type": "execute_result"
    }
   ],
   "source": [
    "nengo.__version__, nengo_dl.__version__, tf.__version__"
   ]
  },
  {
   "cell_type": "code",
   "execution_count": null,
   "metadata": {},
   "outputs": [],
   "source": []
  }
 ],
 "metadata": {
  "kernelspec": {
   "display_name": "Python 3",
   "language": "python",
   "name": "python3"
  },
  "language_info": {
   "codemirror_mode": {
    "name": "ipython",
    "version": 3
   },
   "file_extension": ".py",
   "mimetype": "text/x-python",
   "name": "python",
   "nbconvert_exporter": "python",
   "pygments_lexer": "ipython3",
   "version": "3.7.7"
  }
 },
 "nbformat": 4,
 "nbformat_minor": 4
}
