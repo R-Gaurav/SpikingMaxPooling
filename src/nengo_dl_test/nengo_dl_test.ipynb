{
 "cells": [
  {
   "cell_type": "code",
   "execution_count": 2,
   "metadata": {
    "scrolled": false
   },
   "outputs": [
    {
     "name": "stderr",
     "output_type": "stream",
     "text": [
      "/home/rgaurav/miniconda3/envs/nengo-tf/lib/python3.7/site-packages/nengo_dl/converter.py:360: UserWarning: Layer '<class 'tensorflow.python.keras.layers.normalization_v2.BatchNormalization'>' already has a converter. Overwriting.\n",
      "  \"Layer '%s' already has a converter. Overwriting.\" % keras_layer\n"
     ]
    }
   ],
   "source": [
    "import _init_paths\n",
    "import nengo_dl\n",
    "import matplotlib.pyplot as plt\n",
    "import numpy as np\n",
    "import pathlib\n",
    "import pickle\n",
    "\n",
    "from configs.exp_configs import tf_exp_cfg as exp_cfg, nengo_dl_cfg as ngo_cfg\n",
    "from utils.base_utils.data_prep_utils import get_batches_of_cifar_data\n",
    "from utils.base_utils.exp_utils import collect_sim_data_spikes\n",
    "from utils.nengo_dl_utils import get_nengo_dl_model\n",
    "from utils.consts.dir_consts import EXP_OTPT_DIR\n",
    "from utils.consts.exp_consts import SEED"
   ]
  },
  {
   "cell_type": "markdown",
   "metadata": {},
   "source": [
    "# Get the batched Test Data, the Nengo-DL Model"
   ]
  },
  {
   "cell_type": "code",
   "execution_count": 3,
   "metadata": {
    "scrolled": false
   },
   "outputs": [
    {
     "name": "stderr",
     "output_type": "stream",
     "text": [
      "/home/rgaurav/miniconda3/envs/nengo-tf/lib/python3.7/site-packages/nengo_dl/converter.py:555: UserWarning: Activation type <function softmax at 0x2b97f42668c0> does not have a native Nengo equivalent; falling back to a TensorNode\n",
      "  \"falling back to a TensorNode\" % activation\n"
     ]
    }
   ],
   "source": [
    "batches = get_batches_of_cifar_data(ngo_cfg, is_test=True)\n",
    "nengo_model, nengo_probes_obj_lst = get_nengo_dl_model(\n",
    "    (32, 32, 3), exp_cfg, ngo_cfg)"
   ]
  },
  {
   "cell_type": "markdown",
   "metadata": {},
   "source": [
    "\n",
    "# Create the Simulator and do inference"
   ]
  },
  {
   "cell_type": "code",
   "execution_count": 4,
   "metadata": {
    "scrolled": false
   },
   "outputs": [
    {
     "name": "stdout",
     "output_type": "stream",
     "text": [
      "Build finished in 0:00:00                                                      \n",
      "Optimization finished in 0:00:00                                               \n",
      "Construction finished in 0:00:02                                               \n",
      "Batch: 1 Done.\n"
     ]
    }
   ],
   "source": [
    "ndl_model_otpt = []\n",
    "ndl_model_spks = []\n",
    "\n",
    "with nengo_model.net:\n",
    "  nengo_dl.configure_settings(stateful=False)\n",
    "\n",
    "with nengo_dl.Simulator(\n",
    "  nengo_model.net, minibatch_size=ngo_cfg[\"test_batch_size\"], progress_bar=True, seed=SEED) as sim:\n",
    "  nengo_input = nengo_probes_obj_lst[0]\n",
    "  nengo_output = nengo_probes_obj_lst[-1]\n",
    "  batch_num=1\n",
    "  for batch in batches:\n",
    "    sim_data = sim.predict_on_batch({nengo_input: batch[0]})\n",
    "    for y_true, y_pred in zip(batch[1], sim_data[nengo_output]):\n",
    "      ndl_model_otpt.append((np.argmax([y_true]), np.argmax(y_pred[-1]), y_pred))\n",
    "    if batch_num == 1: # Collect only for one batch, else memory consumption is too high.\n",
    "      mdl_spks = collect_sim_data_spikes(nengo_probes_obj_lst, sim_data)\n",
    "      ndl_model_spks.extend(mdl_spks)\n",
    "    print(\"Batch: %s Done.\" % batch_num)\n",
    "    batch_num += 1"
   ]
  },
  {
   "cell_type": "code",
   "execution_count": 6,
   "metadata": {},
   "outputs": [],
   "source": [
    "pickle.dump({\"acc_res\": ndl_model_otpt, \"spk_res\": ndl_model_spks}, \n",
    "            open(ngo_cfg[\"ndl_res_otpt_dir\"]+\"ndl_%s_results_sfr_%s_nstps_%s.p\" \n",
    "                % (exp_cfg[\"tf_model\"][\"name\"], ngo_cfg[\"sfr\"], ngo_cfg[\"n_steps\"]), \"wb\"))"
   ]
  },
  {
   "cell_type": "code",
   "execution_count": 4,
   "metadata": {},
   "outputs": [
    {
     "name": "stdout",
     "output_type": "stream",
     "text": [
      "0.6383\n"
     ]
    }
   ],
   "source": [
    "acc = 0\n",
    "for y_true, y_pred, _ in ndl_model_otpt:\n",
    "  if y_true == y_pred:\n",
    "    acc += 1\n",
    "\n",
    "print(acc/10000)"
   ]
  },
  {
   "cell_type": "code",
   "execution_count": 5,
   "metadata": {},
   "outputs": [
    {
     "name": "stdout",
     "output_type": "stream",
     "text": [
      "0.6383\n"
     ]
    }
   ],
   "source": [
    "# SFR = 1, N_STEPS=80, ACC: 10% random (No layer spikes)\n",
    "# SFR = 50, N_STEPS=80, ACC: 42.1 (output layer starts spiking after 70ms)\n",
    "# SFR = 100, N_STEPS=80, ACC: 60.73 (output layer starts spiking after 50ms)\n",
    "# SFR = 200, N_STEPS=80, ACC: 63.85 (output layer starts spiking after 35ms)\n",
    "# SFR = 250, N_STEPS=80, ACC: 64.56 (output layer starts spiking after 30ms)\n",
    "# SFR = 600, N_STEPS=80, ACC: 64.98 (output layer starts spiking after 20ms)\n",
    "\n",
    "\n",
    "# SFR = 250, N_STEPS=60, ACC: 63.85 (Same spiking pattern as N_STEPS=80)\n",
    "# SFR = 250, N_STEPS=55, ACC: 62.21 (Same spiking pattern as N_STEPS=80)\n",
    "# SFR = 250, N_STEPS=50, ACC: 60.02 (Same spiking pattern as N_STEPS=80)\n",
    "# SFR = 250, N_STEPS=40, ACC: 40.87 (Same spiking pattern as N_STEPS=80)\n",
    "\n",
    "\n",
    "# As you lower down the SFR (and keep the N_STEPS fixed), it takes longer for the output layer to spike.\n",
    "# \n",
    "\n",
    "acc = 0\n",
    "for y_true, y_pred, _ in ndl_model_otpt:\n",
    "  if y_true == y_pred:\n",
    "    acc += 1\n",
    "\n",
    "print(acc/10000)"
   ]
  },
  {
   "cell_type": "code",
   "execution_count": null,
   "metadata": {},
   "outputs": [],
   "source": []
  }
 ],
 "metadata": {
  "kernelspec": {
   "display_name": "Python 3",
   "language": "python",
   "name": "python3"
  },
  "language_info": {
   "codemirror_mode": {
    "name": "ipython",
    "version": 3
   },
   "file_extension": ".py",
   "mimetype": "text/x-python",
   "name": "python",
   "nbconvert_exporter": "python",
   "pygments_lexer": "ipython3",
   "version": "3.7.7"
  }
 },
 "nbformat": 4,
 "nbformat_minor": 4
}
