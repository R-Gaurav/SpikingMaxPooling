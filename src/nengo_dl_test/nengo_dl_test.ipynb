{
 "cells": [
  {
   "cell_type": "code",
   "execution_count": 1,
   "metadata": {
    "scrolled": false
   },
   "outputs": [
    {
     "name": "stderr",
     "output_type": "stream",
     "text": [
      "/home/rgaurav/anaconda3/envs/ntfkeras/lib/python3.7/site-packages/nengo_dl/converter.py:360: UserWarning: Layer '<class 'tensorflow.python.keras.layers.normalization_v2.BatchNormalization'>' already has a converter. Overwriting.\n",
      "  \"Layer '%s' already has a converter. Overwriting.\" % keras_layer\n"
     ]
    }
   ],
   "source": [
    "import _init_paths\n",
    "import nengo_dl\n",
    "import matplotlib.pyplot as plt\n",
    "import numpy as np\n",
    "\n",
    "from utils.base_utils.data_prep_utils import get_batches_of_cifar_data\n",
    "from utils.nengo_dl_utils import get_nengo_dl_model\n",
    "from configs.exp_configs import tf_exp_cfg as exp_cfg, nengo_dl_cfg as ngo_cfg"
   ]
  },
  {
   "cell_type": "markdown",
   "metadata": {},
   "source": [
    "# Get the batched Test Data, the Nengo-DL Model"
   ]
  },
  {
   "cell_type": "code",
   "execution_count": 2,
   "metadata": {
    "scrolled": false
   },
   "outputs": [
    {
     "name": "stderr",
     "output_type": "stream",
     "text": [
      "/home/rgaurav/anaconda3/envs/ntfkeras/lib/python3.7/site-packages/nengo_dl/converter.py:555: UserWarning: Activation type <function softmax at 0x7f1d2e72ccb0> does not have a native Nengo equivalent; falling back to a TensorNode\n",
      "  \"falling back to a TensorNode\" % activation\n"
     ]
    }
   ],
   "source": [
    "batches = get_batches_of_cifar_data(ngo_cfg, is_test=True)\n",
    "nengo_model, nengo_probes_obj_lst = get_nengo_dl_model(\n",
    "    (32, 32, 3), exp_cfg, ngo_cfg)"
   ]
  },
  {
   "cell_type": "markdown",
   "metadata": {},
   "source": [
    "\n",
    "# Create the Simulator and do inference"
   ]
  },
  {
   "cell_type": "code",
   "execution_count": null,
   "metadata": {},
   "outputs": [
    {
     "name": "stdout",
     "output_type": "stream",
     "text": [
      "Build finished in 0:00:00                                                      \n",
      "Optimization finished in 0:00:00                                               \n",
      "Construction finished in 0:00:00                                               \n",
      "Batch: 1 Done.\n",
      "Batch: 2 Done.\n",
      "Batch: 3 Done.\n",
      "Batch: 4 Done.\n",
      "Batch: 5 Done.\n",
      "Batch: 6 Done.\n",
      "Batch: 7 Done.\n",
      "Batch: 8 Done.\n",
      "Batch: 9 Done.\n",
      "Batch: 10 Done.\n",
      "Batch: 11 Done.\n"
     ]
    }
   ],
   "source": [
    "ndl_model_otpt = []\n",
    "\n",
    "with nengo_model.net:\n",
    "  nengo_dl.configure_settings(stateful=False)\n",
    "\n",
    "with nengo_dl.Simulator(\n",
    "  nengo_model.net, minibatch_size=ngo_cfg[\"test_batch_size\"], progress_bar=True) as sim:\n",
    "  nengo_input = nengo_probes_obj_lst[0]\n",
    "  nengo_output = nengo_probes_obj_lst[-1]\n",
    "  batch_num=1\n",
    "  for batch in batches:\n",
    "    sim_data = sim.predict_on_batch({nengo_input: batch[0]})\n",
    "    for y_true, y_pred in zip(batch[1], sim_data[nengo_output]):\n",
    "      ndl_model_otpt.append((np.argmax([y_true]), np.argmax(y_pred[-1])))\n",
    "    print(\"Batch: %s Done.\" % batch_num)\n",
    "    batch_num += 1"
   ]
  },
  {
   "cell_type": "code",
   "execution_count": null,
   "metadata": {},
   "outputs": [],
   "source": []
  }
 ],
 "metadata": {
  "kernelspec": {
   "display_name": "Python 3",
   "language": "python",
   "name": "python3"
  },
  "language_info": {
   "codemirror_mode": {
    "name": "ipython",
    "version": 3
   },
   "file_extension": ".py",
   "mimetype": "text/x-python",
   "name": "python",
   "nbconvert_exporter": "python",
   "pygments_lexer": "ipython3",
   "version": "3.7.7"
  }
 },
 "nbformat": 4,
 "nbformat_minor": 4
}
