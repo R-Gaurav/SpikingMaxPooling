{
 "cells": [
  {
   "cell_type": "code",
   "execution_count": 1,
   "metadata": {
    "scrolled": false
   },
   "outputs": [
    {
     "name": "stderr",
     "output_type": "stream",
     "text": [
      "/home/rgaurav/miniconda3/envs/nengo-tf/lib/python3.7/site-packages/nengo_dl/converter.py:360: UserWarning: Layer '<class 'tensorflow.python.keras.layers.normalization_v2.BatchNormalization'>' already has a converter. Overwriting.\n",
      "  \"Layer '%s' already has a converter. Overwriting.\" % keras_layer\n"
     ]
    }
   ],
   "source": [
    "import _init_paths\n",
    "import nengo_dl\n",
    "import nengo\n",
    "import matplotlib.pyplot as plt\n",
    "import numpy as np\n",
    "import pathlib\n",
    "import pickle\n",
    "\n",
    "from configs.exp_configs import tf_exp_cfg as exp_cfg, nengo_dl_cfg as ngo_cfg\n",
    "from utils.base_utils.data_prep_utils import get_batches_of_cifar_data\n",
    "from utils.base_utils.exp_utils import collect_sim_data_spikes\n",
    "from utils.nengo_dl_utils import get_nengo_dl_model\n",
    "from utils.consts.dir_consts import EXP_OTPT_DIR\n",
    "from utils.consts.exp_consts import SEED"
   ]
  },
  {
   "cell_type": "markdown",
   "metadata": {},
   "source": [
    "# Get the batched Test Data, the Nengo-DL Model"
   ]
  },
  {
   "cell_type": "code",
   "execution_count": 2,
   "metadata": {
    "scrolled": false
   },
   "outputs": [],
   "source": [
    "batches = get_batches_of_cifar_data(ngo_cfg, is_test=True)"
   ]
  },
  {
   "cell_type": "code",
   "execution_count": 3,
   "metadata": {},
   "outputs": [
    {
     "name": "stdout",
     "output_type": "stream",
     "text": [
      "{'rf': 5e-05, 'batch_size': 200, 'epochs': 20, 'lr': 0.001, 'nn_dlyr': 512, 'tf_model': {'name': 'model_1', 'layers': {'layer_1': Layer(num_kernels=32, kernel_dims=(3, 3), stride_dims=(1, 1)), 'layer_2': Layer(num_kernels=64, kernel_dims=(3, 3), stride_dims=(1, 1)), 'layer_3': Layer(num_kernels=64, kernel_dims=(3, 3), stride_dims=(2, 2)), 'layer_4': Layer(num_kernels=96, kernel_dims=(3, 3), stride_dims=(2, 2)), 'layer_5': Layer(num_kernels=128, kernel_dims=(3, 3), stride_dims=(2, 2))}}, 'tf_wts_otpt_dir': '/scratch/rgaurav//spiking_investigation/experiment_outputs//cifar10/model_1/tf_trained_wts/'}\n",
      "{'tf_wts_inpt_dir': '/scratch/rgaurav//spiking_investigation/experiment_outputs//cifar10/model_1/tf_trained_wts/weights', 'ndl_res_otpt_dir': '/scratch/rgaurav//spiking_investigation/experiment_outputs//cifar10/model_1/ndl_relu_results/', 'spk_neuron': SpikingRectifiedLinear(), 'synapse': 0.005, 'sfr': 250, 'n_steps': 60, 'test_batch_size': 100, 'train_batch_size': 200}\n"
     ]
    }
   ],
   "source": [
    "print(exp_cfg)\n",
    "print(ngo_cfg)"
   ]
  },
  {
   "cell_type": "markdown",
   "metadata": {},
   "source": [
    "\n",
    "# Create the Simulator and do inference (TF - ReLU neuron)"
   ]
  },
  {
   "cell_type": "code",
   "execution_count": 4,
   "metadata": {},
   "outputs": [
    {
     "name": "stderr",
     "output_type": "stream",
     "text": [
      "/home/rgaurav/miniconda3/envs/nengo-tf/lib/python3.7/site-packages/nengo_dl/converter.py:555: UserWarning: Activation type <function softmax at 0x2b5e33fab3b0> does not have a native Nengo equivalent; falling back to a TensorNode\n",
      "  \"falling back to a TensorNode\" % activation\n"
     ]
    }
   ],
   "source": [
    "ngo_cfg[\"spk_neuron\"], ngo_cfg[\"synapse\"], ngo_cfg[\"sfr\"], ngo_cfg[\"n_steps\"] = (\n",
    "    nengo.RectifiedLinear(), None, 1, 1)\n",
    "nengo_model, nengo_probes_obj_lst = get_nengo_dl_model(\n",
    "    (32, 32, 3), exp_cfg, ngo_cfg)"
   ]
  },
  {
   "cell_type": "code",
   "execution_count": 5,
   "metadata": {
    "scrolled": true
   },
   "outputs": [
    {
     "name": "stdout",
     "output_type": "stream",
     "text": [
      "Build finished in 0:00:00                                                      \n",
      "Optimization finished in 0:00:00                                               \n",
      "Construction finished in 0:00:01                                               \n",
      "Batch: 1 Done.\n",
      "Batch: 2 Done.\n",
      "Batch: 3 Done.\n",
      "Batch: 4 Done.\n",
      "Batch: 5 Done.\n",
      "Batch: 6 Done.\n",
      "Batch: 7 Done.\n",
      "Batch: 8 Done.\n",
      "Batch: 9 Done.\n",
      "Batch: 10 Done.\n",
      "Batch: 11 Done.\n",
      "Batch: 12 Done.\n",
      "Batch: 13 Done.\n",
      "Batch: 14 Done.\n",
      "Batch: 15 Done.\n",
      "Batch: 16 Done.\n",
      "Batch: 17 Done.\n",
      "Batch: 18 Done.\n",
      "Batch: 19 Done.\n",
      "Batch: 20 Done.\n",
      "Batch: 21 Done.\n",
      "Batch: 22 Done.\n",
      "Batch: 23 Done.\n",
      "Batch: 24 Done.\n",
      "Batch: 25 Done.\n",
      "Batch: 26 Done.\n",
      "Batch: 27 Done.\n",
      "Batch: 28 Done.\n",
      "Batch: 29 Done.\n",
      "Batch: 30 Done.\n",
      "Batch: 31 Done.\n",
      "Batch: 32 Done.\n",
      "Batch: 33 Done.\n",
      "Batch: 34 Done.\n",
      "Batch: 35 Done.\n",
      "Batch: 36 Done.\n",
      "Batch: 37 Done.\n",
      "Batch: 38 Done.\n",
      "Batch: 39 Done.\n",
      "Batch: 40 Done.\n",
      "Batch: 41 Done.\n",
      "Batch: 42 Done.\n",
      "Batch: 43 Done.\n",
      "Batch: 44 Done.\n",
      "Batch: 45 Done.\n",
      "Batch: 46 Done.\n",
      "Batch: 47 Done.\n",
      "Batch: 48 Done.\n",
      "Batch: 49 Done.\n",
      "Batch: 50 Done.\n",
      "Batch: 51 Done.\n",
      "Batch: 52 Done.\n",
      "Batch: 53 Done.\n",
      "Batch: 54 Done.\n",
      "Batch: 55 Done.\n",
      "Batch: 56 Done.\n",
      "Batch: 57 Done.\n",
      "Batch: 58 Done.\n",
      "Batch: 59 Done.\n",
      "Batch: 60 Done.\n",
      "Batch: 61 Done.\n",
      "Batch: 62 Done.\n",
      "Batch: 63 Done.\n",
      "Batch: 64 Done.\n",
      "Batch: 65 Done.\n",
      "Batch: 66 Done.\n",
      "Batch: 67 Done.\n",
      "Batch: 68 Done.\n",
      "Batch: 69 Done.\n",
      "Batch: 70 Done.\n",
      "Batch: 71 Done.\n",
      "Batch: 72 Done.\n",
      "Batch: 73 Done.\n",
      "Batch: 74 Done.\n",
      "Batch: 75 Done.\n",
      "Batch: 76 Done.\n",
      "Batch: 77 Done.\n",
      "Batch: 78 Done.\n",
      "Batch: 79 Done.\n",
      "Batch: 80 Done.\n",
      "Batch: 81 Done.\n",
      "Batch: 82 Done.\n",
      "Batch: 83 Done.\n",
      "Batch: 84 Done.\n",
      "Batch: 85 Done.\n",
      "Batch: 86 Done.\n",
      "Batch: 87 Done.\n",
      "Batch: 88 Done.\n",
      "Batch: 89 Done.\n",
      "Batch: 90 Done.\n",
      "Batch: 91 Done.\n",
      "Batch: 92 Done.\n",
      "Batch: 93 Done.\n",
      "Batch: 94 Done.\n",
      "Batch: 95 Done.\n",
      "Batch: 96 Done.\n",
      "Batch: 97 Done.\n",
      "Batch: 98 Done.\n",
      "Batch: 99 Done.\n",
      "Batch: 100 Done.\n"
     ]
    }
   ],
   "source": [
    "ndl_model_otpt = []\n",
    "ndl_model_spks = []\n",
    "\n",
    "with nengo_model.net:\n",
    "  nengo_dl.configure_settings(stateful=False)\n",
    "\n",
    "with nengo_dl.Simulator(\n",
    "  nengo_model.net, minibatch_size=ngo_cfg[\"test_batch_size\"], progress_bar=True, seed=SEED) as sim:\n",
    "  nengo_input = nengo_probes_obj_lst[0]\n",
    "  nengo_output = nengo_probes_obj_lst[-1]\n",
    "  batch_num=1\n",
    "  for batch in batches:\n",
    "    sim_data = sim.predict_on_batch({nengo_input: batch[0]})\n",
    "    for y_true, y_pred in zip(batch[1], sim_data[nengo_output]):\n",
    "      ndl_model_otpt.append((np.argmax([y_true]), np.argmax(y_pred[-1]), y_pred))\n",
    "    if batch_num == 1: # Collect only for one batch, else memory consumption is too high.\n",
    "      mdl_spks = collect_sim_data_spikes(nengo_probes_obj_lst, sim_data)\n",
    "      ndl_model_spks.extend(mdl_spks)\n",
    "    print(\"Batch: %s Done.\" % batch_num)\n",
    "    batch_num += 1"
   ]
  },
  {
   "cell_type": "code",
   "execution_count": 6,
   "metadata": {},
   "outputs": [
    {
     "name": "stdout",
     "output_type": "stream",
     "text": [
      "0.7238\n"
     ]
    }
   ],
   "source": [
    "acc = 0\n",
    "for y_true, y_pred, _ in ndl_model_otpt:\n",
    "  if y_true == y_pred:\n",
    "    acc += 1\n",
    "\n",
    "print(acc/10000)"
   ]
  },
  {
   "cell_type": "markdown",
   "metadata": {},
   "source": [
    "# Create the Simulator and do inference (Nengo-DL - SpikingReLU neuron)"
   ]
  },
  {
   "cell_type": "code",
   "execution_count": 3,
   "metadata": {},
   "outputs": [
    {
     "name": "stderr",
     "output_type": "stream",
     "text": [
      "/home/rgaurav/miniconda3/envs/nengo-tf/lib/python3.7/site-packages/nengo_dl/converter.py:555: UserWarning: Activation type <function softmax at 0x2b08602d5320> does not have a native Nengo equivalent; falling back to a TensorNode\n",
      "  \"falling back to a TensorNode\" % activation\n"
     ]
    }
   ],
   "source": [
    "# ngo_cfg[\"spk_neuron\"], ngo_cfg[\"synapse\"], ngo_cfg[\"sfr\"], ngo_cfg[\"n_steps\"] = (\n",
    "#     nengo.SpikingRectifiedLinear(), 0.005, 250, 60)\n",
    "nengo_model, nengo_probes_obj_lst = get_nengo_dl_model(\n",
    "    (32, 32, 3), exp_cfg, ngo_cfg)"
   ]
  },
  {
   "cell_type": "code",
   "execution_count": 4,
   "metadata": {},
   "outputs": [
    {
     "name": "stdout",
     "output_type": "stream",
     "text": [
      "Build finished in 0:00:00                                                      \n",
      "Optimization finished in 0:00:00                                               \n",
      "Construction finished in 0:00:02                                               \n",
      "Nengo Output Shape:  (100, 60, 10) Test Batch Input Shape:  (100, 60, 3072)\n",
      "Batch: 1 Done.\n",
      "Nengo Output Shape:  (100, 60, 10) Test Batch Input Shape:  (100, 60, 3072)\n",
      "Batch: 2 Done.\n",
      "Nengo Output Shape:  (100, 60, 10) Test Batch Input Shape:  (100, 60, 3072)\n",
      "Batch: 3 Done.\n",
      "Nengo Output Shape:  (100, 60, 10) Test Batch Input Shape:  (100, 60, 3072)\n",
      "Batch: 4 Done.\n",
      "Nengo Output Shape:  (100, 60, 10) Test Batch Input Shape:  (100, 60, 3072)\n",
      "Batch: 5 Done.\n",
      "Nengo Output Shape:  (100, 60, 10) Test Batch Input Shape:  (100, 60, 3072)\n",
      "Batch: 6 Done.\n",
      "Nengo Output Shape:  (100, 60, 10) Test Batch Input Shape:  (100, 60, 3072)\n",
      "Batch: 7 Done.\n",
      "Nengo Output Shape:  (100, 60, 10) Test Batch Input Shape:  (100, 60, 3072)\n",
      "Batch: 8 Done.\n",
      "Nengo Output Shape:  (100, 60, 10) Test Batch Input Shape:  (100, 60, 3072)\n",
      "Batch: 9 Done.\n",
      "Nengo Output Shape:  (100, 60, 10) Test Batch Input Shape:  (100, 60, 3072)\n",
      "Batch: 10 Done.\n",
      "Nengo Output Shape:  (100, 60, 10) Test Batch Input Shape:  (100, 60, 3072)\n",
      "Batch: 11 Done.\n",
      "Nengo Output Shape:  (100, 60, 10) Test Batch Input Shape:  (100, 60, 3072)\n",
      "Batch: 12 Done.\n",
      "Nengo Output Shape:  (100, 60, 10) Test Batch Input Shape:  (100, 60, 3072)\n",
      "Batch: 13 Done.\n",
      "Nengo Output Shape:  (100, 60, 10) Test Batch Input Shape:  (100, 60, 3072)\n",
      "Batch: 14 Done.\n",
      "Nengo Output Shape:  (100, 60, 10) Test Batch Input Shape:  (100, 60, 3072)\n",
      "Batch: 15 Done.\n",
      "Nengo Output Shape:  (100, 60, 10) Test Batch Input Shape:  (100, 60, 3072)\n",
      "Batch: 16 Done.\n",
      "Nengo Output Shape:  (100, 60, 10) Test Batch Input Shape:  (100, 60, 3072)\n",
      "Batch: 17 Done.\n",
      "Nengo Output Shape:  (100, 60, 10) Test Batch Input Shape:  (100, 60, 3072)\n",
      "Batch: 18 Done.\n",
      "Nengo Output Shape:  (100, 60, 10) Test Batch Input Shape:  (100, 60, 3072)\n",
      "Batch: 19 Done.\n",
      "Nengo Output Shape:  (100, 60, 10) Test Batch Input Shape:  (100, 60, 3072)\n",
      "Batch: 20 Done.\n",
      "Nengo Output Shape:  (100, 60, 10) Test Batch Input Shape:  (100, 60, 3072)\n",
      "Batch: 21 Done.\n",
      "Nengo Output Shape:  (100, 60, 10) Test Batch Input Shape:  (100, 60, 3072)\n",
      "Batch: 22 Done.\n",
      "Nengo Output Shape:  (100, 60, 10) Test Batch Input Shape:  (100, 60, 3072)\n",
      "Batch: 23 Done.\n",
      "Nengo Output Shape:  (100, 60, 10) Test Batch Input Shape:  (100, 60, 3072)\n",
      "Batch: 24 Done.\n",
      "Nengo Output Shape:  (100, 60, 10) Test Batch Input Shape:  (100, 60, 3072)\n",
      "Batch: 25 Done.\n",
      "Nengo Output Shape:  (100, 60, 10) Test Batch Input Shape:  (100, 60, 3072)\n",
      "Batch: 26 Done.\n",
      "Nengo Output Shape:  (100, 60, 10) Test Batch Input Shape:  (100, 60, 3072)\n",
      "Batch: 27 Done.\n",
      "Nengo Output Shape:  (100, 60, 10) Test Batch Input Shape:  (100, 60, 3072)\n",
      "Batch: 28 Done.\n",
      "Nengo Output Shape:  (100, 60, 10) Test Batch Input Shape:  (100, 60, 3072)\n",
      "Batch: 29 Done.\n",
      "Nengo Output Shape:  (100, 60, 10) Test Batch Input Shape:  (100, 60, 3072)\n",
      "Batch: 30 Done.\n",
      "Nengo Output Shape:  (100, 60, 10) Test Batch Input Shape:  (100, 60, 3072)\n",
      "Batch: 31 Done.\n",
      "Nengo Output Shape:  (100, 60, 10) Test Batch Input Shape:  (100, 60, 3072)\n",
      "Batch: 32 Done.\n",
      "Nengo Output Shape:  (100, 60, 10) Test Batch Input Shape:  (100, 60, 3072)\n",
      "Batch: 33 Done.\n",
      "Nengo Output Shape:  (100, 60, 10) Test Batch Input Shape:  (100, 60, 3072)\n",
      "Batch: 34 Done.\n",
      "Nengo Output Shape:  (100, 60, 10) Test Batch Input Shape:  (100, 60, 3072)\n",
      "Batch: 35 Done.\n",
      "Nengo Output Shape:  (100, 60, 10) Test Batch Input Shape:  (100, 60, 3072)\n",
      "Batch: 36 Done.\n",
      "Nengo Output Shape:  (100, 60, 10) Test Batch Input Shape:  (100, 60, 3072)\n",
      "Batch: 37 Done.\n",
      "Nengo Output Shape:  (100, 60, 10) Test Batch Input Shape:  (100, 60, 3072)\n",
      "Batch: 38 Done.\n",
      "Nengo Output Shape:  (100, 60, 10) Test Batch Input Shape:  (100, 60, 3072)\n",
      "Batch: 39 Done.\n",
      "Nengo Output Shape:  (100, 60, 10) Test Batch Input Shape:  (100, 60, 3072)\n",
      "Batch: 40 Done.\n",
      "Nengo Output Shape:  (100, 60, 10) Test Batch Input Shape:  (100, 60, 3072)\n",
      "Batch: 41 Done.\n",
      "Nengo Output Shape:  (100, 60, 10) Test Batch Input Shape:  (100, 60, 3072)\n",
      "Batch: 42 Done.\n",
      "Nengo Output Shape:  (100, 60, 10) Test Batch Input Shape:  (100, 60, 3072)\n",
      "Batch: 43 Done.\n",
      "Nengo Output Shape:  (100, 60, 10) Test Batch Input Shape:  (100, 60, 3072)\n",
      "Batch: 44 Done.\n",
      "Nengo Output Shape:  (100, 60, 10) Test Batch Input Shape:  (100, 60, 3072)\n",
      "Batch: 45 Done.\n",
      "Nengo Output Shape:  (100, 60, 10) Test Batch Input Shape:  (100, 60, 3072)\n",
      "Batch: 46 Done.\n",
      "Nengo Output Shape:  (100, 60, 10) Test Batch Input Shape:  (100, 60, 3072)\n",
      "Batch: 47 Done.\n",
      "Nengo Output Shape:  (100, 60, 10) Test Batch Input Shape:  (100, 60, 3072)\n",
      "Batch: 48 Done.\n",
      "Nengo Output Shape:  (100, 60, 10) Test Batch Input Shape:  (100, 60, 3072)\n",
      "Batch: 49 Done.\n",
      "Nengo Output Shape:  (100, 60, 10) Test Batch Input Shape:  (100, 60, 3072)\n",
      "Batch: 50 Done.\n",
      "Nengo Output Shape:  (100, 60, 10) Test Batch Input Shape:  (100, 60, 3072)\n",
      "Batch: 51 Done.\n",
      "Nengo Output Shape:  (100, 60, 10) Test Batch Input Shape:  (100, 60, 3072)\n",
      "Batch: 52 Done.\n",
      "Nengo Output Shape:  (100, 60, 10) Test Batch Input Shape:  (100, 60, 3072)\n",
      "Batch: 53 Done.\n",
      "Nengo Output Shape:  (100, 60, 10) Test Batch Input Shape:  (100, 60, 3072)\n",
      "Batch: 54 Done.\n",
      "Nengo Output Shape:  (100, 60, 10) Test Batch Input Shape:  (100, 60, 3072)\n",
      "Batch: 55 Done.\n",
      "Nengo Output Shape:  (100, 60, 10) Test Batch Input Shape:  (100, 60, 3072)\n",
      "Batch: 56 Done.\n",
      "Nengo Output Shape:  (100, 60, 10) Test Batch Input Shape:  (100, 60, 3072)\n",
      "Batch: 57 Done.\n",
      "Nengo Output Shape:  (100, 60, 10) Test Batch Input Shape:  (100, 60, 3072)\n",
      "Batch: 58 Done.\n",
      "Nengo Output Shape:  (100, 60, 10) Test Batch Input Shape:  (100, 60, 3072)\n",
      "Batch: 59 Done.\n",
      "Nengo Output Shape:  (100, 60, 10) Test Batch Input Shape:  (100, 60, 3072)\n",
      "Batch: 60 Done.\n",
      "Nengo Output Shape:  (100, 60, 10) Test Batch Input Shape:  (100, 60, 3072)\n",
      "Batch: 61 Done.\n",
      "Nengo Output Shape:  (100, 60, 10) Test Batch Input Shape:  (100, 60, 3072)\n",
      "Batch: 62 Done.\n",
      "Nengo Output Shape:  (100, 60, 10) Test Batch Input Shape:  (100, 60, 3072)\n",
      "Batch: 63 Done.\n",
      "Nengo Output Shape:  (100, 60, 10) Test Batch Input Shape:  (100, 60, 3072)\n",
      "Batch: 64 Done.\n",
      "Nengo Output Shape:  (100, 60, 10) Test Batch Input Shape:  (100, 60, 3072)\n",
      "Batch: 65 Done.\n",
      "Nengo Output Shape:  (100, 60, 10) Test Batch Input Shape:  (100, 60, 3072)\n",
      "Batch: 66 Done.\n",
      "Nengo Output Shape:  (100, 60, 10) Test Batch Input Shape:  (100, 60, 3072)\n",
      "Batch: 67 Done.\n",
      "Nengo Output Shape:  (100, 60, 10) Test Batch Input Shape:  (100, 60, 3072)\n",
      "Batch: 68 Done.\n",
      "Nengo Output Shape:  (100, 60, 10) Test Batch Input Shape:  (100, 60, 3072)\n",
      "Batch: 69 Done.\n",
      "Nengo Output Shape:  (100, 60, 10) Test Batch Input Shape:  (100, 60, 3072)\n",
      "Batch: 70 Done.\n",
      "Nengo Output Shape:  (100, 60, 10) Test Batch Input Shape:  (100, 60, 3072)\n",
      "Batch: 71 Done.\n",
      "Nengo Output Shape:  (100, 60, 10) Test Batch Input Shape:  (100, 60, 3072)\n",
      "Batch: 72 Done.\n",
      "Nengo Output Shape:  (100, 60, 10) Test Batch Input Shape:  (100, 60, 3072)\n",
      "Batch: 73 Done.\n",
      "Nengo Output Shape:  (100, 60, 10) Test Batch Input Shape:  (100, 60, 3072)\n",
      "Batch: 74 Done.\n",
      "Nengo Output Shape:  (100, 60, 10) Test Batch Input Shape:  (100, 60, 3072)\n",
      "Batch: 75 Done.\n",
      "Nengo Output Shape:  (100, 60, 10) Test Batch Input Shape:  (100, 60, 3072)\n",
      "Batch: 76 Done.\n",
      "Nengo Output Shape:  (100, 60, 10) Test Batch Input Shape:  (100, 60, 3072)\n",
      "Batch: 77 Done.\n",
      "Nengo Output Shape:  (100, 60, 10) Test Batch Input Shape:  (100, 60, 3072)\n",
      "Batch: 78 Done.\n",
      "Nengo Output Shape:  (100, 60, 10) Test Batch Input Shape:  (100, 60, 3072)\n",
      "Batch: 79 Done.\n",
      "Nengo Output Shape:  (100, 60, 10) Test Batch Input Shape:  (100, 60, 3072)\n",
      "Batch: 80 Done.\n",
      "Nengo Output Shape:  (100, 60, 10) Test Batch Input Shape:  (100, 60, 3072)\n",
      "Batch: 81 Done.\n",
      "Nengo Output Shape:  (100, 60, 10) Test Batch Input Shape:  (100, 60, 3072)\n",
      "Batch: 82 Done.\n",
      "Nengo Output Shape:  (100, 60, 10) Test Batch Input Shape:  (100, 60, 3072)\n",
      "Batch: 83 Done.\n",
      "Nengo Output Shape:  (100, 60, 10) Test Batch Input Shape:  (100, 60, 3072)\n",
      "Batch: 84 Done.\n",
      "Nengo Output Shape:  (100, 60, 10) Test Batch Input Shape:  (100, 60, 3072)\n",
      "Batch: 85 Done.\n",
      "Nengo Output Shape:  (100, 60, 10) Test Batch Input Shape:  (100, 60, 3072)\n",
      "Batch: 86 Done.\n",
      "Nengo Output Shape:  (100, 60, 10) Test Batch Input Shape:  (100, 60, 3072)\n",
      "Batch: 87 Done.\n"
     ]
    },
    {
     "name": "stdout",
     "output_type": "stream",
     "text": [
      "Nengo Output Shape:  (100, 60, 10) Test Batch Input Shape:  (100, 60, 3072)\n",
      "Batch: 88 Done.\n",
      "Nengo Output Shape:  (100, 60, 10) Test Batch Input Shape:  (100, 60, 3072)\n",
      "Batch: 89 Done.\n",
      "Nengo Output Shape:  (100, 60, 10) Test Batch Input Shape:  (100, 60, 3072)\n",
      "Batch: 90 Done.\n",
      "Nengo Output Shape:  (100, 60, 10) Test Batch Input Shape:  (100, 60, 3072)\n",
      "Batch: 91 Done.\n",
      "Nengo Output Shape:  (100, 60, 10) Test Batch Input Shape:  (100, 60, 3072)\n",
      "Batch: 92 Done.\n",
      "Nengo Output Shape:  (100, 60, 10) Test Batch Input Shape:  (100, 60, 3072)\n",
      "Batch: 93 Done.\n",
      "Nengo Output Shape:  (100, 60, 10) Test Batch Input Shape:  (100, 60, 3072)\n",
      "Batch: 94 Done.\n",
      "Nengo Output Shape:  (100, 60, 10) Test Batch Input Shape:  (100, 60, 3072)\n",
      "Batch: 95 Done.\n",
      "Nengo Output Shape:  (100, 60, 10) Test Batch Input Shape:  (100, 60, 3072)\n",
      "Batch: 96 Done.\n",
      "Nengo Output Shape:  (100, 60, 10) Test Batch Input Shape:  (100, 60, 3072)\n",
      "Batch: 97 Done.\n",
      "Nengo Output Shape:  (100, 60, 10) Test Batch Input Shape:  (100, 60, 3072)\n",
      "Batch: 98 Done.\n",
      "Nengo Output Shape:  (100, 60, 10) Test Batch Input Shape:  (100, 60, 3072)\n",
      "Batch: 99 Done.\n",
      "Nengo Output Shape:  (100, 60, 10) Test Batch Input Shape:  (100, 60, 3072)\n",
      "Batch: 100 Done.\n"
     ]
    }
   ],
   "source": [
    "ndl_model_otpt = []\n",
    "ndl_model_spks = []\n",
    "\n",
    "with nengo_model.net:\n",
    "  nengo_dl.configure_settings(stateful=False)\n",
    "\n",
    "with nengo_dl.Simulator(\n",
    "  nengo_model.net, minibatch_size=ngo_cfg[\"test_batch_size\"], progress_bar=True, seed=SEED) as sim:\n",
    "  nengo_input = nengo_probes_obj_lst[0]\n",
    "  nengo_output = nengo_probes_obj_lst[-1]\n",
    "  batch_num=1\n",
    "  for batch in batches:\n",
    "    sim_data = sim.predict_on_batch({nengo_input: batch[0]})\n",
    "    print(\"Nengo Output Shape: \", sim_data[nengo_output].shape, \"Test Batch Input Shape: \", batch[0].shape)\n",
    "    for y_true, y_pred in zip(batch[1], sim_data[nengo_output]):\n",
    "      ndl_model_otpt.append((np.argmax([y_true]), np.argmax(y_pred[-1]), y_pred))\n",
    "    if batch_num == 1: # Collect only for one batch, else memory consumption is too high.\n",
    "      mdl_spks = collect_sim_data_spikes(nengo_probes_obj_lst, sim_data)\n",
    "      ndl_model_spks.extend(mdl_spks)\n",
    "    print(\"Batch: %s Done.\" % batch_num)\n",
    "    batch_num += 1"
   ]
  },
  {
   "cell_type": "code",
   "execution_count": 6,
   "metadata": {},
   "outputs": [
    {
     "data": {
      "text/plain": [
       "(60, 10)"
      ]
     },
     "execution_count": 6,
     "metadata": {},
     "output_type": "execute_result"
    }
   ],
   "source": [
    "sim_data[nengo_output][0].shape"
   ]
  },
  {
   "cell_type": "code",
   "execution_count": 7,
   "metadata": {},
   "outputs": [
    {
     "name": "stdout",
     "output_type": "stream",
     "text": [
      "0.7043\n"
     ]
    }
   ],
   "source": [
    "acc = 0\n",
    "for y_true, y_pred, _ in ndl_model_otpt:\n",
    "  if y_true == y_pred:\n",
    "    acc += 1\n",
    "\n",
    "print(acc/10000)"
   ]
  },
  {
   "cell_type": "code",
   "execution_count": 7,
   "metadata": {},
   "outputs": [
    {
     "data": {
      "text/plain": [
       "(1, 32768)"
      ]
     },
     "execution_count": 7,
     "metadata": {},
     "output_type": "execute_result"
    }
   ],
   "source": [
    "ndl_model_spks[0][\"conv2d.0\"].shape"
   ]
  },
  {
   "cell_type": "markdown",
   "metadata": {},
   "source": [
    "## Inference with Encoders, Bias, Gain, Plots, etc. for 100th batch"
   ]
  },
  {
   "cell_type": "markdown",
   "metadata": {
    "scrolled": true
   },
   "source": [
    "ndl_model_otpt = []\n",
    "ndl_model_spks = []\n",
    "\n",
    "with nengo_model.net:\n",
    "  nengo_dl.configure_settings(stateful=False)\n",
    "\n",
    "with nengo_dl.Simulator(\n",
    "  nengo_model.net, minibatch_size=ngo_cfg[\"test_batch_size\"], progress_bar=True, seed=SEED) as sim:\n",
    "  nengo_input = nengo_probes_obj_lst[0]\n",
    "  nengo_output = nengo_probes_obj_lst[-1]\n",
    "  batch_num=1\n",
    "  for batch in batches:\n",
    "    sim_data = sim.predict_on_batch({nengo_input: batch[0]})\n",
    "    for y_true, y_pred in zip(batch[1], sim_data[nengo_output]):\n",
    "      ndl_model_otpt.append((np.argmax([y_true]), np.argmax(y_pred[-1]), y_pred))\n",
    "    if batch_num == 1: # Collect only for one batch, else memory consumption is too high.\n",
    "      mdl_spks = collect_sim_data_spikes(nengo_probes_obj_lst, sim_data)\n",
    "      ndl_model_spks.extend(mdl_spks)\n",
    "    print(\"Batch: %s Done.\" % batch_num)\n",
    "    batch_num += 1\n",
    "    if batch_num == 100:\n",
    "        layers = list(nengo_model.layers.dict.values())[1:-1]\n",
    "        fig, axs = plt.subplots(len(layers), figsize=(16, 3*len(layers)))\n",
    "        fig1, axs1 = plt.subplots(len(layers), figsize=(16, 3*len(layers)))\n",
    "        for i, layer in enumerate(layers):\n",
    "            ens = layer.ensemble\n",
    "            axs[i].set_title(\"Layer: {0}, Neuron Type: {1}, Number of Neurons: {2}, Seed: {3}\".format(\n",
    "                ens.neurons, ens.neuron_type, ens.n_neurons, ens.seed))\n",
    "            axs[i].plot(sim.data[ens].max_rates, 'ro', label=\"Max Firing Rates\")\n",
    "            print(\"Layer: {0}, Neuron Type: {1}, Number of Neurons: {2}, Seed: {3}\".format(\n",
    "                ens.neurons, ens.neuron_type, ens.n_neurons, ens.seed))\n",
    "            print(\"Unique Encoders: {}\".format(np.unique(sim.data[ens].encoders)))\n",
    "            print(\"Unique Scaled Encoders: {}\".format(np.unique(sim.data[ens].scaled_encoders)))\n",
    "            print(\"Unique bias: {}\".format(np.unique(sim.data[ens].bias)))\n",
    "            print(\"Unique gain: {}\".format(np.unique(sim.data[ens].gain)))\n",
    "            print(\"Unique intercepts: {}\".format(np.unique(sim.data[ens].intercepts)))\n",
    "            axs[i].legend()\n",
    "            axs[i].set_xlabel(\"Neuron Indices\")\n",
    "            print(\"*\"*100)\n",
    "            axs1[i].set_title(\"Tuning Curves for {}\".format(ens.neurons))\n",
    "            x, act_mat = nengo.utils.ensemble.tuning_curves(ens, sim)\n",
    "            for j in range(ens.n_neurons):\n",
    "                axs1[i].plot(act_mat[:, j])\n",
    "            axs1[i].set_xlabel(\"x - values\")\n",
    "        fig.tight_layout()\n",
    "        fig.show()\n",
    "        fig1.tight_layout()\n",
    "        fig1.show()"
   ]
  },
  {
   "cell_type": "code",
   "execution_count": 6,
   "metadata": {},
   "outputs": [],
   "source": [
    "pickle.dump({\"acc_res\": ndl_model_otpt, \"spk_res\": ndl_model_spks}, \n",
    "            open(ngo_cfg[\"ndl_res_otpt_dir\"]+\"ndl_%s_results_sfr_%s_nstps_%s.p\" \n",
    "                % (exp_cfg[\"tf_model\"][\"name\"], ngo_cfg[\"sfr\"], ngo_cfg[\"n_steps\"]), \"wb\"))"
   ]
  },
  {
   "cell_type": "code",
   "execution_count": 6,
   "metadata": {},
   "outputs": [
    {
     "name": "stdout",
     "output_type": "stream",
     "text": [
      "0.6256\n"
     ]
    }
   ],
   "source": [
    "acc = 0\n",
    "for y_true, y_pred, _ in ndl_model_otpt:\n",
    "  if y_true == y_pred:\n",
    "    acc += 1\n",
    "\n",
    "print(acc/10000)"
   ]
  },
  {
   "cell_type": "code",
   "execution_count": 5,
   "metadata": {},
   "outputs": [
    {
     "name": "stdout",
     "output_type": "stream",
     "text": [
      "0.6383\n"
     ]
    }
   ],
   "source": [
    "# SFR = 1, N_STEPS=80, ACC: 10% random (No layer spikes)\n",
    "# SFR = 50, N_STEPS=80, ACC: 42.1 (output layer starts spiking after 70ms)\n",
    "# SFR = 100, N_STEPS=80, ACC: 60.73 (output layer starts spiking after 50ms)\n",
    "# SFR = 200, N_STEPS=80, ACC: 63.85 (output layer starts spiking after 35ms)\n",
    "# SFR = 250, N_STEPS=80, ACC: 64.56 (output layer starts spiking after 30ms)\n",
    "# SFR = 600, N_STEPS=80, ACC: 64.98 (output layer starts spiking after 20ms)\n",
    "\n",
    "\n",
    "# SFR = 250, N_STEPS=60, ACC: 63.85 (Same spiking pattern as N_STEPS=80)\n",
    "# SFR = 250, N_STEPS=55, ACC: 62.21 (Same spiking pattern as N_STEPS=80)\n",
    "# SFR = 250, N_STEPS=50, ACC: 60.02 (Same spiking pattern as N_STEPS=80)\n",
    "# SFR = 250, N_STEPS=40, ACC: 40.87 (Same spiking pattern as N_STEPS=80)\n",
    "\n",
    "\n",
    "# As you lower down the SFR (and keep the N_STEPS fixed), it takes longer for the output layer to spike.\n",
    "# \n",
    "\n",
    "acc = 0\n",
    "for y_true, y_pred, _ in ndl_model_otpt:\n",
    "  if y_true == y_pred:\n",
    "    acc += 1\n",
    "\n",
    "print(acc/10000)"
   ]
  }
 ],
 "metadata": {
  "kernelspec": {
   "display_name": "Python 3",
   "language": "python",
   "name": "python3"
  },
  "language_info": {
   "codemirror_mode": {
    "name": "ipython",
    "version": 3
   },
   "file_extension": ".py",
   "mimetype": "text/x-python",
   "name": "python",
   "nbconvert_exporter": "python",
   "pygments_lexer": "ipython3",
   "version": "3.7.7"
  }
 },
 "nbformat": 4,
 "nbformat_minor": 4
}
