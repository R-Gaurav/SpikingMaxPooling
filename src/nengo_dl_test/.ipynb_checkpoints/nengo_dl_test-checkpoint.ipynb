{
 "cells": [
  {
   "cell_type": "code",
   "execution_count": 1,
   "metadata": {
    "scrolled": false
   },
   "outputs": [
    {
     "name": "stderr",
     "output_type": "stream",
     "text": [
      "/home/rgaurav/anaconda3/envs/ntfkeras/lib/python3.7/site-packages/nengo_dl/converter.py:360: UserWarning: Layer '<class 'tensorflow.python.keras.layers.normalization_v2.BatchNormalization'>' already has a converter. Overwriting.\n",
      "  \"Layer '%s' already has a converter. Overwriting.\" % keras_layer\n"
     ]
    }
   ],
   "source": [
    "import _init_paths\n",
    "import nengo_dl\n",
    "import matplotlib.pyplot as plt\n",
    "import numpy as np\n",
    "\n",
    "from utils.base_utils.data_prep_utils import get_batches_of_cifar_data\n",
    "from utils.nengo_dl_utils import get_nengo_dl_model\n",
    "from configs.exp_configs import tf_exp_cfg as exp_cfg, nengo_dl_cfg as ngo_cfg"
   ]
  },
  {
   "cell_type": "markdown",
   "metadata": {},
   "source": [
    "# Get the batched Test Data, the Nengo-DL Model"
   ]
  },
  {
   "cell_type": "code",
   "execution_count": 3,
   "metadata": {
    "scrolled": false
   },
   "outputs": [
    {
     "name": "stderr",
     "output_type": "stream",
     "text": [
      "/home/rgaurav/anaconda3/envs/ntfkeras/lib/python3.7/site-packages/nengo_dl/converter.py:555: UserWarning: Activation type <function softmax at 0x7ff8c0b1bc20> does not have a native Nengo equivalent; falling back to a TensorNode\n",
      "  \"falling back to a TensorNode\" % activation\n"
     ]
    }
   ],
   "source": [
    "batches = get_batches_of_cifar_data(ngo_cfg, is_test=True)\n",
    "nengo_model, nengo_probes_obj_lst = get_nengo_dl_model(\n",
    "    (32, 32, 3), exp_cfg, ngo_cfg)"
   ]
  },
  {
   "cell_type": "markdown",
   "metadata": {},
   "source": [
    "\n",
    "# Create the Simulator and do inference"
   ]
  },
  {
   "cell_type": "code",
   "execution_count": 7,
   "metadata": {},
   "outputs": [
    {
     "name": "stdout",
     "output_type": "stream",
     "text": [
      "Build finished in 0:00:00                                                      \n",
      "Optimization finished in 0:00:00                                               \n",
      "Construction finished in 0:00:00                                               \n"
     ]
    },
    {
     "ename": "TypeError",
     "evalue": "'function' object is not subscriptable",
     "output_type": "error",
     "traceback": [
      "\u001b[0;31m---------------------------------------------------------------------------\u001b[0m",
      "\u001b[0;31mTypeError\u001b[0m                                 Traceback (most recent call last)",
      "\u001b[0;32m<ipython-input-7-cbe2c4ca8773>\u001b[0m in \u001b[0;36m<module>\u001b[0;34m\u001b[0m\n\u001b[1;32m     12\u001b[0m     \u001b[0msim_data\u001b[0m \u001b[0;34m=\u001b[0m \u001b[0msim\u001b[0m\u001b[0;34m.\u001b[0m\u001b[0mpredict_on_batch\u001b[0m\u001b[0;34m(\u001b[0m\u001b[0;34m{\u001b[0m\u001b[0mnengo_input\u001b[0m\u001b[0;34m:\u001b[0m \u001b[0mbatch\u001b[0m\u001b[0;34m[\u001b[0m\u001b[0;36m0\u001b[0m\u001b[0;34m]\u001b[0m\u001b[0;34m}\u001b[0m\u001b[0;34m)\u001b[0m\u001b[0;34m\u001b[0m\u001b[0;34m\u001b[0m\u001b[0m\n\u001b[1;32m     13\u001b[0m     \u001b[0;32mfor\u001b[0m \u001b[0my_true\u001b[0m\u001b[0;34m,\u001b[0m \u001b[0my_pred\u001b[0m \u001b[0;32min\u001b[0m \u001b[0mzip\u001b[0m\u001b[0;34m(\u001b[0m\u001b[0mbatch\u001b[0m\u001b[0;34m[\u001b[0m\u001b[0;36m1\u001b[0m\u001b[0;34m]\u001b[0m\u001b[0;34m,\u001b[0m \u001b[0msim_data\u001b[0m\u001b[0;34m[\u001b[0m\u001b[0mnengo_output\u001b[0m\u001b[0;34m]\u001b[0m\u001b[0;34m)\u001b[0m\u001b[0;34m:\u001b[0m\u001b[0;34m\u001b[0m\u001b[0;34m\u001b[0m\u001b[0m\n\u001b[0;32m---> 14\u001b[0;31m       \u001b[0mnp\u001b[0m\u001b[0;34m.\u001b[0m\u001b[0margmax\u001b[0m\u001b[0;34m[\u001b[0m\u001b[0my_true\u001b[0m\u001b[0;34m]\u001b[0m\u001b[0;34m,\u001b[0m \u001b[0mnp\u001b[0m\u001b[0;34m.\u001b[0m\u001b[0margmax\u001b[0m\u001b[0;34m(\u001b[0m\u001b[0my_pred\u001b[0m\u001b[0;34m[\u001b[0m\u001b[0;34m-\u001b[0m\u001b[0;36m1\u001b[0m\u001b[0;34m]\u001b[0m\u001b[0;34m)\u001b[0m\u001b[0;34m\u001b[0m\u001b[0;34m\u001b[0m\u001b[0m\n\u001b[0m\u001b[1;32m     15\u001b[0m     \u001b[0mprint\u001b[0m\u001b[0;34m(\u001b[0m\u001b[0;34m\"Batch: %s Done.\"\u001b[0m \u001b[0;34m%\u001b[0m \u001b[0mbatch_num\u001b[0m\u001b[0;34m)\u001b[0m\u001b[0;34m\u001b[0m\u001b[0;34m\u001b[0m\u001b[0m\n\u001b[1;32m     16\u001b[0m     \u001b[0mbatch_num\u001b[0m \u001b[0;34m+=\u001b[0m \u001b[0;36m1\u001b[0m\u001b[0;34m\u001b[0m\u001b[0;34m\u001b[0m\u001b[0m\n",
      "\u001b[0;31mTypeError\u001b[0m: 'function' object is not subscriptable"
     ]
    }
   ],
   "source": [
    "ndl_model_otpt = []\n",
    "\n",
    "with nengo_model.net:\n",
    "  nengo_dl.configure_settings(stateful=False)\n",
    "\n",
    "with nengo_dl.Simulator(\n",
    "  nengo_model.net, minibatch_size=ngo_cfg[\"test_batch_size\"], progress_bar=True) as sim:\n",
    "  nengo_input = nengo_probes_obj_lst[0]\n",
    "  nengo_output = nengo_probes_obj_lst[-1]\n",
    "  batch_num=1\n",
    "  for batch in batches:\n",
    "    sim_data = sim.predict_on_batch({nengo_input: batch[0]})\n",
    "    for y_true, y_pred in zip(batch[1], sim_data[nengo_output]):\n",
    "      ndl_model_otpt.append((np.argmax([y_true]), np.argmax(y_pred[-1])))\n",
    "    print(\"Batch: %s Done.\" % batch_num)\n",
    "    batch_num += 1"
   ]
  },
  {
   "cell_type": "code",
   "execution_count": 5,
   "metadata": {},
   "outputs": [
    {
     "data": {
      "text/plain": [
       "array([[[9.96197984e-02, 9.65819955e-02, 1.01005420e-01, ...,\n",
       "         9.82575715e-02, 1.02512479e-01, 9.83741060e-02],\n",
       "        [9.96197984e-02, 9.65819955e-02, 1.01005420e-01, ...,\n",
       "         9.82575715e-02, 1.02512479e-01, 9.83741060e-02],\n",
       "        [9.96197984e-02, 9.65819955e-02, 1.01005420e-01, ...,\n",
       "         9.82575715e-02, 1.02512479e-01, 9.83741060e-02],\n",
       "        ...,\n",
       "        [3.45556648e-04, 3.84953874e-03, 3.60200927e-03, ...,\n",
       "         8.71231663e-04, 1.01647265e-02, 5.10533515e-04],\n",
       "        [3.12615361e-04, 3.94769432e-03, 3.36046540e-03, ...,\n",
       "         8.95059784e-04, 9.76752117e-03, 5.55261795e-04],\n",
       "        [3.69403715e-04, 4.27446421e-03, 4.61406028e-03, ...,\n",
       "         1.12302357e-03, 7.19577307e-03, 7.36240589e-04]],\n",
       "\n",
       "       [[9.96197984e-02, 9.65819955e-02, 1.01005420e-01, ...,\n",
       "         9.82575715e-02, 1.02512479e-01, 9.83741060e-02],\n",
       "        [9.96197984e-02, 9.65819955e-02, 1.01005420e-01, ...,\n",
       "         9.82575715e-02, 1.02512479e-01, 9.83741060e-02],\n",
       "        [9.96197984e-02, 9.65819955e-02, 1.01005420e-01, ...,\n",
       "         9.82575715e-02, 1.02512479e-01, 9.83741060e-02],\n",
       "        ...,\n",
       "        [3.09059815e-03, 1.51791781e-01, 1.82703170e-05, ...,\n",
       "         5.47150592e-08, 8.44263315e-01, 8.28039134e-04],\n",
       "        [2.58952635e-03, 1.28856435e-01, 1.68886272e-05, ...,\n",
       "         5.98742105e-08, 8.67728293e-01, 8.01210874e-04],\n",
       "        [2.06595403e-03, 1.10145755e-01, 1.46768234e-05, ...,\n",
       "         3.57089576e-08, 8.87132049e-01, 6.36461482e-04]],\n",
       "\n",
       "       [[9.96197984e-02, 9.65819955e-02, 1.01005420e-01, ...,\n",
       "         9.82575715e-02, 1.02512479e-01, 9.83741060e-02],\n",
       "        [9.96197984e-02, 9.65819955e-02, 1.01005420e-01, ...,\n",
       "         9.82575715e-02, 1.02512479e-01, 9.83741060e-02],\n",
       "        [9.96197984e-02, 9.65819955e-02, 1.01005420e-01, ...,\n",
       "         9.82575715e-02, 1.02512479e-01, 9.83741060e-02],\n",
       "        ...,\n",
       "        [3.95841375e-02, 2.82365561e-01, 5.51198330e-03, ...,\n",
       "         3.66340764e-03, 4.45828617e-01, 2.10303515e-01],\n",
       "        [3.56131867e-02, 2.54409075e-01, 7.72713916e-03, ...,\n",
       "         3.77522921e-03, 4.82112676e-01, 2.02955425e-01],\n",
       "        [3.57900821e-02, 2.78426111e-01, 5.72686316e-03, ...,\n",
       "         3.63513525e-03, 4.63149041e-01, 2.02258915e-01]],\n",
       "\n",
       "       ...,\n",
       "\n",
       "       [[9.96197984e-02, 9.65819955e-02, 1.01005420e-01, ...,\n",
       "         9.82575715e-02, 1.02512479e-01, 9.83741060e-02],\n",
       "        [9.96197984e-02, 9.65819955e-02, 1.01005420e-01, ...,\n",
       "         9.82575715e-02, 1.02512479e-01, 9.83741060e-02],\n",
       "        [9.96197984e-02, 9.65819955e-02, 1.01005420e-01, ...,\n",
       "         9.82575715e-02, 1.02512479e-01, 9.83741060e-02],\n",
       "        ...,\n",
       "        [2.51283776e-03, 1.48898107e-04, 1.41357174e-02, ...,\n",
       "         8.74412362e-05, 6.72141323e-05, 8.97976395e-04],\n",
       "        [2.78512272e-03, 7.80006667e-05, 1.16519863e-02, ...,\n",
       "         9.12691103e-05, 4.06264553e-05, 5.86718379e-04],\n",
       "        [3.31665785e-03, 1.39210228e-04, 1.73588637e-02, ...,\n",
       "         1.10841349e-04, 6.09552153e-05, 8.43998860e-04]],\n",
       "\n",
       "       [[9.96197984e-02, 9.65819955e-02, 1.01005420e-01, ...,\n",
       "         9.82575715e-02, 1.02512479e-01, 9.83741060e-02],\n",
       "        [9.96197984e-02, 9.65819955e-02, 1.01005420e-01, ...,\n",
       "         9.82575715e-02, 1.02512479e-01, 9.83741060e-02],\n",
       "        [9.96197984e-02, 9.65819955e-02, 1.01005420e-01, ...,\n",
       "         9.82575715e-02, 1.02512479e-01, 9.83741060e-02],\n",
       "        ...,\n",
       "        [6.42996235e-03, 7.82322168e-05, 5.94018167e-03, ...,\n",
       "         3.34028363e-01, 3.25111032e-04, 3.50195223e-05],\n",
       "        [6.98834425e-03, 6.76880591e-05, 4.63889493e-03, ...,\n",
       "         3.40756595e-01, 2.53809558e-04, 3.47463974e-05],\n",
       "        [6.29376667e-03, 9.17846046e-05, 5.27968910e-03, ...,\n",
       "         3.68811309e-01, 3.00718151e-04, 3.49897382e-05]],\n",
       "\n",
       "       [[9.96197984e-02, 9.65819955e-02, 1.01005420e-01, ...,\n",
       "         9.82575715e-02, 1.02512479e-01, 9.83741060e-02],\n",
       "        [9.96197984e-02, 9.65819955e-02, 1.01005420e-01, ...,\n",
       "         9.82575715e-02, 1.02512479e-01, 9.83741060e-02],\n",
       "        [9.96197984e-02, 9.65819955e-02, 1.01005420e-01, ...,\n",
       "         9.82575715e-02, 1.02512479e-01, 9.83741060e-02],\n",
       "        ...,\n",
       "        [3.00636515e-07, 1.85073316e-06, 1.60667289e-03, ...,\n",
       "         4.96976078e-03, 5.58749707e-05, 1.52915542e-03],\n",
       "        [1.97091396e-07, 2.59206331e-06, 2.15024292e-03, ...,\n",
       "         5.96980238e-03, 7.73210922e-05, 1.45426008e-03],\n",
       "        [1.87600349e-07, 1.78616017e-06, 1.58896425e-03, ...,\n",
       "         3.35145486e-03, 6.81716192e-05, 1.23911933e-03]]], dtype=float32)"
      ]
     },
     "execution_count": 5,
     "metadata": {},
     "output_type": "execute_result"
    }
   ],
   "source": [
    "sim_data[nengo_output]"
   ]
  },
  {
   "cell_type": "code",
   "execution_count": null,
   "metadata": {},
   "outputs": [],
   "source": []
  }
 ],
 "metadata": {
  "kernelspec": {
   "display_name": "Python 3",
   "language": "python",
   "name": "python3"
  },
  "language_info": {
   "codemirror_mode": {
    "name": "ipython",
    "version": 3
   },
   "file_extension": ".py",
   "mimetype": "text/x-python",
   "name": "python",
   "nbconvert_exporter": "python",
   "pygments_lexer": "ipython3",
   "version": "3.7.7"
  }
 },
 "nbformat": 4,
 "nbformat_minor": 4
}
