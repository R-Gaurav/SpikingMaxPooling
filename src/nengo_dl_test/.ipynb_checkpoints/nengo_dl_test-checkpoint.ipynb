{
 "cells": [
  {
   "cell_type": "code",
   "execution_count": 1,
   "metadata": {
    "scrolled": false
   },
   "outputs": [
    {
     "name": "stderr",
     "output_type": "stream",
     "text": [
      "/home/rgaurav/miniconda3/envs/nengo-tf/lib/python3.7/site-packages/nengo_dl/converter.py:360: UserWarning: Layer '<class 'tensorflow.python.keras.layers.normalization_v2.BatchNormalization'>' already has a converter. Overwriting.\n",
      "  \"Layer '%s' already has a converter. Overwriting.\" % keras_layer\n"
     ]
    }
   ],
   "source": [
    "import _init_paths\n",
    "import nengo_dl\n",
    "import matplotlib.pyplot as plt\n",
    "import numpy as np\n",
    "import pathlib\n",
    "import pickle\n",
    "\n",
    "from configs.exp_configs import tf_exp_cfg as exp_cfg, nengo_dl_cfg as ngo_cfg\n",
    "from utils.base_utils.data_prep_utils import get_batches_of_cifar_data\n",
    "from utils.base_utils.exp_utils import collect_sim_data_spikes\n",
    "from utils.nengo_dl_utils import get_nengo_dl_model\n",
    "from utils.consts.dir_consts import EXP_OTPT_DIR"
   ]
  },
  {
   "cell_type": "markdown",
   "metadata": {},
   "source": [
    "# Get the batched Test Data, the Nengo-DL Model"
   ]
  },
  {
   "cell_type": "code",
   "execution_count": 2,
   "metadata": {
    "scrolled": false
   },
   "outputs": [
    {
     "name": "stderr",
     "output_type": "stream",
     "text": [
      "/home/rgaurav/miniconda3/envs/nengo-tf/lib/python3.7/site-packages/nengo_dl/converter.py:555: UserWarning: Activation type <function softmax at 0x2b080a35f4d0> does not have a native Nengo equivalent; falling back to a TensorNode\n",
      "  \"falling back to a TensorNode\" % activation\n"
     ]
    }
   ],
   "source": [
    "batches = get_batches_of_cifar_data(ngo_cfg, is_test=True)\n",
    "nengo_model, nengo_probes_obj_lst = get_nengo_dl_model(\n",
    "    (32, 32, 3), exp_cfg, ngo_cfg)"
   ]
  },
  {
   "cell_type": "markdown",
   "metadata": {},
   "source": [
    "\n",
    "# Create the Simulator and do inference"
   ]
  },
  {
   "cell_type": "code",
   "execution_count": 3,
   "metadata": {
    "scrolled": false
   },
   "outputs": [
    {
     "name": "stdout",
     "output_type": "stream",
     "text": [
      "Build finished in 0:00:00                                                      \n",
      "Optimization finished in 0:00:00                                               \n",
      "Construction finished in 0:00:02                                               \n",
      "Batch: 1 Done.\n",
      "Batch: 2 Done.\n",
      "Batch: 3 Done.\n",
      "Batch: 4 Done.\n",
      "Batch: 5 Done.\n",
      "Batch: 6 Done.\n",
      "Batch: 7 Done.\n",
      "Batch: 8 Done.\n",
      "Batch: 9 Done.\n",
      "Batch: 10 Done.\n",
      "Batch: 11 Done.\n",
      "Batch: 12 Done.\n",
      "Batch: 13 Done.\n",
      "Batch: 14 Done.\n",
      "Batch: 15 Done.\n",
      "Batch: 16 Done.\n",
      "Batch: 17 Done.\n",
      "Batch: 18 Done.\n",
      "Batch: 19 Done.\n",
      "Batch: 20 Done.\n",
      "Batch: 21 Done.\n",
      "Batch: 22 Done.\n",
      "Batch: 23 Done.\n",
      "Batch: 24 Done.\n",
      "Batch: 25 Done.\n",
      "Batch: 26 Done.\n",
      "Batch: 27 Done.\n",
      "Batch: 28 Done.\n",
      "Batch: 29 Done.\n",
      "Batch: 30 Done.\n",
      "Batch: 31 Done.\n",
      "Batch: 32 Done.\n",
      "Batch: 33 Done.\n",
      "Batch: 34 Done.\n",
      "Batch: 35 Done.\n",
      "Batch: 36 Done.\n",
      "Batch: 37 Done.\n",
      "Batch: 38 Done.\n",
      "Batch: 39 Done.\n",
      "Batch: 40 Done.\n",
      "Batch: 41 Done.\n",
      "Batch: 42 Done.\n",
      "Batch: 43 Done.\n",
      "Batch: 44 Done.\n",
      "Batch: 45 Done.\n",
      "Batch: 46 Done.\n",
      "Batch: 47 Done.\n",
      "Batch: 48 Done.\n",
      "Batch: 49 Done.\n",
      "Batch: 50 Done.\n",
      "Batch: 51 Done.\n",
      "Batch: 52 Done.\n",
      "Batch: 53 Done.\n",
      "Batch: 54 Done.\n",
      "Batch: 55 Done.\n",
      "Batch: 56 Done.\n",
      "Batch: 57 Done.\n",
      "Batch: 58 Done.\n",
      "Batch: 59 Done.\n",
      "Batch: 60 Done.\n",
      "Batch: 61 Done.\n",
      "Batch: 62 Done.\n",
      "Batch: 63 Done.\n",
      "Batch: 64 Done.\n",
      "Batch: 65 Done.\n",
      "Batch: 66 Done.\n",
      "Batch: 67 Done.\n",
      "Batch: 68 Done.\n",
      "Batch: 69 Done.\n",
      "Batch: 70 Done.\n",
      "Batch: 71 Done.\n",
      "Batch: 72 Done.\n",
      "Batch: 73 Done.\n",
      "Batch: 74 Done.\n",
      "Batch: 75 Done.\n",
      "Batch: 76 Done.\n",
      "Batch: 77 Done.\n",
      "Batch: 78 Done.\n",
      "Batch: 79 Done.\n",
      "Batch: 80 Done.\n",
      "Batch: 81 Done.\n",
      "Batch: 82 Done.\n",
      "Batch: 83 Done.\n",
      "Batch: 84 Done.\n",
      "Batch: 85 Done.\n",
      "Batch: 86 Done.\n",
      "Batch: 87 Done.\n",
      "Batch: 88 Done.\n",
      "Batch: 89 Done.\n",
      "Batch: 90 Done.\n",
      "Batch: 91 Done.\n",
      "Batch: 92 Done.\n",
      "Batch: 93 Done.\n",
      "Batch: 94 Done.\n",
      "Batch: 95 Done.\n",
      "Batch: 96 Done.\n",
      "Batch: 97 Done.\n",
      "Batch: 98 Done.\n",
      "Batch: 99 Done.\n",
      "Batch: 100 Done.\n"
     ]
    }
   ],
   "source": [
    "ndl_model_otpt = []\n",
    "ndl_model_spks = []\n",
    "\n",
    "with nengo_model.net:\n",
    "  nengo_dl.configure_settings(stateful=False)\n",
    "\n",
    "with nengo_dl.Simulator(\n",
    "  nengo_model.net, minibatch_size=ngo_cfg[\"test_batch_size\"], progress_bar=True) as sim:\n",
    "  nengo_input = nengo_probes_obj_lst[0]\n",
    "  nengo_output = nengo_probes_obj_lst[-1]\n",
    "  batch_num=1\n",
    "  for batch in batches:\n",
    "    sim_data = sim.predict_on_batch({nengo_input: batch[0]})\n",
    "    for y_true, y_pred in zip(batch[1], sim_data[nengo_output]):\n",
    "      ndl_model_otpt.append((np.argmax([y_true]), np.argmax(y_pred[-1]), y_pred))\n",
    "    if batch_num == 1: # Collect only for one batch, else memory consumption is too high.\n",
    "      mdl_spks = collect_sim_data_spikes(nengo_probes_obj_lst, sim_data)\n",
    "      ndl_model_spks.extend(mdl_spks)\n",
    "    print(\"Batch: %s Done.\" % batch_num)\n",
    "    batch_num += 1"
   ]
  },
  {
   "cell_type": "code",
   "execution_count": null,
   "metadata": {},
   "outputs": [],
   "source": [
    "pickle.dump({\"acc_res\": ndl_model_otpt, \"spk_res\": ndl_model_spks}, \n",
    "            open(ngo_cfg[\"ndl_res_otpt_dir\"]+\"ndl_%s_results_sfr_%s_nstps_%s.p\" \n",
    "                % (exp_cfg[\"tf_model\"][\"name\"], ngo_cfg[\"sfr\"], ngo_cfg[\"n_steps\"]), \"wb\"))"
   ]
  },
  {
   "cell_type": "code",
   "execution_count": 4,
   "metadata": {},
   "outputs": [
    {
     "name": "stdout",
     "output_type": "stream",
     "text": [
      "0.6498\n"
     ]
    }
   ],
   "source": [
    "acc = 0\n",
    "for y_true, y_pred, _ in ndl_model_otpt:\n",
    "  if y_true == y_pred:\n",
    "    acc += 1\n",
    "\n",
    "print(acc/10000)"
   ]
  },
  {
   "cell_type": "code",
   "execution_count": null,
   "metadata": {},
   "outputs": [],
   "source": []
  }
 ],
 "metadata": {
  "kernelspec": {
   "display_name": "Python 3",
   "language": "python",
   "name": "python3"
  },
  "language_info": {
   "codemirror_mode": {
    "name": "ipython",
    "version": 3
   },
   "file_extension": ".py",
   "mimetype": "text/x-python",
   "name": "python",
   "nbconvert_exporter": "python",
   "pygments_lexer": "ipython3",
   "version": "3.7.7"
  }
 },
 "nbformat": 4,
 "nbformat_minor": 4
}
