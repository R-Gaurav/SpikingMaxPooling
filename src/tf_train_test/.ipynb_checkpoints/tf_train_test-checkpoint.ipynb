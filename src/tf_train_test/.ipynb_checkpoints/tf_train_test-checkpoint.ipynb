{
 "cells": [
  {
   "cell_type": "code",
   "execution_count": 1,
   "metadata": {},
   "outputs": [],
   "source": [
    "import _init_paths\n",
    "import matplotlib.pyplot as plt\n",
    "import tensorflow as tf\n",
    "import tensorflow_addons as tfa\n",
    "import numpy as np\n",
    "\n",
    "from utils.cnn_2d_utils import get_2d_cnn_model\n",
    "from utils.base_utils.data_prep_utils import get_cifar_10_data\n",
    "from exp_configs import tf_exp_cfg as exp_cfg"
   ]
  },
  {
   "cell_type": "markdown",
   "metadata": {},
   "source": [
    "# Get Data, Model, and Train it."
   ]
  },
  {
   "cell_type": "code",
   "execution_count": null,
   "metadata": {
    "scrolled": false
   },
   "outputs": [
    {
     "name": "stdout",
     "output_type": "stream",
     "text": [
      "******************************************************************************************\n",
      "Model: \"model\"\n",
      "_________________________________________________________________\n",
      "Layer (type)                 Output Shape              Param #   \n",
      "=================================================================\n",
      "input_1 (InputLayer)         [(None, 32, 32, 3)]       0         \n",
      "_________________________________________________________________\n",
      "conv2d (Conv2D)              (None, 32, 32, 32)        896       \n",
      "_________________________________________________________________\n",
      "conv2d_1 (Conv2D)            (None, 32, 32, 64)        18496     \n",
      "_________________________________________________________________\n",
      "conv2d_2 (Conv2D)            (None, 16, 16, 64)        36928     \n",
      "_________________________________________________________________\n",
      "conv2d_3 (Conv2D)            (None, 8, 8, 96)          55392     \n",
      "_________________________________________________________________\n",
      "conv2d_4 (Conv2D)            (None, 4, 4, 128)         110720    \n",
      "_________________________________________________________________\n",
      "flatten (Flatten)            (None, 2048)              0         \n",
      "_________________________________________________________________\n",
      "dense (Dense)                (None, 512)               1049088   \n",
      "_________________________________________________________________\n",
      "dense_1 (Dense)              (None, 512)               262656    \n",
      "_________________________________________________________________\n",
      "dense_2 (Dense)              (None, 10)                5130      \n",
      "=================================================================\n",
      "Total params: 1,539,306\n",
      "Trainable params: 1,539,306\n",
      "Non-trainable params: 0\n",
      "_________________________________________________________________\n",
      "None\n",
      "******************************************************************************************\n",
      "Epoch 1/64\n"
     ]
    }
   ],
   "source": [
    "train_x, train_y, test_x, test_y = get_cifar_10_data()\n",
    "img_rows, img_cols = train_x[0].shape[0], train_x[0].shape[1]\n",
    "model, _ = get_2d_cnn_model((img_rows, img_cols, 3), exp_cfg)\n",
    "model.compile(\n",
    "    loss=tfa.losses.sigmoid_focal_crossentropy,\n",
    "    optimizer=tf.keras.optimizers.Adam(lr=exp_cfg[\"lr\"]),\n",
    "    metrics=[\"accuracy\"])\n",
    "print(\"*\"*90)\n",
    "print(model.summary())\n",
    "print(\"*\"*90)\n",
    "model.fit(train_x, train_y, batch_size=exp_cfg[\"batch_size\"], \n",
    "          epochs=exp_cfg[\"epochs\"])"
   ]
  },
  {
   "cell_type": "code",
   "execution_count": null,
   "metadata": {},
   "outputs": [],
   "source": [
    "******************************************************************************************\n",
    "Epoch 1/64\n",
    "782/782 [==============================] - 11s 14ms/step - loss: 1.7278 - accuracy: 0.4277\n",
    "Epoch 2/64\n",
    "782/782 [==============================] - 7s 8ms/step - loss: 1.3746 - accuracy: 0.5598\n",
    "Epoch 3/64\n",
    "782/782 [==============================] - 7s 8ms/step - loss: 1.2085 - accuracy: 0.6215\n",
    "Epoch 4/64\n",
    "782/782 [==============================] - 7s 8ms/step - loss: 1.0727 - accuracy: 0.6695\n",
    "Epoch 5/64\n",
    "782/782 [==============================] - 7s 8ms/step - loss: 0.9535 - accuracy: 0.7154\n",
    "Epoch 6/64\n",
    "406/782 [==============>...............] - ETA: 3s - loss: 0.8344 - accuracy: 0.7566"
   ]
  }
 ],
 "metadata": {
  "kernelspec": {
   "display_name": "Python 3",
   "language": "python",
   "name": "python3"
  },
  "language_info": {
   "codemirror_mode": {
    "name": "ipython",
    "version": 3
   },
   "file_extension": ".py",
   "mimetype": "text/x-python",
   "name": "python",
   "nbconvert_exporter": "python",
   "pygments_lexer": "ipython3",
   "version": "3.7.7"
  }
 },
 "nbformat": 4,
 "nbformat_minor": 4
}
