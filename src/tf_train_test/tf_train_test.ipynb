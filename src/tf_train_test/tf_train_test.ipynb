{
 "cells": [
  {
   "cell_type": "code",
   "execution_count": 1,
   "metadata": {},
   "outputs": [],
   "source": [
    "import _init_paths\n",
    "import matplotlib.pyplot as plt\n",
    "import tensorflow as tf\n",
    "import tensorflow_addons as tfa\n",
    "import numpy as np\n",
    "\n",
    "from utils.cnn_2d_utils import get_2d_cnn_model\n",
    "from utils.base_utils.data_prep_utils import get_cifar_10_data\n",
    "from configs.exp_configs import tf_exp_cfg as exp_cfg"
   ]
  },
  {
   "cell_type": "markdown",
   "metadata": {},
   "source": [
    "# Get Data, Model, and Train it."
   ]
  },
  {
   "cell_type": "code",
   "execution_count": 2,
   "metadata": {
    "scrolled": true
   },
   "outputs": [
    {
     "name": "stdout",
     "output_type": "stream",
     "text": [
      "******************************************************************************************\n",
      "Model: \"model\"\n",
      "_________________________________________________________________\n",
      "Layer (type)                 Output Shape              Param #   \n",
      "=================================================================\n",
      "input_1 (InputLayer)         [(None, 32, 32, 3)]       0         \n",
      "_________________________________________________________________\n",
      "conv2d (Conv2D)              (None, 32, 32, 32)        896       \n",
      "_________________________________________________________________\n",
      "conv2d_1 (Conv2D)            (None, 32, 32, 64)        18496     \n",
      "_________________________________________________________________\n",
      "conv2d_2 (Conv2D)            (None, 16, 16, 64)        36928     \n",
      "_________________________________________________________________\n",
      "conv2d_3 (Conv2D)            (None, 8, 8, 96)          55392     \n",
      "_________________________________________________________________\n",
      "conv2d_4 (Conv2D)            (None, 4, 4, 128)         110720    \n",
      "_________________________________________________________________\n",
      "flatten (Flatten)            (None, 2048)              0         \n",
      "_________________________________________________________________\n",
      "dense (Dense)                (None, 512)               1049088   \n",
      "_________________________________________________________________\n",
      "dense_1 (Dense)              (None, 512)               262656    \n",
      "_________________________________________________________________\n",
      "dense_2 (Dense)              (None, 10)                5130      \n",
      "=================================================================\n",
      "Total params: 1,539,306\n",
      "Trainable params: 1,539,306\n",
      "Non-trainable params: 0\n",
      "_________________________________________________________________\n",
      "None\n",
      "******************************************************************************************\n",
      "Epoch 1/20\n",
      "250/250 [==============================] - 5s 19ms/step - loss: 0.4074 - accuracy: 0.4426\n",
      "Epoch 2/20\n",
      "250/250 [==============================] - 5s 19ms/step - loss: 0.2909 - accuracy: 0.6019\n",
      "Epoch 3/20\n",
      "250/250 [==============================] - 5s 19ms/step - loss: 0.2406 - accuracy: 0.6794\n",
      "Epoch 4/20\n",
      "250/250 [==============================] - 5s 19ms/step - loss: 0.2062 - accuracy: 0.7355\n",
      "Epoch 5/20\n",
      "250/250 [==============================] - 5s 19ms/step - loss: 0.1814 - accuracy: 0.7800\n",
      "Epoch 6/20\n",
      "250/250 [==============================] - 5s 19ms/step - loss: 0.1643 - accuracy: 0.8123\n",
      "Epoch 7/20\n",
      "250/250 [==============================] - 5s 19ms/step - loss: 0.1488 - accuracy: 0.8453\n",
      "Epoch 8/20\n",
      "250/250 [==============================] - 5s 20ms/step - loss: 0.1353 - accuracy: 0.8760\n",
      "Epoch 9/20\n",
      "250/250 [==============================] - 5s 19ms/step - loss: 0.1259 - accuracy: 0.8986\n",
      "Epoch 10/20\n",
      "250/250 [==============================] - 5s 19ms/step - loss: 0.1211 - accuracy: 0.9118\n",
      "Epoch 11/20\n",
      "250/250 [==============================] - 5s 19ms/step - loss: 0.1164 - accuracy: 0.9244\n",
      "Epoch 12/20\n",
      "250/250 [==============================] - 5s 19ms/step - loss: 0.1118 - accuracy: 0.9363\n",
      "Epoch 13/20\n",
      "250/250 [==============================] - 5s 19ms/step - loss: 0.1103 - accuracy: 0.9402\n",
      "Epoch 14/20\n",
      "250/250 [==============================] - 5s 20ms/step - loss: 0.1077 - accuracy: 0.9463\n",
      "Epoch 15/20\n",
      "250/250 [==============================] - 5s 20ms/step - loss: 0.1050 - accuracy: 0.9513\n",
      "Epoch 16/20\n",
      "250/250 [==============================] - 5s 20ms/step - loss: 0.1030 - accuracy: 0.9571\n",
      "Epoch 17/20\n",
      "250/250 [==============================] - 5s 19ms/step - loss: 0.1051 - accuracy: 0.9525\n",
      "Epoch 18/20\n",
      "250/250 [==============================] - 5s 19ms/step - loss: 0.1005 - accuracy: 0.9610\n",
      "Epoch 19/20\n",
      "250/250 [==============================] - 5s 20ms/step - loss: 0.1019 - accuracy: 0.9585\n",
      "Epoch 20/20\n",
      "250/250 [==============================] - 5s 19ms/step - loss: 0.0987 - accuracy: 0.9641\n"
     ]
    },
    {
     "data": {
      "text/plain": [
       "<tensorflow.python.keras.callbacks.History at 0x2ba467ed6350>"
      ]
     },
     "execution_count": 2,
     "metadata": {},
     "output_type": "execute_result"
    }
   ],
   "source": [
    "train_x, train_y, test_x, test_y = get_cifar_10_data()\n",
    "img_rows, img_cols = train_x[0].shape[0], train_x[0].shape[1]\n",
    "model, _ = get_2d_cnn_model((img_rows, img_cols, 3), exp_cfg)\n",
    "model.compile(\n",
    "    loss=tfa.losses.sigmoid_focal_crossentropy,\n",
    "    optimizer=tf.keras.optimizers.Adam(lr=exp_cfg[\"lr\"]),\n",
    "    metrics=[\"accuracy\"])\n",
    "print(\"*\"*90)\n",
    "print(model.summary())\n",
    "print(\"*\"*90)\n",
    "model.fit(train_x, train_y, batch_size=exp_cfg[\"batch_size\"], \n",
    "          epochs=exp_cfg[\"epochs\"])"
   ]
  },
  {
   "cell_type": "markdown",
   "metadata": {},
   "source": [
    "# Evaluate and Save the model weights"
   ]
  },
  {
   "cell_type": "code",
   "execution_count": 3,
   "metadata": {},
   "outputs": [
    {
     "name": "stdout",
     "output_type": "stream",
     "text": [
      "313/313 [==============================] - 6s 21ms/step - loss: 0.3610 - accuracy: 0.7238\n"
     ]
    }
   ],
   "source": [
    "eval_results = model.evaluate(test_x, test_y)\n",
    "model.save_weights(exp_cfg[\"tf_wts_otpt_dir\"]+\"/weights\")"
   ]
  }
 ],
 "metadata": {
  "kernelspec": {
   "display_name": "Python 3",
   "language": "python",
   "name": "python3"
  },
  "language_info": {
   "codemirror_mode": {
    "name": "ipython",
    "version": 3
   },
   "file_extension": ".py",
   "mimetype": "text/x-python",
   "name": "python",
   "nbconvert_exporter": "python",
   "pygments_lexer": "ipython3",
   "version": "3.7.7"
  }
 },
 "nbformat": 4,
 "nbformat_minor": 4
}
