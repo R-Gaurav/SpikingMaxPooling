{
 "cells": [
  {
   "cell_type": "code",
   "execution_count": 1,
   "metadata": {},
   "outputs": [],
   "source": [
    "import _init_paths\n",
    "import matplotlib.pyplot as plt\n",
    "import tensorflow as tf\n",
    "import tensorflow_addons as tfa\n",
    "import numpy as np\n",
    "\n",
    "from utils.cnn_2d_utils import get_2d_cnn_model\n",
    "from utils.base_utils.data_prep_utils import get_cifar_10_data\n",
    "from configs.exp_configs import tf_exp_cfg as exp_cfg"
   ]
  },
  {
   "cell_type": "markdown",
   "metadata": {},
   "source": [
    "# Get Data, Model, and Train it."
   ]
  },
  {
   "cell_type": "code",
   "execution_count": 2,
   "metadata": {
    "scrolled": false
   },
   "outputs": [
    {
     "name": "stdout",
     "output_type": "stream",
     "text": [
      "******************************************************************************************\n",
      "Model: \"model\"\n",
      "_________________________________________________________________\n",
      "Layer (type)                 Output Shape              Param #   \n",
      "=================================================================\n",
      "input_1 (InputLayer)         [(None, 32, 32, 3)]       0         \n",
      "_________________________________________________________________\n",
      "conv2d (Conv2D)              (None, 32, 32, 32)        896       \n",
      "_________________________________________________________________\n",
      "conv2d_1 (Conv2D)            (None, 32, 32, 64)        18496     \n",
      "_________________________________________________________________\n",
      "conv2d_2 (Conv2D)            (None, 16, 16, 64)        36928     \n",
      "_________________________________________________________________\n",
      "conv2d_3 (Conv2D)            (None, 8, 8, 96)          55392     \n",
      "_________________________________________________________________\n",
      "conv2d_4 (Conv2D)            (None, 4, 4, 128)         110720    \n",
      "_________________________________________________________________\n",
      "flatten (Flatten)            (None, 2048)              0         \n",
      "_________________________________________________________________\n",
      "dense (Dense)                (None, 512)               1049088   \n",
      "_________________________________________________________________\n",
      "dense_1 (Dense)              (None, 512)               262656    \n",
      "_________________________________________________________________\n",
      "dense_2 (Dense)              (None, 10)                5130      \n",
      "=================================================================\n",
      "Total params: 1,539,306\n",
      "Trainable params: 1,539,306\n",
      "Non-trainable params: 0\n",
      "_________________________________________________________________\n",
      "None\n",
      "******************************************************************************************\n",
      "Epoch 1/16\n",
      "782/782 [==============================] - 10s 13ms/step - loss: 0.4401 - accuracy: 0.4276\n",
      "Epoch 2/16\n",
      "782/782 [==============================] - 7s 8ms/step - loss: 0.3590 - accuracy: 0.5547\n",
      "Epoch 3/16\n",
      "782/782 [==============================] - 6s 8ms/step - loss: 0.3185 - accuracy: 0.6239\n",
      "Epoch 4/16\n",
      "782/782 [==============================] - 6s 8ms/step - loss: 0.2881 - accuracy: 0.6728\n",
      "Epoch 5/16\n",
      "782/782 [==============================] - 6s 8ms/step - loss: 0.2624 - accuracy: 0.7184\n",
      "Epoch 6/16\n",
      "782/782 [==============================] - 6s 8ms/step - loss: 0.2401 - accuracy: 0.7590\n",
      "Epoch 7/16\n",
      "782/782 [==============================] - 6s 8ms/step - loss: 0.2189 - accuracy: 0.7963\n",
      "Epoch 8/16\n",
      "782/782 [==============================] - 7s 8ms/step - loss: 0.1998 - accuracy: 0.8283\n",
      "Epoch 9/16\n",
      "782/782 [==============================] - 6s 8ms/step - loss: 0.1831 - accuracy: 0.8602\n",
      "Epoch 10/16\n",
      "782/782 [==============================] - 6s 8ms/step - loss: 0.1666 - accuracy: 0.8915\n",
      "Epoch 11/16\n",
      "782/782 [==============================] - 7s 8ms/step - loss: 0.1541 - accuracy: 0.9148\n",
      "Epoch 12/16\n",
      "782/782 [==============================] - 6s 8ms/step - loss: 0.1428 - accuracy: 0.9339\n",
      "Epoch 13/16\n",
      "782/782 [==============================] - 6s 8ms/step - loss: 0.1362 - accuracy: 0.9454\n",
      "Epoch 14/16\n",
      "782/782 [==============================] - 7s 8ms/step - loss: 0.1295 - accuracy: 0.9581\n",
      "Epoch 15/16\n",
      "782/782 [==============================] - 6s 8ms/step - loss: 0.1238 - accuracy: 0.9648\n",
      "Epoch 16/16\n",
      "782/782 [==============================] - 6s 8ms/step - loss: 0.1228 - accuracy: 0.9664\n"
     ]
    },
    {
     "data": {
      "text/plain": [
       "<tensorflow.python.keras.callbacks.History at 0x2b62ea50a1d0>"
      ]
     },
     "execution_count": 2,
     "metadata": {},
     "output_type": "execute_result"
    }
   ],
   "source": [
    "train_x, train_y, test_x, test_y = get_cifar_10_data()\n",
    "img_rows, img_cols = train_x[0].shape[0], train_x[0].shape[1]\n",
    "model, _ = get_2d_cnn_model((img_rows, img_cols, 3), exp_cfg)\n",
    "model.compile(\n",
    "    loss=tfa.losses.sigmoid_focal_crossentropy,\n",
    "    optimizer=tf.keras.optimizers.Adam(lr=exp_cfg[\"lr\"]),\n",
    "    metrics=[\"accuracy\"])\n",
    "print(\"*\"*90)\n",
    "print(model.summary())\n",
    "print(\"*\"*90)\n",
    "model.fit(train_x, train_y, batch_size=exp_cfg[\"batch_size\"], \n",
    "          epochs=exp_cfg[\"epochs\"])"
   ]
  },
  {
   "cell_type": "markdown",
   "metadata": {},
   "source": [
    "# Evaluate and Save the model weights"
   ]
  },
  {
   "cell_type": "code",
   "execution_count": 3,
   "metadata": {},
   "outputs": [
    {
     "name": "stdout",
     "output_type": "stream",
     "text": [
      "313/313 [==============================] - 1s 3ms/step - loss: 0.4608 - accuracy: 0.6504\n"
     ]
    }
   ],
   "source": [
    "eval_results = model.evaluate(test_x, test_y)\n",
    "model.save_weights(exp_cfg[\"tf_wts_otpt_dir\"]+\"/weights\")"
   ]
  },
  {
   "cell_type": "code",
   "execution_count": null,
   "metadata": {},
   "outputs": [],
   "source": []
  }
 ],
 "metadata": {
  "kernelspec": {
   "display_name": "Python 3",
   "language": "python",
   "name": "python3"
  },
  "language_info": {
   "codemirror_mode": {
    "name": "ipython",
    "version": 3
   },
   "file_extension": ".py",
   "mimetype": "text/x-python",
   "name": "python",
   "nbconvert_exporter": "python",
   "pygments_lexer": "ipython3",
   "version": "3.7.7"
  }
 },
 "nbformat": 4,
 "nbformat_minor": 4
}
